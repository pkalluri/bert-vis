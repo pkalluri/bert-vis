{
 "cells": [
  {
   "cell_type": "code",
   "execution_count": 1,
   "id": "acc792bd",
   "metadata": {},
   "outputs": [],
   "source": [
    "%load_ext autoreload\n",
    "%autoreload 2"
   ]
  },
  {
   "cell_type": "markdown",
   "id": "b4b257a2",
   "metadata": {},
   "source": [
    "## Parameters"
   ]
  },
  {
   "cell_type": "code",
   "execution_count": 2,
   "id": "b33cb351",
   "metadata": {},
   "outputs": [],
   "source": [
    "# Set parameters\n",
    "dimensionality_reduction = 'NMF'\n",
    "dimension = 2\n",
    "layers = ['arr_0', 'arr_1', 'arr_2', 'arr_3', 'arr_4', 'arr_5', 'arr_6', 'arr_7', 'arr_8', 'arr_9', 'arr_10', 'arr_11', 'arr_12']  # which layers to visualize\n",
    "# layers = ['arr_0']  # good for debugging\n"
   ]
  },
  {
   "cell_type": "code",
   "execution_count": 3,
   "id": "e03a15d6",
   "metadata": {},
   "outputs": [],
   "source": [
    "# Imports\n",
    "import warnings\n",
    "warnings.simplefilter(action='ignore', category=FutureWarning)\n",
    "import pickle\n",
    "import numpy as np\n",
    "import os\n",
    "from lucid.misc.io.showing import _display_html\n",
    "import sys\n",
    "project_path = os.path.abspath('../..')\n",
    "sys.path.insert(0, project_path)\n",
    "from src.utils import acts_util, vis_util\n",
    "\n",
    "# import torch\n",
    "from transformers import BertTokenizer, BertModel"
   ]
  },
  {
   "cell_type": "code",
   "execution_count": null,
   "id": "8364b2f6",
   "metadata": {},
   "outputs": [],
   "source": [
    "tokenizer = BertTokenizer.from_pretrained('bert-base-cased')\n",
    "model = BertModel.from_pretrained('bert-base-cased', output_hidden_states=True)\n"
   ]
  },
  {
   "cell_type": "code",
   "execution_count": null,
   "id": "cbc541a8",
   "metadata": {
    "scrolled": true
   },
   "outputs": [],
   "source": [
    "sents = [\"Hello, my dog is cute.\", 'I am happy!']\n",
    "\n",
    "inputs = tokenizer(*sents, return_tensors=\"pt\")\n",
    "outputs = model(**inputs)\n",
    "\n",
    "hidden_states = outputs.hidden_states\n",
    "token_embeddings = torch.stack(hidden_states, dim=0)\n",
    "token_embeddings = torch.squeeze(token_embeddings, dim=1)\n",
    "\n",
    "tokens = [tokenizer.decode(i).replace(' ', '') for i in inputs['input_ids'].tolist()[0]]\n",
    "acts = token_embeddings\n",
    "\n",
    "layer_to_acts = {f'arr_{i}':acts[i].detach().numpy() for i in range(len(acts))}"
   ]
  },
  {
   "cell_type": "markdown",
   "id": "dca5749b",
   "metadata": {},
   "source": [
    "## Reduce activations"
   ]
  },
  {
   "cell_type": "code",
   "execution_count": null,
   "id": "62d07a37",
   "metadata": {},
   "outputs": [],
   "source": [
    "layer_to_reduced_acts = {layer:acts_util.reduce_activations(acts, dimensionality_reduction, dimension) for (layer,acts) in layer_to_acts.items()}\n"
   ]
  },
  {
   "cell_type": "code",
   "execution_count": null,
   "id": "90ddb061",
   "metadata": {},
   "outputs": [],
   "source": [
    "layer_to_reduced_acts['arr_0'].shape"
   ]
  },
  {
   "cell_type": "markdown",
   "id": "a1b2dfb9",
   "metadata": {},
   "source": [
    "## Visualize activations"
   ]
  },
  {
   "cell_type": "code",
   "execution_count": null,
   "id": "d0d77f4a",
   "metadata": {
    "scrolled": false
   },
   "outputs": [],
   "source": [
    "layer_to_rgbs = {layer:vis_util.channels_to_rgbs(reduced_acts) for (layer,reduced_acts) in layer_to_reduced_acts.items()}\n"
   ]
  },
  {
   "cell_type": "code",
   "execution_count": null,
   "id": "d00fb75e",
   "metadata": {},
   "outputs": [],
   "source": [
    "layer_to_html = {}\n",
    "for layer, rgbs in layer_to_rgbs.items():\n",
    "    html = ''\n",
    "    for tok, rgb in zip(tokens, rgbs):\n",
    "        html += f\"<span style='background-color: rgba({rgb[0]},{rgb[1]},{rgb[2]},1);'> {tok} </span>\"\n",
    "    layer_to_html[layer] = html"
   ]
  },
  {
   "cell_type": "code",
   "execution_count": null,
   "id": "9691439d",
   "metadata": {
    "scrolled": false
   },
   "outputs": [],
   "source": [
    "for layer in layers:\n",
    "    print(layer)\n",
    "    _display_html(layer_to_html[layer])"
   ]
  },
  {
   "cell_type": "code",
   "execution_count": null,
   "id": "df56a12c",
   "metadata": {},
   "outputs": [],
   "source": []
  }
 ],
 "metadata": {
  "kernelspec": {
   "display_name": "Python 3",
   "language": "python",
   "name": "python3"
  },
  "language_info": {
   "codemirror_mode": {
    "name": "ipython",
    "version": 3
   },
   "file_extension": ".py",
   "mimetype": "text/x-python",
   "name": "python",
   "nbconvert_exporter": "python",
   "pygments_lexer": "ipython3",
   "version": "3.7.10"
  }
 },
 "nbformat": 4,
 "nbformat_minor": 5
}
