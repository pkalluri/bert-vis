{
 "cells": [
  {
   "cell_type": "code",
   "execution_count": null,
   "metadata": {},
   "outputs": [],
   "source": [
    "%load_ext autoreload\n",
    "%autoreload 2"
   ]
  },
  {
   "cell_type": "code",
   "execution_count": null,
   "metadata": {},
   "outputs": [],
   "source": [
    "# Parameters\n",
    "data_dir = '../../bucket/wikipedia/1000docs_19513contexts_30maxtokens'\n",
    "contexts_filename = 'contexts.pickle'\n",
    "acts_filename = 'activations.npz'\n",
    "view_vis_in_notebook = True  # If False, running the vis will instead generate an interactive html file and open it"
   ]
  },
  {
   "cell_type": "markdown",
   "metadata": {},
   "source": [
    "# Loading contexts"
   ]
  },
  {
   "cell_type": "code",
   "execution_count": null,
   "metadata": {},
   "outputs": [],
   "source": [
    "import pickle\n",
    "import numpy as np\n",
    "import os\n",
    "import sys\n",
    "project_path = os.path.abspath('../..')\n",
    "sys.path.insert(0, project_path)\n",
    "from src.utils import acts_util"
   ]
  },
  {
   "cell_type": "code",
   "execution_count": null,
   "metadata": {},
   "outputs": [],
   "source": [
    "# Load contexts and acts\n",
    "with open(os.path.join(os.path.abspath(data_dir), contexts_filename), 'rb') as f:\n",
    "    contexts_list = pickle.load(f)\n",
    "acts = np.load(os.path.join(data_dir, acts_filename))\n"
   ]
  },
  {
   "cell_type": "code",
   "execution_count": null,
   "metadata": {},
   "outputs": [],
   "source": [
    "layer_to_acts = {layer: acts[layer] for layer in acts.files}"
   ]
  },
  {
   "cell_type": "code",
   "execution_count": null,
   "metadata": {},
   "outputs": [],
   "source": [
    "# Reductions\n",
    "reduction, dim = ('PCA', 2)\n",
    "PCA_acts = {layer:acts_util.reduce_activations(acts, reduction, dim) for (layer,acts) in layer_to_acts.items()}"
   ]
  },
  {
   "cell_type": "markdown",
   "metadata": {},
   "source": [
    "# Properties of contexts"
   ]
  },
  {
   "cell_type": "code",
   "execution_count": null,
   "metadata": {},
   "outputs": [],
   "source": [
    "import nltk\n",
    "import re\n",
    "import pandas as pd\n",
    "from src.utils import context_util"
   ]
  },
  {
   "cell_type": "code",
   "execution_count": null,
   "metadata": {
    "scrolled": true
   },
   "outputs": [],
   "source": [
    "contexts = pd.DataFrame()\n",
    "# basics\n",
    "contexts['tokens'] = [toks for toks, position in contexts_list]\n",
    "contexts['position'] = [position for toks, position in contexts_list]\n",
    "contexts['context'] = contexts['tokens'].combine(contexts['position'], context_util.context_str)\n",
    "contexts['context length'] = contexts['tokens'].apply(len)\n",
    "contexts['abbreviated context'] = contexts['tokens'].combine(contexts['position'], context_util.abbreviated_context)\n",
    "contexts['abbreviated context html'] = contexts['tokens'].combine(contexts['position'], context_util.abbreviated_context_html)\n",
    "contexts['token'] = contexts['tokens'].combine(contexts['position'], lambda toks,position: toks[position])\n",
    "contexts['doc'] = contexts['tokens'].apply(lambda toks: ' '.join(toks))\n",
    "# activations\n",
    "for layer in PCA_acts:\n",
    "    contexts[f'{layer} PCA x'] = PCA_acts[layer][:,0]\n",
    "    contexts[f'{layer} PCA y'] = PCA_acts[layer][:,1]    \n",
    "# more\n",
    "def reverse_position(toks, position): return len(toks)-1-position\n",
    "contexts['position from end'] = contexts['tokens'].combine(contexts['position'], reverse_position)\n",
    "def POS_tag(toks, position): return nltk.pos_tag(toks)[position][1]\n",
    "contexts['POS'] = contexts['tokens'].combine(contexts['position'], POS_tag)\n",
    "contexts['CLS'] = contexts['token']=='[CLS]'\n",
    "contexts['SEP'] = contexts['token']=='[SEP]'\n",
    "contexts['.'] = contexts['token']=='.'\n",
    "contexts['token length'] = contexts['token'].apply(len)\n",
    "contexts['1st'] = contexts['position']==0\n",
    "contexts['nth'] = contexts['position']+1==contexts['context length']\n",
    "contexts['(n-1)th'] = contexts['position']+2==contexts['context length']\n",
    "def capitalized(tok): return bool(re.match('[A-Z]', tok))\n",
    "contexts['capitalized'] = contexts['token'].apply(is_capitalized)\n",
    "def partial(tok): return tok.startswith('##')\n",
    "contexts['partial'] = contexts['token'].apply(is_partial)\n",
    "\n",
    "contexts"
   ]
  },
  {
   "cell_type": "markdown",
   "metadata": {},
   "source": [
    "# Vis"
   ]
  },
  {
   "cell_type": "code",
   "execution_count": null,
   "metadata": {},
   "outputs": [],
   "source": [
    "from bokeh.plotting import figure, show, output_file\n",
    "from bokeh.io import output_notebook\n",
    "if view_vis_in_notebook:\n",
    "    output_notebook()\n",
    "else:\n",
    "    output_file('visualize-wiki.html')\n",
    "from bokeh.layouts import gridplot\n",
    "from bokeh.models import Div, HoverTool, ColumnDataSource, PanTool, BoxZoomTool, WheelZoomTool, ResetTool\n",
    "from bokeh.palettes import Inferno, Category10, Category20, Category20c, Pastel1, Pastel2, Bokeh, Plasma\n",
    "from bokeh.models.annotations import Legend, LegendItem\n",
    "import math\n",
    "from src.utils import vis_util"
   ]
  },
  {
   "cell_type": "code",
   "execution_count": null,
   "metadata": {
    "scrolled": false
   },
   "outputs": [],
   "source": [
    "combos_to_visualize = [\n",
    "    ('CLS', '.', 'SEP'), \n",
    "    ('1st', '(n-1)th', 'nth'), \n",
    "    ('token length',),\n",
    "    ('capitalized',), \n",
    "    ('partial',),\n",
    "    ('position',),\n",
    "]\n",
    "\n",
    "rows = []\n",
    "header = [None] + [Div(text=' / '.join(combo), align='center') for combo in combos_to_visualize]\n",
    "rows.append(header)\n",
    "\n",
    "# for layer_idx, layer in enumerate(['arr_0']):  # for quick debugging\n",
    "for layer_idx, layer in enumerate(['arr_0', 'arr_1', 'arr_3', 'arr_6', 'arr_9', 'arr_12']):\n",
    "    row = []\n",
    "    row.append(Div(text=layer, align=('center', 'center')))\n",
    "    for combo in combos_to_visualize:\n",
    "        # Make blank figure\n",
    "        p = figure(width=200, height=200)\n",
    "        p.axis.visible = False\n",
    "        p.grid.visible = False\n",
    "        if layer_idx == 0: # add legend\n",
    "            p.height=200\n",
    "            p.add_layout(Legend(orientation='horizontal', label_text_font_size='6pt', label_width=10), 'above')\n",
    "       \n",
    "        # Figure visualizes a few binary columns\n",
    "        if len(combo)>1:\n",
    "            # add all contexts in grey\n",
    "            source = ColumnDataSource(\n",
    "                { \n",
    "                    'x': contexts[f'{layer} PCA x'],\n",
    "                    'y': contexts[f'{layer} PCA y'],\n",
    "                    'token': contexts['token'],\n",
    "                    'abbreviated context': contexts['abbreviated context'],\n",
    "                    'abbreviated context html': contexts['abbreviated context html'],\n",
    "                    'context': contexts['context']\n",
    "                }\n",
    "            )\n",
    "            p.circle('x', 'y', color='lightgrey', source=source)\n",
    "            # add each columns' contexts in a color\n",
    "            for col_idx, col in enumerate(combo):\n",
    "                selected_contexts = contexts[ contexts[col] ]\n",
    "                source = ColumnDataSource(\n",
    "                    { \n",
    "                        'x': selected_contexts[f'{layer} PCA x'],\n",
    "                        'y': selected_contexts[f'{layer} PCA y'],\n",
    "                        'token': selected_contexts['token'],\n",
    "                        'abbreviated context': selected_contexts['abbreviated context'],\n",
    "                        'abbreviated context html': selected_contexts['abbreviated context html'],\n",
    "                        'context': selected_contexts['context'],\n",
    "                    }\n",
    "                )\n",
    "                if layer_idx == 0: # add legend\n",
    "                    p.circle('x', 'y', color=default_palette[col_idx], legend_label=col, source=source)\n",
    "                else:\n",
    "                    p.circle('x', 'y', color=default_palette[col_idx], source=source)\n",
    "\n",
    "        \n",
    "        # Figure visualizes one categorical column\n",
    "        else:\n",
    "            col = combo[0]\n",
    "            source = ColumnDataSource(\n",
    "                {\n",
    "                    'x': contexts[f'{layer} PCA x'], \n",
    "                    'y': contexts[f'{layer} PCA y'],\n",
    "                    'color': vis_util.categorical_list_to_color_list(contexts[col]),\n",
    "                    'legend label': contexts[col],\n",
    "                    'token': contexts['token'],\n",
    "                    'abbreviated context': contexts['abbreviated context'],\n",
    "                    'abbreviated context html': contexts['abbreviated context html'],\n",
    "                    'context': contexts['context']\n",
    "                }\n",
    "            )\n",
    "            if layer_idx == 0: # add legend\n",
    "                p.circle('x', 'y', color='color', legend_group='legend label', source=source)\n",
    "            else:\n",
    "                p.circle('x', 'y', color='color', source=source)\n",
    "            \n",
    "        # Add hover\n",
    "        hover = HoverTool(\n",
    "            tooltips = \n",
    "                \"\"\"<div style=\n",
    "                '\n",
    "                border-bottom-style:solid;\n",
    "                border-width:1px;\n",
    "                '\n",
    "                >@{abbreviated context html}</div>\"\"\"\n",
    "        )\n",
    "        p.tools = [PanTool(), WheelZoomTool(), BoxZoomTool(), ResetTool(), hover]\n",
    "        row.append(p)\n",
    "    \n",
    "    rows.append(row)\n",
    "grid = gridplot(rows)\n",
    "show(grid)"
   ]
  },
  {
   "cell_type": "code",
   "execution_count": null,
   "metadata": {},
   "outputs": [],
   "source": []
  }
 ],
 "metadata": {
  "kernelspec": {
   "display_name": "bert-vis",
   "language": "python",
   "name": "bert-vis"
  },
  "language_info": {
   "codemirror_mode": {
    "name": "ipython",
    "version": 3
   },
   "file_extension": ".py",
   "mimetype": "text/x-python",
   "name": "python",
   "nbconvert_exporter": "python",
   "pygments_lexer": "ipython3",
   "version": "3.7.9"
  }
 },
 "nbformat": 4,
 "nbformat_minor": 4
}
