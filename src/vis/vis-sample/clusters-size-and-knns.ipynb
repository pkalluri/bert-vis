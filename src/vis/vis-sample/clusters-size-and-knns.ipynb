{
 "cells": [
  {
   "cell_type": "markdown",
   "metadata": {},
   "source": [
    "# See a sample through BERT's eyes (clusters, size, and KNNs)"
   ]
  },
  {
   "cell_type": "code",
   "execution_count": null,
   "metadata": {},
   "outputs": [],
   "source": [
    "vis_legend = True\n",
    "vis_sample = True\n",
    "vis_size = True\n",
    "vis_components_knns = True\n",
    "vis_toks_knns = True"
   ]
  },
  {
   "cell_type": "markdown",
   "metadata": {
    "heading_collapsed": true
   },
   "source": [
    "## Imports"
   ]
  },
  {
   "cell_type": "code",
   "execution_count": null,
   "metadata": {
    "hidden": true
   },
   "outputs": [],
   "source": [
    "# Imports\n",
    "%load_ext autoreload\n",
    "%autoreload 2\n",
    "\n",
    "import warnings\n",
    "warnings.filterwarnings('ignore')\n",
    "warnings.simplefilter('ignore')\n",
    "import pickle\n",
    "import numpy as np\n",
    "from sklearn.cluster import KMeans\n",
    "import os\n",
    "from IPython.core.display import display, HTML\n",
    "import numpy as np\n",
    "from sklearn.neighbors import NearestNeighbors\n",
    "import glob\n",
    "import warnings\n",
    "from typing import List\n",
    "import sys\n",
    "sys.path.insert(0, os.path.abspath('../..'))\n",
    "from utils import acts_util, vis_util, html_util, context_util, bert_util\n",
    "import references as refs"
   ]
  },
  {
   "cell_type": "markdown",
   "metadata": {},
   "source": [
    "## Load tokens and activations"
   ]
  },
  {
   "cell_type": "code",
   "execution_count": null,
   "metadata": {},
   "outputs": [],
   "source": [
    "# set sample directory\n",
    "dir_path = os.path.abspath('../../../data/sentences/wells/')"
   ]
  },
  {
   "cell_type": "code",
   "execution_count": null,
   "metadata": {},
   "outputs": [],
   "source": [
    "# load toks and acts\n",
    "tokens_path = os.path.join(dir_path, refs.toks_fn)\n",
    "acts_path = os.path.join(dir_path, refs.acts_fn)\n",
    "\n",
    "doc = pickle.load(open(tokens_path, 'rb'))\n",
    "doc_acts = np.load(acts_path)\n",
    "layers = doc_acts.files\n",
    "\n",
    "print('\\nDocument:')\n",
    "print(' '.join(doc))\n",
    "print(f'\\nLayers: {\", \".join(layers)}')"
   ]
  },
  {
   "cell_type": "markdown",
   "metadata": {},
   "source": [
    "## Visualize sample"
   ]
  },
  {
   "cell_type": "code",
   "execution_count": null,
   "metadata": {
    "scrolled": true
   },
   "outputs": [],
   "source": [
    "# REDUCE ACTS\n",
    "# params\n",
    "reduction, dim = 'NMF', 5\n",
    "max_font_size = 10\n",
    "\n",
    "# reduce\n",
    "doc_components = {}\n",
    "doc_reduced_acts = {}\n",
    "for layer in layers:\n",
    "    _components, _reduced_acts = acts_util.fit_components(doc_acts[layer], reduction, dim)\n",
    "    doc_components[layer] = _components\n",
    "    doc_reduced_acts[layer] = _reduced_acts\n",
    "if vis_size:\n",
    "    doc_acts_sizes = {layer: np.linalg.norm(doc_acts[layer], axis=1) for layer in layers}"
   ]
  },
  {
   "cell_type": "code",
   "execution_count": null,
   "metadata": {},
   "outputs": [],
   "source": [
    "# GET K NEAREST NEIGHBORS FROM DATASET\n",
    "# params\n",
    "corpus_dir = '/Users/pkalluri/projects/clarity/bert-vis/bucket/wiki-large/wiki-split/'\n",
    "corpus_dir = os.path.abspath(corpus_dir)\n",
    "knn_fn = 'KNN_models_K5.pickle'\n",
    "n_neighbors = 5\n",
    "toks_of_interest = [0,1,2,3,4]\n",
    "\n",
    "if vis_components_knns or vis_toks_knns:\n",
    "    components_neighborhoods = {}\n",
    "    tokens_neighborhoods = {}\n",
    "    corpus_contexts = pickle.load( open(os.path.join(corpus_dir, refs.contexts_fn),'rb') )\n",
    "    with open(os.path.join(corpus_dir, knn_fn), 'rb') as f:\n",
    "        for layer in layers:\n",
    "            print(layer)\n",
    "\n",
    "            print('Loading nearest neighbors model.')\n",
    "            model = pickle.load(f)\n",
    "\n",
    "            print('Finding neighbors')\n",
    "            _neighborhoods_distances, _neighborhoods = model.kneighbors(doc_components[layer], n_neighbors=3, return_distance=True) # indices\n",
    "            _neighborhoods_and_distances = zip(_neighborhoods, _neighborhoods_distances)\n",
    "            components_neighborhoods[layer] = [[(corpus_contexts[idx], dist) for idx, dist in zip(neighborhood, neigh_distances)] for neighborhood, neigh_distances in _neighborhoods_and_distances] # contexts\n",
    "\n",
    "            _neighborhoods_distances, _neighborhoods = model.kneighbors(doc_acts[layer][toks_of_interest], n_neighbors=3, return_distance=True) # indices\n",
    "            _neighborhoods_and_distances = zip(_neighborhoods, _neighborhoods_distances)\n",
    "            tokens_neighborhoods[layer] = [[(corpus_contexts[idx], dist) for idx, dist in zip(neighborhood, neigh_distances)] for neighborhood, neigh_distances in _neighborhoods_and_distances] # contexts\n",
    "\n",
    "            del model"
   ]
  },
  {
   "cell_type": "code",
   "execution_count": null,
   "metadata": {},
   "outputs": [],
   "source": [
    "# VISUALIZE\n",
    "\n",
    "# legend\n",
    "pure_rgbs = vis_util.channels_to_rgbs(np.eye(dim))\n",
    "if vis_legend:\n",
    "    html = ''\n",
    "    for i, rgb in enumerate(pure_rgbs):\n",
    "        css = f'background-color: {html_util.rgb_to_color(*rgb)}'\n",
    "        html += html_util.style(f' {i} ', css=css)\n",
    "    print('Legend')\n",
    "    display(HTML(html))\n",
    "    print()\n",
    "\n",
    "# vis\n",
    "rgbs = {layer:vis_util.channels_to_rgbs(doc_reduced_acts[layer]) for layer in layers}\n",
    "for layer_idx, layer in enumerate(layers):\n",
    "    _rgbs = rgbs[layer]\n",
    "    if vis_size:\n",
    "        _sizes = doc_acts_sizes[layer]\n",
    "        _sizes = (_sizes - np.min(_sizes)) / (np.max(_sizes) - np.min(_sizes))\n",
    "    display(HTML(f'Layer {layer_idx}'))\n",
    "    \n",
    "    if vis_sample:\n",
    "        html = ''\n",
    "        for pos, tok in enumerate(doc):\n",
    "            if vis_size:\n",
    "                css = f'background-color: {html_util.rgb_to_color(*_rgbs[pos])}; font-size: {_sizes[pos]*max_font_size}pt;'\n",
    "            else:\n",
    "                css = f'background-color: {html_util.rgb_to_color(*_rgbs[pos])}; font-size: {max_font_size}pt;'\n",
    "            html += html_util.style(f' {tok} ', css=css)\n",
    "        display(HTML(html))\n",
    "\n",
    "    if vis_components_knns:\n",
    "        _neighborhoods = components_neighborhoods[layer]\n",
    "        for neighborhood_idx, (pure_rgb, neighborhood) in enumerate(zip(pure_rgbs, _neighborhoods)):\n",
    "            color = html_util.rgb_to_color(*pure_rgb)\n",
    "            display(HTML(f'Cluster {neighborhood_idx} KNNs:'))\n",
    "            for context, dist in neighborhood:\n",
    "                html = f'({dist:.2f}) ' + context_util.context_html(*context, marker=html_util.highlighter(color=color))\n",
    "                display(HTML(html))\n",
    "    if vis_toks_knns:\n",
    "        _neighborhoods = tokens_neighborhoods[layer]\n",
    "        for pos, neighborhood in zip(toks_of_interest, _neighborhoods):\n",
    "            display(HTML(f'Token {pos} ({doc[pos]}) KNNs:'))\n",
    "            for context, dist in neighborhood:\n",
    "                html = ''\n",
    "                html += f'({dist:.2f}) '\n",
    "                html += context_util.context_html(*context)\n",
    "                display(HTML(html))\n",
    "    print('.')\n",
    "    print('.')\n",
    "    print('.')            "
   ]
  },
  {
   "cell_type": "code",
   "execution_count": null,
   "metadata": {},
   "outputs": [],
   "source": []
  }
 ],
 "metadata": {
  "kernelspec": {
   "display_name": "bert-vis",
   "language": "python",
   "name": "bert-vis"
  },
  "language_info": {
   "codemirror_mode": {
    "name": "ipython",
    "version": 3
   },
   "file_extension": ".py",
   "mimetype": "text/x-python",
   "name": "python",
   "nbconvert_exporter": "python",
   "pygments_lexer": "ipython3",
   "version": "3.7.9"
  }
 },
 "nbformat": 4,
 "nbformat_minor": 4
}
