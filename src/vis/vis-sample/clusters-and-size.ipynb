{
 "cells": [
  {
   "cell_type": "markdown",
   "metadata": {},
   "source": [
    "# See a sample through BERT's eyes (clusters and size)"
   ]
  },
  {
   "cell_type": "markdown",
   "metadata": {},
   "source": [
    "## Imports"
   ]
  },
  {
   "cell_type": "code",
   "execution_count": null,
   "metadata": {},
   "outputs": [],
   "source": [
    "# Imports\n",
    "%load_ext autoreload\n",
    "%autoreload 2\n",
    "\n",
    "import warnings\n",
    "warnings.simplefilter(action='ignore', category=FutureWarning)\n",
    "import pickle\n",
    "import numpy as np\n",
    "from sklearn.cluster import KMeans\n",
    "import os\n",
    "from IPython.core.display import display, HTML\n",
    "import numpy as np\n",
    "\n",
    "import sys\n",
    "sys.path.insert(0, os.path.abspath('../..'))\n",
    "import references as refs\n",
    "from utils import acts_util, vis_util, html_util\n",
    "from utils.html_util import style, rgb_to_color"
   ]
  },
  {
   "cell_type": "markdown",
   "metadata": {},
   "source": [
    "## Load tokens and activations"
   ]
  },
  {
   "cell_type": "code",
   "execution_count": null,
   "metadata": {},
   "outputs": [],
   "source": [
    "# Set parameters\n",
    "dir_path = '../../../data/sentences/wells/'\n",
    "tokens_path = os.path.join(dir_path, refs.toks_fn)\n",
    "acts_path = os.path.join(dir_path, refs.acts_fn)"
   ]
  },
  {
   "cell_type": "code",
   "execution_count": null,
   "metadata": {},
   "outputs": [],
   "source": [
    "doc = pickle.load(open(tokens_path, 'rb'))\n",
    "print('\\nDocument:')\n",
    "print(' '.join(doc))\n",
    "\n",
    "doc_acts = np.load(acts_path)\n",
    "layers = doc_acts.files\n",
    "print(f'\\nLayers: {\", \".join(layers)}')"
   ]
  },
  {
   "cell_type": "markdown",
   "metadata": {},
   "source": [
    "## Visualize activations, reduced by NMF"
   ]
  },
  {
   "cell_type": "code",
   "execution_count": null,
   "metadata": {},
   "outputs": [],
   "source": [
    "# REDUCE ACTS\n",
    "dim_reduction, dim = 'NMF', 3\n",
    "vis_size = True\n",
    "max_font_size = 10\n",
    "\n",
    "reduced_acts = {layer: acts_util.reduce_acts(doc_acts[layer], dim_reduction, dim) for layer in layers}\n",
    "if vis_size:\n",
    "    acts_sizes = {layer: np.linalg.norm(doc_acts[layer], axis=1) for layer in layers}"
   ]
  },
  {
   "cell_type": "code",
   "execution_count": null,
   "metadata": {},
   "outputs": [],
   "source": [
    "# VISUALIZE\n",
    "\n",
    "# legend\n",
    "pure_directions = np.eye(dim)\n",
    "pure_rgbs = [list(vis_util.channels_to_rgbs(direction)[0]) for direction in pure_directions]\n",
    "html = ''\n",
    "for i, rgb in enumerate(pure_rgbs):\n",
    "    html += html_util.style(f' {i} ', css=f'background-color: {html_util.rgb_to_color(*rgb)}')\n",
    "print('Legend')\n",
    "display(HTML(html))\n",
    "\n",
    "# vis\n",
    "rgbs = {layer:vis_util.channels_to_rgbs(reduced_acts[layer]) for layer in layers}\n",
    "for layer in layers:\n",
    "    _rgbs = rgbs[layer]\n",
    "    if visualize_size:\n",
    "        _sizes = acts_sizes[layer]\n",
    "        _sizes = (_sizes - np.min(_sizes)) / (np.max(_sizes) - np.min(_sizes))  # normalize to range [0,1]\n",
    "    print(layer)\n",
    "    html = ''\n",
    "    for pos, tok in enumerate(doc):\n",
    "        if visualize_size:\n",
    "            css = f'background-color: {html_util.rgb_to_color(*_rgbs[pos])}; font-size: {_sizes[pos]*max_font_size}pt;'\n",
    "        else:\n",
    "            css = f'background-color: {html_util.rgb_to_color(*_rgbs[pos])}; font-size: {max_font_size}pt;'\n",
    "        html += html_util.style(f' {tok} ', css=css)\n",
    "    display(HTML(html))"
   ]
  },
  {
   "cell_type": "markdown",
   "metadata": {},
   "source": [
    "## Visualize activations, reduced by Kmeans"
   ]
  },
  {
   "cell_type": "code",
   "execution_count": null,
   "metadata": {},
   "outputs": [],
   "source": [
    "# CLUSTER\n",
    "n_clusters = 3\n",
    "cluster_labels = {layer:KMeans(n_clusters=n_clusters).fit(doc_acts[layer]).labels_ for layer in layers}"
   ]
  },
  {
   "cell_type": "code",
   "execution_count": null,
   "metadata": {
    "scrolled": false
   },
   "outputs": [],
   "source": [
    "# VISUALIZE\n",
    "\n",
    "# legend\n",
    "pure_rgbs = vis_util.channels_to_rgbs(np.eye(dim))\n",
    "html = ''\n",
    "for i, rgb in enumerate(pure_rgbs):\n",
    "    html += style(f' {i} ', css=f'background-color: {rgb_to_color(*rgb)}')\n",
    "print('Legend')\n",
    "display(HTML(html))\n",
    "\n",
    "# vis\n",
    "for layer in layers:\n",
    "    print(layer)\n",
    "    html = ''\n",
    "    for tok, cluster in zip(doc, cluster_labels[layer]):\n",
    "        rgb = pure_rgbs[cluster]\n",
    "        html += style(f' {tok} ', css=f'background-color: {rgb_to_color(*rgb)}; font-size: 10pt;')\n",
    "    display(HTML(html))"
   ]
  },
  {
   "cell_type": "code",
   "execution_count": null,
   "metadata": {},
   "outputs": [],
   "source": []
  }
 ],
 "metadata": {
  "kernelspec": {
   "display_name": "bert-vis",
   "language": "python",
   "name": "bert-vis"
  },
  "language_info": {
   "codemirror_mode": {
    "name": "ipython",
    "version": 3
   },
   "file_extension": ".py",
   "mimetype": "text/x-python",
   "name": "python",
   "nbconvert_exporter": "python",
   "pygments_lexer": "ipython3",
   "version": "3.7.9"
  }
 },
 "nbformat": 4,
 "nbformat_minor": 4
}
