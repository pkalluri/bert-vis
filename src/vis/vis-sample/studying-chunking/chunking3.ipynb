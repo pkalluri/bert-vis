{
 "cells": [
  {
   "cell_type": "markdown",
   "metadata": {},
   "source": [
    "# Params"
   ]
  },
  {
   "cell_type": "code",
   "execution_count": null,
   "metadata": {},
   "outputs": [],
   "source": [
    "# single_doc_dir = True\n",
    "# data_dir = '../../data/alice/sample3'\n"
   ]
  },
  {
   "cell_type": "code",
   "execution_count": null,
   "metadata": {},
   "outputs": [],
   "source": [
    "single_doc_dir = False\n",
    "data_dir = '../../../bucket/wikipedia/1000docs_19513contexts_30maxtokens/'\n",
    "which_doc = 101"
   ]
  },
  {
   "cell_type": "code",
   "execution_count": null,
   "metadata": {},
   "outputs": [],
   "source": [
    "# layers = ['arr_0','arr_3','arr_6', 'arr_9', 'arr_12']  # which layers to visualize\n",
    "layers = [f'arr_{i}' for i in range(13)]\n",
    "# layers = ['arr_0']  # good for debugging\n",
    "reductions = [('KernelPCA',2)]\n",
    "view_vis_as_html = False  # If True, running the vis will also generate an interactive html file and open it"
   ]
  },
  {
   "cell_type": "markdown",
   "metadata": {},
   "source": [
    "# Imports"
   ]
  },
  {
   "cell_type": "code",
   "execution_count": null,
   "metadata": {},
   "outputs": [],
   "source": [
    "import os\n",
    "import pickle\n",
    "import numpy as np\n",
    "import sys\n",
    "import math\n",
    "\n",
    "from bokeh.plotting import figure, show, output_file\n",
    "from bokeh.io import output_notebook\n",
    "output_notebook()\n",
    "if view_vis_as_html:\n",
    "    output_file('vis.html')\n",
    "from bokeh.models import Label, LabelSet, Div, ColumnDataSource, Legend, LegendItem, Range1d\n",
    "from bokeh.models import HoverTool, CustomJS, PanTool, BoxZoomTool, WheelZoomTool, ResetTool, TapTool, OpenURL\n",
    "from bokeh.models.glyphs import Circle\n",
    "from bokeh.layouts import gridplot\n",
    "from bokeh import events\n",
    "from bokeh.palettes import Inferno, Category10, Category20, Category20c, Pastel1, Pastel2, Bokeh, Plasma\n",
    "\n",
    "\n",
    "project_path = os.path.abspath('../../..')\n",
    "sys.path.insert(0, project_path)\n",
    "from src.utils import context_util, vis_util, html_util, acts_util"
   ]
  },
  {
   "cell_type": "markdown",
   "metadata": {},
   "source": [
    "# Load"
   ]
  },
  {
   "cell_type": "code",
   "execution_count": null,
   "metadata": {},
   "outputs": [],
   "source": [
    "if single_doc_dir:\n",
    "    tokens_path = os.path.join(data_dir, \"tokens.pickle\")\n",
    "    with open(tokens_path, 'rb') as f:\n",
    "        doc = pickle.load(f)\n",
    "    # which acts correspond to this doc:\n",
    "    doc_ids = range(len(doc))  \n",
    "\n",
    "else:\n",
    "    with open(os.path.join(os.path.abspath(data_dir), 'contexts.pickle'), 'rb') as f:\n",
    "        contexts = pickle.load(f)\n",
    "    doc_number = 101\n",
    "    # which acts correspond to this doc:\n",
    "    doc_ids = context_util.get_doc_ids(contexts, doc_number)\n",
    "    doc, _ = contexts[doc_ids[0]]\n",
    "\n",
    "print(doc)\n",
    "acts_path = os.path.join(data_dir, f\"activations.npz\")\n",
    "layer_to_acts = np.load(acts_path)"
   ]
  },
  {
   "cell_type": "markdown",
   "metadata": {},
   "source": [
    "# Calculate intertok distances"
   ]
  },
  {
   "cell_type": "code",
   "execution_count": null,
   "metadata": {},
   "outputs": [],
   "source": [
    "layer_to_intertok_distances = {layer:np.full((len(doc), len(doc)), 0.) for layer in layers}\n",
    "for layer in layers:\n",
    "    acts = layer_to_acts[layer]\n",
    "    intertok_distances = layer_to_intertok_distances[layer]\n",
    "    for positionA in range(len(doc)):\n",
    "        tokA_acts = acts[doc_ids[positionA]]\n",
    "        for positionB in range(positionA+1, len(doc)):\n",
    "            tokB_acts = acts[doc_ids[positionB]]\n",
    "            distance = np.linalg.norm(tokA_acts-tokB_acts)\n",
    "            intertok_distances[positionA, positionB] = distance\n",
    "            intertok_distances[positionB, positionA] = distance"
   ]
  },
  {
   "cell_type": "code",
   "execution_count": null,
   "metadata": {},
   "outputs": [],
   "source": [
    "# Normalize distances to be between 0 and 1\n",
    "\n",
    "all_layers_intertok_distances = np.array([distances for layer, distances in layer_to_intertok_distances.items()])\n",
    "max_val = np.max(all_layers_intertok_distances)\n",
    "print(all_layers_intertok_distances.shape)\n",
    "all_layers_intertok_distances /= max_val  # scale to be between 0 and 1\n",
    "\n",
    "layer_to_normalized_intertok_distances = {}\n",
    "for layer_idx, layer in enumerate(layers):\n",
    "    layer_to_normalized_intertok_distances[layer] = all_layers_intertok_distances[layer_idx]"
   ]
  },
  {
   "cell_type": "markdown",
   "metadata": {},
   "source": [
    "# Visualize"
   ]
  },
  {
   "cell_type": "code",
   "execution_count": null,
   "metadata": {},
   "outputs": [],
   "source": [
    "start_pos, end_pos = 0,-2\n",
    "phrase = doc[start_pos:end_pos]\n",
    "phrase_ids = doc_ids[start_pos:end_pos]"
   ]
  },
  {
   "cell_type": "code",
   "execution_count": null,
   "metadata": {
    "scrolled": false
   },
   "outputs": [],
   "source": [
    "plots = []\n",
    "for layer in layers:\n",
    "    intertok_distances = layer_to_normalized_intertok_distances[layer]\n",
    "    xs = [0]\n",
    "    dists = [0]\n",
    "    for tok_pos in range(start_pos+1, len(doc)+end_pos):\n",
    "        dists.append(f'{intertok_distances[tok_pos-1][tok_pos]:.2f}')\n",
    "        xs.append(xs[-1] + intertok_distances[tok_pos-1][tok_pos])\n",
    "#         xs.append(xs[-1] + tok_pos)\n",
    "    \n",
    "    toks_source = ColumnDataSource({'x': xs, 'dist': dists,  'y': [1.5]*len(phrase), 'label': phrase, \n",
    "                                    # 'alpha': [(1-tok_movement[tok_idx]) for tok_idx in range(len(phrase))],\n",
    "                                    'hover label': phrase\n",
    "                                   })    \n",
    "    p = vis_util.empty_plot(width=100, height=50)\n",
    "    tok_points = p.circle(x='x', y='y', color='red', size=5, source=toks_source)\n",
    "    p.circle(x='x', y='y', color=None, size=5, line_color='red', source=toks_source)\n",
    "#     p.add_layout(LabelSet(x='x', y='y', y_offset='4', text='label', text_font_size='10pt', text_align='center', source=toks_source))\n",
    "#     p.add_layout(LabelSet(x='x', y='y', y_offset='4', text='dist', text_font_size='10pt', text_align='center', source=toks_source))\n",
    "    wheelzoomtool = WheelZoomTool()\n",
    "    hover_tool = HoverTool(tooltips=vis_util.custom_bokeh_tooltip('hover label', border=False), renderers=[tok_points])\n",
    "    p.tools = [PanTool(), wheelzoomtool, ResetTool(), hover_tool]\n",
    "    p.toolbar.active_scroll = wheelzoomtool\n",
    "    p.x_range = Range1d(-1, len(phrase))\n",
    "    plots.append(p)\n",
    "    p.outline_line_color = None\n",
    "layer_labels = [Div(text=layer, align='start') for layer in layers]\n",
    "show(gridplot(zip(*[layer_labels, plots]), toolbar_options={'logo': None}))"
   ]
  },
  {
   "cell_type": "code",
   "execution_count": null,
   "metadata": {},
   "outputs": [],
   "source": []
  }
 ],
 "metadata": {
  "kernelspec": {
   "display_name": "bert-vis",
   "language": "python",
   "name": "bert-vis"
  },
  "language_info": {
   "codemirror_mode": {
    "name": "ipython",
    "version": 3
   },
   "file_extension": ".py",
   "mimetype": "text/x-python",
   "name": "python",
   "nbconvert_exporter": "python",
   "pygments_lexer": "ipython3",
   "version": "3.7.9"
  }
 },
 "nbformat": 4,
 "nbformat_minor": 4
}
