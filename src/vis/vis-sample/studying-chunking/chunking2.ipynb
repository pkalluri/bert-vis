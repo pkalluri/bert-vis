{
 "cells": [
  {
   "cell_type": "markdown",
   "metadata": {
    "heading_collapsed": true
   },
   "source": [
    "# Todo: This notebook is currently broken bc of some refactoring."
   ]
  },
  {
   "cell_type": "code",
   "execution_count": null,
   "metadata": {
    "hidden": true
   },
   "outputs": [],
   "source": [
    "# Parameters\n",
    "data_dir = '../../bucket/wikipedia/1000docs_19513contexts_30maxtokens/'\n",
    "contexts_filename = 'contexts.pickle'\n",
    "acts_filename = 'activations.npz'\n",
    "\n",
    "# layers = ['arr_0','arr_3','arr_6', 'arr_9', 'arr_12']  # which layers to visualize\n",
    "layers = [f'arr_{i}' for i in range(13)]\n",
    "# layers = ['arr_0']  # good for debugging"
   ]
  },
  {
   "cell_type": "markdown",
   "metadata": {
    "heading_collapsed": true
   },
   "source": [
    "# Setup"
   ]
  },
  {
   "cell_type": "code",
   "execution_count": null,
   "metadata": {
    "hidden": true
   },
   "outputs": [],
   "source": [
    "%load_ext autoreload\n",
    "%autoreload 2"
   ]
  },
  {
   "cell_type": "code",
   "execution_count": null,
   "metadata": {
    "hidden": true
   },
   "outputs": [],
   "source": [
    "# Imports\n",
    "# LOAD\n",
    "import pickle\n",
    "import numpy as np\n",
    "import math\n",
    "import os\n",
    "import sys\n",
    "project_path = os.path.abspath('../..')\n",
    "sys.path.insert(0, project_path)\n",
    "from src.utils import context_util, vis_util, html_util, acts_util\n",
    "# ANALYZE\n",
    "from sklearn.cluster import KMeans\n",
    "# VIS\n",
    "from IPython.core.display import display, HTML\n",
    "from bokeh.palettes import Inferno, Category10, Category20, Category20c, Pastel1, Pastel2, Bokeh, Plasma, Colorblind\n",
    "from bokeh.plotting import figure, show, output_file\n",
    "from bokeh.models import ColumnDataSource, Label, LabelSet, Range1d, Div, Range1d, HoverTool\n",
    "from bokeh.layouts import gridplot, row, column\n",
    "from bokeh.models.annotations import Legend, LegendItem\n",
    "from bokeh.io import output_notebook\n",
    "output_notebook()"
   ]
  },
  {
   "cell_type": "markdown",
   "metadata": {
    "heading_collapsed": true
   },
   "source": [
    "# Loading"
   ]
  },
  {
   "cell_type": "code",
   "execution_count": null,
   "metadata": {
    "hidden": true
   },
   "outputs": [],
   "source": [
    "# Load contexts and acts\n",
    "with open(os.path.join(os.path.abspath(data_dir), contexts_filename), 'rb') as f:\n",
    "    contexts = pickle.load(f)\n",
    "acts_npz = np.load(os.path.join(data_dir, acts_filename))\n",
    "layer_to_acts = {layer: acts_npz[layer] for layer in layers}"
   ]
  },
  {
   "cell_type": "markdown",
   "metadata": {
    "heading_collapsed": true
   },
   "source": [
    "# Helpers"
   ]
  },
  {
   "cell_type": "code",
   "execution_count": null,
   "metadata": {
    "hidden": true
   },
   "outputs": [],
   "source": [
    "def shift(vals):\n",
    "    return vals - np.nanmin(vals)\n",
    "\n",
    "def normalize(vals):\n",
    "    vals = vals - np.nanmin(vals) # starting at 0\n",
    "    vals = vals / np.nanmax(vals)  # between 0 and 1\n",
    "    return vals\n",
    "\n",
    "# # test\n",
    "# n = normalize(np.random.rand(10))\n",
    "# np.min(n), np.mean(n), np.max(n)"
   ]
  },
  {
   "cell_type": "markdown",
   "metadata": {
    "heading_collapsed": true
   },
   "source": [
    "# Choose single document"
   ]
  },
  {
   "cell_type": "code",
   "execution_count": null,
   "metadata": {
    "hidden": true
   },
   "outputs": [],
   "source": [
    "# One doc\n",
    "which_doc = 210\n",
    "doc_ids = context_util.get_doc_ids(contexts, which_doc)\n",
    "doc, _ = contexts[doc_ids[0]]\n",
    "print(context_util.doc_str(doc))"
   ]
  },
  {
   "cell_type": "code",
   "execution_count": null,
   "metadata": {
    "hidden": true
   },
   "outputs": [],
   "source": [
    "doc = [tok if tok!='Who' else f'Who{pos}' for pos, tok in enumerate(doc)]"
   ]
  },
  {
   "cell_type": "code",
   "execution_count": null,
   "metadata": {
    "hidden": true
   },
   "outputs": [],
   "source": [
    "layer_to_intertok_distances = {layer:np.full((len(doc), len(doc)), 0.) for layer in layers}\n",
    "for layer in layers:\n",
    "    acts = layer_to_acts[layer]\n",
    "    intertok_distances = layer_to_intertok_distances[layer]\n",
    "    for posA in range(len(doc)):\n",
    "        tokA_id = doc_ids[posA]\n",
    "        tokA_acts = acts[tokA_id]\n",
    "        for posB in range(posA+1, len(doc)):\n",
    "            tokB_id = doc_ids[posB]\n",
    "            tokB_acts = acts[tokB_id]\n",
    "            distance = np.linalg.norm(tokA_acts-tokB_acts)\n",
    "            intertok_distances[posA,posB] = distance\n",
    "            intertok_distances[posB,posA] = distance"
   ]
  },
  {
   "cell_type": "code",
   "execution_count": null,
   "metadata": {
    "hidden": true
   },
   "outputs": [],
   "source": [
    "# Normalize distances to be between 0 and 1\n",
    "all_layers_intertok_distances = np.array([distances for layer, distances in layer_to_intertok_distances.items()])\n",
    "max_val = np.max(all_layers_intertok_distances, axis=(1,2))[:,None,None]\n",
    "all_layers_intertok_distances = all_layers_intertok_distances / max_val  # scale to be between 0 and 1\n",
    "layer_to_normalized_intertok_distances = {}\n",
    "for layer_idx, layer in enumerate(layers):\n",
    "    layer_to_normalized_intertok_distances[layer] = all_layers_intertok_distances[layer_idx]"
   ]
  },
  {
   "cell_type": "markdown",
   "metadata": {
    "heading_collapsed": true
   },
   "source": [
    "# Token-token similarity"
   ]
  },
  {
   "cell_type": "code",
   "execution_count": null,
   "metadata": {
    "hidden": true
   },
   "outputs": [],
   "source": [
    "start_pos, end_pos = 2, -2\n",
    "phrase = doc[start_pos:end_pos]\n",
    "green_highlighter = lambda tok: html_util.highlight_html(tok, color='limegreen')\n",
    "palette = Category10[10]\n",
    "dim = 200\n",
    "\n",
    "# get pair evolutions\n",
    "pairs = []\n",
    "pair_distance = []\n",
    "for tok_i in range(len(phrase)):\n",
    "    for tok_j in range(tok_i+1, len(phrase)):\n",
    "        pairs.append((tok_i, tok_j))\n",
    "        pair_distance.append([layer_to_intertok_distances[layer][tok_i,tok_j] for layer in layers])\n",
    "\n",
    "# based on their evolutions, cluster the pairs into a few prototypical evolutions\n",
    "pair_cluster_assignments = KMeans(n_clusters=4).fit(pair_distance).labels_\n",
    "cluster_plots = {cluster: figure(width=dim, height=dim) for cluster in set(pair_cluster_assignments)}\n",
    "cluster_html = {cluster: '' for cluster in set(pair_cluster_assignments)}\n",
    "\n",
    "# plot\n",
    "main_plot = figure(width=dim, height=dim)\n",
    "main_plot.add_layout(Legend(orientation='horizontal', label_text_font_size='6pt', label_width=10), 'above')\n",
    "for pair_idx in range(len(pairs)):\n",
    "    pair = pairs[pair_idx]\n",
    "    distances = pair_distance[pair_idx]\n",
    "    cluster = pair_cluster_assignments[pair_idx]\n",
    "    main_plot.line(range(len(distances)), distances, color=palette[cluster])\n",
    "    cluster_plots[cluster].line(range(len(distances)), distances, color=palette[cluster])\n",
    "    cluster_html[cluster] += f'''\n",
    "        <div style= 'font-size:8pt;'>\n",
    "        {context_util.multi_context_str(doc, list(pair), marker=green_highlighter)}\n",
    "        </div>\n",
    "        '''\n",
    "plots = [main_plot]+list(cluster_plots.values())\n",
    "divs = [None] + [Div(text=html, width=800) for html in list(cluster_html.values())]\n",
    "# plot properties\n",
    "for plot in plots: # set axes\n",
    "    plot.xaxis.ticker = list(range(len(layers)))\n",
    "    plot.xaxis.major_label_overrides = {i:layer for i, layer in enumerate(layers)}\n",
    "    plot.xaxis.major_label_text_font_size = '6pt'\n",
    "    plot.x_range = Range1d(0,len(distances)-1)\n",
    "#     plot.y_range = Range1d(0.2,1.3)\n",
    "show(gridplot(zip(*[plots, divs])))"
   ]
  },
  {
   "cell_type": "code",
   "execution_count": null,
   "metadata": {
    "hidden": true
   },
   "outputs": [],
   "source": [
    "start_pos, end_pos = 2, -2\n",
    "phrase = doc[start_pos:end_pos]\n",
    "phrase_ids = doc_ids[start_pos:end_pos]"
   ]
  },
  {
   "cell_type": "code",
   "execution_count": null,
   "metadata": {
    "hidden": true
   },
   "outputs": [],
   "source": [
    "htmls = {layer: layer for layer in layers}\n",
    "plots = []\n",
    "for layer in layers:\n",
    "    intertok_distances = layer_to_normalized_intertok_distances[layer]\n",
    "    source = {'x':[], 'y':[], 'alpha':[], 'hover label':[]}\n",
    "    for posA in range(start_pos, len(doc)+end_pos):\n",
    "        for posB in range(start_pos, len(doc)+end_pos):\n",
    "            source['x'].append(doc[posA])\n",
    "            source['y'].append(doc[posB])\n",
    "            source['alpha'].append(1-intertok_distances[posA,posB])\n",
    "            source['hover label'].append(context_util.multi_context_str(doc, [posA, posB], marker=html_util.highlighter()))\n",
    "#     print(intertok_distances)\n",
    "    \n",
    "    p = figure(x_axis_location=\"above\", x_range=phrase, y_range=list(reversed(phrase)), width=200, height=200)\n",
    "    p.rect(x='x', y='y', width=.9, height=.9, color='purple', alpha='alpha', source=source)\n",
    "    p.grid.grid_line_color = None\n",
    "    p.axis.axis_line_color = None\n",
    "    p.axis.major_tick_line_color = None\n",
    "    p.axis.major_label_standoff = 0\n",
    "    p.xaxis.major_label_orientation = np.pi/3\n",
    "    p.axis.major_label_text_font_size = \"9px\"\n",
    "    p.tools = [HoverTool(tooltips=vis_util.custom_bokeh_tooltip('hover label'))]\n",
    "    plots.append(p)\n",
    "show(gridplot([[Div(text=layer, align='center') for layer in layers], plots]))"
   ]
  },
  {
   "cell_type": "code",
   "execution_count": null,
   "metadata": {
    "hidden": true,
    "scrolled": false
   },
   "outputs": [],
   "source": [
    "plots = []\n",
    "for layer in layers:\n",
    "    intertok_distances = layer_to_intertok_distances[layer]\n",
    "    tok_tok_distances = [intertok_distances[tok_pos,tok_pos+1] for tok_pos in range(start_pos, len(doc)+end_pos-1)]\n",
    "\n",
    "    hist, edges = np.histogram(tok_tok_distances, bins=30)\n",
    "    \n",
    "    p = figure(width=500, height=100)\n",
    "    p.quad(top = hist, bottom=0, left=edges[:-1], right=edges[1:], fill_color=\"purple\", line_color=\"white\", alpha=0.5)\n",
    "#     p.x_range = Range1d(0, 40)\n",
    "    p.y_range = Range1d(0,10)\n",
    "    plots.append(p)\n",
    "show(gridplot(zip(*[[Div(text=layer, align='center') for layer in layers], plots])))"
   ]
  },
  {
   "cell_type": "markdown",
   "metadata": {
    "heading_collapsed": true
   },
   "source": [
    "# Archive"
   ]
  },
  {
   "cell_type": "code",
   "execution_count": null,
   "metadata": {
    "hidden": true,
    "scrolled": false
   },
   "outputs": [],
   "source": [
    "htmls = {layer: layer for layer in layers}\n",
    "for layer in layers:\n",
    "    intertok_distances = layer_to_normalized_intertok_distances[layer]   \n",
    "    for tok_i in range(len(doc)):\n",
    "        tok_i_html = ''\n",
    "        for tok_j in range(len(doc)):\n",
    "            if tok_i != tok_j:\n",
    "                distance = intertok_distances[tok_i, tok_j]\n",
    "                color_intensity = int((1-distance) * 255)  # color faraway words\n",
    "#                 print(distance, color_intensity)\n",
    "                tok_i_html += f''' <span style='background-color: rgba(0,{color_intensity},0); font-size: 4pt;'>{doc[tok_j]} </span>'''\n",
    "            else:\n",
    "                tok_i_html += f''' <span style='background-color: rgba(0,255,255); font-size: 4pt;'>{doc[tok_i]} </span>'''\n",
    "        htmls[layer] += html_util.box(tok_i_html, css='background-color: black;')\n",
    "divs = [Div(text=html, width=800) for html in htmls.values()]\n",
    "show(column(divs))"
   ]
  },
  {
   "cell_type": "code",
   "execution_count": null,
   "metadata": {
    "hidden": true,
    "scrolled": true
   },
   "outputs": [],
   "source": [
    "htmls = {layer: layer for layer in layers}\n",
    "start_pos, end_pos = 2, -2\n",
    "sub_doc = doc[start_pos:end_pos]\n",
    "for layer in layers:\n",
    "    intertok_distances = layer_to_normalized_intertok_distances[layer][start_pos:end_pos,start_pos:end_pos]\n",
    "    for tok_i in range(len(sub_doc)):\n",
    "        tok_i_html = ''\n",
    "        for tok_j in range(len(sub_doc)):\n",
    "            if tok_i != tok_j:\n",
    "                distance = intertok_distances[tok_i, tok_j]\n",
    "                color_intensity = int((1-distance) * 255)  # color faraway words\n",
    "#                 print(distance, color_intensity)\n",
    "                tok_i_html += f''' <span style='background-color: rgba(0,{color_intensity},0)'>{sub_doc[tok_j]} </span>'''\n",
    "            else:\n",
    "                tok_i_html += f''' <span style='background-color: rgba(0,255,255)'>{sub_doc[tok_i]} </span>'''\n",
    "        htmls[layer] += html_util.box(tok_i_html, css='background-color: black;')\n",
    "divs = [Div(text=html, width=800) for html in htmls.values()]\n",
    "show(column(divs))"
   ]
  },
  {
   "cell_type": "markdown",
   "metadata": {
    "heading_collapsed": true
   },
   "source": [
    "# Token-to-next-token similarity"
   ]
  },
  {
   "cell_type": "code",
   "execution_count": null,
   "metadata": {
    "hidden": true
   },
   "outputs": [],
   "source": [
    "colors = Inferno[256][::15]\n",
    "p = figure(width=1000, height=300)\n",
    "p.add_layout(Legend(orientation='horizontal', label_text_font_size='6pt', label_width=10), 'above')\n",
    "for i,layer in enumerate(layers):\n",
    "    doc_acts = layer_to_acts[layer][doc_ids]\n",
    "    intertok_difference = [doc_acts[i]-doc_acts[i+1] for i in range(len(doc)-2)]\n",
    "    intertok_distance = [np.linalg.norm(direction) for direction in intertok_difference]\n",
    "    p.line(range(len(intertok_distance)), intertok_distance, color=colors[i], legend_label=layer)\n",
    "    p.circle(range(len(intertok_distance)), intertok_distance, color=colors[i])\n",
    "p.axis.visible = True\n",
    "p.xaxis.ticker = list(range(len(intertok_distance)))\n",
    "p.xaxis.major_label_overrides = {x:f'-{doc[x+1]}' for x in range(1, len(intertok_distance))}\n",
    "p.xaxis.major_label_overrides[0] = f'{doc[0]}-{doc[1]}'\n",
    "p.xaxis.major_label_text_font_size = '6pt'\n",
    "show(p)"
   ]
  },
  {
   "cell_type": "code",
   "execution_count": null,
   "metadata": {
    "hidden": true
   },
   "outputs": [],
   "source": [
    "colors = Inferno[256][::15]\n",
    "p = figure(width=1000, height=300)\n",
    "p.add_layout(Legend(orientation='horizontal', label_text_font_size='6pt', label_width=10), 'above')\n",
    "for i,layer in enumerate(layers):\n",
    "    doc_acts = layer_to_acts[layer][doc_ids]\n",
    "    intertok_difference = [doc_acts[i]-doc_acts[i+1] for i in range(len(doc)-2)]\n",
    "    intertok_distance = [np.linalg.norm(direction) for direction in intertok_difference]\n",
    "    intertok_distance = shift(intertok_distance)\n",
    "    p.line(range(len(intertok_distance)), intertok_distance, color=colors[i], legend_label=layer)\n",
    "    p.circle(range(len(intertok_distance)), intertok_distance, color=colors[i])\n",
    "p.axis.visible = True\n",
    "p.xaxis.ticker = list(range(len(intertok_distance)))\n",
    "p.xaxis.major_label_overrides = {x:f'-{doc[x+1]}' for x in range(1, len(intertok_distance))}\n",
    "p.xaxis.major_label_overrides[0] = f'{doc[0]}-{doc[1]}'\n",
    "p.xaxis.major_label_text_font_size = '6pt'\n",
    "show(p)"
   ]
  },
  {
   "cell_type": "code",
   "execution_count": null,
   "metadata": {
    "hidden": true
   },
   "outputs": [],
   "source": [
    "colors = Inferno[256][::15]\n",
    "column_plots = []\n",
    "for i,layer in enumerate(layers):\n",
    "    doc_acts = layer_to_acts[layer][doc_ids]\n",
    "    intertok_difference = [doc_acts[i]-doc_acts[i+1] for i in range(len(doc)-2)]\n",
    "    intertok_distance = [np.linalg.norm(direction) for direction in intertok_difference]\n",
    "    intertok_distance = shift(intertok_distance)\n",
    "    p = figure(width=225, height=50)\n",
    "    p.line(range(len(intertok_distance)), intertok_distance, color=colors[i])\n",
    "    p.circle(range(len(intertok_distance)), intertok_distance, color=colors[i])\n",
    "    p.axis.visible = True\n",
    "    p.xaxis.ticker = list(range(len(intertok_distance)))\n",
    "    p.xaxis.major_label_overrides = {x:f'-{doc[x+1]}' for x in range(1, len(intertok_distance))}\n",
    "    p.xaxis.major_label_overrides[0] = f'{doc[0]}-{doc[1]}'\n",
    "    # p.xaxis.major_label_orientation = math.pi/2\n",
    "    p.xaxis.major_label_text_font_size = '6pt'\n",
    "    column_plots.append(p)\n",
    "show(column(column_plots))"
   ]
  },
  {
   "cell_type": "code",
   "execution_count": null,
   "metadata": {
    "hidden": true,
    "scrolled": false
   },
   "outputs": [],
   "source": [
    "for layer in layers:\n",
    "    doc_acts = layer_to_acts[layer][doc_ids]\n",
    "    intertok_directions = [doc_acts[i]-doc_acts[i+1] for i in range(len(doc)-1)]\n",
    "    intertok_distances = [np.linalg.norm(direction) for direction in intertok_directions]\n",
    "    intertok_distances = normalize(intertok_distances)\n",
    "    \n",
    "    font_size = '9pt'\n",
    "    html = f''\n",
    "    # html = f\"<span style='background-color: rgba(0,0,0); font-size: {font_size};'> {tok} </span>\"\n",
    "    for tok, distance in zip(doc[1:],intertok_distances):\n",
    "        color_intensity = int((distance) * 255)  # color faraway words\n",
    "        html += f\"<span style='background-color: rgba({color_intensity},0,0); font-size: {font_size};'> {tok} </span>\"\n",
    "        # black indicates very similar to previous token\n",
    "    display(HTML(html))"
   ]
  },
  {
   "cell_type": "markdown",
   "metadata": {
    "heading_collapsed": true
   },
   "source": [
    "# Token-token similarity"
   ]
  },
  {
   "cell_type": "code",
   "execution_count": null,
   "metadata": {
    "hidden": true
   },
   "outputs": [],
   "source": [
    "def get_points_on_circle(n_points, radius=1):\n",
    "    radians = np.radians(np.linspace(360/n_points,360,n_points))\n",
    "    xy_points = radius * np.array([[math.cos(val),math.sin(val)] for val in radians])\n",
    "    return [[xy[0],xy[1]] for xy in xy_points]"
   ]
  },
  {
   "cell_type": "code",
   "execution_count": null,
   "metadata": {
    "hidden": true,
    "scrolled": false
   },
   "outputs": [],
   "source": [
    "tok_points = get_points_on_circle(len(doc)) # points\n",
    "tok_xs, tok_ys = zip(*tok_points)\n",
    "tok_xs, tok_ys = list(tok_xs), list(tok_ys)\n",
    "source = ColumnDataSource(\n",
    "    {\n",
    "    'tok_xs': tok_xs,\n",
    "    'tok_ys': tok_ys,\n",
    "    'toks': doc,\n",
    "#     'offset': [7]*(len(doc)//4) + [-30]*(len(doc)//2) + [7]*(len(doc)//4)\n",
    "    }\n",
    ")\n",
    "\n",
    "rows = []\n",
    "rows.append([Div(text=tok) for tok in doc])\n",
    "for layer in layers:\n",
    "    intertok_distances = np.empty((len(doc), len(doc)))\n",
    "    intertok_distances[:] = np.nan\n",
    "    doc_acts = layer_to_acts[layer][doc_ids]\n",
    "    # get distances\n",
    "    for tok1_idx in range(len(doc)):\n",
    "        for tok2_idx in range(len(doc)):\n",
    "            difference = doc_acts[tok1_idx]-doc_acts[tok2_idx]\n",
    "            intertok_distances[tok1_idx][tok2_idx] = np.linalg.norm(difference)\n",
    "    intertok_distances = normalize(intertok_distances)\n",
    "    # draw row of plots\n",
    "    plots = []\n",
    "    for tok1_idx in range(len(doc)):\n",
    "        p = figure(width=50, height=50)\n",
    "#         p.scatter(x='tok_xs', y='tok_ys', color='black', source=source)# draw points\n",
    "#         p.add_layout(LabelSet(x='tok_xs', y='tok_ys', text='toks', x_offset='offset', y_offset=0, source=source, render_mode='canvas', text_font_size='6pt'))\n",
    "        for tok2_idx in range(len(doc)):\n",
    "            distance = intertok_distances[tok1_idx][tok2_idx]\n",
    "            color_intensity = int((1-distance) * 255)  # color close connections\n",
    "            p.line(x=[tok_xs[tok1_idx], tok_xs[tok2_idx]], y=[tok_ys[tok1_idx], tok_ys[tok2_idx]], color=f'rgb({255-color_intensity},255,{255-color_intensity})', width=2)\n",
    "        p.grid.visible = False\n",
    "        p.axis.visible = False\n",
    "        plots.append(p)\n",
    "    rows.append(plots)\n",
    "show(gridplot(rows))"
   ]
  },
  {
   "cell_type": "markdown",
   "metadata": {
    "heading_collapsed": true
   },
   "source": [
    "# Dimensionality reduced"
   ]
  },
  {
   "cell_type": "code",
   "execution_count": null,
   "metadata": {
    "hidden": true
   },
   "outputs": [],
   "source": [
    "reduction, dim = 'NMF', 4\n",
    "layer_to_doc_reduced_acts = {layer:acts_util.reduce_activations(acts, reduction, dim) for layer,acts in layer_to_doc_acts.items()}\n",
    "pure_directions = np.eye(dim)"
   ]
  },
  {
   "cell_type": "code",
   "execution_count": null,
   "metadata": {
    "hidden": true
   },
   "outputs": [],
   "source": [
    "colors = Inferno[256][::15]\n",
    "p = figure(width=1000, height=300)\n",
    "p.add_layout(Legend(orientation='horizontal', label_text_font_size='6pt', label_width=10), 'above')\n",
    "for i,layer in enumerate(layers):\n",
    "    intertok_difference = [layer_to_doc_reduced_acts[layer][i]-layer_to_doc_reduced_acts[layer][i+1] for i in range(len(doc)-2)]\n",
    "    intertok_distance = [np.linalg.norm(direction) for direction in intertok_difference]\n",
    "#     mean = np.average(intertok_distance)\n",
    "#     intertok_distance = intertok_distance - mean\n",
    "    p.line(range(len(intertok_distance)), intertok_distance, color=colors[i], legend_label=layer)\n",
    "    p.circle(range(len(intertok_distance)), intertok_distance, color=colors[i])\n",
    "p.axis.visible = True\n",
    "p.xaxis.ticker = list(range(len(intertok_distance)))\n",
    "p.xaxis.major_label_overrides = {x:f'-{doc[x+1]}' for x in range(1, len(intertok_distance))}\n",
    "p.xaxis.major_label_overrides[0] = f'{doc[0]}-{doc[1]}'\n",
    "p.xaxis.major_label_text_font_size = '6pt'\n",
    "show(p)"
   ]
  },
  {
   "cell_type": "code",
   "execution_count": null,
   "metadata": {
    "hidden": true
   },
   "outputs": [],
   "source": [
    "layer_to_rgbs = {layer:vis_util.channels_to_rgbs(reduced_acts) for (layer,reduced_acts) in doc_reduced_acts.items()}\n",
    "pure_colors = [vis_util.channels_to_rgbs(direction) for direction in pure_directions]\n",
    "# pure_colors, layer_to_rgbs['arr_0'][1]"
   ]
  },
  {
   "cell_type": "code",
   "execution_count": null,
   "metadata": {
    "hidden": true
   },
   "outputs": [],
   "source": [
    "legend_html = ''\n",
    "for i, color in enumerate(pure_colors):\n",
    "    color_str = html_util.rgb_to_color(*color[0])\n",
    "    legend_html += html_util.highlight_html(f' {i} ', color=color_str)\n",
    "display(HTML(legend_html))\n",
    "\n",
    "for layer, rgbs in layer_to_rgbs.items():\n",
    "    html = ''\n",
    "    for tok, rgb in zip(doc, rgbs):\n",
    "        color_str = html_util.rgb_to_color(*rgb)\n",
    "        html += f\"<span style='background-color: rgba({rgb[0]},{rgb[1]},{rgb[2]},1);'> {tok} </span>\"\n",
    "    print(layer)\n",
    "    display(HTML(html))"
   ]
  },
  {
   "cell_type": "code",
   "execution_count": null,
   "metadata": {
    "hidden": true
   },
   "outputs": [],
   "source": [
    "n_clusters = 6\n",
    "pure_directions = np.eye(n_clusters)\n",
    "pure_rgbs = [list(vis_util.channels_to_rgbs(direction)[0]) for direction in pure_directions]\n",
    "legend_html = ''\n",
    "for i, rgb in enumerate(pure_rgbs):\n",
    "    color = html_util.rgb_to_color(*rgb)\n",
    "    legend_html += html_util.highlight_html(f' {i} ', color=color)\n",
    "display(HTML(legend_html))\n",
    "for layer in layers:\n",
    "    doc_acts = layer_to_doc_acts[layer]\n",
    "    doc_cluster_labels = KMeans(n_clusters=n_clusters).fit(doc_acts).labels_\n",
    "    html = ''\n",
    "    for tok, cluster_label in zip(doc, doc_cluster_labels):\n",
    "        rgb = pure_rgbs[cluster_label]\n",
    "        color = html_util.rgb_to_color(*rgb)\n",
    "        html += f\"<span style='background-color: {color};'> {tok} </span>\"\n",
    "    print(layer)\n",
    "    display(HTML(html))\n"
   ]
  },
  {
   "cell_type": "code",
   "execution_count": null,
   "metadata": {
    "hidden": true
   },
   "outputs": [],
   "source": []
  }
 ],
 "metadata": {
  "kernelspec": {
   "display_name": "bert-vis",
   "language": "python",
   "name": "bert-vis"
  },
  "language_info": {
   "codemirror_mode": {
    "name": "ipython",
    "version": 3
   },
   "file_extension": ".py",
   "mimetype": "text/x-python",
   "name": "python",
   "nbconvert_exporter": "python",
   "pygments_lexer": "ipython3",
   "version": "3.7.9"
  }
 },
 "nbformat": 4,
 "nbformat_minor": 4
}
