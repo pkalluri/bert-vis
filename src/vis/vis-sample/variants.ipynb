{
 "cells": [
  {
   "cell_type": "markdown",
   "metadata": {},
   "source": [
    "# Visualizing sample and all masked variants"
   ]
  },
  {
   "cell_type": "markdown",
   "metadata": {},
   "source": [
    "## Imports"
   ]
  },
  {
   "cell_type": "code",
   "execution_count": null,
   "metadata": {},
   "outputs": [],
   "source": [
    "# Imports\n",
    "%load_ext autoreload\n",
    "%autoreload 2\n",
    "import warnings\n",
    "warnings.filterwarnings('ignore')\n",
    "warnings.simplefilter('ignore')\n",
    "import pickle\n",
    "import numpy as np\n",
    "from sklearn.cluster import KMeans\n",
    "import os\n",
    "from IPython.core.display import display, HTML\n",
    "import numpy as np\n",
    "from scipy.spatial import distance_matrix\n",
    "from sklearn.neighbors import NearestNeighbors\n",
    "from sklearn.metrics.pairwise import cosine_distances\n",
    "import glob\n",
    "import warnings\n",
    "from typing import List\n",
    "from bokeh.layouts import gridplot\n",
    "from bokeh.plotting import figure, show, output_file\n",
    "from bokeh.io import output_notebook\n",
    "from bokeh.models import Div, HoverTool, ColumnDataSource, PanTool, BoxZoomTool, WheelZoomTool, ResetTool\n",
    "from IPython.core.display import display, HTML\n",
    "output_notebook()\n",
    "\n",
    "import sys\n",
    "sys.path.insert(0, os.path.abspath('../../..')) # -> vis -> src\n",
    "from src.utils import acts_util, vis_util, html_util, context_util, bert_util\n",
    "from src.utils.vis_util import Grid, plot_evolution\n",
    "from src import references as refs"
   ]
  },
  {
   "cell_type": "markdown",
   "metadata": {},
   "source": [
    "## Load tokens and activations"
   ]
  },
  {
   "cell_type": "code",
   "execution_count": null,
   "metadata": {},
   "outputs": [],
   "source": [
    "# set sample directory\n",
    "dir_path = os.path.abspath('../../../data/sentences/art/')"
   ]
  },
  {
   "cell_type": "code",
   "execution_count": null,
   "metadata": {
    "scrolled": true
   },
   "outputs": [],
   "source": [
    "# load toks and acts\n",
    "doc = pickle.load(open(os.path.join(dir_path, refs.toks_fn), 'rb'))\n",
    "doc_acts = np.load(os.path.join(dir_path, refs.acts_fn))\n",
    "layer_names = acts_npz.files\n",
    "layers = list(range(len(layer_names)))\n",
    "print('\\nDocument:')\n",
    "print(' '.join(doc))\n",
    "print(f'\\nLayers: {\", \".join(layer_names)}')"
   ]
  },
  {
   "cell_type": "code",
   "execution_count": null,
   "metadata": {
    "scrolled": true
   },
   "outputs": [],
   "source": [
    "# get all variants\n",
    "variants_docs = [bert_util.mask(tokens, (mask_idx,)) for mask_idx in range(len(tokens))]\n",
    "variants_contexts, variants_acts = bert_util.get_contexts_and_acts(custom_seqs, tokenized=True)"
   ]
  },
  {
   "cell_type": "code",
   "execution_count": null,
   "metadata": {},
   "outputs": [],
   "source": [
    "vis_act_size = True\n",
    "if vis_act_size:\n",
    "    variants_acts_sizes = [acts_util.normalize((np.linalg.norm(variants_acts[layer], axis=1))) for layer in layers]"
   ]
  },
  {
   "cell_type": "code",
   "execution_count": null,
   "metadata": {},
   "outputs": [],
   "source": [
    "# reductions for vis\n",
    "reduction_2d = 'KernelPCA'\n",
    "variants_acts_2d = [acts_util.reduce_acts(variants_acts[layer], reduction=reduction_2d, dim=2) for layer in layers]\n",
    "reduction, dim = 'KMeans', 6\n",
    "variants_acts_reduced = [acts_util.reduce_acts(variants_acts[layer], reduction=reduction, dim=dim) for layer in layers]"
   ]
  },
  {
   "cell_type": "markdown",
   "metadata": {},
   "source": [
    "## Vis evolution of clusters"
   ]
  },
  {
   "cell_type": "code",
   "execution_count": null,
   "metadata": {
    "scrolled": true
   },
   "outputs": [],
   "source": [
    "\n",
    "max_font_size = 100\n",
    "pure_rgbs = vis_util.channels_to_rgbs(np.eye(dim))\n",
    "labels = [np.argmax(variants_acts_reduced[layer], axis=1) for layer in layers]\n",
    "rgbs = [vis_util.channels_to_rgbs(reduced_acts) for reduced_acts in variants_acts_reduced]\n",
    "for layer in layers:\n",
    "    print(layer_names[layer])\n",
    "    clusters_contexts = []\n",
    "    clusters_acts_sizes = []\n",
    "    clusters = list(range(dim))\n",
    "    for cluster in clusters:\n",
    "        cluster_contexts_idxs = np.where(labels[layer]==cluster)[0]\n",
    "        cluster_contexts = [variants_contexts[context_idx] for context_idx in cluster_contexts_idxs]\n",
    "        cluster_contexts.sort(key=lambda context: context[1])\n",
    "        cluster_contexts.sort(key=lambda context: context[0][context[1]]=='[MASK]')\n",
    "        clusters_contexts.append(cluster_contexts)\n",
    "        clusters_acts_sizes.append(variants_acts_sizes[layer][cluster_contexts_idxs])\n",
    "    clusters.sort(key=lambda cluster: clusters_contexts[cluster])\n",
    "    for i, cluster in enumerate(clusters):\n",
    "        rgb = pure_rgbs[i]\n",
    "        marker = html_util.highlighter(color=html_util.rgb_to_color(*rgb))\n",
    "        contexts = clusters_contexts[cluster]\n",
    "        for context_idx, context in enumerate(contexts):\n",
    "            html = context_util.context_html(*context, marker=marker) \n",
    "            if vis_act_size:\n",
    "                html = html_util.font_size(html, clusters_acts_sizes[cluster][context_idx]*max_font_size)\n",
    "            display(HTML(html))\n",
    "    print('\\n\\n')"
   ]
  },
  {
   "cell_type": "markdown",
   "metadata": {},
   "source": [
    "## Visualize evolution of points"
   ]
  },
  {
   "cell_type": "code",
   "execution_count": null,
   "metadata": {
    "scrolled": false
   },
   "outputs": [],
   "source": [
    "points = variants_acts_2d\n",
    "labels = [context_util.context_html(*context) for context in variants_contexts]\n",
    "rgbs = [vis_util.channels_to_rgbs(reduced_acts) for reduced_acts in variants_acts_reduced]\n",
    "distance_mats = [cosine_distances(variants_acts[layer]) for layer in layers]\n",
    "\n",
    "grid = Grid(row_names=layer_names)\n",
    "grid.add_column(reduction, plot_evolution(points=points, labels=labels, colors=rgbs, distance_mats=None ))\n",
    "grid.show()"
   ]
  },
  {
   "cell_type": "code",
   "execution_count": null,
   "metadata": {},
   "outputs": [],
   "source": []
  }
 ],
 "metadata": {
  "kernelspec": {
   "display_name": "bert-vis",
   "language": "python",
   "name": "bert-vis"
  },
  "language_info": {
   "codemirror_mode": {
    "name": "ipython",
    "version": 3
   },
   "file_extension": ".py",
   "mimetype": "text/x-python",
   "name": "python",
   "nbconvert_exporter": "python",
   "pygments_lexer": "ipython3",
   "version": "3.7.9"
  }
 },
 "nbformat": 4,
 "nbformat_minor": 4
}
