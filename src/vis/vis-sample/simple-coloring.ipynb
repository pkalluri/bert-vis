{
 "cells": [
  {
   "cell_type": "markdown",
   "metadata": {},
   "source": [
    "# See a document through BERT's eyes"
   ]
  },
  {
   "cell_type": "markdown",
   "metadata": {},
   "source": [
    "# Imports"
   ]
  },
  {
   "cell_type": "code",
   "execution_count": null,
   "metadata": {},
   "outputs": [],
   "source": [
    "# Imports\n",
    "%load_ext autoreload\n",
    "%autoreload 2\n",
    "\n",
    "import warnings\n",
    "warnings.simplefilter(action='ignore', category=FutureWarning)\n",
    "import pickle\n",
    "import numpy as np\n",
    "from sklearn.cluster import KMeans\n",
    "import os\n",
    "from IPython.core.display import display, HTML\n",
    "import numpy as np\n",
    "\n",
    "import sys\n",
    "sys.path.insert(0, os.path.abspath('../..'))\n",
    "from utils import acts_util, vis_util, html_util"
   ]
  },
  {
   "cell_type": "markdown",
   "metadata": {},
   "source": [
    "# Load tokens and activations"
   ]
  },
  {
   "cell_type": "code",
   "execution_count": null,
   "metadata": {},
   "outputs": [],
   "source": [
    "# Set parameters\n",
    "# dir_path = '../../../data/alice/sample3'\n",
    "dir_path = '../../../data/short-sentence/'"
   ]
  },
  {
   "cell_type": "code",
   "execution_count": null,
   "metadata": {},
   "outputs": [],
   "source": [
    "# Checking parameters are valid\n",
    "name = dir_path.split('/')[-1]\n",
    "print(f'Directory: \\'{name}\\'')\n",
    " \n",
    "tokens_path = os.path.join(dir_path, \"tokens.pickle\")\n",
    "print(f'Path to tokens: \\'{tokens_path}\\'')\n",
    "assert os.path.exists(tokens_path), f'File does not exist: {os.path.abspath(tokens_path)}'\n",
    "\n",
    "acts_path = os.path.join(dir_path, f\"activations.npz\")\n",
    "print(f'Path to reduced activations: \\'{acts_path}\\'')\n",
    "assert os.path.exists(acts_path), f'File does not exist: {os.path.abspath(acts_path)}'"
   ]
  },
  {
   "cell_type": "code",
   "execution_count": null,
   "metadata": {},
   "outputs": [],
   "source": [
    "with open(tokens_path, 'rb') as f:\n",
    "    tokens = pickle.load(f)\n",
    "\n",
    "doc = ' '.join(tokens)\n",
    "print('\\nDocument:')\n",
    "print(doc)\n",
    "\n",
    "layer_to_acts = np.load(acts_path)\n",
    "layers = layer_to_acts.files\n",
    "print(f'\\nLayers: {\", \".join(layers)}')"
   ]
  },
  {
   "cell_type": "markdown",
   "metadata": {},
   "source": [
    "# Visualize activations, reduced by NMF"
   ]
  },
  {
   "cell_type": "code",
   "execution_count": null,
   "metadata": {},
   "outputs": [],
   "source": [
    "# REDUCE ACTS\n",
    "dim_reduction, dim = 'NMF', 3\n",
    "visualize_size = True\n",
    "max_font_size = 10\n",
    "\n",
    "layer_to_reduced_acts = {layer:acts_util.fit_components(acts, dim_reduction, dim)[1] for (layer,acts) in layer_to_acts.items()}\n",
    "if visualize_size:\n",
    "    layer_to_acts_sizes = {layer: np.linalg.norm(acts, axis=1) for layer, acts in layer_to_acts.items()}"
   ]
  },
  {
   "cell_type": "code",
   "execution_count": null,
   "metadata": {},
   "outputs": [],
   "source": [
    "# VISUALIZE\n",
    "\n",
    "# legend\n",
    "pure_directions = np.eye(dim)\n",
    "pure_rgbs = [list(vis_util.channels_to_rgbs(direction)[0]) for direction in pure_directions]\n",
    "html = ''\n",
    "for i, rgb in enumerate(pure_rgbs):\n",
    "    css = f'background-color: {html_util.rgb_to_color(*rgb)}'\n",
    "    html += html_util.style(f' {i} ', css=css)\n",
    "print('Legend')\n",
    "display(HTML(html))\n",
    "\n",
    "# vis\n",
    "layer_to_rgbs = {layer:vis_util.channels_to_rgbs(reduced_acts) for layer,reduced_acts in layer_to_reduced_acts.items()}\n",
    "for layer in layers:\n",
    "    rgbs = layer_to_rgbs[layer]\n",
    "    if visualize_size:\n",
    "        sizes = layer_to_acts_sizes[layer]\n",
    "        normalized_sizes = (sizes - np.min(sizes)) / (np.max(sizes) - np.min(sizes))\n",
    "    print(layer)\n",
    "    html = ''\n",
    "    for tok_idx, tok in enumerate(tokens):\n",
    "        if visualize_size:\n",
    "            css = f'background-color: {html_util.rgb_to_color(*rgbs[tok_idx])}; font-size: {normalized_sizes[tok_idx]*max_font_size}pt;'\n",
    "        else:\n",
    "            css = f'background-color: {html_util.rgb_to_color(*rgbs[tok_idx])}; font-size: {max_font_size}pt;'\n",
    "        html += html_util.style(f' {tok} ', css=css)\n",
    "    display(HTML(html))"
   ]
  },
  {
   "cell_type": "markdown",
   "metadata": {},
   "source": [
    "# Visualize activations, reduced by Kmeans"
   ]
  },
  {
   "cell_type": "code",
   "execution_count": null,
   "metadata": {},
   "outputs": [],
   "source": [
    "# CLUSTER\n",
    "n_clusters = 3\n",
    "layer_to_clusters = {layer:KMeans(n_clusters=n_clusters).fit(acts).labels_ for (layer,acts) in layer_to_acts.items()}"
   ]
  },
  {
   "cell_type": "code",
   "execution_count": null,
   "metadata": {
    "scrolled": false
   },
   "outputs": [],
   "source": [
    "# VISUALIZE\n",
    "\n",
    "# legend\n",
    "pure_directions = np.eye(n_clusters)\n",
    "pure_rgbs = [list(vis_util.channels_to_rgbs(direction)[0]) for direction in pure_directions]\n",
    "html = ''\n",
    "for i, rgb in enumerate(pure_rgbs):\n",
    "    css = f'background-color: {html_util.rgb_to_color(*rgb)}'\n",
    "    html += html_util.style(f' {i} ', css=css)\n",
    "print('Legend')\n",
    "display(HTML(html))\n",
    "\n",
    "# vis\n",
    "for layer, clusters in layer_to_clusters.items():\n",
    "    print(layer)\n",
    "    html = ''\n",
    "    for tok, cluster in zip(tokens, clusters):\n",
    "        rgb = pure_rgbs[cluster]\n",
    "        css = f'background-color: {html_util.rgb_to_color(*rgb)}; font-size: 4pt;'\n",
    "        html += html_util.style(f' {tok} ', css=css)\n",
    "    display(HTML(html))"
   ]
  },
  {
   "cell_type": "code",
   "execution_count": null,
   "metadata": {},
   "outputs": [],
   "source": []
  },
  {
   "cell_type": "code",
   "execution_count": null,
   "metadata": {},
   "outputs": [],
   "source": []
  }
 ],
 "metadata": {
  "kernelspec": {
   "display_name": "bert-vis",
   "language": "python",
   "name": "bert-vis"
  },
  "language_info": {
   "codemirror_mode": {
    "name": "ipython",
    "version": 3
   },
   "file_extension": ".py",
   "mimetype": "text/x-python",
   "name": "python",
   "nbconvert_exporter": "python",
   "pygments_lexer": "ipython3",
   "version": "3.7.9"
  }
 },
 "nbformat": 4,
 "nbformat_minor": 4
}
