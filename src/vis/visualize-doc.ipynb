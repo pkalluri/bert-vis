{
 "cells": [
  {
   "cell_type": "markdown",
   "metadata": {},
   "source": [
    "# See a document through BERT's eyes"
   ]
  },
  {
   "cell_type": "markdown",
   "metadata": {},
   "source": [
    "## Parameters"
   ]
  },
  {
   "cell_type": "code",
   "execution_count": null,
   "metadata": {},
   "outputs": [],
   "source": [
    "# Set parameters\n",
    "dir_path = '../../data/alice/sample3'\n",
    "dimensionality_reduction = 'NMF'\n",
    "dimension = 6 "
   ]
  },
  {
   "cell_type": "code",
   "execution_count": null,
   "metadata": {},
   "outputs": [],
   "source": [
    "# Imports\n",
    "%load_ext autoreload\n",
    "%autoreload 2\n",
    "import warnings\n",
    "warnings.simplefilter(action='ignore', category=FutureWarning)\n",
    "import pickle\n",
    "import numpy as np\n",
    "import os\n",
    "from lucid.misc.io.showing import _display_html\n",
    "import sys\n",
    "project_path = os.path.abspath('../..')\n",
    "sys.path.insert(0, project_path)\n",
    "from src.utils import acts_util, vis_util"
   ]
  },
  {
   "cell_type": "code",
   "execution_count": null,
   "metadata": {},
   "outputs": [],
   "source": [
    "# Checking parameters are valid\n",
    "name = dir_path.split('/')[-1]\n",
    "print(f'Directory: \\'{name}\\'')\n",
    "\n",
    "tokens_path = os.path.join(dir_path, \"tokens.pickle\")\n",
    "print(f'Path to tokens: \\'{tokens_path}\\'')\n",
    "assert os.path.exists(tokens_path), f'File does not exist: {tokens_path}'\n",
    "\n",
    "acts_path = os.path.join(dir_path, f\"activations.npz\")\n",
    "print(f'Path to reduced activations: \\'{acts_path}\\'')\n",
    "assert os.path.exists(acts_path), f'File does not exist: {acts_path}'"
   ]
  },
  {
   "cell_type": "markdown",
   "metadata": {},
   "source": [
    "## Load tokens and activations"
   ]
  },
  {
   "cell_type": "code",
   "execution_count": null,
   "metadata": {},
   "outputs": [],
   "source": [
    "with open(tokens_path, 'rb') as f:\n",
    "    tokens = pickle.load(f)\n",
    "\n",
    "print('Tokens:')\n",
    "print(tokens)\n",
    "\n",
    "doc = ' '.join(tokens)\n",
    "print('\\nDocument:')\n",
    "print(doc)\n",
    "\n",
    "layer_to_acts = np.load(acts_path)\n",
    "layers = layer_to_acts.files\n",
    "print(f'\\nLayers: {\", \".join(layers)}')"
   ]
  },
  {
   "cell_type": "markdown",
   "metadata": {},
   "source": [
    "## Reduce activations"
   ]
  },
  {
   "cell_type": "code",
   "execution_count": null,
   "metadata": {},
   "outputs": [],
   "source": [
    "layer_to_reduced_acts = {layer:acts_util.reduce_activations(acts, dimensionality_reduction, dimension) for (layer,acts) in layer_to_acts.items()}\n"
   ]
  },
  {
   "cell_type": "markdown",
   "metadata": {},
   "source": [
    "## Visualize activations"
   ]
  },
  {
   "cell_type": "code",
   "execution_count": null,
   "metadata": {
    "scrolled": false
   },
   "outputs": [],
   "source": [
    "layer_to_rgbs = {layer:vis_util.channels_to_rgbs(reduced_acts) for (layer,reduced_acts) in layer_to_reduced_acts.items()}\n"
   ]
  },
  {
   "cell_type": "code",
   "execution_count": null,
   "metadata": {},
   "outputs": [],
   "source": [
    "layer_to_html = {}\n",
    "for layer, rgbs in layer_to_rgbs.items():\n",
    "    html = ''\n",
    "    for tok, rgb in zip(tokens, rgbs):\n",
    "        html += f\"<span style='background-color: rgba({rgb[0]},{rgb[1]},{rgb[2]},1);'> {tok} </span>\"\n",
    "    layer_to_html[layer] = html"
   ]
  },
  {
   "cell_type": "code",
   "execution_count": null,
   "metadata": {
    "scrolled": false
   },
   "outputs": [],
   "source": [
    "for layer in layers:\n",
    "    print(layer)\n",
    "    _display_html(layer_to_html[layer])"
   ]
  }
 ],
 "metadata": {
  "kernelspec": {
   "display_name": "bert-vis",
   "language": "python",
   "name": "bert-vis"
  },
  "language_info": {
   "codemirror_mode": {
    "name": "ipython",
    "version": 3
   },
   "file_extension": ".py",
   "mimetype": "text/x-python",
   "name": "python",
   "nbconvert_exporter": "python",
   "pygments_lexer": "ipython3",
   "version": "3.7.9"
  }
 },
 "nbformat": 4,
 "nbformat_minor": 4
}
