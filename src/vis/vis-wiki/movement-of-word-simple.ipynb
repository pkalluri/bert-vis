{
 "cells": [
  {
   "cell_type": "markdown",
   "metadata": {},
   "source": [
    "# Studying the evolution of tokens\n",
    "How do tokens evolve? Are they originally understood in a shallow way and then understood in richer ways?\n",
    "Rich in what sense? More similar surrounding words?"
   ]
  },
  {
   "cell_type": "code",
   "execution_count": 1,
   "metadata": {},
   "outputs": [],
   "source": [
    "%load_ext autoreload\n",
    "%autoreload 2"
   ]
  },
  {
   "cell_type": "code",
   "execution_count": 2,
   "metadata": {},
   "outputs": [],
   "source": [
    "view_vis_as_html = False"
   ]
  },
  {
   "cell_type": "code",
   "execution_count": 5,
   "metadata": {},
   "outputs": [
    {
     "data": {
      "text/html": [
       "\n",
       "    <div class=\"bk-root\">\n",
       "        <a href=\"https://bokeh.org\" target=\"_blank\" class=\"bk-logo bk-logo-small bk-logo-notebook\"></a>\n",
       "        <span id=\"1003\">Loading BokehJS ...</span>\n",
       "    </div>"
      ]
     },
     "metadata": {},
     "output_type": "display_data"
    },
    {
     "data": {
      "application/javascript": [
       "\n",
       "(function(root) {\n",
       "  function now() {\n",
       "    return new Date();\n",
       "  }\n",
       "\n",
       "  var force = true;\n",
       "\n",
       "  if (typeof root._bokeh_onload_callbacks === \"undefined\" || force === true) {\n",
       "    root._bokeh_onload_callbacks = [];\n",
       "    root._bokeh_is_loading = undefined;\n",
       "  }\n",
       "\n",
       "  var JS_MIME_TYPE = 'application/javascript';\n",
       "  var HTML_MIME_TYPE = 'text/html';\n",
       "  var EXEC_MIME_TYPE = 'application/vnd.bokehjs_exec.v0+json';\n",
       "  var CLASS_NAME = 'output_bokeh rendered_html';\n",
       "\n",
       "  /**\n",
       "   * Render data to the DOM node\n",
       "   */\n",
       "  function render(props, node) {\n",
       "    var script = document.createElement(\"script\");\n",
       "    node.appendChild(script);\n",
       "  }\n",
       "\n",
       "  /**\n",
       "   * Handle when an output is cleared or removed\n",
       "   */\n",
       "  function handleClearOutput(event, handle) {\n",
       "    var cell = handle.cell;\n",
       "\n",
       "    var id = cell.output_area._bokeh_element_id;\n",
       "    var server_id = cell.output_area._bokeh_server_id;\n",
       "    // Clean up Bokeh references\n",
       "    if (id != null && id in Bokeh.index) {\n",
       "      Bokeh.index[id].model.document.clear();\n",
       "      delete Bokeh.index[id];\n",
       "    }\n",
       "\n",
       "    if (server_id !== undefined) {\n",
       "      // Clean up Bokeh references\n",
       "      var cmd = \"from bokeh.io.state import curstate; print(curstate().uuid_to_server['\" + server_id + \"'].get_sessions()[0].document.roots[0]._id)\";\n",
       "      cell.notebook.kernel.execute(cmd, {\n",
       "        iopub: {\n",
       "          output: function(msg) {\n",
       "            var id = msg.content.text.trim();\n",
       "            if (id in Bokeh.index) {\n",
       "              Bokeh.index[id].model.document.clear();\n",
       "              delete Bokeh.index[id];\n",
       "            }\n",
       "          }\n",
       "        }\n",
       "      });\n",
       "      // Destroy server and session\n",
       "      var cmd = \"import bokeh.io.notebook as ion; ion.destroy_server('\" + server_id + \"')\";\n",
       "      cell.notebook.kernel.execute(cmd);\n",
       "    }\n",
       "  }\n",
       "\n",
       "  /**\n",
       "   * Handle when a new output is added\n",
       "   */\n",
       "  function handleAddOutput(event, handle) {\n",
       "    var output_area = handle.output_area;\n",
       "    var output = handle.output;\n",
       "\n",
       "    // limit handleAddOutput to display_data with EXEC_MIME_TYPE content only\n",
       "    if ((output.output_type != \"display_data\") || (!Object.prototype.hasOwnProperty.call(output.data, EXEC_MIME_TYPE))) {\n",
       "      return\n",
       "    }\n",
       "\n",
       "    var toinsert = output_area.element.find(\".\" + CLASS_NAME.split(' ')[0]);\n",
       "\n",
       "    if (output.metadata[EXEC_MIME_TYPE][\"id\"] !== undefined) {\n",
       "      toinsert[toinsert.length - 1].firstChild.textContent = output.data[JS_MIME_TYPE];\n",
       "      // store reference to embed id on output_area\n",
       "      output_area._bokeh_element_id = output.metadata[EXEC_MIME_TYPE][\"id\"];\n",
       "    }\n",
       "    if (output.metadata[EXEC_MIME_TYPE][\"server_id\"] !== undefined) {\n",
       "      var bk_div = document.createElement(\"div\");\n",
       "      bk_div.innerHTML = output.data[HTML_MIME_TYPE];\n",
       "      var script_attrs = bk_div.children[0].attributes;\n",
       "      for (var i = 0; i < script_attrs.length; i++) {\n",
       "        toinsert[toinsert.length - 1].firstChild.setAttribute(script_attrs[i].name, script_attrs[i].value);\n",
       "        toinsert[toinsert.length - 1].firstChild.textContent = bk_div.children[0].textContent\n",
       "      }\n",
       "      // store reference to server id on output_area\n",
       "      output_area._bokeh_server_id = output.metadata[EXEC_MIME_TYPE][\"server_id\"];\n",
       "    }\n",
       "  }\n",
       "\n",
       "  function register_renderer(events, OutputArea) {\n",
       "\n",
       "    function append_mime(data, metadata, element) {\n",
       "      // create a DOM node to render to\n",
       "      var toinsert = this.create_output_subarea(\n",
       "        metadata,\n",
       "        CLASS_NAME,\n",
       "        EXEC_MIME_TYPE\n",
       "      );\n",
       "      this.keyboard_manager.register_events(toinsert);\n",
       "      // Render to node\n",
       "      var props = {data: data, metadata: metadata[EXEC_MIME_TYPE]};\n",
       "      render(props, toinsert[toinsert.length - 1]);\n",
       "      element.append(toinsert);\n",
       "      return toinsert\n",
       "    }\n",
       "\n",
       "    /* Handle when an output is cleared or removed */\n",
       "    events.on('clear_output.CodeCell', handleClearOutput);\n",
       "    events.on('delete.Cell', handleClearOutput);\n",
       "\n",
       "    /* Handle when a new output is added */\n",
       "    events.on('output_added.OutputArea', handleAddOutput);\n",
       "\n",
       "    /**\n",
       "     * Register the mime type and append_mime function with output_area\n",
       "     */\n",
       "    OutputArea.prototype.register_mime_type(EXEC_MIME_TYPE, append_mime, {\n",
       "      /* Is output safe? */\n",
       "      safe: true,\n",
       "      /* Index of renderer in `output_area.display_order` */\n",
       "      index: 0\n",
       "    });\n",
       "  }\n",
       "\n",
       "  // register the mime type if in Jupyter Notebook environment and previously unregistered\n",
       "  if (root.Jupyter !== undefined) {\n",
       "    var events = require('base/js/events');\n",
       "    var OutputArea = require('notebook/js/outputarea').OutputArea;\n",
       "\n",
       "    if (OutputArea.prototype.mime_types().indexOf(EXEC_MIME_TYPE) == -1) {\n",
       "      register_renderer(events, OutputArea);\n",
       "    }\n",
       "  }\n",
       "\n",
       "  \n",
       "  if (typeof (root._bokeh_timeout) === \"undefined\" || force === true) {\n",
       "    root._bokeh_timeout = Date.now() + 5000;\n",
       "    root._bokeh_failed_load = false;\n",
       "  }\n",
       "\n",
       "  var NB_LOAD_WARNING = {'data': {'text/html':\n",
       "     \"<div style='background-color: #fdd'>\\n\"+\n",
       "     \"<p>\\n\"+\n",
       "     \"BokehJS does not appear to have successfully loaded. If loading BokehJS from CDN, this \\n\"+\n",
       "     \"may be due to a slow or bad network connection. Possible fixes:\\n\"+\n",
       "     \"</p>\\n\"+\n",
       "     \"<ul>\\n\"+\n",
       "     \"<li>re-rerun `output_notebook()` to attempt to load from CDN again, or</li>\\n\"+\n",
       "     \"<li>use INLINE resources instead, as so:</li>\\n\"+\n",
       "     \"</ul>\\n\"+\n",
       "     \"<code>\\n\"+\n",
       "     \"from bokeh.resources import INLINE\\n\"+\n",
       "     \"output_notebook(resources=INLINE)\\n\"+\n",
       "     \"</code>\\n\"+\n",
       "     \"</div>\"}};\n",
       "\n",
       "  function display_loaded() {\n",
       "    var el = document.getElementById(\"1003\");\n",
       "    if (el != null) {\n",
       "      el.textContent = \"BokehJS is loading...\";\n",
       "    }\n",
       "    if (root.Bokeh !== undefined) {\n",
       "      if (el != null) {\n",
       "        el.textContent = \"BokehJS \" + root.Bokeh.version + \" successfully loaded.\";\n",
       "      }\n",
       "    } else if (Date.now() < root._bokeh_timeout) {\n",
       "      setTimeout(display_loaded, 100)\n",
       "    }\n",
       "  }\n",
       "\n",
       "\n",
       "  function run_callbacks() {\n",
       "    try {\n",
       "      root._bokeh_onload_callbacks.forEach(function(callback) {\n",
       "        if (callback != null)\n",
       "          callback();\n",
       "      });\n",
       "    } finally {\n",
       "      delete root._bokeh_onload_callbacks\n",
       "    }\n",
       "    console.debug(\"Bokeh: all callbacks have finished\");\n",
       "  }\n",
       "\n",
       "  function load_libs(css_urls, js_urls, callback) {\n",
       "    if (css_urls == null) css_urls = [];\n",
       "    if (js_urls == null) js_urls = [];\n",
       "\n",
       "    root._bokeh_onload_callbacks.push(callback);\n",
       "    if (root._bokeh_is_loading > 0) {\n",
       "      console.debug(\"Bokeh: BokehJS is being loaded, scheduling callback at\", now());\n",
       "      return null;\n",
       "    }\n",
       "    if (js_urls == null || js_urls.length === 0) {\n",
       "      run_callbacks();\n",
       "      return null;\n",
       "    }\n",
       "    console.debug(\"Bokeh: BokehJS not loaded, scheduling load and callback at\", now());\n",
       "    root._bokeh_is_loading = css_urls.length + js_urls.length;\n",
       "\n",
       "    function on_load() {\n",
       "      root._bokeh_is_loading--;\n",
       "      if (root._bokeh_is_loading === 0) {\n",
       "        console.debug(\"Bokeh: all BokehJS libraries/stylesheets loaded\");\n",
       "        run_callbacks()\n",
       "      }\n",
       "    }\n",
       "\n",
       "    function on_error(url) {\n",
       "      console.error(\"failed to load \" + url);\n",
       "    }\n",
       "\n",
       "    for (let i = 0; i < css_urls.length; i++) {\n",
       "      const url = css_urls[i];\n",
       "      const element = document.createElement(\"link\");\n",
       "      element.onload = on_load;\n",
       "      element.onerror = on_error.bind(null, url);\n",
       "      element.rel = \"stylesheet\";\n",
       "      element.type = \"text/css\";\n",
       "      element.href = url;\n",
       "      console.debug(\"Bokeh: injecting link tag for BokehJS stylesheet: \", url);\n",
       "      document.body.appendChild(element);\n",
       "    }\n",
       "\n",
       "    const hashes = {\"https://cdn.bokeh.org/bokeh/release/bokeh-2.3.0.min.js\": \"HjagQp6T0/7bxYTAXbLotF1MLAGWmhkY5siA1Gc/pcEgvgRPtMsRn0gQtMwGKiw1\", \"https://cdn.bokeh.org/bokeh/release/bokeh-widgets-2.3.0.min.js\": \"ZEPPTjL+mdyqgIq+/pl9KTwzji8Kow2NnI3zWY8+sFinWP/SYJ80BnfeJsa45iYj\", \"https://cdn.bokeh.org/bokeh/release/bokeh-tables-2.3.0.min.js\": \"exLqv2ACDRIaV7ZK1iL8aGzGYQvKVuT3U2CT7FsQREBxRah6JrkVCoFy0koY1YqV\"};\n",
       "\n",
       "    for (let i = 0; i < js_urls.length; i++) {\n",
       "      const url = js_urls[i];\n",
       "      const element = document.createElement('script');\n",
       "      element.onload = on_load;\n",
       "      element.onerror = on_error.bind(null, url);\n",
       "      element.async = false;\n",
       "      element.src = url;\n",
       "      if (url in hashes) {\n",
       "        element.crossOrigin = \"anonymous\";\n",
       "        element.integrity = \"sha384-\" + hashes[url];\n",
       "      }\n",
       "      console.debug(\"Bokeh: injecting script tag for BokehJS library: \", url);\n",
       "      document.head.appendChild(element);\n",
       "    }\n",
       "  };\n",
       "\n",
       "  function inject_raw_css(css) {\n",
       "    const element = document.createElement(\"style\");\n",
       "    element.appendChild(document.createTextNode(css));\n",
       "    document.body.appendChild(element);\n",
       "  }\n",
       "\n",
       "  \n",
       "  var js_urls = [\"https://cdn.bokeh.org/bokeh/release/bokeh-2.3.0.min.js\", \"https://cdn.bokeh.org/bokeh/release/bokeh-widgets-2.3.0.min.js\", \"https://cdn.bokeh.org/bokeh/release/bokeh-tables-2.3.0.min.js\"];\n",
       "  var css_urls = [];\n",
       "  \n",
       "\n",
       "  var inline_js = [\n",
       "    function(Bokeh) {\n",
       "      Bokeh.set_log_level(\"info\");\n",
       "    },\n",
       "    function(Bokeh) {\n",
       "    \n",
       "    \n",
       "    }\n",
       "  ];\n",
       "\n",
       "  function run_inline_js() {\n",
       "    \n",
       "    if (root.Bokeh !== undefined || force === true) {\n",
       "      \n",
       "    for (var i = 0; i < inline_js.length; i++) {\n",
       "      inline_js[i].call(root, root.Bokeh);\n",
       "    }\n",
       "    if (force === true) {\n",
       "        display_loaded();\n",
       "      }} else if (Date.now() < root._bokeh_timeout) {\n",
       "      setTimeout(run_inline_js, 100);\n",
       "    } else if (!root._bokeh_failed_load) {\n",
       "      console.log(\"Bokeh: BokehJS failed to load within specified timeout.\");\n",
       "      root._bokeh_failed_load = true;\n",
       "    } else if (force !== true) {\n",
       "      var cell = $(document.getElementById(\"1003\")).parents('.cell').data().cell;\n",
       "      cell.output_area.append_execute_result(NB_LOAD_WARNING)\n",
       "    }\n",
       "\n",
       "  }\n",
       "\n",
       "  if (root._bokeh_is_loading === 0) {\n",
       "    console.debug(\"Bokeh: BokehJS loaded, going straight to plotting\");\n",
       "    run_inline_js();\n",
       "  } else {\n",
       "    load_libs(css_urls, js_urls, function() {\n",
       "      console.debug(\"Bokeh: BokehJS plotting callback run at\", now());\n",
       "      run_inline_js();\n",
       "    });\n",
       "  }\n",
       "}(window));"
      ],
      "application/vnd.bokehjs_load.v0+json": "\n(function(root) {\n  function now() {\n    return new Date();\n  }\n\n  var force = true;\n\n  if (typeof root._bokeh_onload_callbacks === \"undefined\" || force === true) {\n    root._bokeh_onload_callbacks = [];\n    root._bokeh_is_loading = undefined;\n  }\n\n  \n\n  \n  if (typeof (root._bokeh_timeout) === \"undefined\" || force === true) {\n    root._bokeh_timeout = Date.now() + 5000;\n    root._bokeh_failed_load = false;\n  }\n\n  var NB_LOAD_WARNING = {'data': {'text/html':\n     \"<div style='background-color: #fdd'>\\n\"+\n     \"<p>\\n\"+\n     \"BokehJS does not appear to have successfully loaded. If loading BokehJS from CDN, this \\n\"+\n     \"may be due to a slow or bad network connection. Possible fixes:\\n\"+\n     \"</p>\\n\"+\n     \"<ul>\\n\"+\n     \"<li>re-rerun `output_notebook()` to attempt to load from CDN again, or</li>\\n\"+\n     \"<li>use INLINE resources instead, as so:</li>\\n\"+\n     \"</ul>\\n\"+\n     \"<code>\\n\"+\n     \"from bokeh.resources import INLINE\\n\"+\n     \"output_notebook(resources=INLINE)\\n\"+\n     \"</code>\\n\"+\n     \"</div>\"}};\n\n  function display_loaded() {\n    var el = document.getElementById(\"1003\");\n    if (el != null) {\n      el.textContent = \"BokehJS is loading...\";\n    }\n    if (root.Bokeh !== undefined) {\n      if (el != null) {\n        el.textContent = \"BokehJS \" + root.Bokeh.version + \" successfully loaded.\";\n      }\n    } else if (Date.now() < root._bokeh_timeout) {\n      setTimeout(display_loaded, 100)\n    }\n  }\n\n\n  function run_callbacks() {\n    try {\n      root._bokeh_onload_callbacks.forEach(function(callback) {\n        if (callback != null)\n          callback();\n      });\n    } finally {\n      delete root._bokeh_onload_callbacks\n    }\n    console.debug(\"Bokeh: all callbacks have finished\");\n  }\n\n  function load_libs(css_urls, js_urls, callback) {\n    if (css_urls == null) css_urls = [];\n    if (js_urls == null) js_urls = [];\n\n    root._bokeh_onload_callbacks.push(callback);\n    if (root._bokeh_is_loading > 0) {\n      console.debug(\"Bokeh: BokehJS is being loaded, scheduling callback at\", now());\n      return null;\n    }\n    if (js_urls == null || js_urls.length === 0) {\n      run_callbacks();\n      return null;\n    }\n    console.debug(\"Bokeh: BokehJS not loaded, scheduling load and callback at\", now());\n    root._bokeh_is_loading = css_urls.length + js_urls.length;\n\n    function on_load() {\n      root._bokeh_is_loading--;\n      if (root._bokeh_is_loading === 0) {\n        console.debug(\"Bokeh: all BokehJS libraries/stylesheets loaded\");\n        run_callbacks()\n      }\n    }\n\n    function on_error(url) {\n      console.error(\"failed to load \" + url);\n    }\n\n    for (let i = 0; i < css_urls.length; i++) {\n      const url = css_urls[i];\n      const element = document.createElement(\"link\");\n      element.onload = on_load;\n      element.onerror = on_error.bind(null, url);\n      element.rel = \"stylesheet\";\n      element.type = \"text/css\";\n      element.href = url;\n      console.debug(\"Bokeh: injecting link tag for BokehJS stylesheet: \", url);\n      document.body.appendChild(element);\n    }\n\n    const hashes = {\"https://cdn.bokeh.org/bokeh/release/bokeh-2.3.0.min.js\": \"HjagQp6T0/7bxYTAXbLotF1MLAGWmhkY5siA1Gc/pcEgvgRPtMsRn0gQtMwGKiw1\", \"https://cdn.bokeh.org/bokeh/release/bokeh-widgets-2.3.0.min.js\": \"ZEPPTjL+mdyqgIq+/pl9KTwzji8Kow2NnI3zWY8+sFinWP/SYJ80BnfeJsa45iYj\", \"https://cdn.bokeh.org/bokeh/release/bokeh-tables-2.3.0.min.js\": \"exLqv2ACDRIaV7ZK1iL8aGzGYQvKVuT3U2CT7FsQREBxRah6JrkVCoFy0koY1YqV\"};\n\n    for (let i = 0; i < js_urls.length; i++) {\n      const url = js_urls[i];\n      const element = document.createElement('script');\n      element.onload = on_load;\n      element.onerror = on_error.bind(null, url);\n      element.async = false;\n      element.src = url;\n      if (url in hashes) {\n        element.crossOrigin = \"anonymous\";\n        element.integrity = \"sha384-\" + hashes[url];\n      }\n      console.debug(\"Bokeh: injecting script tag for BokehJS library: \", url);\n      document.head.appendChild(element);\n    }\n  };\n\n  function inject_raw_css(css) {\n    const element = document.createElement(\"style\");\n    element.appendChild(document.createTextNode(css));\n    document.body.appendChild(element);\n  }\n\n  \n  var js_urls = [\"https://cdn.bokeh.org/bokeh/release/bokeh-2.3.0.min.js\", \"https://cdn.bokeh.org/bokeh/release/bokeh-widgets-2.3.0.min.js\", \"https://cdn.bokeh.org/bokeh/release/bokeh-tables-2.3.0.min.js\"];\n  var css_urls = [];\n  \n\n  var inline_js = [\n    function(Bokeh) {\n      Bokeh.set_log_level(\"info\");\n    },\n    function(Bokeh) {\n    \n    \n    }\n  ];\n\n  function run_inline_js() {\n    \n    if (root.Bokeh !== undefined || force === true) {\n      \n    for (var i = 0; i < inline_js.length; i++) {\n      inline_js[i].call(root, root.Bokeh);\n    }\n    if (force === true) {\n        display_loaded();\n      }} else if (Date.now() < root._bokeh_timeout) {\n      setTimeout(run_inline_js, 100);\n    } else if (!root._bokeh_failed_load) {\n      console.log(\"Bokeh: BokehJS failed to load within specified timeout.\");\n      root._bokeh_failed_load = true;\n    } else if (force !== true) {\n      var cell = $(document.getElementById(\"1003\")).parents('.cell').data().cell;\n      cell.output_area.append_execute_result(NB_LOAD_WARNING)\n    }\n\n  }\n\n  if (root._bokeh_is_loading === 0) {\n    console.debug(\"Bokeh: BokehJS loaded, going straight to plotting\");\n    run_inline_js();\n  } else {\n    load_libs(css_urls, js_urls, function() {\n      console.debug(\"Bokeh: BokehJS plotting callback run at\", now());\n      run_inline_js();\n    });\n  }\n}(window));"
     },
     "metadata": {},
     "output_type": "display_data"
    }
   ],
   "source": [
    "# Imports\n",
    "# # LOAD\n",
    "import pickle\n",
    "import numpy as np\n",
    "import os\n",
    "import sys\n",
    "from src import references as refs\n",
    "# # PROCESS\n",
    "import nltk\n",
    "import pandas as pd\n",
    "sys.path.insert(0, os.path.abspath('../../..'))\n",
    "from sklearn.cluster import KMeans\n",
    "from src.utils import context_util, acts_util\n",
    "# # VIS\n",
    "from IPython.core.display import display, HTML\n",
    "from bokeh.plotting import figure, show, output_file\n",
    "from bokeh.layouts import gridplot\n",
    "from bokeh.palettes import Inferno, Category10, Category20, Category20c, Pastel1, Pastel2, Bokeh, Plasma, Colorblind\n",
    "from bokeh.models import Label, LabelSet, Div, ColumnDataSource, Legend, LegendItem, Range1d\n",
    "from bokeh.models import HoverTool, CustomJS, PanTool, BoxZoomTool, WheelZoomTool, ResetTool, TapTool, OpenURL\n",
    "from bokeh.models.glyphs import Circle\n",
    "from bokeh.io import output_notebook\n",
    "output_notebook()\n",
    "if view_vis_as_html:\n",
    "    output_file('visualize-wiki.html')\n",
    "from src.utils import vis_util, html_util"
   ]
  },
  {
   "cell_type": "markdown",
   "metadata": {},
   "source": [
    "# Loading contexts"
   ]
  },
  {
   "cell_type": "code",
   "execution_count": 7,
   "metadata": {},
   "outputs": [],
   "source": [
    "# Load all contexts and acts\n",
    "data_dir = '../../../bucket/wiki-large/wiki-split/'\n",
    "data_dir = os.path.abspath(data_dir)\n",
    "layers = [f'arr_{i}' for i in range(13)] # which layers to visualize\n",
    "# layers = ['arr_0','arr_3','arr_6', 'arr_9', 'arr_12']  \n",
    "# layers = ['arr_0']  # good for debugging\n",
    "contexts = pickle.load(open(os.path.join(data_dir, refs.contexts_fn), 'rb'))\n",
    "acts = np.load(os.path.join(data_dir, refs.acts_fn))"
   ]
  },
  {
   "cell_type": "code",
   "execution_count": 9,
   "metadata": {
    "scrolled": true
   },
   "outputs": [
    {
     "name": "stdout",
     "output_type": "stream",
     "text": [
      "25 contexts:\n"
     ]
    },
    {
     "data": {
      "text/html": [
       "(0)  [CLS] Pay/nto/r married a<span style=\"background-color: lightpink;\"> woman</span> named Joan ; they had a son , Thomas , and a daughter , Joan . [SEP]"
      ],
      "text/plain": [
       "<IPython.core.display.HTML object>"
      ]
     },
     "metadata": {},
     "output_type": "display_data"
    },
    {
     "data": {
      "text/html": [
       "(1)  [CLS] In St . Cyril/le the two meet Marianne , a lovely young French<span style=\"background-color: lightpink;\"> woman</span> to whom the Colonel has promised to return . [SEP]"
      ],
      "text/plain": [
       "<IPython.core.display.HTML object>"
      ]
     },
     "metadata": {},
     "output_type": "display_data"
    },
    {
     "data": {
      "text/html": [
       "(2)  [CLS] According to some historical accounts , her slave work might be similar to modern day ' s<span style=\"background-color: lightpink;\"> woman</span> wrestler . [SEP]"
      ],
      "text/plain": [
       "<IPython.core.display.HTML object>"
      ]
     },
     "metadata": {},
     "output_type": "display_data"
    },
    {
     "data": {
      "text/html": [
       "(3)  [CLS] CNN said that the advertisement was approved by a<span style=\"background-color: lightpink;\"> woman</span> in the productions department . [SEP]"
      ],
      "text/plain": [
       "<IPython.core.display.HTML object>"
      ]
     },
     "metadata": {},
     "output_type": "display_data"
    },
    {
     "data": {
      "text/html": [
       "(4)  [CLS] She was mayor of Las Vegas , Nevada from 1991 to 1999 and the first<span style=\"background-color: lightpink;\"> woman</span> to serve as mayor of Las Vegas . [SEP]"
      ],
      "text/plain": [
       "<IPython.core.display.HTML object>"
      ]
     },
     "metadata": {},
     "output_type": "display_data"
    },
    {
     "data": {
      "text/html": [
       "(5)  [CLS] Deep/ly regret/ful about what he is leaving behind , he rides away from the<span style=\"background-color: lightpink;\"> woman</span> and boy , never to return . [SEP]"
      ],
      "text/plain": [
       "<IPython.core.display.HTML object>"
      ]
     },
     "metadata": {},
     "output_type": "display_data"
    },
    {
     "data": {
      "text/html": [
       "(6)  [CLS] Our Mi/ms was saved by a<span style=\"background-color: lightpink;\"> woman</span> named Jeanne Mira/bit/o , who found her and brought her food . [SEP]"
      ],
      "text/plain": [
       "<IPython.core.display.HTML object>"
      ]
     },
     "metadata": {},
     "output_type": "display_data"
    },
    {
     "data": {
      "text/html": [
       "(7)  [CLS] But there was one<span style=\"background-color: lightpink;\"> woman</span> who contested who lost her deposit . [SEP]"
      ],
      "text/plain": [
       "<IPython.core.display.HTML object>"
      ]
     },
     "metadata": {},
     "output_type": "display_data"
    },
    {
     "data": {
      "text/html": [
       "(8)  [CLS] The new<span style=\"background-color: lightpink;\"> woman</span> ' s role in modern China was often debated by intellectuals , liberal/s , and The Nationalist/s and the Communist . [SEP]"
      ],
      "text/plain": [
       "<IPython.core.display.HTML object>"
      ]
     },
     "metadata": {},
     "output_type": "display_data"
    },
    {
     "data": {
      "text/html": [
       "(9)  [CLS] The group is accompanied by a \" Hu/tte/f/rou/eli \" ( an e/ff/ig/y of an old<span style=\"background-color: lightpink;\"> woman</span> ) . [SEP]"
      ],
      "text/plain": [
       "<IPython.core.display.HTML object>"
      ]
     },
     "metadata": {},
     "output_type": "display_data"
    },
    {
     "data": {
      "text/html": [
       "(10)  [CLS] She has also performed in an Off - Broadway one -<span style=\"background-color: lightpink;\"> woman</span> show entitled \" Me , My Mouth and I \" . [SEP]"
      ],
      "text/plain": [
       "<IPython.core.display.HTML object>"
      ]
     },
     "metadata": {},
     "output_type": "display_data"
    },
    {
     "data": {
      "text/html": [
       "(11)  [CLS] When Homer has trouble finding a secretary who is not a seductive young<span style=\"background-color: lightpink;\"> woman</span> , a man named Karl persuade/s Homer to hire him . [SEP]"
      ],
      "text/plain": [
       "<IPython.core.display.HTML object>"
      ]
     },
     "metadata": {},
     "output_type": "display_data"
    },
    {
     "data": {
      "text/html": [
       "(12)  [CLS] The complex structures of class bind a man and a<span style=\"background-color: lightpink;\"> woman</span> . [SEP]"
      ],
      "text/plain": [
       "<IPython.core.display.HTML object>"
      ]
     },
     "metadata": {},
     "output_type": "display_data"
    },
    {
     "data": {
      "text/html": [
       "(13)  [CLS] Four people were killed on the ground , including a British<span style=\"background-color: lightpink;\"> woman</span> living in Germany . [SEP]"
      ],
      "text/plain": [
       "<IPython.core.display.HTML object>"
      ]
     },
     "metadata": {},
     "output_type": "display_data"
    },
    {
     "data": {
      "text/html": [
       "(14)  [CLS] Currently he is married to a<span style=\"background-color: lightpink;\"> woman</span> named Meg/han and has an eight - year - old son Brady . [SEP]"
      ],
      "text/plain": [
       "<IPython.core.display.HTML object>"
      ]
     },
     "metadata": {},
     "output_type": "display_data"
    },
    {
     "data": {
      "text/html": [
       "(15)  [CLS] Another<span style=\"background-color: lightpink;\"> woman</span> enters and as she dances , psychedelic images appear , with the others cheer/ing her on . [SEP]"
      ],
      "text/plain": [
       "<IPython.core.display.HTML object>"
      ]
     },
     "metadata": {},
     "output_type": "display_data"
    },
    {
     "data": {
      "text/html": [
       "(16)  [CLS] U/ra Riga/na U/ra Riga/na K/wal/u ( born 24 June 1976 ) is a former Papua New Guinea/n<span style=\"background-color: lightpink;\"> woman</span> cricketer . [SEP]"
      ],
      "text/plain": [
       "<IPython.core.display.HTML object>"
      ]
     },
     "metadata": {},
     "output_type": "display_data"
    },
    {
     "data": {
      "text/html": [
       "(17)  [CLS] The<span style=\"background-color: lightpink;\"> woman</span> ' s husband also experiences the day repeatedly . [SEP]"
      ],
      "text/plain": [
       "<IPython.core.display.HTML object>"
      ]
     },
     "metadata": {},
     "output_type": "display_data"
    },
    {
     "data": {
      "text/html": [
       "(18)  [CLS] An old<span style=\"background-color: lightpink;\"> woman</span> and her granddaughter Yu are waiting for the latter ' s cousin Ming to come home from his overseas studies . [SEP]"
      ],
      "text/plain": [
       "<IPython.core.display.HTML object>"
      ]
     },
     "metadata": {},
     "output_type": "display_data"
    },
    {
     "data": {
      "text/html": [
       "(19)  [CLS] Her father , a prominent lawyer , died just as Sea/well reached<span style=\"background-color: lightpink;\"> woman</span>/hood . [SEP]"
      ],
      "text/plain": [
       "<IPython.core.display.HTML object>"
      ]
     },
     "metadata": {},
     "output_type": "display_data"
    },
    {
     "data": {
      "text/html": [
       "(20)  [CLS] In 2001 , E/ffe/nberg was fined after being found guilty of assault/ing a<span style=\"background-color: lightpink;\"> woman</span> in a nightclub . [SEP]"
      ],
      "text/plain": [
       "<IPython.core.display.HTML object>"
      ]
     },
     "metadata": {},
     "output_type": "display_data"
    },
    {
     "data": {
      "text/html": [
       "(21)  [CLS] One former Jung/ian<span style=\"background-color: lightpink;\"> woman</span> has criticized Jung ' s early women a/co/ly/tes . [SEP]"
      ],
      "text/plain": [
       "<IPython.core.display.HTML object>"
      ]
     },
     "metadata": {},
     "output_type": "display_data"
    },
    {
     "data": {
      "text/html": [
       "(22)  [CLS] A lone middle - aged<span style=\"background-color: lightpink;\"> woman</span> , G/au/ri , meets Mu/dal/iar , another middle - aged man in the house of her boss . [SEP]"
      ],
      "text/plain": [
       "<IPython.core.display.HTML object>"
      ]
     },
     "metadata": {},
     "output_type": "display_data"
    },
    {
     "data": {
      "text/html": [
       "(23)  [CLS] Lo/ft/us was the illegitimate son of Nicholas Lo/ft/us , 1st Viscount Lo/ft/us by a<span style=\"background-color: lightpink;\"> woman</span> with the surname of Phillips . [SEP]"
      ],
      "text/plain": [
       "<IPython.core.display.HTML object>"
      ]
     },
     "metadata": {},
     "output_type": "display_data"
    },
    {
     "data": {
      "text/html": [
       "(24)  [CLS] He first settled in the western section of Be/rks county , and there married a young<span style=\"background-color: lightpink;\"> woman</span> by the name of R/os/ina Meyer . [SEP]"
      ],
      "text/plain": [
       "<IPython.core.display.HTML object>"
      ]
     },
     "metadata": {},
     "output_type": "display_data"
    }
   ],
   "source": [
    "# Choose contexts and acts\n",
    "token = 'woman'\n",
    "chosen_idxs, chosen_contexts = zip(*[(i, (doc, pos)) for (i, (doc, pos)) in enumerate(contexts) if doc[pos]==token])\n",
    "n_chosen = len(chosen_contexts)\n",
    "print(n_chosen, 'contexts:')\n",
    "for i, context in enumerate(chosen_contexts):\n",
    "    display(HTML(f'({i}) {context_util.context_html(*context)}'))"
   ]
  },
  {
   "cell_type": "code",
   "execution_count": 11,
   "metadata": {},
   "outputs": [],
   "source": [
    "chosen_acts = {layer: acts[layer][list(chosen_idxs)] for layer in layers}"
   ]
  },
  {
   "cell_type": "markdown",
   "metadata": {},
   "source": [
    "# Show clustered contexts"
   ]
  },
  {
   "cell_type": "code",
   "execution_count": 14,
   "metadata": {
    "scrolled": true
   },
   "outputs": [
    {
     "data": {
      "text/html": [
       "<span style=\"background-color: lightpink;\">arr_0</span>"
      ],
      "text/plain": [
       "<IPython.core.display.HTML object>"
      ]
     },
     "metadata": {},
     "output_type": "display_data"
    },
    {
     "data": {
      "text/html": [
       "<span style=\"font-size:10px; line-height: 12px; display: block; text-align: left;\"> [CLS] According to some historical accounts , her slave work might be similar to modern day ' s<span style=\"background-color: #1f77b4;\"> woman</span> wrestler . [SEP]</span><span style=\"font-size:10px; line-height: 12px; display: block; text-align: left;\"> [CLS] She was mayor of Las Vegas , Nevada from 1991 to 1999 and the first<span style=\"background-color: #1f77b4;\"> woman</span> to serve as mayor of Las Vegas . [SEP]</span><span style=\"font-size:10px; line-height: 12px; display: block; text-align: left;\"> [CLS] Deep/ly regret/ful about what he is leaving behind , he rides away from the<span style=\"background-color: #1f77b4;\"> woman</span> and boy , never to return . [SEP]</span><span style=\"font-size:10px; line-height: 12px; display: block; text-align: left;\"> [CLS] The group is accompanied by a \" Hu/tte/f/rou/eli \" ( an e/ff/ig/y of an old<span style=\"background-color: #1f77b4;\"> woman</span> ) . [SEP]</span><span style=\"font-size:10px; line-height: 12px; display: block; text-align: left;\"> [CLS] U/ra Riga/na U/ra Riga/na K/wal/u ( born 24 June 1976 ) is a former Papua New Guinea/n<span style=\"background-color: #1f77b4;\"> woman</span> cricketer . [SEP]</span><span style=\"font-size:10px; line-height: 12px; display: block; text-align: left;\"> [CLS] In 2001 , E/ffe/nberg was fined after being found guilty of assault/ing a<span style=\"background-color: #1f77b4;\"> woman</span> in a nightclub . [SEP]</span><span style=\"font-size:10px; line-height: 12px; display: block; text-align: left;\"> [CLS] Lo/ft/us was the illegitimate son of Nicholas Lo/ft/us , 1st Viscount Lo/ft/us by a<span style=\"background-color: #1f77b4;\"> woman</span> with the surname of Phillips . [SEP]</span><span style=\"font-size:10px; line-height: 12px; display: block; text-align: left;\"> [CLS] He first settled in the western section of Be/rks county , and there married a young<span style=\"background-color: #1f77b4;\"> woman</span> by the name of R/os/ina Meyer . [SEP]</span>"
      ],
      "text/plain": [
       "<IPython.core.display.HTML object>"
      ]
     },
     "metadata": {},
     "output_type": "display_data"
    },
    {
     "data": {
      "text/html": [
       "<span style=\"font-size:10px; line-height: 12px; display: block; text-align: left;\"> [CLS] Pay/nto/r married a<span style=\"background-color: #ff7f0e;\"> woman</span> named Joan ; they had a son , Thomas , and a daughter , Joan . [SEP]</span><span style=\"font-size:10px; line-height: 12px; display: block; text-align: left;\"> [CLS] Our Mi/ms was saved by a<span style=\"background-color: #ff7f0e;\"> woman</span> named Jeanne Mira/bit/o , who found her and brought her food . [SEP]</span><span style=\"font-size:10px; line-height: 12px; display: block; text-align: left;\"> [CLS] But there was one<span style=\"background-color: #ff7f0e;\"> woman</span> who contested who lost her deposit . [SEP]</span><span style=\"font-size:10px; line-height: 12px; display: block; text-align: left;\"> [CLS] The new<span style=\"background-color: #ff7f0e;\"> woman</span> ' s role in modern China was often debated by intellectuals , liberal/s , and The Nationalist/s and the Communist . [SEP]</span><span style=\"font-size:10px; line-height: 12px; display: block; text-align: left;\"> [CLS] Currently he is married to a<span style=\"background-color: #ff7f0e;\"> woman</span> named Meg/han and has an eight - year - old son Brady . [SEP]</span><span style=\"font-size:10px; line-height: 12px; display: block; text-align: left;\"> [CLS] Another<span style=\"background-color: #ff7f0e;\"> woman</span> enters and as she dances , psychedelic images appear , with the others cheer/ing her on . [SEP]</span><span style=\"font-size:10px; line-height: 12px; display: block; text-align: left;\"> [CLS] The<span style=\"background-color: #ff7f0e;\"> woman</span> ' s husband also experiences the day repeatedly . [SEP]</span><span style=\"font-size:10px; line-height: 12px; display: block; text-align: left;\"> [CLS] An old<span style=\"background-color: #ff7f0e;\"> woman</span> and her granddaughter Yu are waiting for the latter ' s cousin Ming to come home from his overseas studies . [SEP]</span><span style=\"font-size:10px; line-height: 12px; display: block; text-align: left;\"> [CLS] One former Jung/ian<span style=\"background-color: #ff7f0e;\"> woman</span> has criticized Jung ' s early women a/co/ly/tes . [SEP]</span><span style=\"font-size:10px; line-height: 12px; display: block; text-align: left;\"> [CLS] A lone middle - aged<span style=\"background-color: #ff7f0e;\"> woman</span> , G/au/ri , meets Mu/dal/iar , another middle - aged man in the house of her boss . [SEP]</span>"
      ],
      "text/plain": [
       "<IPython.core.display.HTML object>"
      ]
     },
     "metadata": {},
     "output_type": "display_data"
    },
    {
     "data": {
      "text/html": [
       "<span style=\"font-size:10px; line-height: 12px; display: block; text-align: left;\"> [CLS] In St . Cyril/le the two meet Marianne , a lovely young French<span style=\"background-color: #2ca02c;\"> woman</span> to whom the Colonel has promised to return . [SEP]</span><span style=\"font-size:10px; line-height: 12px; display: block; text-align: left;\"> [CLS] CNN said that the advertisement was approved by a<span style=\"background-color: #2ca02c;\"> woman</span> in the productions department . [SEP]</span><span style=\"font-size:10px; line-height: 12px; display: block; text-align: left;\"> [CLS] She has also performed in an Off - Broadway one -<span style=\"background-color: #2ca02c;\"> woman</span> show entitled \" Me , My Mouth and I \" . [SEP]</span><span style=\"font-size:10px; line-height: 12px; display: block; text-align: left;\"> [CLS] When Homer has trouble finding a secretary who is not a seductive young<span style=\"background-color: #2ca02c;\"> woman</span> , a man named Karl persuade/s Homer to hire him . [SEP]</span><span style=\"font-size:10px; line-height: 12px; display: block; text-align: left;\"> [CLS] The complex structures of class bind a man and a<span style=\"background-color: #2ca02c;\"> woman</span> . [SEP]</span><span style=\"font-size:10px; line-height: 12px; display: block; text-align: left;\"> [CLS] Four people were killed on the ground , including a British<span style=\"background-color: #2ca02c;\"> woman</span> living in Germany . [SEP]</span><span style=\"font-size:10px; line-height: 12px; display: block; text-align: left;\"> [CLS] Her father , a prominent lawyer , died just as Sea/well reached<span style=\"background-color: #2ca02c;\"> woman</span>/hood . [SEP]</span>"
      ],
      "text/plain": [
       "<IPython.core.display.HTML object>"
      ]
     },
     "metadata": {},
     "output_type": "display_data"
    },
    {
     "name": "stdout",
     "output_type": "stream",
     "text": [
      "\n"
     ]
    },
    {
     "data": {
      "text/html": [
       "<span style=\"background-color: lightpink;\">arr_1</span>"
      ],
      "text/plain": [
       "<IPython.core.display.HTML object>"
      ]
     },
     "metadata": {},
     "output_type": "display_data"
    },
    {
     "data": {
      "text/html": [
       "<span style=\"font-size:10px; line-height: 12px; display: block; text-align: left;\"> [CLS] According to some historical accounts , her slave work might be similar to modern day ' s<span style=\"background-color: #1f77b4;\"> woman</span> wrestler . [SEP]</span><span style=\"font-size:10px; line-height: 12px; display: block; text-align: left;\"> [CLS] The group is accompanied by a \" Hu/tte/f/rou/eli \" ( an e/ff/ig/y of an old<span style=\"background-color: #1f77b4;\"> woman</span> ) . [SEP]</span><span style=\"font-size:10px; line-height: 12px; display: block; text-align: left;\"> [CLS] U/ra Riga/na U/ra Riga/na K/wal/u ( born 24 June 1976 ) is a former Papua New Guinea/n<span style=\"background-color: #1f77b4;\"> woman</span> cricketer . [SEP]</span><span style=\"font-size:10px; line-height: 12px; display: block; text-align: left;\"> [CLS] Lo/ft/us was the illegitimate son of Nicholas Lo/ft/us , 1st Viscount Lo/ft/us by a<span style=\"background-color: #1f77b4;\"> woman</span> with the surname of Phillips . [SEP]</span><span style=\"font-size:10px; line-height: 12px; display: block; text-align: left;\"> [CLS] He first settled in the western section of Be/rks county , and there married a young<span style=\"background-color: #1f77b4;\"> woman</span> by the name of R/os/ina Meyer . [SEP]</span>"
      ],
      "text/plain": [
       "<IPython.core.display.HTML object>"
      ]
     },
     "metadata": {},
     "output_type": "display_data"
    },
    {
     "data": {
      "text/html": [
       "<span style=\"font-size:10px; line-height: 12px; display: block; text-align: left;\"> [CLS] Pay/nto/r married a<span style=\"background-color: #ff7f0e;\"> woman</span> named Joan ; they had a son , Thomas , and a daughter , Joan . [SEP]</span><span style=\"font-size:10px; line-height: 12px; display: block; text-align: left;\"> [CLS] Our Mi/ms was saved by a<span style=\"background-color: #ff7f0e;\"> woman</span> named Jeanne Mira/bit/o , who found her and brought her food . [SEP]</span><span style=\"font-size:10px; line-height: 12px; display: block; text-align: left;\"> [CLS] But there was one<span style=\"background-color: #ff7f0e;\"> woman</span> who contested who lost her deposit . [SEP]</span><span style=\"font-size:10px; line-height: 12px; display: block; text-align: left;\"> [CLS] The new<span style=\"background-color: #ff7f0e;\"> woman</span> ' s role in modern China was often debated by intellectuals , liberal/s , and The Nationalist/s and the Communist . [SEP]</span><span style=\"font-size:10px; line-height: 12px; display: block; text-align: left;\"> [CLS] Currently he is married to a<span style=\"background-color: #ff7f0e;\"> woman</span> named Meg/han and has an eight - year - old son Brady . [SEP]</span><span style=\"font-size:10px; line-height: 12px; display: block; text-align: left;\"> [CLS] Another<span style=\"background-color: #ff7f0e;\"> woman</span> enters and as she dances , psychedelic images appear , with the others cheer/ing her on . [SEP]</span><span style=\"font-size:10px; line-height: 12px; display: block; text-align: left;\"> [CLS] The<span style=\"background-color: #ff7f0e;\"> woman</span> ' s husband also experiences the day repeatedly . [SEP]</span><span style=\"font-size:10px; line-height: 12px; display: block; text-align: left;\"> [CLS] An old<span style=\"background-color: #ff7f0e;\"> woman</span> and her granddaughter Yu are waiting for the latter ' s cousin Ming to come home from his overseas studies . [SEP]</span><span style=\"font-size:10px; line-height: 12px; display: block; text-align: left;\"> [CLS] One former Jung/ian<span style=\"background-color: #ff7f0e;\"> woman</span> has criticized Jung ' s early women a/co/ly/tes . [SEP]</span><span style=\"font-size:10px; line-height: 12px; display: block; text-align: left;\"> [CLS] A lone middle - aged<span style=\"background-color: #ff7f0e;\"> woman</span> , G/au/ri , meets Mu/dal/iar , another middle - aged man in the house of her boss . [SEP]</span>"
      ],
      "text/plain": [
       "<IPython.core.display.HTML object>"
      ]
     },
     "metadata": {},
     "output_type": "display_data"
    },
    {
     "data": {
      "text/html": [
       "<span style=\"font-size:10px; line-height: 12px; display: block; text-align: left;\"> [CLS] In St . Cyril/le the two meet Marianne , a lovely young French<span style=\"background-color: #2ca02c;\"> woman</span> to whom the Colonel has promised to return . [SEP]</span><span style=\"font-size:10px; line-height: 12px; display: block; text-align: left;\"> [CLS] CNN said that the advertisement was approved by a<span style=\"background-color: #2ca02c;\"> woman</span> in the productions department . [SEP]</span><span style=\"font-size:10px; line-height: 12px; display: block; text-align: left;\"> [CLS] She was mayor of Las Vegas , Nevada from 1991 to 1999 and the first<span style=\"background-color: #2ca02c;\"> woman</span> to serve as mayor of Las Vegas . [SEP]</span><span style=\"font-size:10px; line-height: 12px; display: block; text-align: left;\"> [CLS] Deep/ly regret/ful about what he is leaving behind , he rides away from the<span style=\"background-color: #2ca02c;\"> woman</span> and boy , never to return . [SEP]</span><span style=\"font-size:10px; line-height: 12px; display: block; text-align: left;\"> [CLS] She has also performed in an Off - Broadway one -<span style=\"background-color: #2ca02c;\"> woman</span> show entitled \" Me , My Mouth and I \" . [SEP]</span><span style=\"font-size:10px; line-height: 12px; display: block; text-align: left;\"> [CLS] When Homer has trouble finding a secretary who is not a seductive young<span style=\"background-color: #2ca02c;\"> woman</span> , a man named Karl persuade/s Homer to hire him . [SEP]</span><span style=\"font-size:10px; line-height: 12px; display: block; text-align: left;\"> [CLS] The complex structures of class bind a man and a<span style=\"background-color: #2ca02c;\"> woman</span> . [SEP]</span><span style=\"font-size:10px; line-height: 12px; display: block; text-align: left;\"> [CLS] Four people were killed on the ground , including a British<span style=\"background-color: #2ca02c;\"> woman</span> living in Germany . [SEP]</span><span style=\"font-size:10px; line-height: 12px; display: block; text-align: left;\"> [CLS] Her father , a prominent lawyer , died just as Sea/well reached<span style=\"background-color: #2ca02c;\"> woman</span>/hood . [SEP]</span><span style=\"font-size:10px; line-height: 12px; display: block; text-align: left;\"> [CLS] In 2001 , E/ffe/nberg was fined after being found guilty of assault/ing a<span style=\"background-color: #2ca02c;\"> woman</span> in a nightclub . [SEP]</span>"
      ],
      "text/plain": [
       "<IPython.core.display.HTML object>"
      ]
     },
     "metadata": {},
     "output_type": "display_data"
    },
    {
     "name": "stdout",
     "output_type": "stream",
     "text": [
      "\n"
     ]
    },
    {
     "data": {
      "text/html": [
       "<span style=\"background-color: lightpink;\">arr_2</span>"
      ],
      "text/plain": [
       "<IPython.core.display.HTML object>"
      ]
     },
     "metadata": {},
     "output_type": "display_data"
    },
    {
     "data": {
      "text/html": [
       "<span style=\"font-size:10px; line-height: 12px; display: block; text-align: left;\"> [CLS] She was mayor of Las Vegas , Nevada from 1991 to 1999 and the first<span style=\"background-color: #1f77b4;\"> woman</span> to serve as mayor of Las Vegas . [SEP]</span><span style=\"font-size:10px; line-height: 12px; display: block; text-align: left;\"> [CLS] She has also performed in an Off - Broadway one -<span style=\"background-color: #1f77b4;\"> woman</span> show entitled \" Me , My Mouth and I \" . [SEP]</span>"
      ],
      "text/plain": [
       "<IPython.core.display.HTML object>"
      ]
     },
     "metadata": {},
     "output_type": "display_data"
    },
    {
     "data": {
      "text/html": [
       "<span style=\"font-size:10px; line-height: 12px; display: block; text-align: left;\"> [CLS] In St . Cyril/le the two meet Marianne , a lovely young French<span style=\"background-color: #ff7f0e;\"> woman</span> to whom the Colonel has promised to return . [SEP]</span><span style=\"font-size:10px; line-height: 12px; display: block; text-align: left;\"> [CLS] According to some historical accounts , her slave work might be similar to modern day ' s<span style=\"background-color: #ff7f0e;\"> woman</span> wrestler . [SEP]</span><span style=\"font-size:10px; line-height: 12px; display: block; text-align: left;\"> [CLS] CNN said that the advertisement was approved by a<span style=\"background-color: #ff7f0e;\"> woman</span> in the productions department . [SEP]</span><span style=\"font-size:10px; line-height: 12px; display: block; text-align: left;\"> [CLS] Deep/ly regret/ful about what he is leaving behind , he rides away from the<span style=\"background-color: #ff7f0e;\"> woman</span> and boy , never to return . [SEP]</span><span style=\"font-size:10px; line-height: 12px; display: block; text-align: left;\"> [CLS] The group is accompanied by a \" Hu/tte/f/rou/eli \" ( an e/ff/ig/y of an old<span style=\"background-color: #ff7f0e;\"> woman</span> ) . [SEP]</span><span style=\"font-size:10px; line-height: 12px; display: block; text-align: left;\"> [CLS] When Homer has trouble finding a secretary who is not a seductive young<span style=\"background-color: #ff7f0e;\"> woman</span> , a man named Karl persuade/s Homer to hire him . [SEP]</span><span style=\"font-size:10px; line-height: 12px; display: block; text-align: left;\"> [CLS] The complex structures of class bind a man and a<span style=\"background-color: #ff7f0e;\"> woman</span> . [SEP]</span><span style=\"font-size:10px; line-height: 12px; display: block; text-align: left;\"> [CLS] Four people were killed on the ground , including a British<span style=\"background-color: #ff7f0e;\"> woman</span> living in Germany . [SEP]</span><span style=\"font-size:10px; line-height: 12px; display: block; text-align: left;\"> [CLS] U/ra Riga/na U/ra Riga/na K/wal/u ( born 24 June 1976 ) is a former Papua New Guinea/n<span style=\"background-color: #ff7f0e;\"> woman</span> cricketer . [SEP]</span><span style=\"font-size:10px; line-height: 12px; display: block; text-align: left;\"> [CLS] Her father , a prominent lawyer , died just as Sea/well reached<span style=\"background-color: #ff7f0e;\"> woman</span>/hood . [SEP]</span><span style=\"font-size:10px; line-height: 12px; display: block; text-align: left;\"> [CLS] In 2001 , E/ffe/nberg was fined after being found guilty of assault/ing a<span style=\"background-color: #ff7f0e;\"> woman</span> in a nightclub . [SEP]</span><span style=\"font-size:10px; line-height: 12px; display: block; text-align: left;\"> [CLS] Lo/ft/us was the illegitimate son of Nicholas Lo/ft/us , 1st Viscount Lo/ft/us by a<span style=\"background-color: #ff7f0e;\"> woman</span> with the surname of Phillips . [SEP]</span><span style=\"font-size:10px; line-height: 12px; display: block; text-align: left;\"> [CLS] He first settled in the western section of Be/rks county , and there married a young<span style=\"background-color: #ff7f0e;\"> woman</span> by the name of R/os/ina Meyer . [SEP]</span>"
      ],
      "text/plain": [
       "<IPython.core.display.HTML object>"
      ]
     },
     "metadata": {},
     "output_type": "display_data"
    },
    {
     "data": {
      "text/html": [
       "<span style=\"font-size:10px; line-height: 12px; display: block; text-align: left;\"> [CLS] Pay/nto/r married a<span style=\"background-color: #2ca02c;\"> woman</span> named Joan ; they had a son , Thomas , and a daughter , Joan . [SEP]</span><span style=\"font-size:10px; line-height: 12px; display: block; text-align: left;\"> [CLS] Our Mi/ms was saved by a<span style=\"background-color: #2ca02c;\"> woman</span> named Jeanne Mira/bit/o , who found her and brought her food . [SEP]</span><span style=\"font-size:10px; line-height: 12px; display: block; text-align: left;\"> [CLS] But there was one<span style=\"background-color: #2ca02c;\"> woman</span> who contested who lost her deposit . [SEP]</span><span style=\"font-size:10px; line-height: 12px; display: block; text-align: left;\"> [CLS] The new<span style=\"background-color: #2ca02c;\"> woman</span> ' s role in modern China was often debated by intellectuals , liberal/s , and The Nationalist/s and the Communist . [SEP]</span><span style=\"font-size:10px; line-height: 12px; display: block; text-align: left;\"> [CLS] Currently he is married to a<span style=\"background-color: #2ca02c;\"> woman</span> named Meg/han and has an eight - year - old son Brady . [SEP]</span><span style=\"font-size:10px; line-height: 12px; display: block; text-align: left;\"> [CLS] Another<span style=\"background-color: #2ca02c;\"> woman</span> enters and as she dances , psychedelic images appear , with the others cheer/ing her on . [SEP]</span><span style=\"font-size:10px; line-height: 12px; display: block; text-align: left;\"> [CLS] The<span style=\"background-color: #2ca02c;\"> woman</span> ' s husband also experiences the day repeatedly . [SEP]</span><span style=\"font-size:10px; line-height: 12px; display: block; text-align: left;\"> [CLS] An old<span style=\"background-color: #2ca02c;\"> woman</span> and her granddaughter Yu are waiting for the latter ' s cousin Ming to come home from his overseas studies . [SEP]</span><span style=\"font-size:10px; line-height: 12px; display: block; text-align: left;\"> [CLS] One former Jung/ian<span style=\"background-color: #2ca02c;\"> woman</span> has criticized Jung ' s early women a/co/ly/tes . [SEP]</span><span style=\"font-size:10px; line-height: 12px; display: block; text-align: left;\"> [CLS] A lone middle - aged<span style=\"background-color: #2ca02c;\"> woman</span> , G/au/ri , meets Mu/dal/iar , another middle - aged man in the house of her boss . [SEP]</span>"
      ],
      "text/plain": [
       "<IPython.core.display.HTML object>"
      ]
     },
     "metadata": {},
     "output_type": "display_data"
    },
    {
     "name": "stdout",
     "output_type": "stream",
     "text": [
      "\n"
     ]
    },
    {
     "data": {
      "text/html": [
       "<span style=\"background-color: lightpink;\">arr_3</span>"
      ],
      "text/plain": [
       "<IPython.core.display.HTML object>"
      ]
     },
     "metadata": {},
     "output_type": "display_data"
    },
    {
     "data": {
      "text/html": [
       "<span style=\"font-size:10px; line-height: 12px; display: block; text-align: left;\"> [CLS] The new<span style=\"background-color: #1f77b4;\"> woman</span> ' s role in modern China was often debated by intellectuals , liberal/s , and The Nationalist/s and the Communist . [SEP]</span><span style=\"font-size:10px; line-height: 12px; display: block; text-align: left;\"> [CLS] The<span style=\"background-color: #1f77b4;\"> woman</span> ' s husband also experiences the day repeatedly . [SEP]</span><span style=\"font-size:10px; line-height: 12px; display: block; text-align: left;\"> [CLS] One former Jung/ian<span style=\"background-color: #1f77b4;\"> woman</span> has criticized Jung ' s early women a/co/ly/tes . [SEP]</span>"
      ],
      "text/plain": [
       "<IPython.core.display.HTML object>"
      ]
     },
     "metadata": {},
     "output_type": "display_data"
    },
    {
     "data": {
      "text/html": [
       "<span style=\"font-size:10px; line-height: 12px; display: block; text-align: left;\"> [CLS] Pay/nto/r married a<span style=\"background-color: #ff7f0e;\"> woman</span> named Joan ; they had a son , Thomas , and a daughter , Joan . [SEP]</span><span style=\"font-size:10px; line-height: 12px; display: block; text-align: left;\"> [CLS] In St . Cyril/le the two meet Marianne , a lovely young French<span style=\"background-color: #ff7f0e;\"> woman</span> to whom the Colonel has promised to return . [SEP]</span><span style=\"font-size:10px; line-height: 12px; display: block; text-align: left;\"> [CLS] Deep/ly regret/ful about what he is leaving behind , he rides away from the<span style=\"background-color: #ff7f0e;\"> woman</span> and boy , never to return . [SEP]</span><span style=\"font-size:10px; line-height: 12px; display: block; text-align: left;\"> [CLS] Our Mi/ms was saved by a<span style=\"background-color: #ff7f0e;\"> woman</span> named Jeanne Mira/bit/o , who found her and brought her food . [SEP]</span><span style=\"font-size:10px; line-height: 12px; display: block; text-align: left;\"> [CLS] But there was one<span style=\"background-color: #ff7f0e;\"> woman</span> who contested who lost her deposit . [SEP]</span><span style=\"font-size:10px; line-height: 12px; display: block; text-align: left;\"> [CLS] The group is accompanied by a \" Hu/tte/f/rou/eli \" ( an e/ff/ig/y of an old<span style=\"background-color: #ff7f0e;\"> woman</span> ) . [SEP]</span><span style=\"font-size:10px; line-height: 12px; display: block; text-align: left;\"> [CLS] When Homer has trouble finding a secretary who is not a seductive young<span style=\"background-color: #ff7f0e;\"> woman</span> , a man named Karl persuade/s Homer to hire him . [SEP]</span><span style=\"font-size:10px; line-height: 12px; display: block; text-align: left;\"> [CLS] Four people were killed on the ground , including a British<span style=\"background-color: #ff7f0e;\"> woman</span> living in Germany . [SEP]</span><span style=\"font-size:10px; line-height: 12px; display: block; text-align: left;\"> [CLS] Currently he is married to a<span style=\"background-color: #ff7f0e;\"> woman</span> named Meg/han and has an eight - year - old son Brady . [SEP]</span><span style=\"font-size:10px; line-height: 12px; display: block; text-align: left;\"> [CLS] Another<span style=\"background-color: #ff7f0e;\"> woman</span> enters and as she dances , psychedelic images appear , with the others cheer/ing her on . [SEP]</span><span style=\"font-size:10px; line-height: 12px; display: block; text-align: left;\"> [CLS] An old<span style=\"background-color: #ff7f0e;\"> woman</span> and her granddaughter Yu are waiting for the latter ' s cousin Ming to come home from his overseas studies . [SEP]</span><span style=\"font-size:10px; line-height: 12px; display: block; text-align: left;\"> [CLS] In 2001 , E/ffe/nberg was fined after being found guilty of assault/ing a<span style=\"background-color: #ff7f0e;\"> woman</span> in a nightclub . [SEP]</span><span style=\"font-size:10px; line-height: 12px; display: block; text-align: left;\"> [CLS] A lone middle - aged<span style=\"background-color: #ff7f0e;\"> woman</span> , G/au/ri , meets Mu/dal/iar , another middle - aged man in the house of her boss . [SEP]</span><span style=\"font-size:10px; line-height: 12px; display: block; text-align: left;\"> [CLS] Lo/ft/us was the illegitimate son of Nicholas Lo/ft/us , 1st Viscount Lo/ft/us by a<span style=\"background-color: #ff7f0e;\"> woman</span> with the surname of Phillips . [SEP]</span><span style=\"font-size:10px; line-height: 12px; display: block; text-align: left;\"> [CLS] He first settled in the western section of Be/rks county , and there married a young<span style=\"background-color: #ff7f0e;\"> woman</span> by the name of R/os/ina Meyer . [SEP]</span>"
      ],
      "text/plain": [
       "<IPython.core.display.HTML object>"
      ]
     },
     "metadata": {},
     "output_type": "display_data"
    },
    {
     "data": {
      "text/html": [
       "<span style=\"font-size:10px; line-height: 12px; display: block; text-align: left;\"> [CLS] According to some historical accounts , her slave work might be similar to modern day ' s<span style=\"background-color: #2ca02c;\"> woman</span> wrestler . [SEP]</span><span style=\"font-size:10px; line-height: 12px; display: block; text-align: left;\"> [CLS] CNN said that the advertisement was approved by a<span style=\"background-color: #2ca02c;\"> woman</span> in the productions department . [SEP]</span><span style=\"font-size:10px; line-height: 12px; display: block; text-align: left;\"> [CLS] She was mayor of Las Vegas , Nevada from 1991 to 1999 and the first<span style=\"background-color: #2ca02c;\"> woman</span> to serve as mayor of Las Vegas . [SEP]</span><span style=\"font-size:10px; line-height: 12px; display: block; text-align: left;\"> [CLS] She has also performed in an Off - Broadway one -<span style=\"background-color: #2ca02c;\"> woman</span> show entitled \" Me , My Mouth and I \" . [SEP]</span><span style=\"font-size:10px; line-height: 12px; display: block; text-align: left;\"> [CLS] The complex structures of class bind a man and a<span style=\"background-color: #2ca02c;\"> woman</span> . [SEP]</span><span style=\"font-size:10px; line-height: 12px; display: block; text-align: left;\"> [CLS] U/ra Riga/na U/ra Riga/na K/wal/u ( born 24 June 1976 ) is a former Papua New Guinea/n<span style=\"background-color: #2ca02c;\"> woman</span> cricketer . [SEP]</span><span style=\"font-size:10px; line-height: 12px; display: block; text-align: left;\"> [CLS] Her father , a prominent lawyer , died just as Sea/well reached<span style=\"background-color: #2ca02c;\"> woman</span>/hood . [SEP]</span>"
      ],
      "text/plain": [
       "<IPython.core.display.HTML object>"
      ]
     },
     "metadata": {},
     "output_type": "display_data"
    },
    {
     "name": "stdout",
     "output_type": "stream",
     "text": [
      "\n"
     ]
    },
    {
     "data": {
      "text/html": [
       "<span style=\"background-color: lightpink;\">arr_4</span>"
      ],
      "text/plain": [
       "<IPython.core.display.HTML object>"
      ]
     },
     "metadata": {},
     "output_type": "display_data"
    },
    {
     "data": {
      "text/html": [
       "<span style=\"font-size:10px; line-height: 12px; display: block; text-align: left;\"> [CLS] According to some historical accounts , her slave work might be similar to modern day ' s<span style=\"background-color: #1f77b4;\"> woman</span> wrestler . [SEP]</span><span style=\"font-size:10px; line-height: 12px; display: block; text-align: left;\"> [CLS] CNN said that the advertisement was approved by a<span style=\"background-color: #1f77b4;\"> woman</span> in the productions department . [SEP]</span><span style=\"font-size:10px; line-height: 12px; display: block; text-align: left;\"> [CLS] The new<span style=\"background-color: #1f77b4;\"> woman</span> ' s role in modern China was often debated by intellectuals , liberal/s , and The Nationalist/s and the Communist . [SEP]</span><span style=\"font-size:10px; line-height: 12px; display: block; text-align: left;\"> [CLS] U/ra Riga/na U/ra Riga/na K/wal/u ( born 24 June 1976 ) is a former Papua New Guinea/n<span style=\"background-color: #1f77b4;\"> woman</span> cricketer . [SEP]</span><span style=\"font-size:10px; line-height: 12px; display: block; text-align: left;\"> [CLS] The<span style=\"background-color: #1f77b4;\"> woman</span> ' s husband also experiences the day repeatedly . [SEP]</span><span style=\"font-size:10px; line-height: 12px; display: block; text-align: left;\"> [CLS] One former Jung/ian<span style=\"background-color: #1f77b4;\"> woman</span> has criticized Jung ' s early women a/co/ly/tes . [SEP]</span>"
      ],
      "text/plain": [
       "<IPython.core.display.HTML object>"
      ]
     },
     "metadata": {},
     "output_type": "display_data"
    },
    {
     "data": {
      "text/html": [
       "<span style=\"font-size:10px; line-height: 12px; display: block; text-align: left;\"> [CLS] Pay/nto/r married a<span style=\"background-color: #ff7f0e;\"> woman</span> named Joan ; they had a son , Thomas , and a daughter , Joan . [SEP]</span><span style=\"font-size:10px; line-height: 12px; display: block; text-align: left;\"> [CLS] In St . Cyril/le the two meet Marianne , a lovely young French<span style=\"background-color: #ff7f0e;\"> woman</span> to whom the Colonel has promised to return . [SEP]</span><span style=\"font-size:10px; line-height: 12px; display: block; text-align: left;\"> [CLS] Deep/ly regret/ful about what he is leaving behind , he rides away from the<span style=\"background-color: #ff7f0e;\"> woman</span> and boy , never to return . [SEP]</span><span style=\"font-size:10px; line-height: 12px; display: block; text-align: left;\"> [CLS] Our Mi/ms was saved by a<span style=\"background-color: #ff7f0e;\"> woman</span> named Jeanne Mira/bit/o , who found her and brought her food . [SEP]</span><span style=\"font-size:10px; line-height: 12px; display: block; text-align: left;\"> [CLS] But there was one<span style=\"background-color: #ff7f0e;\"> woman</span> who contested who lost her deposit . [SEP]</span><span style=\"font-size:10px; line-height: 12px; display: block; text-align: left;\"> [CLS] The group is accompanied by a \" Hu/tte/f/rou/eli \" ( an e/ff/ig/y of an old<span style=\"background-color: #ff7f0e;\"> woman</span> ) . [SEP]</span><span style=\"font-size:10px; line-height: 12px; display: block; text-align: left;\"> [CLS] When Homer has trouble finding a secretary who is not a seductive young<span style=\"background-color: #ff7f0e;\"> woman</span> , a man named Karl persuade/s Homer to hire him . [SEP]</span><span style=\"font-size:10px; line-height: 12px; display: block; text-align: left;\"> [CLS] The complex structures of class bind a man and a<span style=\"background-color: #ff7f0e;\"> woman</span> . [SEP]</span><span style=\"font-size:10px; line-height: 12px; display: block; text-align: left;\"> [CLS] Four people were killed on the ground , including a British<span style=\"background-color: #ff7f0e;\"> woman</span> living in Germany . [SEP]</span><span style=\"font-size:10px; line-height: 12px; display: block; text-align: left;\"> [CLS] Currently he is married to a<span style=\"background-color: #ff7f0e;\"> woman</span> named Meg/han and has an eight - year - old son Brady . [SEP]</span><span style=\"font-size:10px; line-height: 12px; display: block; text-align: left;\"> [CLS] Another<span style=\"background-color: #ff7f0e;\"> woman</span> enters and as she dances , psychedelic images appear , with the others cheer/ing her on . [SEP]</span><span style=\"font-size:10px; line-height: 12px; display: block; text-align: left;\"> [CLS] An old<span style=\"background-color: #ff7f0e;\"> woman</span> and her granddaughter Yu are waiting for the latter ' s cousin Ming to come home from his overseas studies . [SEP]</span><span style=\"font-size:10px; line-height: 12px; display: block; text-align: left;\"> [CLS] Her father , a prominent lawyer , died just as Sea/well reached<span style=\"background-color: #ff7f0e;\"> woman</span>/hood . [SEP]</span><span style=\"font-size:10px; line-height: 12px; display: block; text-align: left;\"> [CLS] In 2001 , E/ffe/nberg was fined after being found guilty of assault/ing a<span style=\"background-color: #ff7f0e;\"> woman</span> in a nightclub . [SEP]</span><span style=\"font-size:10px; line-height: 12px; display: block; text-align: left;\"> [CLS] A lone middle - aged<span style=\"background-color: #ff7f0e;\"> woman</span> , G/au/ri , meets Mu/dal/iar , another middle - aged man in the house of her boss . [SEP]</span><span style=\"font-size:10px; line-height: 12px; display: block; text-align: left;\"> [CLS] Lo/ft/us was the illegitimate son of Nicholas Lo/ft/us , 1st Viscount Lo/ft/us by a<span style=\"background-color: #ff7f0e;\"> woman</span> with the surname of Phillips . [SEP]</span><span style=\"font-size:10px; line-height: 12px; display: block; text-align: left;\"> [CLS] He first settled in the western section of Be/rks county , and there married a young<span style=\"background-color: #ff7f0e;\"> woman</span> by the name of R/os/ina Meyer . [SEP]</span>"
      ],
      "text/plain": [
       "<IPython.core.display.HTML object>"
      ]
     },
     "metadata": {},
     "output_type": "display_data"
    },
    {
     "data": {
      "text/html": [
       "<span style=\"font-size:10px; line-height: 12px; display: block; text-align: left;\"> [CLS] She was mayor of Las Vegas , Nevada from 1991 to 1999 and the first<span style=\"background-color: #2ca02c;\"> woman</span> to serve as mayor of Las Vegas . [SEP]</span><span style=\"font-size:10px; line-height: 12px; display: block; text-align: left;\"> [CLS] She has also performed in an Off - Broadway one -<span style=\"background-color: #2ca02c;\"> woman</span> show entitled \" Me , My Mouth and I \" . [SEP]</span>"
      ],
      "text/plain": [
       "<IPython.core.display.HTML object>"
      ]
     },
     "metadata": {},
     "output_type": "display_data"
    },
    {
     "name": "stdout",
     "output_type": "stream",
     "text": [
      "\n"
     ]
    },
    {
     "data": {
      "text/html": [
       "<span style=\"background-color: lightpink;\">arr_5</span>"
      ],
      "text/plain": [
       "<IPython.core.display.HTML object>"
      ]
     },
     "metadata": {},
     "output_type": "display_data"
    },
    {
     "data": {
      "text/html": [
       "<span style=\"font-size:10px; line-height: 12px; display: block; text-align: left;\"> [CLS] Pay/nto/r married a<span style=\"background-color: #1f77b4;\"> woman</span> named Joan ; they had a son , Thomas , and a daughter , Joan . [SEP]</span><span style=\"font-size:10px; line-height: 12px; display: block; text-align: left;\"> [CLS] In St . Cyril/le the two meet Marianne , a lovely young French<span style=\"background-color: #1f77b4;\"> woman</span> to whom the Colonel has promised to return . [SEP]</span><span style=\"font-size:10px; line-height: 12px; display: block; text-align: left;\"> [CLS] Deep/ly regret/ful about what he is leaving behind , he rides away from the<span style=\"background-color: #1f77b4;\"> woman</span> and boy , never to return . [SEP]</span><span style=\"font-size:10px; line-height: 12px; display: block; text-align: left;\"> [CLS] Our Mi/ms was saved by a<span style=\"background-color: #1f77b4;\"> woman</span> named Jeanne Mira/bit/o , who found her and brought her food . [SEP]</span><span style=\"font-size:10px; line-height: 12px; display: block; text-align: left;\"> [CLS] The group is accompanied by a \" Hu/tte/f/rou/eli \" ( an e/ff/ig/y of an old<span style=\"background-color: #1f77b4;\"> woman</span> ) . [SEP]</span><span style=\"font-size:10px; line-height: 12px; display: block; text-align: left;\"> [CLS] When Homer has trouble finding a secretary who is not a seductive young<span style=\"background-color: #1f77b4;\"> woman</span> , a man named Karl persuade/s Homer to hire him . [SEP]</span><span style=\"font-size:10px; line-height: 12px; display: block; text-align: left;\"> [CLS] The complex structures of class bind a man and a<span style=\"background-color: #1f77b4;\"> woman</span> . [SEP]</span><span style=\"font-size:10px; line-height: 12px; display: block; text-align: left;\"> [CLS] Currently he is married to a<span style=\"background-color: #1f77b4;\"> woman</span> named Meg/han and has an eight - year - old son Brady . [SEP]</span><span style=\"font-size:10px; line-height: 12px; display: block; text-align: left;\"> [CLS] An old<span style=\"background-color: #1f77b4;\"> woman</span> and her granddaughter Yu are waiting for the latter ' s cousin Ming to come home from his overseas studies . [SEP]</span><span style=\"font-size:10px; line-height: 12px; display: block; text-align: left;\"> [CLS] In 2001 , E/ffe/nberg was fined after being found guilty of assault/ing a<span style=\"background-color: #1f77b4;\"> woman</span> in a nightclub . [SEP]</span><span style=\"font-size:10px; line-height: 12px; display: block; text-align: left;\"> [CLS] A lone middle - aged<span style=\"background-color: #1f77b4;\"> woman</span> , G/au/ri , meets Mu/dal/iar , another middle - aged man in the house of her boss . [SEP]</span><span style=\"font-size:10px; line-height: 12px; display: block; text-align: left;\"> [CLS] Lo/ft/us was the illegitimate son of Nicholas Lo/ft/us , 1st Viscount Lo/ft/us by a<span style=\"background-color: #1f77b4;\"> woman</span> with the surname of Phillips . [SEP]</span><span style=\"font-size:10px; line-height: 12px; display: block; text-align: left;\"> [CLS] He first settled in the western section of Be/rks county , and there married a young<span style=\"background-color: #1f77b4;\"> woman</span> by the name of R/os/ina Meyer . [SEP]</span>"
      ],
      "text/plain": [
       "<IPython.core.display.HTML object>"
      ]
     },
     "metadata": {},
     "output_type": "display_data"
    },
    {
     "data": {
      "text/html": [
       "<span style=\"font-size:10px; line-height: 12px; display: block; text-align: left;\"> [CLS] According to some historical accounts , her slave work might be similar to modern day ' s<span style=\"background-color: #ff7f0e;\"> woman</span> wrestler . [SEP]</span><span style=\"font-size:10px; line-height: 12px; display: block; text-align: left;\"> [CLS] She has also performed in an Off - Broadway one -<span style=\"background-color: #ff7f0e;\"> woman</span> show entitled \" Me , My Mouth and I \" . [SEP]</span><span style=\"font-size:10px; line-height: 12px; display: block; text-align: left;\"> [CLS] U/ra Riga/na U/ra Riga/na K/wal/u ( born 24 June 1976 ) is a former Papua New Guinea/n<span style=\"background-color: #ff7f0e;\"> woman</span> cricketer . [SEP]</span><span style=\"font-size:10px; line-height: 12px; display: block; text-align: left;\"> [CLS] Her father , a prominent lawyer , died just as Sea/well reached<span style=\"background-color: #ff7f0e;\"> woman</span>/hood . [SEP]</span>"
      ],
      "text/plain": [
       "<IPython.core.display.HTML object>"
      ]
     },
     "metadata": {},
     "output_type": "display_data"
    },
    {
     "data": {
      "text/html": [
       "<span style=\"font-size:10px; line-height: 12px; display: block; text-align: left;\"> [CLS] CNN said that the advertisement was approved by a<span style=\"background-color: #2ca02c;\"> woman</span> in the productions department . [SEP]</span><span style=\"font-size:10px; line-height: 12px; display: block; text-align: left;\"> [CLS] She was mayor of Las Vegas , Nevada from 1991 to 1999 and the first<span style=\"background-color: #2ca02c;\"> woman</span> to serve as mayor of Las Vegas . [SEP]</span><span style=\"font-size:10px; line-height: 12px; display: block; text-align: left;\"> [CLS] But there was one<span style=\"background-color: #2ca02c;\"> woman</span> who contested who lost her deposit . [SEP]</span><span style=\"font-size:10px; line-height: 12px; display: block; text-align: left;\"> [CLS] The new<span style=\"background-color: #2ca02c;\"> woman</span> ' s role in modern China was often debated by intellectuals , liberal/s , and The Nationalist/s and the Communist . [SEP]</span><span style=\"font-size:10px; line-height: 12px; display: block; text-align: left;\"> [CLS] Four people were killed on the ground , including a British<span style=\"background-color: #2ca02c;\"> woman</span> living in Germany . [SEP]</span><span style=\"font-size:10px; line-height: 12px; display: block; text-align: left;\"> [CLS] Another<span style=\"background-color: #2ca02c;\"> woman</span> enters and as she dances , psychedelic images appear , with the others cheer/ing her on . [SEP]</span><span style=\"font-size:10px; line-height: 12px; display: block; text-align: left;\"> [CLS] The<span style=\"background-color: #2ca02c;\"> woman</span> ' s husband also experiences the day repeatedly . [SEP]</span><span style=\"font-size:10px; line-height: 12px; display: block; text-align: left;\"> [CLS] One former Jung/ian<span style=\"background-color: #2ca02c;\"> woman</span> has criticized Jung ' s early women a/co/ly/tes . [SEP]</span>"
      ],
      "text/plain": [
       "<IPython.core.display.HTML object>"
      ]
     },
     "metadata": {},
     "output_type": "display_data"
    },
    {
     "name": "stdout",
     "output_type": "stream",
     "text": [
      "\n"
     ]
    },
    {
     "data": {
      "text/html": [
       "<span style=\"background-color: lightpink;\">arr_6</span>"
      ],
      "text/plain": [
       "<IPython.core.display.HTML object>"
      ]
     },
     "metadata": {},
     "output_type": "display_data"
    },
    {
     "data": {
      "text/html": [
       "<span style=\"font-size:10px; line-height: 12px; display: block; text-align: left;\"> [CLS] Pay/nto/r married a<span style=\"background-color: #1f77b4;\"> woman</span> named Joan ; they had a son , Thomas , and a daughter , Joan . [SEP]</span><span style=\"font-size:10px; line-height: 12px; display: block; text-align: left;\"> [CLS] In St . Cyril/le the two meet Marianne , a lovely young French<span style=\"background-color: #1f77b4;\"> woman</span> to whom the Colonel has promised to return . [SEP]</span><span style=\"font-size:10px; line-height: 12px; display: block; text-align: left;\"> [CLS] Deep/ly regret/ful about what he is leaving behind , he rides away from the<span style=\"background-color: #1f77b4;\"> woman</span> and boy , never to return . [SEP]</span><span style=\"font-size:10px; line-height: 12px; display: block; text-align: left;\"> [CLS] Our Mi/ms was saved by a<span style=\"background-color: #1f77b4;\"> woman</span> named Jeanne Mira/bit/o , who found her and brought her food . [SEP]</span><span style=\"font-size:10px; line-height: 12px; display: block; text-align: left;\"> [CLS] But there was one<span style=\"background-color: #1f77b4;\"> woman</span> who contested who lost her deposit . [SEP]</span><span style=\"font-size:10px; line-height: 12px; display: block; text-align: left;\"> [CLS] The group is accompanied by a \" Hu/tte/f/rou/eli \" ( an e/ff/ig/y of an old<span style=\"background-color: #1f77b4;\"> woman</span> ) . [SEP]</span><span style=\"font-size:10px; line-height: 12px; display: block; text-align: left;\"> [CLS] When Homer has trouble finding a secretary who is not a seductive young<span style=\"background-color: #1f77b4;\"> woman</span> , a man named Karl persuade/s Homer to hire him . [SEP]</span><span style=\"font-size:10px; line-height: 12px; display: block; text-align: left;\"> [CLS] The complex structures of class bind a man and a<span style=\"background-color: #1f77b4;\"> woman</span> . [SEP]</span><span style=\"font-size:10px; line-height: 12px; display: block; text-align: left;\"> [CLS] Four people were killed on the ground , including a British<span style=\"background-color: #1f77b4;\"> woman</span> living in Germany . [SEP]</span><span style=\"font-size:10px; line-height: 12px; display: block; text-align: left;\"> [CLS] Currently he is married to a<span style=\"background-color: #1f77b4;\"> woman</span> named Meg/han and has an eight - year - old son Brady . [SEP]</span><span style=\"font-size:10px; line-height: 12px; display: block; text-align: left;\"> [CLS] Another<span style=\"background-color: #1f77b4;\"> woman</span> enters and as she dances , psychedelic images appear , with the others cheer/ing her on . [SEP]</span><span style=\"font-size:10px; line-height: 12px; display: block; text-align: left;\"> [CLS] The<span style=\"background-color: #1f77b4;\"> woman</span> ' s husband also experiences the day repeatedly . [SEP]</span><span style=\"font-size:10px; line-height: 12px; display: block; text-align: left;\"> [CLS] An old<span style=\"background-color: #1f77b4;\"> woman</span> and her granddaughter Yu are waiting for the latter ' s cousin Ming to come home from his overseas studies . [SEP]</span><span style=\"font-size:10px; line-height: 12px; display: block; text-align: left;\"> [CLS] In 2001 , E/ffe/nberg was fined after being found guilty of assault/ing a<span style=\"background-color: #1f77b4;\"> woman</span> in a nightclub . [SEP]</span><span style=\"font-size:10px; line-height: 12px; display: block; text-align: left;\"> [CLS] A lone middle - aged<span style=\"background-color: #1f77b4;\"> woman</span> , G/au/ri , meets Mu/dal/iar , another middle - aged man in the house of her boss . [SEP]</span><span style=\"font-size:10px; line-height: 12px; display: block; text-align: left;\"> [CLS] Lo/ft/us was the illegitimate son of Nicholas Lo/ft/us , 1st Viscount Lo/ft/us by a<span style=\"background-color: #1f77b4;\"> woman</span> with the surname of Phillips . [SEP]</span><span style=\"font-size:10px; line-height: 12px; display: block; text-align: left;\"> [CLS] He first settled in the western section of Be/rks county , and there married a young<span style=\"background-color: #1f77b4;\"> woman</span> by the name of R/os/ina Meyer . [SEP]</span>"
      ],
      "text/plain": [
       "<IPython.core.display.HTML object>"
      ]
     },
     "metadata": {},
     "output_type": "display_data"
    },
    {
     "data": {
      "text/html": [
       "<span style=\"font-size:10px; line-height: 12px; display: block; text-align: left;\"> [CLS] According to some historical accounts , her slave work might be similar to modern day ' s<span style=\"background-color: #ff7f0e;\"> woman</span> wrestler . [SEP]</span><span style=\"font-size:10px; line-height: 12px; display: block; text-align: left;\"> [CLS] CNN said that the advertisement was approved by a<span style=\"background-color: #ff7f0e;\"> woman</span> in the productions department . [SEP]</span><span style=\"font-size:10px; line-height: 12px; display: block; text-align: left;\"> [CLS] She was mayor of Las Vegas , Nevada from 1991 to 1999 and the first<span style=\"background-color: #ff7f0e;\"> woman</span> to serve as mayor of Las Vegas . [SEP]</span><span style=\"font-size:10px; line-height: 12px; display: block; text-align: left;\"> [CLS] The new<span style=\"background-color: #ff7f0e;\"> woman</span> ' s role in modern China was often debated by intellectuals , liberal/s , and The Nationalist/s and the Communist . [SEP]</span><span style=\"font-size:10px; line-height: 12px; display: block; text-align: left;\"> [CLS] She has also performed in an Off - Broadway one -<span style=\"background-color: #ff7f0e;\"> woman</span> show entitled \" Me , My Mouth and I \" . [SEP]</span><span style=\"font-size:10px; line-height: 12px; display: block; text-align: left;\"> [CLS] U/ra Riga/na U/ra Riga/na K/wal/u ( born 24 June 1976 ) is a former Papua New Guinea/n<span style=\"background-color: #ff7f0e;\"> woman</span> cricketer . [SEP]</span><span style=\"font-size:10px; line-height: 12px; display: block; text-align: left;\"> [CLS] One former Jung/ian<span style=\"background-color: #ff7f0e;\"> woman</span> has criticized Jung ' s early women a/co/ly/tes . [SEP]</span>"
      ],
      "text/plain": [
       "<IPython.core.display.HTML object>"
      ]
     },
     "metadata": {},
     "output_type": "display_data"
    },
    {
     "data": {
      "text/html": [
       "<span style=\"font-size:10px; line-height: 12px; display: block; text-align: left;\"> [CLS] Her father , a prominent lawyer , died just as Sea/well reached<span style=\"background-color: #2ca02c;\"> woman</span>/hood . [SEP]</span>"
      ],
      "text/plain": [
       "<IPython.core.display.HTML object>"
      ]
     },
     "metadata": {},
     "output_type": "display_data"
    },
    {
     "name": "stdout",
     "output_type": "stream",
     "text": [
      "\n"
     ]
    },
    {
     "data": {
      "text/html": [
       "<span style=\"background-color: lightpink;\">arr_7</span>"
      ],
      "text/plain": [
       "<IPython.core.display.HTML object>"
      ]
     },
     "metadata": {},
     "output_type": "display_data"
    },
    {
     "data": {
      "text/html": [
       "<span style=\"font-size:10px; line-height: 12px; display: block; text-align: left;\"> [CLS] Pay/nto/r married a<span style=\"background-color: #1f77b4;\"> woman</span> named Joan ; they had a son , Thomas , and a daughter , Joan . [SEP]</span><span style=\"font-size:10px; line-height: 12px; display: block; text-align: left;\"> [CLS] In St . Cyril/le the two meet Marianne , a lovely young French<span style=\"background-color: #1f77b4;\"> woman</span> to whom the Colonel has promised to return . [SEP]</span><span style=\"font-size:10px; line-height: 12px; display: block; text-align: left;\"> [CLS] CNN said that the advertisement was approved by a<span style=\"background-color: #1f77b4;\"> woman</span> in the productions department . [SEP]</span><span style=\"font-size:10px; line-height: 12px; display: block; text-align: left;\"> [CLS] Deep/ly regret/ful about what he is leaving behind , he rides away from the<span style=\"background-color: #1f77b4;\"> woman</span> and boy , never to return . [SEP]</span><span style=\"font-size:10px; line-height: 12px; display: block; text-align: left;\"> [CLS] Our Mi/ms was saved by a<span style=\"background-color: #1f77b4;\"> woman</span> named Jeanne Mira/bit/o , who found her and brought her food . [SEP]</span><span style=\"font-size:10px; line-height: 12px; display: block; text-align: left;\"> [CLS] But there was one<span style=\"background-color: #1f77b4;\"> woman</span> who contested who lost her deposit . [SEP]</span><span style=\"font-size:10px; line-height: 12px; display: block; text-align: left;\"> [CLS] The group is accompanied by a \" Hu/tte/f/rou/eli \" ( an e/ff/ig/y of an old<span style=\"background-color: #1f77b4;\"> woman</span> ) . [SEP]</span><span style=\"font-size:10px; line-height: 12px; display: block; text-align: left;\"> [CLS] When Homer has trouble finding a secretary who is not a seductive young<span style=\"background-color: #1f77b4;\"> woman</span> , a man named Karl persuade/s Homer to hire him . [SEP]</span><span style=\"font-size:10px; line-height: 12px; display: block; text-align: left;\"> [CLS] The complex structures of class bind a man and a<span style=\"background-color: #1f77b4;\"> woman</span> . [SEP]</span><span style=\"font-size:10px; line-height: 12px; display: block; text-align: left;\"> [CLS] Four people were killed on the ground , including a British<span style=\"background-color: #1f77b4;\"> woman</span> living in Germany . [SEP]</span><span style=\"font-size:10px; line-height: 12px; display: block; text-align: left;\"> [CLS] Currently he is married to a<span style=\"background-color: #1f77b4;\"> woman</span> named Meg/han and has an eight - year - old son Brady . [SEP]</span><span style=\"font-size:10px; line-height: 12px; display: block; text-align: left;\"> [CLS] Another<span style=\"background-color: #1f77b4;\"> woman</span> enters and as she dances , psychedelic images appear , with the others cheer/ing her on . [SEP]</span><span style=\"font-size:10px; line-height: 12px; display: block; text-align: left;\"> [CLS] The<span style=\"background-color: #1f77b4;\"> woman</span> ' s husband also experiences the day repeatedly . [SEP]</span><span style=\"font-size:10px; line-height: 12px; display: block; text-align: left;\"> [CLS] An old<span style=\"background-color: #1f77b4;\"> woman</span> and her granddaughter Yu are waiting for the latter ' s cousin Ming to come home from his overseas studies . [SEP]</span><span style=\"font-size:10px; line-height: 12px; display: block; text-align: left;\"> [CLS] Her father , a prominent lawyer , died just as Sea/well reached<span style=\"background-color: #1f77b4;\"> woman</span>/hood . [SEP]</span><span style=\"font-size:10px; line-height: 12px; display: block; text-align: left;\"> [CLS] In 2001 , E/ffe/nberg was fined after being found guilty of assault/ing a<span style=\"background-color: #1f77b4;\"> woman</span> in a nightclub . [SEP]</span><span style=\"font-size:10px; line-height: 12px; display: block; text-align: left;\"> [CLS] One former Jung/ian<span style=\"background-color: #1f77b4;\"> woman</span> has criticized Jung ' s early women a/co/ly/tes . [SEP]</span><span style=\"font-size:10px; line-height: 12px; display: block; text-align: left;\"> [CLS] A lone middle - aged<span style=\"background-color: #1f77b4;\"> woman</span> , G/au/ri , meets Mu/dal/iar , another middle - aged man in the house of her boss . [SEP]</span><span style=\"font-size:10px; line-height: 12px; display: block; text-align: left;\"> [CLS] Lo/ft/us was the illegitimate son of Nicholas Lo/ft/us , 1st Viscount Lo/ft/us by a<span style=\"background-color: #1f77b4;\"> woman</span> with the surname of Phillips . [SEP]</span><span style=\"font-size:10px; line-height: 12px; display: block; text-align: left;\"> [CLS] He first settled in the western section of Be/rks county , and there married a young<span style=\"background-color: #1f77b4;\"> woman</span> by the name of R/os/ina Meyer . [SEP]</span>"
      ],
      "text/plain": [
       "<IPython.core.display.HTML object>"
      ]
     },
     "metadata": {},
     "output_type": "display_data"
    },
    {
     "data": {
      "text/html": [
       "<span style=\"font-size:10px; line-height: 12px; display: block; text-align: left;\"> [CLS] According to some historical accounts , her slave work might be similar to modern day ' s<span style=\"background-color: #ff7f0e;\"> woman</span> wrestler . [SEP]</span><span style=\"font-size:10px; line-height: 12px; display: block; text-align: left;\"> [CLS] She was mayor of Las Vegas , Nevada from 1991 to 1999 and the first<span style=\"background-color: #ff7f0e;\"> woman</span> to serve as mayor of Las Vegas . [SEP]</span><span style=\"font-size:10px; line-height: 12px; display: block; text-align: left;\"> [CLS] The new<span style=\"background-color: #ff7f0e;\"> woman</span> ' s role in modern China was often debated by intellectuals , liberal/s , and The Nationalist/s and the Communist . [SEP]</span><span style=\"font-size:10px; line-height: 12px; display: block; text-align: left;\"> [CLS] U/ra Riga/na U/ra Riga/na K/wal/u ( born 24 June 1976 ) is a former Papua New Guinea/n<span style=\"background-color: #ff7f0e;\"> woman</span> cricketer . [SEP]</span>"
      ],
      "text/plain": [
       "<IPython.core.display.HTML object>"
      ]
     },
     "metadata": {},
     "output_type": "display_data"
    },
    {
     "data": {
      "text/html": [
       "<span style=\"font-size:10px; line-height: 12px; display: block; text-align: left;\"> [CLS] She has also performed in an Off - Broadway one -<span style=\"background-color: #2ca02c;\"> woman</span> show entitled \" Me , My Mouth and I \" . [SEP]</span>"
      ],
      "text/plain": [
       "<IPython.core.display.HTML object>"
      ]
     },
     "metadata": {},
     "output_type": "display_data"
    },
    {
     "name": "stdout",
     "output_type": "stream",
     "text": [
      "\n"
     ]
    },
    {
     "data": {
      "text/html": [
       "<span style=\"background-color: lightpink;\">arr_8</span>"
      ],
      "text/plain": [
       "<IPython.core.display.HTML object>"
      ]
     },
     "metadata": {},
     "output_type": "display_data"
    },
    {
     "data": {
      "text/html": [
       "<span style=\"font-size:10px; line-height: 12px; display: block; text-align: left;\"> [CLS] She has also performed in an Off - Broadway one -<span style=\"background-color: #1f77b4;\"> woman</span> show entitled \" Me , My Mouth and I \" . [SEP]</span>"
      ],
      "text/plain": [
       "<IPython.core.display.HTML object>"
      ]
     },
     "metadata": {},
     "output_type": "display_data"
    },
    {
     "data": {
      "text/html": [
       "<span style=\"font-size:10px; line-height: 12px; display: block; text-align: left;\"> [CLS] Pay/nto/r married a<span style=\"background-color: #ff7f0e;\"> woman</span> named Joan ; they had a son , Thomas , and a daughter , Joan . [SEP]</span><span style=\"font-size:10px; line-height: 12px; display: block; text-align: left;\"> [CLS] In St . Cyril/le the two meet Marianne , a lovely young French<span style=\"background-color: #ff7f0e;\"> woman</span> to whom the Colonel has promised to return . [SEP]</span><span style=\"font-size:10px; line-height: 12px; display: block; text-align: left;\"> [CLS] CNN said that the advertisement was approved by a<span style=\"background-color: #ff7f0e;\"> woman</span> in the productions department . [SEP]</span><span style=\"font-size:10px; line-height: 12px; display: block; text-align: left;\"> [CLS] Deep/ly regret/ful about what he is leaving behind , he rides away from the<span style=\"background-color: #ff7f0e;\"> woman</span> and boy , never to return . [SEP]</span><span style=\"font-size:10px; line-height: 12px; display: block; text-align: left;\"> [CLS] Our Mi/ms was saved by a<span style=\"background-color: #ff7f0e;\"> woman</span> named Jeanne Mira/bit/o , who found her and brought her food . [SEP]</span><span style=\"font-size:10px; line-height: 12px; display: block; text-align: left;\"> [CLS] But there was one<span style=\"background-color: #ff7f0e;\"> woman</span> who contested who lost her deposit . [SEP]</span><span style=\"font-size:10px; line-height: 12px; display: block; text-align: left;\"> [CLS] The group is accompanied by a \" Hu/tte/f/rou/eli \" ( an e/ff/ig/y of an old<span style=\"background-color: #ff7f0e;\"> woman</span> ) . [SEP]</span><span style=\"font-size:10px; line-height: 12px; display: block; text-align: left;\"> [CLS] When Homer has trouble finding a secretary who is not a seductive young<span style=\"background-color: #ff7f0e;\"> woman</span> , a man named Karl persuade/s Homer to hire him . [SEP]</span><span style=\"font-size:10px; line-height: 12px; display: block; text-align: left;\"> [CLS] The complex structures of class bind a man and a<span style=\"background-color: #ff7f0e;\"> woman</span> . [SEP]</span><span style=\"font-size:10px; line-height: 12px; display: block; text-align: left;\"> [CLS] Four people were killed on the ground , including a British<span style=\"background-color: #ff7f0e;\"> woman</span> living in Germany . [SEP]</span><span style=\"font-size:10px; line-height: 12px; display: block; text-align: left;\"> [CLS] Currently he is married to a<span style=\"background-color: #ff7f0e;\"> woman</span> named Meg/han and has an eight - year - old son Brady . [SEP]</span><span style=\"font-size:10px; line-height: 12px; display: block; text-align: left;\"> [CLS] An old<span style=\"background-color: #ff7f0e;\"> woman</span> and her granddaughter Yu are waiting for the latter ' s cousin Ming to come home from his overseas studies . [SEP]</span><span style=\"font-size:10px; line-height: 12px; display: block; text-align: left;\"> [CLS] In 2001 , E/ffe/nberg was fined after being found guilty of assault/ing a<span style=\"background-color: #ff7f0e;\"> woman</span> in a nightclub . [SEP]</span><span style=\"font-size:10px; line-height: 12px; display: block; text-align: left;\"> [CLS] A lone middle - aged<span style=\"background-color: #ff7f0e;\"> woman</span> , G/au/ri , meets Mu/dal/iar , another middle - aged man in the house of her boss . [SEP]</span><span style=\"font-size:10px; line-height: 12px; display: block; text-align: left;\"> [CLS] Lo/ft/us was the illegitimate son of Nicholas Lo/ft/us , 1st Viscount Lo/ft/us by a<span style=\"background-color: #ff7f0e;\"> woman</span> with the surname of Phillips . [SEP]</span><span style=\"font-size:10px; line-height: 12px; display: block; text-align: left;\"> [CLS] He first settled in the western section of Be/rks county , and there married a young<span style=\"background-color: #ff7f0e;\"> woman</span> by the name of R/os/ina Meyer . [SEP]</span>"
      ],
      "text/plain": [
       "<IPython.core.display.HTML object>"
      ]
     },
     "metadata": {},
     "output_type": "display_data"
    },
    {
     "data": {
      "text/html": [
       "<span style=\"font-size:10px; line-height: 12px; display: block; text-align: left;\"> [CLS] According to some historical accounts , her slave work might be similar to modern day ' s<span style=\"background-color: #2ca02c;\"> woman</span> wrestler . [SEP]</span><span style=\"font-size:10px; line-height: 12px; display: block; text-align: left;\"> [CLS] She was mayor of Las Vegas , Nevada from 1991 to 1999 and the first<span style=\"background-color: #2ca02c;\"> woman</span> to serve as mayor of Las Vegas . [SEP]</span><span style=\"font-size:10px; line-height: 12px; display: block; text-align: left;\"> [CLS] The new<span style=\"background-color: #2ca02c;\"> woman</span> ' s role in modern China was often debated by intellectuals , liberal/s , and The Nationalist/s and the Communist . [SEP]</span><span style=\"font-size:10px; line-height: 12px; display: block; text-align: left;\"> [CLS] Another<span style=\"background-color: #2ca02c;\"> woman</span> enters and as she dances , psychedelic images appear , with the others cheer/ing her on . [SEP]</span><span style=\"font-size:10px; line-height: 12px; display: block; text-align: left;\"> [CLS] U/ra Riga/na U/ra Riga/na K/wal/u ( born 24 June 1976 ) is a former Papua New Guinea/n<span style=\"background-color: #2ca02c;\"> woman</span> cricketer . [SEP]</span><span style=\"font-size:10px; line-height: 12px; display: block; text-align: left;\"> [CLS] The<span style=\"background-color: #2ca02c;\"> woman</span> ' s husband also experiences the day repeatedly . [SEP]</span><span style=\"font-size:10px; line-height: 12px; display: block; text-align: left;\"> [CLS] Her father , a prominent lawyer , died just as Sea/well reached<span style=\"background-color: #2ca02c;\"> woman</span>/hood . [SEP]</span><span style=\"font-size:10px; line-height: 12px; display: block; text-align: left;\"> [CLS] One former Jung/ian<span style=\"background-color: #2ca02c;\"> woman</span> has criticized Jung ' s early women a/co/ly/tes . [SEP]</span>"
      ],
      "text/plain": [
       "<IPython.core.display.HTML object>"
      ]
     },
     "metadata": {},
     "output_type": "display_data"
    },
    {
     "name": "stdout",
     "output_type": "stream",
     "text": [
      "\n"
     ]
    },
    {
     "data": {
      "text/html": [
       "<span style=\"background-color: lightpink;\">arr_9</span>"
      ],
      "text/plain": [
       "<IPython.core.display.HTML object>"
      ]
     },
     "metadata": {},
     "output_type": "display_data"
    },
    {
     "data": {
      "text/html": [
       "<span style=\"font-size:10px; line-height: 12px; display: block; text-align: left;\"> [CLS] Pay/nto/r married a<span style=\"background-color: #1f77b4;\"> woman</span> named Joan ; they had a son , Thomas , and a daughter , Joan . [SEP]</span><span style=\"font-size:10px; line-height: 12px; display: block; text-align: left;\"> [CLS] In St . Cyril/le the two meet Marianne , a lovely young French<span style=\"background-color: #1f77b4;\"> woman</span> to whom the Colonel has promised to return . [SEP]</span><span style=\"font-size:10px; line-height: 12px; display: block; text-align: left;\"> [CLS] Deep/ly regret/ful about what he is leaving behind , he rides away from the<span style=\"background-color: #1f77b4;\"> woman</span> and boy , never to return . [SEP]</span><span style=\"font-size:10px; line-height: 12px; display: block; text-align: left;\"> [CLS] Our Mi/ms was saved by a<span style=\"background-color: #1f77b4;\"> woman</span> named Jeanne Mira/bit/o , who found her and brought her food . [SEP]</span><span style=\"font-size:10px; line-height: 12px; display: block; text-align: left;\"> [CLS] The group is accompanied by a \" Hu/tte/f/rou/eli \" ( an e/ff/ig/y of an old<span style=\"background-color: #1f77b4;\"> woman</span> ) . [SEP]</span><span style=\"font-size:10px; line-height: 12px; display: block; text-align: left;\"> [CLS] When Homer has trouble finding a secretary who is not a seductive young<span style=\"background-color: #1f77b4;\"> woman</span> , a man named Karl persuade/s Homer to hire him . [SEP]</span><span style=\"font-size:10px; line-height: 12px; display: block; text-align: left;\"> [CLS] The complex structures of class bind a man and a<span style=\"background-color: #1f77b4;\"> woman</span> . [SEP]</span><span style=\"font-size:10px; line-height: 12px; display: block; text-align: left;\"> [CLS] Four people were killed on the ground , including a British<span style=\"background-color: #1f77b4;\"> woman</span> living in Germany . [SEP]</span><span style=\"font-size:10px; line-height: 12px; display: block; text-align: left;\"> [CLS] Currently he is married to a<span style=\"background-color: #1f77b4;\"> woman</span> named Meg/han and has an eight - year - old son Brady . [SEP]</span><span style=\"font-size:10px; line-height: 12px; display: block; text-align: left;\"> [CLS] The<span style=\"background-color: #1f77b4;\"> woman</span> ' s husband also experiences the day repeatedly . [SEP]</span><span style=\"font-size:10px; line-height: 12px; display: block; text-align: left;\"> [CLS] An old<span style=\"background-color: #1f77b4;\"> woman</span> and her granddaughter Yu are waiting for the latter ' s cousin Ming to come home from his overseas studies . [SEP]</span><span style=\"font-size:10px; line-height: 12px; display: block; text-align: left;\"> [CLS] In 2001 , E/ffe/nberg was fined after being found guilty of assault/ing a<span style=\"background-color: #1f77b4;\"> woman</span> in a nightclub . [SEP]</span><span style=\"font-size:10px; line-height: 12px; display: block; text-align: left;\"> [CLS] A lone middle - aged<span style=\"background-color: #1f77b4;\"> woman</span> , G/au/ri , meets Mu/dal/iar , another middle - aged man in the house of her boss . [SEP]</span><span style=\"font-size:10px; line-height: 12px; display: block; text-align: left;\"> [CLS] Lo/ft/us was the illegitimate son of Nicholas Lo/ft/us , 1st Viscount Lo/ft/us by a<span style=\"background-color: #1f77b4;\"> woman</span> with the surname of Phillips . [SEP]</span><span style=\"font-size:10px; line-height: 12px; display: block; text-align: left;\"> [CLS] He first settled in the western section of Be/rks county , and there married a young<span style=\"background-color: #1f77b4;\"> woman</span> by the name of R/os/ina Meyer . [SEP]</span>"
      ],
      "text/plain": [
       "<IPython.core.display.HTML object>"
      ]
     },
     "metadata": {},
     "output_type": "display_data"
    },
    {
     "data": {
      "text/html": [
       "<span style=\"font-size:10px; line-height: 12px; display: block; text-align: left;\"> [CLS] According to some historical accounts , her slave work might be similar to modern day ' s<span style=\"background-color: #ff7f0e;\"> woman</span> wrestler . [SEP]</span><span style=\"font-size:10px; line-height: 12px; display: block; text-align: left;\"> [CLS] CNN said that the advertisement was approved by a<span style=\"background-color: #ff7f0e;\"> woman</span> in the productions department . [SEP]</span><span style=\"font-size:10px; line-height: 12px; display: block; text-align: left;\"> [CLS] She was mayor of Las Vegas , Nevada from 1991 to 1999 and the first<span style=\"background-color: #ff7f0e;\"> woman</span> to serve as mayor of Las Vegas . [SEP]</span><span style=\"font-size:10px; line-height: 12px; display: block; text-align: left;\"> [CLS] But there was one<span style=\"background-color: #ff7f0e;\"> woman</span> who contested who lost her deposit . [SEP]</span><span style=\"font-size:10px; line-height: 12px; display: block; text-align: left;\"> [CLS] The new<span style=\"background-color: #ff7f0e;\"> woman</span> ' s role in modern China was often debated by intellectuals , liberal/s , and The Nationalist/s and the Communist . [SEP]</span><span style=\"font-size:10px; line-height: 12px; display: block; text-align: left;\"> [CLS] Another<span style=\"background-color: #ff7f0e;\"> woman</span> enters and as she dances , psychedelic images appear , with the others cheer/ing her on . [SEP]</span><span style=\"font-size:10px; line-height: 12px; display: block; text-align: left;\"> [CLS] U/ra Riga/na U/ra Riga/na K/wal/u ( born 24 June 1976 ) is a former Papua New Guinea/n<span style=\"background-color: #ff7f0e;\"> woman</span> cricketer . [SEP]</span><span style=\"font-size:10px; line-height: 12px; display: block; text-align: left;\"> [CLS] Her father , a prominent lawyer , died just as Sea/well reached<span style=\"background-color: #ff7f0e;\"> woman</span>/hood . [SEP]</span><span style=\"font-size:10px; line-height: 12px; display: block; text-align: left;\"> [CLS] One former Jung/ian<span style=\"background-color: #ff7f0e;\"> woman</span> has criticized Jung ' s early women a/co/ly/tes . [SEP]</span>"
      ],
      "text/plain": [
       "<IPython.core.display.HTML object>"
      ]
     },
     "metadata": {},
     "output_type": "display_data"
    },
    {
     "data": {
      "text/html": [
       "<span style=\"font-size:10px; line-height: 12px; display: block; text-align: left;\"> [CLS] She has also performed in an Off - Broadway one -<span style=\"background-color: #2ca02c;\"> woman</span> show entitled \" Me , My Mouth and I \" . [SEP]</span>"
      ],
      "text/plain": [
       "<IPython.core.display.HTML object>"
      ]
     },
     "metadata": {},
     "output_type": "display_data"
    },
    {
     "name": "stdout",
     "output_type": "stream",
     "text": [
      "\n"
     ]
    },
    {
     "data": {
      "text/html": [
       "<span style=\"background-color: lightpink;\">arr_10</span>"
      ],
      "text/plain": [
       "<IPython.core.display.HTML object>"
      ]
     },
     "metadata": {},
     "output_type": "display_data"
    },
    {
     "data": {
      "text/html": [
       "<span style=\"font-size:10px; line-height: 12px; display: block; text-align: left;\"> [CLS] Pay/nto/r married a<span style=\"background-color: #1f77b4;\"> woman</span> named Joan ; they had a son , Thomas , and a daughter , Joan . [SEP]</span><span style=\"font-size:10px; line-height: 12px; display: block; text-align: left;\"> [CLS] In St . Cyril/le the two meet Marianne , a lovely young French<span style=\"background-color: #1f77b4;\"> woman</span> to whom the Colonel has promised to return . [SEP]</span><span style=\"font-size:10px; line-height: 12px; display: block; text-align: left;\"> [CLS] When Homer has trouble finding a secretary who is not a seductive young<span style=\"background-color: #1f77b4;\"> woman</span> , a man named Karl persuade/s Homer to hire him . [SEP]</span><span style=\"font-size:10px; line-height: 12px; display: block; text-align: left;\"> [CLS] Currently he is married to a<span style=\"background-color: #1f77b4;\"> woman</span> named Meg/han and has an eight - year - old son Brady . [SEP]</span><span style=\"font-size:10px; line-height: 12px; display: block; text-align: left;\"> [CLS] Lo/ft/us was the illegitimate son of Nicholas Lo/ft/us , 1st Viscount Lo/ft/us by a<span style=\"background-color: #1f77b4;\"> woman</span> with the surname of Phillips . [SEP]</span><span style=\"font-size:10px; line-height: 12px; display: block; text-align: left;\"> [CLS] He first settled in the western section of Be/rks county , and there married a young<span style=\"background-color: #1f77b4;\"> woman</span> by the name of R/os/ina Meyer . [SEP]</span>"
      ],
      "text/plain": [
       "<IPython.core.display.HTML object>"
      ]
     },
     "metadata": {},
     "output_type": "display_data"
    },
    {
     "data": {
      "text/html": [
       "<span style=\"font-size:10px; line-height: 12px; display: block; text-align: left;\"> [CLS] According to some historical accounts , her slave work might be similar to modern day ' s<span style=\"background-color: #ff7f0e;\"> woman</span> wrestler . [SEP]</span><span style=\"font-size:10px; line-height: 12px; display: block; text-align: left;\"> [CLS] She was mayor of Las Vegas , Nevada from 1991 to 1999 and the first<span style=\"background-color: #ff7f0e;\"> woman</span> to serve as mayor of Las Vegas . [SEP]</span><span style=\"font-size:10px; line-height: 12px; display: block; text-align: left;\"> [CLS] The new<span style=\"background-color: #ff7f0e;\"> woman</span> ' s role in modern China was often debated by intellectuals , liberal/s , and The Nationalist/s and the Communist . [SEP]</span><span style=\"font-size:10px; line-height: 12px; display: block; text-align: left;\"> [CLS] She has also performed in an Off - Broadway one -<span style=\"background-color: #ff7f0e;\"> woman</span> show entitled \" Me , My Mouth and I \" . [SEP]</span><span style=\"font-size:10px; line-height: 12px; display: block; text-align: left;\"> [CLS] U/ra Riga/na U/ra Riga/na K/wal/u ( born 24 June 1976 ) is a former Papua New Guinea/n<span style=\"background-color: #ff7f0e;\"> woman</span> cricketer . [SEP]</span><span style=\"font-size:10px; line-height: 12px; display: block; text-align: left;\"> [CLS] Her father , a prominent lawyer , died just as Sea/well reached<span style=\"background-color: #ff7f0e;\"> woman</span>/hood . [SEP]</span>"
      ],
      "text/plain": [
       "<IPython.core.display.HTML object>"
      ]
     },
     "metadata": {},
     "output_type": "display_data"
    },
    {
     "data": {
      "text/html": [
       "<span style=\"font-size:10px; line-height: 12px; display: block; text-align: left;\"> [CLS] CNN said that the advertisement was approved by a<span style=\"background-color: #2ca02c;\"> woman</span> in the productions department . [SEP]</span><span style=\"font-size:10px; line-height: 12px; display: block; text-align: left;\"> [CLS] Deep/ly regret/ful about what he is leaving behind , he rides away from the<span style=\"background-color: #2ca02c;\"> woman</span> and boy , never to return . [SEP]</span><span style=\"font-size:10px; line-height: 12px; display: block; text-align: left;\"> [CLS] Our Mi/ms was saved by a<span style=\"background-color: #2ca02c;\"> woman</span> named Jeanne Mira/bit/o , who found her and brought her food . [SEP]</span><span style=\"font-size:10px; line-height: 12px; display: block; text-align: left;\"> [CLS] But there was one<span style=\"background-color: #2ca02c;\"> woman</span> who contested who lost her deposit . [SEP]</span><span style=\"font-size:10px; line-height: 12px; display: block; text-align: left;\"> [CLS] The group is accompanied by a \" Hu/tte/f/rou/eli \" ( an e/ff/ig/y of an old<span style=\"background-color: #2ca02c;\"> woman</span> ) . [SEP]</span><span style=\"font-size:10px; line-height: 12px; display: block; text-align: left;\"> [CLS] The complex structures of class bind a man and a<span style=\"background-color: #2ca02c;\"> woman</span> . [SEP]</span><span style=\"font-size:10px; line-height: 12px; display: block; text-align: left;\"> [CLS] Four people were killed on the ground , including a British<span style=\"background-color: #2ca02c;\"> woman</span> living in Germany . [SEP]</span><span style=\"font-size:10px; line-height: 12px; display: block; text-align: left;\"> [CLS] Another<span style=\"background-color: #2ca02c;\"> woman</span> enters and as she dances , psychedelic images appear , with the others cheer/ing her on . [SEP]</span><span style=\"font-size:10px; line-height: 12px; display: block; text-align: left;\"> [CLS] The<span style=\"background-color: #2ca02c;\"> woman</span> ' s husband also experiences the day repeatedly . [SEP]</span><span style=\"font-size:10px; line-height: 12px; display: block; text-align: left;\"> [CLS] An old<span style=\"background-color: #2ca02c;\"> woman</span> and her granddaughter Yu are waiting for the latter ' s cousin Ming to come home from his overseas studies . [SEP]</span><span style=\"font-size:10px; line-height: 12px; display: block; text-align: left;\"> [CLS] In 2001 , E/ffe/nberg was fined after being found guilty of assault/ing a<span style=\"background-color: #2ca02c;\"> woman</span> in a nightclub . [SEP]</span><span style=\"font-size:10px; line-height: 12px; display: block; text-align: left;\"> [CLS] One former Jung/ian<span style=\"background-color: #2ca02c;\"> woman</span> has criticized Jung ' s early women a/co/ly/tes . [SEP]</span><span style=\"font-size:10px; line-height: 12px; display: block; text-align: left;\"> [CLS] A lone middle - aged<span style=\"background-color: #2ca02c;\"> woman</span> , G/au/ri , meets Mu/dal/iar , another middle - aged man in the house of her boss . [SEP]</span>"
      ],
      "text/plain": [
       "<IPython.core.display.HTML object>"
      ]
     },
     "metadata": {},
     "output_type": "display_data"
    },
    {
     "name": "stdout",
     "output_type": "stream",
     "text": [
      "\n"
     ]
    },
    {
     "data": {
      "text/html": [
       "<span style=\"background-color: lightpink;\">arr_11</span>"
      ],
      "text/plain": [
       "<IPython.core.display.HTML object>"
      ]
     },
     "metadata": {},
     "output_type": "display_data"
    },
    {
     "data": {
      "text/html": [
       "<span style=\"font-size:10px; line-height: 12px; display: block; text-align: left;\"> [CLS] Pay/nto/r married a<span style=\"background-color: #1f77b4;\"> woman</span> named Joan ; they had a son , Thomas , and a daughter , Joan . [SEP]</span><span style=\"font-size:10px; line-height: 12px; display: block; text-align: left;\"> [CLS] Currently he is married to a<span style=\"background-color: #1f77b4;\"> woman</span> named Meg/han and has an eight - year - old son Brady . [SEP]</span><span style=\"font-size:10px; line-height: 12px; display: block; text-align: left;\"> [CLS] Lo/ft/us was the illegitimate son of Nicholas Lo/ft/us , 1st Viscount Lo/ft/us by a<span style=\"background-color: #1f77b4;\"> woman</span> with the surname of Phillips . [SEP]</span><span style=\"font-size:10px; line-height: 12px; display: block; text-align: left;\"> [CLS] He first settled in the western section of Be/rks county , and there married a young<span style=\"background-color: #1f77b4;\"> woman</span> by the name of R/os/ina Meyer . [SEP]</span>"
      ],
      "text/plain": [
       "<IPython.core.display.HTML object>"
      ]
     },
     "metadata": {},
     "output_type": "display_data"
    },
    {
     "data": {
      "text/html": [
       "<span style=\"font-size:10px; line-height: 12px; display: block; text-align: left;\"> [CLS] In St . Cyril/le the two meet Marianne , a lovely young French<span style=\"background-color: #ff7f0e;\"> woman</span> to whom the Colonel has promised to return . [SEP]</span><span style=\"font-size:10px; line-height: 12px; display: block; text-align: left;\"> [CLS] CNN said that the advertisement was approved by a<span style=\"background-color: #ff7f0e;\"> woman</span> in the productions department . [SEP]</span><span style=\"font-size:10px; line-height: 12px; display: block; text-align: left;\"> [CLS] Deep/ly regret/ful about what he is leaving behind , he rides away from the<span style=\"background-color: #ff7f0e;\"> woman</span> and boy , never to return . [SEP]</span><span style=\"font-size:10px; line-height: 12px; display: block; text-align: left;\"> [CLS] Our Mi/ms was saved by a<span style=\"background-color: #ff7f0e;\"> woman</span> named Jeanne Mira/bit/o , who found her and brought her food . [SEP]</span><span style=\"font-size:10px; line-height: 12px; display: block; text-align: left;\"> [CLS] But there was one<span style=\"background-color: #ff7f0e;\"> woman</span> who contested who lost her deposit . [SEP]</span><span style=\"font-size:10px; line-height: 12px; display: block; text-align: left;\"> [CLS] The group is accompanied by a \" Hu/tte/f/rou/eli \" ( an e/ff/ig/y of an old<span style=\"background-color: #ff7f0e;\"> woman</span> ) . [SEP]</span><span style=\"font-size:10px; line-height: 12px; display: block; text-align: left;\"> [CLS] When Homer has trouble finding a secretary who is not a seductive young<span style=\"background-color: #ff7f0e;\"> woman</span> , a man named Karl persuade/s Homer to hire him . [SEP]</span><span style=\"font-size:10px; line-height: 12px; display: block; text-align: left;\"> [CLS] The complex structures of class bind a man and a<span style=\"background-color: #ff7f0e;\"> woman</span> . [SEP]</span><span style=\"font-size:10px; line-height: 12px; display: block; text-align: left;\"> [CLS] Four people were killed on the ground , including a British<span style=\"background-color: #ff7f0e;\"> woman</span> living in Germany . [SEP]</span><span style=\"font-size:10px; line-height: 12px; display: block; text-align: left;\"> [CLS] Another<span style=\"background-color: #ff7f0e;\"> woman</span> enters and as she dances , psychedelic images appear , with the others cheer/ing her on . [SEP]</span><span style=\"font-size:10px; line-height: 12px; display: block; text-align: left;\"> [CLS] The<span style=\"background-color: #ff7f0e;\"> woman</span> ' s husband also experiences the day repeatedly . [SEP]</span><span style=\"font-size:10px; line-height: 12px; display: block; text-align: left;\"> [CLS] An old<span style=\"background-color: #ff7f0e;\"> woman</span> and her granddaughter Yu are waiting for the latter ' s cousin Ming to come home from his overseas studies . [SEP]</span><span style=\"font-size:10px; line-height: 12px; display: block; text-align: left;\"> [CLS] In 2001 , E/ffe/nberg was fined after being found guilty of assault/ing a<span style=\"background-color: #ff7f0e;\"> woman</span> in a nightclub . [SEP]</span><span style=\"font-size:10px; line-height: 12px; display: block; text-align: left;\"> [CLS] One former Jung/ian<span style=\"background-color: #ff7f0e;\"> woman</span> has criticized Jung ' s early women a/co/ly/tes . [SEP]</span><span style=\"font-size:10px; line-height: 12px; display: block; text-align: left;\"> [CLS] A lone middle - aged<span style=\"background-color: #ff7f0e;\"> woman</span> , G/au/ri , meets Mu/dal/iar , another middle - aged man in the house of her boss . [SEP]</span>"
      ],
      "text/plain": [
       "<IPython.core.display.HTML object>"
      ]
     },
     "metadata": {},
     "output_type": "display_data"
    },
    {
     "data": {
      "text/html": [
       "<span style=\"font-size:10px; line-height: 12px; display: block; text-align: left;\"> [CLS] According to some historical accounts , her slave work might be similar to modern day ' s<span style=\"background-color: #2ca02c;\"> woman</span> wrestler . [SEP]</span><span style=\"font-size:10px; line-height: 12px; display: block; text-align: left;\"> [CLS] She was mayor of Las Vegas , Nevada from 1991 to 1999 and the first<span style=\"background-color: #2ca02c;\"> woman</span> to serve as mayor of Las Vegas . [SEP]</span><span style=\"font-size:10px; line-height: 12px; display: block; text-align: left;\"> [CLS] The new<span style=\"background-color: #2ca02c;\"> woman</span> ' s role in modern China was often debated by intellectuals , liberal/s , and The Nationalist/s and the Communist . [SEP]</span><span style=\"font-size:10px; line-height: 12px; display: block; text-align: left;\"> [CLS] She has also performed in an Off - Broadway one -<span style=\"background-color: #2ca02c;\"> woman</span> show entitled \" Me , My Mouth and I \" . [SEP]</span><span style=\"font-size:10px; line-height: 12px; display: block; text-align: left;\"> [CLS] U/ra Riga/na U/ra Riga/na K/wal/u ( born 24 June 1976 ) is a former Papua New Guinea/n<span style=\"background-color: #2ca02c;\"> woman</span> cricketer . [SEP]</span><span style=\"font-size:10px; line-height: 12px; display: block; text-align: left;\"> [CLS] Her father , a prominent lawyer , died just as Sea/well reached<span style=\"background-color: #2ca02c;\"> woman</span>/hood . [SEP]</span>"
      ],
      "text/plain": [
       "<IPython.core.display.HTML object>"
      ]
     },
     "metadata": {},
     "output_type": "display_data"
    },
    {
     "name": "stdout",
     "output_type": "stream",
     "text": [
      "\n"
     ]
    },
    {
     "data": {
      "text/html": [
       "<span style=\"background-color: lightpink;\">arr_12</span>"
      ],
      "text/plain": [
       "<IPython.core.display.HTML object>"
      ]
     },
     "metadata": {},
     "output_type": "display_data"
    },
    {
     "data": {
      "text/html": [
       "<span style=\"font-size:10px; line-height: 12px; display: block; text-align: left;\"> [CLS] Pay/nto/r married a<span style=\"background-color: #1f77b4;\"> woman</span> named Joan ; they had a son , Thomas , and a daughter , Joan . [SEP]</span><span style=\"font-size:10px; line-height: 12px; display: block; text-align: left;\"> [CLS] In St . Cyril/le the two meet Marianne , a lovely young French<span style=\"background-color: #1f77b4;\"> woman</span> to whom the Colonel has promised to return . [SEP]</span><span style=\"font-size:10px; line-height: 12px; display: block; text-align: left;\"> [CLS] Currently he is married to a<span style=\"background-color: #1f77b4;\"> woman</span> named Meg/han and has an eight - year - old son Brady . [SEP]</span><span style=\"font-size:10px; line-height: 12px; display: block; text-align: left;\"> [CLS] Lo/ft/us was the illegitimate son of Nicholas Lo/ft/us , 1st Viscount Lo/ft/us by a<span style=\"background-color: #1f77b4;\"> woman</span> with the surname of Phillips . [SEP]</span><span style=\"font-size:10px; line-height: 12px; display: block; text-align: left;\"> [CLS] He first settled in the western section of Be/rks county , and there married a young<span style=\"background-color: #1f77b4;\"> woman</span> by the name of R/os/ina Meyer . [SEP]</span>"
      ],
      "text/plain": [
       "<IPython.core.display.HTML object>"
      ]
     },
     "metadata": {},
     "output_type": "display_data"
    },
    {
     "data": {
      "text/html": [
       "<span style=\"font-size:10px; line-height: 12px; display: block; text-align: left;\"> [CLS] According to some historical accounts , her slave work might be similar to modern day ' s<span style=\"background-color: #ff7f0e;\"> woman</span> wrestler . [SEP]</span><span style=\"font-size:10px; line-height: 12px; display: block; text-align: left;\"> [CLS] CNN said that the advertisement was approved by a<span style=\"background-color: #ff7f0e;\"> woman</span> in the productions department . [SEP]</span><span style=\"font-size:10px; line-height: 12px; display: block; text-align: left;\"> [CLS] She was mayor of Las Vegas , Nevada from 1991 to 1999 and the first<span style=\"background-color: #ff7f0e;\"> woman</span> to serve as mayor of Las Vegas . [SEP]</span><span style=\"font-size:10px; line-height: 12px; display: block; text-align: left;\"> [CLS] Deep/ly regret/ful about what he is leaving behind , he rides away from the<span style=\"background-color: #ff7f0e;\"> woman</span> and boy , never to return . [SEP]</span><span style=\"font-size:10px; line-height: 12px; display: block; text-align: left;\"> [CLS] Our Mi/ms was saved by a<span style=\"background-color: #ff7f0e;\"> woman</span> named Jeanne Mira/bit/o , who found her and brought her food . [SEP]</span><span style=\"font-size:10px; line-height: 12px; display: block; text-align: left;\"> [CLS] But there was one<span style=\"background-color: #ff7f0e;\"> woman</span> who contested who lost her deposit . [SEP]</span><span style=\"font-size:10px; line-height: 12px; display: block; text-align: left;\"> [CLS] The new<span style=\"background-color: #ff7f0e;\"> woman</span> ' s role in modern China was often debated by intellectuals , liberal/s , and The Nationalist/s and the Communist . [SEP]</span><span style=\"font-size:10px; line-height: 12px; display: block; text-align: left;\"> [CLS] The group is accompanied by a \" Hu/tte/f/rou/eli \" ( an e/ff/ig/y of an old<span style=\"background-color: #ff7f0e;\"> woman</span> ) . [SEP]</span><span style=\"font-size:10px; line-height: 12px; display: block; text-align: left;\"> [CLS] When Homer has trouble finding a secretary who is not a seductive young<span style=\"background-color: #ff7f0e;\"> woman</span> , a man named Karl persuade/s Homer to hire him . [SEP]</span><span style=\"font-size:10px; line-height: 12px; display: block; text-align: left;\"> [CLS] The complex structures of class bind a man and a<span style=\"background-color: #ff7f0e;\"> woman</span> . [SEP]</span><span style=\"font-size:10px; line-height: 12px; display: block; text-align: left;\"> [CLS] Four people were killed on the ground , including a British<span style=\"background-color: #ff7f0e;\"> woman</span> living in Germany . [SEP]</span><span style=\"font-size:10px; line-height: 12px; display: block; text-align: left;\"> [CLS] Another<span style=\"background-color: #ff7f0e;\"> woman</span> enters and as she dances , psychedelic images appear , with the others cheer/ing her on . [SEP]</span><span style=\"font-size:10px; line-height: 12px; display: block; text-align: left;\"> [CLS] U/ra Riga/na U/ra Riga/na K/wal/u ( born 24 June 1976 ) is a former Papua New Guinea/n<span style=\"background-color: #ff7f0e;\"> woman</span> cricketer . [SEP]</span><span style=\"font-size:10px; line-height: 12px; display: block; text-align: left;\"> [CLS] The<span style=\"background-color: #ff7f0e;\"> woman</span> ' s husband also experiences the day repeatedly . [SEP]</span><span style=\"font-size:10px; line-height: 12px; display: block; text-align: left;\"> [CLS] An old<span style=\"background-color: #ff7f0e;\"> woman</span> and her granddaughter Yu are waiting for the latter ' s cousin Ming to come home from his overseas studies . [SEP]</span><span style=\"font-size:10px; line-height: 12px; display: block; text-align: left;\"> [CLS] Her father , a prominent lawyer , died just as Sea/well reached<span style=\"background-color: #ff7f0e;\"> woman</span>/hood . [SEP]</span><span style=\"font-size:10px; line-height: 12px; display: block; text-align: left;\"> [CLS] In 2001 , E/ffe/nberg was fined after being found guilty of assault/ing a<span style=\"background-color: #ff7f0e;\"> woman</span> in a nightclub . [SEP]</span><span style=\"font-size:10px; line-height: 12px; display: block; text-align: left;\"> [CLS] One former Jung/ian<span style=\"background-color: #ff7f0e;\"> woman</span> has criticized Jung ' s early women a/co/ly/tes . [SEP]</span><span style=\"font-size:10px; line-height: 12px; display: block; text-align: left;\"> [CLS] A lone middle - aged<span style=\"background-color: #ff7f0e;\"> woman</span> , G/au/ri , meets Mu/dal/iar , another middle - aged man in the house of her boss . [SEP]</span>"
      ],
      "text/plain": [
       "<IPython.core.display.HTML object>"
      ]
     },
     "metadata": {},
     "output_type": "display_data"
    },
    {
     "data": {
      "text/html": [
       "<span style=\"font-size:10px; line-height: 12px; display: block; text-align: left;\"> [CLS] She has also performed in an Off - Broadway one -<span style=\"background-color: #2ca02c;\"> woman</span> show entitled \" Me , My Mouth and I \" . [SEP]</span>"
      ],
      "text/plain": [
       "<IPython.core.display.HTML object>"
      ]
     },
     "metadata": {},
     "output_type": "display_data"
    },
    {
     "name": "stdout",
     "output_type": "stream",
     "text": [
      "\n"
     ]
    }
   ],
   "source": [
    "# Get contentful reduction\n",
    "n_clusters = 3\n",
    "palette = Category10[10]\n",
    "css='font-size:10px; line-height: 12px; display: block; text-align: left;'\n",
    "sort = True\n",
    "\n",
    "clusters = {layer: KMeans(n_clusters=n_clusters).fit(chosen_acts[layer]).labels_ for layer in layers}\n",
    "for layer in layers:\n",
    "    display(HTML(html_util.highlight(layer)))\n",
    "    contexts_and_clusters = list(zip(chosen_contexts, clusters[layer]))\n",
    "    if sort:\n",
    "        for cluster_idx in range(n_clusters):\n",
    "            html = ''\n",
    "            cluster_contexts = [context for context, cluster in contexts_and_clusters if cluster==cluster_idx]\n",
    "            for context in cluster_contexts:\n",
    "                color = palette[cluster_idx] # f'{cluster_idx}' + \n",
    "                html += html_util.style(context_util.context_html(*context, marker=html_util.highlighter(color)), css=css)\n",
    "            display(HTML(html))\n",
    "    else:\n",
    "        html = ''\n",
    "        for context, cluster in contexts_and_clusters:\n",
    "            color = palette[cluster]\n",
    "            html += html_util.style(context_util.context_html(*context, marker=html_util.highlighter(color)), css)\n",
    "        display(HTML(html))\n",
    "    print()    \n",
    "    "
   ]
  },
  {
   "cell_type": "code",
   "execution_count": 1,
   "metadata": {
    "hidden": true
   },
   "outputs": [
    {
     "ename": "NameError",
     "evalue": "name 'layers' is not defined",
     "output_type": "error",
     "traceback": [
      "\u001b[0;31m---------------------------------------------------------------------------\u001b[0m",
      "\u001b[0;31mNameError\u001b[0m                                 Traceback (most recent call last)",
      "\u001b[0;32m<ipython-input-1-8631b737cd37>\u001b[0m in \u001b[0;36m<module>\u001b[0;34m\u001b[0m\n\u001b[1;32m      1\u001b[0m \u001b[0;31m# Fresh vis\u001b[0m\u001b[0;34m\u001b[0m\u001b[0;34m\u001b[0m\u001b[0;34m\u001b[0m\u001b[0m\n\u001b[1;32m      2\u001b[0m \u001b[0mcolumns\u001b[0m \u001b[0;34m=\u001b[0m \u001b[0;34m[\u001b[0m\u001b[0;34m]\u001b[0m\u001b[0;34m\u001b[0m\u001b[0;34m\u001b[0m\u001b[0m\n\u001b[0;32m----> 3\u001b[0;31m \u001b[0mlayer_name_column\u001b[0m \u001b[0;34m=\u001b[0m \u001b[0;34m[\u001b[0m\u001b[0;32mNone\u001b[0m\u001b[0;34m]\u001b[0m \u001b[0;34m+\u001b[0m \u001b[0;34m[\u001b[0m\u001b[0mDiv\u001b[0m\u001b[0;34m(\u001b[0m\u001b[0mtext\u001b[0m\u001b[0;34m=\u001b[0m\u001b[0mlayer\u001b[0m\u001b[0;34m,\u001b[0m \u001b[0malign\u001b[0m\u001b[0;34m=\u001b[0m\u001b[0;34m(\u001b[0m\u001b[0;34m'center'\u001b[0m\u001b[0;34m,\u001b[0m \u001b[0;34m'center'\u001b[0m\u001b[0;34m)\u001b[0m\u001b[0;34m)\u001b[0m \u001b[0;32mfor\u001b[0m \u001b[0mlayer\u001b[0m \u001b[0;32min\u001b[0m \u001b[0mlayers\u001b[0m\u001b[0;34m]\u001b[0m\u001b[0;34m\u001b[0m\u001b[0;34m\u001b[0m\u001b[0m\n\u001b[0m\u001b[1;32m      4\u001b[0m \u001b[0mcolumns\u001b[0m\u001b[0;34m.\u001b[0m\u001b[0mappend\u001b[0m\u001b[0;34m(\u001b[0m\u001b[0mlayer_name_column\u001b[0m\u001b[0;34m)\u001b[0m\u001b[0;34m\u001b[0m\u001b[0;34m\u001b[0m\u001b[0m\n\u001b[1;32m      5\u001b[0m \u001b[0;34m\u001b[0m\u001b[0m\n",
      "\u001b[0;31mNameError\u001b[0m: name 'layers' is not defined"
     ]
    }
   ],
   "source": [
    "# Fresh vis\n",
    "columns = []\n",
    "layer_name_column = [None] + [Div(text=layer, align=('center', 'center')) for layer in layers]\n",
    "columns.append(layer_name_column)\n",
    "\n",
    "# create a column of plots\n",
    "plot_column = []\n",
    "plot_column.append(Div(text=f'{reduction}', align=('center', 'center'))) # column header\n",
    "for layer in layers:\n",
    "    chosen_points = {\n",
    "        'x': reduced_chosen_acts[layer][:,0],\n",
    "        'y': reduced_chosen_acts[layer][:,1],\n",
    "        'color': [palette[idx] for idx in range(n_chosen)],\n",
    "        'line color': ['black'] * n_chosen,\n",
    "        'line width': [1] * n_chosen,\n",
    "        'label': [f'{i}' for i in range(n_chosen)],\n",
    "        'legend label': [f'{i}' for i in range(n_chosen)],        \n",
    "        'hover label': [context_util.context_html(*context, highlighter=html_util.highlighter(color='yellow')) for context in chosen_contexts]\n",
    "        }\n",
    "\n",
    "    neighbor_points = {'x':[], 'y':[], 'color':[], 'legend label':[], 'label':[], 'hover label':[]}\n",
    "    processed_neighbors = []\n",
    "    neighborhoods_info = zip(neighborhoods[layer], neighborhoods_contexts[layer], reduced_neighborhoods_acts[layer])\n",
    "    for neighborhood_idx, (neighbors, contexts, reduced_acts) in enumerate(neighborhoods_info):\n",
    "        # visualize different kinds of neighbors differently\n",
    "        neighbors_info = zip(neighbors, contexts, reduced_acts)\n",
    "        for neighbor_idx, (neighbor, context, reduced_act) in enumerate(neighbors_info):\n",
    "            if neighbor in chosen_ids:  # update chosen point to say it's also a neighbor in this neighborhood\n",
    "                chosen_idx = chosen_ids.index(neighbor)\n",
    "                chosen_points['label'][chosen_idx] += f'({neighborhood_idx})'\n",
    "                chosen_points['line color'][chosen_idx] = 'aqua'\n",
    "                chosen_points['line width'][chosen_idx] = 1\n",
    "            elif neighbor in processed_neighbors:  # update existing neighbor point to say it's also in this neighborhood\n",
    "                neighbor_idx = processed_neighbors.index(neighbor)\n",
    "                neighbor_points['label'][neighbor_idx] += f'({neighborhood_idx})'\n",
    "                neighbor_points['color'][neighbor_idx] = 'aqua'\n",
    "            else:  # new neighbor, say which neighborhood\n",
    "                neighbor_points['x'].append(reduced_act[0])\n",
    "                neighbor_points['y'].append(reduced_act[1])\n",
    "                neighbor_points['color'].append(palette[neighborhood_idx])\n",
    "                neighbor_points['legend label'].append(f'{neighborhood_idx}')\n",
    "                neighbor_points['label'].append(f'({neighborhood_idx})')\n",
    "                neighbor_points['hover label'].append(context_util.context_html(*context, highlighter=html_util.highlighter(color='lightgrey')))\n",
    "                processed_neighbors.append(neighbor)    \n",
    "    neighbor_points['label'] = [label if len(label)>1 else '' for label in neighbor_points['label']]\n",
    "    \n",
    "    # plot \n",
    "    chosen_points_source = ColumnDataSource(chosen_points)\n",
    "    neighbor_points_source = ColumnDataSource(neighbor_points)\n",
    "    p = vis_util.empty_plot(width=400, height=250, darkmode=False)\n",
    "    p.add_layout(Legend(), 'right')\n",
    "    p.circle(x='x', y='y', color='color', size=10, legend_group='legend label', source=neighbor_points_source)\n",
    "    p.add_layout(LabelSet(x='x', y='y', text='label', x_offset=2, y_offset=2, text_font_size='10pt', source=neighbor_points_source))\n",
    "    p.triangle(x='x', y='y', color='color', line_color='line color', size=15, line_width='line width', legend_group='legend label', source=chosen_points_source)\n",
    "    p.add_layout(LabelSet(x='x', y='y', text='label', x_offset=2, y_offset=2, text_font_size='10pt', source=chosen_points_source))\n",
    "    zoom_tool = WheelZoomTool()\n",
    "    p.tools = [PanTool(), zoom_tool, BoxZoomTool(), ResetTool(), HoverTool(tooltips=vis_util.custom_bokeh_tooltip('hover label'))]\n",
    "    p.toolbar.active_scroll = zoom_tool\n",
    "    plot_column.append(p)\n",
    "columns.append(plot_column)\n",
    "show(gridplot(zip(*columns)))"
   ]
  },
  {
   "cell_type": "code",
   "execution_count": null,
   "metadata": {
    "hidden": true
   },
   "outputs": [],
   "source": []
  }
 ],
 "metadata": {
  "kernelspec": {
   "display_name": "bert-vis",
   "language": "python",
   "name": "bert-vis"
  },
  "language_info": {
   "codemirror_mode": {
    "name": "ipython",
    "version": 3
   },
   "file_extension": ".py",
   "mimetype": "text/x-python",
   "name": "python",
   "nbconvert_exporter": "python",
   "pygments_lexer": "ipython3",
   "version": "3.7.9"
  }
 },
 "nbformat": 4,
 "nbformat_minor": 4
}
