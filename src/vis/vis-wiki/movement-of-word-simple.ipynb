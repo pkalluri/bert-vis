{
 "cells": [
  {
   "cell_type": "markdown",
   "metadata": {},
   "source": [
    "# Studying the evolution of tokens\n",
    "How do tokens evolve? Are they originally understood in a shallow way and then understood in richer ways?\n",
    "Rich in what sense? More similar surrounding words?"
   ]
  },
  {
   "cell_type": "code",
   "execution_count": null,
   "metadata": {},
   "outputs": [],
   "source": [
    "%load_ext autoreload\n",
    "%autoreload 2"
   ]
  },
  {
   "cell_type": "code",
   "execution_count": null,
   "metadata": {},
   "outputs": [],
   "source": [
    "view_vis_as_html = False"
   ]
  },
  {
   "cell_type": "code",
   "execution_count": null,
   "metadata": {},
   "outputs": [],
   "source": [
    "# Imports\n",
    "# # LOAD\n",
    "import pickle\n",
    "import numpy as np\n",
    "import os\n",
    "import sys\n",
    "from src import references as refs\n",
    "# # PROCESS\n",
    "import nltk\n",
    "import pandas as pd\n",
    "sys.path.insert(0, os.path.abspath('../../..'))\n",
    "from sklearn.cluster import KMeans\n",
    "from src.utils import context_util, acts_util\n",
    "# # VIS\n",
    "from IPython.core.display import display, HTML\n",
    "from bokeh.plotting import figure, show, output_file\n",
    "from bokeh.layouts import gridplot\n",
    "from bokeh.palettes import Inferno, Category10, Category20, Category20c, Pastel1, Pastel2, Bokeh, Plasma, Colorblind\n",
    "from bokeh.models import Label, LabelSet, Div, ColumnDataSource, Legend, LegendItem, Range1d\n",
    "from bokeh.models import HoverTool, CustomJS, PanTool, BoxZoomTool, WheelZoomTool, ResetTool, TapTool, OpenURL\n",
    "from bokeh.models.glyphs import Circle\n",
    "from bokeh.io import output_notebook\n",
    "output_notebook()\n",
    "if view_vis_as_html:\n",
    "    output_file('visualize-wiki.html')\n",
    "from src.utils import vis_util, html_util"
   ]
  },
  {
   "cell_type": "markdown",
   "metadata": {},
   "source": [
    "# Loading contexts"
   ]
  },
  {
   "cell_type": "code",
   "execution_count": null,
   "metadata": {},
   "outputs": [],
   "source": [
    "# Load all contexts and acts\n",
    "data_dir = '../../../bucket/wiki-large/wiki-split/'\n",
    "data_dir = os.path.abspath(data_dir)\n",
    "layers = [f'arr_{i}' for i in range(13)] # which layers to visualize\n",
    "# layers = ['arr_0','arr_3','arr_6', 'arr_9', 'arr_12']  \n",
    "# layers = ['arr_0']  # good for debugging\n",
    "contexts = pickle.load(open(os.path.join(data_dir, refs.contexts_fn), 'rb'))\n",
    "acts = np.load(os.path.join(data_dir, refs.acts_fn))"
   ]
  },
  {
   "cell_type": "code",
   "execution_count": null,
   "metadata": {
    "scrolled": true
   },
   "outputs": [],
   "source": [
    "# Choose contexts and acts\n",
    "token = 'woman'\n",
    "chosen_idxs, chosen_contexts = zip(*[(i, (doc, pos)) for (i, (doc, pos)) in enumerate(contexts) if doc[pos]==token])\n",
    "n_chosen = len(chosen_contexts)\n",
    "print(n_chosen, 'contexts:')\n",
    "for i, context in enumerate(chosen_contexts):\n",
    "    display(HTML(f'({i}) {context_util.context_html(*context)}'))"
   ]
  },
  {
   "cell_type": "code",
   "execution_count": null,
   "metadata": {},
   "outputs": [],
   "source": [
    "chosen_acts = {layer: acts[layer][list(chosen_idxs)] for layer in layers}"
   ]
  },
  {
   "cell_type": "markdown",
   "metadata": {},
   "source": [
    "# Show clustered contexts"
   ]
  },
  {
   "cell_type": "code",
   "execution_count": null,
   "metadata": {
    "scrolled": false
   },
   "outputs": [],
   "source": [
    "# Get contentful reduction\n",
    "n_clusters = 3\n",
    "palette = Category10[10]\n",
    "css='font-size:10px; line-height: 12px; display: block; text-align: left;'\n",
    "sort = True\n",
    "\n",
    "clusters = {layer: KMeans(n_clusters=n_clusters).fit(chosen_acts[layer]).labels_ for layer in layers}\n",
    "for layer in layers:\n",
    "    display(HTML(html_util.highlight(layer)))\n",
    "    contexts_and_clusters = list(zip(chosen_contexts, clusters[layer]))\n",
    "    if sort:\n",
    "        for cluster_idx in range(n_clusters):\n",
    "            html = ''\n",
    "            cluster_contexts = [context for context, cluster in contexts_and_clusters if cluster==cluster_idx]\n",
    "            for context in cluster_contexts:\n",
    "                color = palette[cluster_idx] # f'{cluster_idx}' + \n",
    "                html += html_util.style(context_util.context_html(*context, marker=html_util.highlighter(color)), css=css)\n",
    "            display(HTML(html))\n",
    "    else:\n",
    "        html = ''\n",
    "        for context, cluster in contexts_and_clusters:\n",
    "            color = palette[cluster]\n",
    "            html += html_util.style(context_util.context_html(*context, marker=html_util.highlighter(color)), css)\n",
    "        display(HTML(html))\n",
    "    print()    \n",
    "    "
   ]
  },
  {
   "cell_type": "code",
   "execution_count": null,
   "metadata": {
    "hidden": true
   },
   "outputs": [],
   "source": [
    "# Fresh vis\n",
    "columns = []\n",
    "layer_name_column = [None] + [Div(text=layer, align=('center', 'center')) for layer in layers]\n",
    "columns.append(layer_name_column)\n",
    "\n",
    "# create a column of plots\n",
    "plot_column = []\n",
    "plot_column.append(Div(text=f'{reduction}', align=('center', 'center'))) # column header\n",
    "for layer in layers:\n",
    "    chosen_points = {\n",
    "        'x': reduced_chosen_acts[layer][:,0],\n",
    "        'y': reduced_chosen_acts[layer][:,1],\n",
    "        'color': [palette[idx] for idx in range(n_chosen)],\n",
    "        'line color': ['black'] * n_chosen,\n",
    "        'line width': [1] * n_chosen,\n",
    "        'label': [f'{i}' for i in range(n_chosen)],\n",
    "        'legend label': [f'{i}' for i in range(n_chosen)],        \n",
    "        'hover label': [context_util.context_html(*context, highlighter=html_util.highlighter(color='yellow')) for context in chosen_contexts]\n",
    "        }\n",
    "\n",
    "    neighbor_points = {'x':[], 'y':[], 'color':[], 'legend label':[], 'label':[], 'hover label':[]}\n",
    "    processed_neighbors = []\n",
    "    neighborhoods_info = zip(neighborhoods[layer], neighborhoods_contexts[layer], reduced_neighborhoods_acts[layer])\n",
    "    for neighborhood_idx, (neighbors, contexts, reduced_acts) in enumerate(neighborhoods_info):\n",
    "        # visualize different kinds of neighbors differently\n",
    "        neighbors_info = zip(neighbors, contexts, reduced_acts)\n",
    "        for neighbor_idx, (neighbor, context, reduced_act) in enumerate(neighbors_info):\n",
    "            if neighbor in chosen_ids:  # update chosen point to say it's also a neighbor in this neighborhood\n",
    "                chosen_idx = chosen_ids.index(neighbor)\n",
    "                chosen_points['label'][chosen_idx] += f'({neighborhood_idx})'\n",
    "                chosen_points['line color'][chosen_idx] = 'aqua'\n",
    "                chosen_points['line width'][chosen_idx] = 1\n",
    "            elif neighbor in processed_neighbors:  # update existing neighbor point to say it's also in this neighborhood\n",
    "                neighbor_idx = processed_neighbors.index(neighbor)\n",
    "                neighbor_points['label'][neighbor_idx] += f'({neighborhood_idx})'\n",
    "                neighbor_points['color'][neighbor_idx] = 'aqua'\n",
    "            else:  # new neighbor, say which neighborhood\n",
    "                neighbor_points['x'].append(reduced_act[0])\n",
    "                neighbor_points['y'].append(reduced_act[1])\n",
    "                neighbor_points['color'].append(palette[neighborhood_idx])\n",
    "                neighbor_points['legend label'].append(f'{neighborhood_idx}')\n",
    "                neighbor_points['label'].append(f'({neighborhood_idx})')\n",
    "                neighbor_points['hover label'].append(context_util.context_html(*context, highlighter=html_util.highlighter(color='lightgrey')))\n",
    "                processed_neighbors.append(neighbor)    \n",
    "    neighbor_points['label'] = [label if len(label)>1 else '' for label in neighbor_points['label']]\n",
    "    \n",
    "    # plot \n",
    "    chosen_points_source = ColumnDataSource(chosen_points)\n",
    "    neighbor_points_source = ColumnDataSource(neighbor_points)\n",
    "    p = vis_util.empty_plot(width=400, height=250, darkmode=False)\n",
    "    p.add_layout(Legend(), 'right')\n",
    "    p.circle(x='x', y='y', color='color', size=10, legend_group='legend label', source=neighbor_points_source)\n",
    "    p.add_layout(LabelSet(x='x', y='y', text='label', x_offset=2, y_offset=2, text_font_size='10pt', source=neighbor_points_source))\n",
    "    p.triangle(x='x', y='y', color='color', line_color='line color', size=15, line_width='line width', legend_group='legend label', source=chosen_points_source)\n",
    "    p.add_layout(LabelSet(x='x', y='y', text='label', x_offset=2, y_offset=2, text_font_size='10pt', source=chosen_points_source))\n",
    "    zoom_tool = WheelZoomTool()\n",
    "    p.tools = [PanTool(), zoom_tool, BoxZoomTool(), ResetTool(), HoverTool(tooltips=vis_util.custom_bokeh_tooltip('hover label'))]\n",
    "    p.toolbar.active_scroll = zoom_tool\n",
    "    plot_column.append(p)\n",
    "columns.append(plot_column)\n",
    "show(gridplot(zip(*columns)))"
   ]
  },
  {
   "cell_type": "code",
   "execution_count": null,
   "metadata": {
    "hidden": true
   },
   "outputs": [],
   "source": []
  }
 ],
 "metadata": {
  "kernelspec": {
   "display_name": "bert-vis",
   "language": "python",
   "name": "bert-vis"
  },
  "language_info": {
   "codemirror_mode": {
    "name": "ipython",
    "version": 3
   },
   "file_extension": ".py",
   "mimetype": "text/x-python",
   "name": "python",
   "nbconvert_exporter": "python",
   "pygments_lexer": "ipython3",
   "version": "3.7.9"
  }
 },
 "nbformat": 4,
 "nbformat_minor": 4
}
