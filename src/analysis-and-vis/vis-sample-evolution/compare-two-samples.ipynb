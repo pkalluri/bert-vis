{
 "cells": [
  {
   "cell_type": "markdown",
   "metadata": {},
   "source": [
    "# Compare two docs"
   ]
  },
  {
   "cell_type": "markdown",
   "metadata": {},
   "source": [
    "## Imports"
   ]
  },
  {
   "cell_type": "code",
   "execution_count": 6,
   "metadata": {},
   "outputs": [
    {
     "name": "stdout",
     "output_type": "stream",
     "text": [
      "The autoreload extension is already loaded. To reload it, use:\n",
      "  %reload_ext autoreload\n"
     ]
    },
    {
     "name": "stderr",
     "output_type": "stream",
     "text": [
      "Some weights of the model checkpoint at bert-base-cased were not used when initializing BertModel: ['cls.predictions.transform.dense.weight', 'cls.predictions.transform.LayerNorm.bias', 'cls.predictions.bias', 'cls.predictions.decoder.weight', 'cls.seq_relationship.bias', 'cls.predictions.transform.dense.bias', 'cls.seq_relationship.weight', 'cls.predictions.transform.LayerNorm.weight']\n",
      "- This IS expected if you are initializing BertModel from the checkpoint of a model trained on another task or with another architecture (e.g. initializing a BertForSequenceClassification model from a BertForPreTraining model).\n",
      "- This IS NOT expected if you are initializing BertModel from the checkpoint of a model that you expect to be exactly identical (initializing a BertForSequenceClassification model from a BertForSequenceClassification model).\n"
     ]
    }
   ],
   "source": [
    "%load_ext autoreload\n",
    "%autoreload 2\n",
    "\n",
    "import os\n",
    "import numpy as np\n",
    "from IPython.core.display import display, HTML\n",
    "import sys\n",
    "sys.path.insert(0, os.path.abspath('../../..'))\n",
    "from src.utils import bert_util, acts_util\n",
    "from src.utils.context_util import context_html\n",
    "from src.utils.html_util import highlighter, font_size\n",
    "from src.utils.SimpleBert import SimpleBert\n",
    "bert = SimpleBert()"
   ]
  },
  {
   "cell_type": "markdown",
   "metadata": {},
   "source": [
    "## Set the two docs"
   ]
  },
  {
   "cell_type": "code",
   "execution_count": 22,
   "metadata": {},
   "outputs": [],
   "source": [
    "text1 = 'The sky was blue .'\n",
    "tok_of_interest1 = '[CLS]'"
   ]
  },
  {
   "cell_type": "code",
   "execution_count": 23,
   "metadata": {},
   "outputs": [],
   "source": [
    "text2 = 'One person was killed .'\n",
    "tok_of_interest2 = '[CLS]'"
   ]
  },
  {
   "cell_type": "code",
   "execution_count": 24,
   "metadata": {},
   "outputs": [],
   "source": [
    "spherize = True\n",
    "layer = 'arr_1'"
   ]
  },
  {
   "cell_type": "markdown",
   "metadata": {},
   "source": [
    "## Compare"
   ]
  },
  {
   "cell_type": "code",
   "execution_count": 29,
   "metadata": {},
   "outputs": [
    {
     "data": {
      "text/html": [
       "Layer arr_1"
      ],
      "text/plain": [
       "<IPython.core.display.HTML object>"
      ]
     },
     "metadata": {},
     "output_type": "display_data"
    },
    {
     "data": {
      "text/html": [
       "<span style=\"font-size:10pt;\">(0.039) </span><span style=\"background-color: lightblue;\"><span style=\"font-size:10pt;\"> [CLS]</span></span><span style=\"font-size:10pt;\"> One</span><span style=\"font-size:10pt;\"> person</span><span style=\"font-size:10pt;\"> was</span><span style=\"font-size:10pt;\"> killed</span><span style=\"font-size:10pt;\"> .</span><span style=\"font-size:10pt;\"> [SEP]</span>"
      ],
      "text/plain": [
       "<IPython.core.display.HTML object>"
      ]
     },
     "metadata": {},
     "output_type": "display_data"
    }
   ],
   "source": [
    "doc1, acts1 = bert.get_toks_and_acts(text1)\n",
    "idx1 = doc1.index(tok_of_interest1)\n",
    "act1 = acts1[layer][idx1]\n",
    "if spherize: act1 = acts_util.spherize([act1])[0]\n",
    "    \n",
    "doc2, acts2 = bert.get_toks_and_acts(text2)\n",
    "idx2 = doc2.index(tok_of_interest2)\n",
    "act2 = acts2[layer][idx2]\n",
    "if spherize: act2 = acts_util.spherize([act2])[0]\n",
    "    \n",
    "display(HTML(f'Layer {layer}'))\n",
    "dist = np.linalg.norm(act1 - act2)\n",
    "bluer = highlighter('lightblue')\n",
    "token_styler = lambda t: font_size(t,10)\n",
    "html = token_styler(f'({dist:.3f}) ')\n",
    "html += context_html(doc2, idx2, marker=bluer, token_styler=token_styler)\n",
    "display(HTML(html))"
   ]
  },
  {
   "cell_type": "code",
   "execution_count": null,
   "metadata": {},
   "outputs": [],
   "source": []
  }
 ],
 "metadata": {
  "kernelspec": {
   "display_name": "bert-vis",
   "language": "python",
   "name": "bert-vis"
  },
  "language_info": {
   "codemirror_mode": {
    "name": "ipython",
    "version": 3
   },
   "file_extension": ".py",
   "mimetype": "text/x-python",
   "name": "python",
   "nbconvert_exporter": "python",
   "pygments_lexer": "ipython3",
   "version": "3.7.9"
  }
 },
 "nbformat": 4,
 "nbformat_minor": 4
}
