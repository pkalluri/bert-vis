{
 "cells": [
  {
   "cell_type": "code",
   "execution_count": null,
   "metadata": {},
   "outputs": [],
   "source": [
    "%load_ext autoreload\n",
    "%autoreload 2"
   ]
  },
  {
   "cell_type": "code",
   "execution_count": null,
   "metadata": {},
   "outputs": [],
   "source": [
    "# Parameters\n",
    "data_dir = '../../../big-data/wiki-large/standard/'\n",
    "contexts_filename = 'contexts.pickle'\n",
    "acts_filename = 'activations.npz'\n",
    "# layers = ['arr_0','arr_3','arr_6', 'arr_9', 'arr_12']  # which layers to visualize\n",
    "layers = [f'arr_{i}' for i in range(13)]\n",
    "# layers = ['arr_0']  # good for debugging\n",
    "reductions = [('KernelPCA',2)]\n",
    "view_vis_as_html = False  # If True, running the vis will also generate an interactive html file and open it"
   ]
  },
  {
   "cell_type": "code",
   "execution_count": null,
   "metadata": {},
   "outputs": [],
   "source": [
    "# Imports\n",
    "# LOAD\n",
    "import math\n",
    "import pickle\n",
    "import numpy as np\n",
    "import os\n",
    "import sys\n",
    "project_path = os.path.abspath('../../..')\n",
    "sys.path.insert(0, project_path)\n",
    "from src.utils import acts_util\n",
    "# TAG\n",
    "import nltk\n",
    "import re\n",
    "import pandas as pd\n",
    "from src.utils import context_util\n",
    "# VIS\n",
    "from bokeh.plotting import figure, show, output_file\n",
    "from bokeh.io import output_notebook\n",
    "output_notebook()\n",
    "if view_vis_as_html:\n",
    "    output_file('visualize-movement.html')\n",
    "from bokeh.models import Label, LabelSet, Div, ColumnDataSource, Legend, LegendItem, Range1d\n",
    "from bokeh.models import HoverTool, CustomJS, PanTool, BoxZoomTool, WheelZoomTool, ResetTool, TapTool, OpenURL\n",
    "from bokeh.models.glyphs import Circle\n",
    "from bokeh.layouts import gridplot\n",
    "from bokeh import events\n",
    "from bokeh.palettes import Inferno, Category10, Category20, Category20c, Pastel1, Pastel2, Bokeh, Plasma\n",
    "from src.utils import vis_util, html_util"
   ]
  },
  {
   "cell_type": "markdown",
   "metadata": {},
   "source": [
    "# Loading contexts and acts"
   ]
  },
  {
   "cell_type": "code",
   "execution_count": null,
   "metadata": {},
   "outputs": [],
   "source": [
    "# Load contexts and layer_to_acts\n",
    "with open(os.path.join(os.path.abspath(data_dir), contexts_filename), 'rb') as f:\n",
    "    contexts = pickle.load(f)\n",
    "layer_to_acts = np.load(os.path.join(data_dir, acts_filename))\n",
    "layers = acts.files # change to fewer layers if you want\n",
    "layers = list(layers)[:2] # for debugging"
   ]
  },
  {
   "cell_type": "code",
   "execution_count": null,
   "metadata": {},
   "outputs": [],
   "source": [
    "doc_number = 101\n",
    "doc_ids = context_util.get_doc_ids(contexts, doc_number)\n",
    "doc, _ = contexts[doc_ids[0]]\n",
    "print(context_util.doc_str(doc))"
   ]
  },
  {
   "cell_type": "markdown",
   "metadata": {},
   "source": [
    "# Visualize neighborhoods in 2D"
   ]
  },
  {
   "cell_type": "code",
   "execution_count": null,
   "metadata": {},
   "outputs": [],
   "source": [
    "n_nearest_neighbors = 10\n",
    "KNN_models_filename = f'knn_models.pickle'\n",
    "    \n",
    "layer_to_neighbors = {}  # for each tok in document, map it to its nearest neighbors' ids\n",
    "with open(os.path.join(os.path.abspath(data_dir), KNN_models_filename), 'rb') as f:\n",
    "    for layer in layers:\n",
    "        acts = layer_to_acts[layer]\n",
    "        KNN_model = pickle.load(f)\n",
    "        neighbors_distances, neighbors_ids = KNN_model.kneighbors(acts[doc_ids])\n",
    "        layer_to_neighbors[layer] = neighbors_ids"
   ]
  },
  {
   "cell_type": "code",
   "execution_count": null,
   "metadata": {},
   "outputs": [],
   "source": [
    "def flatten(l):\n",
    "    return [item for sublist in l for item in sublist]"
   ]
  },
  {
   "cell_type": "code",
   "execution_count": null,
   "metadata": {
    "scrolled": false
   },
   "outputs": [],
   "source": [
    "# Fresh vis\n",
    "columns = []\n",
    "layer_name_column = [None] + [Div(text=layer, align=('center', 'center')) for layer in layers]\n",
    "columns.append(layer_name_column)\n",
    "\n",
    "# optionally focus on subset of doc\n",
    "start_pos, end_pos = 2,-2\n",
    "phrase = doc[start_pos:end_pos]\n",
    "phrase_ids = doc_ids[start_pos:end_pos]\n",
    "# set vis params\n",
    "palette = Category20[20]\n",
    "# create a column of plots\n",
    "plot_column = []\n",
    "plot_column.append(Div(text=' '.join([f'{reduction}{dim}' for reduction, dim in reductions]), align=('center', 'center'))) # column header\n",
    "for layer in layers:\n",
    "    # fit this layer's dimensionality reduction model\n",
    "    phrase_neighbors = layer_to_neighbors[layer][start_pos:end_pos]\n",
    "    ids_to_fit = phrase_ids + flatten(phrase_neighbors)  # multiple options here\n",
    "    acts = layer_to_acts[layer]\n",
    "    acts_to_fit = acts[ids_to_fit]  # init\n",
    "    fit_reducers = []\n",
    "    for reduction, dim in reductions:\n",
    "        fit_reducer, acts_to_fit = acts_util.fit_reducer(acts_to_fit, reduction, dim)\n",
    "        fit_reducers.append(fit_reducer)\n",
    "    \n",
    "    # reduce and prep the document's points\n",
    "    phrase_contexts = [contexts[context_id] for context_id in phrase_ids]\n",
    "    phrase_reduced_acts = acts[phrase_ids]  # init\n",
    "    for reducer in fit_reducers:\n",
    "        phrase_reduced_acts = reducer.transform(phrase_reduced_acts)\n",
    "    phrase_points = {\n",
    "        'x': phrase_reduced_acts[:,0],\n",
    "        'y': phrase_reduced_acts[:,1],\n",
    "        'color': [palette[tok_idx] for tok_idx in range(len(phrase))],\n",
    "        'line color': ['black'] * len(phrase),\n",
    "        'line width': [1] * len(phrase),\n",
    "        'label': [[f'[{pos}]'] for doc, pos in phrase_contexts],\n",
    "        'hover label': [context_util.context_str(*context, marker=html_util.highlighter(color='yellow')) for context in phrase_contexts]\n",
    "        }\n",
    "\n",
    "    # reduce and prep the neighbors\n",
    "    processed_neighbors = []\n",
    "    neighbor_points = {'x':[], 'y':[], 'color':[], 'legend label':[], 'label':[], 'hover label':[]}\n",
    "    for tok_idx in range(len(phrase)):\n",
    "        tok_pos = tok_idx + start_pos  # position relative to entire doc\n",
    "        tok_neighbors = phrase_neighbors[tok_idx][1:]  # skip zeroeth neighbor; that's the token itself\n",
    "        tok_neighbors_contexts = [contexts[neighbor] for neighbor in tok_neighbors]\n",
    "        tok_neighbors_reduced_acts = acts[tok_neighbors]  # init\n",
    "        for reducer in fit_reducers:\n",
    "            tok_neighbors_reduced_acts = reducer.transform(tok_neighbors_reduced_acts)\n",
    "            \n",
    "        # visualize different kinds of neighbors differently\n",
    "        for neighbor_idx, neighbor in enumerate(tok_neighbors):\n",
    "            if neighbor in phrase_ids:  # update existing phrase point\n",
    "                phrase_point_idx = phrase_ids.index(neighbor)\n",
    "                phrase_points['label'][phrase_point_idx] += f'{tok_pos}'\n",
    "                phrase_points['line color'][phrase_point_idx] = 'aqua'\n",
    "                phrase_points['line width'][phrase_point_idx] = 3\n",
    "            elif neighbor in processed_neighbors:  # update existing neighbor point\n",
    "                neighbor_point_idx = processed_neighbors.index(neighbor)\n",
    "                neighbor_points['label'][neighbor_point_idx] += f'{tok_pos}'\n",
    "                neighbor_points['color'][neighbor_point_idx] = 'aqua'\n",
    "            else:  # new neighbor\n",
    "                neighbor_context = contexts[neighbor]\n",
    "                neighbor_reduced_acts = tok_neighbors_reduced_acts[neighbor_idx]\n",
    "                neighbor_points['x'].append(neighbor_reduced_acts[0])\n",
    "                neighbor_points['y'].append(neighbor_reduced_acts[1])\n",
    "                neighbor_points['color'].append(palette[tok_idx])\n",
    "                neighbor_points['legend label'].append([f'[{tok_pos}] {doc[tok_pos]}'])\n",
    "                neighbor_points['label'].append([f'{tok_pos}'])\n",
    "                neighbor_points['hover label'].append(\n",
    "                    context_util.context_str(*neighbor_context, marker=html_util.highlighter(color='lightgrey')))\n",
    "                processed_neighbors.append(neighbor)    \n",
    "    neighbor_points['label'] = [label if len(label)>1 else '' for label in neighbor_points['label']]\n",
    "    \n",
    "    # plot \n",
    "    phrase_points_source = ColumnDataSource(phrase_points)\n",
    "    neighbor_points_source = ColumnDataSource(neighbor_points)\n",
    "    p = vis_util.empty_plot(width=400, height=250, darkmode=False)\n",
    "    p.add_layout(Legend(), 'right')\n",
    "    p.circle(x='x', y='y', color='color', size=10, legend_group='legend label', source=neighbor_points_source)\n",
    "    p.add_layout(LabelSet(x='x', y='y', text='label', x_offset=2, y_offset=2, text_font_size='10pt', source=neighbor_points_source))\n",
    "    p.triangle(x='x', y='y', color='color', line_color='line color', size=15, line_width='line width', source=phrase_points_source)\n",
    "    p.add_layout(LabelSet(x='x', y='y', text='label', x_offset=2, y_offset=2, text_font_size='10pt', source=phrase_points_source))\n",
    "    zoom_tool = WheelZoomTool()\n",
    "    p.tools = [PanTool(), zoom_tool, BoxZoomTool(), ResetTool(), vis_util.hover_tool('hover label')]\n",
    "    p.toolbar.active_scroll = zoom_tool\n",
    "    plot_column.append(p)\n",
    "columns.append(plot_column)\n",
    "show(gridplot(zip(*columns)))"
   ]
  },
  {
   "cell_type": "markdown",
   "metadata": {
    "heading_collapsed": true
   },
   "source": [
    "# Prepare to visualize connections based on neighborhoods"
   ]
  },
  {
   "cell_type": "code",
   "execution_count": null,
   "metadata": {
    "hidden": true
   },
   "outputs": [],
   "source": [
    "n_nearest_neighbors = 1000\n",
    "KNN_models_filename = f'KNN_models_K={n_nearest_neighbors}.pickle'\n",
    "\n",
    "layer_to_neighbors = {}  # for each tok in document, map it to its nearest neighbors' ids\n",
    "with open(os.path.join(os.path.abspath(data_dir), KNN_models_filename), 'rb') as f:\n",
    "    for layer in layers:\n",
    "        acts = layer_to_acts[layer]\n",
    "        KNN_model = pickle.load(f)\n",
    "        neighbors_distances, neighbors_ids = KNN_model.kneighbors(acts[doc_ids])\n",
    "        layer_to_neighbors[layer] = neighbors_ids"
   ]
  },
  {
   "cell_type": "code",
   "execution_count": null,
   "metadata": {
    "hidden": true
   },
   "outputs": [],
   "source": [
    "start_pos, end_pos = 0,-1\n",
    "phrase = doc[start_pos:end_pos]\n",
    "phrase_ids = doc_ids[start_pos:end_pos]"
   ]
  },
  {
   "cell_type": "code",
   "execution_count": null,
   "metadata": {
    "hidden": true
   },
   "outputs": [],
   "source": [
    "def fraction_overlapping(l1, l2):\n",
    "    assert len(l1)==len(l2)\n",
    "    n_overlapping = len(set(l1).intersection(set(l2)))\n",
    "    return (n_overlapping/len(l1))"
   ]
  },
  {
   "cell_type": "code",
   "execution_count": null,
   "metadata": {
    "hidden": true
   },
   "outputs": [],
   "source": [
    "# based on fraction of neighbors that are overlapping\n",
    "layer_to_tok_connections = {layer: np.ones((len(phrase), len(phrase)))  for layer in layers}  # init\n",
    "for layer in layers:\n",
    "    tok_connections = layer_to_tok_connections[layer]\n",
    "    neighbors = layer_to_neighbors[layer]\n",
    "    for tok_i in range(len(phrase)):\n",
    "        tok_i_neighbors = set(neighbors[tok_i])\n",
    "        for tok_j in range(tok_i+1, len(phrase)):\n",
    "            tok_j_neighbors = set(neighbors[tok_j])\n",
    "            connection_strength = fraction_overlapping(tok_i_neighbors, tok_j_neighbors)\n",
    "            tok_connections[tok_i, tok_j] = connection_strength\n",
    "            tok_connections[tok_j, tok_i] = connection_strength"
   ]
  },
  {
   "cell_type": "code",
   "execution_count": null,
   "metadata": {
    "hidden": true
   },
   "outputs": [],
   "source": [
    "# based on to what degree they are each other's nearest neighbors\n",
    "layer_to_tok_connections = {layer: np.ones((len(phrase), len(phrase)))  for layer in layers}  # init\n",
    "for layer in layers:\n",
    "    tok_connections = layer_to_tok_connections[layer]\n",
    "    neighbors = layer_to_neighbors[layer]\n",
    "    for tok_i in range(len(phrase)):\n",
    "        tok_i_neighbors = neighbors[tok_i]\n",
    "        for tok_j in range(len(phrase)):\n",
    "            if tok_i != tok_j:\n",
    "                tok_j_id = phrase_ids[tok_j]\n",
    "                neighbor_pos = np.where(tok_i_neighbors == tok_j_id)[0]\n",
    "                if neighbor_pos.size > 0:\n",
    "                    connection = 10 * 1/neighbor_pos[0]\n",
    "                else:\n",
    "                    connection = 0\n",
    "                tok_connections[tok_i, tok_j] = connection\n"
   ]
  },
  {
   "cell_type": "code",
   "execution_count": null,
   "metadata": {
    "hidden": true
   },
   "outputs": [],
   "source": [
    "# Based on neighborhood changing or not\n",
    "layer_to_tok_movement = {}\n",
    "prev_layer = layers[0]\n",
    "for layer in layers:\n",
    "    prev_neighbors = layer_to_neighbors[prev_layer]\n",
    "    curr_neighbors = layer_to_neighbors[layer]\n",
    "    layer_to_tok_movement[layer] = [1-fraction_overlapping(prev_neighbors[tok_idx], curr_neighbors[tok_idx]) \n",
    "                                    for tok_idx in range(len(phrase))]\n",
    "    prev_layer = layer"
   ]
  },
  {
   "cell_type": "code",
   "execution_count": null,
   "metadata": {
    "hidden": true,
    "scrolled": false
   },
   "outputs": [],
   "source": [
    "plots = []\n",
    "for layer in layers:\n",
    "    # prepare to draw toks\n",
    "    tok_movement = layer_to_tok_movement[layer]\n",
    "    toks_source = ColumnDataSource({'x': range(len(phrase)), 'y': [1.5]*len(phrase), 'label': phrase, \n",
    "                                    'alpha': [(1-tok_movement[tok_idx]) for tok_idx in range(len(phrase))],\n",
    "                                    'hover label': phrase\n",
    "                                   })\n",
    "    # p.add_layout(LabelSet(x='x', y='y', y_offset='4', text='label', text_font_size='10pt', text_align='center', source=toks_source))\n",
    "    \n",
    "    # prepare to draw edges\n",
    "    tok_connections = layer_to_tok_connections[layer]\n",
    "    pairs = [(tok_i, tok_j) for tok_i in range(len(phrase)) for tok_j in range(tok_i+1, len(phrase))]\n",
    "    edges_info = {}\n",
    "    edges_info['x'] = [(tok_i+tok_j)/2 for tok_i,tok_j in pairs]\n",
    "    edges_info['y'] = [1] * len(pairs)\n",
    "    edges_info['r'] = [abs(tok_i-tok_j)/2 for tok_i,tok_j in pairs]\n",
    "    edges_info['alpha'] = [(tok_connections[tok_i, tok_j]-.1) for tok_i, tok_j in pairs]\n",
    "    edges_info['hover label'] = ['xyz' for tok_i, tok_j in pairs]\n",
    "    \n",
    "    p = vis_util.empty_plot(dim=250)\n",
    "    p.arc(x='x', y='y', radius='r', width=2, start_angle=math.pi, end_angle=0, alpha='alpha', source=ColumnDataSource(edges_info))\n",
    "    cover_source = ColumnDataSource({'x': range(len(phrase)), 'y': [1]*len(phrase)})\n",
    "    p.line(x='x', y='y', color='white', line_width=10, source=cover_source)  # visually mask top few pixels of arcs\n",
    "    tok_points = p.circle(x='x', y='y', color='red', alpha='alpha', size=5, source=toks_source)\n",
    "    p.circle(x='x', y='y', color=None, size=5, line_color='red', source=toks_source)\n",
    "    p.y_range = Range1d(-8,2)\n",
    "    wheelzoomtool = WheelZoomTool()\n",
    "    hover_tool = HoverTool(tooltips=vis_util.custom_bokeh_tooltip('hover label', border=False), renderers=[tok_points])\n",
    "    p.tools = [PanTool(), wheelzoomtool, ResetTool(), hover_tool]\n",
    "    p.toolbar.active_scroll = zoom_tool\n",
    "    plots.append(p)\n",
    "    p.outline_line_color = None\n",
    "layer_labels = [Div(text=layer, align='center') for layer in layers]\n",
    "show(gridplot(zip(*[layer_labels, plots]), toolbar_options={'logo': None}))"
   ]
  },
  {
   "cell_type": "code",
   "execution_count": null,
   "metadata": {
    "hidden": true,
    "scrolled": false
   },
   "outputs": [],
   "source": [
    "plots = []\n",
    "for layer in layers:\n",
    "    # prepare to draw toks\n",
    "    tok_movement = layer_to_tok_movement[layer]\n",
    "    toks_source = ColumnDataSource({'x': range(len(phrase)), 'y': [1.5]*len(phrase), 'label': phrase, \n",
    "                                    'alpha': [(1-tok_movement[tok_idx]) for tok_idx in range(len(phrase))],\n",
    "                                    'hover label': phrase\n",
    "                                   })\n",
    "    # p.add_layout(LabelSet(x='x', y='y', y_offset='4', text='label', text_font_size='10pt', text_align='center', source=toks_source))\n",
    "    \n",
    "    # prepare to draw edges\n",
    "    tok_connections = layer_to_tok_connections[layer]\n",
    "    pairs = [(tok_i, tok_j) for tok_i in range(len(phrase)) for tok_j in range(tok_i+1, len(phrase))]\n",
    "    edges_info = {}\n",
    "    edges_info['x'] = [(tok_i+tok_j)/2 for tok_i,tok_j in pairs]\n",
    "    edges_info['y'] = [1] * len(pairs)\n",
    "    edges_info['r'] = [abs(tok_i-tok_j)/2 for tok_i,tok_j in pairs]\n",
    "    edges_info['alpha'] = [(tok_connections[tok_i, tok_j]-.1) for tok_i, tok_j in pairs]\n",
    "    edges_info['hover label'] = ['xyz' for tok_i, tok_j in pairs]\n",
    "    \n",
    "    p = vis_util.empty_plot(dim=250)\n",
    "    p.arc(x='x', y='y', radius='r', width=2, start_angle=math.pi, end_angle=0, alpha='alpha', source=ColumnDataSource(edges_info))\n",
    "    cover_source = ColumnDataSource({'x': range(len(phrase)), 'y': [1]*len(phrase)})\n",
    "    p.line(x='x', y='y', color='white', line_width=10, source=cover_source)  # visually mask top few pixels of arcs\n",
    "    tok_points = p.circle(x='x', y='y', color='red', alpha='alpha', size=5, source=toks_source)\n",
    "    p.circle(x='x', y='y', color=None, size=5, line_color='red', source=toks_source)\n",
    "    p.y_range = Range1d(-8,2)\n",
    "    wheelzoomtool = WheelZoomTool()\n",
    "    hover_tool = HoverTool(tooltips=vis_util.custom_bokeh_tooltip('hover label', border=False), renderers=[tok_points])\n",
    "    p.tools = [PanTool(), wheelzoomtool, ResetTool(), hover_tool]\n",
    "    p.toolbar.active_scroll = zoom_tool\n",
    "    plots.append(p)\n",
    "    p.outline_line_color = None\n",
    "layer_labels = [Div(text=layer, align='center') for layer in layers]\n",
    "show(gridplot(zip(*[layer_labels, plots]), toolbar_options={'logo': None}))"
   ]
  },
  {
   "cell_type": "code",
   "execution_count": null,
   "metadata": {
    "hidden": true,
    "scrolled": false
   },
   "outputs": [],
   "source": [
    "rows = [[Div(text=tok, align='center') for tok in phrase],]  # header row\n",
    "for layer in layers:\n",
    "    plot_row = []\n",
    "    for tok_i in range(len(phrase)):\n",
    "        # prep toks\n",
    "        toks_source = ColumnDataSource({'x': range(len(phrase)), 'y': [1.5]*len(phrase), 'label': phrase, \n",
    "                                        'alpha': [(1-tok_movement[tok_idx]) for tok_idx in range(len(phrase))],\n",
    "                                        'hover label': phrase\n",
    "                                       })        \n",
    "        tok_points = p.circle(x='x', y=1, color=None, width=.2, source=toks_source)\n",
    "        # p.add_layout(LabelSet(x='x', y='y', y_offset='4', text='label', text_font_size='10pt', text_align='center', source=toks_source))\n",
    "\n",
    "        # prep edges\n",
    "        tok_connections = layer_to_tok_connections[layer]\n",
    "        pairs = [(tok_i, tok_j) for tok_j in range(len(phrase))]\n",
    "        edges_info = {}\n",
    "        edges_info['x'] = [(tok_i+tok_j)/2 for tok_i,tok_j in pairs]\n",
    "        edges_info['y'] = [1] * len(pairs)\n",
    "        edges_info['r'] = [abs(tok_i-tok_j)/2 for tok_i,tok_j in pairs]\n",
    "        edges_info['alpha'] = [(tok_connections[tok_i, tok_j]-.3) for tok_i, tok_j in pairs]\n",
    "        edges_info['hover label'] = [f'{phrase[min(tok_i,tok_j)]}-{phrase[max(tok_i,tok_j)]}' for tok_i,tok_j in pairs]\n",
    "        \n",
    "        # plot\n",
    "        p = vis_util.empty_plot(dim=100)\n",
    "        p.arc(x='x', y='y', radius='r', width=2, start_angle=math.pi, end_angle=0, alpha='alpha', source=ColumnDataSource(edges_info))\n",
    "        cover_source = ColumnDataSource({'x': range(len(phrase)), 'y': [1]*len(phrase)})\n",
    "        p.line(x='x', y='y', color='white', line_width=10, source=cover_source)  # visually mask top few pixels of arcs\n",
    "        tok_points = p.circle(x='x', y='y', color='red', alpha='alpha', size=5, source=toks_source)\n",
    "        p.circle(x='x', y='y', color=None, size=5, line_color='red', source=toks_source)\n",
    "        p.circle(x=tok_i, y=1.8, color='limegreen')\n",
    "        p.x_range = Range1d(0,len(phrase)-1)\n",
    "        p.y_range = Range1d(-8,2)\n",
    "        hover_tool = HoverTool(tooltips=vis_util.custom_bokeh_tooltip('hover label', border=False), renderers=[tok_points])\n",
    "        p.tools = [PanTool(), WheelZoomTool(), ResetTool(), hover_tool]\n",
    "        plot_row.append(p)\n",
    "    rows.append(plot_row)\n",
    "\n",
    "layer_names_col = [Div(text=layer, align='center') for layer in layers]\n",
    "columns = [[Div()], *list(zip(*rows))]\n",
    "show(gridplot(rows))"
   ]
  },
  {
   "cell_type": "code",
   "execution_count": null,
   "metadata": {
    "hidden": true
   },
   "outputs": [],
   "source": []
  }
 ],
 "metadata": {
  "kernelspec": {
   "display_name": "bert-vis",
   "language": "python",
   "name": "bert-vis"
  },
  "language_info": {
   "codemirror_mode": {
    "name": "ipython",
    "version": 3
   },
   "file_extension": ".py",
   "mimetype": "text/x-python",
   "name": "python",
   "nbconvert_exporter": "python",
   "pygments_lexer": "ipython3",
   "version": "3.7.9"
  }
 },
 "nbformat": 4,
 "nbformat_minor": 4
}
