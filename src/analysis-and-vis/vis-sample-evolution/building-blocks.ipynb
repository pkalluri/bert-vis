{
 "cells": [
  {
   "cell_type": "markdown",
   "metadata": {},
   "source": [
    "# Understand a context through its clusters, its neighbors, and custom possible neighbors\n",
    "Examine, at each layer, the given context's KNNs - both KNNs in the corpus and the KNNs out of its own masked variants - as well as any custom contexts you're curious about."
   ]
  },
  {
   "cell_type": "code",
   "execution_count": null,
   "metadata": {},
   "outputs": [],
   "source": [
    "'test: notebook is running'"
   ]
  },
  {
   "cell_type": "markdown",
   "metadata": {},
   "source": [
    "## Imports"
   ]
  },
  {
   "cell_type": "code",
   "execution_count": null,
   "metadata": {},
   "outputs": [],
   "source": [
    "%load_ext autoreload\n",
    "%autoreload 2\n",
    "\n",
    "import pickle\n",
    "import glob\n",
    "import random\n",
    "from typing import List\n",
    "import collections\n",
    "import itertools\n",
    "import numpy as np\n",
    "from sklearn.cluster import KMeans\n",
    "from sklearn.neighbors import NearestNeighbors\n",
    "from IPython.core.display import display, HTML\n",
    "\n",
    "import os\n",
    "import sys\n",
    "sys.path.insert(0, os.path.abspath('../../..'))\n",
    "from src.utils import acts_util, vis_util, html_util, context_util, bert_util\n",
    "from src.utils.acts_util import spherize\n",
    "from src.utils.context_util import context_html\n",
    "from src.utils.html_util import highlighter, fix_size, font_size, style\n",
    "from src.utils import references as refs\n",
    "from src.utils.SimpleBert import SimpleBert"
   ]
  },
  {
   "cell_type": "code",
   "execution_count": null,
   "metadata": {},
   "outputs": [],
   "source": [
    "bert = SimpleBert()"
   ]
  },
  {
   "cell_type": "markdown",
   "metadata": {},
   "source": [
    "## Parameters"
   ]
  },
  {
   "cell_type": "code",
   "execution_count": null,
   "metadata": {},
   "outputs": [],
   "source": [
    "spherize = False\n",
    "vis_color = True\n",
    "reduction, dim = 'NMF', 3\n",
    "vis_size = True\n",
    "\n",
    "vis_masked_KNNs = True\n",
    "pruning = False\n",
    "vis_corpus_KNNs = True\n",
    "vis_custom_contexts = True\n",
    "together = True\n",
    "save_to_html = False\n",
    "\n",
    "doc_txt = \"Later that day, he caught her eye.\""
   ]
  },
  {
   "cell_type": "markdown",
   "metadata": {},
   "source": [
    "## Get tokens and activations & choose layers to analyze"
   ]
  },
  {
   "cell_type": "code",
   "execution_count": null,
   "metadata": {},
   "outputs": [],
   "source": [
    "doc, doc_acts = bert.get_toks_and_acts(doc_txt)\n",
    "layers = list(doc_acts)[::3]\n",
    "# layers = layers[:2] # good for debugging\n",
    "if spherize: doc_acts = {layer: spherize(doc_acts[layer]) for layer in layers}\n",
    "\n",
    "print('\\nDocument:')\n",
    "print(' '.join(doc))\n",
    "print(f'\\nLayers: {\", \".join(layers)}')"
   ]
  },
  {
   "cell_type": "markdown",
   "metadata": {},
   "source": [
    "## Reduce sample"
   ]
  },
  {
   "cell_type": "code",
   "execution_count": null,
   "metadata": {},
   "outputs": [],
   "source": [
    "if vis_color:\n",
    "    # reduce\n",
    "    doc_components = {}\n",
    "    doc_reduced_acts = {}\n",
    "    for layer in layers:\n",
    "        _components, _reduced_acts = acts_util.fit_components(doc_acts[layer], reduction, dim)\n",
    "        doc_components[layer] = _components\n",
    "        doc_reduced_acts[layer] = _reduced_acts\n",
    "    if vis_size:\n",
    "        doc_acts_sizes = {layer: np.linalg.norm(doc_acts[layer], axis=1) for layer in layers}"
   ]
  },
  {
   "cell_type": "markdown",
   "metadata": {},
   "source": [
    "## Get neighbors"
   ]
  },
  {
   "cell_type": "code",
   "execution_count": null,
   "metadata": {},
   "outputs": [],
   "source": [
    "selected_tok = 'caught'\n",
    "selected_tok_idx = doc.index(selected_tok)"
   ]
  },
  {
   "cell_type": "markdown",
   "metadata": {},
   "source": [
    "### Get corpus neighbors"
   ]
  },
  {
   "cell_type": "code",
   "execution_count": null,
   "metadata": {},
   "outputs": [],
   "source": [
    "if vis_corpus_KNNs:\n",
    "    # io\n",
    "    corpus_dir = '/atlas/u/pkalluri/bert-vis/big-data/wiki-small'\n",
    "    corpus_dir = os.path.abspath(corpus_dir)\n",
    "    subdir = refs.sphere_dir if spherize else refs.standard_dir\n",
    "    knn_models_dir = os.path.join(corpus_dir, subdir, refs.knn_models_dirname)\n",
    "    n_neighbors = 20\n",
    "\n",
    "    # get KNNs\n",
    "    corpus_neighbors = {}\n",
    "    corpus_contexts = pickle.load(open(os.path.join(corpus_dir, subdir, refs.contexts_fn),'rb'))\n",
    "    for layer in layers:\n",
    "        print(f'Layer {layer}')\n",
    "\n",
    "        print('Loading nearest neighbors model.')\n",
    "        knn_model = pickle.load(open(os.path.join(corpus_dir, subdir, knn_models_dir, f'{layer}.pickle'), 'rb'))\n",
    "\n",
    "        print('Finding neighbors')\n",
    "        _doc_acts = doc_acts[layer]\n",
    "        neighs_dists, neighs_ids = knn_model.kneighbors([_doc_acts[selected_tok_idx]], n_neighbors=n_neighbors, return_distance=True)\n",
    "        neighs_dists, neighs_ids = neighs_dists[0], neighs_ids[0]\n",
    "        neighs = [(neigh_id, corpus_contexts[neigh_id], neigh_dist) for neigh_id, neigh_dist in zip(neighs_ids, neighs_dists)]  # a neighbor is an id, the corresponding context, and the distance away\n",
    "        corpus_neighbors[layer] = neighs\n",
    "        del knn_model"
   ]
  },
  {
   "cell_type": "markdown",
   "metadata": {
    "tags": []
   },
   "source": [
    "## Get masked neighbors"
   ]
  },
  {
   "cell_type": "code",
   "execution_count": null,
   "metadata": {},
   "outputs": [],
   "source": [
    "if vis_masked_KNNs:\n",
    "    # params\n",
    "    mask_lengths = range(max(len(doc)-3, 1),len(doc)-1)\n",
    "    # GET MASKED VARIANTS OF SAMPLE\n",
    "    print('Getting variants.')\n",
    "    variants = [doc] + bert_util.get_masked_variants(doc, mask_lengths)\n",
    "    print('Getting activations.')\n",
    "    variants_contexts, variants_acts = bert.get_contexts_and_acts(variants, tokenized=True)\n",
    "    if spherize: variants_acts = {layer: spherize(variants_acts[layer]) for layer in layers}\n",
    "    \n",
    "    # GET KNNs FROM MASKED VARIANTS\n",
    "    # params\n",
    "    n_neighbors = 20\n",
    "\n",
    "    # get KNNs\n",
    "    masked_neighbors = {}\n",
    "    for layer in layers:\n",
    "        print(f'Layer {layer}')\n",
    "\n",
    "        print('Fitting nearest neighbors model.')\n",
    "        knn_model = NearestNeighbors(n_neighbors=n_neighbors).fit(variants_acts[layer])\n",
    "\n",
    "        print('Finding neighbors')\n",
    "        _doc_acts = doc_acts[layer]\n",
    "        neighs_dists, neighs_ids = knn_model.kneighbors([_doc_acts[selected_tok_idx]], n_neighbors=n_neighbors, return_distance=True)\n",
    "        neighs_dists, neighs_ids = neighs_dists[0], neighs_ids[0]\n",
    "        neighs = [(variants_contexts[neigh_id], neigh_dist) for neigh_id, neigh_dist in zip(neighs_ids, neighs_dists)]  # a neighbor is an id, the corresponding context, and the distance away\n",
    "        masked_neighbors[layer] = neighs\n",
    "        del knn_model"
   ]
  },
  {
   "cell_type": "markdown",
   "metadata": {},
   "source": [
    "## Check similarity of custom sentences"
   ]
  },
  {
   "cell_type": "code",
   "execution_count": null,
   "metadata": {},
   "outputs": [],
   "source": [
    "if vis_custom_contexts:\n",
    "    custom_contexts_unprocessed = [\n",
    "                                    ('He caught it.', 'caught'),\n",
    "                                    ('He caught her eye.', 'caught'),\n",
    "                                    ('The rabbit caught the fox\\'s eye.', 'caught'),\n",
    "                                    ('The rabbit caught the fox\\'s attention.', 'caught'),\n",
    "                                    ('0 1 2 3 4 caught 6 7 8.', 'caught'),\n",
    "                                    ('He [MASK] it.', '[MASK]'),\n",
    "                                    ('He [MASK] her eye.', '[MASK]'),\n",
    "                                    ('The rabbit [MASK] the fox\\'s eye.', '[MASK]'),\n",
    "                                    ('The rabbit [MASK] the fox\\'s attention.', '[MASK]'),\n",
    "                                    ('0 1 2 3 4 [MASK] 6 7 8.', '[MASK]'),\n",
    "                                    ('The rabbit caught the carrot.', 'caught')\n",
    "                                    ]\n",
    "    custom_neighbors = {layer: [] for layer in layers}\n",
    "    for custom_txt, custom_tok in custom_contexts_unprocessed:\n",
    "        custom_doc, custom_doc_acts = bert.get_toks_and_acts(custom_txt)\n",
    "        custom_pos = custom_doc.index(custom_tok)\n",
    "        custom_context = (custom_doc, custom_pos)\n",
    "        for layer in layers:\n",
    "            _act = doc_acts[layer][selected_tok_idx]\n",
    "            _custom_act = custom_doc_acts[layer][custom_pos]\n",
    "            if spherize: \n",
    "                _act = spherize([_act])[0]\n",
    "                _custom_act = spherize([_custom_act])[0]\n",
    "            dist = np.linalg.norm(_custom_act - _act)\n",
    "            custom_neighbors[layer].append((custom_context, dist))\n",
    "    "
   ]
  },
  {
   "cell_type": "markdown",
   "metadata": {
    "tags": []
   },
   "source": [
    "## Vis"
   ]
  },
  {
   "cell_type": "code",
   "execution_count": null,
   "metadata": {
    "tags": []
   },
   "outputs": [],
   "source": [
    "# VISUALIZE\n",
    "\n",
    "override_params = True  # useful for quick iteration on visualization\n",
    "if override_params:\n",
    "    vis_color = True\n",
    "    vis_size = True\n",
    "    vis_masked_KNNs = False\n",
    "    vis_corpus_KNNs = True\n",
    "    vis_custom_contexts = False\n",
    "    together = True\n",
    "    pruning=True  \n",
    "    save_to_html = False\n",
    "    # if pruning is true, in the masked neighbors vis, first the closest 0-length mask is presented, \n",
    "    # then jumps to the closes 1-length max, etc - forming a kind of slow pruning to capture the essence of the context.\n",
    "# other vis params\n",
    "max_font_size = 10\n",
    "if save_to_html: html_doc = ''\n",
    "# params if visualizing neighbors\n",
    "if vis_corpus_KNNs or vis_masked_KNNs or vis_custom_contexts:\n",
    "    n_neighbors_to_vis = 50\n",
    "    token_styler = lambda t: t\n",
    "    # token_styler = lambda t: style(font_size(fix_size(t),7), 'line-height:0px;')  # another pretty styling option\n",
    "    bluer = highlighter('lightblue')\n",
    "    greener = highlighter('limegreen')\n",
    "    greyer = highlighter('grey')\n",
    "    masker = highlighter('black')\n",
    "    selected_tok_html = context_html(doc, selected_tok_idx)\n",
    "\n",
    "# vis legend\n",
    "if vis_color:\n",
    "    pure_rgbs = vis_util.channels_to_rgbs(np.eye(dim))\n",
    "    html = ''\n",
    "    for i, rgb in enumerate(pure_rgbs):\n",
    "        html += html_util.style(f' {i} ', css=f'background-color: {html_util.rgb_to_color(*rgb)}')\n",
    "    print('Legend')\n",
    "    display(HTML(html))\n",
    "    if save_to_html: html_doc += html + '<br>'\n",
    "    print() \n",
    "    rgbs = {layer:vis_util.channels_to_rgbs(doc_reduced_acts[layer]) for layer in layers}  # prepare coloring\n",
    "\n",
    "corpus_neighs_so_far = []  \n",
    "for layer in layers:\n",
    "    html = f'Layer {layer}'\n",
    "    display(HTML(html))\n",
    "    if save_to_html: html_doc += html\n",
    "    \n",
    "    # vis sample\n",
    "    _rgbs = rgbs[layer]\n",
    "    if vis_size:\n",
    "        _sizes = doc_acts_sizes[layer]\n",
    "        _sizes = (_sizes - np.min(_sizes)) / (np.max(_sizes) - np.min(_sizes))    \n",
    "    if vis_color:\n",
    "        color_html = ''\n",
    "        for pos, tok in enumerate(doc):\n",
    "            if vis_size:\n",
    "                css = f'background-color: {html_util.rgb_to_color(*_rgbs[pos])}; font-size: {_sizes[pos]*max_font_size}pt;'\n",
    "            else:\n",
    "                css = f'background-color: {html_util.rgb_to_color(*_rgbs[pos])}; font-size: {max_font_size}pt;'\n",
    "            color_html += html_util.style(f' {tok} ', css=css)\n",
    "        display(HTML(color_html))\n",
    "        if save_to_html: html_doc += color_html + '<br>'\n",
    "    \n",
    "    # vis knns\n",
    "    if vis_masked_KNNs or vis_corpus_KNNs or vis_custom_contexts:\n",
    "        # Show the doc\n",
    "        display(HTML(selected_tok_html))\n",
    "        if save_to_html: html_doc += selected_tok_html + '<br>'\n",
    "        \n",
    "        if together:\n",
    "            neighbors = []\n",
    "            if vis_masked_KNNs:\n",
    "                neighbors.extend([(context, dist, 'masked') for context, dist in masked_neighbors[layer]])\n",
    "            if vis_corpus_KNNs:\n",
    "                neighbors.extend([(context, dist, 'corpus') for context_id, context, dist in corpus_neighbors[layer]])\n",
    "            if vis_custom_contexts:\n",
    "                neighbors.extend([(context, dist, 'custom') for context, dist in custom_neighbors[layer]])\n",
    "            neighbors.sort(key=lambda t: t[1])  # sort all by dist\n",
    "            \n",
    "            for neigh_context, neigh_dist, neigh_source in neighbors[:n_neighbors_to_vis]:\n",
    "                html = f'({neigh_dist:.3f}) '\n",
    "                if neigh_source == 'masked':\n",
    "                    html += context_html(*neigh_context, masker=masker, token_styler=token_styler)\n",
    "                elif neigh_source == 'corpus':\n",
    "                    marker = bluer if not neigh_context in corpus_neighs_so_far else greyer\n",
    "                    html += context_html(*neigh_context, marker=marker, masker=masker, token_styler=token_styler)\n",
    "                    corpus_neighs_so_far.append(neigh_context)\n",
    "                elif neigh_source == 'custom':\n",
    "                    html += context_html(*neigh_context, marker=greener, masker=masker, token_styler=token_styler)\n",
    "                display(HTML(html))\n",
    "                if save_to_html: html_doc += html + '<br>'\n",
    "        else:\n",
    "            if vis_masked_KNNs:\n",
    "                _masked_neighbors = masked_neighbors[layer]\n",
    "                if pruning:\n",
    "                    for mask_len_to_search in range(len(doc)-2):\n",
    "                        for neigh_context, neigh_dist in _masked_neighbors:\n",
    "                            neigh_toks, neigh_pos = neigh_context\n",
    "                            mask_len = len([tok for tok in neigh_toks if tok == '[MASK]'])\n",
    "                            if mask_len == mask_len_to_search:\n",
    "                                html = token_styler(f'({neigh_dist:.3f}) ') +  context_html(*neigh_context, token_styler=token_styler)\n",
    "                                display(HTML(html))\n",
    "                                if save_to_html: html_doc += html + '<br>'\n",
    "                                break\n",
    "                else:\n",
    "                    for neigh_context, neigh_dist in _masked_neighbors[:n_neighbors_to_vis]:\n",
    "                        html = token_styler(f'({neigh_dist:.3f}) ') + context_html(*neigh_context, token_styler=lambda t: token_styler(fix_size(t)))\n",
    "                        display(HTML(html))\n",
    "                        if save_to_html: html_doc += html + '<br>'\n",
    "            if vis_corpus_KNNs:\n",
    "                _corpus_neighs = corpus_neighbors[layer][:n_neighbors_to_vis]\n",
    "                for neigh_id, neigh_context, neigh_dist in _corpus_neighs:\n",
    "                    marker = bluer if not neigh_context in corpus_neighs_so_far else greyer\n",
    "                    html = token_styler(f'({neigh_dist:.3f})') + context_html(*neigh_context, marker=marker, token_styler=token_styler)\n",
    "                    display(HTML(html))\n",
    "                    if save_to_html: html_doc += html + '<br>'\n",
    "                    corpus_neighs_so_far.append(neigh_context)\n",
    "            if vis_custom_contexts:\n",
    "                _custom_neighbors = custom_neighbors[layer]\n",
    "                for context, dist in _custom_neighbors:\n",
    "                    marker = greener\n",
    "                    html = token_styler(f'({dist:.3f})') + context_html(*context, marker=marker, token_styler=token_styler)\n",
    "                    display(HTML(html))\n",
    "                    if save_to_html: html_doc += html + '<br>'\n",
    "    print('.')\n",
    "    print('.')\n",
    "    print('.')\n",
    "\n",
    "if save_to_html: open('../../../building-blocks.html', 'w').write(html_doc)"
   ]
  },
  {
   "cell_type": "markdown",
   "metadata": {
    "tags": []
   },
   "source": [
    "## Visualize the evolution of context and all neighbors (In progress)"
   ]
  },
  {
   "cell_type": "code",
   "execution_count": null,
   "metadata": {},
   "outputs": [],
   "source": [
    "# import umap\n",
    "# import itertools\n",
    "# # VIS\n",
    "# from bokeh.plotting import figure, show, output_file\n",
    "# from IPython.core.display import display, HTML\n",
    "# from bokeh.io import output_notebook\n",
    "# from bokeh.models import Div, HoverTool, ColumnDataSource, PanTool, BoxZoomTool, WheelZoomTool, ResetTool\n",
    "# from bokeh.layouts import gridplot\n",
    "# from bokeh.palettes import Category20\n",
    "# view_vis_as_html = False\n",
    "# output_notebook()\n",
    "# if view_vis_as_html:\n",
    "#     output_file('visualize-wiki.html')"
   ]
  },
  {
   "cell_type": "code",
   "execution_count": null,
   "metadata": {},
   "outputs": [],
   "source": [
    "# import plotly.express as px\n",
    "# import plotly.io as pio\n",
    "# pio.renderers.default = 'iframe'"
   ]
  },
  {
   "cell_type": "code",
   "execution_count": null,
   "metadata": {},
   "outputs": [],
   "source": [
    "# # Fresh visualization\n",
    "# grid = vis_util.Grid()\n",
    "# verbose = True\n",
    "# palette = Category20[20]\n",
    "# layer_palette = {layer: palette[layer_idx] for layer_idx, layer in enumerate(layers)}\n",
    "# n_neighbors = 20  # todo: set automatically from corpus knns section\n",
    "\n",
    "# col = []\n",
    "# points_ids = []\n",
    "# points_contexts = []\n",
    "# points_layers = []\n",
    "# points_colors = []\n",
    "# points_htmls = []\n",
    "# for layer in layers:\n",
    "#     _points_ids, _points_contexts, _ = zip(*corpus_neighborhoods[layer][tok_of_interest_idx])\n",
    "#     points_ids += _points_ids\n",
    "#     points_contexts += _points_contexts \n",
    "#     points_layers += [layer] * len(_points_ids)\n",
    "#     points_colors += [layer_palette[layer]] * len(_points_ids)\n",
    "#     points_htmls += [context_util.context_html(*context) for context in _points_contexts]\n",
    "# reducer = umap.UMAP(random_state=1)\n",
    "# for layer_to_plot in layers:\n",
    "#     if verbose: print('Gathering plot info...')\n",
    "#     points_acts = corpus_acts[layer_to_plot][points_ids]\n",
    "#     points_2d = reducer.fit_transform(points_acts)\n",
    "#     tok_point_act = doc_acts[layer_to_plot][tok_of_interest_idx]\n",
    "#     tok_point_2d = reducer.transform([tok_point_act])[0]\n",
    "#     if verbose: print('Making empty plot...')\n",
    "#     p: figure = vis_util.empty_plot(size=200)\n",
    "#     if verbose: print('Adding points....')\n",
    "#     source = ColumnDataSource({'x': points_2d[:,0], 'y': points_2d[:,1], 'color': points_colors, 'label': points_htmls})\n",
    "#     p.circle('x', 'y', color='color', source=source)\n",
    "#     star_source = ColumnDataSource({'x': [tok_point_2d[0],], 'y': [tok_point_2d[1],], 'color': [layer_palette[layer_to_plot],], 'size': [10], 'label': [tok_of_interest_html,]})\n",
    "#     p.star('x', 'y', color='color', siz='size', source=star_source)\n",
    "#     if verbose: print('Adding tools...')\n",
    "#     p.tools = [WheelZoomTool(), PanTool(), BoxZoomTool(), ResetTool(), vis_util.hover_tool('label')]\n",
    "#     col.append(p)\n",
    "# grid.add_column('', col)\n",
    "# grid.show()"
   ]
  },
  {
   "cell_type": "code",
   "execution_count": null,
   "metadata": {},
   "outputs": [],
   "source": [
    "    #     colors = ['red' if neigh_layer==layer else 'black' for neigh_layer in all_neighs_layers]\n",
    "#     colors = []\n",
    "#     for neigh_layer, neigh_context in zip(all_neighs_layers, all_neighs_contexts):\n",
    "#         color = 'black'\n",
    "#         if neigh_layer == layer:\n",
    "#             color = 'blue'\n",
    "#         if neigh_context in neighs_contexts_so_far:\n",
    "#             print(layer, neighs_contexts_so_far)\n",
    "#             color = 'green'\n",
    "#         colors.append(color)\n",
    "#         neighs_contexts_so_far.append(neigh_context)"
   ]
  },
  {
   "cell_type": "markdown",
   "metadata": {
    "tags": []
   },
   "source": [
    "## Try a custom sentence"
   ]
  },
  {
   "cell_type": "code",
   "execution_count": null,
   "metadata": {},
   "outputs": [],
   "source": [
    "# choose\n",
    "new_text = 'Later that day, [MASK].'\n",
    "new_text_tok_of_interest = '[MASK]'\n",
    "\n",
    "# vis\n",
    "new_doc, new_acts = bert.get_toks_and_acts(new_text)\n",
    "new_pos = new_doc.index(new_text_tok_of_interest)\n",
    "for layer in layers:\n",
    "    current_act = doc_acts[layer][selected_tok_idx]\n",
    "    new_act = new_acts[layer][new_pos]\n",
    "    if spherize: new_act = spherize([new_act])[0]\n",
    "    display(HTML(f'Layer {layer}'))\n",
    "    dist = np.linalg.norm(current_act - new_act)\n",
    "    token_styler = lambda t: font_size(t,max_font_size)\n",
    "    html = token_styler(f'({dist:.3f})')\n",
    "    html += context_html(new_doc, new_pos, marker=bluer, token_styler=token_styler)\n",
    "    display(HTML(html))"
   ]
  },
  {
   "cell_type": "code",
   "execution_count": null,
   "metadata": {},
   "outputs": [],
   "source": []
  }
 ],
 "metadata": {
  "kernelspec": {
   "display_name": "Python 3",
   "language": "python",
   "name": "python3"
  },
  "language_info": {
   "codemirror_mode": {
    "name": "ipython",
    "version": 3
   },
   "file_extension": ".py",
   "mimetype": "text/x-python",
   "name": "python",
   "nbconvert_exporter": "python",
   "pygments_lexer": "ipython3",
   "version": "3.7.11"
  }
 },
 "nbformat": 4,
 "nbformat_minor": 4
}
