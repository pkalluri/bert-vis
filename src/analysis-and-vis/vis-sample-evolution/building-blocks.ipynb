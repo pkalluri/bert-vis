{
 "cells": [
  {
   "cell_type": "markdown",
   "metadata": {},
   "source": [
    "# Understand a context through its clusters and its neighbors\n",
    "Examine, at each layer, the given context's KNNs - both KNNs in the corpus and the KNNs out of its own masked variants."
   ]
  },
  {
   "cell_type": "markdown",
   "metadata": {},
   "source": [
    "## Imports"
   ]
  },
  {
   "cell_type": "code",
   "execution_count": null,
   "metadata": {},
   "outputs": [],
   "source": [
    "%load_ext autoreload\n",
    "%autoreload 2\n",
    "\n",
    "import warnings\n",
    "warnings.filterwarnings('ignore')\n",
    "warnings.simplefilter('ignore')\n",
    "import pickle\n",
    "import numpy as np\n",
    "from sklearn.cluster import KMeans\n",
    "import os\n",
    "from IPython.core.display import display, HTML\n",
    "import numpy as np\n",
    "from sklearn.neighbors import NearestNeighbors\n",
    "import glob\n",
    "import warnings\n",
    "from typing import List\n",
    "import collections\n",
    "import itertools\n",
    "import random\n",
    "\n",
    "import sys\n",
    "sys.path.insert(0, os.path.abspath('../../..'))\n",
    "from src.utils import acts_util, vis_util, html_util, context_util, bert_util\n",
    "from src.utils.context_util import context_html\n",
    "from src.utils.html_util import highlighter, fix_size, font_size, style\n",
    "from src.utils import references as refs\n",
    "from src.utils.SimpleBert import SimpleBert"
   ]
  },
  {
   "cell_type": "markdown",
   "metadata": {},
   "source": [
    "## Parameters"
   ]
  },
  {
   "cell_type": "code",
   "execution_count": null,
   "metadata": {},
   "outputs": [],
   "source": [
    "spherize = True\n",
    "vis_color = True\n",
    "vis_size = True\n",
    "vis_masked_KNNs = True\n",
    "vis_corpus_KNNs = True\n",
    "doc_txt = \"The sky was blue.\""
   ]
  },
  {
   "cell_type": "markdown",
   "metadata": {},
   "source": [
    "## Get tokens and activations"
   ]
  },
  {
   "cell_type": "code",
   "execution_count": null,
   "metadata": {},
   "outputs": [],
   "source": [
    "bert = SimpleBert()"
   ]
  },
  {
   "cell_type": "code",
   "execution_count": null,
   "metadata": {},
   "outputs": [],
   "source": [
    "doc, doc_acts = bert.get_toks_and_acts(doc_txt)\n",
    "layers = [layer for layer in doc_acts] # may be dict or npz\n",
    "layers = layers[:2] # for debugging\n",
    "if spherize: doc_acts = {layer: acts_util.spherize(doc_acts[layer]) for layer in layers}\n",
    "\n",
    "print('\\nDocument:')\n",
    "print(' '.join(doc))\n",
    "print(f'\\nLayers: {\", \".join(layers)}')"
   ]
  },
  {
   "cell_type": "markdown",
   "metadata": {},
   "source": [
    "## Reduce sample"
   ]
  },
  {
   "cell_type": "code",
   "execution_count": null,
   "metadata": {},
   "outputs": [],
   "source": [
    "# params\n",
    "reduction, dim = 'NMF', 3\n",
    "\n",
    "# reduce\n",
    "doc_components = {}\n",
    "doc_reduced_acts = {}\n",
    "for layer in layers:\n",
    "    _components, _reduced_acts = acts_util.fit_components(doc_acts[layer], reduction, dim)\n",
    "    doc_components[layer] = _components\n",
    "    doc_reduced_acts[layer] = _reduced_acts\n",
    "if vis_size:\n",
    "    doc_acts_sizes = {layer: np.linalg.norm(doc_acts[layer], axis=1) for layer in layers}"
   ]
  },
  {
   "cell_type": "markdown",
   "metadata": {},
   "source": [
    "## Get corpus neighbors"
   ]
  },
  {
   "cell_type": "code",
   "execution_count": null,
   "metadata": {},
   "outputs": [],
   "source": [
    "toks_of_interest = range(len(doc))"
   ]
  },
  {
   "cell_type": "code",
   "execution_count": null,
   "metadata": {},
   "outputs": [],
   "source": [
    "if vis_corpus_KNNs:\n",
    "    \n",
    "    # GET K NEAREST NEIGHBORS FROM DATASET\n",
    "    # params\n",
    "    corpus_dir = '/Users/pkalluri/projects/clarity/bert-vis/big-data/wiki-large'\n",
    "    subdir = 'sphere' if spherize else'standard'\n",
    "    knn_path = os.path.join(corpus_dir, subdir, refs.knn_models_fn)\n",
    "    n_neighbors = 20\n",
    "\n",
    "    # get KNNs\n",
    "    corpus_neighborhoods = {}\n",
    "    corpus_contexts = pickle.load(open(os.path.join(corpus_dir, subdir, refs.contexts_fn),'rb'))\n",
    "    with open(knn_path, 'rb') as f:\n",
    "        for layer in layers:\n",
    "            print(f'Layer {layer}')\n",
    "\n",
    "            print('Loading nearest neighbors model.')\n",
    "            knn_model = pickle.load(f)\n",
    "\n",
    "            print('Finding neighbors')\n",
    "            _doc_acts = doc_acts[layer]\n",
    "            # a concise neighborhood is a single tuple of (neighbors' dists to the neighborhood's true token, neighbors' idxs)\n",
    "            concise_neighborhoods = zip(*knn_model.kneighbors(_doc_acts[toks_of_interest], n_neighbors=n_neighbors, return_distance=True))\n",
    "            # We want a more intuitive and useful representation:\n",
    "            # a neighborhood contains a list of neighbors; a neighbor is a tuple of (context, its dist to the true token)    \n",
    "            neighborhoods = []  \n",
    "            for concise_neighborhood in concise_neighborhoods:\n",
    "                neighborhood = [(corpus_contexts[neigh_idx], neigh_dist) for (neigh_dist, neigh_idx) in zip(*concise_neighborhood)]\n",
    "                neighborhoods.append(neighborhood)\n",
    "            corpus_neighborhoods[layer] = neighborhoods\n",
    "            del knn_model\n"
   ]
  },
  {
   "cell_type": "markdown",
   "metadata": {},
   "source": [
    "## Get masked neighbors"
   ]
  },
  {
   "cell_type": "code",
   "execution_count": null,
   "metadata": {},
   "outputs": [],
   "source": [
    "if vis_masked_KNNs:\n",
    "    # params\n",
    "    mask_lengths = range(1, len(doc)-2)\n",
    "    # GET MASKED VARIANTS OF SAMPLE\n",
    "    variants = [doc] + bert_util.get_masked_variants(doc, mask_lengths)\n",
    "    variants_contexts, variants_acts = bert.get_contexts_and_acts(variants, tokenized=True)\n",
    "    if spherize: variants_acts = {layer: acts_util.spherize(variants_acts[layer]) for layer in layers}\n",
    "    \n",
    "    # GET KNNs FROM MASKED VARIANTS\n",
    "    # params\n",
    "    n_neighbors = 50\n",
    "\n",
    "    # get KNNs\n",
    "    masked_neighborhoods = {}\n",
    "    for layer in layers:\n",
    "        print(layer)\n",
    "\n",
    "        print('Fit nearest neighbors model.')\n",
    "        knn_model = NearestNeighbors(n_neighbors=n_neighbors).fit(variants_acts[layer])\n",
    "\n",
    "        print('Finding neighbors')\n",
    "        _variants_acts = variants_acts[layer]\n",
    "        # a concise neighborhood is a single tuple of (neighbors' dists to the neighborhood's true token, neighbors' idxs)\n",
    "        concise_neighborhoods = zip(*knn_model.kneighbors(_variants_acts[toks_of_interest], n_neighbors=n_neighbors, return_distance=True))\n",
    "        # We want a more intuitive and useful representation:\n",
    "        # a neighborhood contains a list of neighbors; a neighbor is a tuple of (context, its dist to the true token)    \n",
    "        neighborhoods = []  \n",
    "        for concise_neighborhood in concise_neighborhoods:\n",
    "            neighborhood = [(variants_contexts[neigh_idx], neigh_dist) for (neigh_dist, neigh_idx) in zip(*concise_neighborhood)]\n",
    "            neighborhoods.append(neighborhood)\n",
    "        masked_neighborhoods[layer] = neighborhoods\n",
    "        del knn_model"
   ]
  },
  {
   "cell_type": "markdown",
   "metadata": {},
   "source": [
    "## Vis"
   ]
  },
  {
   "cell_type": "code",
   "execution_count": null,
   "metadata": {
    "jupyter": {
     "source_hidden": true
    },
    "scrolled": false,
    "tags": []
   },
   "outputs": [],
   "source": [
    "# VISUALIZE\n",
    "\n",
    "override_params = True  # useful for quick iteration on visualization\n",
    "if override_params:\n",
    "    vis_color = True\n",
    "    vis_size = True\n",
    "    vis_masked_KNNs = True\n",
    "    vis_corpus_KNNs = True\n",
    "# other vis params\n",
    "max_font_size = 10\n",
    "n_neighbors_to_vis = 30\n",
    "together = False\n",
    "pruning=True  \n",
    "# if true, in the masked neighbors vis, first the closest 0-length mask is presented, \n",
    "# then jumps to the closes 1-length max, etc - forming a kind of slow pruning to capture the essence of the context.\n",
    "token_styler = lambda t: t\n",
    "# token_styler = lambda t: style(font_size(fix_size(t),7), 'line-height:0px;')  # another styling option\n",
    "\n",
    "# vis\n",
    "rgbs = {layer:vis_util.channels_to_rgbs(doc_reduced_acts[layer]) for layer in layers}\n",
    "tok_of_interest = '[CLS]'\n",
    "tok_of_interest_idx = doc.index(tok_of_interest)\n",
    "neighborhood_idx = toks_of_interest.index(tok_of_interest_idx)  # it should be one of the toks of interest we searched for\n",
    "tok_of_interest_html = context_html(doc, toks_of_interest[tok_of_interest_idx])\n",
    "display(HTML(tok_of_interest_html))\n",
    "print()\n",
    "\n",
    "# vis legend\n",
    "if vis_color:\n",
    "    pure_rgbs = vis_util.channels_to_rgbs(np.eye(dim))\n",
    "    html = ''\n",
    "    for i, rgb in enumerate(pure_rgbs):\n",
    "        html += html_util.style(f' {i} ', css=f'background-color: {html_util.rgb_to_color(*rgb)}')\n",
    "    print('Legend')\n",
    "    display(HTML(html))\n",
    "    print() \n",
    "        \n",
    "bluer = highlighter('lightblue')\n",
    "for layer_idx, layer in list(enumerate(layers))[:]:\n",
    "    display(HTML(f'Layer {str(layer_idx)}'))\n",
    "    # vis sample\n",
    "    _rgbs = rgbs[layer]\n",
    "    if vis_size:\n",
    "        _sizes = doc_acts_sizes[layer]\n",
    "        _sizes = (_sizes - np.min(_sizes)) / (np.max(_sizes) - np.min(_sizes))    \n",
    "    if vis_color:\n",
    "        color_html = ''\n",
    "        for pos, tok in enumerate(doc):\n",
    "            if vis_size:\n",
    "                css = f'background-color: {html_util.rgb_to_color(*_rgbs[pos])}; font-size: {_sizes[pos]*max_font_size}pt;'\n",
    "            else:\n",
    "                css = f'background-color: {html_util.rgb_to_color(*_rgbs[pos])}; font-size: {max_font_size}pt;'\n",
    "            color_html += html_util.style(f' {tok} ', css=css)\n",
    "        display(HTML(tok_of_interest_html))\n",
    "        display(HTML(color_html))\n",
    "    \n",
    "    # vis knns\n",
    "    if together:\n",
    "        neighbors = []\n",
    "        if vis_masked_KNNs:\n",
    "            neighbors.extend([(context, dist, 'masked') for context, dist in masked_neighborhoods[layer][neighborhood_idx]][1:])\n",
    "        if vis_corpus_KNNs:\n",
    "            neighbors.extend([(context, dist, 'corpus') for context, dist in corpus_neighborhoods[layer][neighborhood_idx]][1:])\n",
    "        neighbors.sort(key=lambda t: t[1])\n",
    "        for neigh_context, neigh_dist, neigh_dataset in neighbors[:n_neighbors_to_vis]:\n",
    "            html = f'({neigh_dist:.3f}) '\n",
    "            if neigh_dataset == 'masked':\n",
    "                html += context_html(*neigh_context, masker=masker, token_styler=token_styler)\n",
    "            elif neigh_dataset == 'corpus':\n",
    "                html += context_html(*neigh_context, marker=bluer, masker=masker, token_styler=token_styler)\n",
    "            display(HTML(html))\n",
    "    else:\n",
    "        if vis_masked_KNNs:\n",
    "            neighbors = masked_neighborhoods[layer][neighborhood_idx]\n",
    "            if pruning:\n",
    "                for mask_len_to_find in range(len(doc)-2):\n",
    "                    for neigh_context, neigh_dist in neighbors:\n",
    "                        neigh_toks, neigh_pos = neigh_context\n",
    "                        mask_len = len([tok for tok in neigh_toks if tok == '[MASK]'])\n",
    "                        if mask_len == mask_len_to_find:\n",
    "                            html = token_styler(f'({neigh_dist:.3f}) ') +  context_html(*neigh_context, token_styler=token_styler)\n",
    "                            display(HTML(html))\n",
    "                            break\n",
    "            else:\n",
    "                for neigh_context, neigh_dist in neighbors[:n_neighbors_to_vis]:  # masked neighbors\n",
    "                    html = token_styler(f'({neigh_dist:.3f}) ') + context_html(*neigh_context, token_styler=lambda t: token_styler(fix_size(t)))\n",
    "                    display(HTML(html))\n",
    "        if vis_corpus_KNNs:\n",
    "            neighbors = corpus_neighborhoods[layer][tok_of_interest_idx][:n_neighbors_to_vis]\n",
    "            for neigh_context, neigh_dist in neighbors:  # corpus neighbors\n",
    "                html = token_styler(f'{neigh_dist:.3f}') + context_html(*neigh_context, marker=bluer, token_styler=token_styler)\n",
    "                display(HTML(html))\n",
    "    print('.')\n",
    "    print('.')\n",
    "    print('.')  \n"
   ]
  },
  {
   "cell_type": "markdown",
   "metadata": {},
   "source": [
    "## Try a custom sentence"
   ]
  },
  {
   "cell_type": "code",
   "execution_count": null,
   "metadata": {},
   "outputs": [],
   "source": [
    "# choose\n",
    "layer = layers[1]\n",
    "new_text = 'The cluster lies about .'\n",
    "new_text_tok_of_interest = '[CLS]'\n",
    "\n",
    "# vis\n",
    "new_doc, new_acts = bert.get_toks_and_acts(new_text)\n",
    "new_pos = new_doc.index(new_text_tok_of_interest)\n",
    "current_act = doc_acts[layer][tok_of_interest_idx]\n",
    "if spherize: current_act = acts_util.spherize([current_act])[0]\n",
    "new_act = new_acts[layer][new_pos]\n",
    "if spherize: new_act = acts_util.spherize([new_act])[0]\n",
    "display(HTML(f'Layer {layer}'))\n",
    "dist = np.linalg.norm(current_act - new_act)\n",
    "token_styler = lambda t: font_size(t,max_font_size)\n",
    "html = token_styler(f'{dist:.3f}'[:])\n",
    "html += context_html(new_doc, new_pos, marker=bluer, token_styler=token_styler)\n",
    "display(HTML(html))"
   ]
  },
  {
   "cell_type": "code",
   "execution_count": null,
   "metadata": {},
   "outputs": [],
   "source": []
  }
 ],
 "metadata": {
  "kernelspec": {
   "display_name": "bert-vis",
   "language": "python",
   "name": "bert-vis"
  },
  "language_info": {
   "codemirror_mode": {
    "name": "ipython",
    "version": 3
   },
   "file_extension": ".py",
   "mimetype": "text/x-python",
   "name": "python",
   "nbconvert_exporter": "python",
   "pygments_lexer": "ipython3",
   "version": "3.7.9"
  }
 },
 "nbformat": 4,
 "nbformat_minor": 4
}
