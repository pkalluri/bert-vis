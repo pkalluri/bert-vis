{
 "cells": [
  {
   "cell_type": "markdown",
   "metadata": {},
   "source": [
    "# See a sample through BERT's eyes (clusters, size, and KNNs)"
   ]
  },
  {
   "cell_type": "markdown",
   "metadata": {},
   "source": [
    "## Imports"
   ]
  },
  {
   "cell_type": "code",
   "execution_count": null,
   "metadata": {},
   "outputs": [],
   "source": [
    "# Imports\n",
    "%load_ext autoreload\n",
    "%autoreload 2\n",
    "\n",
    "import os\n",
    "import pickle\n",
    "import numpy as np\n",
    "import glob\n",
    "from typing import List\n",
    "from sklearn.cluster import KMeans\n",
    "from sklearn.neighbors import NearestNeighbors\n",
    "import warnings\n",
    "from IPython.core.display import display, HTML\n",
    "\n",
    "import sys\n",
    "sys.path.insert(0, os.path.abspath('../..'))\n",
    "from utils import context_util, gpt_util, acts_util, vis_util, html_util\n"
   ]
  },
  {
   "cell_type": "markdown",
   "metadata": {},
   "source": [
    "## Get doc and acts"
   ]
  },
  {
   "cell_type": "code",
   "execution_count": null,
   "metadata": {},
   "outputs": [],
   "source": [
    "# Get doc and acts from str\n",
    "# doc = 'The second floor exhibits classical art.'\n",
    "\n",
    "# Or from textfile\n",
    "doc = open('/Users/pkalluri/projects/clarity/bert-vis/data/paragraphs/alice-1/doc.txt', 'r').read()\n",
    "print(doc)\n",
    "\n",
    "# Get toks and acts\n",
    "doc, doc_acts = gpt_util.get_doc_acts(doc)\n",
    "layers = list(range(len(doc_acts)))"
   ]
  },
  {
   "cell_type": "markdown",
   "metadata": {},
   "source": [
    "## Visualize sample"
   ]
  },
  {
   "cell_type": "code",
   "execution_count": null,
   "metadata": {
    "scrolled": true
   },
   "outputs": [],
   "source": [
    "# REDUCE ACTS\n",
    "\n",
    "# params\n",
    "reduction, dim = 'KMeans', 6\n",
    "vis_size = True\n",
    "\n",
    "# reduce\n",
    "doc_components = []\n",
    "doc_reduced_acts = []\n",
    "with warnings.catch_warnings():\n",
    "    warnings.simplefilter(\"ignore\")\n",
    "    for layer in layers:\n",
    "        _doc_acts = doc_acts[layer]\n",
    "        _doc_components, _doc_reduced_acts = acts_util.fit_components(_doc_acts, reduction, dim)\n",
    "        doc_components.append(_doc_components)\n",
    "        doc_reduced_acts.append(_doc_reduced_acts)\n",
    "if vis_size:\n",
    "    doc_acts_sizes = [np.linalg.norm(doc_acts[layer], axis=1) for layer in layers]"
   ]
  },
  {
   "cell_type": "code",
   "execution_count": null,
   "metadata": {},
   "outputs": [],
   "source": [
    "# GET K NEAREST NEIGHBORS FROM DATASET\n",
    "\n",
    "\n",
    "# params\n",
    "vis_KNNs = False\n",
    "corpus_dir = ''\n",
    "contexts_fn = 'contexts.pickle'\n",
    "knn_fn = 'KNN_models_K5.pickle'\n",
    "n_neighbors = 10\n",
    "toks_of_interest = [0,1,2,3,4]\n",
    "\n",
    "# get KNNs\n",
    "if vis_KNNs:\n",
    "    components_neighborhoods = []\n",
    "    toks_neighborhoods = []\n",
    "    corpus_contexts = pickle.load(open(os.path.join(corpus_dir, contexts_fn),'rb'))\n",
    "    with open(os.path.join(corpus_dir, knn_fn), 'rb') as f:\n",
    "        for layer in layers:\n",
    "            print(layer)\n",
    "\n",
    "            print('Loading nearest neighbors model.')\n",
    "            knn_model = pickle.load(f)\n",
    "\n",
    "            print('Finding neighbors')\n",
    "            # a concise neighborhood is a single tuple of (neighbors' dists to the neighborhood's true token, neighbors' idxs)\n",
    "            _concise_neighborhoods = zip(*knn_model.kneighbors(doc_components[layer], n_neighbors=n_neighbors, return_distance=True))\n",
    "            # We want a more intuitive and useful representation:\n",
    "            # a neighborhood contains a list of neighbors; a neighbor is a tuple of (context, its dist to the true token)    \n",
    "            _neighborhoods = [[(corpus_contexts[idx], dist) for (dist, idx) in zip(*concise_neighborhood)] \n",
    "                              for concise_neighborhood in _concise_neighborhoods]  \n",
    "            components_neighborhoods.append(_neighborhoods)\n",
    "\n",
    "\n",
    "            _concise_neighborhoods = zip(*knn_model.kneighbors(doc_acts[layer][toks_of_interest], n_neighbors=n_neighbors, return_distance=True))\n",
    "            _neighborhoods = [[(corpus_contexts[idx], dist) for (dist, idx) in zip(*concise_neighborhood)] \n",
    "                      for concise_neighborhood in _concise_neighborhoods]  \n",
    "            toks_neighborhoods.append(_neighborhoods) \n",
    "            del knn_model\n"
   ]
  },
  {
   "cell_type": "code",
   "execution_count": null,
   "metadata": {
    "scrolled": false
   },
   "outputs": [],
   "source": [
    "# VISUALIZE\n",
    "# params\n",
    "vis_legend = True\n",
    "vis_sample = True\n",
    "vis_components_KNNs = False\n",
    "vis_tokens_KNNs = False\n",
    "vis_size = False\n",
    "max_font_size = 12\n",
    "\n",
    "# legend\n",
    "pure_rgbs = vis_util.channels_to_rgbs(np.eye(dim))\n",
    "if vis_legend:\n",
    "    html = ''\n",
    "    for i, rgb in enumerate(pure_rgbs):\n",
    "        css = f'background-color: {html_util.rgb_to_color(*rgb)}'\n",
    "        html += html_util.style(f' {i} ', css=css)\n",
    "    print('Legend')\n",
    "    display(HTML(html))\n",
    "    print()\n",
    "\n",
    "# vis\n",
    "rgbs = [vis_util.channels_to_rgbs(doc_reduced_acts[layer]) for layer in layers]\n",
    "for layer in layers:\n",
    "    _rgbs = rgbs[layer]\n",
    "    if vis_size:\n",
    "        _sizes = doc_acts_sizes[layer]\n",
    "        _normalized_sizes = (_sizes - np.min(_sizes)) / (np.max(_sizes) - np.min(_sizes))\n",
    "    display(HTML(f'Layer {layer}'))\n",
    "    if vis_sample:\n",
    "        # vis sample\n",
    "        html = ''\n",
    "        for tok_idx, tok in enumerate(doc):\n",
    "            if vis_size:\n",
    "                css = f'background-color: {html_util.rgb_to_color(*_rgbs[tok_idx])}; font-size: {_normalized_sizes[tok_idx]*max_font_size}pt;'\n",
    "            else:\n",
    "                css = f'background-color: {html_util.rgb_to_color(*_rgbs[tok_idx])}; font-size: {max_font_size}pt;'\n",
    "            html += html_util.style(f' {tok} ', css=css)\n",
    "        display(HTML(html))\n",
    "    \n",
    "    # vis neighbors\n",
    "    if vis_components_KNNs:\n",
    "        _neighborhoods = components_neighborhoods[layer]\n",
    "        for neighborhood_idx, (pure_rgb, neighborhood) in enumerate(zip(pure_rgbs, _neighborhoods)):\n",
    "            color = html_util.rgb_to_color(*pure_rgb)\n",
    "            display(HTML(f'Cluster {neighborhood_idx} KNNs:'))\n",
    "            for context, dist in neighborhood:\n",
    "                html = f'({dist:.2f}) ' + context_util.context_html(*context, marker=html_util.highlighter(color=color))\n",
    "                html = html_util.style(html, css = 'font-size: 10px;')\n",
    "                display(HTML(html))\n",
    "    if vis_tokens_KNNs:\n",
    "        _neighborhoods = toks_neighborhoods[layer]\n",
    "        for tok_idx, neighborhood in zip(toks_of_interest, _neighborhoods):\n",
    "            display(HTML(f'Token {tok_idx} ({doc[tok_idx]}) KNNs:'))\n",
    "            for context, dist in neighborhood:\n",
    "                html = f'({dist:.2f}) ' + context_util.context_html(*context)\n",
    "                html = html_util.style(html, css = 'font-size: 10px;')\n",
    "                display(HTML(html))\n",
    "#     print('.')\n",
    "#     print('.')\n",
    "#     print('.')            "
   ]
  },
  {
   "cell_type": "code",
   "execution_count": null,
   "metadata": {},
   "outputs": [],
   "source": []
  }
 ],
 "metadata": {
  "kernelspec": {
   "display_name": "bert-vis",
   "language": "python",
   "name": "bert-vis"
  },
  "language_info": {
   "codemirror_mode": {
    "name": "ipython",
    "version": 3
   },
   "file_extension": ".py",
   "mimetype": "text/x-python",
   "name": "python",
   "nbconvert_exporter": "python",
   "pygments_lexer": "ipython3",
   "version": "3.7.9"
  }
 },
 "nbformat": 4,
 "nbformat_minor": 4
}
