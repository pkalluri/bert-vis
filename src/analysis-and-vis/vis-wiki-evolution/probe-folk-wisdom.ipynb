{
 "cells": [
  {
   "cell_type": "markdown",
   "id": "432d1ccb-c958-439b-a023-8e0845a73079",
   "metadata": {},
   "source": [
    "# Probing folk wisdom"
   ]
  },
  {
   "cell_type": "markdown",
   "id": "847ebd8b-a3ac-4767-8cf2-f26b5e378760",
   "metadata": {
    "tags": []
   },
   "source": [
    "## Setup"
   ]
  },
  {
   "cell_type": "code",
   "execution_count": 8,
   "id": "c0a6c3f8-4af7-43c7-a22a-07fb4b787107",
   "metadata": {},
   "outputs": [
    {
     "data": {
      "text/plain": [
       "'Notebooks is ready.'"
      ]
     },
     "execution_count": 8,
     "metadata": {},
     "output_type": "execute_result"
    }
   ],
   "source": [
    "'Notebooks is ready.'"
   ]
  },
  {
   "cell_type": "code",
   "execution_count": 2,
   "id": "f624b054-c53f-49c3-90e3-7e361af0aac0",
   "metadata": {},
   "outputs": [],
   "source": [
    "%load_ext autoreload\n",
    "%autoreload 2\n",
    "import os\n",
    "import pickle\n",
    "import numpy as np\n",
    "np.set_printoptions(precision=3, suppress=True)\n",
    "import sys\n",
    "sys.path.insert(0, os.path.abspath('../..'))\n",
    "# import seaborn as sns\n",
    "import plotly.express as px\n",
    "from sklearn.linear_model import LogisticRegression\n",
    "from sklearn import metrics\n",
    "import collections\n",
    "import pandas as pd\n",
    "\n",
    "import utils.references as refs\n",
    "from utils.acts_util import normalize\n",
    "from utils.context_util import abbreviated_context as context_txt"
   ]
  },
  {
   "cell_type": "code",
   "execution_count": 175,
   "id": "32f17216-47dd-422e-b6ce-28de111bb31f",
   "metadata": {},
   "outputs": [],
   "source": [
    "import random\n",
    "import nltk"
   ]
  },
  {
   "cell_type": "code",
   "execution_count": 4,
   "id": "f56ecdd4-c06f-464c-b54f-fdaa8d556212",
   "metadata": {},
   "outputs": [],
   "source": [
    "# load corpus and acts\n",
    "corpus_dir = '/atlas/u/pkalluri/bert-vis/big-data/wiki-large'\n",
    "corpus_dir = os.path.abspath(corpus_dir)\n",
    "corpus_contexts = pickle.load(open(os.path.join(corpus_dir, refs.contexts_fn),'rb'))\n",
    "corpus_acts = np.load(os.path.join(corpus_dir, refs.acts_fn))\n",
    "layers = corpus_acts.files"
   ]
  },
  {
   "cell_type": "code",
   "execution_count": 7,
   "id": "5a449314-4255-4760-8539-6d28a9954940",
   "metadata": {},
   "outputs": [],
   "source": [
    "# get all tokens\n",
    "corpus_toks = np.array([doc[pos] for doc, pos in corpus_contexts])\n",
    "vocab = list(set(corpus_toks))\n",
    "# corpus_txts = np.array([context_txt(doc,pos) for doc, pos in corpus_contexts])"
   ]
  },
  {
   "cell_type": "markdown",
   "id": "f8f30e75-a18f-4e97-ad01-5490771734ba",
   "metadata": {
    "tags": []
   },
   "source": [
    "## First, we probe for identity"
   ]
  },
  {
   "cell_type": "code",
   "execution_count": 172,
   "id": "f996c601-60e7-45d9-a3ea-8e5832067ba0",
   "metadata": {},
   "outputs": [],
   "source": [
    "def probe_identity(corpus_acts, corpus_contexts, corpus_filter, \n",
    "                   gaps=[-1,0,1], train_frac=.8, n_layers=None, predict_from_tok=False, verbose=False):\n",
    "    n_layers = n_layers or len(corpus_acts)\n",
    "    \n",
    "    # calculate data filters\n",
    "    acts_filters = {}\n",
    "    contexts_filters = {}\n",
    "    for gap in gaps:\n",
    "        contexts_filter = []\n",
    "        acts_filter = []\n",
    "        for idx in corpus_filter:\n",
    "            doc, pos = corpus_contexts[idx]\n",
    "            if pos+gap in range(0, len(doc)):\n",
    "                if predict_from_tok:\n",
    "                    acts_filter.append(idx) # from tok\n",
    "                    contexts_filter.append(idx+gap) # to my neighbors\n",
    "                else:\n",
    "                    acts_filter.append(idx+gap) # from neighbors\n",
    "                    contexts_filter.append(idx)  # to tok\n",
    "        acts_filters[gap] = acts_filter\n",
    "        contexts_filters[gap] = contexts_filter\n",
    "    for gap in gaps:\n",
    "        if len(acts_filters[gap]) == 0:  # no contexts found\n",
    "            del acts_filters[gap]\n",
    "            del contexts_filters[gap]\n",
    "    gaps = acts_filters.keys()\n",
    "    \n",
    "    # get target data\n",
    "    corpus_toks = np.array([doc[pos] for doc, pos in corpus_contexts])\n",
    "    target_toks = {gap: corpus_toks[contexts_filter] for gap, contexts_filter in contexts_filters.items()}\n",
    "        \n",
    "    model = LogisticRegression(max_iter=1000)\n",
    "    scores = []\n",
    "    for layer in layers[:n_layers]:\n",
    "        if verbose: print(layer)\n",
    "        _acts = corpus_acts[layer]\n",
    "        for gap in gaps:\n",
    "            if verbose: print('gap')\n",
    "            _input_acts = _acts[acts_filters[gap]]\n",
    "            _target_toks = target_toks[gap]\n",
    "            n_train = int(train_frac * len(_input_acts))\n",
    "            if verbose: print('fitting model...')\n",
    "            model.fit(_input_acts[:n_train], _target_toks[:n_train])\n",
    "            if verbose: print('calculating accuracy...')\n",
    "            score = model.score(_input_acts[n_train:], _target_toks[n_train:])\n",
    "            scores.append([layer,gap,score])\n",
    "            if verbose: print(f'{layer}:{score}', flush=True)\n",
    "    return pd.DataFrame(scores, columns=['layer','gap','score'])"
   ]
  },
  {
   "cell_type": "code",
   "execution_count": 152,
   "id": "0e7a0f3e-09d1-4878-a406-ab6d45f01fec",
   "metadata": {},
   "outputs": [],
   "source": [
    "def show_heatmap(scores, filter_name):\n",
    "    fig = px.scatter(data_frame=scores[filter_name], x='gap', y='layer', size='score', color='score', size_max=10,\n",
    "                color_continuous_scale=px.colors.sequential.Rainbow, title=f'Predicting {filter_name}')\n",
    "    fig.update_layout(xaxis_dtick=1, yaxis_title=None, xaxis_title='Relative position', autosize=False, height=500, width=250)\n",
    "    return fig"
   ]
  },
  {
   "cell_type": "code",
   "execution_count": 80,
   "id": "62bb4b59-a352-4cb5-9026-aad65eaebe26",
   "metadata": {},
   "outputs": [],
   "source": [
    "scores = {}"
   ]
  },
  {
   "cell_type": "code",
   "execution_count": null,
   "id": "d309fb4d-5e42-41a5-8c4b-0282c59a600a",
   "metadata": {
    "tags": []
   },
   "outputs": [],
   "source": [
    "filter_name = 'top toks'\n",
    "selected_toks = list(zip(*collections.Counter(corpus_toks).most_common(100)))[0]\n",
    "corpus_filter = [i for i, tok in enumerate(corpus_toks) if tok in selected_toks][:1000]\n",
    "scores[filter_name] = probe_identity(corpus_acts, corpus_contexts, corpus_filter, n_layers=None, gaps=range(-5,5))\n",
    "show_heatmap(scores, filter_name)"
   ]
  },
  {
   "cell_type": "code",
   "execution_count": 173,
   "id": "72eb899b-bc39-4117-b1fe-603a5d7807ec",
   "metadata": {},
   "outputs": [
    {
     "name": "stderr",
     "output_type": "stream",
     "text": [
      "/u/nlp/anaconda/main/anaconda3/envs/ria-bert-vis/lib/python3.7/site-packages/sklearn/linear_model/_logistic.py:765: ConvergenceWarning:\n",
      "\n",
      "lbfgs failed to converge (status=1):\n",
      "STOP: TOTAL NO. of ITERATIONS REACHED LIMIT.\n",
      "\n",
      "Increase the number of iterations (max_iter) or scale the data as shown in:\n",
      "    https://scikit-learn.org/stable/modules/preprocessing.html\n",
      "Please also refer to the documentation for alternative solver options:\n",
      "    https://scikit-learn.org/stable/modules/linear_model.html#logistic-regression\n",
      "\n",
      "/u/nlp/anaconda/main/anaconda3/envs/ria-bert-vis/lib/python3.7/site-packages/sklearn/linear_model/_logistic.py:765: ConvergenceWarning:\n",
      "\n",
      "lbfgs failed to converge (status=1):\n",
      "STOP: TOTAL NO. of ITERATIONS REACHED LIMIT.\n",
      "\n",
      "Increase the number of iterations (max_iter) or scale the data as shown in:\n",
      "    https://scikit-learn.org/stable/modules/preprocessing.html\n",
      "Please also refer to the documentation for alternative solver options:\n",
      "    https://scikit-learn.org/stable/modules/linear_model.html#logistic-regression\n",
      "\n",
      "/u/nlp/anaconda/main/anaconda3/envs/ria-bert-vis/lib/python3.7/site-packages/sklearn/linear_model/_logistic.py:765: ConvergenceWarning:\n",
      "\n",
      "lbfgs failed to converge (status=1):\n",
      "STOP: TOTAL NO. of ITERATIONS REACHED LIMIT.\n",
      "\n",
      "Increase the number of iterations (max_iter) or scale the data as shown in:\n",
      "    https://scikit-learn.org/stable/modules/preprocessing.html\n",
      "Please also refer to the documentation for alternative solver options:\n",
      "    https://scikit-learn.org/stable/modules/linear_model.html#logistic-regression\n",
      "\n",
      "/u/nlp/anaconda/main/anaconda3/envs/ria-bert-vis/lib/python3.7/site-packages/sklearn/linear_model/_logistic.py:765: ConvergenceWarning:\n",
      "\n",
      "lbfgs failed to converge (status=1):\n",
      "STOP: TOTAL NO. of ITERATIONS REACHED LIMIT.\n",
      "\n",
      "Increase the number of iterations (max_iter) or scale the data as shown in:\n",
      "    https://scikit-learn.org/stable/modules/preprocessing.html\n",
      "Please also refer to the documentation for alternative solver options:\n",
      "    https://scikit-learn.org/stable/modules/linear_model.html#logistic-regression\n",
      "\n",
      "/u/nlp/anaconda/main/anaconda3/envs/ria-bert-vis/lib/python3.7/site-packages/sklearn/linear_model/_logistic.py:765: ConvergenceWarning:\n",
      "\n",
      "lbfgs failed to converge (status=1):\n",
      "STOP: TOTAL NO. of ITERATIONS REACHED LIMIT.\n",
      "\n",
      "Increase the number of iterations (max_iter) or scale the data as shown in:\n",
      "    https://scikit-learn.org/stable/modules/preprocessing.html\n",
      "Please also refer to the documentation for alternative solver options:\n",
      "    https://scikit-learn.org/stable/modules/linear_model.html#logistic-regression\n",
      "\n",
      "/u/nlp/anaconda/main/anaconda3/envs/ria-bert-vis/lib/python3.7/site-packages/sklearn/linear_model/_logistic.py:765: ConvergenceWarning:\n",
      "\n",
      "lbfgs failed to converge (status=1):\n",
      "STOP: TOTAL NO. of ITERATIONS REACHED LIMIT.\n",
      "\n",
      "Increase the number of iterations (max_iter) or scale the data as shown in:\n",
      "    https://scikit-learn.org/stable/modules/preprocessing.html\n",
      "Please also refer to the documentation for alternative solver options:\n",
      "    https://scikit-learn.org/stable/modules/linear_model.html#logistic-regression\n",
      "\n"
     ]
    },
    {
     "data": {
      "application/vnd.plotly.v1+json": {
       "config": {
        "plotlyServerURL": "https://plot.ly"
       },
       "data": [
        {
         "hovertemplate": "gap=%{x}<br>layer=%{y}<br>score=%{marker.color}<extra></extra>",
         "legendgroup": "",
         "marker": {
          "color": [
           0.189873417721519,
           0.27380952380952384,
           0.281767955801105,
           0.26,
           0.53,
           0.975,
           0.28,
           0.245,
           0.2677595628415301,
           0.2742857142857143,
           0.2911392405063291,
           0.30952380952380953,
           0.34806629834254144,
           0.335,
           0.655,
           0.975,
           0.48,
           0.305,
           0.3333333333333333,
           0.32571428571428573,
           0.310126582278481,
           0.3392857142857143,
           0.36464088397790057,
           0.385,
           0.77,
           0.975,
           0.575,
           0.3,
           0.3224043715846995,
           0.3028571428571429,
           0.2911392405063291,
           0.35119047619047616,
           0.34806629834254144,
           0.37,
           0.87,
           0.975,
           0.545,
           0.285,
           0.30601092896174864,
           0.3142857142857143,
           0.2974683544303797,
           0.35714285714285715,
           0.36464088397790057,
           0.38,
           0.82,
           0.975,
           0.58,
           0.305,
           0.30601092896174864,
           0.32571428571428573,
           0.310126582278481,
           0.36904761904761907,
           0.3756906077348066,
           0.365,
           0.855,
           0.965,
           0.53,
           0.315,
           0.3005464480874317,
           0.3028571428571429,
           0.31645569620253167,
           0.3630952380952381,
           0.3425414364640884,
           0.355,
           0.83,
           0.965,
           0.575,
           0.32,
           0.28415300546448086,
           0.32571428571428573,
           0.3037974683544304,
           0.36904761904761907,
           0.34806629834254144,
           0.37,
           0.86,
           0.965,
           0.54,
           0.33,
           0.30601092896174864,
           0.3314285714285714,
           0.310126582278481,
           0.375,
           0.34806629834254144,
           0.38,
           0.865,
           0.965,
           0.565,
           0.325,
           0.2786885245901639,
           0.34285714285714286,
           0.33544303797468356,
           0.3630952380952381,
           0.3756906077348066,
           0.345,
           0.86,
           0.96,
           0.545,
           0.31,
           0.2786885245901639,
           0.32,
           0.31645569620253167,
           0.3869047619047619,
           0.35911602209944754,
           0.37,
           0.855,
           0.945,
           0.525,
           0.335,
           0.3005464480874317,
           0.30857142857142855,
           0.33544303797468356,
           0.38095238095238093,
           0.3756906077348066,
           0.375,
           0.845,
           0.95,
           0.56,
           0.33,
           0.30601092896174864,
           0.3314285714285714,
           0.3291139240506329,
           0.375,
           0.3812154696132597,
           0.38,
           0.81,
           0.96,
           0.53,
           0.305,
           0.3114754098360656,
           0.3142857142857143
          ],
          "coloraxis": "coloraxis",
          "size": [
           0.189873417721519,
           0.27380952380952384,
           0.281767955801105,
           0.26,
           0.53,
           0.975,
           0.28,
           0.245,
           0.2677595628415301,
           0.2742857142857143,
           0.2911392405063291,
           0.30952380952380953,
           0.34806629834254144,
           0.335,
           0.655,
           0.975,
           0.48,
           0.305,
           0.3333333333333333,
           0.32571428571428573,
           0.310126582278481,
           0.3392857142857143,
           0.36464088397790057,
           0.385,
           0.77,
           0.975,
           0.575,
           0.3,
           0.3224043715846995,
           0.3028571428571429,
           0.2911392405063291,
           0.35119047619047616,
           0.34806629834254144,
           0.37,
           0.87,
           0.975,
           0.545,
           0.285,
           0.30601092896174864,
           0.3142857142857143,
           0.2974683544303797,
           0.35714285714285715,
           0.36464088397790057,
           0.38,
           0.82,
           0.975,
           0.58,
           0.305,
           0.30601092896174864,
           0.32571428571428573,
           0.310126582278481,
           0.36904761904761907,
           0.3756906077348066,
           0.365,
           0.855,
           0.965,
           0.53,
           0.315,
           0.3005464480874317,
           0.3028571428571429,
           0.31645569620253167,
           0.3630952380952381,
           0.3425414364640884,
           0.355,
           0.83,
           0.965,
           0.575,
           0.32,
           0.28415300546448086,
           0.32571428571428573,
           0.3037974683544304,
           0.36904761904761907,
           0.34806629834254144,
           0.37,
           0.86,
           0.965,
           0.54,
           0.33,
           0.30601092896174864,
           0.3314285714285714,
           0.310126582278481,
           0.375,
           0.34806629834254144,
           0.38,
           0.865,
           0.965,
           0.565,
           0.325,
           0.2786885245901639,
           0.34285714285714286,
           0.33544303797468356,
           0.3630952380952381,
           0.3756906077348066,
           0.345,
           0.86,
           0.96,
           0.545,
           0.31,
           0.2786885245901639,
           0.32,
           0.31645569620253167,
           0.3869047619047619,
           0.35911602209944754,
           0.37,
           0.855,
           0.945,
           0.525,
           0.335,
           0.3005464480874317,
           0.30857142857142855,
           0.33544303797468356,
           0.38095238095238093,
           0.3756906077348066,
           0.375,
           0.845,
           0.95,
           0.56,
           0.33,
           0.30601092896174864,
           0.3314285714285714,
           0.3291139240506329,
           0.375,
           0.3812154696132597,
           0.38,
           0.81,
           0.96,
           0.53,
           0.305,
           0.3114754098360656,
           0.3142857142857143
          ],
          "sizemode": "area",
          "sizeref": 0.00975,
          "symbol": "circle"
         },
         "mode": "markers",
         "name": "",
         "orientation": "h",
         "showlegend": false,
         "type": "scatter",
         "x": [
          -5,
          -4,
          -3,
          -2,
          -1,
          0,
          1,
          2,
          3,
          4,
          -5,
          -4,
          -3,
          -2,
          -1,
          0,
          1,
          2,
          3,
          4,
          -5,
          -4,
          -3,
          -2,
          -1,
          0,
          1,
          2,
          3,
          4,
          -5,
          -4,
          -3,
          -2,
          -1,
          0,
          1,
          2,
          3,
          4,
          -5,
          -4,
          -3,
          -2,
          -1,
          0,
          1,
          2,
          3,
          4,
          -5,
          -4,
          -3,
          -2,
          -1,
          0,
          1,
          2,
          3,
          4,
          -5,
          -4,
          -3,
          -2,
          -1,
          0,
          1,
          2,
          3,
          4,
          -5,
          -4,
          -3,
          -2,
          -1,
          0,
          1,
          2,
          3,
          4,
          -5,
          -4,
          -3,
          -2,
          -1,
          0,
          1,
          2,
          3,
          4,
          -5,
          -4,
          -3,
          -2,
          -1,
          0,
          1,
          2,
          3,
          4,
          -5,
          -4,
          -3,
          -2,
          -1,
          0,
          1,
          2,
          3,
          4,
          -5,
          -4,
          -3,
          -2,
          -1,
          0,
          1,
          2,
          3,
          4,
          -5,
          -4,
          -3,
          -2,
          -1,
          0,
          1,
          2,
          3,
          4
         ],
         "xaxis": "x",
         "y": [
          "arr_0",
          "arr_0",
          "arr_0",
          "arr_0",
          "arr_0",
          "arr_0",
          "arr_0",
          "arr_0",
          "arr_0",
          "arr_0",
          "arr_1",
          "arr_1",
          "arr_1",
          "arr_1",
          "arr_1",
          "arr_1",
          "arr_1",
          "arr_1",
          "arr_1",
          "arr_1",
          "arr_2",
          "arr_2",
          "arr_2",
          "arr_2",
          "arr_2",
          "arr_2",
          "arr_2",
          "arr_2",
          "arr_2",
          "arr_2",
          "arr_3",
          "arr_3",
          "arr_3",
          "arr_3",
          "arr_3",
          "arr_3",
          "arr_3",
          "arr_3",
          "arr_3",
          "arr_3",
          "arr_4",
          "arr_4",
          "arr_4",
          "arr_4",
          "arr_4",
          "arr_4",
          "arr_4",
          "arr_4",
          "arr_4",
          "arr_4",
          "arr_5",
          "arr_5",
          "arr_5",
          "arr_5",
          "arr_5",
          "arr_5",
          "arr_5",
          "arr_5",
          "arr_5",
          "arr_5",
          "arr_6",
          "arr_6",
          "arr_6",
          "arr_6",
          "arr_6",
          "arr_6",
          "arr_6",
          "arr_6",
          "arr_6",
          "arr_6",
          "arr_7",
          "arr_7",
          "arr_7",
          "arr_7",
          "arr_7",
          "arr_7",
          "arr_7",
          "arr_7",
          "arr_7",
          "arr_7",
          "arr_8",
          "arr_8",
          "arr_8",
          "arr_8",
          "arr_8",
          "arr_8",
          "arr_8",
          "arr_8",
          "arr_8",
          "arr_8",
          "arr_9",
          "arr_9",
          "arr_9",
          "arr_9",
          "arr_9",
          "arr_9",
          "arr_9",
          "arr_9",
          "arr_9",
          "arr_9",
          "arr_10",
          "arr_10",
          "arr_10",
          "arr_10",
          "arr_10",
          "arr_10",
          "arr_10",
          "arr_10",
          "arr_10",
          "arr_10",
          "arr_11",
          "arr_11",
          "arr_11",
          "arr_11",
          "arr_11",
          "arr_11",
          "arr_11",
          "arr_11",
          "arr_11",
          "arr_11",
          "arr_12",
          "arr_12",
          "arr_12",
          "arr_12",
          "arr_12",
          "arr_12",
          "arr_12",
          "arr_12",
          "arr_12",
          "arr_12"
         ],
         "yaxis": "y"
        }
       ],
       "layout": {
        "autosize": false,
        "coloraxis": {
         "colorbar": {
          "title": {
           "text": "score"
          }
         },
         "colorscale": [
          [
           0,
           "rgb(150,0,90)"
          ],
          [
           0.125,
           "rgb(0,0,200)"
          ],
          [
           0.25,
           "rgb(0,25,255)"
          ],
          [
           0.375,
           "rgb(0,152,255)"
          ],
          [
           0.5,
           "rgb(44,255,150)"
          ],
          [
           0.625,
           "rgb(151,255,0)"
          ],
          [
           0.75,
           "rgb(255,234,0)"
          ],
          [
           0.875,
           "rgb(255,111,0)"
          ],
          [
           1,
           "rgb(255,0,0)"
          ]
         ]
        },
        "height": 500,
        "legend": {
         "itemsizing": "constant",
         "tracegroupgap": 0
        },
        "template": {
         "data": {
          "bar": [
           {
            "error_x": {
             "color": "#2a3f5f"
            },
            "error_y": {
             "color": "#2a3f5f"
            },
            "marker": {
             "line": {
              "color": "#E5ECF6",
              "width": 0.5
             },
             "pattern": {
              "fillmode": "overlay",
              "size": 10,
              "solidity": 0.2
             }
            },
            "type": "bar"
           }
          ],
          "barpolar": [
           {
            "marker": {
             "line": {
              "color": "#E5ECF6",
              "width": 0.5
             },
             "pattern": {
              "fillmode": "overlay",
              "size": 10,
              "solidity": 0.2
             }
            },
            "type": "barpolar"
           }
          ],
          "carpet": [
           {
            "aaxis": {
             "endlinecolor": "#2a3f5f",
             "gridcolor": "white",
             "linecolor": "white",
             "minorgridcolor": "white",
             "startlinecolor": "#2a3f5f"
            },
            "baxis": {
             "endlinecolor": "#2a3f5f",
             "gridcolor": "white",
             "linecolor": "white",
             "minorgridcolor": "white",
             "startlinecolor": "#2a3f5f"
            },
            "type": "carpet"
           }
          ],
          "choropleth": [
           {
            "colorbar": {
             "outlinewidth": 0,
             "ticks": ""
            },
            "type": "choropleth"
           }
          ],
          "contour": [
           {
            "colorbar": {
             "outlinewidth": 0,
             "ticks": ""
            },
            "colorscale": [
             [
              0,
              "#0d0887"
             ],
             [
              0.1111111111111111,
              "#46039f"
             ],
             [
              0.2222222222222222,
              "#7201a8"
             ],
             [
              0.3333333333333333,
              "#9c179e"
             ],
             [
              0.4444444444444444,
              "#bd3786"
             ],
             [
              0.5555555555555556,
              "#d8576b"
             ],
             [
              0.6666666666666666,
              "#ed7953"
             ],
             [
              0.7777777777777778,
              "#fb9f3a"
             ],
             [
              0.8888888888888888,
              "#fdca26"
             ],
             [
              1,
              "#f0f921"
             ]
            ],
            "type": "contour"
           }
          ],
          "contourcarpet": [
           {
            "colorbar": {
             "outlinewidth": 0,
             "ticks": ""
            },
            "type": "contourcarpet"
           }
          ],
          "heatmap": [
           {
            "colorbar": {
             "outlinewidth": 0,
             "ticks": ""
            },
            "colorscale": [
             [
              0,
              "#0d0887"
             ],
             [
              0.1111111111111111,
              "#46039f"
             ],
             [
              0.2222222222222222,
              "#7201a8"
             ],
             [
              0.3333333333333333,
              "#9c179e"
             ],
             [
              0.4444444444444444,
              "#bd3786"
             ],
             [
              0.5555555555555556,
              "#d8576b"
             ],
             [
              0.6666666666666666,
              "#ed7953"
             ],
             [
              0.7777777777777778,
              "#fb9f3a"
             ],
             [
              0.8888888888888888,
              "#fdca26"
             ],
             [
              1,
              "#f0f921"
             ]
            ],
            "type": "heatmap"
           }
          ],
          "heatmapgl": [
           {
            "colorbar": {
             "outlinewidth": 0,
             "ticks": ""
            },
            "colorscale": [
             [
              0,
              "#0d0887"
             ],
             [
              0.1111111111111111,
              "#46039f"
             ],
             [
              0.2222222222222222,
              "#7201a8"
             ],
             [
              0.3333333333333333,
              "#9c179e"
             ],
             [
              0.4444444444444444,
              "#bd3786"
             ],
             [
              0.5555555555555556,
              "#d8576b"
             ],
             [
              0.6666666666666666,
              "#ed7953"
             ],
             [
              0.7777777777777778,
              "#fb9f3a"
             ],
             [
              0.8888888888888888,
              "#fdca26"
             ],
             [
              1,
              "#f0f921"
             ]
            ],
            "type": "heatmapgl"
           }
          ],
          "histogram": [
           {
            "marker": {
             "pattern": {
              "fillmode": "overlay",
              "size": 10,
              "solidity": 0.2
             }
            },
            "type": "histogram"
           }
          ],
          "histogram2d": [
           {
            "colorbar": {
             "outlinewidth": 0,
             "ticks": ""
            },
            "colorscale": [
             [
              0,
              "#0d0887"
             ],
             [
              0.1111111111111111,
              "#46039f"
             ],
             [
              0.2222222222222222,
              "#7201a8"
             ],
             [
              0.3333333333333333,
              "#9c179e"
             ],
             [
              0.4444444444444444,
              "#bd3786"
             ],
             [
              0.5555555555555556,
              "#d8576b"
             ],
             [
              0.6666666666666666,
              "#ed7953"
             ],
             [
              0.7777777777777778,
              "#fb9f3a"
             ],
             [
              0.8888888888888888,
              "#fdca26"
             ],
             [
              1,
              "#f0f921"
             ]
            ],
            "type": "histogram2d"
           }
          ],
          "histogram2dcontour": [
           {
            "colorbar": {
             "outlinewidth": 0,
             "ticks": ""
            },
            "colorscale": [
             [
              0,
              "#0d0887"
             ],
             [
              0.1111111111111111,
              "#46039f"
             ],
             [
              0.2222222222222222,
              "#7201a8"
             ],
             [
              0.3333333333333333,
              "#9c179e"
             ],
             [
              0.4444444444444444,
              "#bd3786"
             ],
             [
              0.5555555555555556,
              "#d8576b"
             ],
             [
              0.6666666666666666,
              "#ed7953"
             ],
             [
              0.7777777777777778,
              "#fb9f3a"
             ],
             [
              0.8888888888888888,
              "#fdca26"
             ],
             [
              1,
              "#f0f921"
             ]
            ],
            "type": "histogram2dcontour"
           }
          ],
          "mesh3d": [
           {
            "colorbar": {
             "outlinewidth": 0,
             "ticks": ""
            },
            "type": "mesh3d"
           }
          ],
          "parcoords": [
           {
            "line": {
             "colorbar": {
              "outlinewidth": 0,
              "ticks": ""
             }
            },
            "type": "parcoords"
           }
          ],
          "pie": [
           {
            "automargin": true,
            "type": "pie"
           }
          ],
          "scatter": [
           {
            "marker": {
             "colorbar": {
              "outlinewidth": 0,
              "ticks": ""
             }
            },
            "type": "scatter"
           }
          ],
          "scatter3d": [
           {
            "line": {
             "colorbar": {
              "outlinewidth": 0,
              "ticks": ""
             }
            },
            "marker": {
             "colorbar": {
              "outlinewidth": 0,
              "ticks": ""
             }
            },
            "type": "scatter3d"
           }
          ],
          "scattercarpet": [
           {
            "marker": {
             "colorbar": {
              "outlinewidth": 0,
              "ticks": ""
             }
            },
            "type": "scattercarpet"
           }
          ],
          "scattergeo": [
           {
            "marker": {
             "colorbar": {
              "outlinewidth": 0,
              "ticks": ""
             }
            },
            "type": "scattergeo"
           }
          ],
          "scattergl": [
           {
            "marker": {
             "colorbar": {
              "outlinewidth": 0,
              "ticks": ""
             }
            },
            "type": "scattergl"
           }
          ],
          "scattermapbox": [
           {
            "marker": {
             "colorbar": {
              "outlinewidth": 0,
              "ticks": ""
             }
            },
            "type": "scattermapbox"
           }
          ],
          "scatterpolar": [
           {
            "marker": {
             "colorbar": {
              "outlinewidth": 0,
              "ticks": ""
             }
            },
            "type": "scatterpolar"
           }
          ],
          "scatterpolargl": [
           {
            "marker": {
             "colorbar": {
              "outlinewidth": 0,
              "ticks": ""
             }
            },
            "type": "scatterpolargl"
           }
          ],
          "scatterternary": [
           {
            "marker": {
             "colorbar": {
              "outlinewidth": 0,
              "ticks": ""
             }
            },
            "type": "scatterternary"
           }
          ],
          "surface": [
           {
            "colorbar": {
             "outlinewidth": 0,
             "ticks": ""
            },
            "colorscale": [
             [
              0,
              "#0d0887"
             ],
             [
              0.1111111111111111,
              "#46039f"
             ],
             [
              0.2222222222222222,
              "#7201a8"
             ],
             [
              0.3333333333333333,
              "#9c179e"
             ],
             [
              0.4444444444444444,
              "#bd3786"
             ],
             [
              0.5555555555555556,
              "#d8576b"
             ],
             [
              0.6666666666666666,
              "#ed7953"
             ],
             [
              0.7777777777777778,
              "#fb9f3a"
             ],
             [
              0.8888888888888888,
              "#fdca26"
             ],
             [
              1,
              "#f0f921"
             ]
            ],
            "type": "surface"
           }
          ],
          "table": [
           {
            "cells": {
             "fill": {
              "color": "#EBF0F8"
             },
             "line": {
              "color": "white"
             }
            },
            "header": {
             "fill": {
              "color": "#C8D4E3"
             },
             "line": {
              "color": "white"
             }
            },
            "type": "table"
           }
          ]
         },
         "layout": {
          "annotationdefaults": {
           "arrowcolor": "#2a3f5f",
           "arrowhead": 0,
           "arrowwidth": 1
          },
          "autotypenumbers": "strict",
          "coloraxis": {
           "colorbar": {
            "outlinewidth": 0,
            "ticks": ""
           }
          },
          "colorscale": {
           "diverging": [
            [
             0,
             "#8e0152"
            ],
            [
             0.1,
             "#c51b7d"
            ],
            [
             0.2,
             "#de77ae"
            ],
            [
             0.3,
             "#f1b6da"
            ],
            [
             0.4,
             "#fde0ef"
            ],
            [
             0.5,
             "#f7f7f7"
            ],
            [
             0.6,
             "#e6f5d0"
            ],
            [
             0.7,
             "#b8e186"
            ],
            [
             0.8,
             "#7fbc41"
            ],
            [
             0.9,
             "#4d9221"
            ],
            [
             1,
             "#276419"
            ]
           ],
           "sequential": [
            [
             0,
             "#0d0887"
            ],
            [
             0.1111111111111111,
             "#46039f"
            ],
            [
             0.2222222222222222,
             "#7201a8"
            ],
            [
             0.3333333333333333,
             "#9c179e"
            ],
            [
             0.4444444444444444,
             "#bd3786"
            ],
            [
             0.5555555555555556,
             "#d8576b"
            ],
            [
             0.6666666666666666,
             "#ed7953"
            ],
            [
             0.7777777777777778,
             "#fb9f3a"
            ],
            [
             0.8888888888888888,
             "#fdca26"
            ],
            [
             1,
             "#f0f921"
            ]
           ],
           "sequentialminus": [
            [
             0,
             "#0d0887"
            ],
            [
             0.1111111111111111,
             "#46039f"
            ],
            [
             0.2222222222222222,
             "#7201a8"
            ],
            [
             0.3333333333333333,
             "#9c179e"
            ],
            [
             0.4444444444444444,
             "#bd3786"
            ],
            [
             0.5555555555555556,
             "#d8576b"
            ],
            [
             0.6666666666666666,
             "#ed7953"
            ],
            [
             0.7777777777777778,
             "#fb9f3a"
            ],
            [
             0.8888888888888888,
             "#fdca26"
            ],
            [
             1,
             "#f0f921"
            ]
           ]
          },
          "colorway": [
           "#636efa",
           "#EF553B",
           "#00cc96",
           "#ab63fa",
           "#FFA15A",
           "#19d3f3",
           "#FF6692",
           "#B6E880",
           "#FF97FF",
           "#FECB52"
          ],
          "font": {
           "color": "#2a3f5f"
          },
          "geo": {
           "bgcolor": "white",
           "lakecolor": "white",
           "landcolor": "#E5ECF6",
           "showlakes": true,
           "showland": true,
           "subunitcolor": "white"
          },
          "hoverlabel": {
           "align": "left"
          },
          "hovermode": "closest",
          "mapbox": {
           "style": "light"
          },
          "paper_bgcolor": "white",
          "plot_bgcolor": "#E5ECF6",
          "polar": {
           "angularaxis": {
            "gridcolor": "white",
            "linecolor": "white",
            "ticks": ""
           },
           "bgcolor": "#E5ECF6",
           "radialaxis": {
            "gridcolor": "white",
            "linecolor": "white",
            "ticks": ""
           }
          },
          "scene": {
           "xaxis": {
            "backgroundcolor": "#E5ECF6",
            "gridcolor": "white",
            "gridwidth": 2,
            "linecolor": "white",
            "showbackground": true,
            "ticks": "",
            "zerolinecolor": "white"
           },
           "yaxis": {
            "backgroundcolor": "#E5ECF6",
            "gridcolor": "white",
            "gridwidth": 2,
            "linecolor": "white",
            "showbackground": true,
            "ticks": "",
            "zerolinecolor": "white"
           },
           "zaxis": {
            "backgroundcolor": "#E5ECF6",
            "gridcolor": "white",
            "gridwidth": 2,
            "linecolor": "white",
            "showbackground": true,
            "ticks": "",
            "zerolinecolor": "white"
           }
          },
          "shapedefaults": {
           "line": {
            "color": "#2a3f5f"
           }
          },
          "ternary": {
           "aaxis": {
            "gridcolor": "white",
            "linecolor": "white",
            "ticks": ""
           },
           "baxis": {
            "gridcolor": "white",
            "linecolor": "white",
            "ticks": ""
           },
           "bgcolor": "#E5ECF6",
           "caxis": {
            "gridcolor": "white",
            "linecolor": "white",
            "ticks": ""
           }
          },
          "title": {
           "x": 0.05
          },
          "xaxis": {
           "automargin": true,
           "gridcolor": "white",
           "linecolor": "white",
           "ticks": "",
           "title": {
            "standoff": 15
           },
           "zerolinecolor": "white",
           "zerolinewidth": 2
          },
          "yaxis": {
           "automargin": true,
           "gridcolor": "white",
           "linecolor": "white",
           "ticks": "",
           "title": {
            "standoff": 15
           },
           "zerolinecolor": "white",
           "zerolinewidth": 2
          }
         }
        },
        "title": {
         "text": "Predicting ## toks"
        },
        "width": 250,
        "xaxis": {
         "anchor": "y",
         "autorange": true,
         "domain": [
          0,
          1
         ],
         "dtick": 1,
         "range": [
          -6.155551642249269,
          5.162032622203691
         ],
         "title": {
          "text": "Relative position"
         },
         "type": "linear"
        },
        "yaxis": {
         "anchor": "x",
         "autorange": true,
         "domain": [
          0,
          1
         ],
         "range": [
          -1.0536958221992123,
          13.051004965073703
         ],
         "title": {},
         "type": "category"
        }
       }
      },
      "image/png": "[encoded data removed]",
      "text/html": [
       "<div>                            <div id=\"0f9f9c27-8748-4f52-b735-f889610f5d6e\" class=\"plotly-graph-div\" style=\"height:500px; width:250px;\"></div>            <script type=\"text/javascript\">                require([\"plotly\"], function(Plotly) {                    window.PLOTLYENV=window.PLOTLYENV || {};                                    if (document.getElementById(\"0f9f9c27-8748-4f52-b735-f889610f5d6e\")) {                    Plotly.newPlot(                        \"0f9f9c27-8748-4f52-b735-f889610f5d6e\",                        [{\"hovertemplate\":\"gap=%{x}<br>layer=%{y}<br>score=%{marker.color}<extra></extra>\",\"legendgroup\":\"\",\"marker\":{\"color\":[0.189873417721519,0.27380952380952384,0.281767955801105,0.26,0.53,0.975,0.28,0.245,0.2677595628415301,0.2742857142857143,0.2911392405063291,0.30952380952380953,0.34806629834254144,0.335,0.655,0.975,0.48,0.305,0.3333333333333333,0.32571428571428573,0.310126582278481,0.3392857142857143,0.36464088397790057,0.385,0.77,0.975,0.575,0.3,0.3224043715846995,0.3028571428571429,0.2911392405063291,0.35119047619047616,0.34806629834254144,0.37,0.87,0.975,0.545,0.285,0.30601092896174864,0.3142857142857143,0.2974683544303797,0.35714285714285715,0.36464088397790057,0.38,0.82,0.975,0.58,0.305,0.30601092896174864,0.32571428571428573,0.310126582278481,0.36904761904761907,0.3756906077348066,0.365,0.855,0.965,0.53,0.315,0.3005464480874317,0.3028571428571429,0.31645569620253167,0.3630952380952381,0.3425414364640884,0.355,0.83,0.965,0.575,0.32,0.28415300546448086,0.32571428571428573,0.3037974683544304,0.36904761904761907,0.34806629834254144,0.37,0.86,0.965,0.54,0.33,0.30601092896174864,0.3314285714285714,0.310126582278481,0.375,0.34806629834254144,0.38,0.865,0.965,0.565,0.325,0.2786885245901639,0.34285714285714286,0.33544303797468356,0.3630952380952381,0.3756906077348066,0.345,0.86,0.96,0.545,0.31,0.2786885245901639,0.32,0.31645569620253167,0.3869047619047619,0.35911602209944754,0.37,0.855,0.945,0.525,0.335,0.3005464480874317,0.30857142857142855,0.33544303797468356,0.38095238095238093,0.3756906077348066,0.375,0.845,0.95,0.56,0.33,0.30601092896174864,0.3314285714285714,0.3291139240506329,0.375,0.3812154696132597,0.38,0.81,0.96,0.53,0.305,0.3114754098360656,0.3142857142857143],\"coloraxis\":\"coloraxis\",\"size\":[0.189873417721519,0.27380952380952384,0.281767955801105,0.26,0.53,0.975,0.28,0.245,0.2677595628415301,0.2742857142857143,0.2911392405063291,0.30952380952380953,0.34806629834254144,0.335,0.655,0.975,0.48,0.305,0.3333333333333333,0.32571428571428573,0.310126582278481,0.3392857142857143,0.36464088397790057,0.385,0.77,0.975,0.575,0.3,0.3224043715846995,0.3028571428571429,0.2911392405063291,0.35119047619047616,0.34806629834254144,0.37,0.87,0.975,0.545,0.285,0.30601092896174864,0.3142857142857143,0.2974683544303797,0.35714285714285715,0.36464088397790057,0.38,0.82,0.975,0.58,0.305,0.30601092896174864,0.32571428571428573,0.310126582278481,0.36904761904761907,0.3756906077348066,0.365,0.855,0.965,0.53,0.315,0.3005464480874317,0.3028571428571429,0.31645569620253167,0.3630952380952381,0.3425414364640884,0.355,0.83,0.965,0.575,0.32,0.28415300546448086,0.32571428571428573,0.3037974683544304,0.36904761904761907,0.34806629834254144,0.37,0.86,0.965,0.54,0.33,0.30601092896174864,0.3314285714285714,0.310126582278481,0.375,0.34806629834254144,0.38,0.865,0.965,0.565,0.325,0.2786885245901639,0.34285714285714286,0.33544303797468356,0.3630952380952381,0.3756906077348066,0.345,0.86,0.96,0.545,0.31,0.2786885245901639,0.32,0.31645569620253167,0.3869047619047619,0.35911602209944754,0.37,0.855,0.945,0.525,0.335,0.3005464480874317,0.30857142857142855,0.33544303797468356,0.38095238095238093,0.3756906077348066,0.375,0.845,0.95,0.56,0.33,0.30601092896174864,0.3314285714285714,0.3291139240506329,0.375,0.3812154696132597,0.38,0.81,0.96,0.53,0.305,0.3114754098360656,0.3142857142857143],\"sizemode\":\"area\",\"sizeref\":0.00975,\"symbol\":\"circle\"},\"mode\":\"markers\",\"name\":\"\",\"orientation\":\"h\",\"showlegend\":false,\"type\":\"scatter\",\"x\":[-5,-4,-3,-2,-1,0,1,2,3,4,-5,-4,-3,-2,-1,0,1,2,3,4,-5,-4,-3,-2,-1,0,1,2,3,4,-5,-4,-3,-2,-1,0,1,2,3,4,-5,-4,-3,-2,-1,0,1,2,3,4,-5,-4,-3,-2,-1,0,1,2,3,4,-5,-4,-3,-2,-1,0,1,2,3,4,-5,-4,-3,-2,-1,0,1,2,3,4,-5,-4,-3,-2,-1,0,1,2,3,4,-5,-4,-3,-2,-1,0,1,2,3,4,-5,-4,-3,-2,-1,0,1,2,3,4,-5,-4,-3,-2,-1,0,1,2,3,4,-5,-4,-3,-2,-1,0,1,2,3,4],\"xaxis\":\"x\",\"y\":[\"arr_0\",\"arr_0\",\"arr_0\",\"arr_0\",\"arr_0\",\"arr_0\",\"arr_0\",\"arr_0\",\"arr_0\",\"arr_0\",\"arr_1\",\"arr_1\",\"arr_1\",\"arr_1\",\"arr_1\",\"arr_1\",\"arr_1\",\"arr_1\",\"arr_1\",\"arr_1\",\"arr_2\",\"arr_2\",\"arr_2\",\"arr_2\",\"arr_2\",\"arr_2\",\"arr_2\",\"arr_2\",\"arr_2\",\"arr_2\",\"arr_3\",\"arr_3\",\"arr_3\",\"arr_3\",\"arr_3\",\"arr_3\",\"arr_3\",\"arr_3\",\"arr_3\",\"arr_3\",\"arr_4\",\"arr_4\",\"arr_4\",\"arr_4\",\"arr_4\",\"arr_4\",\"arr_4\",\"arr_4\",\"arr_4\",\"arr_4\",\"arr_5\",\"arr_5\",\"arr_5\",\"arr_5\",\"arr_5\",\"arr_5\",\"arr_5\",\"arr_5\",\"arr_5\",\"arr_5\",\"arr_6\",\"arr_6\",\"arr_6\",\"arr_6\",\"arr_6\",\"arr_6\",\"arr_6\",\"arr_6\",\"arr_6\",\"arr_6\",\"arr_7\",\"arr_7\",\"arr_7\",\"arr_7\",\"arr_7\",\"arr_7\",\"arr_7\",\"arr_7\",\"arr_7\",\"arr_7\",\"arr_8\",\"arr_8\",\"arr_8\",\"arr_8\",\"arr_8\",\"arr_8\",\"arr_8\",\"arr_8\",\"arr_8\",\"arr_8\",\"arr_9\",\"arr_9\",\"arr_9\",\"arr_9\",\"arr_9\",\"arr_9\",\"arr_9\",\"arr_9\",\"arr_9\",\"arr_9\",\"arr_10\",\"arr_10\",\"arr_10\",\"arr_10\",\"arr_10\",\"arr_10\",\"arr_10\",\"arr_10\",\"arr_10\",\"arr_10\",\"arr_11\",\"arr_11\",\"arr_11\",\"arr_11\",\"arr_11\",\"arr_11\",\"arr_11\",\"arr_11\",\"arr_11\",\"arr_11\",\"arr_12\",\"arr_12\",\"arr_12\",\"arr_12\",\"arr_12\",\"arr_12\",\"arr_12\",\"arr_12\",\"arr_12\",\"arr_12\"],\"yaxis\":\"y\"}],                        {\"autosize\":false,\"coloraxis\":{\"colorbar\":{\"title\":{\"text\":\"score\"}},\"colorscale\":[[0.0,\"rgb(150,0,90)\"],[0.125,\"rgb(0,0,200)\"],[0.25,\"rgb(0,25,255)\"],[0.375,\"rgb(0,152,255)\"],[0.5,\"rgb(44,255,150)\"],[0.625,\"rgb(151,255,0)\"],[0.75,\"rgb(255,234,0)\"],[0.875,\"rgb(255,111,0)\"],[1.0,\"rgb(255,0,0)\"]]},\"height\":500,\"legend\":{\"itemsizing\":\"constant\",\"tracegroupgap\":0},\"template\":{\"data\":{\"bar\":[{\"error_x\":{\"color\":\"#2a3f5f\"},\"error_y\":{\"color\":\"#2a3f5f\"},\"marker\":{\"line\":{\"color\":\"#E5ECF6\",\"width\":0.5},\"pattern\":{\"fillmode\":\"overlay\",\"size\":10,\"solidity\":0.2}},\"type\":\"bar\"}],\"barpolar\":[{\"marker\":{\"line\":{\"color\":\"#E5ECF6\",\"width\":0.5},\"pattern\":{\"fillmode\":\"overlay\",\"size\":10,\"solidity\":0.2}},\"type\":\"barpolar\"}],\"carpet\":[{\"aaxis\":{\"endlinecolor\":\"#2a3f5f\",\"gridcolor\":\"white\",\"linecolor\":\"white\",\"minorgridcolor\":\"white\",\"startlinecolor\":\"#2a3f5f\"},\"baxis\":{\"endlinecolor\":\"#2a3f5f\",\"gridcolor\":\"white\",\"linecolor\":\"white\",\"minorgridcolor\":\"white\",\"startlinecolor\":\"#2a3f5f\"},\"type\":\"carpet\"}],\"choropleth\":[{\"colorbar\":{\"outlinewidth\":0,\"ticks\":\"\"},\"type\":\"choropleth\"}],\"contour\":[{\"colorbar\":{\"outlinewidth\":0,\"ticks\":\"\"},\"colorscale\":[[0.0,\"#0d0887\"],[0.1111111111111111,\"#46039f\"],[0.2222222222222222,\"#7201a8\"],[0.3333333333333333,\"#9c179e\"],[0.4444444444444444,\"#bd3786\"],[0.5555555555555556,\"#d8576b\"],[0.6666666666666666,\"#ed7953\"],[0.7777777777777778,\"#fb9f3a\"],[0.8888888888888888,\"#fdca26\"],[1.0,\"#f0f921\"]],\"type\":\"contour\"}],\"contourcarpet\":[{\"colorbar\":{\"outlinewidth\":0,\"ticks\":\"\"},\"type\":\"contourcarpet\"}],\"heatmap\":[{\"colorbar\":{\"outlinewidth\":0,\"ticks\":\"\"},\"colorscale\":[[0.0,\"#0d0887\"],[0.1111111111111111,\"#46039f\"],[0.2222222222222222,\"#7201a8\"],[0.3333333333333333,\"#9c179e\"],[0.4444444444444444,\"#bd3786\"],[0.5555555555555556,\"#d8576b\"],[0.6666666666666666,\"#ed7953\"],[0.7777777777777778,\"#fb9f3a\"],[0.8888888888888888,\"#fdca26\"],[1.0,\"#f0f921\"]],\"type\":\"heatmap\"}],\"heatmapgl\":[{\"colorbar\":{\"outlinewidth\":0,\"ticks\":\"\"},\"colorscale\":[[0.0,\"#0d0887\"],[0.1111111111111111,\"#46039f\"],[0.2222222222222222,\"#7201a8\"],[0.3333333333333333,\"#9c179e\"],[0.4444444444444444,\"#bd3786\"],[0.5555555555555556,\"#d8576b\"],[0.6666666666666666,\"#ed7953\"],[0.7777777777777778,\"#fb9f3a\"],[0.8888888888888888,\"#fdca26\"],[1.0,\"#f0f921\"]],\"type\":\"heatmapgl\"}],\"histogram\":[{\"marker\":{\"pattern\":{\"fillmode\":\"overlay\",\"size\":10,\"solidity\":0.2}},\"type\":\"histogram\"}],\"histogram2d\":[{\"colorbar\":{\"outlinewidth\":0,\"ticks\":\"\"},\"colorscale\":[[0.0,\"#0d0887\"],[0.1111111111111111,\"#46039f\"],[0.2222222222222222,\"#7201a8\"],[0.3333333333333333,\"#9c179e\"],[0.4444444444444444,\"#bd3786\"],[0.5555555555555556,\"#d8576b\"],[0.6666666666666666,\"#ed7953\"],[0.7777777777777778,\"#fb9f3a\"],[0.8888888888888888,\"#fdca26\"],[1.0,\"#f0f921\"]],\"type\":\"histogram2d\"}],\"histogram2dcontour\":[{\"colorbar\":{\"outlinewidth\":0,\"ticks\":\"\"},\"colorscale\":[[0.0,\"#0d0887\"],[0.1111111111111111,\"#46039f\"],[0.2222222222222222,\"#7201a8\"],[0.3333333333333333,\"#9c179e\"],[0.4444444444444444,\"#bd3786\"],[0.5555555555555556,\"#d8576b\"],[0.6666666666666666,\"#ed7953\"],[0.7777777777777778,\"#fb9f3a\"],[0.8888888888888888,\"#fdca26\"],[1.0,\"#f0f921\"]],\"type\":\"histogram2dcontour\"}],\"mesh3d\":[{\"colorbar\":{\"outlinewidth\":0,\"ticks\":\"\"},\"type\":\"mesh3d\"}],\"parcoords\":[{\"line\":{\"colorbar\":{\"outlinewidth\":0,\"ticks\":\"\"}},\"type\":\"parcoords\"}],\"pie\":[{\"automargin\":true,\"type\":\"pie\"}],\"scatter\":[{\"marker\":{\"colorbar\":{\"outlinewidth\":0,\"ticks\":\"\"}},\"type\":\"scatter\"}],\"scatter3d\":[{\"line\":{\"colorbar\":{\"outlinewidth\":0,\"ticks\":\"\"}},\"marker\":{\"colorbar\":{\"outlinewidth\":0,\"ticks\":\"\"}},\"type\":\"scatter3d\"}],\"scattercarpet\":[{\"marker\":{\"colorbar\":{\"outlinewidth\":0,\"ticks\":\"\"}},\"type\":\"scattercarpet\"}],\"scattergeo\":[{\"marker\":{\"colorbar\":{\"outlinewidth\":0,\"ticks\":\"\"}},\"type\":\"scattergeo\"}],\"scattergl\":[{\"marker\":{\"colorbar\":{\"outlinewidth\":0,\"ticks\":\"\"}},\"type\":\"scattergl\"}],\"scattermapbox\":[{\"marker\":{\"colorbar\":{\"outlinewidth\":0,\"ticks\":\"\"}},\"type\":\"scattermapbox\"}],\"scatterpolar\":[{\"marker\":{\"colorbar\":{\"outlinewidth\":0,\"ticks\":\"\"}},\"type\":\"scatterpolar\"}],\"scatterpolargl\":[{\"marker\":{\"colorbar\":{\"outlinewidth\":0,\"ticks\":\"\"}},\"type\":\"scatterpolargl\"}],\"scatterternary\":[{\"marker\":{\"colorbar\":{\"outlinewidth\":0,\"ticks\":\"\"}},\"type\":\"scatterternary\"}],\"surface\":[{\"colorbar\":{\"outlinewidth\":0,\"ticks\":\"\"},\"colorscale\":[[0.0,\"#0d0887\"],[0.1111111111111111,\"#46039f\"],[0.2222222222222222,\"#7201a8\"],[0.3333333333333333,\"#9c179e\"],[0.4444444444444444,\"#bd3786\"],[0.5555555555555556,\"#d8576b\"],[0.6666666666666666,\"#ed7953\"],[0.7777777777777778,\"#fb9f3a\"],[0.8888888888888888,\"#fdca26\"],[1.0,\"#f0f921\"]],\"type\":\"surface\"}],\"table\":[{\"cells\":{\"fill\":{\"color\":\"#EBF0F8\"},\"line\":{\"color\":\"white\"}},\"header\":{\"fill\":{\"color\":\"#C8D4E3\"},\"line\":{\"color\":\"white\"}},\"type\":\"table\"}]},\"layout\":{\"annotationdefaults\":{\"arrowcolor\":\"#2a3f5f\",\"arrowhead\":0,\"arrowwidth\":1},\"autotypenumbers\":\"strict\",\"coloraxis\":{\"colorbar\":{\"outlinewidth\":0,\"ticks\":\"\"}},\"colorscale\":{\"diverging\":[[0,\"#8e0152\"],[0.1,\"#c51b7d\"],[0.2,\"#de77ae\"],[0.3,\"#f1b6da\"],[0.4,\"#fde0ef\"],[0.5,\"#f7f7f7\"],[0.6,\"#e6f5d0\"],[0.7,\"#b8e186\"],[0.8,\"#7fbc41\"],[0.9,\"#4d9221\"],[1,\"#276419\"]],\"sequential\":[[0.0,\"#0d0887\"],[0.1111111111111111,\"#46039f\"],[0.2222222222222222,\"#7201a8\"],[0.3333333333333333,\"#9c179e\"],[0.4444444444444444,\"#bd3786\"],[0.5555555555555556,\"#d8576b\"],[0.6666666666666666,\"#ed7953\"],[0.7777777777777778,\"#fb9f3a\"],[0.8888888888888888,\"#fdca26\"],[1.0,\"#f0f921\"]],\"sequentialminus\":[[0.0,\"#0d0887\"],[0.1111111111111111,\"#46039f\"],[0.2222222222222222,\"#7201a8\"],[0.3333333333333333,\"#9c179e\"],[0.4444444444444444,\"#bd3786\"],[0.5555555555555556,\"#d8576b\"],[0.6666666666666666,\"#ed7953\"],[0.7777777777777778,\"#fb9f3a\"],[0.8888888888888888,\"#fdca26\"],[1.0,\"#f0f921\"]]},\"colorway\":[\"#636efa\",\"#EF553B\",\"#00cc96\",\"#ab63fa\",\"#FFA15A\",\"#19d3f3\",\"#FF6692\",\"#B6E880\",\"#FF97FF\",\"#FECB52\"],\"font\":{\"color\":\"#2a3f5f\"},\"geo\":{\"bgcolor\":\"white\",\"lakecolor\":\"white\",\"landcolor\":\"#E5ECF6\",\"showlakes\":true,\"showland\":true,\"subunitcolor\":\"white\"},\"hoverlabel\":{\"align\":\"left\"},\"hovermode\":\"closest\",\"mapbox\":{\"style\":\"light\"},\"paper_bgcolor\":\"white\",\"plot_bgcolor\":\"#E5ECF6\",\"polar\":{\"angularaxis\":{\"gridcolor\":\"white\",\"linecolor\":\"white\",\"ticks\":\"\"},\"bgcolor\":\"#E5ECF6\",\"radialaxis\":{\"gridcolor\":\"white\",\"linecolor\":\"white\",\"ticks\":\"\"}},\"scene\":{\"xaxis\":{\"backgroundcolor\":\"#E5ECF6\",\"gridcolor\":\"white\",\"gridwidth\":2,\"linecolor\":\"white\",\"showbackground\":true,\"ticks\":\"\",\"zerolinecolor\":\"white\"},\"yaxis\":{\"backgroundcolor\":\"#E5ECF6\",\"gridcolor\":\"white\",\"gridwidth\":2,\"linecolor\":\"white\",\"showbackground\":true,\"ticks\":\"\",\"zerolinecolor\":\"white\"},\"zaxis\":{\"backgroundcolor\":\"#E5ECF6\",\"gridcolor\":\"white\",\"gridwidth\":2,\"linecolor\":\"white\",\"showbackground\":true,\"ticks\":\"\",\"zerolinecolor\":\"white\"}},\"shapedefaults\":{\"line\":{\"color\":\"#2a3f5f\"}},\"ternary\":{\"aaxis\":{\"gridcolor\":\"white\",\"linecolor\":\"white\",\"ticks\":\"\"},\"baxis\":{\"gridcolor\":\"white\",\"linecolor\":\"white\",\"ticks\":\"\"},\"bgcolor\":\"#E5ECF6\",\"caxis\":{\"gridcolor\":\"white\",\"linecolor\":\"white\",\"ticks\":\"\"}},\"title\":{\"x\":0.05},\"xaxis\":{\"automargin\":true,\"gridcolor\":\"white\",\"linecolor\":\"white\",\"ticks\":\"\",\"title\":{\"standoff\":15},\"zerolinecolor\":\"white\",\"zerolinewidth\":2},\"yaxis\":{\"automargin\":true,\"gridcolor\":\"white\",\"linecolor\":\"white\",\"ticks\":\"\",\"title\":{\"standoff\":15},\"zerolinecolor\":\"white\",\"zerolinewidth\":2}}},\"title\":{\"text\":\"Predicting ## toks\"},\"width\":250,\"xaxis\":{\"anchor\":\"y\",\"domain\":[0.0,1.0],\"dtick\":1,\"title\":{\"text\":\"Relative position\"}},\"yaxis\":{\"anchor\":\"x\",\"domain\":[0.0,1.0],\"title\":{}}},                        {\"responsive\": true}                    ).then(function(){\n",
       "                            \n",
       "var gd = document.getElementById('0f9f9c27-8748-4f52-b735-f889610f5d6e');\n",
       "var x = new MutationObserver(function (mutations, observer) {{\n",
       "        var display = window.getComputedStyle(gd).display;\n",
       "        if (!display || display === 'none') {{\n",
       "            console.log([gd, 'removed!']);\n",
       "            Plotly.purge(gd);\n",
       "            observer.disconnect();\n",
       "        }}\n",
       "}});\n",
       "\n",
       "// Listen for the removal of the full notebook cells\n",
       "var notebookContainer = gd.closest('#notebook-container');\n",
       "if (notebookContainer) {{\n",
       "    x.observe(notebookContainer, {childList: true});\n",
       "}}\n",
       "\n",
       "// Listen for the clearing of the current output cell\n",
       "var outputEl = gd.closest('.output');\n",
       "if (outputEl) {{\n",
       "    x.observe(outputEl, {childList: true});\n",
       "}}\n",
       "\n",
       "                        })                };                });            </script>        </div>"
      ]
     },
     "metadata": {},
     "output_type": "display_data"
    }
   ],
   "source": [
    "filter_name = '## toks'\n",
    "selected_toks = [tok for tok in vocab if tok.startswith('##')][:100]\n",
    "corpus_filter = [i for i, tok in enumerate(corpus_toks) if tok in selected_toks][:1000]\n",
    "scores[filter_name] = probe_identity(corpus_acts, corpus_contexts, corpus_filter, n_layers=None, gaps=list(range(-5,5)))\n",
    "show_heatmap(scores, filter_name)"
   ]
  },
  {
   "cell_type": "code",
   "execution_count": 174,
   "id": "b9afaf65-5f95-4ca1-8610-ce597168e08e",
   "metadata": {},
   "outputs": [
    {
     "ename": "NameError",
     "evalue": "name 'random' is not defined",
     "output_type": "error",
     "traceback": [
      "\u001b[0;31m---------------------------------------------------------------------------\u001b[0m",
      "\u001b[0;31mNameError\u001b[0m                                 Traceback (most recent call last)",
      "\u001b[0;32m<ipython-input-174-c1587a5acb0a>\u001b[0m in \u001b[0;36m<module>\u001b[0;34m\u001b[0m\n\u001b[1;32m      1\u001b[0m \u001b[0mfilter_name\u001b[0m \u001b[0;34m=\u001b[0m \u001b[0;34m'random toks'\u001b[0m\u001b[0;34m\u001b[0m\u001b[0;34m\u001b[0m\u001b[0m\n\u001b[0;32m----> 2\u001b[0;31m \u001b[0mselected_toks\u001b[0m \u001b[0;34m=\u001b[0m \u001b[0mrandom\u001b[0m\u001b[0;34m.\u001b[0m\u001b[0msample\u001b[0m\u001b[0;34m(\u001b[0m\u001b[0mvocab\u001b[0m\u001b[0;34m,\u001b[0m \u001b[0;36m100\u001b[0m\u001b[0;34m)\u001b[0m\u001b[0;34m\u001b[0m\u001b[0;34m\u001b[0m\u001b[0m\n\u001b[0m\u001b[1;32m      3\u001b[0m \u001b[0mcorpus_filter\u001b[0m \u001b[0;34m=\u001b[0m \u001b[0;34m[\u001b[0m\u001b[0mi\u001b[0m \u001b[0;32mfor\u001b[0m \u001b[0mi\u001b[0m\u001b[0;34m,\u001b[0m \u001b[0mtok\u001b[0m \u001b[0;32min\u001b[0m \u001b[0menumerate\u001b[0m\u001b[0;34m(\u001b[0m\u001b[0mcorpus_toks\u001b[0m\u001b[0;34m)\u001b[0m \u001b[0;32mif\u001b[0m \u001b[0mtok\u001b[0m \u001b[0;32min\u001b[0m \u001b[0mselected_toks\u001b[0m\u001b[0;34m]\u001b[0m\u001b[0;34m[\u001b[0m\u001b[0;34m:\u001b[0m\u001b[0;36m1000\u001b[0m\u001b[0;34m]\u001b[0m\u001b[0;34m\u001b[0m\u001b[0;34m\u001b[0m\u001b[0m\n\u001b[1;32m      4\u001b[0m \u001b[0mscores\u001b[0m\u001b[0;34m[\u001b[0m\u001b[0mfilter_name\u001b[0m\u001b[0;34m]\u001b[0m \u001b[0;34m=\u001b[0m \u001b[0mprobe_identity\u001b[0m\u001b[0;34m(\u001b[0m\u001b[0mcorpus_acts\u001b[0m\u001b[0;34m,\u001b[0m \u001b[0mcorpus_contexts\u001b[0m\u001b[0;34m,\u001b[0m \u001b[0mcorpus_filter\u001b[0m\u001b[0;34m,\u001b[0m \u001b[0mn_layers\u001b[0m\u001b[0;34m=\u001b[0m\u001b[0;32mNone\u001b[0m\u001b[0;34m,\u001b[0m \u001b[0mgaps\u001b[0m\u001b[0;34m=\u001b[0m\u001b[0mrange\u001b[0m\u001b[0;34m(\u001b[0m\u001b[0;34m-\u001b[0m\u001b[0;36m5\u001b[0m\u001b[0;34m,\u001b[0m\u001b[0;36m5\u001b[0m\u001b[0;34m)\u001b[0m\u001b[0;34m)\u001b[0m\u001b[0;34m\u001b[0m\u001b[0;34m\u001b[0m\u001b[0m\n\u001b[1;32m      5\u001b[0m \u001b[0mshow_heatmap\u001b[0m\u001b[0;34m(\u001b[0m\u001b[0mscores\u001b[0m\u001b[0;34m,\u001b[0m \u001b[0mfilter_name\u001b[0m\u001b[0;34m)\u001b[0m\u001b[0;34m\u001b[0m\u001b[0;34m\u001b[0m\u001b[0m\n",
      "\u001b[0;31mNameError\u001b[0m: name 'random' is not defined"
     ]
    }
   ],
   "source": [
    "filter_name = 'random toks'\n",
    "selected_toks = random.sample(vocab, 100)\n",
    "corpus_filter = [i for i, tok in enumerate(corpus_toks) if tok in selected_toks][:1000]\n",
    "scores[filter_name] = probe_identity(corpus_acts, corpus_contexts, corpus_filter, n_layers=None, gaps=range(-5,5))\n",
    "show_heatmap(scores, filter_name)"
   ]
  },
  {
   "cell_type": "code",
   "execution_count": null,
   "id": "ae86866c-e58a-4b8d-b0e4-707a0d661eee",
   "metadata": {},
   "outputs": [],
   "source": [
    "filter_name = '\\\"car\\\"'\n",
    "selected_toks = ['car']\n",
    "corpus_filter = [i for i, tok in enumerate(corpus_toks) if tok in selected_toks][:1000]\n",
    "scores[filter_name] = probe_identity(corpus_acts, corpus_contexts, corpus_filter, n_layers=None, gaps=range(-5,5))\n",
    "show_heatmap(scores, filter_name)"
   ]
  },
  {
   "cell_type": "code",
   "execution_count": null,
   "id": "42bd3fb0-8160-4ec8-b5eb-a95b37fd9a27",
   "metadata": {},
   "outputs": [],
   "source": [
    "def POS_tag(doc, pos): return nltk.pos_tag(toks)[position][1]"
   ]
  },
  {
   "cell_type": "code",
   "execution_count": null,
   "id": "cc588ed9-6c9b-45f3-b5bb-93473d29ade7",
   "metadata": {},
   "outputs": [],
   "source": [
    "filter_name = 'verbs'\n",
    "corpus_filter = [i for i, context in enumerate(corpus_contexts) if POS_tag(*context)=='VB'][:1000]\n",
    "scores[filter_name] = probe_identity(corpus_acts, corpus_contexts, corpus_filter, n_layers=None, gaps=range(-5,5))\n",
    "show_heatmap(scores, filter_name)"
   ]
  },
  {
   "cell_type": "code",
   "execution_count": null,
   "id": "814a5478-b881-490f-833c-7dabe272af0d",
   "metadata": {},
   "outputs": [],
   "source": [
    "filter_name = 'nouns'\n",
    "corpus_filter = [i for i, context in enumerate(corpus_contexts) if POS_tag(*context)=='NN'][:1000]\n",
    "scores[filter_name] = probe_identity(corpus_acts, corpus_contexts, corpus_filter, n_layers=None, gaps=range(-5,5))\n",
    "show_heatmap(scores, filter_name)"
   ]
  },
  {
   "cell_type": "code",
   "execution_count": null,
   "id": "9feb94d3-85f9-422c-9814-7bd4a92cd702",
   "metadata": {},
   "outputs": [],
   "source": [
    "filter_name = 'adjectives'\n",
    "corpus_filter = [i for i, context in enumerate(corpus_contexts) if POS_tag(*context)=='JJ'][:1000]\n",
    "scores[filter_name] = probe_identity(corpus_acts, corpus_contexts, corpus_filter, n_layers=None, gaps=range(-5,5))\n",
    "show_heatmap(scores, filter_name)\n"
   ]
  },
  {
   "cell_type": "code",
   "execution_count": null,
   "id": "40999775-a716-431a-9924-05daaa0c5d08",
   "metadata": {},
   "outputs": [],
   "source": []
  }
 ],
 "metadata": {
  "kernelspec": {
   "display_name": "Python 3",
   "language": "python",
   "name": "python3"
  },
  "language_info": {
   "codemirror_mode": {
    "name": "ipython",
    "version": 3
   },
   "file_extension": ".py",
   "mimetype": "text/x-python",
   "name": "python",
   "nbconvert_exporter": "python",
   "pygments_lexer": "ipython3",
   "version": "3.7.11"
  }
 },
 "nbformat": 4,
 "nbformat_minor": 5
}
