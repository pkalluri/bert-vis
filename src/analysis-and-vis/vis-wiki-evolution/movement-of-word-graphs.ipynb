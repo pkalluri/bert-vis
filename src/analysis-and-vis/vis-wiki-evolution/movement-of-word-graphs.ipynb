{
 "cells": [
  {
   "cell_type": "markdown",
   "metadata": {},
   "source": [
    "# Studying the evolution of tokens\n",
    "How do tokens evolve? Are they originally understood in a shallow way and then understood in richer ways?\n",
    "Rich in what sense? More similar surrounding words?"
   ]
  },
  {
   "cell_type": "code",
   "execution_count": null,
   "metadata": {},
   "outputs": [],
   "source": [
    "%load_ext autoreload\n",
    "%autoreload 2"
   ]
  },
  {
   "cell_type": "code",
   "execution_count": null,
   "metadata": {},
   "outputs": [],
   "source": [
    "view_vis_as_html = False"
   ]
  },
  {
   "cell_type": "code",
   "execution_count": null,
   "metadata": {},
   "outputs": [],
   "source": [
    "# Imports\n",
    "# # LOAD\n",
    "import pickle\n",
    "import numpy as np\n",
    "import os\n",
    "import sys\n",
    "sys.path.insert(0, os.path.abspath('../../..'))\n",
    "from src import references as refs\n",
    "# # PROCESS\n",
    "import nltk\n",
    "import pandas as pd\n",
    "from sklearn.cluster import KMeans\n",
    "from src.utils import context_util, acts_util\n",
    "# # VIS\n",
    "from IPython.core.display import display, HTML\n",
    "from bokeh.plotting import figure, show, output_file\n",
    "from bokeh.layouts import gridplot\n",
    "from bokeh.palettes import Inferno, Category10, Category20, Category20b, Category20c, Pastel1, Pastel2, Bokeh, Plasma, Colorblind\n",
    "from bokeh.models import Label, LabelSet, Div, ColumnDataSource, Legend, LegendItem, Range1d\n",
    "from bokeh.models import HoverTool, CustomJS, PanTool, BoxZoomTool, WheelZoomTool, ResetTool, TapTool, OpenURL\n",
    "from bokeh.models.glyphs import Circle\n",
    "from bokeh.io import output_notebook\n",
    "output_notebook()\n",
    "if view_vis_as_html:\n",
    "    output_file('visualize-wiki.html')\n",
    "from src.utils import vis_util, html_util"
   ]
  },
  {
   "cell_type": "markdown",
   "metadata": {},
   "source": [
    "# Loading contexts"
   ]
  },
  {
   "cell_type": "code",
   "execution_count": null,
   "metadata": {},
   "outputs": [],
   "source": [
    "# Load all contexts and acts\n",
    "data_dir = '../../../bucket/wiki-large/wiki-split/'\n",
    "data_dir = os.path.abspath(data_dir)\n",
    "layers = [f'arr_{i}' for i in range(13)] # which layers to visualize\n",
    "# layers = ['arr_0','arr_3','arr_6', 'arr_9', 'arr_12']  \n",
    "# layers = ['arr_0']  # good for debugging\n",
    "contexts = pickle.load(open(os.path.join(data_dir, refs.contexts_fn), 'rb'))\n",
    "acts = np.load(os.path.join(data_dir, refs.acts_fn))"
   ]
  },
  {
   "cell_type": "code",
   "execution_count": null,
   "metadata": {},
   "outputs": [],
   "source": [
    "# Choose contexts and acts\n",
    "token = 'woman'\n",
    "chosen_idxs, chosen_contexts = zip(*[(i, (doc, pos)) for (i, (doc, pos)) in enumerate(contexts) if doc[pos]==token])\n",
    "n_chosen = len(chosen_contexts)\n",
    "print(n_chosen, 'contexts:')\n",
    "for i, context in enumerate(chosen_contexts):\n",
    "    display(HTML(f'({i}) {context_util.context_html(*context)}'))"
   ]
  },
  {
   "cell_type": "code",
   "execution_count": null,
   "metadata": {},
   "outputs": [],
   "source": [
    "chosen_acts = {layer: acts[layer][list(chosen_idxs)] for layer in layers}"
   ]
  },
  {
   "cell_type": "markdown",
   "metadata": {},
   "source": [
    "# Show clustered contexts as text"
   ]
  },
  {
   "cell_type": "code",
   "execution_count": null,
   "metadata": {},
   "outputs": [],
   "source": [
    "# Get contentful reduction\n",
    "n_clusters = 5\n",
    "palette = Category10[10]\n",
    "css='font-size:10px; line-height: 12px; display: block; text-align: left;'\n",
    "sort = True\n",
    "\n",
    "clusters = {layer: KMeans(n_clusters=n_clusters).fit(chosen_acts[layer]).labels_ for layer in layers}\n",
    "for layer in layers:\n",
    "    display(HTML(html_util.highlight(layer)))\n",
    "    contexts_and_clusters = list(zip(chosen_contexts, clusters[layer]))\n",
    "    if sort:\n",
    "        for cluster_idx in range(n_clusters):\n",
    "            html = ''\n",
    "            cluster_contexts = [context for context, cluster in contexts_and_clusters if cluster==cluster_idx]\n",
    "            for context in cluster_contexts:\n",
    "                color = palette[cluster_idx] # f'{cluster_idx}' + \n",
    "                html += html_util.style(context_util.context_html(*context, marker=html_util.highlighter(color)), css=css)\n",
    "            display(HTML(html))\n",
    "    else:\n",
    "        html = ''\n",
    "        for context, cluster in contexts_and_clusters:\n",
    "            color = palette[cluster]\n",
    "            html += html_util.style(context_util.context_html(*context, marker=html_util.highlighter(color)), css)\n",
    "        display(HTML(html))\n",
    "    print()    \n",
    "    "
   ]
  },
  {
   "cell_type": "markdown",
   "metadata": {},
   "source": [
    "# Vis contexts as plots"
   ]
  },
  {
   "cell_type": "code",
   "execution_count": null,
   "metadata": {},
   "outputs": [],
   "source": [
    "# Get 2D reduction\n",
    "reduction_2d = 'PCA'\n",
    "reducers_and_reduced_acts_2d = {layer: acts_util.fit_reducer(chosen_acts[layer], reduction=reduction_2d, dim=2) for layer in layers}\n",
    "reducers_2d = {layer: reducers_and_reduced_acts_2d[layer][0] for layer in layers}\n",
    "reduced_chosen_acts_2d = {layer: reducers_and_reduced_acts_2d[layer][1] for layer in layers}"
   ]
  },
  {
   "cell_type": "code",
   "execution_count": null,
   "metadata": {},
   "outputs": [],
   "source": [
    "# Create info table\n",
    "contexts_info = pd.DataFrame()\n",
    "# add 2d points\n",
    "for layer in layers:\n",
    "    contexts_info[f'{layer} {reduction_2d} x'] = reduced_chosen_acts_2d[layer][:,0]\n",
    "    contexts_info[f'{layer} {reduction_2d} y'] = reduced_chosen_acts_2d[layer][:,1]"
   ]
  },
  {
   "cell_type": "code",
   "execution_count": null,
   "metadata": {},
   "outputs": [],
   "source": [
    "# add basic properties\n",
    "contexts_info['doc'] = [doc for doc, pos in chosen_contexts]\n",
    "contexts_info['position'] = [pos for doc, pos in chosen_contexts]\n",
    "contexts_info['token'] = contexts_info['doc'].combine(contexts_info['position'], lambda doc,position: doc[position])\n",
    "contexts_info['context str'] = contexts_info['doc'].combine(contexts_info['position'], context_util.context_str)\n",
    "contexts_info['context html'] = contexts_info['doc'].combine(contexts_info['position'], context_util.context_html)\n",
    "contexts_info['abbreviated context'] = contexts_info['doc'].combine(contexts_info['position'], context_util.abbreviated_context)\n",
    "contexts_info['abbreviated context html'] = contexts_info['doc'].combine(contexts_info['position'], context_util.abbreviated_context_html)\n",
    "# more properties\n",
    "contexts_info['doc length'] = contexts_info['doc'].apply(len)\n",
    "def reverse_position(doc, position): return len(doc)-1-position\n",
    "contexts_info['position from end'] = contexts_info['doc'].combine(contexts_info['position'], reverse_position)\n",
    "def POS_tag(doc, pos): return nltk.pos_tag(doc)[pos][1]\n",
    "contexts_info['POS'] = contexts_info['doc'].combine(contexts_info['position'], POS_tag)"
   ]
  },
  {
   "cell_type": "code",
   "execution_count": null,
   "metadata": {
    "scrolled": true
   },
   "outputs": [],
   "source": [
    "# Fresh vis\n",
    "palette = Category20[20]\n",
    "columns = []\n",
    "layer_name_column = [None] + [Div(text=layer, align=('center', 'center')) for layer in layers]\n",
    "columns.append(layer_name_column)\n",
    "columns.append(vis_util.visualize_columns(contexts_info, layers, reduction_2d, ('position',), size=100))\n",
    "show(gridplot(zip(*columns)))"
   ]
  },
  {
   "cell_type": "markdown",
   "metadata": {},
   "source": [
    "# Color by clusters"
   ]
  },
  {
   "cell_type": "code",
   "execution_count": null,
   "metadata": {},
   "outputs": [],
   "source": [
    "# Get clusters\n",
    "n_clusters = 5\n",
    "knn_models = {layer: KMeans(n_clusters=n_clusters).fit(chosen_acts[layer]) for layer in layers}\n",
    "components = {layer: knn_models[layer].labels_ for layer in layers}\n",
    "reduced_chosen_acts = {layer: knn_models[layer].predict(chosen_acts[layer]) for layer in layers}   \n",
    "del knn_models"
   ]
  },
  {
   "cell_type": "code",
   "execution_count": null,
   "metadata": {},
   "outputs": [],
   "source": [
    "# Add to contexts df and vis\n",
    "for layer in layers:\n",
    "    contexts_info[f'{layer} clusters'] = reduced_chosen_acts[layer]\n",
    "columns.append(vis_util.visualize_columns(contexts_info, layers, reduction_2d, ['clusters'], size=100, layerwise=True))\n",
    "show(gridplot(zip(*columns)))"
   ]
  },
  {
   "cell_type": "markdown",
   "metadata": {},
   "source": [
    "# Vis contexts and neighbors as plots"
   ]
  },
  {
   "cell_type": "code",
   "execution_count": null,
   "metadata": {},
   "outputs": [],
   "source": [
    "# Get all contexts' neighborhoods\n",
    "knn_models_fn = 'KNN_models_K5.pickle'\n",
    "n_neighbors = 4\n",
    "neighborhoods = {}\n",
    "neighborhoods_contexts = {}\n",
    "with open(os.path.join(data_dir, knn_models_fn), 'rb') as f:\n",
    "    for layer in layers:\n",
    "        print(layer)\n",
    "        print('Loading nearest neighbors model.')\n",
    "        knn_model = pickle.load(f)\n",
    "        print('Finding neighbors')\n",
    "        _neighborhoods = knn_model.kneighbors(chosen_acts[layer], n_neighbors=n_neighbors, return_distance=False) # indices\n",
    "        neighborhoods[layer] = [neighborhood[1:] for neighborhood in _neighborhoods]\n",
    "        neighborhoods_contexts[layer] = [[contexts[idx] for idx in neighborhood] for neighborhood in neighborhoods[layer]]"
   ]
  },
  {
   "cell_type": "code",
   "execution_count": null,
   "metadata": {},
   "outputs": [],
   "source": [
    "# Reduce neighborhoods\n",
    "neighborhoods_2d = {layer: [reducers_2d[layer].transform(acts[layer][neighborhood]) for neighborhood in neighborhoods[layer]] \n",
    "                              for layer in layers}"
   ]
  },
  {
   "cell_type": "code",
   "execution_count": null,
   "metadata": {
    "scrolled": true
   },
   "outputs": [],
   "source": [
    "palette = Category20[20] + Category20b[20]\n",
    "contexts_colors = [palette[i] for i in range(len(chosen_contexts))]\n",
    "chosen_htmls = [context_util.context_html(*context) for context in chosen_contexts]\n",
    "for layer in layers:\n",
    "    points = reduced_chosen_acts_2d[layer]\n",
    "    p = vis_util.empty_plot(size=200)\n",
    "    p.tools = [vis_util.hover_tool('hover label')]\n",
    "    points_source = {'x': points[:,0], 'y': points[:,1], 'color': contexts_colors, 'hover label': chosen_htmls}\n",
    "    p.triangle('x', 'y', color='color', line_color='black', size=10, source=ColumnDataSource(points_source))\n",
    "    for i, neighborhood_2d in enumerate(neighborhoods_2d[layer]):\n",
    "        neighs_htmls = [context_util.context_html(*contexts[idx]) for idx in neighborhoods[layer][i]]\n",
    "        color = contexts_colors[i]\n",
    "        neighs_source = {'x': neighborhood_2d[:,0], 'y': neighborhood_2d[:,1], 'hover label': neighs_htmls}\n",
    "        p.circle(x='x', y='y', color=color, source=neighs_source)\n",
    "    show(p)"
   ]
  },
  {
   "cell_type": "code",
   "execution_count": null,
   "metadata": {},
   "outputs": [],
   "source": []
  }
 ],
 "metadata": {
  "kernelspec": {
   "display_name": "bert-vis",
   "language": "python",
   "name": "bert-vis"
  },
  "language_info": {
   "codemirror_mode": {
    "name": "ipython",
    "version": 3
   },
   "file_extension": ".py",
   "mimetype": "text/x-python",
   "name": "python",
   "nbconvert_exporter": "python",
   "pygments_lexer": "ipython3",
   "version": "3.7.9"
  }
 },
 "nbformat": 4,
 "nbformat_minor": 4
}
