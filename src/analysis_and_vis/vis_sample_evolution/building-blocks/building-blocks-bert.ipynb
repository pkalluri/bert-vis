{
 "cells": [
  {
   "cell_type": "markdown",
   "metadata": {},
   "source": [
    "# Understand a context through its clusters, its neighbors, and custom possible neighbors\n",
    "Examine, at each layer, the given context's KNNs - both KNNs in the corpus and the KNNs out of its own masked variants - as well as any custom contexts you're curious about."
   ]
  },
  {
   "cell_type": "markdown",
   "metadata": {
    "tags": []
   },
   "source": [
    "## Imports"
   ]
  },
  {
   "cell_type": "code",
   "execution_count": 1,
   "metadata": {},
   "outputs": [
    {
     "data": {
      "text/plain": [
       "'test'"
      ]
     },
     "execution_count": 1,
     "metadata": {},
     "output_type": "execute_result"
    }
   ],
   "source": [
    "'test'"
   ]
  },
  {
   "cell_type": "code",
   "execution_count": 2,
   "metadata": {},
   "outputs": [],
   "source": [
    "%load_ext autoreload\n",
    "%autoreload 2\n",
    "\n",
    "import pickle\n",
    "import numpy as np\n",
    "# from sklearn.neighbors import NearestNeighbors  # for now, switching to FasterNearestNeighbors\n",
    "from IPython.core.display import display, HTML\n",
    "import time\n",
    "\n",
    "import os\n",
    "import sys\n",
    "sys.path.insert(0, os.path.abspath('../..'))\n",
    "from utils.acts_util import spherize, fit_components\n",
    "from utils.bert_util import get_masked_variants\n",
    "from utils.context_util import context_html, context_str\n",
    "from utils.html_util import highlighter, fix_size, font_size, style\n",
    "from utils import vis_util, html_util\n",
    "from utils import references as refs\n",
    "from utils.SimpleGPT2 import SimpleGPT2\n",
    "from utils.SimpleBert import SimpleBert\n",
    "from utils.FastNearestNeighbors import FastNearestNeighbors"
   ]
  },
  {
   "cell_type": "code",
   "execution_count": 3,
   "metadata": {},
   "outputs": [],
   "source": [
    "import warnings\n",
    "warnings.filterwarnings('ignore')"
   ]
  },
  {
   "cell_type": "code",
   "execution_count": 28,
   "metadata": {},
   "outputs": [],
   "source": [
    "from transformers import GPT2Tokenizer, GPT2LMHeadModel\n",
    "tokenizer = GPT2Tokenizer.from_pretrained('gpt2')\n",
    "headmodel = GPT2LMHeadModel.from_pretrained('gpt2')"
   ]
  },
  {
   "cell_type": "code",
   "execution_count": 62,
   "metadata": {},
   "outputs": [
    {
     "data": {
      "text/plain": [
       "', I name is a.'"
      ]
     },
     "execution_count": 62,
     "metadata": {},
     "output_type": "execute_result"
    }
   ],
   "source": [
    "inputs = tokenizer(\"Hello, my dog is cute\", return_tensors=\"pt\")\n",
    "outputs = headmodel(**inputs, labels=inputs[\"input_ids\"])\n",
    "loss = outputs.loss\n",
    "logits = outputs.logits\n",
    "outs = np.argmax(logits[0].tolist(), axis=1)\n",
    "tokenizer.decode(outs)"
   ]
  },
  {
   "cell_type": "code",
   "execution_count": 4,
   "metadata": {},
   "outputs": [
    {
     "name": "stderr",
     "output_type": "stream",
     "text": [
      "Some weights of the model checkpoint at bert-base-cased were not used when initializing BertModel: ['cls.predictions.bias', 'cls.seq_relationship.bias', 'cls.predictions.transform.dense.weight', 'cls.predictions.transform.LayerNorm.weight', 'cls.predictions.decoder.weight', 'cls.predictions.transform.dense.bias', 'cls.seq_relationship.weight', 'cls.predictions.transform.LayerNorm.bias']\n",
      "- This IS expected if you are initializing BertModel from the checkpoint of a model trained on another task or with another architecture (e.g. initializing a BertForSequenceClassification model from a BertForPreTraining model).\n",
      "- This IS NOT expected if you are initializing BertModel from the checkpoint of a model that you expect to be exactly identical (initializing a BertForSequenceClassification model from a BertForSequenceClassification model).\n"
     ]
    }
   ],
   "source": [
    "model = SimpleBert()"
   ]
  },
  {
   "cell_type": "markdown",
   "metadata": {
    "tags": []
   },
   "source": [
    "## Parameters"
   ]
  },
  {
   "cell_type": "code",
   "execution_count": 18,
   "metadata": {},
   "outputs": [],
   "source": [
    "sphere = True  # Spherize the activations? This is equivalent to switching from standard Euclidean distance to cosine distance.\n",
    "n_layers = None  # Only visualizes n layers, selected evenly from the available layers. \n",
    "              # E.g. if n_layers=5 and 12 layers are avaiilable, will visualize layers 0,3,6,9,1 (n_layers = 2 is good for debugging)\n",
    "vis_color = True \n",
    "reduction, dim = 'NMF', 10  # Reduction with which to color the doc\n",
    "vis_size = False  # If visualizing color, can also visualize size\n",
    "\n",
    "vis_masked_KNNs = False\n",
    "pruning = False  \n",
    "# pruning is only checked if visualizing masked KNNs.     \n",
    "# if pruning is true, in the masked neighbors vis, first the closest 1-token-long mask is presented, \n",
    "# then jumps to the closest 2-token-long mask, etc - forming a kind of slow pruning to capture the essence of the context.\n",
    "vis_corpus_KNNs = True\n",
    "corpus_dir = '/atlas/u/pkalluri/bert-vis/big-data/wiki-large'  # only checked if visualizing corpus KNNs\n",
    "vis_custom_contexts = True\n",
    "together = True  # Instead of visualizing all masked KNNs, then all corpus KNNs, etc, do you want to visit them all together, sorted by distance?\n",
    "save_to_html = False\n",
    "html_path = '../../../building-blocks.html'  # only checked if saving to html\n",
    "\n",
    "doc_txt = 'Later that day, he [MASK] her eye.'\n",
    "# doc_txt = '''\n",
    "# Alice was beginning to get very tired of sitting by her sister on the\n",
    "# bank, and of having nothing to do: once or twice she had peeped into the\n",
    "# book her sister was reading, but it had no pictures or conversations in\n",
    "# it, 'and what is the use of a book,' thought Alice 'without pictures or\n",
    "# conversation?'\n",
    "\n",
    "# So she was considering in her own mind (as well as she could, for the\n",
    "# hot day made her feel very sleepy and stupid), whether the pleasure\n",
    "# of making a daisy-chain would be worth the trouble of getting up and\n",
    "# picking the daisies, when suddenly a White Rabbit with pink eyes ran\n",
    "# close by her.\n",
    "\n",
    "# There was nothing so VERY remarkable in that; nor did Alice think it so\n",
    "# VERY much out of the way to hear the Rabbit say to itself, 'Oh dear!\n",
    "# Oh dear! I shall be late!' (when she thought it over afterwards, it\n",
    "# occurred to her that she ought to have wondered at this, but at the time\n",
    "# it all seemed quite natural); but when the Rabbit actually TOOK A WATCH\n",
    "# OUT OF ITS WAISTCOAT-POCKET, and looked at it, and then hurried on,\n",
    "# Alice started to her feet, for it flashed across her mind that she had\n",
    "# never before seen a rabbit with either a waistcoat-pocket, or a watch\n",
    "# to take out of it, and burning with curiosity, she ran across the field\n",
    "# after it, and fortunately was just in time to see it pop down a large\n",
    "# rabbit-hole under the hedge.\n",
    "# '''\n",
    "selected_tok = '[MASK]'"
   ]
  },
  {
   "cell_type": "markdown",
   "metadata": {
    "tags": []
   },
   "source": [
    "## Get tokens and activations"
   ]
  },
  {
   "cell_type": "code",
   "execution_count": 19,
   "metadata": {},
   "outputs": [
    {
     "name": "stdout",
     "output_type": "stream",
     "text": [
      "\n",
      "Document:\n",
      "[CLS] Later that day , he [MASK] her eye . [SEP]\n",
      "\n",
      "Layers: arr_0, arr_1, arr_2, arr_3, arr_4, arr_5, arr_6, arr_7, arr_8, arr_9, arr_10, arr_11, arr_12\n"
     ]
    }
   ],
   "source": [
    "doc, doc_acts = model.get_toks_and_acts(doc_txt)\n",
    "layers = list(doc_acts)\n",
    "if n_layers:\n",
    "    n = int((len(layers)-1)/(n_layers-1)) # will visualize every nth layer\n",
    "else:\n",
    "    n = 1\n",
    "layers = layers[::n]\n",
    "if sphere: doc_acts = {layer: spherize(doc_acts[layer]) for layer in layers}\n",
    "\n",
    "print('\\nDocument:')\n",
    "print(' '.join(doc))\n",
    "print(f'\\nLayers: {\", \".join(layers)}')"
   ]
  },
  {
   "cell_type": "markdown",
   "metadata": {
    "tags": []
   },
   "source": [
    "## Reduce sample"
   ]
  },
  {
   "cell_type": "code",
   "execution_count": 20,
   "metadata": {
    "tags": []
   },
   "outputs": [],
   "source": [
    "import warnings\n",
    "warnings.filterwarnings('ignore')\n",
    "if vis_color:\n",
    "    doc_components = {}\n",
    "    doc_reduced_acts = {}\n",
    "    for layer in layers:\n",
    "        _components, _reduced_acts = fit_components(doc_acts[layer], reduction, dim)\n",
    "        doc_components[layer] = _components\n",
    "        doc_reduced_acts[layer] = _reduced_acts\n",
    "    if vis_size:\n",
    "        doc_acts_sizes = {layer: np.linalg.norm(doc_acts[layer], axis=1) for layer in layers}"
   ]
  },
  {
   "cell_type": "markdown",
   "metadata": {
    "tags": []
   },
   "source": [
    "## Get neighbors"
   ]
  },
  {
   "cell_type": "code",
   "execution_count": 21,
   "metadata": {},
   "outputs": [],
   "source": [
    "if vis_masked_KNNs or vis_corpus_KNNs: selected_tok_idx = doc.index(selected_tok)"
   ]
  },
  {
   "cell_type": "markdown",
   "metadata": {
    "tags": []
   },
   "source": [
    "### Get corpus neighbors"
   ]
  },
  {
   "cell_type": "code",
   "execution_count": 22,
   "metadata": {},
   "outputs": [
    {
     "name": "stdout",
     "output_type": "stream",
     "text": [
      "Layer arr_0\n",
      "Fitting nearest neighbors model.\n",
      "Finding neighbors.\n",
      "Layer arr_1\n",
      "Fitting nearest neighbors model.\n",
      "Finding neighbors.\n",
      "Layer arr_2\n",
      "Fitting nearest neighbors model.\n",
      "Finding neighbors.\n",
      "Layer arr_3\n",
      "Fitting nearest neighbors model.\n",
      "Finding neighbors.\n",
      "Layer arr_4\n",
      "Fitting nearest neighbors model.\n",
      "Finding neighbors.\n",
      "Layer arr_5\n",
      "Fitting nearest neighbors model.\n",
      "Finding neighbors.\n",
      "Layer arr_6\n",
      "Fitting nearest neighbors model.\n",
      "Finding neighbors.\n",
      "Layer arr_7\n",
      "Fitting nearest neighbors model.\n",
      "Finding neighbors.\n",
      "Layer arr_8\n",
      "Fitting nearest neighbors model.\n",
      "Finding neighbors.\n",
      "Layer arr_9\n",
      "Fitting nearest neighbors model.\n",
      "Finding neighbors.\n",
      "Layer arr_10\n",
      "Fitting nearest neighbors model.\n",
      "Finding neighbors.\n",
      "Layer arr_11\n",
      "Fitting nearest neighbors model.\n",
      "Finding neighbors.\n",
      "Layer arr_12\n",
      "Fitting nearest neighbors model.\n",
      "Finding neighbors.\n"
     ]
    }
   ],
   "source": [
    "if vis_corpus_KNNs:\n",
    "    # io\n",
    "    corpus_dir = os.path.abspath(corpus_dir)\n",
    "    corpus_contexts = pickle.load(open(os.path.join(corpus_dir, refs.contexts_fn),'rb'))\n",
    "    corpus_acts = np.load(os.path.join(corpus_dir, refs.acts_fn))\n",
    "    n_neighbors = 20\n",
    "\n",
    "    # get KNNs\n",
    "    corpus_neighbors = {}\n",
    "    for layer in layers:\n",
    "        print(f'Layer {layer}')\n",
    "        _acts = spherize(corpus_acts[layer]) if sphere else corpus_acts[layer]\n",
    "        print('Fitting nearest neighbors model.')\n",
    "        knn_model = FastNearestNeighbors().fit(_acts)\n",
    "        del _acts\n",
    "        print('Finding neighbors.')\n",
    "        _doc_acts = doc_acts[layer]\n",
    "        neighs_dists, neighs_ids = knn_model.kneighbors([_doc_acts[selected_tok_idx]], n_neighbors=n_neighbors, return_distance=True)\n",
    "        del knn_model\n",
    "        neighs = [(neigh_id, corpus_contexts[neigh_id], neigh_dist) for neigh_id, neigh_dist in zip(neighs_ids[0], neighs_dists[0])]  # a neighbor is an id, the corresponding context, and the distance away\n",
    "        corpus_neighbors[layer] = neighs"
   ]
  },
  {
   "cell_type": "markdown",
   "metadata": {
    "tags": []
   },
   "source": [
    "### Get masked neighbors - does this apply?"
   ]
  },
  {
   "cell_type": "code",
   "execution_count": 23,
   "metadata": {},
   "outputs": [],
   "source": [
    "if vis_masked_KNNs:\n",
    "    mask_lengths = range(max(len(doc)-3, 1),len(doc)-2)  # a parameter used for what mask_lengths to consider. currently hard-coded.\n",
    "    print('Getting variants.')\n",
    "    variants = get_masked_variants(doc, mask_lengths)\n",
    "    print('Getting activations.')\n",
    "    variants_contexts, variants_acts = model.get_contexts_and_acts(variants, tokenized=True)\n",
    "    n_neighbors = 20\n",
    "\n",
    "    masked_neighbors = {}\n",
    "    for layer in layers:\n",
    "        print(f'Layer {layer}')\n",
    "        _acts = spherize(variants_acts[layer]) if sphere else variants_acts[layer]\n",
    "        print('Fitting nearest neighbors model.')\n",
    "        knn_model = FastNearestNeighbors().fit(_acts)\n",
    "        print('Finding neighbors')\n",
    "        _doc_acts = doc_acts[layer]\n",
    "        neighs_dists, neighs_ids = knn_model.kneighbors([_doc_acts[selected_tok_idx]], n_neighbors=n_neighbors, return_distance=True)\n",
    "        neighs = [(variants_contexts[neigh_id], neigh_dist) for neigh_id, neigh_dist in zip(neighs_ids[0], neighs_dists[0])]  # a neighbor is a context, and the distance away\n",
    "        masked_neighbors[layer] = neighs\n",
    "        del knn_model"
   ]
  },
  {
   "cell_type": "markdown",
   "metadata": {
    "tags": []
   },
   "source": [
    "### Check similarity of custom sentences"
   ]
  },
  {
   "cell_type": "code",
   "execution_count": 25,
   "metadata": {},
   "outputs": [],
   "source": [
    "if vis_custom_contexts:\n",
    "    custom_contexts_unprocessed = [\n",
    "        ('Later that day, he caught her eye.', 'caught'),\n",
    "        ('Later that day, he caught her eye.', 'day'),\n",
    "        ('Later that day, he caught her eye.', 'he'),\n",
    "        ('Later that day, he caught her eye.', 'her'),\n",
    "        ('Later that day, he caught her eye.', 'eye'),\n",
    "        ]\n",
    "    custom_neighbors = {layer: [] for layer in layers}\n",
    "    for custom_txt, custom_tok in custom_contexts_unprocessed:\n",
    "        custom_doc, custom_doc_acts = model.get_toks_and_acts(custom_txt)\n",
    "        custom_pos = custom_doc.index(custom_tok)\n",
    "        custom_context = (custom_doc, custom_pos)\n",
    "        for layer in layers:\n",
    "            _act = doc_acts[layer][selected_tok_idx]\n",
    "            _custom_act = custom_doc_acts[layer][custom_pos]\n",
    "            if sphere: \n",
    "                _act = spherize([_act])[0]\n",
    "                _custom_act = spherize([_custom_act])[0]\n",
    "            dist = np.linalg.norm(_custom_act - _act)\n",
    "            custom_neighbors[layer].append((custom_context, dist))\n",
    "    "
   ]
  },
  {
   "cell_type": "markdown",
   "metadata": {
    "tags": []
   },
   "source": [
    "## Vis"
   ]
  },
  {
   "cell_type": "code",
   "execution_count": 26,
   "metadata": {
    "tags": []
   },
   "outputs": [
    {
     "name": "stdout",
     "output_type": "stream",
     "text": [
      "Legend\n"
     ]
    },
    {
     "data": {
      "text/html": [
       "<span style=\"background-color: rgba(254,0,0,1)\"> 0 </span><span style=\"background-color: rgba(204,152,0,1)\"> 1 </span><span style=\"background-color: rgba(173,186,0,1)\"> 2 </span><span style=\"background-color: rgba(59,247,0,1)\"> 3 </span><span style=\"background-color: rgba(0,227,114,1)\"> 4 </span><span style=\"background-color: rgba(0,180,180,1)\"> 5 </span><span style=\"background-color: rgba(0,114,227,1)\"> 6 </span><span style=\"background-color: rgba(59,0,247,1)\"> 7 </span><span style=\"background-color: rgba(173,0,186,1)\"> 8 </span><span style=\"background-color: rgba(204,0,152,1)\"> 9 </span>"
      ],
      "text/plain": [
       "<IPython.core.display.HTML object>"
      ]
     },
     "metadata": {},
     "output_type": "display_data"
    },
    {
     "name": "stdout",
     "output_type": "stream",
     "text": [
      "\n"
     ]
    },
    {
     "data": {
      "text/html": [
       "Layer arr_0"
      ],
      "text/plain": [
       "<IPython.core.display.HTML object>"
      ]
     },
     "metadata": {},
     "output_type": "display_data"
    },
    {
     "data": {
      "text/html": [
       "<span style=\"background-color: rgba(204,152,0,1); font-size: 10pt;\"> [CLS] </span><span style=\"background-color: rgba(59,247,0,1); font-size: 10pt;\"> Later </span><span style=\"background-color: rgba(173,0,186,1); font-size: 10pt;\"> that </span><span style=\"background-color: rgba(0,227,114,1); font-size: 10pt;\"> day </span><span style=\"background-color: rgba(36,162,193,1); font-size: 10pt;\"> , </span><span style=\"background-color: rgba(0,114,227,1); font-size: 10pt;\"> he </span><span style=\"background-color: rgba(204,0,152,1); font-size: 10pt;\"> [MASK] </span><span style=\"background-color: rgba(254,0,0,1); font-size: 10pt;\"> her </span><span style=\"background-color: rgba(173,186,0,1); font-size: 10pt;\"> eye </span><span style=\"background-color: rgba(4,169,190,1); font-size: 10pt;\"> . </span><span style=\"background-color: rgba(59,0,247,1); font-size: 10pt;\"> [SEP] </span>"
      ],
      "text/plain": [
       "<IPython.core.display.HTML object>"
      ]
     },
     "metadata": {},
     "output_type": "display_data"
    },
    {
     "data": {
      "text/html": [
       " [CLS] Later that day , he<span style=\"background-color: lightpink;\"> [MASK]</span> her eye . [SEP]"
      ],
      "text/plain": [
       "<IPython.core.display.HTML object>"
      ]
     },
     "metadata": {},
     "output_type": "display_data"
    },
    {
     "data": {
      "text/html": [
       "(174.968)  [CLS] William Brook/field presided .<span style=\"background-color: lightblue;\"> [SEP]</span>"
      ],
      "text/plain": [
       "<IPython.core.display.HTML object>"
      ]
     },
     "metadata": {},
     "output_type": "display_data"
    },
    {
     "data": {
      "text/html": [
       "(174.968)  [CLS] He was a farmer .<span style=\"background-color: lightblue;\"> [SEP]</span>"
      ],
      "text/plain": [
       "<IPython.core.display.HTML object>"
      ]
     },
     "metadata": {},
     "output_type": "display_data"
    },
    {
     "data": {
      "text/html": [
       "(174.968)  [CLS] He played eight matches .<span style=\"background-color: lightblue;\"> [SEP]</span>"
      ],
      "text/plain": [
       "<IPython.core.display.HTML object>"
      ]
     },
     "metadata": {},
     "output_type": "display_data"
    },
    {
     "data": {
      "text/html": [
       "(174.968)  [CLS] Les/kov ( vol .<span style=\"background-color: lightblue;\"> [SEP]</span>"
      ],
      "text/plain": [
       "<IPython.core.display.HTML object>"
      ]
     },
     "metadata": {},
     "output_type": "display_data"
    },
    {
     "data": {
      "text/html": [
       "(174.968)  [CLS] S/pecific types include :<span style=\"background-color: lightblue;\"> [SEP]</span>"
      ],
      "text/plain": [
       "<IPython.core.display.HTML object>"
      ]
     },
     "metadata": {},
     "output_type": "display_data"
    },
    {
     "data": {
      "text/html": [
       "(174.968)  [CLS] T/je/ld/ø/ya<span style=\"background-color: lightblue;\"> [SEP]</span>"
      ],
      "text/plain": [
       "<IPython.core.display.HTML object>"
      ]
     },
     "metadata": {},
     "output_type": "display_data"
    },
    {
     "data": {
      "text/html": [
       "(174.968)  [CLS] Ō/fu/ka On/sen<span style=\"background-color: lightblue;\"> [SEP]</span>"
      ],
      "text/plain": [
       "<IPython.core.display.HTML object>"
      ]
     },
     "metadata": {},
     "output_type": "display_data"
    },
    {
     "data": {
      "text/html": [
       "(174.968)  [CLS] \" To/tte/mo !<span style=\"background-color: lightblue;\"> [SEP]</span>"
      ],
      "text/plain": [
       "<IPython.core.display.HTML object>"
      ]
     },
     "metadata": {},
     "output_type": "display_data"
    },
    {
     "data": {
      "text/html": [
       "(174.968)  [CLS] \" bell/a \" .<span style=\"background-color: lightblue;\"> [SEP]</span>"
      ],
      "text/plain": [
       "<IPython.core.display.HTML object>"
      ]
     },
     "metadata": {},
     "output_type": "display_data"
    },
    {
     "data": {
      "text/html": [
       "(174.968)  [CLS] He died in 1996 .<span style=\"background-color: lightblue;\"> [SEP]</span>"
      ],
      "text/plain": [
       "<IPython.core.display.HTML object>"
      ]
     },
     "metadata": {},
     "output_type": "display_data"
    },
    {
     "data": {
      "text/html": [
       "(174.968)  [CLS] Sc/h/wer/von !<span style=\"background-color: lightblue;\"> [SEP]</span>"
      ],
      "text/plain": [
       "<IPython.core.display.HTML object>"
      ]
     },
     "metadata": {},
     "output_type": "display_data"
    },
    {
     "data": {
      "text/html": [
       "(174.968)  [CLS] Location on the world map<span style=\"background-color: lightblue;\"> [SEP]</span>"
      ],
      "text/plain": [
       "<IPython.core.display.HTML object>"
      ]
     },
     "metadata": {},
     "output_type": "display_data"
    },
    {
     "data": {
      "text/html": [
       "(174.968)  [CLS] Auburn/dale , Nova Scotia<span style=\"background-color: lightblue;\"> [SEP]</span>"
      ],
      "text/plain": [
       "<IPython.core.display.HTML object>"
      ]
     },
     "metadata": {},
     "output_type": "display_data"
    },
    {
     "data": {
      "text/html": [
       "(174.968)  [CLS] North/port , Nova Scotia<span style=\"background-color: lightblue;\"> [SEP]</span>"
      ],
      "text/plain": [
       "<IPython.core.display.HTML object>"
      ]
     },
     "metadata": {},
     "output_type": "display_data"
    },
    {
     "data": {
      "text/html": [
       "(174.968)  [CLS] Thunder/bolt Broadcasting Station History<span style=\"background-color: lightblue;\"> [SEP]</span>"
      ],
      "text/plain": [
       "<IPython.core.display.HTML object>"
      ]
     },
     "metadata": {},
     "output_type": "display_data"
    },
    {
     "data": {
      "text/html": [
       "(174.968)  [CLS] He retired in 1991 .<span style=\"background-color: lightblue;\"> [SEP]</span>"
      ],
      "text/plain": [
       "<IPython.core.display.HTML object>"
      ]
     },
     "metadata": {},
     "output_type": "display_data"
    },
    {
     "data": {
      "text/html": [
       "(174.968)  [CLS] Real On/igo/k/ko<span style=\"background-color: lightblue;\"> [SEP]</span>"
      ],
      "text/plain": [
       "<IPython.core.display.HTML object>"
      ]
     },
     "metadata": {},
     "output_type": "display_data"
    },
    {
     "data": {
      "text/html": [
       "(174.968)  [CLS] Construction began in 1983 .<span style=\"background-color: lightblue;\"> [SEP]</span>"
      ],
      "text/plain": [
       "<IPython.core.display.HTML object>"
      ]
     },
     "metadata": {},
     "output_type": "display_data"
    },
    {
     "data": {
      "text/html": [
       "(174.968)  [CLS] A La/rva to Love<span style=\"background-color: lightblue;\"> [SEP]</span>"
      ],
      "text/plain": [
       "<IPython.core.display.HTML object>"
      ]
     },
     "metadata": {},
     "output_type": "display_data"
    },
    {
     "data": {
      "text/html": [
       "(174.968)  [CLS] Ka/wa/mura Art Museum<span style=\"background-color: lightblue;\"> [SEP]</span>"
      ],
      "text/plain": [
       "<IPython.core.display.HTML object>"
      ]
     },
     "metadata": {},
     "output_type": "display_data"
    },
    {
     "data": {
      "text/html": [
       "(260.673)  [CLS] Later that day , he<span style=\"background-color: limegreen;\"> caught</span> her eye . [SEP]"
      ],
      "text/plain": [
       "<IPython.core.display.HTML object>"
      ]
     },
     "metadata": {},
     "output_type": "display_data"
    },
    {
     "data": {
      "text/html": [
       "(261.111)  [CLS] Later that day , he caught<span style=\"background-color: limegreen;\"> her</span> eye . [SEP]"
      ],
      "text/plain": [
       "<IPython.core.display.HTML object>"
      ]
     },
     "metadata": {},
     "output_type": "display_data"
    },
    {
     "data": {
      "text/html": [
       "(261.382)  [CLS] Later that day ,<span style=\"background-color: limegreen;\"> he</span> caught her eye . [SEP]"
      ],
      "text/plain": [
       "<IPython.core.display.HTML object>"
      ]
     },
     "metadata": {},
     "output_type": "display_data"
    },
    {
     "data": {
      "text/html": [
       "(273.262)  [CLS] Later that day , he caught her<span style=\"background-color: limegreen;\"> eye</span> . [SEP]"
      ],
      "text/plain": [
       "<IPython.core.display.HTML object>"
      ]
     },
     "metadata": {},
     "output_type": "display_data"
    },
    {
     "data": {
      "text/html": [
       "(276.284)  [CLS] Later that<span style=\"background-color: limegreen;\"> day</span> , he caught her eye . [SEP]"
      ],
      "text/plain": [
       "<IPython.core.display.HTML object>"
      ]
     },
     "metadata": {},
     "output_type": "display_data"
    },
    {
     "name": "stdout",
     "output_type": "stream",
     "text": [
      ".\n",
      ".\n",
      ".\n"
     ]
    },
    {
     "data": {
      "text/html": [
       "Layer arr_1"
      ],
      "text/plain": [
       "<IPython.core.display.HTML object>"
      ]
     },
     "metadata": {},
     "output_type": "display_data"
    },
    {
     "data": {
      "text/html": [
       "<span style=\"background-color: rgba(254,0,0,1); font-size: 10pt;\"> [CLS] </span><span style=\"background-color: rgba(204,152,0,1); font-size: 10pt;\"> Later </span><span style=\"background-color: rgba(59,247,0,1); font-size: 10pt;\"> that </span><span style=\"background-color: rgba(0,227,114,1); font-size: 10pt;\"> day </span><span style=\"background-color: rgba(59,0,247,1); font-size: 10pt;\"> , </span><span style=\"background-color: rgba(0,114,227,1); font-size: 10pt;\"> he </span><span style=\"background-color: rgba(251,27,32,1); font-size: 10pt;\"> [MASK] </span><span style=\"background-color: rgba(0,180,180,1); font-size: 10pt;\"> her </span><span style=\"background-color: rgba(173,186,0,1); font-size: 10pt;\"> eye </span><span style=\"background-color: rgba(173,0,186,1); font-size: 10pt;\"> . </span><span style=\"background-color: rgba(204,0,152,1); font-size: 10pt;\"> [SEP] </span>"
      ],
      "text/plain": [
       "<IPython.core.display.HTML object>"
      ]
     },
     "metadata": {},
     "output_type": "display_data"
    },
    {
     "data": {
      "text/html": [
       " [CLS] Later that day , he<span style=\"background-color: lightpink;\"> [MASK]</span> her eye . [SEP]"
      ],
      "text/plain": [
       "<IPython.core.display.HTML object>"
      ]
     },
     "metadata": {},
     "output_type": "display_data"
    },
    {
     "data": {
      "text/html": [
       "(56.299)  [CLS] The song was the band<span style=\"background-color: lightblue;\"> ’</span> s first release on Victory Records , which was distributed by London Records in the UK . [SEP]"
      ],
      "text/plain": [
       "<IPython.core.display.HTML object>"
      ]
     },
     "metadata": {},
     "output_type": "display_data"
    },
    {
     "data": {
      "text/html": [
       "(67.317)  [CLS] '<span style=\"background-color: lightblue;\"> —</span> \" The Age \" , Melbourne . [SEP]"
      ],
      "text/plain": [
       "<IPython.core.display.HTML object>"
      ]
     },
     "metadata": {},
     "output_type": "display_data"
    },
    {
     "data": {
      "text/html": [
       "(68.914)  [CLS] He<span style=\"background-color: lightblue;\"> ’</span> s also been influenced by film noir , Los Angeles history , including the Hollywood “ dream factories , ” and various styles of music . [SEP]"
      ],
      "text/plain": [
       "<IPython.core.display.HTML object>"
      ]
     },
     "metadata": {},
     "output_type": "display_data"
    },
    {
     "data": {
      "text/html": [
       "(69.772)  [CLS] He<span style=\"background-color: lightblue;\"> ’</span> s no longer active in the music industry , but he enjoys the fact that people are still into his music though ! \" \" [SEP]"
      ],
      "text/plain": [
       "<IPython.core.display.HTML object>"
      ]
     },
     "metadata": {},
     "output_type": "display_data"
    },
    {
     "data": {
      "text/html": [
       "(71.933)  [CLS] Any material that can<span style=\"background-color: lightblue;\"> ’</span> t be recycled is b/aled for waste energy production , so nothing goes to land/fill . [SEP]"
      ],
      "text/plain": [
       "<IPython.core.display.HTML object>"
      ]
     },
     "metadata": {},
     "output_type": "display_data"
    },
    {
     "data": {
      "text/html": [
       "(74.645)  [CLS] In 2011 , C/room/e<span style=\"background-color: lightblue;\"> ’</span> s “ The Place of the Dove/s ” was shortlisted for the African Flash Fiction writing award . [SEP]"
      ],
      "text/plain": [
       "<IPython.core.display.HTML object>"
      ]
     },
     "metadata": {},
     "output_type": "display_data"
    },
    {
     "data": {
      "text/html": [
       "(74.954)  [CLS] A report about ‘ Education for International understanding<span style=\"background-color: lightblue;\"> ’</span> , appeared in 1954 , and inspired the UNESCO Re/com/men/dation of 1974 . [SEP]"
      ],
      "text/plain": [
       "<IPython.core.display.HTML object>"
      ]
     },
     "metadata": {},
     "output_type": "display_data"
    },
    {
     "data": {
      "text/html": [
       "(75.100)  [CLS] Peters<span style=\"background-color: lightblue;\"> ’</span> research group studies the molecular mechanisms of chromosome organization , chromosome segregation and cell division in a variety of model organisms . [SEP]"
      ],
      "text/plain": [
       "<IPython.core.display.HTML object>"
      ]
     },
     "metadata": {},
     "output_type": "display_data"
    },
    {
     "data": {
      "text/html": [
       "(76.397)  [CLS] In I/CA/A<span style=\"background-color: lightblue;\"> ’</span> s early days it was almost simultaneously called the American Catholic Apostolic Orthodox Church ( . . . ) . [SEP]"
      ],
      "text/plain": [
       "<IPython.core.display.HTML object>"
      ]
     },
     "metadata": {},
     "output_type": "display_data"
    },
    {
     "data": {
      "text/html": [
       "(76.970)  [CLS] B/row/ard<span style=\"background-color: lightblue;\"> ’</span> s spent share , according to Herb/st , is only about $ 550 , 000 so far . \" [SEP]"
      ],
      "text/plain": [
       "<IPython.core.display.HTML object>"
      ]
     },
     "metadata": {},
     "output_type": "display_data"
    },
    {
     "data": {
      "text/html": [
       "(77.045)  [CLS] Un/win was born in the United Kingdom , and emigrated to Toronto in 1843 , and lived with his uncle<span style=\"background-color: lightblue;\"> —</span> also named Charles Un/win . [SEP]"
      ],
      "text/plain": [
       "<IPython.core.display.HTML object>"
      ]
     },
     "metadata": {},
     "output_type": "display_data"
    },
    {
     "data": {
      "text/html": [
       "(77.193)  [CLS] Wong Chen<span style=\"background-color: lightblue;\"> ’</span> s father was a self - made businessman , whereas his mother was a home/maker . [SEP]"
      ],
      "text/plain": [
       "<IPython.core.display.HTML object>"
      ]
     },
     "metadata": {},
     "output_type": "display_data"
    },
    {
     "data": {
      "text/html": [
       "(77.591)  [CLS] He was likely a student<span style=\"background-color: lightblue;\"> —</span> and possibly an adopted son — of Tori/yama Se/kie/n . [SEP]"
      ],
      "text/plain": [
       "<IPython.core.display.HTML object>"
      ]
     },
     "metadata": {},
     "output_type": "display_data"
    },
    {
     "data": {
      "text/html": [
       "(77.690)  [CLS] It was filmed at Channel Nine<span style=\"background-color: lightblue;\"> ’</span> s GT/V Studio 11 and on location in and around Melbourne . [SEP]"
      ],
      "text/plain": [
       "<IPython.core.display.HTML object>"
      ]
     },
     "metadata": {},
     "output_type": "display_data"
    },
    {
     "data": {
      "text/html": [
       "(79.066)  [CLS] †<span style=\"background-color: lightblue;\"> —</span> Drivers did not finish the race , but were classified as they completed over 90 % of the race distance . [SEP]"
      ],
      "text/plain": [
       "<IPython.core.display.HTML object>"
      ]
     },
     "metadata": {},
     "output_type": "display_data"
    },
    {
     "data": {
      "text/html": [
       "(79.079)  [CLS] All/um is regarded as one of the world<span style=\"background-color: lightblue;\"> ’</span> s most experienced and accomplished cave divers . [SEP]"
      ],
      "text/plain": [
       "<IPython.core.display.HTML object>"
      ]
     },
     "metadata": {},
     "output_type": "display_data"
    },
    {
     "data": {
      "text/html": [
       "(79.253)  [CLS] She<span style=\"background-color: lightblue;\"> ’</span> s been featured in many publications and websites from Alliance Wake to Stan/ce Planet . [SEP]"
      ],
      "text/plain": [
       "<IPython.core.display.HTML object>"
      ]
     },
     "metadata": {},
     "output_type": "display_data"
    },
    {
     "data": {
      "text/html": [
       "(79.466)  [CLS] The book has pages ill/ust/rating and describing ingredients of the various areas of the world<span style=\"background-color: lightblue;\"> —</span> fish , meat , vegetables , fungi and fruit . [SEP]"
      ],
      "text/plain": [
       "<IPython.core.display.HTML object>"
      ]
     },
     "metadata": {},
     "output_type": "display_data"
    },
    {
     "data": {
      "text/html": [
       "(81.194)  [CLS] Sir George smiled and replied ,<span style=\"background-color: lightblue;\"> “</span> I have been nearer to you , friend , when you missed me ” . [SEP]"
      ],
      "text/plain": [
       "<IPython.core.display.HTML object>"
      ]
     },
     "metadata": {},
     "output_type": "display_data"
    },
    {
     "data": {
      "text/html": [
       "(81.449)  [CLS] Corp , E . :<span style=\"background-color: lightblue;\"> “</span> Further Light on the Career of ' Captain ' François de Pre/nd/court ” . [SEP]"
      ],
      "text/plain": [
       "<IPython.core.display.HTML object>"
      ]
     },
     "metadata": {},
     "output_type": "display_data"
    },
    {
     "data": {
      "text/html": [
       "(209.469)  [CLS] Later that day ,<span style=\"background-color: limegreen;\"> he</span> caught her eye . [SEP]"
      ],
      "text/plain": [
       "<IPython.core.display.HTML object>"
      ]
     },
     "metadata": {},
     "output_type": "display_data"
    },
    {
     "data": {
      "text/html": [
       "(212.955)  [CLS] Later that day , he caught<span style=\"background-color: limegreen;\"> her</span> eye . [SEP]"
      ],
      "text/plain": [
       "<IPython.core.display.HTML object>"
      ]
     },
     "metadata": {},
     "output_type": "display_data"
    },
    {
     "data": {
      "text/html": [
       "(239.986)  [CLS] Later that day , he<span style=\"background-color: limegreen;\"> caught</span> her eye . [SEP]"
      ],
      "text/plain": [
       "<IPython.core.display.HTML object>"
      ]
     },
     "metadata": {},
     "output_type": "display_data"
    },
    {
     "data": {
      "text/html": [
       "(254.634)  [CLS] Later that<span style=\"background-color: limegreen;\"> day</span> , he caught her eye . [SEP]"
      ],
      "text/plain": [
       "<IPython.core.display.HTML object>"
      ]
     },
     "metadata": {},
     "output_type": "display_data"
    },
    {
     "data": {
      "text/html": [
       "(259.334)  [CLS] Later that day , he caught her<span style=\"background-color: limegreen;\"> eye</span> . [SEP]"
      ],
      "text/plain": [
       "<IPython.core.display.HTML object>"
      ]
     },
     "metadata": {},
     "output_type": "display_data"
    },
    {
     "name": "stdout",
     "output_type": "stream",
     "text": [
      ".\n",
      ".\n",
      ".\n"
     ]
    },
    {
     "data": {
      "text/html": [
       "Layer arr_2"
      ],
      "text/plain": [
       "<IPython.core.display.HTML object>"
      ]
     },
     "metadata": {},
     "output_type": "display_data"
    },
    {
     "data": {
      "text/html": [
       "<span style=\"background-color: rgba(253,13,20,1); font-size: 10pt;\"> [CLS] </span><span style=\"background-color: rgba(0,227,114,1); font-size: 10pt;\"> Later </span><span style=\"background-color: rgba(0,180,180,1); font-size: 10pt;\"> that </span><span style=\"background-color: rgba(203,152,0,1); font-size: 10pt;\"> day </span><span style=\"background-color: rgba(173,0,186,1); font-size: 10pt;\"> , </span><span style=\"background-color: rgba(59,0,247,1); font-size: 10pt;\"> he </span><span style=\"background-color: rgba(254,16,12,1); font-size: 10pt;\"> [MASK] </span><span style=\"background-color: rgba(0,114,227,1); font-size: 10pt;\"> her </span><span style=\"background-color: rgba(173,187,0,1); font-size: 10pt;\"> eye </span><span style=\"background-color: rgba(204,0,152,1); font-size: 10pt;\"> . </span><span style=\"background-color: rgba(59,247,0,1); font-size: 10pt;\"> [SEP] </span>"
      ],
      "text/plain": [
       "<IPython.core.display.HTML object>"
      ]
     },
     "metadata": {},
     "output_type": "display_data"
    },
    {
     "data": {
      "text/html": [
       " [CLS] Later that day , he<span style=\"background-color: lightpink;\"> [MASK]</span> her eye . [SEP]"
      ],
      "text/plain": [
       "<IPython.core.display.HTML object>"
      ]
     },
     "metadata": {},
     "output_type": "display_data"
    },
    {
     "data": {
      "text/html": [
       "(57.397)  [CLS] George Davis<span style=\"background-color: lightblue;\"> –</span> the main antagonist of the story . [SEP]"
      ],
      "text/plain": [
       "<IPython.core.display.HTML object>"
      ]
     },
     "metadata": {},
     "output_type": "display_data"
    },
    {
     "data": {
      "text/html": [
       "(61.251)  [CLS] Two Can/avan/s died in 1912 during the \" Titanic \" disaster — Patrick Can/avan and Mary Can/avan<span style=\"background-color: lightblue;\"> —</span> both of County Mayo . [SEP]"
      ],
      "text/plain": [
       "<IPython.core.display.HTML object>"
      ]
     },
     "metadata": {},
     "output_type": "display_data"
    },
    {
     "data": {
      "text/html": [
       "(65.247)  [CLS] He has also described the visual style as being a \" very clear - cut cartoon style \"<span style=\"background-color: lightblue;\"> —</span> something at odds with his preferred general style . [SEP]"
      ],
      "text/plain": [
       "<IPython.core.display.HTML object>"
      ]
     },
     "metadata": {},
     "output_type": "display_data"
    },
    {
     "data": {
      "text/html": [
       "(66.433)  [CLS] Natasha leaves her parents ' home and runs away with Al/yo/sha ( prince Alex/ey )<span style=\"background-color: lightblue;\"> –</span> the son of Prince Val/kov/sky . [SEP]"
      ],
      "text/plain": [
       "<IPython.core.display.HTML object>"
      ]
     },
     "metadata": {},
     "output_type": "display_data"
    },
    {
     "data": {
      "text/html": [
       "(68.196)  [CLS] Un/win was born in the United Kingdom , and emigrated to Toronto in 1843 , and lived with his uncle<span style=\"background-color: grey;\"> —</span> also named Charles Un/win . [SEP]"
      ],
      "text/plain": [
       "<IPython.core.display.HTML object>"
      ]
     },
     "metadata": {},
     "output_type": "display_data"
    },
    {
     "data": {
      "text/html": [
       "(68.398)  [CLS] He was born in San Francisco , California<span style=\"background-color: lightblue;\"> –</span> the son of two tournament bridge players – and lived in the Bay Area until his death . [SEP]"
      ],
      "text/plain": [
       "<IPython.core.display.HTML object>"
      ]
     },
     "metadata": {},
     "output_type": "display_data"
    },
    {
     "data": {
      "text/html": [
       "(68.609)  [CLS] The book has pages ill/ust/rating and describing ingredients of the various areas of the world<span style=\"background-color: grey;\"> —</span> fish , meat , vegetables , fungi and fruit . [SEP]"
      ],
      "text/plain": [
       "<IPython.core.display.HTML object>"
      ]
     },
     "metadata": {},
     "output_type": "display_data"
    },
    {
     "data": {
      "text/html": [
       "(69.402)  [CLS] Peters<span style=\"background-color: grey;\"> ’</span> research group studies the molecular mechanisms of chromosome organization , chromosome segregation and cell division in a variety of model organisms . [SEP]"
      ],
      "text/plain": [
       "<IPython.core.display.HTML object>"
      ]
     },
     "metadata": {},
     "output_type": "display_data"
    },
    {
     "data": {
      "text/html": [
       "(69.623)  [CLS] In 2013 , Co/S/ign was named<span style=\"background-color: lightblue;\"> “</span> the strongest digital signature solution ” in the 2013 report . [SEP]"
      ],
      "text/plain": [
       "<IPython.core.display.HTML object>"
      ]
     },
     "metadata": {},
     "output_type": "display_data"
    },
    {
     "data": {
      "text/html": [
       "(71.163)  [CLS] In the Q/uay/s<span style=\"background-color: lightblue;\"> ’</span> adapt/ion he is lord over an isolated kingdom where he is the sole den/ize/n . [SEP]"
      ],
      "text/plain": [
       "<IPython.core.display.HTML object>"
      ]
     },
     "metadata": {},
     "output_type": "display_data"
    },
    {
     "data": {
      "text/html": [
       "(71.580)  [CLS] On 8 December 1962 , the T/N/K/U staged an ins/ur/re/ction<span style=\"background-color: lightblue;\"> —</span> the Brunei Rev/olt . [SEP]"
      ],
      "text/plain": [
       "<IPython.core.display.HTML object>"
      ]
     },
     "metadata": {},
     "output_type": "display_data"
    },
    {
     "data": {
      "text/html": [
       "(72.193)  [CLS] Let be the La/place<span style=\"background-color: lightblue;\"> –</span> Belt/ram/i operator . [SEP]"
      ],
      "text/plain": [
       "<IPython.core.display.HTML object>"
      ]
     },
     "metadata": {},
     "output_type": "display_data"
    },
    {
     "data": {
      "text/html": [
       "(73.153)  [CLS] The most important tool in this graphical extension is the 3 - D graphical type<span style=\"background-color: lightblue;\"> —</span> the figure type . [SEP]"
      ],
      "text/plain": [
       "<IPython.core.display.HTML object>"
      ]
     },
     "metadata": {},
     "output_type": "display_data"
    },
    {
     "data": {
      "text/html": [
       "(73.375)  [CLS] The famous Sa/rug/ak/yo/u hot springs are located adjacent to the lake created by the dam<span style=\"background-color: lightblue;\"> —</span> A/kaya Lake . [SEP]"
      ],
      "text/plain": [
       "<IPython.core.display.HTML object>"
      ]
     },
     "metadata": {},
     "output_type": "display_data"
    },
    {
     "data": {
      "text/html": [
       "(73.788)  [CLS] Her production<span style=\"background-color: lightblue;\"> “</span> California Rights ” earned her an Emmy and a Silver G/ave/l Award from the American Bar Association . [SEP]"
      ],
      "text/plain": [
       "<IPython.core.display.HTML object>"
      ]
     },
     "metadata": {},
     "output_type": "display_data"
    },
    {
     "data": {
      "text/html": [
       "(73.851)  [CLS] He was likely a student<span style=\"background-color: grey;\"> —</span> and possibly an adopted son — of Tori/yama Se/kie/n . [SEP]"
      ],
      "text/plain": [
       "<IPython.core.display.HTML object>"
      ]
     },
     "metadata": {},
     "output_type": "display_data"
    },
    {
     "data": {
      "text/html": [
       "(73.867)  [CLS] Now the voice is serving the lyrics and vice versa<span style=\"background-color: lightblue;\"> —</span> the songs have got both form and content . \" [SEP]"
      ],
      "text/plain": [
       "<IPython.core.display.HTML object>"
      ]
     },
     "metadata": {},
     "output_type": "display_data"
    },
    {
     "data": {
      "text/html": [
       "(74.377)  [CLS] Pat/i – Sal/am is a mainstream theory and a viable alternative to the Georg/i<span style=\"background-color: lightblue;\"> –</span> G/lash/ow unification . [SEP]"
      ],
      "text/plain": [
       "<IPython.core.display.HTML object>"
      ]
     },
     "metadata": {},
     "output_type": "display_data"
    },
    {
     "data": {
      "text/html": [
       "(74.854)  [CLS] Number of caps , players ' club teams and players ' age as of 1 March 2012<span style=\"background-color: lightblue;\"> –</span> the tournament ' s opening day . [SEP]"
      ],
      "text/plain": [
       "<IPython.core.display.HTML object>"
      ]
     },
     "metadata": {},
     "output_type": "display_data"
    },
    {
     "data": {
      "text/html": [
       "(75.317)  [CLS] They have two daughters<span style=\"background-color: lightblue;\"> –</span> Anne and Eva . [SEP]"
      ],
      "text/plain": [
       "<IPython.core.display.HTML object>"
      ]
     },
     "metadata": {},
     "output_type": "display_data"
    },
    {
     "data": {
      "text/html": [
       "(190.748)  [CLS] Later that day ,<span style=\"background-color: limegreen;\"> he</span> caught her eye . [SEP]"
      ],
      "text/plain": [
       "<IPython.core.display.HTML object>"
      ]
     },
     "metadata": {},
     "output_type": "display_data"
    },
    {
     "data": {
      "text/html": [
       "(192.647)  [CLS] Later that day , he caught<span style=\"background-color: limegreen;\"> her</span> eye . [SEP]"
      ],
      "text/plain": [
       "<IPython.core.display.HTML object>"
      ]
     },
     "metadata": {},
     "output_type": "display_data"
    },
    {
     "data": {
      "text/html": [
       "(216.572)  [CLS] Later that day , he<span style=\"background-color: limegreen;\"> caught</span> her eye . [SEP]"
      ],
      "text/plain": [
       "<IPython.core.display.HTML object>"
      ]
     },
     "metadata": {},
     "output_type": "display_data"
    },
    {
     "data": {
      "text/html": [
       "(238.424)  [CLS] Later that<span style=\"background-color: limegreen;\"> day</span> , he caught her eye . [SEP]"
      ],
      "text/plain": [
       "<IPython.core.display.HTML object>"
      ]
     },
     "metadata": {},
     "output_type": "display_data"
    },
    {
     "data": {
      "text/html": [
       "(250.353)  [CLS] Later that day , he caught her<span style=\"background-color: limegreen;\"> eye</span> . [SEP]"
      ],
      "text/plain": [
       "<IPython.core.display.HTML object>"
      ]
     },
     "metadata": {},
     "output_type": "display_data"
    },
    {
     "name": "stdout",
     "output_type": "stream",
     "text": [
      ".\n",
      ".\n",
      ".\n"
     ]
    },
    {
     "data": {
      "text/html": [
       "Layer arr_3"
      ],
      "text/plain": [
       "<IPython.core.display.HTML object>"
      ]
     },
     "metadata": {},
     "output_type": "display_data"
    },
    {
     "data": {
      "text/html": [
       "<span style=\"background-color: rgba(254,0,0,1); font-size: 10pt;\"> [CLS] </span><span style=\"background-color: rgba(0,180,180,1); font-size: 10pt;\"> Later </span><span style=\"background-color: rgba(0,227,114,1); font-size: 10pt;\"> that </span><span style=\"background-color: rgba(173,186,0,1); font-size: 10pt;\"> day </span><span style=\"background-color: rgba(173,0,186,1); font-size: 10pt;\"> , </span><span style=\"background-color: rgba(59,0,247,1); font-size: 10pt;\"> he </span><span style=\"background-color: rgba(204,0,152,1); font-size: 10pt;\"> [MASK] </span><span style=\"background-color: rgba(0,114,227,1); font-size: 10pt;\"> her </span><span style=\"background-color: rgba(59,247,0,1); font-size: 10pt;\"> eye </span><span style=\"background-color: rgba(249,12,51,1); font-size: 10pt;\"> . </span><span style=\"background-color: rgba(204,152,0,1); font-size: 10pt;\"> [SEP] </span>"
      ],
      "text/plain": [
       "<IPython.core.display.HTML object>"
      ]
     },
     "metadata": {},
     "output_type": "display_data"
    },
    {
     "data": {
      "text/html": [
       " [CLS] Later that day , he<span style=\"background-color: lightpink;\"> [MASK]</span> her eye . [SEP]"
      ],
      "text/plain": [
       "<IPython.core.display.HTML object>"
      ]
     },
     "metadata": {},
     "output_type": "display_data"
    },
    {
     "data": {
      "text/html": [
       "(63.242)  [CLS] George Davis<span style=\"background-color: grey;\"> –</span> the main antagonist of the story . [SEP]"
      ],
      "text/plain": [
       "<IPython.core.display.HTML object>"
      ]
     },
     "metadata": {},
     "output_type": "display_data"
    },
    {
     "data": {
      "text/html": [
       "(76.119)  [CLS] Natasha leaves her parents ' home and runs away with Al/yo/sha ( prince Alex/ey )<span style=\"background-color: grey;\"> –</span> the son of Prince Val/kov/sky . [SEP]"
      ],
      "text/plain": [
       "<IPython.core.display.HTML object>"
      ]
     },
     "metadata": {},
     "output_type": "display_data"
    },
    {
     "data": {
      "text/html": [
       "(80.042)  [CLS] Two Can/avan/s died in 1912 during the \" Titanic \" disaster — Patrick Can/avan and Mary Can/avan<span style=\"background-color: grey;\"> —</span> both of County Mayo . [SEP]"
      ],
      "text/plain": [
       "<IPython.core.display.HTML object>"
      ]
     },
     "metadata": {},
     "output_type": "display_data"
    },
    {
     "data": {
      "text/html": [
       "(86.330)  [CLS] He was born in San Francisco , California<span style=\"background-color: grey;\"> –</span> the son of two tournament bridge players – and lived in the Bay Area until his death . [SEP]"
      ],
      "text/plain": [
       "<IPython.core.display.HTML object>"
      ]
     },
     "metadata": {},
     "output_type": "display_data"
    },
    {
     "data": {
      "text/html": [
       "(87.253)  [CLS] They have two daughters<span style=\"background-color: grey;\"> –</span> Anne and Eva . [SEP]"
      ],
      "text/plain": [
       "<IPython.core.display.HTML object>"
      ]
     },
     "metadata": {},
     "output_type": "display_data"
    },
    {
     "data": {
      "text/html": [
       "(87.392)  [CLS] On 8 December 1962 , the T/N/K/U staged an ins/ur/re/ction<span style=\"background-color: grey;\"> —</span> the Brunei Rev/olt . [SEP]"
      ],
      "text/plain": [
       "<IPython.core.display.HTML object>"
      ]
     },
     "metadata": {},
     "output_type": "display_data"
    },
    {
     "data": {
      "text/html": [
       "(87.647)  [CLS] He believes “ all lives matter ” and<span style=\"background-color: lightblue;\"> “</span> white lives matter , ” and supported Barack Obama citizenship conspiracy theories . [SEP]"
      ],
      "text/plain": [
       "<IPython.core.display.HTML object>"
      ]
     },
     "metadata": {},
     "output_type": "display_data"
    },
    {
     "data": {
      "text/html": [
       "(87.666)  [CLS] See Mei/ssel<span style=\"background-color: lightblue;\"> –</span> Me/rten/s constant . [SEP]"
      ],
      "text/plain": [
       "<IPython.core.display.HTML object>"
      ]
     },
     "metadata": {},
     "output_type": "display_data"
    },
    {
     "data": {
      "text/html": [
       "(89.430)  [CLS] He has also described the visual style as being a \" very clear - cut cartoon style \"<span style=\"background-color: grey;\"> —</span> something at odds with his preferred general style . [SEP]"
      ],
      "text/plain": [
       "<IPython.core.display.HTML object>"
      ]
     },
     "metadata": {},
     "output_type": "display_data"
    },
    {
     "data": {
      "text/html": [
       "(90.238)  [CLS] In 2013 , Co/S/ign was named<span style=\"background-color: grey;\"> “</span> the strongest digital signature solution ” in the 2013 report . [SEP]"
      ],
      "text/plain": [
       "<IPython.core.display.HTML object>"
      ]
     },
     "metadata": {},
     "output_type": "display_data"
    },
    {
     "data": {
      "text/html": [
       "(90.641)  [CLS] Number of caps , players ' club teams and players ' age as of 1 March 2012<span style=\"background-color: grey;\"> –</span> the tournament ' s opening day . [SEP]"
      ],
      "text/plain": [
       "<IPython.core.display.HTML object>"
      ]
     },
     "metadata": {},
     "output_type": "display_data"
    },
    {
     "data": {
      "text/html": [
       "(91.607)  [CLS] The most important tool in this graphical extension is the 3 - D graphical type<span style=\"background-color: grey;\"> —</span> the figure type . [SEP]"
      ],
      "text/plain": [
       "<IPython.core.display.HTML object>"
      ]
     },
     "metadata": {},
     "output_type": "display_data"
    },
    {
     "data": {
      "text/html": [
       "(92.213)  [CLS] He believes<span style=\"background-color: lightblue;\"> “</span> all lives matter ” and “ white lives matter , ” and supported Barack Obama citizenship conspiracy theories . [SEP]"
      ],
      "text/plain": [
       "<IPython.core.display.HTML object>"
      ]
     },
     "metadata": {},
     "output_type": "display_data"
    },
    {
     "data": {
      "text/html": [
       "(92.454)  [CLS] In the Q/uay/s<span style=\"background-color: grey;\"> ’</span> adapt/ion he is lord over an isolated kingdom where he is the sole den/ize/n . [SEP]"
      ],
      "text/plain": [
       "<IPython.core.display.HTML object>"
      ]
     },
     "metadata": {},
     "output_type": "display_data"
    },
    {
     "data": {
      "text/html": [
       "(94.165)  [CLS] They finished the season 9<span style=\"background-color: lightblue;\"> –</span> 3 overall . [SEP]"
      ],
      "text/plain": [
       "<IPython.core.display.HTML object>"
      ]
     },
     "metadata": {},
     "output_type": "display_data"
    },
    {
     "data": {
      "text/html": [
       "(94.281)  [CLS] When it was proposed and adopted , no one protested that there already was a Thirteen/th Amendment<span style=\"background-color: lightblue;\"> –</span> either the 1810 or the 1861 proposals . [SEP]"
      ],
      "text/plain": [
       "<IPython.core.display.HTML object>"
      ]
     },
     "metadata": {},
     "output_type": "display_data"
    },
    {
     "data": {
      "text/html": [
       "(95.087)  [CLS] “ Knowledge organization in Italy<span style=\"background-color: lightblue;\"> ”</span> . [SEP]"
      ],
      "text/plain": [
       "<IPython.core.display.HTML object>"
      ]
     },
     "metadata": {},
     "output_type": "display_data"
    },
    {
     "data": {
      "text/html": [
       "(95.298)  [CLS] Denmark – Norway relations Denmark<span style=\"background-color: lightblue;\"> –</span> Norway relations are foreign relations between Denmark and Norway . [SEP]"
      ],
      "text/plain": [
       "<IPython.core.display.HTML object>"
      ]
     },
     "metadata": {},
     "output_type": "display_data"
    },
    {
     "data": {
      "text/html": [
       "(95.794)  [CLS] The famous Sa/rug/ak/yo/u hot springs are located adjacent to the lake created by the dam<span style=\"background-color: grey;\"> —</span> A/kaya Lake . [SEP]"
      ],
      "text/plain": [
       "<IPython.core.display.HTML object>"
      ]
     },
     "metadata": {},
     "output_type": "display_data"
    },
    {
     "data": {
      "text/html": [
       "(96.027)  [CLS] The Al - Sal/am<span style=\"background-color: lightblue;\"> –</span> Carl/itz polynomial/s are given in terms of basic h/yper/ge/ometric functions by [SEP]"
      ],
      "text/plain": [
       "<IPython.core.display.HTML object>"
      ]
     },
     "metadata": {},
     "output_type": "display_data"
    },
    {
     "data": {
      "text/html": [
       "(191.326)  [CLS] Later that day ,<span style=\"background-color: limegreen;\"> he</span> caught her eye . [SEP]"
      ],
      "text/plain": [
       "<IPython.core.display.HTML object>"
      ]
     },
     "metadata": {},
     "output_type": "display_data"
    },
    {
     "data": {
      "text/html": [
       "(202.424)  [CLS] Later that day , he caught<span style=\"background-color: limegreen;\"> her</span> eye . [SEP]"
      ],
      "text/plain": [
       "<IPython.core.display.HTML object>"
      ]
     },
     "metadata": {},
     "output_type": "display_data"
    },
    {
     "data": {
      "text/html": [
       "(207.087)  [CLS] Later that day , he<span style=\"background-color: limegreen;\"> caught</span> her eye . [SEP]"
      ],
      "text/plain": [
       "<IPython.core.display.HTML object>"
      ]
     },
     "metadata": {},
     "output_type": "display_data"
    },
    {
     "data": {
      "text/html": [
       "(231.217)  [CLS] Later that<span style=\"background-color: limegreen;\"> day</span> , he caught her eye . [SEP]"
      ],
      "text/plain": [
       "<IPython.core.display.HTML object>"
      ]
     },
     "metadata": {},
     "output_type": "display_data"
    },
    {
     "data": {
      "text/html": [
       "(248.206)  [CLS] Later that day , he caught her<span style=\"background-color: limegreen;\"> eye</span> . [SEP]"
      ],
      "text/plain": [
       "<IPython.core.display.HTML object>"
      ]
     },
     "metadata": {},
     "output_type": "display_data"
    },
    {
     "name": "stdout",
     "output_type": "stream",
     "text": [
      ".\n",
      ".\n",
      ".\n"
     ]
    },
    {
     "data": {
      "text/html": [
       "Layer arr_4"
      ],
      "text/plain": [
       "<IPython.core.display.HTML object>"
      ]
     },
     "metadata": {},
     "output_type": "display_data"
    },
    {
     "data": {
      "text/html": [
       "<span style=\"background-color: rgba(254,0,0,1); font-size: 10pt;\"> [CLS] </span><span style=\"background-color: rgba(0,180,180,1); font-size: 10pt;\"> Later </span><span style=\"background-color: rgba(0,227,114,1); font-size: 10pt;\"> that </span><span style=\"background-color: rgba(173,186,0,1); font-size: 10pt;\"> day </span><span style=\"background-color: rgba(59,0,247,1); font-size: 10pt;\"> , </span><span style=\"background-color: rgba(173,0,186,1); font-size: 10pt;\"> he </span><span style=\"background-color: rgba(204,0,152,1); font-size: 10pt;\"> [MASK] </span><span style=\"background-color: rgba(0,114,227,1); font-size: 10pt;\"> her </span><span style=\"background-color: rgba(61,247,0,1); font-size: 10pt;\"> eye </span><span style=\"background-color: rgba(237,11,92,1); font-size: 10pt;\"> . </span><span style=\"background-color: rgba(204,152,0,1); font-size: 10pt;\"> [SEP] </span>"
      ],
      "text/plain": [
       "<IPython.core.display.HTML object>"
      ]
     },
     "metadata": {},
     "output_type": "display_data"
    },
    {
     "data": {
      "text/html": [
       " [CLS] Later that day , he<span style=\"background-color: lightpink;\"> [MASK]</span> her eye . [SEP]"
      ],
      "text/plain": [
       "<IPython.core.display.HTML object>"
      ]
     },
     "metadata": {},
     "output_type": "display_data"
    },
    {
     "data": {
      "text/html": [
       "(77.266)  [CLS] George Davis<span style=\"background-color: grey;\"> –</span> the main antagonist of the story . [SEP]"
      ],
      "text/plain": [
       "<IPython.core.display.HTML object>"
      ]
     },
     "metadata": {},
     "output_type": "display_data"
    },
    {
     "data": {
      "text/html": [
       "(82.502)  [CLS] Two Can/avan/s died in 1912 during the \" Titanic \" disaster — Patrick Can/avan and Mary Can/avan<span style=\"background-color: grey;\"> —</span> both of County Mayo . [SEP]"
      ],
      "text/plain": [
       "<IPython.core.display.HTML object>"
      ]
     },
     "metadata": {},
     "output_type": "display_data"
    },
    {
     "data": {
      "text/html": [
       "(95.759)  [CLS] Sam Clay also wants to escape from himself<span style=\"background-color: lightblue;\"> –</span> both his p/olio - stricken body and re/pressed homosexuality . [SEP]"
      ],
      "text/plain": [
       "<IPython.core.display.HTML object>"
      ]
     },
     "metadata": {},
     "output_type": "display_data"
    },
    {
     "data": {
      "text/html": [
       "(96.158)  [CLS] Natasha leaves her parents ' home and runs away with Al/yo/sha ( prince Alex/ey )<span style=\"background-color: grey;\"> –</span> the son of Prince Val/kov/sky . [SEP]"
      ],
      "text/plain": [
       "<IPython.core.display.HTML object>"
      ]
     },
     "metadata": {},
     "output_type": "display_data"
    },
    {
     "data": {
      "text/html": [
       "(96.967)  [CLS] He has also described the visual style as being a \" very clear - cut cartoon style \"<span style=\"background-color: grey;\"> —</span> something at odds with his preferred general style . [SEP]"
      ],
      "text/plain": [
       "<IPython.core.display.HTML object>"
      ]
     },
     "metadata": {},
     "output_type": "display_data"
    },
    {
     "data": {
      "text/html": [
       "(99.082)  [CLS] When it was proposed and adopted , no one protested that there already was a Thirteen/th Amendment<span style=\"background-color: grey;\"> –</span> either the 1810 or the 1861 proposals . [SEP]"
      ],
      "text/plain": [
       "<IPython.core.display.HTML object>"
      ]
     },
     "metadata": {},
     "output_type": "display_data"
    },
    {
     "data": {
      "text/html": [
       "(99.888)  [CLS] The series also features Broadway<span style=\"background-color: lightblue;\"> –</span> inspired songs . [SEP]"
      ],
      "text/plain": [
       "<IPython.core.display.HTML object>"
      ]
     },
     "metadata": {},
     "output_type": "display_data"
    },
    {
     "data": {
      "text/html": [
       "(100.364)  [CLS] In 2013 , Co/S/ign was named<span style=\"background-color: grey;\"> “</span> the strongest digital signature solution ” in the 2013 report . [SEP]"
      ],
      "text/plain": [
       "<IPython.core.display.HTML object>"
      ]
     },
     "metadata": {},
     "output_type": "display_data"
    },
    {
     "data": {
      "text/html": [
       "(100.609)  [CLS] Gil/son also wrote the monthly<span style=\"background-color: lightblue;\"> “</span> Good/s ” column and other articles for \" Chicago magazine \" for ten years . [SEP]"
      ],
      "text/plain": [
       "<IPython.core.display.HTML object>"
      ]
     },
     "metadata": {},
     "output_type": "display_data"
    },
    {
     "data": {
      "text/html": [
       "(101.021)  [CLS] He believes “ all lives matter ” and<span style=\"background-color: grey;\"> “</span> white lives matter , ” and supported Barack Obama citizenship conspiracy theories . [SEP]"
      ],
      "text/plain": [
       "<IPython.core.display.HTML object>"
      ]
     },
     "metadata": {},
     "output_type": "display_data"
    },
    {
     "data": {
      "text/html": [
       "(101.068)  [CLS] In the Q/uay/s<span style=\"background-color: grey;\"> ’</span> adapt/ion he is lord over an isolated kingdom where he is the sole den/ize/n . [SEP]"
      ],
      "text/plain": [
       "<IPython.core.display.HTML object>"
      ]
     },
     "metadata": {},
     "output_type": "display_data"
    },
    {
     "data": {
      "text/html": [
       "(101.488)  [CLS] He was born in San Francisco , California<span style=\"background-color: grey;\"> –</span> the son of two tournament bridge players – and lived in the Bay Area until his death . [SEP]"
      ],
      "text/plain": [
       "<IPython.core.display.HTML object>"
      ]
     },
     "metadata": {},
     "output_type": "display_data"
    },
    {
     "data": {
      "text/html": [
       "(101.572)  [CLS] The famous Sa/rug/ak/yo/u hot springs are located adjacent to the lake created by the dam<span style=\"background-color: grey;\"> —</span> A/kaya Lake . [SEP]"
      ],
      "text/plain": [
       "<IPython.core.display.HTML object>"
      ]
     },
     "metadata": {},
     "output_type": "display_data"
    },
    {
     "data": {
      "text/html": [
       "(101.599)  [CLS] On 8 December 1962 , the T/N/K/U staged an ins/ur/re/ction<span style=\"background-color: grey;\"> —</span> the Brunei Rev/olt . [SEP]"
      ],
      "text/plain": [
       "<IPython.core.display.HTML object>"
      ]
     },
     "metadata": {},
     "output_type": "display_data"
    },
    {
     "data": {
      "text/html": [
       "(102.100)  [CLS] Number of caps , players ' club teams and players ' age as of 1 March 2012<span style=\"background-color: grey;\"> –</span> the tournament ' s opening day . [SEP]"
      ],
      "text/plain": [
       "<IPython.core.display.HTML object>"
      ]
     },
     "metadata": {},
     "output_type": "display_data"
    },
    {
     "data": {
      "text/html": [
       "(102.695)  [CLS] Denmark – Norway relations Denmark<span style=\"background-color: grey;\"> –</span> Norway relations are foreign relations between Denmark and Norway . [SEP]"
      ],
      "text/plain": [
       "<IPython.core.display.HTML object>"
      ]
     },
     "metadata": {},
     "output_type": "display_data"
    },
    {
     "data": {
      "text/html": [
       "(103.311)  [CLS] Pat/i – Sal/am is a mainstream theory and a viable alternative to the Georg/i<span style=\"background-color: grey;\"> –</span> G/lash/ow unification . [SEP]"
      ],
      "text/plain": [
       "<IPython.core.display.HTML object>"
      ]
     },
     "metadata": {},
     "output_type": "display_data"
    },
    {
     "data": {
      "text/html": [
       "(103.502)  [CLS] Cool/idge – Rising House The Cool/idge<span style=\"background-color: lightblue;\"> –</span> Rising House is a house in Spokane , Washington , United States . [SEP]"
      ],
      "text/plain": [
       "<IPython.core.display.HTML object>"
      ]
     },
     "metadata": {},
     "output_type": "display_data"
    },
    {
     "data": {
      "text/html": [
       "(104.246)  [CLS] Pat/i<span style=\"background-color: lightblue;\"> –</span> Sal/am is a mainstream theory and a viable alternative to the Georg/i – G/lash/ow unification . [SEP]"
      ],
      "text/plain": [
       "<IPython.core.display.HTML object>"
      ]
     },
     "metadata": {},
     "output_type": "display_data"
    },
    {
     "data": {
      "text/html": [
       "(104.495)  [CLS] Thus , many residents of the planet are like Murphy<span style=\"background-color: lightblue;\"> —</span> reluctant alien immigrants . [SEP]"
      ],
      "text/plain": [
       "<IPython.core.display.HTML object>"
      ]
     },
     "metadata": {},
     "output_type": "display_data"
    },
    {
     "data": {
      "text/html": [
       "(178.254)  [CLS] Later that day ,<span style=\"background-color: limegreen;\"> he</span> caught her eye . [SEP]"
      ],
      "text/plain": [
       "<IPython.core.display.HTML object>"
      ]
     },
     "metadata": {},
     "output_type": "display_data"
    },
    {
     "data": {
      "text/html": [
       "(187.099)  [CLS] Later that day , he<span style=\"background-color: limegreen;\"> caught</span> her eye . [SEP]"
      ],
      "text/plain": [
       "<IPython.core.display.HTML object>"
      ]
     },
     "metadata": {},
     "output_type": "display_data"
    },
    {
     "data": {
      "text/html": [
       "(187.592)  [CLS] Later that day , he caught<span style=\"background-color: limegreen;\"> her</span> eye . [SEP]"
      ],
      "text/plain": [
       "<IPython.core.display.HTML object>"
      ]
     },
     "metadata": {},
     "output_type": "display_data"
    },
    {
     "data": {
      "text/html": [
       "(219.860)  [CLS] Later that<span style=\"background-color: limegreen;\"> day</span> , he caught her eye . [SEP]"
      ],
      "text/plain": [
       "<IPython.core.display.HTML object>"
      ]
     },
     "metadata": {},
     "output_type": "display_data"
    },
    {
     "data": {
      "text/html": [
       "(241.056)  [CLS] Later that day , he caught her<span style=\"background-color: limegreen;\"> eye</span> . [SEP]"
      ],
      "text/plain": [
       "<IPython.core.display.HTML object>"
      ]
     },
     "metadata": {},
     "output_type": "display_data"
    },
    {
     "name": "stdout",
     "output_type": "stream",
     "text": [
      ".\n",
      ".\n",
      ".\n"
     ]
    },
    {
     "data": {
      "text/html": [
       "Layer arr_5"
      ],
      "text/plain": [
       "<IPython.core.display.HTML object>"
      ]
     },
     "metadata": {},
     "output_type": "display_data"
    },
    {
     "data": {
      "text/html": [
       "<span style=\"background-color: rgba(0,114,227,1); font-size: 10pt;\"> [CLS] </span><span style=\"background-color: rgba(0,227,114,1); font-size: 10pt;\"> Later </span><span style=\"background-color: rgba(173,186,0,1); font-size: 10pt;\"> that </span><span style=\"background-color: rgba(0,180,180,1); font-size: 10pt;\"> day </span><span style=\"background-color: rgba(204,0,152,1); font-size: 10pt;\"> , </span><span style=\"background-color: rgba(173,0,186,1); font-size: 10pt;\"> he </span><span style=\"background-color: rgba(254,0,0,1); font-size: 10pt;\"> [MASK] </span><span style=\"background-color: rgba(59,0,247,1); font-size: 10pt;\"> her </span><span style=\"background-color: rgba(62,247,0,1); font-size: 10pt;\"> eye </span><span style=\"background-color: rgba(89,98,217,1); font-size: 10pt;\"> . </span><span style=\"background-color: rgba(204,152,0,1); font-size: 10pt;\"> [SEP] </span>"
      ],
      "text/plain": [
       "<IPython.core.display.HTML object>"
      ]
     },
     "metadata": {},
     "output_type": "display_data"
    },
    {
     "data": {
      "text/html": [
       " [CLS] Later that day , he<span style=\"background-color: lightpink;\"> [MASK]</span> her eye . [SEP]"
      ],
      "text/plain": [
       "<IPython.core.display.HTML object>"
      ]
     },
     "metadata": {},
     "output_type": "display_data"
    },
    {
     "data": {
      "text/html": [
       "(82.521)  [CLS] Two Can/avan/s died in 1912 during the \" Titanic \" disaster — Patrick Can/avan and Mary Can/avan<span style=\"background-color: grey;\"> —</span> both of County Mayo . [SEP]"
      ],
      "text/plain": [
       "<IPython.core.display.HTML object>"
      ]
     },
     "metadata": {},
     "output_type": "display_data"
    },
    {
     "data": {
      "text/html": [
       "(86.779)  [CLS] Sam Clay also wants to escape from himself<span style=\"background-color: grey;\"> –</span> both his p/olio - stricken body and re/pressed homosexuality . [SEP]"
      ],
      "text/plain": [
       "<IPython.core.display.HTML object>"
      ]
     },
     "metadata": {},
     "output_type": "display_data"
    },
    {
     "data": {
      "text/html": [
       "(91.097)  [CLS] George Davis<span style=\"background-color: grey;\"> –</span> the main antagonist of the story . [SEP]"
      ],
      "text/plain": [
       "<IPython.core.display.HTML object>"
      ]
     },
     "metadata": {},
     "output_type": "display_data"
    },
    {
     "data": {
      "text/html": [
       "(94.469)  [CLS] Number of caps , players ' club teams and players ' age as of 1 March 2012<span style=\"background-color: grey;\"> –</span> the tournament ' s opening day . [SEP]"
      ],
      "text/plain": [
       "<IPython.core.display.HTML object>"
      ]
     },
     "metadata": {},
     "output_type": "display_data"
    },
    {
     "data": {
      "text/html": [
       "(94.972)  [CLS] When it was proposed and adopted , no one protested that there already was a Thirteen/th Amendment<span style=\"background-color: grey;\"> –</span> either the 1810 or the 1861 proposals . [SEP]"
      ],
      "text/plain": [
       "<IPython.core.display.HTML object>"
      ]
     },
     "metadata": {},
     "output_type": "display_data"
    },
    {
     "data": {
      "text/html": [
       "(95.454)  [CLS] On 8 December 1962 , the T/N/K/U staged an ins/ur/re/ction<span style=\"background-color: grey;\"> —</span> the Brunei Rev/olt . [SEP]"
      ],
      "text/plain": [
       "<IPython.core.display.HTML object>"
      ]
     },
     "metadata": {},
     "output_type": "display_data"
    },
    {
     "data": {
      "text/html": [
       "(95.742)  [CLS] He believes “ all lives matter ” and<span style=\"background-color: grey;\"> “</span> white lives matter , ” and supported Barack Obama citizenship conspiracy theories . [SEP]"
      ],
      "text/plain": [
       "<IPython.core.display.HTML object>"
      ]
     },
     "metadata": {},
     "output_type": "display_data"
    },
    {
     "data": {
      "text/html": [
       "(95.751)  [CLS] The famous Sa/rug/ak/yo/u hot springs are located adjacent to the lake created by the dam<span style=\"background-color: grey;\"> —</span> A/kaya Lake . [SEP]"
      ],
      "text/plain": [
       "<IPython.core.display.HTML object>"
      ]
     },
     "metadata": {},
     "output_type": "display_data"
    },
    {
     "data": {
      "text/html": [
       "(96.343)  [CLS] He has also described the visual style as being a \" very clear - cut cartoon style \"<span style=\"background-color: grey;\"> —</span> something at odds with his preferred general style . [SEP]"
      ],
      "text/plain": [
       "<IPython.core.display.HTML object>"
      ]
     },
     "metadata": {},
     "output_type": "display_data"
    },
    {
     "data": {
      "text/html": [
       "(96.600)  [CLS] Thus , many residents of the planet are like Murphy<span style=\"background-color: grey;\"> —</span> reluctant alien immigrants . [SEP]"
      ],
      "text/plain": [
       "<IPython.core.display.HTML object>"
      ]
     },
     "metadata": {},
     "output_type": "display_data"
    },
    {
     "data": {
      "text/html": [
       "(96.615)  [CLS] The series also features Broadway<span style=\"background-color: grey;\"> –</span> inspired songs . [SEP]"
      ],
      "text/plain": [
       "<IPython.core.display.HTML object>"
      ]
     },
     "metadata": {},
     "output_type": "display_data"
    },
    {
     "data": {
      "text/html": [
       "(96.836)  [CLS] Natasha leaves her parents ' home and runs away with Al/yo/sha ( prince Alex/ey )<span style=\"background-color: grey;\"> –</span> the son of Prince Val/kov/sky . [SEP]"
      ],
      "text/plain": [
       "<IPython.core.display.HTML object>"
      ]
     },
     "metadata": {},
     "output_type": "display_data"
    },
    {
     "data": {
      "text/html": [
       "(97.993)  [CLS] The most important tool in this graphical extension is the 3 - D graphical type<span style=\"background-color: grey;\"> —</span> the figure type . [SEP]"
      ],
      "text/plain": [
       "<IPython.core.display.HTML object>"
      ]
     },
     "metadata": {},
     "output_type": "display_data"
    },
    {
     "data": {
      "text/html": [
       "(98.626)  [CLS] In 2013 , Co/S/ign was named<span style=\"background-color: grey;\"> “</span> the strongest digital signature solution ” in the 2013 report . [SEP]"
      ],
      "text/plain": [
       "<IPython.core.display.HTML object>"
      ]
     },
     "metadata": {},
     "output_type": "display_data"
    },
    {
     "data": {
      "text/html": [
       "(99.199)  [CLS] At ' W ' Hour<span style=\"background-color: lightblue;\"> –</span> 5 : 00 PM – total mob/ilization reached 60 % . [SEP]"
      ],
      "text/plain": [
       "<IPython.core.display.HTML object>"
      ]
     },
     "metadata": {},
     "output_type": "display_data"
    },
    {
     "data": {
      "text/html": [
       "(99.720)  [CLS] Central principles of electronics also therefore became central features of the energy systems language<span style=\"background-color: lightblue;\"> –</span> O/du/m ' s generic symbol/ism . [SEP]"
      ],
      "text/plain": [
       "<IPython.core.display.HTML object>"
      ]
     },
     "metadata": {},
     "output_type": "display_data"
    },
    {
     "data": {
      "text/html": [
       "(100.289)  [CLS] Pope Pius spent the last eight years of his long p/ont/ific/ate<span style=\"background-color: lightblue;\"> –</span> the longest in Church history – as prisoner of the Vatican . [SEP]"
      ],
      "text/plain": [
       "<IPython.core.display.HTML object>"
      ]
     },
     "metadata": {},
     "output_type": "display_data"
    },
    {
     "data": {
      "text/html": [
       "(100.327)  [CLS] We talked about what close friends talk about when there are no issues between them … struggles with their writing , with their wives<span style=\"background-color: lightblue;\"> …</span> . \" [SEP]"
      ],
      "text/plain": [
       "<IPython.core.display.HTML object>"
      ]
     },
     "metadata": {},
     "output_type": "display_data"
    },
    {
     "data": {
      "text/html": [
       "(100.339)  [CLS] Sir George smiled and replied , “ I have been nearer to you , friend , when you missed me<span style=\"background-color: lightblue;\"> ”</span> . [SEP]"
      ],
      "text/plain": [
       "<IPython.core.display.HTML object>"
      ]
     },
     "metadata": {},
     "output_type": "display_data"
    },
    {
     "data": {
      "text/html": [
       "(100.607)  [CLS] In the Q/uay/s<span style=\"background-color: grey;\"> ’</span> adapt/ion he is lord over an isolated kingdom where he is the sole den/ize/n . [SEP]"
      ],
      "text/plain": [
       "<IPython.core.display.HTML object>"
      ]
     },
     "metadata": {},
     "output_type": "display_data"
    },
    {
     "data": {
      "text/html": [
       "(169.457)  [CLS] Later that day ,<span style=\"background-color: limegreen;\"> he</span> caught her eye . [SEP]"
      ],
      "text/plain": [
       "<IPython.core.display.HTML object>"
      ]
     },
     "metadata": {},
     "output_type": "display_data"
    },
    {
     "data": {
      "text/html": [
       "(169.509)  [CLS] Later that day , he<span style=\"background-color: limegreen;\"> caught</span> her eye . [SEP]"
      ],
      "text/plain": [
       "<IPython.core.display.HTML object>"
      ]
     },
     "metadata": {},
     "output_type": "display_data"
    },
    {
     "data": {
      "text/html": [
       "(172.017)  [CLS] Later that day , he caught<span style=\"background-color: limegreen;\"> her</span> eye . [SEP]"
      ],
      "text/plain": [
       "<IPython.core.display.HTML object>"
      ]
     },
     "metadata": {},
     "output_type": "display_data"
    },
    {
     "data": {
      "text/html": [
       "(206.917)  [CLS] Later that<span style=\"background-color: limegreen;\"> day</span> , he caught her eye . [SEP]"
      ],
      "text/plain": [
       "<IPython.core.display.HTML object>"
      ]
     },
     "metadata": {},
     "output_type": "display_data"
    },
    {
     "data": {
      "text/html": [
       "(232.001)  [CLS] Later that day , he caught her<span style=\"background-color: limegreen;\"> eye</span> . [SEP]"
      ],
      "text/plain": [
       "<IPython.core.display.HTML object>"
      ]
     },
     "metadata": {},
     "output_type": "display_data"
    },
    {
     "name": "stdout",
     "output_type": "stream",
     "text": [
      ".\n",
      ".\n",
      ".\n"
     ]
    },
    {
     "data": {
      "text/html": [
       "Layer arr_6"
      ],
      "text/plain": [
       "<IPython.core.display.HTML object>"
      ]
     },
     "metadata": {},
     "output_type": "display_data"
    },
    {
     "data": {
      "text/html": [
       "<span style=\"background-color: rgba(3,181,178,1); font-size: 10pt;\"> [CLS] </span><span style=\"background-color: rgba(174,186,0,1); font-size: 10pt;\"> Later </span><span style=\"background-color: rgba(59,0,247,1); font-size: 10pt;\"> that </span><span style=\"background-color: rgba(3,116,227,1); font-size: 10pt;\"> day </span><span style=\"background-color: rgba(239,24,84,1); font-size: 10pt;\"> , </span><span style=\"background-color: rgba(174,0,186,1); font-size: 10pt;\"> he </span><span style=\"background-color: rgba(248,48,33,1); font-size: 10pt;\"> [MASK] </span><span style=\"background-color: rgba(0,227,114,1); font-size: 10pt;\"> her </span><span style=\"background-color: rgba(59,247,0,1); font-size: 10pt;\"> eye </span><span style=\"background-color: rgba(204,0,152,1); font-size: 10pt;\"> . </span><span style=\"background-color: rgba(204,152,0,1); font-size: 10pt;\"> [SEP] </span>"
      ],
      "text/plain": [
       "<IPython.core.display.HTML object>"
      ]
     },
     "metadata": {},
     "output_type": "display_data"
    },
    {
     "data": {
      "text/html": [
       " [CLS] Later that day , he<span style=\"background-color: lightpink;\"> [MASK]</span> her eye . [SEP]"
      ],
      "text/plain": [
       "<IPython.core.display.HTML object>"
      ]
     },
     "metadata": {},
     "output_type": "display_data"
    },
    {
     "data": {
      "text/html": [
       "(89.386)  [CLS] George Davis<span style=\"background-color: grey;\"> –</span> the main antagonist of the story . [SEP]"
      ],
      "text/plain": [
       "<IPython.core.display.HTML object>"
      ]
     },
     "metadata": {},
     "output_type": "display_data"
    },
    {
     "data": {
      "text/html": [
       "(95.365)  [CLS] Two Can/avan/s died in 1912 during the \" Titanic \" disaster — Patrick Can/avan and Mary Can/avan<span style=\"background-color: grey;\"> —</span> both of County Mayo . [SEP]"
      ],
      "text/plain": [
       "<IPython.core.display.HTML object>"
      ]
     },
     "metadata": {},
     "output_type": "display_data"
    },
    {
     "data": {
      "text/html": [
       "(102.514)  [CLS] Sam Clay also wants to escape from himself<span style=\"background-color: grey;\"> –</span> both his p/olio - stricken body and re/pressed homosexuality . [SEP]"
      ],
      "text/plain": [
       "<IPython.core.display.HTML object>"
      ]
     },
     "metadata": {},
     "output_type": "display_data"
    },
    {
     "data": {
      "text/html": [
       "(104.361)  [CLS] When it was proposed and adopted , no one protested that there already was a Thirteen/th Amendment<span style=\"background-color: grey;\"> –</span> either the 1810 or the 1861 proposals . [SEP]"
      ],
      "text/plain": [
       "<IPython.core.display.HTML object>"
      ]
     },
     "metadata": {},
     "output_type": "display_data"
    },
    {
     "data": {
      "text/html": [
       "(105.777)  [CLS] Now the voice is serving the lyrics and vice versa<span style=\"background-color: grey;\"> —</span> the songs have got both form and content . \" [SEP]"
      ],
      "text/plain": [
       "<IPython.core.display.HTML object>"
      ]
     },
     "metadata": {},
     "output_type": "display_data"
    },
    {
     "data": {
      "text/html": [
       "(106.039)  [CLS] The famous Sa/rug/ak/yo/u hot springs are located adjacent to the lake created by the dam<span style=\"background-color: grey;\"> —</span> A/kaya Lake . [SEP]"
      ],
      "text/plain": [
       "<IPython.core.display.HTML object>"
      ]
     },
     "metadata": {},
     "output_type": "display_data"
    },
    {
     "data": {
      "text/html": [
       "(106.390)  [CLS] Number of caps , players ' club teams and players ' age as of 1 March 2012<span style=\"background-color: grey;\"> –</span> the tournament ' s opening day . [SEP]"
      ],
      "text/plain": [
       "<IPython.core.display.HTML object>"
      ]
     },
     "metadata": {},
     "output_type": "display_data"
    },
    {
     "data": {
      "text/html": [
       "(106.628)  [CLS] A report about ‘ Education for International understanding<span style=\"background-color: grey;\"> ’</span> , appeared in 1954 , and inspired the UNESCO Re/com/men/dation of 1974 . [SEP]"
      ],
      "text/plain": [
       "<IPython.core.display.HTML object>"
      ]
     },
     "metadata": {},
     "output_type": "display_data"
    },
    {
     "data": {
      "text/html": [
       "(106.893)  [CLS] The most important tool in this graphical extension is the 3 - D graphical type<span style=\"background-color: grey;\"> —</span> the figure type . [SEP]"
      ],
      "text/plain": [
       "<IPython.core.display.HTML object>"
      ]
     },
     "metadata": {},
     "output_type": "display_data"
    },
    {
     "data": {
      "text/html": [
       "(106.946)  [CLS] Central principles of electronics also therefore became central features of the energy systems language<span style=\"background-color: grey;\"> –</span> O/du/m ' s generic symbol/ism . [SEP]"
      ],
      "text/plain": [
       "<IPython.core.display.HTML object>"
      ]
     },
     "metadata": {},
     "output_type": "display_data"
    },
    {
     "data": {
      "text/html": [
       "(107.923)  [CLS] He has also described the visual style as being a \" very clear - cut cartoon style \"<span style=\"background-color: grey;\"> —</span> something at odds with his preferred general style . [SEP]"
      ],
      "text/plain": [
       "<IPython.core.display.HTML object>"
      ]
     },
     "metadata": {},
     "output_type": "display_data"
    },
    {
     "data": {
      "text/html": [
       "(108.050)  [CLS] The “ translation<span style=\"background-color: lightblue;\"> ”</span> that we read is to be understood as a back - translation into English of what Ra/nso/m said in Old Solar . [SEP]"
      ],
      "text/plain": [
       "<IPython.core.display.HTML object>"
      ]
     },
     "metadata": {},
     "output_type": "display_data"
    },
    {
     "data": {
      "text/html": [
       "(109.326)  [CLS] Natasha leaves her parents ' home and runs away with Al/yo/sha ( prince Alex/ey )<span style=\"background-color: grey;\"> –</span> the son of Prince Val/kov/sky . [SEP]"
      ],
      "text/plain": [
       "<IPython.core.display.HTML object>"
      ]
     },
     "metadata": {},
     "output_type": "display_data"
    },
    {
     "data": {
      "text/html": [
       "(109.373)  [CLS] On 8 December 1962 , the T/N/K/U staged an ins/ur/re/ction<span style=\"background-color: grey;\"> —</span> the Brunei Rev/olt . [SEP]"
      ],
      "text/plain": [
       "<IPython.core.display.HTML object>"
      ]
     },
     "metadata": {},
     "output_type": "display_data"
    },
    {
     "data": {
      "text/html": [
       "(109.683)  [CLS] The A/kka/dian Empire claimed to en/com/pass the surrounding , “ four corners of the world<span style=\"background-color: lightblue;\"> ”</span> . [SEP]"
      ],
      "text/plain": [
       "<IPython.core.display.HTML object>"
      ]
     },
     "metadata": {},
     "output_type": "display_data"
    },
    {
     "data": {
      "text/html": [
       "(109.956)  [CLS] General Kara/mat and General Z/inn/i were able to draw \" soldier – to<span style=\"background-color: lightblue;\"> –</span> soldier \" bond . [SEP]"
      ],
      "text/plain": [
       "<IPython.core.display.HTML object>"
      ]
     },
     "metadata": {},
     "output_type": "display_data"
    },
    {
     "data": {
      "text/html": [
       "(110.419)  [CLS] It plans to continue increasing by 10 % a year with<span style=\"background-color: lightblue;\"> “</span> marketing road shows ” in China , Russia and India . [SEP]"
      ],
      "text/plain": [
       "<IPython.core.display.HTML object>"
      ]
     },
     "metadata": {},
     "output_type": "display_data"
    },
    {
     "data": {
      "text/html": [
       "(110.584)  [CLS] Pope Pius spent the last eight years of his long p/ont/ific/ate – the longest in Church history<span style=\"background-color: lightblue;\"> –</span> as prisoner of the Vatican . [SEP]"
      ],
      "text/plain": [
       "<IPython.core.display.HTML object>"
      ]
     },
     "metadata": {},
     "output_type": "display_data"
    },
    {
     "data": {
      "text/html": [
       "(111.663)  [CLS] At ' W ' Hour<span style=\"background-color: grey;\"> –</span> 5 : 00 PM – total mob/ilization reached 60 % . [SEP]"
      ],
      "text/plain": [
       "<IPython.core.display.HTML object>"
      ]
     },
     "metadata": {},
     "output_type": "display_data"
    },
    {
     "data": {
      "text/html": [
       "(111.715)  [CLS] The book has pages ill/ust/rating and describing ingredients of the various areas of the world<span style=\"background-color: grey;\"> —</span> fish , meat , vegetables , fungi and fruit . [SEP]"
      ],
      "text/plain": [
       "<IPython.core.display.HTML object>"
      ]
     },
     "metadata": {},
     "output_type": "display_data"
    },
    {
     "data": {
      "text/html": [
       "(147.878)  [CLS] Later that day , he<span style=\"background-color: limegreen;\"> caught</span> her eye . [SEP]"
      ],
      "text/plain": [
       "<IPython.core.display.HTML object>"
      ]
     },
     "metadata": {},
     "output_type": "display_data"
    },
    {
     "data": {
      "text/html": [
       "(154.619)  [CLS] Later that day ,<span style=\"background-color: limegreen;\"> he</span> caught her eye . [SEP]"
      ],
      "text/plain": [
       "<IPython.core.display.HTML object>"
      ]
     },
     "metadata": {},
     "output_type": "display_data"
    },
    {
     "data": {
      "text/html": [
       "(172.877)  [CLS] Later that day , he caught<span style=\"background-color: limegreen;\"> her</span> eye . [SEP]"
      ],
      "text/plain": [
       "<IPython.core.display.HTML object>"
      ]
     },
     "metadata": {},
     "output_type": "display_data"
    },
    {
     "data": {
      "text/html": [
       "(199.663)  [CLS] Later that<span style=\"background-color: limegreen;\"> day</span> , he caught her eye . [SEP]"
      ],
      "text/plain": [
       "<IPython.core.display.HTML object>"
      ]
     },
     "metadata": {},
     "output_type": "display_data"
    },
    {
     "data": {
      "text/html": [
       "(225.554)  [CLS] Later that day , he caught her<span style=\"background-color: limegreen;\"> eye</span> . [SEP]"
      ],
      "text/plain": [
       "<IPython.core.display.HTML object>"
      ]
     },
     "metadata": {},
     "output_type": "display_data"
    },
    {
     "name": "stdout",
     "output_type": "stream",
     "text": [
      ".\n",
      ".\n",
      ".\n"
     ]
    },
    {
     "data": {
      "text/html": [
       "Layer arr_7"
      ],
      "text/plain": [
       "<IPython.core.display.HTML object>"
      ]
     },
     "metadata": {},
     "output_type": "display_data"
    },
    {
     "data": {
      "text/html": [
       "<span style=\"background-color: rgba(3,181,178,1); font-size: 10pt;\"> [CLS] </span><span style=\"background-color: rgba(60,0,247,1); font-size: 10pt;\"> Later </span><span style=\"background-color: rgba(173,186,0,1); font-size: 10pt;\"> that </span><span style=\"background-color: rgba(0,114,227,1); font-size: 10pt;\"> day </span><span style=\"background-color: rgba(249,36,34,1); font-size: 10pt;\"> , </span><span style=\"background-color: rgba(253,25,7,1); font-size: 10pt;\"> he </span><span style=\"background-color: rgba(174,1,185,1); font-size: 10pt;\"> [MASK] </span><span style=\"background-color: rgba(1,228,114,1); font-size: 10pt;\"> her </span><span style=\"background-color: rgba(61,247,0,1); font-size: 10pt;\"> eye </span><span style=\"background-color: rgba(204,1,151,1); font-size: 10pt;\"> . </span><span style=\"background-color: rgba(204,152,0,1); font-size: 10pt;\"> [SEP] </span>"
      ],
      "text/plain": [
       "<IPython.core.display.HTML object>"
      ]
     },
     "metadata": {},
     "output_type": "display_data"
    },
    {
     "data": {
      "text/html": [
       " [CLS] Later that day , he<span style=\"background-color: lightpink;\"> [MASK]</span> her eye . [SEP]"
      ],
      "text/plain": [
       "<IPython.core.display.HTML object>"
      ]
     },
     "metadata": {},
     "output_type": "display_data"
    },
    {
     "data": {
      "text/html": [
       "(121.739)  [CLS] \" I think the way you<span style=\"background-color: lightblue;\"> measure</span> my move is ' Was LSU better when I left than when I came in ? ' \" [SEP]"
      ],
      "text/plain": [
       "<IPython.core.display.HTML object>"
      ]
     },
     "metadata": {},
     "output_type": "display_data"
    },
    {
     "data": {
      "text/html": [
       "(130.399)  [CLS] Later that day , he<span style=\"background-color: limegreen;\"> caught</span> her eye . [SEP]"
      ],
      "text/plain": [
       "<IPython.core.display.HTML object>"
      ]
     },
     "metadata": {},
     "output_type": "display_data"
    },
    {
     "data": {
      "text/html": [
       "(137.504)  [CLS] After the Citadel is destroyed , St/un/ner<span style=\"background-color: lightblue;\"> spots</span> the ghost . [SEP]"
      ],
      "text/plain": [
       "<IPython.core.display.HTML object>"
      ]
     },
     "metadata": {},
     "output_type": "display_data"
    },
    {
     "data": {
      "text/html": [
       "(138.753)  [CLS] Next , Black will<span style=\"background-color: lightblue;\"> capture</span> White ' s side pawn ( 7 . [SEP]"
      ],
      "text/plain": [
       "<IPython.core.display.HTML object>"
      ]
     },
     "metadata": {},
     "output_type": "display_data"
    },
    {
     "data": {
      "text/html": [
       "(139.461)  [CLS] Central principles of electronics also therefore became central features of the energy systems language<span style=\"background-color: grey;\"> –</span> O/du/m ' s generic symbol/ism . [SEP]"
      ],
      "text/plain": [
       "<IPython.core.display.HTML object>"
      ]
     },
     "metadata": {},
     "output_type": "display_data"
    },
    {
     "data": {
      "text/html": [
       "(139.660)  [CLS] It was the latter of these that<span style=\"background-color: lightblue;\"> caught</span> the eye of McDonald herself . [SEP]"
      ],
      "text/plain": [
       "<IPython.core.display.HTML object>"
      ]
     },
     "metadata": {},
     "output_type": "display_data"
    },
    {
     "data": {
      "text/html": [
       "(139.963)  [CLS] The server<span style=\"background-color: lightblue;\"> kisses</span> the priest ' s hand and the Cross on the vest/ment , and then withdraw/s to vest . [SEP]"
      ],
      "text/plain": [
       "<IPython.core.display.HTML object>"
      ]
     },
     "metadata": {},
     "output_type": "display_data"
    },
    {
     "data": {
      "text/html": [
       "(141.992)  [CLS] On the bus ride to Texas , Rusty<span style=\"background-color: lightblue;\"> sees</span> a sign that reads \" Dallas 36/2 \" , the title of the film . [SEP]"
      ],
      "text/plain": [
       "<IPython.core.display.HTML object>"
      ]
     },
     "metadata": {},
     "output_type": "display_data"
    },
    {
     "data": {
      "text/html": [
       "(142.022)  [CLS] In 84/5 P/ep/in<span style=\"background-color: lightblue;\"> welcomed</span> Se/guin of Bordeaux who had defect/ed from the Emperor ' s side . [SEP]"
      ],
      "text/plain": [
       "<IPython.core.display.HTML object>"
      ]
     },
     "metadata": {},
     "output_type": "display_data"
    },
    {
     "data": {
      "text/html": [
       "(142.538)  [CLS] One evening , Pam<span style=\"background-color: lightblue;\"> finds</span> Jim dead in the bath/tub of their apartment . [SEP]"
      ],
      "text/plain": [
       "<IPython.core.display.HTML object>"
      ]
     },
     "metadata": {},
     "output_type": "display_data"
    },
    {
     "data": {
      "text/html": [
       "(143.215)  [CLS] With her uncle Thomas , she<span style=\"background-color: lightblue;\"> visited</span> her father in Mobile , where the two Tu/nst/all men took Virginia to the theatre and other events . [SEP]"
      ],
      "text/plain": [
       "<IPython.core.display.HTML object>"
      ]
     },
     "metadata": {},
     "output_type": "display_data"
    },
    {
     "data": {
      "text/html": [
       "(143.356)  [CLS] When he was introduced ,<span style=\"background-color: lightblue;\"> he</span> experienced symptoms suggesting bio/nic rejection and was due to be put to sleep . [SEP]"
      ],
      "text/plain": [
       "<IPython.core.display.HTML object>"
      ]
     },
     "metadata": {},
     "output_type": "display_data"
    },
    {
     "data": {
      "text/html": [
       "(144.953)  [CLS] Veronica<span style=\"background-color: lightblue;\"> visits</span> We/ev/il who says that he broke in to steal back a ring he gave to Lilly . [SEP]"
      ],
      "text/plain": [
       "<IPython.core.display.HTML object>"
      ]
     },
     "metadata": {},
     "output_type": "display_data"
    },
    {
     "data": {
      "text/html": [
       "(144.988)  [CLS] Jesse<span style=\"background-color: lightblue;\"> discovers</span> Sonny ' s true identity but before he can kill him , the backup arrives and sub/due/s Bai/ns . [SEP]"
      ],
      "text/plain": [
       "<IPython.core.display.HTML object>"
      ]
     },
     "metadata": {},
     "output_type": "display_data"
    },
    {
     "data": {
      "text/html": [
       "(145.401)  [CLS] When he was introduced , he<span style=\"background-color: lightblue;\"> experienced</span> symptoms suggesting bio/nic rejection and was due to be put to sleep . [SEP]"
      ],
      "text/plain": [
       "<IPython.core.display.HTML object>"
      ]
     },
     "metadata": {},
     "output_type": "display_data"
    },
    {
     "data": {
      "text/html": [
       "(145.425)  [CLS] George Davis<span style=\"background-color: grey;\"> –</span> the main antagonist of the story . [SEP]"
      ],
      "text/plain": [
       "<IPython.core.display.HTML object>"
      ]
     },
     "metadata": {},
     "output_type": "display_data"
    },
    {
     "data": {
      "text/html": [
       "(145.610)  [CLS] A few days later , pirates<span style=\"background-color: lightblue;\"> attacked</span> another merchant before being detected by the Spanish Army and captured . [SEP]"
      ],
      "text/plain": [
       "<IPython.core.display.HTML object>"
      ]
     },
     "metadata": {},
     "output_type": "display_data"
    },
    {
     "data": {
      "text/html": [
       "(145.667)  [CLS] After the decisive battle<span style=\"background-color: lightblue;\"> ,</span> Maj/in Tu/ol again turns to stone . [SEP]"
      ],
      "text/plain": [
       "<IPython.core.display.HTML object>"
      ]
     },
     "metadata": {},
     "output_type": "display_data"
    },
    {
     "data": {
      "text/html": [
       "(145.872)  [CLS] Next scene , Woody found<span style=\"background-color: lightblue;\"> the</span> witch ' s lair . [SEP]"
      ],
      "text/plain": [
       "<IPython.core.display.HTML object>"
      ]
     },
     "metadata": {},
     "output_type": "display_data"
    },
    {
     "data": {
      "text/html": [
       "(146.029)  [CLS] “ Ana/nk/é<span style=\"background-color: lightblue;\"> ”</span> is performed by the H/yper/ion Ensemble . [SEP]"
      ],
      "text/plain": [
       "<IPython.core.display.HTML object>"
      ]
     },
     "metadata": {},
     "output_type": "display_data"
    },
    {
     "data": {
      "text/html": [
       "(146.033)  [CLS] However , the following morning<span style=\"background-color: lightblue;\"> ,</span> Ah Ho/on ' s body was found after he had been shot in the head and killed . [SEP]"
      ],
      "text/plain": [
       "<IPython.core.display.HTML object>"
      ]
     },
     "metadata": {},
     "output_type": "display_data"
    },
    {
     "data": {
      "text/html": [
       "(172.240)  [CLS] Later that day ,<span style=\"background-color: limegreen;\"> he</span> caught her eye . [SEP]"
      ],
      "text/plain": [
       "<IPython.core.display.HTML object>"
      ]
     },
     "metadata": {},
     "output_type": "display_data"
    },
    {
     "data": {
      "text/html": [
       "(180.258)  [CLS] Later that day , he caught<span style=\"background-color: limegreen;\"> her</span> eye . [SEP]"
      ],
      "text/plain": [
       "<IPython.core.display.HTML object>"
      ]
     },
     "metadata": {},
     "output_type": "display_data"
    },
    {
     "data": {
      "text/html": [
       "(216.464)  [CLS] Later that<span style=\"background-color: limegreen;\"> day</span> , he caught her eye . [SEP]"
      ],
      "text/plain": [
       "<IPython.core.display.HTML object>"
      ]
     },
     "metadata": {},
     "output_type": "display_data"
    },
    {
     "data": {
      "text/html": [
       "(218.540)  [CLS] Later that day , he caught her<span style=\"background-color: limegreen;\"> eye</span> . [SEP]"
      ],
      "text/plain": [
       "<IPython.core.display.HTML object>"
      ]
     },
     "metadata": {},
     "output_type": "display_data"
    },
    {
     "name": "stdout",
     "output_type": "stream",
     "text": [
      ".\n",
      ".\n",
      ".\n"
     ]
    },
    {
     "data": {
      "text/html": [
       "Layer arr_8"
      ],
      "text/plain": [
       "<IPython.core.display.HTML object>"
      ]
     },
     "metadata": {},
     "output_type": "display_data"
    },
    {
     "data": {
      "text/html": [
       "<span style=\"background-color: rgba(0,227,114,1); font-size: 10pt;\"> [CLS] </span><span style=\"background-color: rgba(0,180,180,1); font-size: 10pt;\"> Later </span><span style=\"background-color: rgba(173,186,0,1); font-size: 10pt;\"> that </span><span style=\"background-color: rgba(204,0,152,1); font-size: 10pt;\"> day </span><span style=\"background-color: rgba(252,25,21,1); font-size: 10pt;\"> , </span><span style=\"background-color: rgba(252,17,28,1); font-size: 10pt;\"> he </span><span style=\"background-color: rgba(60,0,247,1); font-size: 10pt;\"> [MASK] </span><span style=\"background-color: rgba(0,114,227,1); font-size: 10pt;\"> her </span><span style=\"background-color: rgba(60,247,0,1); font-size: 10pt;\"> eye </span><span style=\"background-color: rgba(177,4,183,1); font-size: 10pt;\"> . </span><span style=\"background-color: rgba(204,152,0,1); font-size: 10pt;\"> [SEP] </span>"
      ],
      "text/plain": [
       "<IPython.core.display.HTML object>"
      ]
     },
     "metadata": {},
     "output_type": "display_data"
    },
    {
     "data": {
      "text/html": [
       " [CLS] Later that day , he<span style=\"background-color: lightpink;\"> [MASK]</span> her eye . [SEP]"
      ],
      "text/plain": [
       "<IPython.core.display.HTML object>"
      ]
     },
     "metadata": {},
     "output_type": "display_data"
    },
    {
     "data": {
      "text/html": [
       "(125.017)  [CLS] Later that day , he<span style=\"background-color: limegreen;\"> caught</span> her eye . [SEP]"
      ],
      "text/plain": [
       "<IPython.core.display.HTML object>"
      ]
     },
     "metadata": {},
     "output_type": "display_data"
    },
    {
     "data": {
      "text/html": [
       "(137.219)  [CLS] After the Citadel is destroyed , St/un/ner<span style=\"background-color: grey;\"> spots</span> the ghost . [SEP]"
      ],
      "text/plain": [
       "<IPython.core.display.HTML object>"
      ]
     },
     "metadata": {},
     "output_type": "display_data"
    },
    {
     "data": {
      "text/html": [
       "(137.588)  [CLS] The server<span style=\"background-color: grey;\"> kisses</span> the priest ' s hand and the Cross on the vest/ment , and then withdraw/s to vest . [SEP]"
      ],
      "text/plain": [
       "<IPython.core.display.HTML object>"
      ]
     },
     "metadata": {},
     "output_type": "display_data"
    },
    {
     "data": {
      "text/html": [
       "(139.153)  [CLS] \" I think the way you<span style=\"background-color: grey;\"> measure</span> my move is ' Was LSU better when I left than when I came in ? ' \" [SEP]"
      ],
      "text/plain": [
       "<IPython.core.display.HTML object>"
      ]
     },
     "metadata": {},
     "output_type": "display_data"
    },
    {
     "data": {
      "text/html": [
       "(139.258)  [CLS] Finally , Hari<span style=\"background-color: lightblue;\"> damages</span> the left wing and the back engine of the plane with a helicopter . [SEP]"
      ],
      "text/plain": [
       "<IPython.core.display.HTML object>"
      ]
     },
     "metadata": {},
     "output_type": "display_data"
    },
    {
     "data": {
      "text/html": [
       "(141.063)  [CLS] Put/ting out to sea after a 10 - day visit there , \" Thompson \"<span style=\"background-color: lightblue;\"> visited</span> Wellington from 22 to 24 August . [SEP]"
      ],
      "text/plain": [
       "<IPython.core.display.HTML object>"
      ]
     },
     "metadata": {},
     "output_type": "display_data"
    },
    {
     "data": {
      "text/html": [
       "(141.732)  [CLS] On the bus ride to Texas , Rusty<span style=\"background-color: grey;\"> sees</span> a sign that reads \" Dallas 36/2 \" , the title of the film . [SEP]"
      ],
      "text/plain": [
       "<IPython.core.display.HTML object>"
      ]
     },
     "metadata": {},
     "output_type": "display_data"
    },
    {
     "data": {
      "text/html": [
       "(141.915)  [CLS] In 2007 , she<span style=\"background-color: lightblue;\"> was</span> Real So/cie/dad ' s assistant manager . [SEP]"
      ],
      "text/plain": [
       "<IPython.core.display.HTML object>"
      ]
     },
     "metadata": {},
     "output_type": "display_data"
    },
    {
     "data": {
      "text/html": [
       "(141.971)  [CLS] By 1941 he<span style=\"background-color: lightblue;\"> was</span> the first President of \" Li/core/ria Roses \" . [SEP]"
      ],
      "text/plain": [
       "<IPython.core.display.HTML object>"
      ]
     },
     "metadata": {},
     "output_type": "display_data"
    },
    {
     "data": {
      "text/html": [
       "(142.553)  [CLS] Next , Black will<span style=\"background-color: grey;\"> capture</span> White ' s side pawn ( 7 . [SEP]"
      ],
      "text/plain": [
       "<IPython.core.display.HTML object>"
      ]
     },
     "metadata": {},
     "output_type": "display_data"
    },
    {
     "data": {
      "text/html": [
       "(142.908)  [CLS] In 1890 – 1906 he<span style=\"background-color: lightblue;\"> was</span> the responsible secretary of the periodical \" Nor da/r \" ( \" A New Century \" ; ) . [SEP]"
      ],
      "text/plain": [
       "<IPython.core.display.HTML object>"
      ]
     },
     "metadata": {},
     "output_type": "display_data"
    },
    {
     "data": {
      "text/html": [
       "(143.148)  [CLS] In 2019 she<span style=\"background-color: lightblue;\"> was</span> employed by the president of Chad as a pilot . [SEP]"
      ],
      "text/plain": [
       "<IPython.core.display.HTML object>"
      ]
     },
     "metadata": {},
     "output_type": "display_data"
    },
    {
     "data": {
      "text/html": [
       "(143.625)  [CLS] Ram/u over/hea<span style=\"background-color: lightblue;\">/rs</span> parts of Saga/r and Um/a ' s conversation and is touched by the moment . [SEP]"
      ],
      "text/plain": [
       "<IPython.core.display.HTML object>"
      ]
     },
     "metadata": {},
     "output_type": "display_data"
    },
    {
     "data": {
      "text/html": [
       "(143.873)  [CLS] With her uncle Thomas , she<span style=\"background-color: grey;\"> visited</span> her father in Mobile , where the two Tu/nst/all men took Virginia to the theatre and other events . [SEP]"
      ],
      "text/plain": [
       "<IPython.core.display.HTML object>"
      ]
     },
     "metadata": {},
     "output_type": "display_data"
    },
    {
     "data": {
      "text/html": [
       "(144.054)  [CLS] One evening , Pam<span style=\"background-color: grey;\"> finds</span> Jim dead in the bath/tub of their apartment . [SEP]"
      ],
      "text/plain": [
       "<IPython.core.display.HTML object>"
      ]
     },
     "metadata": {},
     "output_type": "display_data"
    },
    {
     "data": {
      "text/html": [
       "(144.263)  [CLS] In 84/5 P/ep/in<span style=\"background-color: grey;\"> welcomed</span> Se/guin of Bordeaux who had defect/ed from the Emperor ' s side . [SEP]"
      ],
      "text/plain": [
       "<IPython.core.display.HTML object>"
      ]
     },
     "metadata": {},
     "output_type": "display_data"
    },
    {
     "data": {
      "text/html": [
       "(144.674)  [CLS] The little girl<span style=\"background-color: lightblue;\"> notices</span> something under the reserved table . [SEP]"
      ],
      "text/plain": [
       "<IPython.core.display.HTML object>"
      ]
     },
     "metadata": {},
     "output_type": "display_data"
    },
    {
     "data": {
      "text/html": [
       "(144.691)  [CLS] Indeed , not long after being sworn in , Olson<span style=\"background-color: lightblue;\"> joined</span> the Republican Study Committee , a caucus of conservative House Republicans . [SEP]"
      ],
      "text/plain": [
       "<IPython.core.display.HTML object>"
      ]
     },
     "metadata": {},
     "output_type": "display_data"
    },
    {
     "data": {
      "text/html": [
       "(144.705)  [CLS] From 1933 to 1945 , he<span style=\"background-color: lightblue;\"> was</span> the chief of police for Inverness . [SEP]"
      ],
      "text/plain": [
       "<IPython.core.display.HTML object>"
      ]
     },
     "metadata": {},
     "output_type": "display_data"
    },
    {
     "data": {
      "text/html": [
       "(145.225)  [CLS] He<span style=\"background-color: lightblue;\"> tells</span> Step/h that he has left Veronica . [SEP]"
      ],
      "text/plain": [
       "<IPython.core.display.HTML object>"
      ]
     },
     "metadata": {},
     "output_type": "display_data"
    },
    {
     "data": {
      "text/html": [
       "(145.408)  [CLS] He<span style=\"background-color: lightblue;\"> was</span> spotted with the neighbouring Royal West Kent Regiment the following day . [SEP]"
      ],
      "text/plain": [
       "<IPython.core.display.HTML object>"
      ]
     },
     "metadata": {},
     "output_type": "display_data"
    },
    {
     "data": {
      "text/html": [
       "(170.088)  [CLS] Later that day ,<span style=\"background-color: limegreen;\"> he</span> caught her eye . [SEP]"
      ],
      "text/plain": [
       "<IPython.core.display.HTML object>"
      ]
     },
     "metadata": {},
     "output_type": "display_data"
    },
    {
     "data": {
      "text/html": [
       "(182.480)  [CLS] Later that day , he caught<span style=\"background-color: limegreen;\"> her</span> eye . [SEP]"
      ],
      "text/plain": [
       "<IPython.core.display.HTML object>"
      ]
     },
     "metadata": {},
     "output_type": "display_data"
    },
    {
     "data": {
      "text/html": [
       "(211.712)  [CLS] Later that<span style=\"background-color: limegreen;\"> day</span> , he caught her eye . [SEP]"
      ],
      "text/plain": [
       "<IPython.core.display.HTML object>"
      ]
     },
     "metadata": {},
     "output_type": "display_data"
    },
    {
     "data": {
      "text/html": [
       "(218.294)  [CLS] Later that day , he caught her<span style=\"background-color: limegreen;\"> eye</span> . [SEP]"
      ],
      "text/plain": [
       "<IPython.core.display.HTML object>"
      ]
     },
     "metadata": {},
     "output_type": "display_data"
    },
    {
     "name": "stdout",
     "output_type": "stream",
     "text": [
      ".\n",
      ".\n",
      ".\n"
     ]
    },
    {
     "data": {
      "text/html": [
       "Layer arr_9"
      ],
      "text/plain": [
       "<IPython.core.display.HTML object>"
      ]
     },
     "metadata": {},
     "output_type": "display_data"
    },
    {
     "data": {
      "text/html": [
       "<span style=\"background-color: rgba(1,115,227,1); font-size: 10pt;\"> [CLS] </span><span style=\"background-color: rgba(0,180,180,1); font-size: 10pt;\"> Later </span><span style=\"background-color: rgba(174,186,2,1); font-size: 10pt;\"> that </span><span style=\"background-color: rgba(173,0,186,1); font-size: 10pt;\"> day </span><span style=\"background-color: rgba(253,30,1,1); font-size: 10pt;\"> , </span><span style=\"background-color: rgba(247,1,60,1); font-size: 10pt;\"> he </span><span style=\"background-color: rgba(1,228,114,1); font-size: 10pt;\"> [MASK] </span><span style=\"background-color: rgba(59,0,247,1); font-size: 10pt;\"> her </span><span style=\"background-color: rgba(60,247,0,1); font-size: 10pt;\"> eye </span><span style=\"background-color: rgba(208,10,145,1); font-size: 10pt;\"> . </span><span style=\"background-color: rgba(204,152,0,1); font-size: 10pt;\"> [SEP] </span>"
      ],
      "text/plain": [
       "<IPython.core.display.HTML object>"
      ]
     },
     "metadata": {},
     "output_type": "display_data"
    },
    {
     "data": {
      "text/html": [
       " [CLS] Later that day , he<span style=\"background-color: lightpink;\"> [MASK]</span> her eye . [SEP]"
      ],
      "text/plain": [
       "<IPython.core.display.HTML object>"
      ]
     },
     "metadata": {},
     "output_type": "display_data"
    },
    {
     "data": {
      "text/html": [
       "(118.742)  [CLS] Later that day , he<span style=\"background-color: limegreen;\"> caught</span> her eye . [SEP]"
      ],
      "text/plain": [
       "<IPython.core.display.HTML object>"
      ]
     },
     "metadata": {},
     "output_type": "display_data"
    },
    {
     "data": {
      "text/html": [
       "(124.743)  [CLS] After the Citadel is destroyed , St/un/ner<span style=\"background-color: grey;\"> spots</span> the ghost . [SEP]"
      ],
      "text/plain": [
       "<IPython.core.display.HTML object>"
      ]
     },
     "metadata": {},
     "output_type": "display_data"
    },
    {
     "data": {
      "text/html": [
       "(131.065)  [CLS] It was the latter of these that<span style=\"background-color: grey;\"> caught</span> the eye of McDonald herself . [SEP]"
      ],
      "text/plain": [
       "<IPython.core.display.HTML object>"
      ]
     },
     "metadata": {},
     "output_type": "display_data"
    },
    {
     "data": {
      "text/html": [
       "(133.032)  [CLS] Finally , Hari<span style=\"background-color: grey;\"> damages</span> the left wing and the back engine of the plane with a helicopter . [SEP]"
      ],
      "text/plain": [
       "<IPython.core.display.HTML object>"
      ]
     },
     "metadata": {},
     "output_type": "display_data"
    },
    {
     "data": {
      "text/html": [
       "(133.596)  [CLS] He<span style=\"background-color: grey;\"> was</span> spotted with the neighbouring Royal West Kent Regiment the following day . [SEP]"
      ],
      "text/plain": [
       "<IPython.core.display.HTML object>"
      ]
     },
     "metadata": {},
     "output_type": "display_data"
    },
    {
     "data": {
      "text/html": [
       "(133.632)  [CLS] Richard B/raze/nda/le<span style=\"background-color: lightblue;\"> stops</span> May signing the papers , knowing that it isn ' t her decision . [SEP]"
      ],
      "text/plain": [
       "<IPython.core.display.HTML object>"
      ]
     },
     "metadata": {},
     "output_type": "display_data"
    },
    {
     "data": {
      "text/html": [
       "(134.164)  [CLS] The little girl<span style=\"background-color: grey;\"> notices</span> something under the reserved table . [SEP]"
      ],
      "text/plain": [
       "<IPython.core.display.HTML object>"
      ]
     },
     "metadata": {},
     "output_type": "display_data"
    },
    {
     "data": {
      "text/html": [
       "(134.317)  [CLS] The server<span style=\"background-color: grey;\"> kisses</span> the priest ' s hand and the Cross on the vest/ment , and then withdraw/s to vest . [SEP]"
      ],
      "text/plain": [
       "<IPython.core.display.HTML object>"
      ]
     },
     "metadata": {},
     "output_type": "display_data"
    },
    {
     "data": {
      "text/html": [
       "(134.449)  [CLS] George Davis<span style=\"background-color: grey;\"> –</span> the main antagonist of the story . [SEP]"
      ],
      "text/plain": [
       "<IPython.core.display.HTML object>"
      ]
     },
     "metadata": {},
     "output_type": "display_data"
    },
    {
     "data": {
      "text/html": [
       "(135.303)  [CLS] In 2013 , she<span style=\"background-color: lightblue;\"> was</span> first seen as a journalist in \" Lok/pal \" . [SEP]"
      ],
      "text/plain": [
       "<IPython.core.display.HTML object>"
      ]
     },
     "metadata": {},
     "output_type": "display_data"
    },
    {
     "data": {
      "text/html": [
       "(135.648)  [CLS] In October 1937 he<span style=\"background-color: lightblue;\"> was</span> charged with the supervision of the But/ovo firing range . [SEP]"
      ],
      "text/plain": [
       "<IPython.core.display.HTML object>"
      ]
     },
     "metadata": {},
     "output_type": "display_data"
    },
    {
     "data": {
      "text/html": [
       "(135.708)  [CLS] The other two members<span style=\"background-color: lightblue;\"> met</span> Be/hren/s through a newspaper advertisement . [SEP]"
      ],
      "text/plain": [
       "<IPython.core.display.HTML object>"
      ]
     },
     "metadata": {},
     "output_type": "display_data"
    },
    {
     "data": {
      "text/html": [
       "(135.948)  [CLS] On the bus ride to Texas , Rusty<span style=\"background-color: grey;\"> sees</span> a sign that reads \" Dallas 36/2 \" , the title of the film . [SEP]"
      ],
      "text/plain": [
       "<IPython.core.display.HTML object>"
      ]
     },
     "metadata": {},
     "output_type": "display_data"
    },
    {
     "data": {
      "text/html": [
       "(136.394)  [CLS] Next , Black will<span style=\"background-color: grey;\"> capture</span> White ' s side pawn ( 7 . [SEP]"
      ],
      "text/plain": [
       "<IPython.core.display.HTML object>"
      ]
     },
     "metadata": {},
     "output_type": "display_data"
    },
    {
     "data": {
      "text/html": [
       "(136.416)  [CLS] He<span style=\"background-color: lightblue;\"> pulled</span> Noel Te/gg/art from his bike in the individual road race , inspiring universal con/de/m/nation . [SEP]"
      ],
      "text/plain": [
       "<IPython.core.display.HTML object>"
      ]
     },
     "metadata": {},
     "output_type": "display_data"
    },
    {
     "data": {
      "text/html": [
       "(136.953)  [CLS] Apart from numerous research trips to Italy , Al/dre/te has<span style=\"background-color: lightblue;\"> studied</span> Vatican Library manuscripts . [SEP]"
      ],
      "text/plain": [
       "<IPython.core.display.HTML object>"
      ]
     },
     "metadata": {},
     "output_type": "display_data"
    },
    {
     "data": {
      "text/html": [
       "(137.823)  [CLS] Jew/ett was \" never over/tly religious \" , but after she joined the Episcopal church in 1871 , she<span style=\"background-color: lightblue;\"> explored</span> less conventional religious ideas . [SEP]"
      ],
      "text/plain": [
       "<IPython.core.display.HTML object>"
      ]
     },
     "metadata": {},
     "output_type": "display_data"
    },
    {
     "data": {
      "text/html": [
       "(137.825)  [CLS] In 114/8 he<span style=\"background-color: lightblue;\"> approached</span> the C/ister/cian/s for help . [SEP]"
      ],
      "text/plain": [
       "<IPython.core.display.HTML object>"
      ]
     },
     "metadata": {},
     "output_type": "display_data"
    },
    {
     "data": {
      "text/html": [
       "(137.916)  [CLS] In this chapter , Marx<span style=\"background-color: lightblue;\"> examines</span> the functions of money commodities . [SEP]"
      ],
      "text/plain": [
       "<IPython.core.display.HTML object>"
      ]
     },
     "metadata": {},
     "output_type": "display_data"
    },
    {
     "data": {
      "text/html": [
       "(138.307)  [CLS] The spring prior , he<span style=\"background-color: lightblue;\"> was</span> appointed as the Santa Barbara post/master . [SEP]"
      ],
      "text/plain": [
       "<IPython.core.display.HTML object>"
      ]
     },
     "metadata": {},
     "output_type": "display_data"
    },
    {
     "data": {
      "text/html": [
       "(138.369)  [CLS] Mac/A/lm/on<span style=\"background-color: lightblue;\"> became</span> the church pianist at the age of 11 . [SEP]"
      ],
      "text/plain": [
       "<IPython.core.display.HTML object>"
      ]
     },
     "metadata": {},
     "output_type": "display_data"
    },
    {
     "data": {
      "text/html": [
       "(166.575)  [CLS] Later that day ,<span style=\"background-color: limegreen;\"> he</span> caught her eye . [SEP]"
      ],
      "text/plain": [
       "<IPython.core.display.HTML object>"
      ]
     },
     "metadata": {},
     "output_type": "display_data"
    },
    {
     "data": {
      "text/html": [
       "(175.643)  [CLS] Later that day , he caught<span style=\"background-color: limegreen;\"> her</span> eye . [SEP]"
      ],
      "text/plain": [
       "<IPython.core.display.HTML object>"
      ]
     },
     "metadata": {},
     "output_type": "display_data"
    },
    {
     "data": {
      "text/html": [
       "(197.982)  [CLS] Later that<span style=\"background-color: limegreen;\"> day</span> , he caught her eye . [SEP]"
      ],
      "text/plain": [
       "<IPython.core.display.HTML object>"
      ]
     },
     "metadata": {},
     "output_type": "display_data"
    },
    {
     "data": {
      "text/html": [
       "(200.718)  [CLS] Later that day , he caught her<span style=\"background-color: limegreen;\"> eye</span> . [SEP]"
      ],
      "text/plain": [
       "<IPython.core.display.HTML object>"
      ]
     },
     "metadata": {},
     "output_type": "display_data"
    },
    {
     "name": "stdout",
     "output_type": "stream",
     "text": [
      ".\n",
      ".\n",
      ".\n"
     ]
    },
    {
     "data": {
      "text/html": [
       "Layer arr_10"
      ],
      "text/plain": [
       "<IPython.core.display.HTML object>"
      ]
     },
     "metadata": {},
     "output_type": "display_data"
    },
    {
     "data": {
      "text/html": [
       "<span style=\"background-color: rgba(129,98,196,1); font-size: 10pt;\"> [CLS] </span><span style=\"background-color: rgba(129,0,219,1); font-size: 10pt;\"> Later </span><span style=\"background-color: rgba(212,140,0,1); font-size: 10pt;\"> that </span><span style=\"background-color: rgba(201,0,155,1); font-size: 10pt;\"> day </span><span style=\"background-color: rgba(242,17,77,1); font-size: 10pt;\"> , </span><span style=\"background-color: rgba(238,16,88,1); font-size: 10pt;\"> he </span><span style=\"background-color: rgba(118,225,0,1); font-size: 10pt;\"> [MASK] </span><span style=\"background-color: rgba(94,167,167,1); font-size: 10pt;\"> her </span><span style=\"background-color: rgba(85,214,107,1); font-size: 10pt;\"> eye </span><span style=\"background-color: rgba(223,122,16,1); font-size: 10pt;\"> . </span><span style=\"background-color: rgba(204,152,0,1); font-size: 10pt;\"> [SEP] </span>"
      ],
      "text/plain": [
       "<IPython.core.display.HTML object>"
      ]
     },
     "metadata": {},
     "output_type": "display_data"
    },
    {
     "data": {
      "text/html": [
       " [CLS] Later that day , he<span style=\"background-color: lightpink;\"> [MASK]</span> her eye . [SEP]"
      ],
      "text/plain": [
       "<IPython.core.display.HTML object>"
      ]
     },
     "metadata": {},
     "output_type": "display_data"
    },
    {
     "data": {
      "text/html": [
       "(117.122)  [CLS] Later that day , he<span style=\"background-color: limegreen;\"> caught</span> her eye . [SEP]"
      ],
      "text/plain": [
       "<IPython.core.display.HTML object>"
      ]
     },
     "metadata": {},
     "output_type": "display_data"
    },
    {
     "data": {
      "text/html": [
       "(120.332)  [CLS] The server<span style=\"background-color: grey;\"> kisses</span> the priest ' s hand and the Cross on the vest/ment , and then withdraw/s to vest . [SEP]"
      ],
      "text/plain": [
       "<IPython.core.display.HTML object>"
      ]
     },
     "metadata": {},
     "output_type": "display_data"
    },
    {
     "data": {
      "text/html": [
       "(121.100)  [CLS] The other two members<span style=\"background-color: grey;\"> met</span> Be/hren/s through a newspaper advertisement . [SEP]"
      ],
      "text/plain": [
       "<IPython.core.display.HTML object>"
      ]
     },
     "metadata": {},
     "output_type": "display_data"
    },
    {
     "data": {
      "text/html": [
       "(122.177)  [CLS] Finally , Hari<span style=\"background-color: grey;\"> damages</span> the left wing and the back engine of the plane with a helicopter . [SEP]"
      ],
      "text/plain": [
       "<IPython.core.display.HTML object>"
      ]
     },
     "metadata": {},
     "output_type": "display_data"
    },
    {
     "data": {
      "text/html": [
       "(123.301)  [CLS] He<span style=\"background-color: grey;\"> was</span> spotted with the neighbouring Royal West Kent Regiment the following day . [SEP]"
      ],
      "text/plain": [
       "<IPython.core.display.HTML object>"
      ]
     },
     "metadata": {},
     "output_type": "display_data"
    },
    {
     "data": {
      "text/html": [
       "(123.975)  [CLS] After the Citadel is destroyed , St/un/ner<span style=\"background-color: grey;\"> spots</span> the ghost . [SEP]"
      ],
      "text/plain": [
       "<IPython.core.display.HTML object>"
      ]
     },
     "metadata": {},
     "output_type": "display_data"
    },
    {
     "data": {
      "text/html": [
       "(125.399)  [CLS] Later the Sc/hi/ffs<span style=\"background-color: lightblue;\"> knew</span> Edwin Muir and W/il/ma . [SEP]"
      ],
      "text/plain": [
       "<IPython.core.display.HTML object>"
      ]
     },
     "metadata": {},
     "output_type": "display_data"
    },
    {
     "data": {
      "text/html": [
       "(126.725)  [CLS] It was the latter of these that<span style=\"background-color: grey;\"> caught</span> the eye of McDonald herself . [SEP]"
      ],
      "text/plain": [
       "<IPython.core.display.HTML object>"
      ]
     },
     "metadata": {},
     "output_type": "display_data"
    },
    {
     "data": {
      "text/html": [
       "(129.573)  [CLS] In 2013 Dean Morris<span style=\"background-color: lightblue;\"> rescued</span> his dog \" Ho/och \" from a country pound . [SEP]"
      ],
      "text/plain": [
       "<IPython.core.display.HTML object>"
      ]
     },
     "metadata": {},
     "output_type": "display_data"
    },
    {
     "data": {
      "text/html": [
       "(129.574)  [CLS] He sets out to<span style=\"background-color: lightblue;\"> win</span> her heart . [SEP]"
      ],
      "text/plain": [
       "<IPython.core.display.HTML object>"
      ]
     },
     "metadata": {},
     "output_type": "display_data"
    },
    {
     "data": {
      "text/html": [
       "(129.579)  [CLS] Her grandfather<span style=\"background-color: lightblue;\"> had</span> her riding horses early . [SEP]"
      ],
      "text/plain": [
       "<IPython.core.display.HTML object>"
      ]
     },
     "metadata": {},
     "output_type": "display_data"
    },
    {
     "data": {
      "text/html": [
       "(130.078)  [CLS] During his stay in R/yu/ky/u , K/ū/san/k/ū<span style=\"background-color: lightblue;\"> instructed</span> Kang/a Sa/ku/gawa . [SEP]"
      ],
      "text/plain": [
       "<IPython.core.display.HTML object>"
      ]
     },
     "metadata": {},
     "output_type": "display_data"
    },
    {
     "data": {
      "text/html": [
       "(131.256)  [CLS] She<span style=\"background-color: lightblue;\"> was</span> Homer ' s first girlfriend in a relationship of circumstances . [SEP]"
      ],
      "text/plain": [
       "<IPython.core.display.HTML object>"
      ]
     },
     "metadata": {},
     "output_type": "display_data"
    },
    {
     "data": {
      "text/html": [
       "(131.361)  [CLS] Next , Black will<span style=\"background-color: grey;\"> capture</span> White ' s side pawn ( 7 . [SEP]"
      ],
      "text/plain": [
       "<IPython.core.display.HTML object>"
      ]
     },
     "metadata": {},
     "output_type": "display_data"
    },
    {
     "data": {
      "text/html": [
       "(131.623)  [CLS] Several weeks later , he<span style=\"background-color: lightblue;\"> received</span> a letter from Harrison Salisbury , who was then the managing editor of \" The New York Times \" . [SEP]"
      ],
      "text/plain": [
       "<IPython.core.display.HTML object>"
      ]
     },
     "metadata": {},
     "output_type": "display_data"
    },
    {
     "data": {
      "text/html": [
       "(131.720)  [CLS] In 84/5 P/ep/in<span style=\"background-color: grey;\"> welcomed</span> Se/guin of Bordeaux who had defect/ed from the Emperor ' s side . [SEP]"
      ],
      "text/plain": [
       "<IPython.core.display.HTML object>"
      ]
     },
     "metadata": {},
     "output_type": "display_data"
    },
    {
     "data": {
      "text/html": [
       "(131.998)  [CLS] In her speech , she<span style=\"background-color: lightblue;\"> quoted</span> the Rev . [SEP]"
      ],
      "text/plain": [
       "<IPython.core.display.HTML object>"
      ]
     },
     "metadata": {},
     "output_type": "display_data"
    },
    {
     "data": {
      "text/html": [
       "(132.108)  [CLS] He<span style=\"background-color: lightblue;\"> followed</span> the thinking of Des/car/tes . [SEP]"
      ],
      "text/plain": [
       "<IPython.core.display.HTML object>"
      ]
     },
     "metadata": {},
     "output_type": "display_data"
    },
    {
     "data": {
      "text/html": [
       "(132.212)  [CLS] In 114/8 he<span style=\"background-color: grey;\"> approached</span> the C/ister/cian/s for help . [SEP]"
      ],
      "text/plain": [
       "<IPython.core.display.HTML object>"
      ]
     },
     "metadata": {},
     "output_type": "display_data"
    },
    {
     "data": {
      "text/html": [
       "(132.295)  [CLS] In early July 1860 , Sc/harf/f and E/ck/ardt<span style=\"background-color: lightblue;\"> met</span> Andersen by accident in Bavaria . [SEP]"
      ],
      "text/plain": [
       "<IPython.core.display.HTML object>"
      ]
     },
     "metadata": {},
     "output_type": "display_data"
    },
    {
     "data": {
      "text/html": [
       "(132.618)  [CLS] He<span style=\"background-color: grey;\"> pulled</span> Noel Te/gg/art from his bike in the individual road race , inspiring universal con/de/m/nation . [SEP]"
      ],
      "text/plain": [
       "<IPython.core.display.HTML object>"
      ]
     },
     "metadata": {},
     "output_type": "display_data"
    },
    {
     "data": {
      "text/html": [
       "(159.287)  [CLS] Later that day ,<span style=\"background-color: limegreen;\"> he</span> caught her eye . [SEP]"
      ],
      "text/plain": [
       "<IPython.core.display.HTML object>"
      ]
     },
     "metadata": {},
     "output_type": "display_data"
    },
    {
     "data": {
      "text/html": [
       "(169.828)  [CLS] Later that day , he caught<span style=\"background-color: limegreen;\"> her</span> eye . [SEP]"
      ],
      "text/plain": [
       "<IPython.core.display.HTML object>"
      ]
     },
     "metadata": {},
     "output_type": "display_data"
    },
    {
     "data": {
      "text/html": [
       "(183.033)  [CLS] Later that day , he caught her<span style=\"background-color: limegreen;\"> eye</span> . [SEP]"
      ],
      "text/plain": [
       "<IPython.core.display.HTML object>"
      ]
     },
     "metadata": {},
     "output_type": "display_data"
    },
    {
     "data": {
      "text/html": [
       "(185.931)  [CLS] Later that<span style=\"background-color: limegreen;\"> day</span> , he caught her eye . [SEP]"
      ],
      "text/plain": [
       "<IPython.core.display.HTML object>"
      ]
     },
     "metadata": {},
     "output_type": "display_data"
    },
    {
     "name": "stdout",
     "output_type": "stream",
     "text": [
      ".\n",
      ".\n",
      ".\n"
     ]
    },
    {
     "data": {
      "text/html": [
       "Layer arr_11"
      ],
      "text/plain": [
       "<IPython.core.display.HTML object>"
      ]
     },
     "metadata": {},
     "output_type": "display_data"
    },
    {
     "data": {
      "text/html": [
       "<span style=\"background-color: rgba(207,0,147,1); font-size: 10pt;\"> [CLS] </span><span style=\"background-color: rgba(119,201,101,1); font-size: 10pt;\"> Later </span><span style=\"background-color: rgba(236,95,0,1); font-size: 10pt;\"> that </span><span style=\"background-color: rgba(224,0,120,1); font-size: 10pt;\"> day </span><span style=\"background-color: rgba(247,13,58,1); font-size: 10pt;\"> , </span><span style=\"background-color: rgba(245,6,68,1); font-size: 10pt;\"> he </span><span style=\"background-color: rgba(173,186,0,1); font-size: 10pt;\"> [MASK] </span><span style=\"background-color: rgba(176,82,164,1); font-size: 10pt;\"> her </span><span style=\"background-color: rgba(159,140,140,1); font-size: 10pt;\"> eye </span><span style=\"background-color: rgba(223,123,7,1); font-size: 10pt;\"> . </span><span style=\"background-color: rgba(204,152,0,1); font-size: 10pt;\"> [SEP] </span>"
      ],
      "text/plain": [
       "<IPython.core.display.HTML object>"
      ]
     },
     "metadata": {},
     "output_type": "display_data"
    },
    {
     "data": {
      "text/html": [
       " [CLS] Later that day , he<span style=\"background-color: lightpink;\"> [MASK]</span> her eye . [SEP]"
      ],
      "text/plain": [
       "<IPython.core.display.HTML object>"
      ]
     },
     "metadata": {},
     "output_type": "display_data"
    },
    {
     "data": {
      "text/html": [
       "(94.179)  [CLS] The server<span style=\"background-color: grey;\"> kisses</span> the priest ' s hand and the Cross on the vest/ment , and then withdraw/s to vest . [SEP]"
      ],
      "text/plain": [
       "<IPython.core.display.HTML object>"
      ]
     },
     "metadata": {},
     "output_type": "display_data"
    },
    {
     "data": {
      "text/html": [
       "(96.329)  [CLS] The other two members<span style=\"background-color: grey;\"> met</span> Be/hren/s through a newspaper advertisement . [SEP]"
      ],
      "text/plain": [
       "<IPython.core.display.HTML object>"
      ]
     },
     "metadata": {},
     "output_type": "display_data"
    },
    {
     "data": {
      "text/html": [
       "(98.543)  [CLS] After the Citadel is destroyed , St/un/ner<span style=\"background-color: grey;\"> spots</span> the ghost . [SEP]"
      ],
      "text/plain": [
       "<IPython.core.display.HTML object>"
      ]
     },
     "metadata": {},
     "output_type": "display_data"
    },
    {
     "data": {
      "text/html": [
       "(99.365)  [CLS] Later the Sc/hi/ffs<span style=\"background-color: grey;\"> knew</span> Edwin Muir and W/il/ma . [SEP]"
      ],
      "text/plain": [
       "<IPython.core.display.HTML object>"
      ]
     },
     "metadata": {},
     "output_type": "display_data"
    },
    {
     "data": {
      "text/html": [
       "(99.454)  [CLS] It was the latter of these that<span style=\"background-color: grey;\"> caught</span> the eye of McDonald herself . [SEP]"
      ],
      "text/plain": [
       "<IPython.core.display.HTML object>"
      ]
     },
     "metadata": {},
     "output_type": "display_data"
    },
    {
     "data": {
      "text/html": [
       "(100.207)  [CLS] Finally , Hari<span style=\"background-color: grey;\"> damages</span> the left wing and the back engine of the plane with a helicopter . [SEP]"
      ],
      "text/plain": [
       "<IPython.core.display.HTML object>"
      ]
     },
     "metadata": {},
     "output_type": "display_data"
    },
    {
     "data": {
      "text/html": [
       "(100.618)  [CLS] Several weeks later , he<span style=\"background-color: grey;\"> received</span> a letter from Harrison Salisbury , who was then the managing editor of \" The New York Times \" . [SEP]"
      ],
      "text/plain": [
       "<IPython.core.display.HTML object>"
      ]
     },
     "metadata": {},
     "output_type": "display_data"
    },
    {
     "data": {
      "text/html": [
       "(101.451)  [CLS] He<span style=\"background-color: grey;\"> was</span> spotted with the neighbouring Royal West Kent Regiment the following day . [SEP]"
      ],
      "text/plain": [
       "<IPython.core.display.HTML object>"
      ]
     },
     "metadata": {},
     "output_type": "display_data"
    },
    {
     "data": {
      "text/html": [
       "(101.901)  [CLS] These along with other snake species are commonly<span style=\"background-color: lightblue;\"> spotted</span> . [SEP]"
      ],
      "text/plain": [
       "<IPython.core.display.HTML object>"
      ]
     },
     "metadata": {},
     "output_type": "display_data"
    },
    {
     "data": {
      "text/html": [
       "(102.816)  [CLS] In one instance Jesus used his spit to<span style=\"background-color: lightblue;\"> heal</span> the eyes of a blind man who was born blind , caused by his parents sins ; . [SEP]"
      ],
      "text/plain": [
       "<IPython.core.display.HTML object>"
      ]
     },
     "metadata": {},
     "output_type": "display_data"
    },
    {
     "data": {
      "text/html": [
       "(103.171)  [CLS] He also<span style=\"background-color: lightblue;\"> has</span> her face tattoo/ed on his right arm . [SEP]"
      ],
      "text/plain": [
       "<IPython.core.display.HTML object>"
      ]
     },
     "metadata": {},
     "output_type": "display_data"
    },
    {
     "data": {
      "text/html": [
       "(103.298)  [CLS] Next , Black will<span style=\"background-color: grey;\"> capture</span> White ' s side pawn ( 7 . [SEP]"
      ],
      "text/plain": [
       "<IPython.core.display.HTML object>"
      ]
     },
     "metadata": {},
     "output_type": "display_data"
    },
    {
     "data": {
      "text/html": [
       "(103.342)  [CLS] Next scene , Woody<span style=\"background-color: lightblue;\"> found</span> the witch ' s lair . [SEP]"
      ],
      "text/plain": [
       "<IPython.core.display.HTML object>"
      ]
     },
     "metadata": {},
     "output_type": "display_data"
    },
    {
     "data": {
      "text/html": [
       "(103.705)  [CLS] He<span style=\"background-color: lightblue;\"> took</span> the d/r . p/hil/os . [SEP]"
      ],
      "text/plain": [
       "<IPython.core.display.HTML object>"
      ]
     },
     "metadata": {},
     "output_type": "display_data"
    },
    {
     "data": {
      "text/html": [
       "(103.914)  [CLS] They also share evil break up lines and go for dinner where a dance girl<span style=\"background-color: lightblue;\"> approached</span> A/kas/h and asks them to visit next day . [SEP]"
      ],
      "text/plain": [
       "<IPython.core.display.HTML object>"
      ]
     },
     "metadata": {},
     "output_type": "display_data"
    },
    {
     "data": {
      "text/html": [
       "(104.502)  [CLS] When he<span style=\"background-color: lightblue;\"> spotted</span> clinic doctor John B/rit/ton and his bodyguard , retired USAF Lieutenant Colonel James H . Barrett . [SEP]"
      ],
      "text/plain": [
       "<IPython.core.display.HTML object>"
      ]
     },
     "metadata": {},
     "output_type": "display_data"
    },
    {
     "data": {
      "text/html": [
       "(104.689)  [CLS] Her grandfather<span style=\"background-color: grey;\"> had</span> her riding horses early . [SEP]"
      ],
      "text/plain": [
       "<IPython.core.display.HTML object>"
      ]
     },
     "metadata": {},
     "output_type": "display_data"
    },
    {
     "data": {
      "text/html": [
       "(104.759)  [CLS] I<span style=\"background-color: lightblue;\"> became</span> all attention . [SEP]"
      ],
      "text/plain": [
       "<IPython.core.display.HTML object>"
      ]
     },
     "metadata": {},
     "output_type": "display_data"
    },
    {
     "data": {
      "text/html": [
       "(104.844)  [CLS] He sets out to<span style=\"background-color: grey;\"> win</span> her heart . [SEP]"
      ],
      "text/plain": [
       "<IPython.core.display.HTML object>"
      ]
     },
     "metadata": {},
     "output_type": "display_data"
    },
    {
     "data": {
      "text/html": [
       "(104.961)  [CLS] It<span style=\"background-color: lightblue;\"> is</span> a fl/ex/or of the wrist . [SEP]"
      ],
      "text/plain": [
       "<IPython.core.display.HTML object>"
      ]
     },
     "metadata": {},
     "output_type": "display_data"
    },
    {
     "data": {
      "text/html": [
       "(107.398)  [CLS] Later that day , he<span style=\"background-color: limegreen;\"> caught</span> her eye . [SEP]"
      ],
      "text/plain": [
       "<IPython.core.display.HTML object>"
      ]
     },
     "metadata": {},
     "output_type": "display_data"
    },
    {
     "data": {
      "text/html": [
       "(141.571)  [CLS] Later that day ,<span style=\"background-color: limegreen;\"> he</span> caught her eye . [SEP]"
      ],
      "text/plain": [
       "<IPython.core.display.HTML object>"
      ]
     },
     "metadata": {},
     "output_type": "display_data"
    },
    {
     "data": {
      "text/html": [
       "(148.452)  [CLS] Later that day , he caught<span style=\"background-color: limegreen;\"> her</span> eye . [SEP]"
      ],
      "text/plain": [
       "<IPython.core.display.HTML object>"
      ]
     },
     "metadata": {},
     "output_type": "display_data"
    },
    {
     "data": {
      "text/html": [
       "(157.107)  [CLS] Later that<span style=\"background-color: limegreen;\"> day</span> , he caught her eye . [SEP]"
      ],
      "text/plain": [
       "<IPython.core.display.HTML object>"
      ]
     },
     "metadata": {},
     "output_type": "display_data"
    },
    {
     "data": {
      "text/html": [
       "(158.848)  [CLS] Later that day , he caught her<span style=\"background-color: limegreen;\"> eye</span> . [SEP]"
      ],
      "text/plain": [
       "<IPython.core.display.HTML object>"
      ]
     },
     "metadata": {},
     "output_type": "display_data"
    },
    {
     "name": "stdout",
     "output_type": "stream",
     "text": [
      ".\n",
      ".\n",
      ".\n"
     ]
    },
    {
     "data": {
      "text/html": [
       "Layer arr_12"
      ],
      "text/plain": [
       "<IPython.core.display.HTML object>"
      ]
     },
     "metadata": {},
     "output_type": "display_data"
    },
    {
     "data": {
      "text/html": [
       "<span style=\"background-color: rgba(172,187,6,1); font-size: 10pt;\"> [CLS] </span><span style=\"background-color: rgba(190,40,164,1); font-size: 10pt;\"> Later </span><span style=\"background-color: rgba(60,247,0,1); font-size: 10pt;\"> that </span><span style=\"background-color: rgba(59,2,247,1); font-size: 10pt;\"> day </span><span style=\"background-color: rgba(201,6,156,1); font-size: 10pt;\"> , </span><span style=\"background-color: rgba(254,0,0,1); font-size: 10pt;\"> he </span><span style=\"background-color: rgba(0,227,114,1); font-size: 10pt;\"> [MASK] </span><span style=\"background-color: rgba(0,114,227,1); font-size: 10pt;\"> her </span><span style=\"background-color: rgba(0,180,180,1); font-size: 10pt;\"> eye </span><span style=\"background-color: rgba(205,150,13,1); font-size: 10pt;\"> . </span><span style=\"background-color: rgba(204,151,3,1); font-size: 10pt;\"> [SEP] </span>"
      ],
      "text/plain": [
       "<IPython.core.display.HTML object>"
      ]
     },
     "metadata": {},
     "output_type": "display_data"
    },
    {
     "data": {
      "text/html": [
       " [CLS] Later that day , he<span style=\"background-color: lightpink;\"> [MASK]</span> her eye . [SEP]"
      ],
      "text/plain": [
       "<IPython.core.display.HTML object>"
      ]
     },
     "metadata": {},
     "output_type": "display_data"
    },
    {
     "data": {
      "text/html": [
       "(145.127)  [CLS] The other two members<span style=\"background-color: grey;\"> met</span> Be/hren/s through a newspaper advertisement . [SEP]"
      ],
      "text/plain": [
       "<IPython.core.display.HTML object>"
      ]
     },
     "metadata": {},
     "output_type": "display_data"
    },
    {
     "data": {
      "text/html": [
       "(145.932)  [CLS] They also share evil break up lines and go for dinner where a dance girl<span style=\"background-color: grey;\"> approached</span> A/kas/h and asks them to visit next day . [SEP]"
      ],
      "text/plain": [
       "<IPython.core.display.HTML object>"
      ]
     },
     "metadata": {},
     "output_type": "display_data"
    },
    {
     "data": {
      "text/html": [
       "(147.371)  [CLS] The server<span style=\"background-color: grey;\"> kisses</span> the priest ' s hand and the Cross on the vest/ment , and then withdraw/s to vest . [SEP]"
      ],
      "text/plain": [
       "<IPython.core.display.HTML object>"
      ]
     },
     "metadata": {},
     "output_type": "display_data"
    },
    {
     "data": {
      "text/html": [
       "(148.782)  [CLS] Sparta/co G/ip/poli/ti<span style=\"background-color: lightblue;\"> 2004</span> Carl Hagen/beck ' s plan for Rome Zoo - and what became of it . [SEP]"
      ],
      "text/plain": [
       "<IPython.core.display.HTML object>"
      ]
     },
     "metadata": {},
     "output_type": "display_data"
    },
    {
     "data": {
      "text/html": [
       "(149.505)  [CLS] The Land Traffic Management Commission ( L/TM/C ) , a national think tank for transportation policy , has already<span style=\"background-color: lightblue;\"> blessed</span> the plan . [SEP]"
      ],
      "text/plain": [
       "<IPython.core.display.HTML object>"
      ]
     },
     "metadata": {},
     "output_type": "display_data"
    },
    {
     "data": {
      "text/html": [
       "(150.170)  [CLS] These along with other snake species are commonly<span style=\"background-color: grey;\"> spotted</span> . [SEP]"
      ],
      "text/plain": [
       "<IPython.core.display.HTML object>"
      ]
     },
     "metadata": {},
     "output_type": "display_data"
    },
    {
     "data": {
      "text/html": [
       "(150.930)  [CLS] After the Citadel is destroyed , St/un/ner<span style=\"background-color: grey;\"> spots</span> the ghost . [SEP]"
      ],
      "text/plain": [
       "<IPython.core.display.HTML object>"
      ]
     },
     "metadata": {},
     "output_type": "display_data"
    },
    {
     "data": {
      "text/html": [
       "(152.376)  [CLS] Eventually , Bass/ler<span style=\"background-color: lightblue;\"> admired</span> working with pro/kar/yotes as she stated that \" they ' re the perfect creatures to work on . \" [SEP]"
      ],
      "text/plain": [
       "<IPython.core.display.HTML object>"
      ]
     },
     "metadata": {},
     "output_type": "display_data"
    },
    {
     "data": {
      "text/html": [
       "(152.781)  [CLS] GA/N<span style=\"background-color: lightblue;\"> influenced</span> members of the Hal/ms/tad Group ( \" Hal/ms/tad/g/rup/pen \" ) . [SEP]"
      ],
      "text/plain": [
       "<IPython.core.display.HTML object>"
      ]
     },
     "metadata": {},
     "output_type": "display_data"
    },
    {
     "data": {
      "text/html": [
       "(152.997)  [CLS] M/c/C/le/lland<span style=\"background-color: lightblue;\"> did</span> work with his close friend and associate Timothy Leary , a lecturer in clinical psychology at the university . [SEP]"
      ],
      "text/plain": [
       "<IPython.core.display.HTML object>"
      ]
     },
     "metadata": {},
     "output_type": "display_data"
    },
    {
     "data": {
      "text/html": [
       "(153.347)  [CLS] Finally , Hari<span style=\"background-color: grey;\"> damages</span> the left wing and the back engine of the plane with a helicopter . [SEP]"
      ],
      "text/plain": [
       "<IPython.core.display.HTML object>"
      ]
     },
     "metadata": {},
     "output_type": "display_data"
    },
    {
     "data": {
      "text/html": [
       "(153.535)  [CLS] He<span style=\"background-color: grey;\"> followed</span> the thinking of Des/car/tes . [SEP]"
      ],
      "text/plain": [
       "<IPython.core.display.HTML object>"
      ]
     },
     "metadata": {},
     "output_type": "display_data"
    },
    {
     "data": {
      "text/html": [
       "(153.881)  [CLS] George Davis<span style=\"background-color: grey;\"> –</span> the main antagonist of the story . [SEP]"
      ],
      "text/plain": [
       "<IPython.core.display.HTML object>"
      ]
     },
     "metadata": {},
     "output_type": "display_data"
    },
    {
     "data": {
      "text/html": [
       "(154.250)  [CLS] Next scene , Woody<span style=\"background-color: grey;\"> found</span> the witch ' s lair . [SEP]"
      ],
      "text/plain": [
       "<IPython.core.display.HTML object>"
      ]
     },
     "metadata": {},
     "output_type": "display_data"
    },
    {
     "data": {
      "text/html": [
       "(154.656)  [CLS] Jo/ht/o<span style=\"background-color: lightblue;\"> predicted</span> the English version of \" Type : Wild \" , the ending song from Pokémon En/core performed by Robbie Dan/zie . [SEP]"
      ],
      "text/plain": [
       "<IPython.core.display.HTML object>"
      ]
     },
     "metadata": {},
     "output_type": "display_data"
    },
    {
     "data": {
      "text/html": [
       "(154.683)  [CLS] Later that day , he<span style=\"background-color: limegreen;\"> caught</span> her eye . [SEP]"
      ],
      "text/plain": [
       "<IPython.core.display.HTML object>"
      ]
     },
     "metadata": {},
     "output_type": "display_data"
    },
    {
     "data": {
      "text/html": [
       "(155.438)  [CLS] But there was one woman who contested who<span style=\"background-color: lightblue;\"> lost</span> her deposit . [SEP]"
      ],
      "text/plain": [
       "<IPython.core.display.HTML object>"
      ]
     },
     "metadata": {},
     "output_type": "display_data"
    },
    {
     "data": {
      "text/html": [
       "(156.203)  [CLS] Under these circumstances , one wing<span style=\"background-color: lightblue;\"> stalls</span> , or stalls more deeply than the other . [SEP]"
      ],
      "text/plain": [
       "<IPython.core.display.HTML object>"
      ]
     },
     "metadata": {},
     "output_type": "display_data"
    },
    {
     "data": {
      "text/html": [
       "(156.267)  [CLS] I<span style=\"background-color: grey;\"> became</span> all attention . [SEP]"
      ],
      "text/plain": [
       "<IPython.core.display.HTML object>"
      ]
     },
     "metadata": {},
     "output_type": "display_data"
    },
    {
     "data": {
      "text/html": [
       "(156.549)  [CLS] Sir George smiled and replied , “ I have been nearer to you , friend , when you<span style=\"background-color: lightblue;\"> missed</span> me ” . [SEP]"
      ],
      "text/plain": [
       "<IPython.core.display.HTML object>"
      ]
     },
     "metadata": {},
     "output_type": "display_data"
    },
    {
     "data": {
      "text/html": [
       "(156.592)  [CLS] The host fish is<span style=\"background-color: lightblue;\"> irritated</span> , and often s/poradic/ally darts about or rub/s itself against rocks . [SEP]"
      ],
      "text/plain": [
       "<IPython.core.display.HTML object>"
      ]
     },
     "metadata": {},
     "output_type": "display_data"
    },
    {
     "data": {
      "text/html": [
       "(170.859)  [CLS] Later that day ,<span style=\"background-color: limegreen;\"> he</span> caught her eye . [SEP]"
      ],
      "text/plain": [
       "<IPython.core.display.HTML object>"
      ]
     },
     "metadata": {},
     "output_type": "display_data"
    },
    {
     "data": {
      "text/html": [
       "(185.058)  [CLS] Later that day , he caught<span style=\"background-color: limegreen;\"> her</span> eye . [SEP]"
      ],
      "text/plain": [
       "<IPython.core.display.HTML object>"
      ]
     },
     "metadata": {},
     "output_type": "display_data"
    },
    {
     "data": {
      "text/html": [
       "(195.151)  [CLS] Later that day , he caught her<span style=\"background-color: limegreen;\"> eye</span> . [SEP]"
      ],
      "text/plain": [
       "<IPython.core.display.HTML object>"
      ]
     },
     "metadata": {},
     "output_type": "display_data"
    },
    {
     "data": {
      "text/html": [
       "(199.839)  [CLS] Later that<span style=\"background-color: limegreen;\"> day</span> , he caught her eye . [SEP]"
      ],
      "text/plain": [
       "<IPython.core.display.HTML object>"
      ]
     },
     "metadata": {},
     "output_type": "display_data"
    },
    {
     "name": "stdout",
     "output_type": "stream",
     "text": [
      ".\n",
      ".\n",
      ".\n"
     ]
    }
   ],
   "source": [
    "# VISUALIZE\n",
    "\n",
    "override_params = False  # useful for quick iteration on visualization\n",
    "if override_params:\n",
    "    vis_color = False\n",
    "    vis_size = False\n",
    "    vis_masked_KNNs = False\n",
    "    vis_corpus_KNNs = True\n",
    "    vis_custom_contexts = False\n",
    "    together = True\n",
    "    pruning=True  \n",
    "    save_to_html = False\n",
    "# other vis params\n",
    "max_font_size = 10\n",
    "# params if visualizing neighbors\n",
    "if vis_corpus_KNNs or vis_masked_KNNs or vis_custom_contexts:\n",
    "    n_neighbors_to_vis = 50\n",
    "    token_styler = lambda t: t\n",
    "    # token_styler = lambda t: style(font_size(fix_size(t),7), 'line-height:0px;')  # another pretty styling option\n",
    "\n",
    "# setup\n",
    "bluer = highlighter('lightblue')\n",
    "greener = highlighter('limegreen')\n",
    "greyer = highlighter('grey')\n",
    "masker = highlighter('black')\n",
    "if save_to_html: html_doc = ''\n",
    "if vis_masked_KNNs or vis_corpus_KNNs or vis_custom_contexts: selected_tok_html = context_html(doc, selected_tok_idx)\n",
    "\n",
    "# start visualizing\n",
    "# vis legend\n",
    "if vis_color:\n",
    "    pure_rgbs = vis_util.channels_to_rgbs(np.eye(dim))\n",
    "    html = ''\n",
    "    for i, rgb in enumerate(pure_rgbs):\n",
    "        html += html_util.style(f' {i} ', css=f'background-color: {html_util.rgb_to_color(*rgb)}')\n",
    "    print('Legend')\n",
    "    display(HTML(html))\n",
    "    if save_to_html: html_doc += html + '<br>'\n",
    "    print() \n",
    "    rgbs = {layer:vis_util.channels_to_rgbs(doc_reduced_acts[layer]) for layer in layers}  # prepare coloring\n",
    "\n",
    "corpus_neighs_so_far = []  \n",
    "for layer in layers:\n",
    "    html = f'Layer {layer}'\n",
    "    display(HTML(html))\n",
    "    if save_to_html: html_doc += html\n",
    "    \n",
    "    # vis sample\n",
    "    if vis_size:\n",
    "        _sizes = doc_acts_sizes[layer]\n",
    "        _sizes = (_sizes - np.min(_sizes)) / (np.max(_sizes) - np.min(_sizes))    \n",
    "    if vis_color:\n",
    "        _rgbs = rgbs[layer]\n",
    "        color_html = ''\n",
    "        for pos, tok in enumerate(doc):\n",
    "            if vis_size:\n",
    "                css = f'background-color: {html_util.rgb_to_color(*_rgbs[pos])}; font-size: {_sizes[pos]*max_font_size}pt;'\n",
    "            else:\n",
    "                css = f'background-color: {html_util.rgb_to_color(*_rgbs[pos])}; font-size: {max_font_size}pt;'\n",
    "            color_html += html_util.style(f' {tok} ', css=css)\n",
    "        display(HTML(color_html))\n",
    "        if save_to_html: html_doc += color_html + '<br>'\n",
    "    \n",
    "    # vis knns\n",
    "    if vis_masked_KNNs or vis_corpus_KNNs or vis_custom_contexts:\n",
    "        # Show the doc\n",
    "        display(HTML(selected_tok_html))\n",
    "        if save_to_html: html_doc += selected_tok_html + '<br>'\n",
    "        \n",
    "        if together:\n",
    "            neighbors = []\n",
    "            if vis_masked_KNNs:\n",
    "                neighbors.extend([(context, dist, 'masked') for context, dist in masked_neighbors[layer]])\n",
    "            if vis_corpus_KNNs:\n",
    "                neighbors.extend([(context, dist, 'corpus') for context_id, context, dist in corpus_neighbors[layer]])\n",
    "            if vis_custom_contexts:\n",
    "                neighbors.extend([(context, dist, 'custom') for context, dist in custom_neighbors[layer]])\n",
    "            neighbors.sort(key=lambda t: t[1])  # sort all by dist\n",
    "            \n",
    "            for neigh_context, neigh_dist, neigh_source in neighbors[:n_neighbors_to_vis]:\n",
    "                html = f'({200*neigh_dist:.3f}) '\n",
    "                if neigh_source == 'masked':\n",
    "                    html += context_html(*neigh_context, masker=masker, token_styler=token_styler)\n",
    "                elif neigh_source == 'corpus':\n",
    "                    marker = bluer if not neigh_context in corpus_neighs_so_far else greyer\n",
    "                    html += context_html(*neigh_context, marker=marker, masker=masker, token_styler=token_styler)\n",
    "                    corpus_neighs_so_far.append(neigh_context)\n",
    "                elif neigh_source == 'custom':\n",
    "                    html += context_html(*neigh_context, marker=greener, masker=masker, token_styler=token_styler)\n",
    "                display(HTML(html))\n",
    "                if save_to_html: html_doc += html + '<br>'\n",
    "        else:\n",
    "            if vis_masked_KNNs:\n",
    "                _masked_neighbors = masked_neighbors[layer]\n",
    "                if pruning:\n",
    "                    for mask_len_to_search in range(len(doc)-2):\n",
    "                        for neigh_context, neigh_dist in _masked_neighbors:\n",
    "                            neigh_toks, neigh_pos = neigh_context\n",
    "                            mask_len = len([tok for tok in neigh_toks if tok == '[MASK]'])\n",
    "                            if mask_len == mask_len_to_search:\n",
    "                                html = token_styler(f'({200*neigh_dist:.3f}) ') +  context_html(*neigh_context, token_styler=token_styler)\n",
    "                                display(HTML(html))\n",
    "                                if save_to_html: html_doc += html + '<br>'\n",
    "                                break\n",
    "                else:\n",
    "                    for neigh_context, neigh_dist in _masked_neighbors[:n_neighbors_to_vis]:\n",
    "                        html = token_styler(f'({100*neigh_dist:.3f}) ') + context_html(*neigh_context, token_styler=lambda t: token_styler(fix_size(t)))\n",
    "                        display(HTML(html))\n",
    "                        if save_to_html: html_doc += html + '<br>'\n",
    "            if vis_corpus_KNNs:\n",
    "                _corpus_neighs = corpus_neighbors[layer][:n_neighbors_to_vis]\n",
    "                for neigh_id, neigh_context, neigh_dist in _corpus_neighs:\n",
    "                    marker = bluer if not neigh_context in corpus_neighs_so_far else greyer\n",
    "                    html = token_styler(f'({200*neigh_dist:.3f})') + context_html(*neigh_context, marker=marker, token_styler=token_styler)\n",
    "                    display(HTML(html))\n",
    "                    if save_to_html: html_doc += html + '<br>'\n",
    "                    corpus_neighs_so_far.append(neigh_context)\n",
    "            if vis_custom_contexts:\n",
    "                _custom_neighbors = custom_neighbors[layer]\n",
    "                for context, dist in _custom_neighbors:\n",
    "                    marker = greener\n",
    "                    html = token_styler(f'({200*dist:.3f})') + context_html(*context, marker=marker, token_styler=token_styler)\n",
    "                    display(HTML(html))\n",
    "                    if save_to_html: html_doc += html + '<br>'\n",
    "    print('.')\n",
    "    print('.')\n",
    "    print('.')\n",
    "\n",
    "if save_to_html: open(html_path, 'w').write(html_doc)"
   ]
  },
  {
   "cell_type": "code",
   "execution_count": null,
   "metadata": {},
   "outputs": [],
   "source": []
  }
 ],
 "metadata": {
  "kernelspec": {
   "display_name": "Python 3",
   "language": "python",
   "name": "python3"
  },
  "language_info": {
   "codemirror_mode": {
    "name": "ipython",
    "version": 3
   },
   "file_extension": ".py",
   "mimetype": "text/x-python",
   "name": "python",
   "nbconvert_exporter": "python",
   "pygments_lexer": "ipython3",
   "version": "3.7.11"
  }
 },
 "nbformat": 4,
 "nbformat_minor": 4
}
