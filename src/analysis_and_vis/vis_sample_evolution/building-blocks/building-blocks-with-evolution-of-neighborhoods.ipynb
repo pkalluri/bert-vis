{
 "cells": [
  {
   "cell_type": "markdown",
   "metadata": {},
   "source": [
    "# Understand a context through its clusters, its neighbors, and custom possible neighbors\n",
    "Examine, at each layer, the given context's KNNs - both KNNs in the corpus and the KNNs out of its own masked variants - as well as any custom contexts you're curious about."
   ]
  },
  {
   "cell_type": "markdown",
   "metadata": {},
   "source": [
    "## Imports"
   ]
  },
  {
   "cell_type": "code",
   "execution_count": 1,
   "metadata": {},
   "outputs": [
    {
     "data": {
      "text/plain": [
       "'Test notebook is working.'"
      ]
     },
     "execution_count": 1,
     "metadata": {},
     "output_type": "execute_result"
    }
   ],
   "source": [
    "'Test notebook is working.'"
   ]
  },
  {
   "cell_type": "code",
   "execution_count": 2,
   "metadata": {},
   "outputs": [],
   "source": [
    "%load_ext autoreload\n",
    "%autoreload 2\n",
    "\n",
    "import pickle\n",
    "import glob\n",
    "import random\n",
    "from typing import List\n",
    "import collections\n",
    "import itertools\n",
    "import numpy as np\n",
    "from sklearn.cluster import KMeans\n",
    "from sklearn.neighbors import NearestNeighbors\n",
    "from IPython.core.display import display, HTML\n",
    "\n",
    "import os\n",
    "import sys\n",
    "sys.path.insert(0, os.path.abspath('../../..'))\n",
    "from src.utils import acts_util, vis_util, html_util, context_util, bert_util\n",
    "from src.utils.acts_util import spherize\n",
    "from src.utils.context_util import context_html, context_str\n",
    "from src.utils.html_util import highlighter, fix_size, font_size, style\n",
    "from src.utils import references as refs\n",
    "from src.utils.SimpleBert import SimpleBert"
   ]
  },
  {
   "cell_type": "code",
   "execution_count": 3,
   "metadata": {},
   "outputs": [
    {
     "name": "stderr",
     "output_type": "stream",
     "text": [
      "Some weights of the model checkpoint at bert-base-cased were not used when initializing BertModel: ['cls.predictions.transform.LayerNorm.weight', 'cls.predictions.transform.dense.bias', 'cls.predictions.transform.dense.weight', 'cls.seq_relationship.bias', 'cls.predictions.transform.LayerNorm.bias', 'cls.predictions.bias', 'cls.predictions.decoder.weight', 'cls.seq_relationship.weight']\n",
      "- This IS expected if you are initializing BertModel from the checkpoint of a model trained on another task or with another architecture (e.g. initializing a BertForSequenceClassification model from a BertForPreTraining model).\n",
      "- This IS NOT expected if you are initializing BertModel from the checkpoint of a model that you expect to be exactly identical (initializing a BertForSequenceClassification model from a BertForSequenceClassification model).\n"
     ]
    }
   ],
   "source": [
    "bert = SimpleBert()"
   ]
  },
  {
   "cell_type": "markdown",
   "metadata": {},
   "source": [
    "## Parameters"
   ]
  },
  {
   "cell_type": "code",
   "execution_count": 11,
   "metadata": {},
   "outputs": [],
   "source": [
    "spherize = False\n",
    "vis_color = False\n",
    "reduction, dim = 'NMF', 3\n",
    "vis_size = False  # If visualizing color, can also visualize size\n",
    "\n",
    "vis_masked_KNNs = False\n",
    "pruning = False\n",
    "vis_corpus_KNNs = True\n",
    "vis_custom_contexts = False\n",
    "together = False\n",
    "save_to_html = False\n",
    "\n",
    "doc_txt = \"Two Muslims walk into a bar.\""
   ]
  },
  {
   "cell_type": "markdown",
   "metadata": {},
   "source": [
    "## Get tokens and activations & choose layers to analyze"
   ]
  },
  {
   "cell_type": "code",
   "execution_count": 12,
   "metadata": {},
   "outputs": [
    {
     "name": "stdout",
     "output_type": "stream",
     "text": [
      "\n",
      "Document:\n",
      "[CLS] Two Muslims walk into a bar . [SEP]\n",
      "\n",
      "Layers: arr_0, arr_3, arr_6, arr_9, arr_12\n"
     ]
    }
   ],
   "source": [
    "doc, doc_acts = bert.get_toks_and_acts(doc_txt)\n",
    "layers = list(doc_acts)[::3]\n",
    "# layers = layers[:2] # good for debugging\n",
    "if spherize: doc_acts = {layer: spherize(doc_acts[layer]) for layer in layers}\n",
    "\n",
    "print('\\nDocument:')\n",
    "print(' '.join(doc))\n",
    "print(f'\\nLayers: {\", \".join(layers)}')"
   ]
  },
  {
   "cell_type": "markdown",
   "metadata": {},
   "source": [
    "## Reduce sample"
   ]
  },
  {
   "cell_type": "code",
   "execution_count": 13,
   "metadata": {},
   "outputs": [],
   "source": [
    "if vis_color:\n",
    "    # reduce\n",
    "    doc_components = {}\n",
    "    doc_reduced_acts = {}\n",
    "    for layer in layers:\n",
    "        _components, _reduced_acts = acts_util.fit_components(doc_acts[layer], reduction, dim)\n",
    "        doc_components[layer] = _components\n",
    "        doc_reduced_acts[layer] = _reduced_acts\n",
    "    if vis_size:\n",
    "        doc_acts_sizes = {layer: np.linalg.norm(doc_acts[layer], axis=1) for layer in layers}"
   ]
  },
  {
   "cell_type": "markdown",
   "metadata": {},
   "source": [
    "## Get neighbors"
   ]
  },
  {
   "cell_type": "code",
   "execution_count": 14,
   "metadata": {},
   "outputs": [],
   "source": [
    "selected_tok = 'Muslims'\n",
    "selected_tok_idx = doc.index(selected_tok)"
   ]
  },
  {
   "cell_type": "markdown",
   "metadata": {},
   "source": [
    "### Get corpus neighbors"
   ]
  },
  {
   "cell_type": "code",
   "execution_count": 15,
   "metadata": {},
   "outputs": [
    {
     "name": "stdout",
     "output_type": "stream",
     "text": [
      "Layer arr_0\n",
      "Loading nearest neighbors model.\n",
      "Finding neighbors\n",
      "Layer arr_3\n",
      "Loading nearest neighbors model.\n",
      "Finding neighbors\n",
      "Layer arr_6\n",
      "Loading nearest neighbors model.\n",
      "Finding neighbors\n",
      "Layer arr_9\n",
      "Loading nearest neighbors model.\n",
      "Finding neighbors\n",
      "Layer arr_12\n",
      "Loading nearest neighbors model.\n",
      "Finding neighbors\n"
     ]
    }
   ],
   "source": [
    "if vis_corpus_KNNs:\n",
    "    # io\n",
    "    corpus_dir = '/atlas/u/pkalluri/bert-vis/big-data/wiki-large'\n",
    "    corpus_dir = os.path.abspath(corpus_dir)\n",
    "    subdir = refs.sphere_dir if spherize else refs.standard_dir\n",
    "    knn_models_dir = os.path.join(corpus_dir, subdir, refs.knn_models_dirname)\n",
    "    n_neighbors = 20\n",
    "\n",
    "    # get KNNs\n",
    "    corpus_neighbors = {}\n",
    "    corpus_contexts = pickle.load(open(os.path.join(corpus_dir, subdir, refs.contexts_fn),'rb'))\n",
    "    for layer in layers:\n",
    "        print(f'Layer {layer}')\n",
    "\n",
    "        print('Loading nearest neighbors model.')\n",
    "        knn_model = pickle.load(open(os.path.join(corpus_dir, subdir, knn_models_dir, f'{layer}.pickle'), 'rb'))\n",
    "\n",
    "        print('Finding neighbors')\n",
    "        _doc_acts = doc_acts[layer]\n",
    "        neighs_dists, neighs_ids = knn_model.kneighbors([_doc_acts[selected_tok_idx]], n_neighbors=n_neighbors, return_distance=True)\n",
    "        neighs_dists, neighs_ids = neighs_dists[0], neighs_ids[0]\n",
    "        neighs = [(neigh_id, corpus_contexts[neigh_id], neigh_dist) for neigh_id, neigh_dist in zip(neighs_ids, neighs_dists)]  # a neighbor is an id, the corresponding context, and the distance away\n",
    "        corpus_neighbors[layer] = neighs\n",
    "        del knn_model, neighs_dists, neighs_ids, neighs"
   ]
  },
  {
   "cell_type": "markdown",
   "metadata": {
    "tags": []
   },
   "source": [
    "## Get masked neighbors"
   ]
  },
  {
   "cell_type": "code",
   "execution_count": 16,
   "metadata": {},
   "outputs": [],
   "source": [
    "if vis_masked_KNNs:\n",
    "    # params\n",
    "    mask_lengths = range(max(len(doc)-3, 1),len(doc)-1)\n",
    "    # GET MASKED VARIANTS OF SAMPLE\n",
    "    print('Getting variants.')\n",
    "    variants = [doc] + bert_util.get_masked_variants(doc, mask_lengths)\n",
    "    print('Getting activations.')\n",
    "    variants_contexts, variants_acts = bert.get_contexts_and_acts(variants, tokenized=True)\n",
    "    if spherize: variants_acts = {layer: spherize(variants_acts[layer]) for layer in layers}\n",
    "    \n",
    "    # GET KNNs FROM MASKED VARIANTS\n",
    "    # params\n",
    "    n_neighbors = 20\n",
    "\n",
    "    # get KNNs\n",
    "    masked_neighbors = {}\n",
    "    for layer in layers:\n",
    "        print(f'Layer {layer}')\n",
    "\n",
    "        print('Fitting nearest neighbors model.')\n",
    "        knn_model = NearestNeighbors(n_neighbors=n_neighbors).fit(variants_acts[layer])\n",
    "\n",
    "        print('Finding neighbors')\n",
    "        _doc_acts = doc_acts[layer]\n",
    "        neighs_dists, neighs_ids = knn_model.kneighbors([_doc_acts[selected_tok_idx]], n_neighbors=n_neighbors, return_distance=True)\n",
    "        neighs_dists, neighs_ids = neighs_dists[0], neighs_ids[0]\n",
    "        neighs = [(variants_contexts[neigh_id], neigh_dist) for neigh_id, neigh_dist in zip(neighs_ids, neighs_dists)]  # a neighbor is an id, the corresponding context, and the distance away\n",
    "        masked_neighbors[layer] = neighs\n",
    "        del knn_model"
   ]
  },
  {
   "cell_type": "markdown",
   "metadata": {},
   "source": [
    "## Check similarity of custom sentences"
   ]
  },
  {
   "cell_type": "code",
   "execution_count": 17,
   "metadata": {},
   "outputs": [],
   "source": [
    "if vis_custom_contexts:\n",
    "    custom_contexts_unprocessed = [\n",
    "                                    ('He caught it.', 'caught'),\n",
    "                                    ('He caught her eye.', 'caught'),\n",
    "                                    ('The rabbit caught the fox\\'s eye.', 'caught'),\n",
    "                                    ('The rabbit caught the fox\\'s attention.', 'caught'),\n",
    "                                    ('0 1 2 3 4 caught 6 7 8.', 'caught'),\n",
    "                                    ('He [MASK] it.', '[MASK]'),\n",
    "                                    ('He [MASK] her eye.', '[MASK]'),\n",
    "                                    ('The rabbit [MASK] the fox\\'s eye.', '[MASK]'),\n",
    "                                    ('The rabbit [MASK] the fox\\'s attention.', '[MASK]'),\n",
    "                                    ('0 1 2 3 4 [MASK] 6 7 8.', '[MASK]'),\n",
    "                                    ('The rabbit caught the carrot.', 'caught')\n",
    "                                    ]\n",
    "    custom_neighbors = {layer: [] for layer in layers}\n",
    "    for custom_txt, custom_tok in custom_contexts_unprocessed:\n",
    "        custom_doc, custom_doc_acts = bert.get_toks_and_acts(custom_txt)\n",
    "        custom_pos = custom_doc.index(custom_tok)\n",
    "        custom_context = (custom_doc, custom_pos)\n",
    "        for layer in layers:\n",
    "            _act = doc_acts[layer][selected_tok_idx]\n",
    "            _custom_act = custom_doc_acts[layer][custom_pos]\n",
    "            if spherize: \n",
    "                _act = spherize([_act])[0]\n",
    "                _custom_act = spherize([_custom_act])[0]\n",
    "            dist = np.linalg.norm(_custom_act - _act)\n",
    "            custom_neighbors[layer].append((custom_context, dist))\n",
    "    "
   ]
  },
  {
   "cell_type": "markdown",
   "metadata": {
    "tags": []
   },
   "source": [
    "## Vis"
   ]
  },
  {
   "cell_type": "code",
   "execution_count": 18,
   "metadata": {
    "tags": []
   },
   "outputs": [
    {
     "data": {
      "text/html": [
       "Layer arr_0"
      ],
      "text/plain": [
       "<IPython.core.display.HTML object>"
      ]
     },
     "metadata": {},
     "output_type": "display_data"
    },
    {
     "data": {
      "text/html": [
       " [CLS] Two<span style=\"background-color: lightpink;\"> Muslims</span> walk into a bar . [SEP]"
      ],
      "text/plain": [
       "<IPython.core.display.HTML object>"
      ]
     },
     "metadata": {},
     "output_type": "display_data"
    },
    {
     "data": {
      "text/html": [
       "(4.991) [CLS] Majority Sunni<span style=\"background-color: lightblue;\"> Muslims</span> dominate the revolt , and ji/had/ists make up some of the strongest fighting groups . [SEP]"
      ],
      "text/plain": [
       "<IPython.core.display.HTML object>"
      ]
     },
     "metadata": {},
     "output_type": "display_data"
    },
    {
     "data": {
      "text/html": [
       "(7.447) [CLS] The village is populated mainly by Hindus but many<span style=\"background-color: lightblue;\"> Muslims</span> also live here . [SEP]"
      ],
      "text/plain": [
       "<IPython.core.display.HTML object>"
      ]
     },
     "metadata": {},
     "output_type": "display_data"
    },
    {
     "data": {
      "text/html": [
       "(8.714) [CLS] Sal/mann Tam/im/i estimates that when he came to Iceland in 1971 there were perhaps seven<span style=\"background-color: lightblue;\"> Muslims</span> living there . [SEP]"
      ],
      "text/plain": [
       "<IPython.core.display.HTML object>"
      ]
     },
     "metadata": {},
     "output_type": "display_data"
    },
    {
     "data": {
      "text/html": [
       "(9.325) [CLS] It started out with a large following in the minority communities such as General Population ( C/reole/s , Chinese and White/s ) and<span style=\"background-color: lightblue;\"> Muslims</span> . [SEP]"
      ],
      "text/plain": [
       "<IPython.core.display.HTML object>"
      ]
     },
     "metadata": {},
     "output_type": "display_data"
    },
    {
     "data": {
      "text/html": [
       "(16.091) [CLS] The predominantly<span style=\"background-color: lightblue;\"> Muslim</span> population supported Muslim League and Pakistan Movement . [SEP]"
      ],
      "text/plain": [
       "<IPython.core.display.HTML object>"
      ]
     },
     "metadata": {},
     "output_type": "display_data"
    },
    {
     "data": {
      "text/html": [
       "(16.471) [CLS] The predominantly Muslim population supported<span style=\"background-color: lightblue;\"> Muslim</span> League and Pakistan Movement . [SEP]"
      ],
      "text/plain": [
       "<IPython.core.display.HTML object>"
      ]
     },
     "metadata": {},
     "output_type": "display_data"
    },
    {
     "data": {
      "text/html": [
       "(16.700) [CLS] He joined the Pakistan<span style=\"background-color: lightblue;\"> Muslim</span> League ( PM/L ) in 1986 . [SEP]"
      ],
      "text/plain": [
       "<IPython.core.display.HTML object>"
      ]
     },
     "metadata": {},
     "output_type": "display_data"
    },
    {
     "data": {
      "text/html": [
       "(17.005) [CLS]<span style=\"background-color: lightblue;\"> Muslim</span> is the main religion of this village . [SEP]"
      ],
      "text/plain": [
       "<IPython.core.display.HTML object>"
      ]
     },
     "metadata": {},
     "output_type": "display_data"
    },
    {
     "data": {
      "text/html": [
       "(17.014) [CLS] Ha/rn/i The Ha/rn/i are a<span style=\"background-color: lightblue;\"> Muslim</span> community found in the province of Punjab , Pakistan . [SEP]"
      ],
      "text/plain": [
       "<IPython.core.display.HTML object>"
      ]
     },
     "metadata": {},
     "output_type": "display_data"
    },
    {
     "data": {
      "text/html": [
       "(17.014) [CLS] Around half of Iranian/s in New Zealand are<span style=\"background-color: lightblue;\"> Muslim</span> , but those of Christian background are also present . [SEP]"
      ],
      "text/plain": [
       "<IPython.core.display.HTML object>"
      ]
     },
     "metadata": {},
     "output_type": "display_data"
    },
    {
     "data": {
      "text/html": [
       "(17.014) [CLS] Le Cha/tel/ier saw two ways in which<span style=\"background-color: lightblue;\"> Muslim</span> societies responded to Western modernization . [SEP]"
      ],
      "text/plain": [
       "<IPython.core.display.HTML object>"
      ]
     },
     "metadata": {},
     "output_type": "display_data"
    },
    {
     "data": {
      "text/html": [
       "(17.188) [CLS] Al - Ah/dal was killed along with the Tunisian<span style=\"background-color: lightblue;\"> Muslim</span> librarian Salem el - Be/her . [SEP]"
      ],
      "text/plain": [
       "<IPython.core.display.HTML object>"
      ]
     },
     "metadata": {},
     "output_type": "display_data"
    },
    {
     "data": {
      "text/html": [
       "(17.531) [CLS] He has a large following throughout the<span style=\"background-color: lightblue;\"> Muslim</span> world specially in Sindh and That/ta district in specific . [SEP]"
      ],
      "text/plain": [
       "<IPython.core.display.HTML object>"
      ]
     },
     "metadata": {},
     "output_type": "display_data"
    },
    {
     "data": {
      "text/html": [
       "(17.531) [CLS] P/ede/rsen is Vice Chairman of<span style=\"background-color: lightblue;\"> Muslim</span> Council of Denmark , which is the largest body of Muslim organizations in Denmark . [SEP]"
      ],
      "text/plain": [
       "<IPython.core.display.HTML object>"
      ]
     },
     "metadata": {},
     "output_type": "display_data"
    },
    {
     "data": {
      "text/html": [
       "(17.653) [CLS] P/ede/rsen is Vice Chairman of Muslim Council of Denmark , which is the largest body of<span style=\"background-color: lightblue;\"> Muslim</span> organizations in Denmark . [SEP]"
      ],
      "text/plain": [
       "<IPython.core.display.HTML object>"
      ]
     },
     "metadata": {},
     "output_type": "display_data"
    },
    {
     "data": {
      "text/html": [
       "(18.773) [CLS] The<span style=\"background-color: lightblue;\"> Christians</span> were accompanied by priests . [SEP]"
      ],
      "text/plain": [
       "<IPython.core.display.HTML object>"
      ]
     },
     "metadata": {},
     "output_type": "display_data"
    },
    {
     "data": {
      "text/html": [
       "(19.589) [CLS] Romanian<span style=\"background-color: lightblue;\"> Catholics</span> formed St . George parish in 1912 and the present church was dedicated in 1975 . [SEP]"
      ],
      "text/plain": [
       "<IPython.core.display.HTML object>"
      ]
     },
     "metadata": {},
     "output_type": "display_data"
    },
    {
     "data": {
      "text/html": [
       "(19.916) [CLS] This rag/a originated in<span style=\"background-color: lightblue;\"> Hindus</span>/tani classical music and has been taken into Car/nat/ic music . [SEP]"
      ],
      "text/plain": [
       "<IPython.core.display.HTML object>"
      ]
     },
     "metadata": {},
     "output_type": "display_data"
    },
    {
     "data": {
      "text/html": [
       "(20.042) [CLS] He departed in 2010 and was replaced by Doug<span style=\"background-color: lightblue;\"> Christians</span>/en . [SEP]"
      ],
      "text/plain": [
       "<IPython.core.display.HTML object>"
      ]
     },
     "metadata": {},
     "output_type": "display_data"
    },
    {
     "data": {
      "text/html": [
       "(20.138) [CLS] Most historians agree in saying that fourteen thousand<span style=\"background-color: lightblue;\"> Christians</span> were slaughtered and a hundred thousand dragged away into slavery . ' [SEP]"
      ],
      "text/plain": [
       "<IPython.core.display.HTML object>"
      ]
     },
     "metadata": {},
     "output_type": "display_data"
    },
    {
     "name": "stdout",
     "output_type": "stream",
     "text": [
      ".\n",
      ".\n",
      ".\n"
     ]
    },
    {
     "data": {
      "text/html": [
       "Layer arr_3"
      ],
      "text/plain": [
       "<IPython.core.display.HTML object>"
      ]
     },
     "metadata": {},
     "output_type": "display_data"
    },
    {
     "data": {
      "text/html": [
       " [CLS] Two<span style=\"background-color: lightpink;\"> Muslims</span> walk into a bar . [SEP]"
      ],
      "text/plain": [
       "<IPython.core.display.HTML object>"
      ]
     },
     "metadata": {},
     "output_type": "display_data"
    },
    {
     "data": {
      "text/html": [
       "(12.453) [CLS] Sal/mann Tam/im/i estimates that when he came to Iceland in 1971 there were perhaps seven<span style=\"background-color: grey;\"> Muslims</span> living there . [SEP]"
      ],
      "text/plain": [
       "<IPython.core.display.HTML object>"
      ]
     },
     "metadata": {},
     "output_type": "display_data"
    },
    {
     "data": {
      "text/html": [
       "(13.612) [CLS] The village is populated mainly by Hindus but many<span style=\"background-color: grey;\"> Muslims</span> also live here . [SEP]"
      ],
      "text/plain": [
       "<IPython.core.display.HTML object>"
      ]
     },
     "metadata": {},
     "output_type": "display_data"
    },
    {
     "data": {
      "text/html": [
       "(13.991) [CLS] Majority Sunni<span style=\"background-color: grey;\"> Muslims</span> dominate the revolt , and ji/had/ists make up some of the strongest fighting groups . [SEP]"
      ],
      "text/plain": [
       "<IPython.core.display.HTML object>"
      ]
     },
     "metadata": {},
     "output_type": "display_data"
    },
    {
     "data": {
      "text/html": [
       "(14.182) [CLS] It started out with a large following in the minority communities such as General Population ( C/reole/s , Chinese and White/s ) and<span style=\"background-color: grey;\"> Muslims</span> . [SEP]"
      ],
      "text/plain": [
       "<IPython.core.display.HTML object>"
      ]
     },
     "metadata": {},
     "output_type": "display_data"
    },
    {
     "data": {
      "text/html": [
       "(17.561) [CLS]<span style=\"background-color: grey;\"> Muslim</span> is the main religion of this village . [SEP]"
      ],
      "text/plain": [
       "<IPython.core.display.HTML object>"
      ]
     },
     "metadata": {},
     "output_type": "display_data"
    },
    {
     "data": {
      "text/html": [
       "(17.937) [CLS] Le Cha/tel/ier saw two ways in which<span style=\"background-color: grey;\"> Muslim</span> societies responded to Western modernization . [SEP]"
      ],
      "text/plain": [
       "<IPython.core.display.HTML object>"
      ]
     },
     "metadata": {},
     "output_type": "display_data"
    },
    {
     "data": {
      "text/html": [
       "(18.407) [CLS] P/ede/rsen is Vice Chairman of Muslim Council of Denmark , which is the largest body of<span style=\"background-color: grey;\"> Muslim</span> organizations in Denmark . [SEP]"
      ],
      "text/plain": [
       "<IPython.core.display.HTML object>"
      ]
     },
     "metadata": {},
     "output_type": "display_data"
    },
    {
     "data": {
      "text/html": [
       "(18.643) [CLS] Ha/rn/i The Ha/rn/i are a<span style=\"background-color: grey;\"> Muslim</span> community found in the province of Punjab , Pakistan . [SEP]"
      ],
      "text/plain": [
       "<IPython.core.display.HTML object>"
      ]
     },
     "metadata": {},
     "output_type": "display_data"
    },
    {
     "data": {
      "text/html": [
       "(18.895) [CLS] Around half of Iranian/s in New Zealand are<span style=\"background-color: grey;\"> Muslim</span> , but those of Christian background are also present . [SEP]"
      ],
      "text/plain": [
       "<IPython.core.display.HTML object>"
      ]
     },
     "metadata": {},
     "output_type": "display_data"
    },
    {
     "data": {
      "text/html": [
       "(19.185) [CLS] He has a large following throughout the<span style=\"background-color: grey;\"> Muslim</span> world specially in Sindh and That/ta district in specific . [SEP]"
      ],
      "text/plain": [
       "<IPython.core.display.HTML object>"
      ]
     },
     "metadata": {},
     "output_type": "display_data"
    },
    {
     "data": {
      "text/html": [
       "(19.498) [CLS] Al - Ah/dal was killed along with the Tunisian<span style=\"background-color: grey;\"> Muslim</span> librarian Salem el - Be/her . [SEP]"
      ],
      "text/plain": [
       "<IPython.core.display.HTML object>"
      ]
     },
     "metadata": {},
     "output_type": "display_data"
    },
    {
     "data": {
      "text/html": [
       "(19.665) [CLS] P/ede/rsen is Vice Chairman of<span style=\"background-color: grey;\"> Muslim</span> Council of Denmark , which is the largest body of Muslim organizations in Denmark . [SEP]"
      ],
      "text/plain": [
       "<IPython.core.display.HTML object>"
      ]
     },
     "metadata": {},
     "output_type": "display_data"
    },
    {
     "data": {
      "text/html": [
       "(19.827) [CLS] The predominantly<span style=\"background-color: grey;\"> Muslim</span> population supported Muslim League and Pakistan Movement . [SEP]"
      ],
      "text/plain": [
       "<IPython.core.display.HTML object>"
      ]
     },
     "metadata": {},
     "output_type": "display_data"
    },
    {
     "data": {
      "text/html": [
       "(20.214) [CLS] The<span style=\"background-color: grey;\"> Christians</span> were accompanied by priests . [SEP]"
      ],
      "text/plain": [
       "<IPython.core.display.HTML object>"
      ]
     },
     "metadata": {},
     "output_type": "display_data"
    },
    {
     "data": {
      "text/html": [
       "(20.556) [CLS] The<span style=\"background-color: lightblue;\"> mosque</span> has a min/aret over the door , one hall , it is one - s/tor/ied and is made of red bricks . [SEP]"
      ],
      "text/plain": [
       "<IPython.core.display.HTML object>"
      ]
     },
     "metadata": {},
     "output_type": "display_data"
    },
    {
     "data": {
      "text/html": [
       "(20.600) [CLS]<span style=\"background-color: lightblue;\"> Jews</span> were only formally read/mit/ted to the peninsula in the late 19th century . [SEP]"
      ],
      "text/plain": [
       "<IPython.core.display.HTML object>"
      ]
     },
     "metadata": {},
     "output_type": "display_data"
    },
    {
     "data": {
      "text/html": [
       "(20.614) [CLS] S/UT Su/t is a demon in<span style=\"background-color: lightblue;\"> Islam</span> . [SEP]"
      ],
      "text/plain": [
       "<IPython.core.display.HTML object>"
      ]
     },
     "metadata": {},
     "output_type": "display_data"
    },
    {
     "data": {
      "text/html": [
       "(20.742) [CLS] As many<span style=\"background-color: lightblue;\"> Jews</span> took part in the protests , the Russian government saw the Si/ed/l/ce as a ripe territory to show its force . [SEP]"
      ],
      "text/plain": [
       "<IPython.core.display.HTML object>"
      ]
     },
     "metadata": {},
     "output_type": "display_data"
    },
    {
     "data": {
      "text/html": [
       "(20.822) [CLS] In the 1950s a group of Argentine Jews and another group consisting mostly of Sep/hard/ic<span style=\"background-color: lightblue;\"> Jews</span> joined the k/ib/but/z . [SEP]"
      ],
      "text/plain": [
       "<IPython.core.display.HTML object>"
      ]
     },
     "metadata": {},
     "output_type": "display_data"
    },
    {
     "data": {
      "text/html": [
       "(20.951) [CLS] They then appeared in<span style=\"background-color: lightblue;\"> Islamic</span> sources . [SEP]"
      ],
      "text/plain": [
       "<IPython.core.display.HTML object>"
      ]
     },
     "metadata": {},
     "output_type": "display_data"
    },
    {
     "name": "stdout",
     "output_type": "stream",
     "text": [
      ".\n",
      ".\n",
      ".\n"
     ]
    },
    {
     "data": {
      "text/html": [
       "Layer arr_6"
      ],
      "text/plain": [
       "<IPython.core.display.HTML object>"
      ]
     },
     "metadata": {},
     "output_type": "display_data"
    },
    {
     "data": {
      "text/html": [
       " [CLS] Two<span style=\"background-color: lightpink;\"> Muslims</span> walk into a bar . [SEP]"
      ],
      "text/plain": [
       "<IPython.core.display.HTML object>"
      ]
     },
     "metadata": {},
     "output_type": "display_data"
    },
    {
     "data": {
      "text/html": [
       "(12.134) [CLS] Sal/mann Tam/im/i estimates that when he came to Iceland in 1971 there were perhaps seven<span style=\"background-color: grey;\"> Muslims</span> living there . [SEP]"
      ],
      "text/plain": [
       "<IPython.core.display.HTML object>"
      ]
     },
     "metadata": {},
     "output_type": "display_data"
    },
    {
     "data": {
      "text/html": [
       "(15.125) [CLS] Majority Sunni<span style=\"background-color: grey;\"> Muslims</span> dominate the revolt , and ji/had/ists make up some of the strongest fighting groups . [SEP]"
      ],
      "text/plain": [
       "<IPython.core.display.HTML object>"
      ]
     },
     "metadata": {},
     "output_type": "display_data"
    },
    {
     "data": {
      "text/html": [
       "(15.653) [CLS] The village is populated mainly by Hindus but many<span style=\"background-color: grey;\"> Muslims</span> also live here . [SEP]"
      ],
      "text/plain": [
       "<IPython.core.display.HTML object>"
      ]
     },
     "metadata": {},
     "output_type": "display_data"
    },
    {
     "data": {
      "text/html": [
       "(16.017) [CLS] It started out with a large following in the minority communities such as General Population ( C/reole/s , Chinese and White/s ) and<span style=\"background-color: grey;\"> Muslims</span> . [SEP]"
      ],
      "text/plain": [
       "<IPython.core.display.HTML object>"
      ]
     },
     "metadata": {},
     "output_type": "display_data"
    },
    {
     "data": {
      "text/html": [
       "(17.314) [CLS] The<span style=\"background-color: grey;\"> Christians</span> were accompanied by priests . [SEP]"
      ],
      "text/plain": [
       "<IPython.core.display.HTML object>"
      ]
     },
     "metadata": {},
     "output_type": "display_data"
    },
    {
     "data": {
      "text/html": [
       "(17.712) [CLS] As many<span style=\"background-color: grey;\"> Jews</span> took part in the protests , the Russian government saw the Si/ed/l/ce as a ripe territory to show its force . [SEP]"
      ],
      "text/plain": [
       "<IPython.core.display.HTML object>"
      ]
     },
     "metadata": {},
     "output_type": "display_data"
    },
    {
     "data": {
      "text/html": [
       "(17.824) [CLS] Le Cha/tel/ier saw two ways in which<span style=\"background-color: grey;\"> Muslim</span> societies responded to Western modernization . [SEP]"
      ],
      "text/plain": [
       "<IPython.core.display.HTML object>"
      ]
     },
     "metadata": {},
     "output_type": "display_data"
    },
    {
     "data": {
      "text/html": [
       "(18.213) [CLS]<span style=\"background-color: grey;\"> Jews</span> were only formally read/mit/ted to the peninsula in the late 19th century . [SEP]"
      ],
      "text/plain": [
       "<IPython.core.display.HTML object>"
      ]
     },
     "metadata": {},
     "output_type": "display_data"
    },
    {
     "data": {
      "text/html": [
       "(18.387) [CLS] From the 1880s until 1915 up to 2 million<span style=\"background-color: lightblue;\"> Jews</span> left Eastern Europe . [SEP]"
      ],
      "text/plain": [
       "<IPython.core.display.HTML object>"
      ]
     },
     "metadata": {},
     "output_type": "display_data"
    },
    {
     "data": {
      "text/html": [
       "(18.400) [CLS] Most historians agree in saying that fourteen thousand<span style=\"background-color: grey;\"> Christians</span> were slaughtered and a hundred thousand dragged away into slavery . ' [SEP]"
      ],
      "text/plain": [
       "<IPython.core.display.HTML object>"
      ]
     },
     "metadata": {},
     "output_type": "display_data"
    },
    {
     "data": {
      "text/html": [
       "(18.497) [CLS] Some European<span style=\"background-color: lightblue;\"> Jews</span> turned to Social/ism , and others to Jewish Zion/ism . [SEP]"
      ],
      "text/plain": [
       "<IPython.core.display.HTML object>"
      ]
     },
     "metadata": {},
     "output_type": "display_data"
    },
    {
     "data": {
      "text/html": [
       "(18.526) [CLS] P/ede/rsen is Vice Chairman of Muslim Council of Denmark , which is the largest body of<span style=\"background-color: grey;\"> Muslim</span> organizations in Denmark . [SEP]"
      ],
      "text/plain": [
       "<IPython.core.display.HTML object>"
      ]
     },
     "metadata": {},
     "output_type": "display_data"
    },
    {
     "data": {
      "text/html": [
       "(18.666) [CLS] Ha/rn/i The Ha/rn/i are a<span style=\"background-color: grey;\"> Muslim</span> community found in the province of Punjab , Pakistan . [SEP]"
      ],
      "text/plain": [
       "<IPython.core.display.HTML object>"
      ]
     },
     "metadata": {},
     "output_type": "display_data"
    },
    {
     "data": {
      "text/html": [
       "(18.738) [CLS] The main feature of the literature of this period is the competition between<span style=\"background-color: lightblue;\"> Catholics</span> writing in Latin , e . g . [SEP]"
      ],
      "text/plain": [
       "<IPython.core.display.HTML object>"
      ]
     },
     "metadata": {},
     "output_type": "display_data"
    },
    {
     "data": {
      "text/html": [
       "(19.017) [CLS] In the 1950s a group of Argentine Jews and another group consisting mostly of Sep/hard/ic<span style=\"background-color: grey;\"> Jews</span> joined the k/ib/but/z . [SEP]"
      ],
      "text/plain": [
       "<IPython.core.display.HTML object>"
      ]
     },
     "metadata": {},
     "output_type": "display_data"
    },
    {
     "data": {
      "text/html": [
       "(19.194) [CLS] The Poles refused to admit them and some 17 , 000<span style=\"background-color: lightblue;\"> Jews</span> were trapped between the two countries at Z/b/ą/sz/y/ń . [SEP]"
      ],
      "text/plain": [
       "<IPython.core.display.HTML object>"
      ]
     },
     "metadata": {},
     "output_type": "display_data"
    },
    {
     "data": {
      "text/html": [
       "(19.356) [CLS] Around half of Iranian/s in New Zealand are<span style=\"background-color: grey;\"> Muslim</span> , but those of Christian background are also present . [SEP]"
      ],
      "text/plain": [
       "<IPython.core.display.HTML object>"
      ]
     },
     "metadata": {},
     "output_type": "display_data"
    },
    {
     "data": {
      "text/html": [
       "(19.434) [CLS] While the earliest congregation was composed mainly of Portuguese<span style=\"background-color: lightblue;\"> Jews</span> , the German element soon became prominent . [SEP]"
      ],
      "text/plain": [
       "<IPython.core.display.HTML object>"
      ]
     },
     "metadata": {},
     "output_type": "display_data"
    },
    {
     "data": {
      "text/html": [
       "(19.514) [CLS]<span style=\"background-color: grey;\"> Muslim</span> is the main religion of this village . [SEP]"
      ],
      "text/plain": [
       "<IPython.core.display.HTML object>"
      ]
     },
     "metadata": {},
     "output_type": "display_data"
    },
    {
     "data": {
      "text/html": [
       "(19.580) [CLS] As the Catholic population of the city grew , the city ' s<span style=\"background-color: lightblue;\"> Catholics</span> raised money for construction of a new church . [SEP]"
      ],
      "text/plain": [
       "<IPython.core.display.HTML object>"
      ]
     },
     "metadata": {},
     "output_type": "display_data"
    },
    {
     "name": "stdout",
     "output_type": "stream",
     "text": [
      ".\n",
      ".\n",
      ".\n"
     ]
    },
    {
     "data": {
      "text/html": [
       "Layer arr_9"
      ],
      "text/plain": [
       "<IPython.core.display.HTML object>"
      ]
     },
     "metadata": {},
     "output_type": "display_data"
    },
    {
     "data": {
      "text/html": [
       " [CLS] Two<span style=\"background-color: lightpink;\"> Muslims</span> walk into a bar . [SEP]"
      ],
      "text/plain": [
       "<IPython.core.display.HTML object>"
      ]
     },
     "metadata": {},
     "output_type": "display_data"
    },
    {
     "data": {
      "text/html": [
       "(10.303) [CLS] Sal/mann Tam/im/i estimates that when he came to Iceland in 1971 there were perhaps seven<span style=\"background-color: grey;\"> Muslims</span> living there . [SEP]"
      ],
      "text/plain": [
       "<IPython.core.display.HTML object>"
      ]
     },
     "metadata": {},
     "output_type": "display_data"
    },
    {
     "data": {
      "text/html": [
       "(14.513) [CLS] Majority Sunni<span style=\"background-color: grey;\"> Muslims</span> dominate the revolt , and ji/had/ists make up some of the strongest fighting groups . [SEP]"
      ],
      "text/plain": [
       "<IPython.core.display.HTML object>"
      ]
     },
     "metadata": {},
     "output_type": "display_data"
    },
    {
     "data": {
      "text/html": [
       "(14.701) [CLS] The village is populated mainly by Hindus but many<span style=\"background-color: grey;\"> Muslims</span> also live here . [SEP]"
      ],
      "text/plain": [
       "<IPython.core.display.HTML object>"
      ]
     },
     "metadata": {},
     "output_type": "display_data"
    },
    {
     "data": {
      "text/html": [
       "(15.092) [CLS] Le Cha/tel/ier saw two ways in which<span style=\"background-color: grey;\"> Muslim</span> societies responded to Western modernization . [SEP]"
      ],
      "text/plain": [
       "<IPython.core.display.HTML object>"
      ]
     },
     "metadata": {},
     "output_type": "display_data"
    },
    {
     "data": {
      "text/html": [
       "(15.523) [CLS] It started out with a large following in the minority communities such as General Population ( C/reole/s , Chinese and White/s ) and<span style=\"background-color: grey;\"> Muslims</span> . [SEP]"
      ],
      "text/plain": [
       "<IPython.core.display.HTML object>"
      ]
     },
     "metadata": {},
     "output_type": "display_data"
    },
    {
     "data": {
      "text/html": [
       "(15.564) [CLS] Ha/rn/i The Ha/rn/i are a<span style=\"background-color: grey;\"> Muslim</span> community found in the province of Punjab , Pakistan . [SEP]"
      ],
      "text/plain": [
       "<IPython.core.display.HTML object>"
      ]
     },
     "metadata": {},
     "output_type": "display_data"
    },
    {
     "data": {
      "text/html": [
       "(15.898) [CLS] The eight recognized<span style=\"background-color: lightblue;\"> Islamic</span> schools and branches are : [SEP]"
      ],
      "text/plain": [
       "<IPython.core.display.HTML object>"
      ]
     },
     "metadata": {},
     "output_type": "display_data"
    },
    {
     "data": {
      "text/html": [
       "(16.105) [CLS] P/ede/rsen is Vice Chairman of Muslim Council of Denmark , which is the largest body of<span style=\"background-color: grey;\"> Muslim</span> organizations in Denmark . [SEP]"
      ],
      "text/plain": [
       "<IPython.core.display.HTML object>"
      ]
     },
     "metadata": {},
     "output_type": "display_data"
    },
    {
     "data": {
      "text/html": [
       "(16.717) [CLS] The Ministry responsibilities also include increasing the awareness of the good practice of<span style=\"background-color: lightblue;\"> Islam</span> . [SEP]"
      ],
      "text/plain": [
       "<IPython.core.display.HTML object>"
      ]
     },
     "metadata": {},
     "output_type": "display_data"
    },
    {
     "data": {
      "text/html": [
       "(16.743) [CLS] The<span style=\"background-color: grey;\"> Christians</span> were accompanied by priests . [SEP]"
      ],
      "text/plain": [
       "<IPython.core.display.HTML object>"
      ]
     },
     "metadata": {},
     "output_type": "display_data"
    },
    {
     "data": {
      "text/html": [
       "(16.873) [CLS] He has a large following throughout the<span style=\"background-color: grey;\"> Muslim</span> world specially in Sindh and That/ta district in specific . [SEP]"
      ],
      "text/plain": [
       "<IPython.core.display.HTML object>"
      ]
     },
     "metadata": {},
     "output_type": "display_data"
    },
    {
     "data": {
      "text/html": [
       "(16.910) [CLS] Al - Ah/dal was killed along with the Tunisian<span style=\"background-color: grey;\"> Muslim</span> librarian Salem el - Be/her . [SEP]"
      ],
      "text/plain": [
       "<IPython.core.display.HTML object>"
      ]
     },
     "metadata": {},
     "output_type": "display_data"
    },
    {
     "data": {
      "text/html": [
       "(16.928) [CLS] They then appeared in<span style=\"background-color: grey;\"> Islamic</span> sources . [SEP]"
      ],
      "text/plain": [
       "<IPython.core.display.HTML object>"
      ]
     },
     "metadata": {},
     "output_type": "display_data"
    },
    {
     "data": {
      "text/html": [
       "(17.055) [CLS] Beside that , three Malaysian<span style=\"background-color: lightblue;\"> Islamic</span> banks have set up operations in Bosnia in 2010 . [SEP]"
      ],
      "text/plain": [
       "<IPython.core.display.HTML object>"
      ]
     },
     "metadata": {},
     "output_type": "display_data"
    },
    {
     "data": {
      "text/html": [
       "(17.144) [CLS] Around half of Iranian/s in New Zealand are<span style=\"background-color: grey;\"> Muslim</span> , but those of Christian background are also present . [SEP]"
      ],
      "text/plain": [
       "<IPython.core.display.HTML object>"
      ]
     },
     "metadata": {},
     "output_type": "display_data"
    },
    {
     "data": {
      "text/html": [
       "(17.166) [CLS] P/ede/rsen is Vice Chairman of<span style=\"background-color: grey;\"> Muslim</span> Council of Denmark , which is the largest body of Muslim organizations in Denmark . [SEP]"
      ],
      "text/plain": [
       "<IPython.core.display.HTML object>"
      ]
     },
     "metadata": {},
     "output_type": "display_data"
    },
    {
     "data": {
      "text/html": [
       "(17.183) [CLS] Most historians agree in saying that fourteen thousand<span style=\"background-color: grey;\"> Christians</span> were slaughtered and a hundred thousand dragged away into slavery . ' [SEP]"
      ],
      "text/plain": [
       "<IPython.core.display.HTML object>"
      ]
     },
     "metadata": {},
     "output_type": "display_data"
    },
    {
     "data": {
      "text/html": [
       "(17.444) [CLS] The<span style=\"background-color: grey;\"> mosque</span> has a min/aret over the door , one hall , it is one - s/tor/ied and is made of red bricks . [SEP]"
      ],
      "text/plain": [
       "<IPython.core.display.HTML object>"
      ]
     },
     "metadata": {},
     "output_type": "display_data"
    },
    {
     "data": {
      "text/html": [
       "(17.605) [CLS] According to B/urg/nia/rd , Lot/fi was the hi/jack/er who insisted that the passengers follow<span style=\"background-color: lightblue;\"> Islamic</span> law . [SEP]"
      ],
      "text/plain": [
       "<IPython.core.display.HTML object>"
      ]
     },
     "metadata": {},
     "output_type": "display_data"
    },
    {
     "data": {
      "text/html": [
       "(17.936) [CLS]<span style=\"background-color: grey;\"> Muslim</span> is the main religion of this village . [SEP]"
      ],
      "text/plain": [
       "<IPython.core.display.HTML object>"
      ]
     },
     "metadata": {},
     "output_type": "display_data"
    },
    {
     "name": "stdout",
     "output_type": "stream",
     "text": [
      ".\n",
      ".\n",
      ".\n"
     ]
    },
    {
     "data": {
      "text/html": [
       "Layer arr_12"
      ],
      "text/plain": [
       "<IPython.core.display.HTML object>"
      ]
     },
     "metadata": {},
     "output_type": "display_data"
    },
    {
     "data": {
      "text/html": [
       " [CLS] Two<span style=\"background-color: lightpink;\"> Muslims</span> walk into a bar . [SEP]"
      ],
      "text/plain": [
       "<IPython.core.display.HTML object>"
      ]
     },
     "metadata": {},
     "output_type": "display_data"
    },
    {
     "data": {
      "text/html": [
       "(5.539) [CLS] Sal/mann Tam/im/i estimates that when he came to Iceland in 1971 there were perhaps seven<span style=\"background-color: grey;\"> Muslims</span> living there . [SEP]"
      ],
      "text/plain": [
       "<IPython.core.display.HTML object>"
      ]
     },
     "metadata": {},
     "output_type": "display_data"
    },
    {
     "data": {
      "text/html": [
       "(6.964) [CLS] The<span style=\"background-color: grey;\"> Christians</span> were accompanied by priests . [SEP]"
      ],
      "text/plain": [
       "<IPython.core.display.HTML object>"
      ]
     },
     "metadata": {},
     "output_type": "display_data"
    },
    {
     "data": {
      "text/html": [
       "(7.210) [CLS] Le Cha/tel/ier saw two ways in which<span style=\"background-color: grey;\"> Muslim</span> societies responded to Western modernization . [SEP]"
      ],
      "text/plain": [
       "<IPython.core.display.HTML object>"
      ]
     },
     "metadata": {},
     "output_type": "display_data"
    },
    {
     "data": {
      "text/html": [
       "(7.235) [CLS] Majority Sunni<span style=\"background-color: grey;\"> Muslims</span> dominate the revolt , and ji/had/ists make up some of the strongest fighting groups . [SEP]"
      ],
      "text/plain": [
       "<IPython.core.display.HTML object>"
      ]
     },
     "metadata": {},
     "output_type": "display_data"
    },
    {
     "data": {
      "text/html": [
       "(7.526) [CLS] The Ministry responsibilities also include increasing the awareness of the good practice of<span style=\"background-color: grey;\"> Islam</span> . [SEP]"
      ],
      "text/plain": [
       "<IPython.core.display.HTML object>"
      ]
     },
     "metadata": {},
     "output_type": "display_data"
    },
    {
     "data": {
      "text/html": [
       "(7.687) [CLS] Al - Ah/dal was killed along with the Tunisian<span style=\"background-color: grey;\"> Muslim</span> librarian Salem el - Be/her . [SEP]"
      ],
      "text/plain": [
       "<IPython.core.display.HTML object>"
      ]
     },
     "metadata": {},
     "output_type": "display_data"
    },
    {
     "data": {
      "text/html": [
       "(7.829) [CLS] P/ede/rsen is Vice Chairman of Muslim Council of Denmark , which is the largest body of<span style=\"background-color: grey;\"> Muslim</span> organizations in Denmark . [SEP]"
      ],
      "text/plain": [
       "<IPython.core.display.HTML object>"
      ]
     },
     "metadata": {},
     "output_type": "display_data"
    },
    {
     "data": {
      "text/html": [
       "(7.870) [CLS] P/ede/rsen is Vice Chairman of<span style=\"background-color: grey;\"> Muslim</span> Council of Denmark , which is the largest body of Muslim organizations in Denmark . [SEP]"
      ],
      "text/plain": [
       "<IPython.core.display.HTML object>"
      ]
     },
     "metadata": {},
     "output_type": "display_data"
    },
    {
     "data": {
      "text/html": [
       "(7.898) [CLS] It started out with a large following in the minority communities such as General Population ( C/reole/s , Chinese and White/s ) and<span style=\"background-color: grey;\"> Muslims</span> . [SEP]"
      ],
      "text/plain": [
       "<IPython.core.display.HTML object>"
      ]
     },
     "metadata": {},
     "output_type": "display_data"
    },
    {
     "data": {
      "text/html": [
       "(7.961) [CLS] The eight recognized<span style=\"background-color: grey;\"> Islamic</span> schools and branches are : [SEP]"
      ],
      "text/plain": [
       "<IPython.core.display.HTML object>"
      ]
     },
     "metadata": {},
     "output_type": "display_data"
    },
    {
     "data": {
      "text/html": [
       "(7.978) [CLS] The village is populated mainly by Hindus but many<span style=\"background-color: grey;\"> Muslims</span> also live here . [SEP]"
      ],
      "text/plain": [
       "<IPython.core.display.HTML object>"
      ]
     },
     "metadata": {},
     "output_type": "display_data"
    },
    {
     "data": {
      "text/html": [
       "(8.045) [CLS] He is in league with<span style=\"background-color: lightblue;\"> Arab</span> slave trader A/ch/met Z/ek who wishes revenge on Tarzan and Lady Jane for himself . [SEP]"
      ],
      "text/plain": [
       "<IPython.core.display.HTML object>"
      ]
     },
     "metadata": {},
     "output_type": "display_data"
    },
    {
     "data": {
      "text/html": [
       "(8.093) [CLS] According to B/urg/nia/rd , Lot/fi was the hi/jack/er who insisted that the passengers follow<span style=\"background-color: grey;\"> Islamic</span> law . [SEP]"
      ],
      "text/plain": [
       "<IPython.core.display.HTML object>"
      ]
     },
     "metadata": {},
     "output_type": "display_data"
    },
    {
     "data": {
      "text/html": [
       "(8.098) [CLS] The<span style=\"background-color: lightblue;\"> men</span> start off as comet/s made of water , dirt , air , and fire before transforming into cloth/ed humans . [SEP]"
      ],
      "text/plain": [
       "<IPython.core.display.HTML object>"
      ]
     },
     "metadata": {},
     "output_type": "display_data"
    },
    {
     "data": {
      "text/html": [
       "(8.130) [CLS] In both cases the protagonists appear to have only ten/uous connections with the suspected<span style=\"background-color: lightblue;\"> terrorist</span> plots . [SEP]"
      ],
      "text/plain": [
       "<IPython.core.display.HTML object>"
      ]
     },
     "metadata": {},
     "output_type": "display_data"
    },
    {
     "data": {
      "text/html": [
       "(8.135) [CLS] He has a large following throughout the<span style=\"background-color: grey;\"> Muslim</span> world specially in Sindh and That/ta district in specific . [SEP]"
      ],
      "text/plain": [
       "<IPython.core.display.HTML object>"
      ]
     },
     "metadata": {},
     "output_type": "display_data"
    },
    {
     "data": {
      "text/html": [
       "(8.136) [CLS] His father , Must/aph/a Far/rak/han , is the Supreme Captain of the Nation of<span style=\"background-color: lightblue;\"> Islam</span> . [SEP]"
      ],
      "text/plain": [
       "<IPython.core.display.HTML object>"
      ]
     },
     "metadata": {},
     "output_type": "display_data"
    },
    {
     "data": {
      "text/html": [
       "(8.140) [CLS] A taxi driver , Ahmad G/ha/fo/r , said that he found that \" it gets worse when I have women<span style=\"background-color: lightblue;\"> customers</span> in the car . [SEP]"
      ],
      "text/plain": [
       "<IPython.core.display.HTML object>"
      ]
     },
     "metadata": {},
     "output_type": "display_data"
    },
    {
     "data": {
      "text/html": [
       "(8.168) [CLS] Most historians agree in saying that fourteen thousand<span style=\"background-color: grey;\"> Christians</span> were slaughtered and a hundred thousand dragged away into slavery . ' [SEP]"
      ],
      "text/plain": [
       "<IPython.core.display.HTML object>"
      ]
     },
     "metadata": {},
     "output_type": "display_data"
    },
    {
     "data": {
      "text/html": [
       "(8.192) [CLS] Beside that , three Malaysian<span style=\"background-color: grey;\"> Islamic</span> banks have set up operations in Bosnia in 2010 . [SEP]"
      ],
      "text/plain": [
       "<IPython.core.display.HTML object>"
      ]
     },
     "metadata": {},
     "output_type": "display_data"
    },
    {
     "name": "stdout",
     "output_type": "stream",
     "text": [
      ".\n",
      ".\n",
      ".\n"
     ]
    }
   ],
   "source": [
    "# VISUALIZE\n",
    "\n",
    "override_params = False  # useful for quick iteration on visualization\n",
    "if override_params:\n",
    "    vis_color = False\n",
    "    vis_size = False\n",
    "    vis_masked_KNNs = False\n",
    "    vis_corpus_KNNs = True\n",
    "    vis_custom_contexts = False\n",
    "    together = True\n",
    "    pruning=True  \n",
    "    save_to_html = False\n",
    "    # if pruning is true, in the masked neighbors vis, first the closest 0-length mask is presented, \n",
    "    # then jumps to the closes 1-length max, etc - forming a kind of slow pruning to capture the essence of the context.\n",
    "# other vis params\n",
    "max_font_size = 10\n",
    "if save_to_html: html_doc = ''\n",
    "# params if visualizing neighbors\n",
    "if vis_corpus_KNNs or vis_masked_KNNs or vis_custom_contexts:\n",
    "    n_neighbors_to_vis = 50\n",
    "    token_styler = lambda t: t\n",
    "    # token_styler = lambda t: style(font_size(fix_size(t),7), 'line-height:0px;')  # another pretty styling option\n",
    "    bluer = highlighter('lightblue')\n",
    "    greener = highlighter('limegreen')\n",
    "    greyer = highlighter('grey')\n",
    "    masker = highlighter('black')\n",
    "    selected_tok_html = context_html(doc, selected_tok_idx)\n",
    "\n",
    "# vis legend\n",
    "if vis_color:\n",
    "    pure_rgbs = vis_util.channels_to_rgbs(np.eye(dim))\n",
    "    html = ''\n",
    "    for i, rgb in enumerate(pure_rgbs):\n",
    "        html += html_util.style(f' {i} ', css=f'background-color: {html_util.rgb_to_color(*rgb)}')\n",
    "    print('Legend')\n",
    "    display(HTML(html))\n",
    "    if save_to_html: html_doc += html + '<br>'\n",
    "    print() \n",
    "    rgbs = {layer:vis_util.channels_to_rgbs(doc_reduced_acts[layer]) for layer in layers}  # prepare coloring\n",
    "\n",
    "corpus_neighs_so_far = []  \n",
    "for layer in layers:\n",
    "    html = f'Layer {layer}'\n",
    "    display(HTML(html))\n",
    "    if save_to_html: html_doc += html\n",
    "    \n",
    "    # vis sample\n",
    "    if vis_size:\n",
    "        _sizes = doc_acts_sizes[layer]\n",
    "        _sizes = (_sizes - np.min(_sizes)) / (np.max(_sizes) - np.min(_sizes))    \n",
    "    if vis_color:\n",
    "        _rgbs = rgbs[layer]\n",
    "        color_html = ''\n",
    "        for pos, tok in enumerate(doc):\n",
    "            if vis_size:\n",
    "                css = f'background-color: {html_util.rgb_to_color(*_rgbs[pos])}; font-size: {_sizes[pos]*max_font_size}pt;'\n",
    "            else:\n",
    "                css = f'background-color: {html_util.rgb_to_color(*_rgbs[pos])}; font-size: {max_font_size}pt;'\n",
    "            color_html += html_util.style(f' {tok} ', css=css)\n",
    "        display(HTML(color_html))\n",
    "        if save_to_html: html_doc += color_html + '<br>'\n",
    "    \n",
    "    # vis knns\n",
    "    if vis_masked_KNNs or vis_corpus_KNNs or vis_custom_contexts:\n",
    "        # Show the doc\n",
    "        display(HTML(selected_tok_html))\n",
    "        if save_to_html: html_doc += selected_tok_html + '<br>'\n",
    "        \n",
    "        if together:\n",
    "            neighbors = []\n",
    "            if vis_masked_KNNs:\n",
    "                neighbors.extend([(context, dist, 'masked') for context, dist in masked_neighbors[layer]])\n",
    "            if vis_corpus_KNNs:\n",
    "                neighbors.extend([(context, dist, 'corpus') for context_id, context, dist in corpus_neighbors[layer]])\n",
    "            if vis_custom_contexts:\n",
    "                neighbors.extend([(context, dist, 'custom') for context, dist in custom_neighbors[layer]])\n",
    "            neighbors.sort(key=lambda t: t[1])  # sort all by dist\n",
    "            \n",
    "            for neigh_context, neigh_dist, neigh_source in neighbors[:n_neighbors_to_vis]:\n",
    "                html = f'({neigh_dist:.3f}) '\n",
    "                if neigh_source == 'masked':\n",
    "                    html += context_html(*neigh_context, masker=masker, token_styler=token_styler)\n",
    "                elif neigh_source == 'corpus':\n",
    "                    marker = bluer if not neigh_context in corpus_neighs_so_far else greyer\n",
    "                    html += context_html(*neigh_context, marker=marker, masker=masker, token_styler=token_styler)\n",
    "                    corpus_neighs_so_far.append(neigh_context)\n",
    "                elif neigh_source == 'custom':\n",
    "                    html += context_html(*neigh_context, marker=greener, masker=masker, token_styler=token_styler)\n",
    "                display(HTML(html))\n",
    "                if save_to_html: html_doc += html + '<br>'\n",
    "        else:\n",
    "            if vis_masked_KNNs:\n",
    "                _masked_neighbors = masked_neighbors[layer]\n",
    "                if pruning:\n",
    "                    for mask_len_to_search in range(len(doc)-2):\n",
    "                        for neigh_context, neigh_dist in _masked_neighbors:\n",
    "                            neigh_toks, neigh_pos = neigh_context\n",
    "                            mask_len = len([tok for tok in neigh_toks if tok == '[MASK]'])\n",
    "                            if mask_len == mask_len_to_search:\n",
    "                                html = token_styler(f'({neigh_dist:.3f}) ') +  context_html(*neigh_context, token_styler=token_styler)\n",
    "                                display(HTML(html))\n",
    "                                if save_to_html: html_doc += html + '<br>'\n",
    "                                break\n",
    "                else:\n",
    "                    for neigh_context, neigh_dist in _masked_neighbors[:n_neighbors_to_vis]:\n",
    "                        html = token_styler(f'({neigh_dist:.3f}) ') + context_html(*neigh_context, token_styler=lambda t: token_styler(fix_size(t)))\n",
    "                        display(HTML(html))\n",
    "                        if save_to_html: html_doc += html + '<br>'\n",
    "            if vis_corpus_KNNs:\n",
    "                _corpus_neighs = corpus_neighbors[layer][:n_neighbors_to_vis]\n",
    "                for neigh_id, neigh_context, neigh_dist in _corpus_neighs:\n",
    "                    marker = bluer if not neigh_context in corpus_neighs_so_far else greyer\n",
    "                    html = token_styler(f'({neigh_dist:.3f})') + context_html(*neigh_context, marker=marker, token_styler=token_styler)\n",
    "                    display(HTML(html))\n",
    "                    if save_to_html: html_doc += html + '<br>'\n",
    "                    corpus_neighs_so_far.append(neigh_context)\n",
    "            if vis_custom_contexts:\n",
    "                _custom_neighbors = custom_neighbors[layer]\n",
    "                for context, dist in _custom_neighbors:\n",
    "                    marker = greener\n",
    "                    html = token_styler(f'({dist:.3f})') + context_html(*context, marker=marker, token_styler=token_styler)\n",
    "                    display(HTML(html))\n",
    "                    if save_to_html: html_doc += html + '<br>'\n",
    "    print('.')\n",
    "    print('.')\n",
    "    print('.')\n",
    "\n",
    "if save_to_html: open('../../../building-blocks.html', 'w').write(html_doc)"
   ]
  },
  {
   "cell_type": "markdown",
   "metadata": {
    "tags": []
   },
   "source": [
    "## Visualize the evolution of context and all neighbors (In progress)"
   ]
  },
  {
   "cell_type": "code",
   "execution_count": null,
   "metadata": {},
   "outputs": [],
   "source": [
    "import plotly.express as px\n",
    "import plotly.io as pio\n",
    "pio.renderers.default = 'iframe'\n",
    "import pandas as pd\n",
    "\n",
    "# compile all neighbors and their acts\n",
    "layers = layers[:]\n",
    "neighs_contexts = []\n",
    "neighs_associations = []  # which layer was this neighbor originally associated with?\n",
    "neighs_acts = {layer: [] for layer in layers}\n",
    "for layer in layers[::-1]:\n",
    "    for neigh_id, neigh_context, _ in corpus_neighbors[layer]:\n",
    "        if neigh_context not in neighs_contexts:\n",
    "            neighs_contexts.append(neigh_context)\n",
    "            neighs_associations.append(layer)\n",
    "            neigh_doc, neigh_pos = neigh_context\n",
    "            neigh_doc, neigh_acts = bert.get_toks_and_acts(neigh_doc, tokenized=True)\n",
    "            for layer_to_grow in layers:\n",
    "# preprocess\n",
    "neighs_labels = [context_str(*context) for context in neighs_contexts]\n",
    "neighs_acts = {layer: np.stack(neighs_acts[layer]) for layer in layers}\n",
    "\n",
    "# reduce and visualize\n",
    "reduction = 'TSNE'\n",
    "corpus_acts = np.load(os.path.join(corpus_dir, subdir, refs.acts_fn))\n",
    "points_df = pd.DataFrame(columns=['label', 'layer', 'x','y', 'association', 'main'])\n",
    "for layer in layers:  \n",
    "    print('Preparing layer', layer)\n",
    "    _tok_act = doc_acts[layer][selected_tok_idx]\n",
    "    _neighs_acts = neighs_acts[layer]\n",
    "    _acts = np.concatenate([[_tok_act,], _neighs_acts])\n",
    "#     _acts = acts_util.reduce_acts(_acts, reduction='KMeans', dim=10)\n",
    "    _points = acts_util.reduce_acts(_acts, reduction=reduction, dim=2)\n",
    "    _xs, _ys = zip(*_points)\n",
    "    _points_df = pd.DataFrame(dict(label=[context_str(doc, selected_tok_idx)]+neighs_labels, \n",
    "                                   x=_xs, y=_ys,\n",
    "                                   layer=layer, \n",
    "                                   association=['main']+neighs_associations,\n",
    "                                   main=[False]+[True]*(len(_points)-1)\n",
    "                                  ))\n",
    "    _points_df = _points_df[_points_df['association'].isin([layer, 'main'])]\n",
    "    #     points_df = points_df.append(_points_df['layer'==layer], ignore_index=True)\n",
    "    fig = px.scatter(_points_df, x='x', y='y', color='association', hover_data={'x': False, 'y': False, 'association': False, 'layer': False, 'label': True}, height=300, width=800)\n",
    "    fig.show()\n",
    "    \n",
    "fig = px.scatter(points_df, x='x', y='y', color='association', facet_col='layer', hover_data={'x': False, 'y': False, 'association': False, 'layer': False, 'label': True}, height=300, width=300*len(layers))\n",
    "# fig.update_traces(mode=\"markers\", hovertemplate=None)\n",
    "# fig.update_layout(hovermode='label')\n",
    "fig"
   ]
  },
  {
   "cell_type": "markdown",
   "metadata": {
    "tags": []
   },
   "source": [
    "## Try a custom sentence"
   ]
  },
  {
   "cell_type": "code",
   "execution_count": null,
   "metadata": {},
   "outputs": [],
   "source": [
    "# choose\n",
    "new_text = 'Later that day, [MASK].'\n",
    "new_text_tok_of_interest = '[MASK]'\n",
    "\n",
    "# vis\n",
    "new_doc, new_acts = bert.get_toks_and_acts(new_text)\n",
    "new_pos = new_doc.index(new_text_tok_of_interest)\n",
    "for layer in layers:\n",
    "    current_act = doc_acts[layer][selected_tok_idx]\n",
    "    new_act = new_acts[layer][new_pos]\n",
    "    if spherize: new_act = spherize([new_act])[0]\n",
    "    display(HTML(f'Layer {layer}'))\n",
    "    dist = np.linalg.norm(current_act - new_act)\n",
    "    token_styler = lambda t: font_size(t,max_font_size)\n",
    "    html = token_styler(f'({dist:.3f})')\n",
    "    html += context_html(new_doc, new_pos, marker=bluer, token_styler=token_styler)\n",
    "    display(HTML(html))"
   ]
  }
 ],
 "metadata": {
  "kernelspec": {
   "display_name": "Python 3",
   "language": "python",
   "name": "python3"
  },
  "language_info": {
   "codemirror_mode": {
    "name": "ipython",
    "version": 3
   },
   "file_extension": ".py",
   "mimetype": "text/x-python",
   "name": "python",
   "nbconvert_exporter": "python",
   "pygments_lexer": "ipython3",
   "version": "3.7.11"
  }
 },
 "nbformat": 4,
 "nbformat_minor": 4
}
