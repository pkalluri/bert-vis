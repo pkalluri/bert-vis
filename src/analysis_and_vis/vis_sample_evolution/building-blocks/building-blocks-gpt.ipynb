{
 "cells": [
  {
   "cell_type": "markdown",
   "metadata": {},
   "source": [
    "# Understand a context through its clusters, its neighbors, and custom possible neighbors\n",
    "Examine, at each layer, the given context's KNNs - both KNNs in the corpus and the KNNs out of its own masked variants - as well as any custom contexts you're curious about."
   ]
  },
  {
   "cell_type": "markdown",
   "metadata": {
    "tags": []
   },
   "source": [
    "## Imports"
   ]
  },
  {
   "cell_type": "code",
   "execution_count": 1,
   "metadata": {},
   "outputs": [
    {
     "data": {
      "text/plain": [
       "'test'"
      ]
     },
     "execution_count": 1,
     "metadata": {},
     "output_type": "execute_result"
    }
   ],
   "source": [
    "'test'"
   ]
  },
  {
   "cell_type": "code",
   "execution_count": 2,
   "metadata": {},
   "outputs": [],
   "source": [
    "%load_ext autoreload\n",
    "%autoreload 2\n",
    "\n",
    "import pickle\n",
    "import numpy as np\n",
    "# from sklearn.neighbors import NearestNeighbors  # for now, switching to FasterNearestNeighbors\n",
    "from IPython.core.display import display, HTML\n",
    "import time\n",
    "\n",
    "import os\n",
    "import sys\n",
    "sys.path.insert(0, os.path.abspath('../..'))\n",
    "from utils.acts_util import spherize, fit_components\n",
    "from utils.bert_util import get_masked_variants\n",
    "from utils.context_util import context_html, context_str\n",
    "from utils.html_util import highlighter, fix_size, font_size, style\n",
    "from utils import vis_util, html_util\n",
    "from utils import references as refs\n",
    "from utils.SimpleGPT2 import SimpleGPT2\n",
    "from utils.FastNearestNeighbors import FastNearestNeighbors"
   ]
  },
  {
   "cell_type": "code",
   "execution_count": 16,
   "metadata": {},
   "outputs": [],
   "source": [
    "from transformers import GPT2Tokenizer, GPT2LMHeadModel\n",
    "tokenizer = GPT2Tokenizer.from_pretrained('gpt2')\n",
    "headmodel = GPT2LMHeadModel.from_pretrained('gpt2')"
   ]
  },
  {
   "cell_type": "code",
   "execution_count": 3,
   "metadata": {},
   "outputs": [],
   "source": [
    "model = SimpleGPT2(gpt2_type='gpt2')"
   ]
  },
  {
   "cell_type": "markdown",
   "metadata": {
    "tags": []
   },
   "source": [
    "## Parameters"
   ]
  },
  {
   "cell_type": "code",
   "execution_count": 4,
   "metadata": {},
   "outputs": [],
   "source": [
    "sphere = True  # Spherize the activations? This is equivalent to switching from standard Euclidean distance to cosine distance.\n",
    "n_layers = None  # Only visualizes n layers, selected evenly from the available layers. \n",
    "              # E.g. if n_layers=5 and 12 layers are avaiilable, will visualize layers 0,3,6,9,1 (n_layers = 2 is good for debugging)\n",
    "vis_color = True \n",
    "reduction, dim = 'NMF', 10  # Reduction with which to color the doc\n",
    "vis_size = False  # If visualizing color, can also visualize size\n",
    "\n",
    "vis_masked_KNNs = False\n",
    "pruning = False  \n",
    "# pruning is only checked if visualizing masked KNNs.     \n",
    "# if pruning is true, in the masked neighbors vis, first the closest 1-token-long mask is presented, \n",
    "# then jumps to the closest 2-token-long mask, etc - forming a kind of slow pruning to capture the essence of the context.\n",
    "vis_corpus_KNNs = True\n",
    "corpus_dir = '/atlas/u/pkalluri/bert-vis/big-data/gpt-wiki-large'  # only checked if visualizing corpus KNNs\n",
    "vis_custom_contexts = True\n",
    "together = True  # Instead of visualizing all masked KNNs, then all corpus KNNs, etc, do you want to visit them all together, sorted by distance?\n",
    "save_to_html = False\n",
    "html_path = '../../../building-blocks.html'  # only checked if saving to html\n",
    "\n",
    "doc_txt = 'Later that day, he caught her eye.'\n",
    "# doc_txt = '''\n",
    "# Alice was beginning to get very tired of sitting by her sister on the\n",
    "# bank, and of having nothing to do: once or twice she had peeped into the\n",
    "# book her sister was reading, but it had no pictures or conversations in\n",
    "# it, 'and what is the use of a book,' thought Alice 'without pictures or\n",
    "# conversation?'\n",
    "\n",
    "# So she was considering in her own mind (as well as she could, for the\n",
    "# hot day made her feel very sleepy and stupid), whether the pleasure\n",
    "# of making a daisy-chain would be worth the trouble of getting up and\n",
    "# picking the daisies, when suddenly a White Rabbit with pink eyes ran\n",
    "# close by her.\n",
    "\n",
    "# There was nothing so VERY remarkable in that; nor did Alice think it so\n",
    "# VERY much out of the way to hear the Rabbit say to itself, 'Oh dear!\n",
    "# Oh dear! I shall be late!' (when she thought it over afterwards, it\n",
    "# occurred to her that she ought to have wondered at this, but at the time\n",
    "# it all seemed quite natural); but when the Rabbit actually TOOK A WATCH\n",
    "# OUT OF ITS WAISTCOAT-POCKET, and looked at it, and then hurried on,\n",
    "# Alice started to her feet, for it flashed across her mind that she had\n",
    "# never before seen a rabbit with either a waistcoat-pocket, or a watch\n",
    "# to take out of it, and burning with curiosity, she ran across the field\n",
    "# after it, and fortunately was just in time to see it pop down a large\n",
    "# rabbit-hole under the hedge.\n",
    "# '''\n",
    "selected_tok = 'caught'"
   ]
  },
  {
   "cell_type": "code",
   "execution_count": 33,
   "metadata": {},
   "outputs": [
    {
     "name": "stdout",
     "output_type": "stream",
     "text": [
      "Later --> ,\n",
      "Later that -->  day\n",
      "Later that day --> ,\n",
      "Later that day, -->  he\n",
      "Later that day, he -->  was\n",
      "Later that day, he caught -->  a\n",
      "Later that day, he caught her -->  in\n",
      "Later that day, he caught her eye --> .\n",
      "Later that day, he caught her eye. -->  \"\n"
     ]
    }
   ],
   "source": [
    "inputs = tokenizer(doc_txt, return_tensors=\"pt\")\n",
    "outputs = headmodel(**inputs, labels=inputs[\"input_ids\"])\n",
    "loss = outputs.loss\n",
    "logits = outputs.logits\n",
    "outs = np.argmax(logits[0].tolist(), axis=1)\n",
    "for i, out in enumerate(outs):\n",
    "    print(f'{tokenizer.decode(inputs[\"input_ids\"][0][:i+1].tolist())} --> {tokenizer.decode([out,])}')"
   ]
  },
  {
   "cell_type": "markdown",
   "metadata": {
    "tags": []
   },
   "source": [
    "## Get tokens and activations"
   ]
  },
  {
   "cell_type": "code",
   "execution_count": 5,
   "metadata": {},
   "outputs": [
    {
     "name": "stdout",
     "output_type": "stream",
     "text": [
      "\n",
      "Document:\n",
      "Later that day , he caught her eye .\n",
      "\n",
      "Layers: arr_0, arr_1, arr_2, arr_3, arr_4, arr_5, arr_6, arr_7, arr_8, arr_9, arr_10, arr_11, arr_12\n"
     ]
    }
   ],
   "source": [
    "doc, doc_acts = model.get_toks_and_acts(doc_txt)\n",
    "layers = list(doc_acts)\n",
    "if n_layers:\n",
    "    n = int((len(layers)-1)/(n_layers-1)) # will visualize every nth layer\n",
    "else:\n",
    "    n = 1\n",
    "layers = layers[::n]\n",
    "if sphere: doc_acts = {layer: spherize(doc_acts[layer]) for layer in layers}\n",
    "\n",
    "print('\\nDocument:')\n",
    "print(' '.join(doc))\n",
    "print(f'\\nLayers: {\", \".join(layers)}')"
   ]
  },
  {
   "cell_type": "markdown",
   "metadata": {
    "tags": []
   },
   "source": [
    "## Reduce sample"
   ]
  },
  {
   "cell_type": "code",
   "execution_count": 6,
   "metadata": {
    "tags": []
   },
   "outputs": [],
   "source": [
    "import warnings\n",
    "warnings.filterwarnings('ignore')\n",
    "if vis_color:\n",
    "    doc_components = {}\n",
    "    doc_reduced_acts = {}\n",
    "    for layer in layers:\n",
    "        _components, _reduced_acts = fit_components(doc_acts[layer], reduction, dim)\n",
    "        doc_components[layer] = _components\n",
    "        doc_reduced_acts[layer] = _reduced_acts\n",
    "    if vis_size:\n",
    "        doc_acts_sizes = {layer: np.linalg.norm(doc_acts[layer], axis=1) for layer in layers}"
   ]
  },
  {
   "cell_type": "markdown",
   "metadata": {
    "tags": []
   },
   "source": [
    "## Get neighbors"
   ]
  },
  {
   "cell_type": "code",
   "execution_count": 7,
   "metadata": {},
   "outputs": [],
   "source": [
    "if vis_masked_KNNs or vis_corpus_KNNs: selected_tok_idx = doc.index(selected_tok)"
   ]
  },
  {
   "cell_type": "markdown",
   "metadata": {
    "tags": []
   },
   "source": [
    "### Get corpus neighbors"
   ]
  },
  {
   "cell_type": "code",
   "execution_count": 8,
   "metadata": {},
   "outputs": [
    {
     "name": "stdout",
     "output_type": "stream",
     "text": [
      "Layer arr_0\n",
      "Fitting nearest neighbors model.\n",
      "Finding neighbors.\n",
      "Layer arr_1\n",
      "Fitting nearest neighbors model.\n",
      "Finding neighbors.\n",
      "Layer arr_2\n",
      "Fitting nearest neighbors model.\n",
      "Finding neighbors.\n",
      "Layer arr_3\n",
      "Fitting nearest neighbors model.\n",
      "Finding neighbors.\n",
      "Layer arr_4\n",
      "Fitting nearest neighbors model.\n",
      "Finding neighbors.\n",
      "Layer arr_5\n",
      "Fitting nearest neighbors model.\n",
      "Finding neighbors.\n",
      "Layer arr_6\n",
      "Fitting nearest neighbors model.\n",
      "Finding neighbors.\n",
      "Layer arr_7\n",
      "Fitting nearest neighbors model.\n",
      "Finding neighbors.\n",
      "Layer arr_8\n",
      "Fitting nearest neighbors model.\n",
      "Finding neighbors.\n",
      "Layer arr_9\n",
      "Fitting nearest neighbors model.\n",
      "Finding neighbors.\n",
      "Layer arr_10\n",
      "Fitting nearest neighbors model.\n",
      "Finding neighbors.\n",
      "Layer arr_11\n",
      "Fitting nearest neighbors model.\n",
      "Finding neighbors.\n",
      "Layer arr_12\n",
      "Fitting nearest neighbors model.\n",
      "Finding neighbors.\n"
     ]
    }
   ],
   "source": [
    "if vis_corpus_KNNs:\n",
    "    # io\n",
    "    corpus_dir = os.path.abspath(corpus_dir)\n",
    "    corpus_contexts = pickle.load(open(os.path.join(corpus_dir, refs.contexts_fn),'rb'))\n",
    "    corpus_acts = np.load(os.path.join(corpus_dir, refs.acts_fn))\n",
    "    n_neighbors = 20\n",
    "\n",
    "    # get KNNs\n",
    "    corpus_neighbors = {}\n",
    "    for layer in layers:\n",
    "        print(f'Layer {layer}')\n",
    "        _acts = spherize(corpus_acts[layer]) if sphere else corpus_acts[layer]\n",
    "        print('Fitting nearest neighbors model.')\n",
    "        knn_model = FastNearestNeighbors().fit(_acts)\n",
    "        del _acts\n",
    "        print('Finding neighbors.')\n",
    "        _doc_acts = doc_acts[layer]\n",
    "        neighs_dists, neighs_ids = knn_model.kneighbors([_doc_acts[selected_tok_idx]], n_neighbors=n_neighbors, return_distance=True)\n",
    "        del knn_model\n",
    "        neighs = [(neigh_id, corpus_contexts[neigh_id], neigh_dist) for neigh_id, neigh_dist in zip(neighs_ids[0], neighs_dists[0])]  # a neighbor is an id, the corresponding context, and the distance away\n",
    "        corpus_neighbors[layer] = neighs"
   ]
  },
  {
   "cell_type": "markdown",
   "metadata": {
    "tags": []
   },
   "source": [
    "### Get masked neighbors - does this apply?"
   ]
  },
  {
   "cell_type": "code",
   "execution_count": 9,
   "metadata": {},
   "outputs": [],
   "source": [
    "if vis_masked_KNNs:\n",
    "    mask_lengths = range(max(len(doc)-3, 1),len(doc)-2)  # a parameter used for what mask_lengths to consider. currently hard-coded.\n",
    "    print('Getting variants.')\n",
    "    variants = get_masked_variants(doc, mask_lengths)\n",
    "    print('Getting activations.')\n",
    "    variants_contexts, variants_acts = model.get_contexts_and_acts(variants, tokenized=True)\n",
    "    n_neighbors = 20\n",
    "\n",
    "    masked_neighbors = {}\n",
    "    for layer in layers:\n",
    "        print(f'Layer {layer}')\n",
    "        _acts = spherize(variants_acts[layer]) if sphere else variants_acts[layer]\n",
    "        print('Fitting nearest neighbors model.')\n",
    "        knn_model = FastNearestNeighbors().fit(_acts)\n",
    "        print('Finding neighbors')\n",
    "        _doc_acts = doc_acts[layer]\n",
    "        neighs_dists, neighs_ids = knn_model.kneighbors([_doc_acts[selected_tok_idx]], n_neighbors=n_neighbors, return_distance=True)\n",
    "        neighs = [(variants_contexts[neigh_id], neigh_dist) for neigh_id, neigh_dist in zip(neighs_ids[0], neighs_dists[0])]  # a neighbor is a context, and the distance away\n",
    "        masked_neighbors[layer] = neighs\n",
    "        del knn_model"
   ]
  },
  {
   "cell_type": "markdown",
   "metadata": {
    "tags": []
   },
   "source": [
    "### Check similarity of custom sentences"
   ]
  },
  {
   "cell_type": "code",
   "execution_count": 10,
   "metadata": {},
   "outputs": [],
   "source": [
    "if vis_custom_contexts:\n",
    "    custom_contexts_unprocessed = [\n",
    "        ('Later that day, he caught her eye.', 'day'),\n",
    "        ('Later that day, he caught her eye.', 'he'),\n",
    "        ('Later that day, he caught her eye.', 'her'),\n",
    "        ('Later that day, he caught her eye.', 'eye'),\n",
    "        ]\n",
    "    custom_neighbors = {layer: [] for layer in layers}\n",
    "    for custom_txt, custom_tok in custom_contexts_unprocessed:\n",
    "        custom_doc, custom_doc_acts = model.get_toks_and_acts(custom_txt)\n",
    "        custom_pos = custom_doc.index(custom_tok)\n",
    "        custom_context = (custom_doc, custom_pos)\n",
    "        for layer in layers:\n",
    "            _act = doc_acts[layer][selected_tok_idx]\n",
    "            _custom_act = custom_doc_acts[layer][custom_pos]\n",
    "            if sphere: \n",
    "                _act = spherize([_act])[0]\n",
    "                _custom_act = spherize([_custom_act])[0]\n",
    "            dist = np.linalg.norm(_custom_act - _act)\n",
    "            custom_neighbors[layer].append((custom_context, dist))\n",
    "    "
   ]
  },
  {
   "cell_type": "markdown",
   "metadata": {
    "tags": []
   },
   "source": [
    "## Vis"
   ]
  },
  {
   "cell_type": "code",
   "execution_count": 15,
   "metadata": {
    "tags": []
   },
   "outputs": [
    {
     "name": "stdout",
     "output_type": "stream",
     "text": [
      "Legend\n"
     ]
    },
    {
     "data": {
      "text/html": [
       "<span style=\"background-color: rgba(254,0,0,1)\"> 0 </span><span style=\"background-color: rgba(204,152,0,1)\"> 1 </span><span style=\"background-color: rgba(173,186,0,1)\"> 2 </span><span style=\"background-color: rgba(59,247,0,1)\"> 3 </span><span style=\"background-color: rgba(0,227,114,1)\"> 4 </span><span style=\"background-color: rgba(0,180,180,1)\"> 5 </span><span style=\"background-color: rgba(0,114,227,1)\"> 6 </span><span style=\"background-color: rgba(59,0,247,1)\"> 7 </span><span style=\"background-color: rgba(173,0,186,1)\"> 8 </span><span style=\"background-color: rgba(204,0,152,1)\"> 9 </span>"
      ],
      "text/plain": [
       "<IPython.core.display.HTML object>"
      ]
     },
     "metadata": {},
     "output_type": "display_data"
    },
    {
     "name": "stdout",
     "output_type": "stream",
     "text": [
      "\n"
     ]
    },
    {
     "data": {
      "text/html": [
       "Layer arr_0"
      ],
      "text/plain": [
       "<IPython.core.display.HTML object>"
      ]
     },
     "metadata": {},
     "output_type": "display_data"
    },
    {
     "data": {
      "text/html": [
       "<span style=\"background-color: rgba(173,0,186,1); font-size: 10pt;\"> Later </span><span style=\"background-color: rgba(221,125,0,1); font-size: 10pt;\"> that </span><span style=\"background-color: rgba(158,0,199,1); font-size: 10pt;\"> day </span><span style=\"background-color: rgba(52,176,176,1); font-size: 10pt;\"> , </span><span style=\"background-color: rgba(93,211,106,1); font-size: 10pt;\"> he </span><span style=\"background-color: rgba(198,159,0,1); font-size: 10pt;\"> caught </span><span style=\"background-color: rgba(216,0,134,1); font-size: 10pt;\"> her </span><span style=\"background-color: rgba(131,98,195,1); font-size: 10pt;\"> eye </span><span style=\"background-color: rgba(217,132,0,1); font-size: 10pt;\"> . </span>"
      ],
      "text/plain": [
       "<IPython.core.display.HTML object>"
      ]
     },
     "metadata": {},
     "output_type": "display_data"
    },
    {
     "data": {
      "text/html": [
       " Later that day , he<span style=\"background-color: lightpink;\"> caught</span> her eye ."
      ],
      "text/plain": [
       "<IPython.core.display.HTML object>"
      ]
     },
     "metadata": {},
     "output_type": "display_data"
    },
    {
     "data": {
      "text/html": [
       "(8.376)  In his rookie season with the Predators , Rubin<span style=\"background-color: lightblue;\"> caught</span> 46 passes for 5 88 yards and ten touchdowns in 2006 , while also making 17 . 5 tackles and one sack ."
      ],
      "text/plain": [
       "<IPython.core.display.HTML object>"
      ]
     },
     "metadata": {},
     "output_type": "display_data"
    },
    {
     "data": {
      "text/html": [
       "(8.376)  Br ink man recovered Brett 's bat , having<span style=\"background-color: lightblue;\"> caught</span> a bat boy attempting to hide it in the Royals ' clubhouse ."
      ],
      "text/plain": [
       "<IPython.core.display.HTML object>"
      ]
     },
     "metadata": {},
     "output_type": "display_data"
    },
    {
     "data": {
      "text/html": [
       "(11.222)  In 1928 , he led all AL cat chers in<span style=\"background-color: lightblue;\"> caught</span> - st ealing percentage ( 60 . 9 ), was third in the AL in double plays by a catcher , with 8 , and fifth in the American League in assists by a catcher , with 52 ."
      ],
      "text/plain": [
       "<IPython.core.display.HTML object>"
      ]
     },
     "metadata": {},
     "output_type": "display_data"
    },
    {
     "data": {
      "text/html": [
       "(11.222)  Chest nut , man ning a metal detector , was<span style=\"background-color: lightblue;\"> caught</span> unaware when Weston shot him in the back of the head at point - blank range , killing him instantly ."
      ],
      "text/plain": [
       "<IPython.core.display.HTML object>"
      ]
     },
     "metadata": {},
     "output_type": "display_data"
    },
    {
     "data": {
      "text/html": [
       "(14.728)  The band recorded with British producer Tr istan Long worth who<span style=\"background-color: lightblue;\"> caught</span> their attention with his work for Jon Allen ."
      ],
      "text/plain": [
       "<IPython.core.display.HTML object>"
      ]
     },
     "metadata": {},
     "output_type": "display_data"
    },
    {
     "data": {
      "text/html": [
       "(17.477)  Scene transitions<span style=\"background-color: lightblue;\"> caught</span> people 's attention and the CGI of the helicopter was very phot oreal istic bas ing on the fact that Lou k man is a creative motion graphics designer and sketch artist ."
      ],
      "text/plain": [
       "<IPython.core.display.HTML object>"
      ]
     },
     "metadata": {},
     "output_type": "display_data"
    },
    {
     "data": {
      "text/html": [
       "(18.414)  S yl via Gau ci of \" V ib ew ire \"<span style=\"background-color: lightblue;\"> caught</span> their gig in August 2002 at The T ote in Coll ing wood ; she felt they \" played a wide selection of both more traditional , folk - inspired tunes along with the fast punk and v iv acious violin playing ."
      ],
      "text/plain": [
       "<IPython.core.display.HTML object>"
      ]
     },
     "metadata": {},
     "output_type": "display_data"
    },
    {
     "data": {
      "text/html": [
       "(18.414)  Real izing that unless he took drastic measures his ship would be<span style=\"background-color: lightblue;\"> caught</span> , Captain Daniel Wood r iff turned Cal cut ta back towards Mag nan ime , hoping to disable her before the next ship in line , the fr igate Th ét is , could join the battle ."
      ],
      "text/plain": [
       "<IPython.core.display.HTML object>"
      ]
     },
     "metadata": {},
     "output_type": "display_data"
    },
    {
     "data": {
      "text/html": [
       "(21.501)  Vari ations to the formula exist , with some statistic ians not counting<span style=\"background-color: lightblue;\"> caught</span> stealing while others multiply caught stealing to increase its significance / negative effects ."
      ],
      "text/plain": [
       "<IPython.core.display.HTML object>"
      ]
     },
     "metadata": {},
     "output_type": "display_data"
    },
    {
     "data": {
      "text/html": [
       "(32.960)  Fran z had shot down two B - 17 s earlier that day and he soon<span style=\"background-color: lightblue;\"> caught</span> up to a wounded B - 17 flown by Charles Brown ."
      ],
      "text/plain": [
       "<IPython.core.display.HTML object>"
      ]
     },
     "metadata": {},
     "output_type": "display_data"
    },
    {
     "data": {
      "text/html": [
       "(32.960)  The quake occurred at about noon local time Friday , so residents were awake and not<span style=\"background-color: lightblue;\"> caught</span> in their beds ."
      ],
      "text/plain": [
       "<IPython.core.display.HTML object>"
      ]
     },
     "metadata": {},
     "output_type": "display_data"
    },
    {
     "data": {
      "text/html": [
       "(40.753)  Vari ations to the formula exist , with some statistic ians not counting caught stealing while others multiply<span style=\"background-color: lightblue;\"> caught</span> stealing to increase its significance / negative effects ."
      ],
      "text/plain": [
       "<IPython.core.display.HTML object>"
      ]
     },
     "metadata": {},
     "output_type": "display_data"
    },
    {
     "data": {
      "text/html": [
       "(48.412)  A railroad worker from Texas , Pi ñ ón was discovered by a sides how promoter whose attention had been<span style=\"background-color: lightblue;\"> caught</span> by a large benign cy st or tumor at the top of Pi ñ ón 's head ."
      ],
      "text/plain": [
       "<IPython.core.display.HTML object>"
      ]
     },
     "metadata": {},
     "output_type": "display_data"
    },
    {
     "data": {
      "text/html": [
       "(51.550)  W alsh and his 200 - strong force began following the conspir ators after they entered Wor ces ters hire and<span style=\"background-color: lightblue;\"> caught</span> up with them at Hol bec he House in Stafford shire on 8 November ."
      ],
      "text/plain": [
       "<IPython.core.display.HTML object>"
      ]
     },
     "metadata": {},
     "output_type": "display_data"
    },
    {
     "data": {
      "text/html": [
       "(55.462)  He<span style=\"background-color: lightblue;\"> caught</span> his first pass against Nebraska for 4 yards ."
      ],
      "text/plain": [
       "<IPython.core.display.HTML object>"
      ]
     },
     "metadata": {},
     "output_type": "display_data"
    },
    {
     "data": {
      "text/html": [
       "(57.412)  Cruz put up 47<span style=\"background-color: lightblue;\"> catches</span> for 8 83 yards and eight touchdowns in his single season at Brid g ton Academy ."
      ],
      "text/plain": [
       "<IPython.core.display.HTML object>"
      ]
     },
     "metadata": {},
     "output_type": "display_data"
    },
    {
     "data": {
      "text/html": [
       "(63.708)  The hero succeeds in<span style=\"background-color: lightblue;\"> catching</span> the ot ter , and brings it back to his home ."
      ],
      "text/plain": [
       "<IPython.core.display.HTML object>"
      ]
     },
     "metadata": {},
     "output_type": "display_data"
    },
    {
     "data": {
      "text/html": [
       "(64.752)  The lake and its small<span style=\"background-color: lightblue;\"> catch</span> ment is surrounded primarily by native pod oc arp forest , including Kah ik ate a and Rim u trees ."
      ],
      "text/plain": [
       "<IPython.core.display.HTML object>"
      ]
     },
     "metadata": {},
     "output_type": "display_data"
    },
    {
     "data": {
      "text/html": [
       "(64.752)  on the river , or<span style=\"background-color: lightblue;\"> catch</span> smaller specimens – 50 – 100 kg ."
      ],
      "text/plain": [
       "<IPython.core.display.HTML object>"
      ]
     },
     "metadata": {},
     "output_type": "display_data"
    },
    {
     "data": {
      "text/html": [
       "(65.647)  Two of these aircraft were<span style=\"background-color: lightblue;\"> captured</span> by the National ists when the ship carrying them ( along with four V ult ee V - 1 s , a Fair child 91 and a Lockheed Elect ra ) was captured at sea ."
      ],
      "text/plain": [
       "<IPython.core.display.HTML object>"
      ]
     },
     "metadata": {},
     "output_type": "display_data"
    },
    {
     "data": {
      "text/html": [
       "(145.158)  Later that day ,<span style=\"background-color: limegreen;\"> he</span> caught her eye ."
      ],
      "text/plain": [
       "<IPython.core.display.HTML object>"
      ]
     },
     "metadata": {},
     "output_type": "display_data"
    },
    {
     "data": {
      "text/html": [
       "(151.167)  Later that day , he caught<span style=\"background-color: limegreen;\"> her</span> eye ."
      ],
      "text/plain": [
       "<IPython.core.display.HTML object>"
      ]
     },
     "metadata": {},
     "output_type": "display_data"
    },
    {
     "data": {
      "text/html": [
       "(159.792)  Later that day , he caught her<span style=\"background-color: limegreen;\"> eye</span> ."
      ],
      "text/plain": [
       "<IPython.core.display.HTML object>"
      ]
     },
     "metadata": {},
     "output_type": "display_data"
    },
    {
     "data": {
      "text/html": [
       "(162.014)  Later that<span style=\"background-color: limegreen;\"> day</span> , he caught her eye ."
      ],
      "text/plain": [
       "<IPython.core.display.HTML object>"
      ]
     },
     "metadata": {},
     "output_type": "display_data"
    },
    {
     "name": "stdout",
     "output_type": "stream",
     "text": [
      ".\n",
      ".\n",
      ".\n"
     ]
    },
    {
     "data": {
      "text/html": [
       "Layer arr_1"
      ],
      "text/plain": [
       "<IPython.core.display.HTML object>"
      ]
     },
     "metadata": {},
     "output_type": "display_data"
    },
    {
     "data": {
      "text/html": [
       "<span style=\"background-color: rgba(0,227,114,1); font-size: 10pt;\"> Later </span><span style=\"background-color: rgba(203,0,153,1); font-size: 10pt;\"> that </span><span style=\"background-color: rgba(142,211,0,1); font-size: 10pt;\"> day </span><span style=\"background-color: rgba(235,98,0,1); font-size: 10pt;\"> , </span><span style=\"background-color: rgba(240,83,0,1); font-size: 10pt;\"> he </span><span style=\"background-color: rgba(115,0,227,1); font-size: 10pt;\"> caught </span><span style=\"background-color: rgba(227,0,115,1); font-size: 10pt;\"> her </span><span style=\"background-color: rgba(27,179,179,1); font-size: 10pt;\"> eye </span><span style=\"background-color: rgba(184,79,156,1); font-size: 10pt;\"> . </span>"
      ],
      "text/plain": [
       "<IPython.core.display.HTML object>"
      ]
     },
     "metadata": {},
     "output_type": "display_data"
    },
    {
     "data": {
      "text/html": [
       " Later that day , he<span style=\"background-color: lightpink;\"> caught</span> her eye ."
      ],
      "text/plain": [
       "<IPython.core.display.HTML object>"
      ]
     },
     "metadata": {},
     "output_type": "display_data"
    },
    {
     "data": {
      "text/html": [
       "(6.573)  The band recorded with British producer Tr istan Long worth who<span style=\"background-color: grey;\"> caught</span> their attention with his work for Jon Allen ."
      ],
      "text/plain": [
       "<IPython.core.display.HTML object>"
      ]
     },
     "metadata": {},
     "output_type": "display_data"
    },
    {
     "data": {
      "text/html": [
       "(7.191)  In his rookie season with the Predators , Rubin<span style=\"background-color: grey;\"> caught</span> 46 passes for 5 88 yards and ten touchdowns in 2006 , while also making 17 . 5 tackles and one sack ."
      ],
      "text/plain": [
       "<IPython.core.display.HTML object>"
      ]
     },
     "metadata": {},
     "output_type": "display_data"
    },
    {
     "data": {
      "text/html": [
       "(8.784)  In 1928 , he led all AL cat chers in<span style=\"background-color: grey;\"> caught</span> - st ealing percentage ( 60 . 9 ), was third in the AL in double plays by a catcher , with 8 , and fifth in the American League in assists by a catcher , with 52 ."
      ],
      "text/plain": [
       "<IPython.core.display.HTML object>"
      ]
     },
     "metadata": {},
     "output_type": "display_data"
    },
    {
     "data": {
      "text/html": [
       "(9.381)  Chest nut , man ning a metal detector , was<span style=\"background-color: grey;\"> caught</span> unaware when Weston shot him in the back of the head at point - blank range , killing him instantly ."
      ],
      "text/plain": [
       "<IPython.core.display.HTML object>"
      ]
     },
     "metadata": {},
     "output_type": "display_data"
    },
    {
     "data": {
      "text/html": [
       "(9.515)  Fran z had shot down two B - 17 s earlier that day and he soon<span style=\"background-color: grey;\"> caught</span> up to a wounded B - 17 flown by Charles Brown ."
      ],
      "text/plain": [
       "<IPython.core.display.HTML object>"
      ]
     },
     "metadata": {},
     "output_type": "display_data"
    },
    {
     "data": {
      "text/html": [
       "(9.588)  S yl via Gau ci of \" V ib ew ire \"<span style=\"background-color: grey;\"> caught</span> their gig in August 2002 at The T ote in Coll ing wood ; she felt they \" played a wide selection of both more traditional , folk - inspired tunes along with the fast punk and v iv acious violin playing ."
      ],
      "text/plain": [
       "<IPython.core.display.HTML object>"
      ]
     },
     "metadata": {},
     "output_type": "display_data"
    },
    {
     "data": {
      "text/html": [
       "(9.730)  Br ink man recovered Brett 's bat , having<span style=\"background-color: grey;\"> caught</span> a bat boy attempting to hide it in the Royals ' clubhouse ."
      ],
      "text/plain": [
       "<IPython.core.display.HTML object>"
      ]
     },
     "metadata": {},
     "output_type": "display_data"
    },
    {
     "data": {
      "text/html": [
       "(10.629)  Real izing that unless he took drastic measures his ship would be<span style=\"background-color: grey;\"> caught</span> , Captain Daniel Wood r iff turned Cal cut ta back towards Mag nan ime , hoping to disable her before the next ship in line , the fr igate Th ét is , could join the battle ."
      ],
      "text/plain": [
       "<IPython.core.display.HTML object>"
      ]
     },
     "metadata": {},
     "output_type": "display_data"
    },
    {
     "data": {
      "text/html": [
       "(13.345)  Scene transitions<span style=\"background-color: grey;\"> caught</span> people 's attention and the CGI of the helicopter was very phot oreal istic bas ing on the fact that Lou k man is a creative motion graphics designer and sketch artist ."
      ],
      "text/plain": [
       "<IPython.core.display.HTML object>"
      ]
     },
     "metadata": {},
     "output_type": "display_data"
    },
    {
     "data": {
      "text/html": [
       "(13.363)  The quake occurred at about noon local time Friday , so residents were awake and not<span style=\"background-color: grey;\"> caught</span> in their beds ."
      ],
      "text/plain": [
       "<IPython.core.display.HTML object>"
      ]
     },
     "metadata": {},
     "output_type": "display_data"
    },
    {
     "data": {
      "text/html": [
       "(14.000)  Vari ations to the formula exist , with some statistic ians not counting<span style=\"background-color: grey;\"> caught</span> stealing while others multiply caught stealing to increase its significance / negative effects ."
      ],
      "text/plain": [
       "<IPython.core.display.HTML object>"
      ]
     },
     "metadata": {},
     "output_type": "display_data"
    },
    {
     "data": {
      "text/html": [
       "(15.666)  He<span style=\"background-color: grey;\"> caught</span> his first pass against Nebraska for 4 yards ."
      ],
      "text/plain": [
       "<IPython.core.display.HTML object>"
      ]
     },
     "metadata": {},
     "output_type": "display_data"
    },
    {
     "data": {
      "text/html": [
       "(18.559)  W alsh and his 200 - strong force began following the conspir ators after they entered Wor ces ters hire and<span style=\"background-color: grey;\"> caught</span> up with them at Hol bec he House in Stafford shire on 8 November ."
      ],
      "text/plain": [
       "<IPython.core.display.HTML object>"
      ]
     },
     "metadata": {},
     "output_type": "display_data"
    },
    {
     "data": {
      "text/html": [
       "(20.376)  A railroad worker from Texas , Pi ñ ón was discovered by a sides how promoter whose attention had been<span style=\"background-color: grey;\"> caught</span> by a large benign cy st or tumor at the top of Pi ñ ón 's head ."
      ],
      "text/plain": [
       "<IPython.core.display.HTML object>"
      ]
     },
     "metadata": {},
     "output_type": "display_data"
    },
    {
     "data": {
      "text/html": [
       "(22.713)  Vari ations to the formula exist , with some statistic ians not counting caught stealing while others multiply<span style=\"background-color: grey;\"> caught</span> stealing to increase its significance / negative effects ."
      ],
      "text/plain": [
       "<IPython.core.display.HTML object>"
      ]
     },
     "metadata": {},
     "output_type": "display_data"
    },
    {
     "data": {
      "text/html": [
       "(29.360)  The hero succeeds in<span style=\"background-color: grey;\"> catching</span> the ot ter , and brings it back to his home ."
      ],
      "text/plain": [
       "<IPython.core.display.HTML object>"
      ]
     },
     "metadata": {},
     "output_type": "display_data"
    },
    {
     "data": {
      "text/html": [
       "(30.421)  B ears are seen frequently at Brooks Falls ,<span style=\"background-color: lightblue;\"> catching</span> salmon there ; they are the main attraction to the lake and Brooks Falls and Camp ."
      ],
      "text/plain": [
       "<IPython.core.display.HTML object>"
      ]
     },
     "metadata": {},
     "output_type": "display_data"
    },
    {
     "data": {
      "text/html": [
       "(31.582)  Cruz put up 47<span style=\"background-color: grey;\"> catches</span> for 8 83 yards and eight touchdowns in his single season at Brid g ton Academy ."
      ],
      "text/plain": [
       "<IPython.core.display.HTML object>"
      ]
     },
     "metadata": {},
     "output_type": "display_data"
    },
    {
     "data": {
      "text/html": [
       "(36.615)  After three days , P wy ll , himself , rides out to meet her and when he cannot<span style=\"background-color: lightblue;\"> catch</span> her , he calls out to her in desperation ."
      ],
      "text/plain": [
       "<IPython.core.display.HTML object>"
      ]
     },
     "metadata": {},
     "output_type": "display_data"
    },
    {
     "data": {
      "text/html": [
       "(37.015)  The guide rope will be made of low friction materials to keep it from<span style=\"background-color: lightblue;\"> catching</span> or tang ling on ground features ."
      ],
      "text/plain": [
       "<IPython.core.display.HTML object>"
      ]
     },
     "metadata": {},
     "output_type": "display_data"
    },
    {
     "data": {
      "text/html": [
       "(149.617)  Later that day ,<span style=\"background-color: limegreen;\"> he</span> caught her eye ."
      ],
      "text/plain": [
       "<IPython.core.display.HTML object>"
      ]
     },
     "metadata": {},
     "output_type": "display_data"
    },
    {
     "data": {
      "text/html": [
       "(151.279)  Later that day , he caught<span style=\"background-color: limegreen;\"> her</span> eye ."
      ],
      "text/plain": [
       "<IPython.core.display.HTML object>"
      ]
     },
     "metadata": {},
     "output_type": "display_data"
    },
    {
     "data": {
      "text/html": [
       "(154.192)  Later that<span style=\"background-color: limegreen;\"> day</span> , he caught her eye ."
      ],
      "text/plain": [
       "<IPython.core.display.HTML object>"
      ]
     },
     "metadata": {},
     "output_type": "display_data"
    },
    {
     "data": {
      "text/html": [
       "(157.840)  Later that day , he caught her<span style=\"background-color: limegreen;\"> eye</span> ."
      ],
      "text/plain": [
       "<IPython.core.display.HTML object>"
      ]
     },
     "metadata": {},
     "output_type": "display_data"
    },
    {
     "name": "stdout",
     "output_type": "stream",
     "text": [
      ".\n",
      ".\n",
      ".\n"
     ]
    },
    {
     "data": {
      "text/html": [
       "Layer arr_2"
      ],
      "text/plain": [
       "<IPython.core.display.HTML object>"
      ]
     },
     "metadata": {},
     "output_type": "display_data"
    },
    {
     "data": {
      "text/html": [
       "<span style=\"background-color: rgba(59,0,247,1); font-size: 10pt;\"> Later </span><span style=\"background-color: rgba(226,117,0,1); font-size: 10pt;\"> that </span><span style=\"background-color: rgba(172,84,167,1); font-size: 10pt;\"> day </span><span style=\"background-color: rgba(203,0,154,1); font-size: 10pt;\"> , </span><span style=\"background-color: rgba(225,0,118,1); font-size: 10pt;\"> he </span><span style=\"background-color: rgba(45,177,177,1); font-size: 10pt;\"> caught </span><span style=\"background-color: rgba(229,110,1,1); font-size: 10pt;\"> her </span><span style=\"background-color: rgba(61,220,110,1); font-size: 10pt;\"> eye </span><span style=\"background-color: rgba(169,190,3,1); font-size: 10pt;\"> . </span>"
      ],
      "text/plain": [
       "<IPython.core.display.HTML object>"
      ]
     },
     "metadata": {},
     "output_type": "display_data"
    },
    {
     "data": {
      "text/html": [
       " Later that day , he<span style=\"background-color: lightpink;\"> caught</span> her eye ."
      ],
      "text/plain": [
       "<IPython.core.display.HTML object>"
      ]
     },
     "metadata": {},
     "output_type": "display_data"
    },
    {
     "data": {
      "text/html": [
       "(7.737)  The band recorded with British producer Tr istan Long worth who<span style=\"background-color: grey;\"> caught</span> their attention with his work for Jon Allen ."
      ],
      "text/plain": [
       "<IPython.core.display.HTML object>"
      ]
     },
     "metadata": {},
     "output_type": "display_data"
    },
    {
     "data": {
      "text/html": [
       "(7.999)  Fran z had shot down two B - 17 s earlier that day and he soon<span style=\"background-color: grey;\"> caught</span> up to a wounded B - 17 flown by Charles Brown ."
      ],
      "text/plain": [
       "<IPython.core.display.HTML object>"
      ]
     },
     "metadata": {},
     "output_type": "display_data"
    },
    {
     "data": {
      "text/html": [
       "(10.288)  In his rookie season with the Predators , Rubin<span style=\"background-color: grey;\"> caught</span> 46 passes for 5 88 yards and ten touchdowns in 2006 , while also making 17 . 5 tackles and one sack ."
      ],
      "text/plain": [
       "<IPython.core.display.HTML object>"
      ]
     },
     "metadata": {},
     "output_type": "display_data"
    },
    {
     "data": {
      "text/html": [
       "(11.462)  Chest nut , man ning a metal detector , was<span style=\"background-color: grey;\"> caught</span> unaware when Weston shot him in the back of the head at point - blank range , killing him instantly ."
      ],
      "text/plain": [
       "<IPython.core.display.HTML object>"
      ]
     },
     "metadata": {},
     "output_type": "display_data"
    },
    {
     "data": {
      "text/html": [
       "(13.073)  Real izing that unless he took drastic measures his ship would be<span style=\"background-color: grey;\"> caught</span> , Captain Daniel Wood r iff turned Cal cut ta back towards Mag nan ime , hoping to disable her before the next ship in line , the fr igate Th ét is , could join the battle ."
      ],
      "text/plain": [
       "<IPython.core.display.HTML object>"
      ]
     },
     "metadata": {},
     "output_type": "display_data"
    },
    {
     "data": {
      "text/html": [
       "(13.201)  Br ink man recovered Brett 's bat , having<span style=\"background-color: grey;\"> caught</span> a bat boy attempting to hide it in the Royals ' clubhouse ."
      ],
      "text/plain": [
       "<IPython.core.display.HTML object>"
      ]
     },
     "metadata": {},
     "output_type": "display_data"
    },
    {
     "data": {
      "text/html": [
       "(13.233)  S yl via Gau ci of \" V ib ew ire \"<span style=\"background-color: grey;\"> caught</span> their gig in August 2002 at The T ote in Coll ing wood ; she felt they \" played a wide selection of both more traditional , folk - inspired tunes along with the fast punk and v iv acious violin playing ."
      ],
      "text/plain": [
       "<IPython.core.display.HTML object>"
      ]
     },
     "metadata": {},
     "output_type": "display_data"
    },
    {
     "data": {
      "text/html": [
       "(13.665)  W alsh and his 200 - strong force began following the conspir ators after they entered Wor ces ters hire and<span style=\"background-color: grey;\"> caught</span> up with them at Hol bec he House in Stafford shire on 8 November ."
      ],
      "text/plain": [
       "<IPython.core.display.HTML object>"
      ]
     },
     "metadata": {},
     "output_type": "display_data"
    },
    {
     "data": {
      "text/html": [
       "(14.440)  The quake occurred at about noon local time Friday , so residents were awake and not<span style=\"background-color: grey;\"> caught</span> in their beds ."
      ],
      "text/plain": [
       "<IPython.core.display.HTML object>"
      ]
     },
     "metadata": {},
     "output_type": "display_data"
    },
    {
     "data": {
      "text/html": [
       "(16.579)  In 1928 , he led all AL cat chers in<span style=\"background-color: grey;\"> caught</span> - st ealing percentage ( 60 . 9 ), was third in the AL in double plays by a catcher , with 8 , and fifth in the American League in assists by a catcher , with 52 ."
      ],
      "text/plain": [
       "<IPython.core.display.HTML object>"
      ]
     },
     "metadata": {},
     "output_type": "display_data"
    },
    {
     "data": {
      "text/html": [
       "(16.936)  Vari ations to the formula exist , with some statistic ians not counting<span style=\"background-color: grey;\"> caught</span> stealing while others multiply caught stealing to increase its significance / negative effects ."
      ],
      "text/plain": [
       "<IPython.core.display.HTML object>"
      ]
     },
     "metadata": {},
     "output_type": "display_data"
    },
    {
     "data": {
      "text/html": [
       "(17.739)  A railroad worker from Texas , Pi ñ ón was discovered by a sides how promoter whose attention had been<span style=\"background-color: grey;\"> caught</span> by a large benign cy st or tumor at the top of Pi ñ ón 's head ."
      ],
      "text/plain": [
       "<IPython.core.display.HTML object>"
      ]
     },
     "metadata": {},
     "output_type": "display_data"
    },
    {
     "data": {
      "text/html": [
       "(21.767)  He<span style=\"background-color: grey;\"> caught</span> his first pass against Nebraska for 4 yards ."
      ],
      "text/plain": [
       "<IPython.core.display.HTML object>"
      ]
     },
     "metadata": {},
     "output_type": "display_data"
    },
    {
     "data": {
      "text/html": [
       "(21.824)  Scene transitions<span style=\"background-color: grey;\"> caught</span> people 's attention and the CGI of the helicopter was very phot oreal istic bas ing on the fact that Lou k man is a creative motion graphics designer and sketch artist ."
      ],
      "text/plain": [
       "<IPython.core.display.HTML object>"
      ]
     },
     "metadata": {},
     "output_type": "display_data"
    },
    {
     "data": {
      "text/html": [
       "(27.128)  Vari ations to the formula exist , with some statistic ians not counting caught stealing while others multiply<span style=\"background-color: grey;\"> caught</span> stealing to increase its significance / negative effects ."
      ],
      "text/plain": [
       "<IPython.core.display.HTML object>"
      ]
     },
     "metadata": {},
     "output_type": "display_data"
    },
    {
     "data": {
      "text/html": [
       "(30.901)  B ears are seen frequently at Brooks Falls ,<span style=\"background-color: grey;\"> catching</span> salmon there ; they are the main attraction to the lake and Brooks Falls and Camp ."
      ],
      "text/plain": [
       "<IPython.core.display.HTML object>"
      ]
     },
     "metadata": {},
     "output_type": "display_data"
    },
    {
     "data": {
      "text/html": [
       "(31.172)  The hero succeeds in<span style=\"background-color: grey;\"> catching</span> the ot ter , and brings it back to his home ."
      ],
      "text/plain": [
       "<IPython.core.display.HTML object>"
      ]
     },
     "metadata": {},
     "output_type": "display_data"
    },
    {
     "data": {
      "text/html": [
       "(34.319)  He was a pupil of Hay dn , and is celebrated mainly for his g lee compositions and<span style=\"background-color: lightblue;\"> catches</span> ."
      ],
      "text/plain": [
       "<IPython.core.display.HTML object>"
      ]
     },
     "metadata": {},
     "output_type": "display_data"
    },
    {
     "data": {
      "text/html": [
       "(34.465)  After three days , P wy ll , himself , rides out to meet her and when he cannot<span style=\"background-color: grey;\"> catch</span> her , he calls out to her in desperation ."
      ],
      "text/plain": [
       "<IPython.core.display.HTML object>"
      ]
     },
     "metadata": {},
     "output_type": "display_data"
    },
    {
     "data": {
      "text/html": [
       "(36.145)  W ang then started the study of Classical Chinese , believing that \" in order to<span style=\"background-color: lightblue;\"> catch</span> up with the world 's advanced study in the science of language , one has to perform historical analysis on the linguistic phenomena and its development patterns .\""
      ],
      "text/plain": [
       "<IPython.core.display.HTML object>"
      ]
     },
     "metadata": {},
     "output_type": "display_data"
    },
    {
     "data": {
      "text/html": [
       "(172.196)  Later that day ,<span style=\"background-color: limegreen;\"> he</span> caught her eye ."
      ],
      "text/plain": [
       "<IPython.core.display.HTML object>"
      ]
     },
     "metadata": {},
     "output_type": "display_data"
    },
    {
     "data": {
      "text/html": [
       "(177.183)  Later that day , he caught<span style=\"background-color: limegreen;\"> her</span> eye ."
      ],
      "text/plain": [
       "<IPython.core.display.HTML object>"
      ]
     },
     "metadata": {},
     "output_type": "display_data"
    },
    {
     "data": {
      "text/html": [
       "(180.196)  Later that<span style=\"background-color: limegreen;\"> day</span> , he caught her eye ."
      ],
      "text/plain": [
       "<IPython.core.display.HTML object>"
      ]
     },
     "metadata": {},
     "output_type": "display_data"
    },
    {
     "data": {
      "text/html": [
       "(183.877)  Later that day , he caught her<span style=\"background-color: limegreen;\"> eye</span> ."
      ],
      "text/plain": [
       "<IPython.core.display.HTML object>"
      ]
     },
     "metadata": {},
     "output_type": "display_data"
    },
    {
     "name": "stdout",
     "output_type": "stream",
     "text": [
      ".\n",
      ".\n",
      ".\n"
     ]
    },
    {
     "data": {
      "text/html": [
       "Layer arr_3"
      ],
      "text/plain": [
       "<IPython.core.display.HTML object>"
      ]
     },
     "metadata": {},
     "output_type": "display_data"
    },
    {
     "data": {
      "text/html": [
       "<span style=\"background-color: rgba(203,0,152,1); font-size: 10pt;\"> Later </span><span style=\"background-color: rgba(204,0,152,1); font-size: 10pt;\"> that </span><span style=\"background-color: rgba(121,199,100,1); font-size: 10pt;\"> day </span><span style=\"background-color: rgba(213,138,3,1); font-size: 10pt;\"> , </span><span style=\"background-color: rgba(228,113,4,1); font-size: 10pt;\"> he </span><span style=\"background-color: rgba(199,0,157,1); font-size: 10pt;\"> caught </span><span style=\"background-color: rgba(54,110,223,1); font-size: 10pt;\"> her </span><span style=\"background-color: rgba(102,233,0,1); font-size: 10pt;\"> eye </span><span style=\"background-color: rgba(82,170,170,1); font-size: 10pt;\"> . </span>"
      ],
      "text/plain": [
       "<IPython.core.display.HTML object>"
      ]
     },
     "metadata": {},
     "output_type": "display_data"
    },
    {
     "data": {
      "text/html": [
       " Later that day , he<span style=\"background-color: lightpink;\"> caught</span> her eye ."
      ],
      "text/plain": [
       "<IPython.core.display.HTML object>"
      ]
     },
     "metadata": {},
     "output_type": "display_data"
    },
    {
     "data": {
      "text/html": [
       "(11.620)  The band recorded with British producer Tr istan Long worth who<span style=\"background-color: grey;\"> caught</span> their attention with his work for Jon Allen ."
      ],
      "text/plain": [
       "<IPython.core.display.HTML object>"
      ]
     },
     "metadata": {},
     "output_type": "display_data"
    },
    {
     "data": {
      "text/html": [
       "(13.750)  Fran z had shot down two B - 17 s earlier that day and he soon<span style=\"background-color: grey;\"> caught</span> up to a wounded B - 17 flown by Charles Brown ."
      ],
      "text/plain": [
       "<IPython.core.display.HTML object>"
      ]
     },
     "metadata": {},
     "output_type": "display_data"
    },
    {
     "data": {
      "text/html": [
       "(16.972)  In his rookie season with the Predators , Rubin<span style=\"background-color: grey;\"> caught</span> 46 passes for 5 88 yards and ten touchdowns in 2006 , while also making 17 . 5 tackles and one sack ."
      ],
      "text/plain": [
       "<IPython.core.display.HTML object>"
      ]
     },
     "metadata": {},
     "output_type": "display_data"
    },
    {
     "data": {
      "text/html": [
       "(17.087)  S yl via Gau ci of \" V ib ew ire \"<span style=\"background-color: grey;\"> caught</span> their gig in August 2002 at The T ote in Coll ing wood ; she felt they \" played a wide selection of both more traditional , folk - inspired tunes along with the fast punk and v iv acious violin playing ."
      ],
      "text/plain": [
       "<IPython.core.display.HTML object>"
      ]
     },
     "metadata": {},
     "output_type": "display_data"
    },
    {
     "data": {
      "text/html": [
       "(17.330)  He<span style=\"background-color: grey;\"> caught</span> his first pass against Nebraska for 4 yards ."
      ],
      "text/plain": [
       "<IPython.core.display.HTML object>"
      ]
     },
     "metadata": {},
     "output_type": "display_data"
    },
    {
     "data": {
      "text/html": [
       "(20.391)  Br ink man recovered Brett 's bat , having<span style=\"background-color: grey;\"> caught</span> a bat boy attempting to hide it in the Royals ' clubhouse ."
      ],
      "text/plain": [
       "<IPython.core.display.HTML object>"
      ]
     },
     "metadata": {},
     "output_type": "display_data"
    },
    {
     "data": {
      "text/html": [
       "(20.796)  W alsh and his 200 - strong force began following the conspir ators after they entered Wor ces ters hire and<span style=\"background-color: grey;\"> caught</span> up with them at Hol bec he House in Stafford shire on 8 November ."
      ],
      "text/plain": [
       "<IPython.core.display.HTML object>"
      ]
     },
     "metadata": {},
     "output_type": "display_data"
    },
    {
     "data": {
      "text/html": [
       "(23.240)  Chest nut , man ning a metal detector , was<span style=\"background-color: grey;\"> caught</span> unaware when Weston shot him in the back of the head at point - blank range , killing him instantly ."
      ],
      "text/plain": [
       "<IPython.core.display.HTML object>"
      ]
     },
     "metadata": {},
     "output_type": "display_data"
    },
    {
     "data": {
      "text/html": [
       "(26.558)  Real izing that unless he took drastic measures his ship would be<span style=\"background-color: grey;\"> caught</span> , Captain Daniel Wood r iff turned Cal cut ta back towards Mag nan ime , hoping to disable her before the next ship in line , the fr igate Th ét is , could join the battle ."
      ],
      "text/plain": [
       "<IPython.core.display.HTML object>"
      ]
     },
     "metadata": {},
     "output_type": "display_data"
    },
    {
     "data": {
      "text/html": [
       "(28.001)  The quake occurred at about noon local time Friday , so residents were awake and not<span style=\"background-color: grey;\"> caught</span> in their beds ."
      ],
      "text/plain": [
       "<IPython.core.display.HTML object>"
      ]
     },
     "metadata": {},
     "output_type": "display_data"
    },
    {
     "data": {
      "text/html": [
       "(28.109)  Scene transitions<span style=\"background-color: grey;\"> caught</span> people 's attention and the CGI of the helicopter was very phot oreal istic bas ing on the fact that Lou k man is a creative motion graphics designer and sketch artist ."
      ],
      "text/plain": [
       "<IPython.core.display.HTML object>"
      ]
     },
     "metadata": {},
     "output_type": "display_data"
    },
    {
     "data": {
      "text/html": [
       "(29.122)  Vari ations to the formula exist , with some statistic ians not counting<span style=\"background-color: grey;\"> caught</span> stealing while others multiply caught stealing to increase its significance / negative effects ."
      ],
      "text/plain": [
       "<IPython.core.display.HTML object>"
      ]
     },
     "metadata": {},
     "output_type": "display_data"
    },
    {
     "data": {
      "text/html": [
       "(29.815)  In 1928 , he led all AL cat chers in<span style=\"background-color: grey;\"> caught</span> - st ealing percentage ( 60 . 9 ), was third in the AL in double plays by a catcher , with 8 , and fifth in the American League in assists by a catcher , with 52 ."
      ],
      "text/plain": [
       "<IPython.core.display.HTML object>"
      ]
     },
     "metadata": {},
     "output_type": "display_data"
    },
    {
     "data": {
      "text/html": [
       "(30.844)  A railroad worker from Texas , Pi ñ ón was discovered by a sides how promoter whose attention had been<span style=\"background-color: grey;\"> caught</span> by a large benign cy st or tumor at the top of Pi ñ ón 's head ."
      ],
      "text/plain": [
       "<IPython.core.display.HTML object>"
      ]
     },
     "metadata": {},
     "output_type": "display_data"
    },
    {
     "data": {
      "text/html": [
       "(32.527)  B ears are seen frequently at Brooks Falls ,<span style=\"background-color: grey;\"> catching</span> salmon there ; they are the main attraction to the lake and Brooks Falls and Camp ."
      ],
      "text/plain": [
       "<IPython.core.display.HTML object>"
      ]
     },
     "metadata": {},
     "output_type": "display_data"
    },
    {
     "data": {
      "text/html": [
       "(34.686)  After three days , P wy ll , himself , rides out to meet her and when he cannot<span style=\"background-color: grey;\"> catch</span> her , he calls out to her in desperation ."
      ],
      "text/plain": [
       "<IPython.core.display.HTML object>"
      ]
     },
     "metadata": {},
     "output_type": "display_data"
    },
    {
     "data": {
      "text/html": [
       "(34.772)  F amous in this respect is the statement by Joh an Cru y ff on Ja ap van Pra ag , stating that he was never able to<span style=\"background-color: lightblue;\"> catch</span> him in a truth ."
      ],
      "text/plain": [
       "<IPython.core.display.HTML object>"
      ]
     },
     "metadata": {},
     "output_type": "display_data"
    },
    {
     "data": {
      "text/html": [
       "(37.668)  The hero succeeds in<span style=\"background-color: grey;\"> catching</span> the ot ter , and brings it back to his home ."
      ],
      "text/plain": [
       "<IPython.core.display.HTML object>"
      ]
     },
     "metadata": {},
     "output_type": "display_data"
    },
    {
     "data": {
      "text/html": [
       "(38.954)  En igmatic young American he i ress Mel ina ( Lou ise S ore l ) has fallen in with a group of Chelsea beat ni ks ,<span style=\"background-color: lightblue;\"> catching</span> the attention of the gang 's defiant leader Mo ise ( Ol iver Reed ) but inviting scorn and jealousy from the group 's other members , including Mo ise 's lover Lib by ( Ann Lynn )."
      ],
      "text/plain": [
       "<IPython.core.display.HTML object>"
      ]
     },
     "metadata": {},
     "output_type": "display_data"
    },
    {
     "data": {
      "text/html": [
       "(39.304)  W ang then started the study of Classical Chinese , believing that \" in order to<span style=\"background-color: grey;\"> catch</span> up with the world 's advanced study in the science of language , one has to perform historical analysis on the linguistic phenomena and its development patterns .\""
      ],
      "text/plain": [
       "<IPython.core.display.HTML object>"
      ]
     },
     "metadata": {},
     "output_type": "display_data"
    },
    {
     "data": {
      "text/html": [
       "(168.439)  Later that day ,<span style=\"background-color: limegreen;\"> he</span> caught her eye ."
      ],
      "text/plain": [
       "<IPython.core.display.HTML object>"
      ]
     },
     "metadata": {},
     "output_type": "display_data"
    },
    {
     "data": {
      "text/html": [
       "(178.893)  Later that day , he caught<span style=\"background-color: limegreen;\"> her</span> eye ."
      ],
      "text/plain": [
       "<IPython.core.display.HTML object>"
      ]
     },
     "metadata": {},
     "output_type": "display_data"
    },
    {
     "data": {
      "text/html": [
       "(187.115)  Later that<span style=\"background-color: limegreen;\"> day</span> , he caught her eye ."
      ],
      "text/plain": [
       "<IPython.core.display.HTML object>"
      ]
     },
     "metadata": {},
     "output_type": "display_data"
    },
    {
     "data": {
      "text/html": [
       "(193.174)  Later that day , he caught her<span style=\"background-color: limegreen;\"> eye</span> ."
      ],
      "text/plain": [
       "<IPython.core.display.HTML object>"
      ]
     },
     "metadata": {},
     "output_type": "display_data"
    },
    {
     "name": "stdout",
     "output_type": "stream",
     "text": [
      ".\n",
      ".\n",
      ".\n"
     ]
    },
    {
     "data": {
      "text/html": [
       "Layer arr_4"
      ],
      "text/plain": [
       "<IPython.core.display.HTML object>"
      ]
     },
     "metadata": {},
     "output_type": "display_data"
    },
    {
     "data": {
      "text/html": [
       "<span style=\"background-color: rgba(0,114,227,1); font-size: 10pt;\"> Later </span><span style=\"background-color: rgba(53,248,17,1); font-size: 10pt;\"> that </span><span style=\"background-color: rgba(50,65,241,1); font-size: 10pt;\"> day </span><span style=\"background-color: rgba(254,0,0,1); font-size: 10pt;\"> , </span><span style=\"background-color: rgba(188,170,16,1); font-size: 10pt;\"> he </span><span style=\"background-color: rgba(163,34,192,1); font-size: 10pt;\"> caught </span><span style=\"background-color: rgba(124,144,169,1); font-size: 10pt;\"> her </span><span style=\"background-color: rgba(0,222,124,1); font-size: 10pt;\"> eye </span><span style=\"background-color: rgba(141,209,33,1); font-size: 10pt;\"> . </span>"
      ],
      "text/plain": [
       "<IPython.core.display.HTML object>"
      ]
     },
     "metadata": {},
     "output_type": "display_data"
    },
    {
     "data": {
      "text/html": [
       " Later that day , he<span style=\"background-color: lightpink;\"> caught</span> her eye ."
      ],
      "text/plain": [
       "<IPython.core.display.HTML object>"
      ]
     },
     "metadata": {},
     "output_type": "display_data"
    },
    {
     "data": {
      "text/html": [
       "(18.050)  Fran z had shot down two B - 17 s earlier that day and he soon<span style=\"background-color: grey;\"> caught</span> up to a wounded B - 17 flown by Charles Brown ."
      ],
      "text/plain": [
       "<IPython.core.display.HTML object>"
      ]
     },
     "metadata": {},
     "output_type": "display_data"
    },
    {
     "data": {
      "text/html": [
       "(19.710)  The band recorded with British producer Tr istan Long worth who<span style=\"background-color: grey;\"> caught</span> their attention with his work for Jon Allen ."
      ],
      "text/plain": [
       "<IPython.core.display.HTML object>"
      ]
     },
     "metadata": {},
     "output_type": "display_data"
    },
    {
     "data": {
      "text/html": [
       "(20.016)  He<span style=\"background-color: grey;\"> caught</span> his first pass against Nebraska for 4 yards ."
      ],
      "text/plain": [
       "<IPython.core.display.HTML object>"
      ]
     },
     "metadata": {},
     "output_type": "display_data"
    },
    {
     "data": {
      "text/html": [
       "(28.731)  In his rookie season with the Predators , Rubin<span style=\"background-color: grey;\"> caught</span> 46 passes for 5 88 yards and ten touchdowns in 2006 , while also making 17 . 5 tackles and one sack ."
      ],
      "text/plain": [
       "<IPython.core.display.HTML object>"
      ]
     },
     "metadata": {},
     "output_type": "display_data"
    },
    {
     "data": {
      "text/html": [
       "(30.096)  W alsh and his 200 - strong force began following the conspir ators after they entered Wor ces ters hire and<span style=\"background-color: grey;\"> caught</span> up with them at Hol bec he House in Stafford shire on 8 November ."
      ],
      "text/plain": [
       "<IPython.core.display.HTML object>"
      ]
     },
     "metadata": {},
     "output_type": "display_data"
    },
    {
     "data": {
      "text/html": [
       "(30.684)  S yl via Gau ci of \" V ib ew ire \"<span style=\"background-color: grey;\"> caught</span> their gig in August 2002 at The T ote in Coll ing wood ; she felt they \" played a wide selection of both more traditional , folk - inspired tunes along with the fast punk and v iv acious violin playing ."
      ],
      "text/plain": [
       "<IPython.core.display.HTML object>"
      ]
     },
     "metadata": {},
     "output_type": "display_data"
    },
    {
     "data": {
      "text/html": [
       "(33.018)  Br ink man recovered Brett 's bat , having<span style=\"background-color: grey;\"> caught</span> a bat boy attempting to hide it in the Royals ' clubhouse ."
      ],
      "text/plain": [
       "<IPython.core.display.HTML object>"
      ]
     },
     "metadata": {},
     "output_type": "display_data"
    },
    {
     "data": {
      "text/html": [
       "(42.027)  Chest nut , man ning a metal detector , was<span style=\"background-color: grey;\"> caught</span> unaware when Weston shot him in the back of the head at point - blank range , killing him instantly ."
      ],
      "text/plain": [
       "<IPython.core.display.HTML object>"
      ]
     },
     "metadata": {},
     "output_type": "display_data"
    },
    {
     "data": {
      "text/html": [
       "(42.604)  F amous in this respect is the statement by Joh an Cru y ff on Ja ap van Pra ag , stating that he was never able to<span style=\"background-color: grey;\"> catch</span> him in a truth ."
      ],
      "text/plain": [
       "<IPython.core.display.HTML object>"
      ]
     },
     "metadata": {},
     "output_type": "display_data"
    },
    {
     "data": {
      "text/html": [
       "(43.164)  After three days , P wy ll , himself , rides out to meet her and when he cannot<span style=\"background-color: grey;\"> catch</span> her , he calls out to her in desperation ."
      ],
      "text/plain": [
       "<IPython.core.display.HTML object>"
      ]
     },
     "metadata": {},
     "output_type": "display_data"
    },
    {
     "data": {
      "text/html": [
       "(43.793)  Real izing that unless he took drastic measures his ship would be<span style=\"background-color: grey;\"> caught</span> , Captain Daniel Wood r iff turned Cal cut ta back towards Mag nan ime , hoping to disable her before the next ship in line , the fr igate Th ét is , could join the battle ."
      ],
      "text/plain": [
       "<IPython.core.display.HTML object>"
      ]
     },
     "metadata": {},
     "output_type": "display_data"
    },
    {
     "data": {
      "text/html": [
       "(46.678)  Scene transitions<span style=\"background-color: grey;\"> caught</span> people 's attention and the CGI of the helicopter was very phot oreal istic bas ing on the fact that Lou k man is a creative motion graphics designer and sketch artist ."
      ],
      "text/plain": [
       "<IPython.core.display.HTML object>"
      ]
     },
     "metadata": {},
     "output_type": "display_data"
    },
    {
     "data": {
      "text/html": [
       "(46.835)  The hero succeeds in<span style=\"background-color: grey;\"> catching</span> the ot ter , and brings it back to his home ."
      ],
      "text/plain": [
       "<IPython.core.display.HTML object>"
      ]
     },
     "metadata": {},
     "output_type": "display_data"
    },
    {
     "data": {
      "text/html": [
       "(47.273)  B ears are seen frequently at Brooks Falls ,<span style=\"background-color: grey;\"> catching</span> salmon there ; they are the main attraction to the lake and Brooks Falls and Camp ."
      ],
      "text/plain": [
       "<IPython.core.display.HTML object>"
      ]
     },
     "metadata": {},
     "output_type": "display_data"
    },
    {
     "data": {
      "text/html": [
       "(47.971)  The quake occurred at about noon local time Friday , so residents were awake and not<span style=\"background-color: grey;\"> caught</span> in their beds ."
      ],
      "text/plain": [
       "<IPython.core.display.HTML object>"
      ]
     },
     "metadata": {},
     "output_type": "display_data"
    },
    {
     "data": {
      "text/html": [
       "(49.289)  W ang then started the study of Classical Chinese , believing that \" in order to<span style=\"background-color: grey;\"> catch</span> up with the world 's advanced study in the science of language , one has to perform historical analysis on the linguistic phenomena and its development patterns .\""
      ],
      "text/plain": [
       "<IPython.core.display.HTML object>"
      ]
     },
     "metadata": {},
     "output_type": "display_data"
    },
    {
     "data": {
      "text/html": [
       "(52.795)  In 1928 , he led all AL cat chers in<span style=\"background-color: grey;\"> caught</span> - st ealing percentage ( 60 . 9 ), was third in the AL in double plays by a catcher , with 8 , and fifth in the American League in assists by a catcher , with 52 ."
      ],
      "text/plain": [
       "<IPython.core.display.HTML object>"
      ]
     },
     "metadata": {},
     "output_type": "display_data"
    },
    {
     "data": {
      "text/html": [
       "(53.252)  En igmatic young American he i ress Mel ina ( Lou ise S ore l ) has fallen in with a group of Chelsea beat ni ks ,<span style=\"background-color: grey;\"> catching</span> the attention of the gang 's defiant leader Mo ise ( Ol iver Reed ) but inviting scorn and jealousy from the group 's other members , including Mo ise 's lover Lib by ( Ann Lynn )."
      ],
      "text/plain": [
       "<IPython.core.display.HTML object>"
      ]
     },
     "metadata": {},
     "output_type": "display_data"
    },
    {
     "data": {
      "text/html": [
       "(54.495)  Vari ations to the formula exist , with some statistic ians not counting<span style=\"background-color: grey;\"> caught</span> stealing while others multiply caught stealing to increase its significance / negative effects ."
      ],
      "text/plain": [
       "<IPython.core.display.HTML object>"
      ]
     },
     "metadata": {},
     "output_type": "display_data"
    },
    {
     "data": {
      "text/html": [
       "(55.010)  He was a pupil of Hay dn , and is celebrated mainly for his g lee compositions and<span style=\"background-color: grey;\"> catches</span> ."
      ],
      "text/plain": [
       "<IPython.core.display.HTML object>"
      ]
     },
     "metadata": {},
     "output_type": "display_data"
    },
    {
     "data": {
      "text/html": [
       "(173.777)  Later that day ,<span style=\"background-color: limegreen;\"> he</span> caught her eye ."
      ],
      "text/plain": [
       "<IPython.core.display.HTML object>"
      ]
     },
     "metadata": {},
     "output_type": "display_data"
    },
    {
     "data": {
      "text/html": [
       "(181.527)  Later that day , he caught<span style=\"background-color: limegreen;\"> her</span> eye ."
      ],
      "text/plain": [
       "<IPython.core.display.HTML object>"
      ]
     },
     "metadata": {},
     "output_type": "display_data"
    },
    {
     "data": {
      "text/html": [
       "(197.325)  Later that<span style=\"background-color: limegreen;\"> day</span> , he caught her eye ."
      ],
      "text/plain": [
       "<IPython.core.display.HTML object>"
      ]
     },
     "metadata": {},
     "output_type": "display_data"
    },
    {
     "data": {
      "text/html": [
       "(198.336)  Later that day , he caught her<span style=\"background-color: limegreen;\"> eye</span> ."
      ],
      "text/plain": [
       "<IPython.core.display.HTML object>"
      ]
     },
     "metadata": {},
     "output_type": "display_data"
    },
    {
     "name": "stdout",
     "output_type": "stream",
     "text": [
      ".\n",
      ".\n",
      ".\n"
     ]
    },
    {
     "data": {
      "text/html": [
       "Layer arr_5"
      ],
      "text/plain": [
       "<IPython.core.display.HTML object>"
      ]
     },
     "metadata": {},
     "output_type": "display_data"
    },
    {
     "data": {
      "text/html": [
       "<span style=\"background-color: rgba(203,0,152,1); font-size: 10pt;\"> Later </span><span style=\"background-color: rgba(129,219,4,1); font-size: 10pt;\"> that </span><span style=\"background-color: rgba(180,0,180,1); font-size: 10pt;\"> day </span><span style=\"background-color: rgba(204,152,1,1); font-size: 10pt;\"> , </span><span style=\"background-color: rgba(76,217,109,1); font-size: 10pt;\"> he </span><span style=\"background-color: rgba(23,113,226,1); font-size: 10pt;\"> caught </span><span style=\"background-color: rgba(222,123,3,1); font-size: 10pt;\"> her </span><span style=\"background-color: rgba(150,0,205,1); font-size: 10pt;\"> eye </span><span style=\"background-color: rgba(87,164,174,1); font-size: 10pt;\"> . </span>"
      ],
      "text/plain": [
       "<IPython.core.display.HTML object>"
      ]
     },
     "metadata": {},
     "output_type": "display_data"
    },
    {
     "data": {
      "text/html": [
       " Later that day , he<span style=\"background-color: lightpink;\"> caught</span> her eye ."
      ],
      "text/plain": [
       "<IPython.core.display.HTML object>"
      ]
     },
     "metadata": {},
     "output_type": "display_data"
    },
    {
     "data": {
      "text/html": [
       "(21.989)  He<span style=\"background-color: grey;\"> caught</span> his first pass against Nebraska for 4 yards ."
      ],
      "text/plain": [
       "<IPython.core.display.HTML object>"
      ]
     },
     "metadata": {},
     "output_type": "display_data"
    },
    {
     "data": {
      "text/html": [
       "(22.062)  Fran z had shot down two B - 17 s earlier that day and he soon<span style=\"background-color: grey;\"> caught</span> up to a wounded B - 17 flown by Charles Brown ."
      ],
      "text/plain": [
       "<IPython.core.display.HTML object>"
      ]
     },
     "metadata": {},
     "output_type": "display_data"
    },
    {
     "data": {
      "text/html": [
       "(25.455)  The band recorded with British producer Tr istan Long worth who<span style=\"background-color: grey;\"> caught</span> their attention with his work for Jon Allen ."
      ],
      "text/plain": [
       "<IPython.core.display.HTML object>"
      ]
     },
     "metadata": {},
     "output_type": "display_data"
    },
    {
     "data": {
      "text/html": [
       "(35.750)  W alsh and his 200 - strong force began following the conspir ators after they entered Wor ces ters hire and<span style=\"background-color: grey;\"> caught</span> up with them at Hol bec he House in Stafford shire on 8 November ."
      ],
      "text/plain": [
       "<IPython.core.display.HTML object>"
      ]
     },
     "metadata": {},
     "output_type": "display_data"
    },
    {
     "data": {
      "text/html": [
       "(36.805)  In his rookie season with the Predators , Rubin<span style=\"background-color: grey;\"> caught</span> 46 passes for 5 88 yards and ten touchdowns in 2006 , while also making 17 . 5 tackles and one sack ."
      ],
      "text/plain": [
       "<IPython.core.display.HTML object>"
      ]
     },
     "metadata": {},
     "output_type": "display_data"
    },
    {
     "data": {
      "text/html": [
       "(37.621)  S yl via Gau ci of \" V ib ew ire \"<span style=\"background-color: grey;\"> caught</span> their gig in August 2002 at The T ote in Coll ing wood ; she felt they \" played a wide selection of both more traditional , folk - inspired tunes along with the fast punk and v iv acious violin playing ."
      ],
      "text/plain": [
       "<IPython.core.display.HTML object>"
      ]
     },
     "metadata": {},
     "output_type": "display_data"
    },
    {
     "data": {
      "text/html": [
       "(41.263)  Br ink man recovered Brett 's bat , having<span style=\"background-color: grey;\"> caught</span> a bat boy attempting to hide it in the Royals ' clubhouse ."
      ],
      "text/plain": [
       "<IPython.core.display.HTML object>"
      ]
     },
     "metadata": {},
     "output_type": "display_data"
    },
    {
     "data": {
      "text/html": [
       "(49.392)  F amous in this respect is the statement by Joh an Cru y ff on Ja ap van Pra ag , stating that he was never able to<span style=\"background-color: grey;\"> catch</span> him in a truth ."
      ],
      "text/plain": [
       "<IPython.core.display.HTML object>"
      ]
     },
     "metadata": {},
     "output_type": "display_data"
    },
    {
     "data": {
      "text/html": [
       "(51.538)  Chest nut , man ning a metal detector , was<span style=\"background-color: grey;\"> caught</span> unaware when Weston shot him in the back of the head at point - blank range , killing him instantly ."
      ],
      "text/plain": [
       "<IPython.core.display.HTML object>"
      ]
     },
     "metadata": {},
     "output_type": "display_data"
    },
    {
     "data": {
      "text/html": [
       "(51.977)  The hero succeeds in<span style=\"background-color: grey;\"> catching</span> the ot ter , and brings it back to his home ."
      ],
      "text/plain": [
       "<IPython.core.display.HTML object>"
      ]
     },
     "metadata": {},
     "output_type": "display_data"
    },
    {
     "data": {
      "text/html": [
       "(54.117)  Batman<span style=\"background-color: lightblue;\"> catches</span> him off - guard and knocks him unconscious , thus saving Alfred 's life and sending Z s as z back to Arkham ."
      ],
      "text/plain": [
       "<IPython.core.display.HTML object>"
      ]
     },
     "metadata": {},
     "output_type": "display_data"
    },
    {
     "data": {
      "text/html": [
       "(55.149)  B ears are seen frequently at Brooks Falls ,<span style=\"background-color: grey;\"> catching</span> salmon there ; they are the main attraction to the lake and Brooks Falls and Camp ."
      ],
      "text/plain": [
       "<IPython.core.display.HTML object>"
      ]
     },
     "metadata": {},
     "output_type": "display_data"
    },
    {
     "data": {
      "text/html": [
       "(56.203)  After three days , P wy ll , himself , rides out to meet her and when he cannot<span style=\"background-color: grey;\"> catch</span> her , he calls out to her in desperation ."
      ],
      "text/plain": [
       "<IPython.core.display.HTML object>"
      ]
     },
     "metadata": {},
     "output_type": "display_data"
    },
    {
     "data": {
      "text/html": [
       "(57.762)  Scene transitions<span style=\"background-color: grey;\"> caught</span> people 's attention and the CGI of the helicopter was very phot oreal istic bas ing on the fact that Lou k man is a creative motion graphics designer and sketch artist ."
      ],
      "text/plain": [
       "<IPython.core.display.HTML object>"
      ]
     },
     "metadata": {},
     "output_type": "display_data"
    },
    {
     "data": {
      "text/html": [
       "(59.346)  En igmatic young American he i ress Mel ina ( Lou ise S ore l ) has fallen in with a group of Chelsea beat ni ks ,<span style=\"background-color: grey;\"> catching</span> the attention of the gang 's defiant leader Mo ise ( Ol iver Reed ) but inviting scorn and jealousy from the group 's other members , including Mo ise 's lover Lib by ( Ann Lynn )."
      ],
      "text/plain": [
       "<IPython.core.display.HTML object>"
      ]
     },
     "metadata": {},
     "output_type": "display_data"
    },
    {
     "data": {
      "text/html": [
       "(60.962)  Real izing that unless he took drastic measures his ship would be<span style=\"background-color: grey;\"> caught</span> , Captain Daniel Wood r iff turned Cal cut ta back towards Mag nan ime , hoping to disable her before the next ship in line , the fr igate Th ét is , could join the battle ."
      ],
      "text/plain": [
       "<IPython.core.display.HTML object>"
      ]
     },
     "metadata": {},
     "output_type": "display_data"
    },
    {
     "data": {
      "text/html": [
       "(61.445)  He was a pupil of Hay dn , and is celebrated mainly for his g lee compositions and<span style=\"background-color: grey;\"> catches</span> ."
      ],
      "text/plain": [
       "<IPython.core.display.HTML object>"
      ]
     },
     "metadata": {},
     "output_type": "display_data"
    },
    {
     "data": {
      "text/html": [
       "(61.827)  W ang then started the study of Classical Chinese , believing that \" in order to<span style=\"background-color: grey;\"> catch</span> up with the world 's advanced study in the science of language , one has to perform historical analysis on the linguistic phenomena and its development patterns .\""
      ],
      "text/plain": [
       "<IPython.core.display.HTML object>"
      ]
     },
     "metadata": {},
     "output_type": "display_data"
    },
    {
     "data": {
      "text/html": [
       "(65.701)  In 1928 , he led all AL cat chers in<span style=\"background-color: grey;\"> caught</span> - st ealing percentage ( 60 . 9 ), was third in the AL in double plays by a catcher , with 8 , and fifth in the American League in assists by a catcher , with 52 ."
      ],
      "text/plain": [
       "<IPython.core.display.HTML object>"
      ]
     },
     "metadata": {},
     "output_type": "display_data"
    },
    {
     "data": {
      "text/html": [
       "(67.078)  Over the next 41 years , he<span style=\"background-color: lightblue;\"> captured</span> photos of young Muhammad Ali , D izzy Gillespie , Stev ie Wonder , Ha ile Sel ass ie , J omo Ken y atta , former Ambassador Andrew Young in blue leather jacket and jeans in his office at the United Nations , Ghana 's Kw ame N k rum ah , Liberia 's William Tub man and Bill ie Holiday ."
      ],
      "text/plain": [
       "<IPython.core.display.HTML object>"
      ]
     },
     "metadata": {},
     "output_type": "display_data"
    },
    {
     "data": {
      "text/html": [
       "(168.649)  Later that day ,<span style=\"background-color: limegreen;\"> he</span> caught her eye ."
      ],
      "text/plain": [
       "<IPython.core.display.HTML object>"
      ]
     },
     "metadata": {},
     "output_type": "display_data"
    },
    {
     "data": {
      "text/html": [
       "(177.244)  Later that day , he caught<span style=\"background-color: limegreen;\"> her</span> eye ."
      ],
      "text/plain": [
       "<IPython.core.display.HTML object>"
      ]
     },
     "metadata": {},
     "output_type": "display_data"
    },
    {
     "data": {
      "text/html": [
       "(184.100)  Later that day , he caught her<span style=\"background-color: limegreen;\"> eye</span> ."
      ],
      "text/plain": [
       "<IPython.core.display.HTML object>"
      ]
     },
     "metadata": {},
     "output_type": "display_data"
    },
    {
     "data": {
      "text/html": [
       "(195.371)  Later that<span style=\"background-color: limegreen;\"> day</span> , he caught her eye ."
      ],
      "text/plain": [
       "<IPython.core.display.HTML object>"
      ]
     },
     "metadata": {},
     "output_type": "display_data"
    },
    {
     "name": "stdout",
     "output_type": "stream",
     "text": [
      ".\n",
      ".\n",
      ".\n"
     ]
    },
    {
     "data": {
      "text/html": [
       "Layer arr_6"
      ],
      "text/plain": [
       "<IPython.core.display.HTML object>"
      ]
     },
     "metadata": {},
     "output_type": "display_data"
    },
    {
     "data": {
      "text/html": [
       "<span style=\"background-color: rgba(59,0,247,1); font-size: 10pt;\"> Later </span><span style=\"background-color: rgba(46,229,101,1); font-size: 10pt;\"> that </span><span style=\"background-color: rgba(54,142,204,1); font-size: 10pt;\"> day </span><span style=\"background-color: rgba(254,0,0,1); font-size: 10pt;\"> , </span><span style=\"background-color: rgba(142,211,11,1); font-size: 10pt;\"> he </span><span style=\"background-color: rgba(180,180,0,1); font-size: 10pt;\"> caught </span><span style=\"background-color: rgba(210,73,124,1); font-size: 10pt;\"> her </span><span style=\"background-color: rgba(139,193,89,1); font-size: 10pt;\"> eye </span><span style=\"background-color: rgba(223,79,94,1); font-size: 10pt;\"> . </span>"
      ],
      "text/plain": [
       "<IPython.core.display.HTML object>"
      ]
     },
     "metadata": {},
     "output_type": "display_data"
    },
    {
     "data": {
      "text/html": [
       " Later that day , he<span style=\"background-color: lightpink;\"> caught</span> her eye ."
      ],
      "text/plain": [
       "<IPython.core.display.HTML object>"
      ]
     },
     "metadata": {},
     "output_type": "display_data"
    },
    {
     "data": {
      "text/html": [
       "(23.013)  He<span style=\"background-color: grey;\"> caught</span> his first pass against Nebraska for 4 yards ."
      ],
      "text/plain": [
       "<IPython.core.display.HTML object>"
      ]
     },
     "metadata": {},
     "output_type": "display_data"
    },
    {
     "data": {
      "text/html": [
       "(23.861)  Fran z had shot down two B - 17 s earlier that day and he soon<span style=\"background-color: grey;\"> caught</span> up to a wounded B - 17 flown by Charles Brown ."
      ],
      "text/plain": [
       "<IPython.core.display.HTML object>"
      ]
     },
     "metadata": {},
     "output_type": "display_data"
    },
    {
     "data": {
      "text/html": [
       "(25.965)  The band recorded with British producer Tr istan Long worth who<span style=\"background-color: grey;\"> caught</span> their attention with his work for Jon Allen ."
      ],
      "text/plain": [
       "<IPython.core.display.HTML object>"
      ]
     },
     "metadata": {},
     "output_type": "display_data"
    },
    {
     "data": {
      "text/html": [
       "(33.923)  In his rookie season with the Predators , Rubin<span style=\"background-color: grey;\"> caught</span> 46 passes for 5 88 yards and ten touchdowns in 2006 , while also making 17 . 5 tackles and one sack ."
      ],
      "text/plain": [
       "<IPython.core.display.HTML object>"
      ]
     },
     "metadata": {},
     "output_type": "display_data"
    },
    {
     "data": {
      "text/html": [
       "(34.881)  W alsh and his 200 - strong force began following the conspir ators after they entered Wor ces ters hire and<span style=\"background-color: grey;\"> caught</span> up with them at Hol bec he House in Stafford shire on 8 November ."
      ],
      "text/plain": [
       "<IPython.core.display.HTML object>"
      ]
     },
     "metadata": {},
     "output_type": "display_data"
    },
    {
     "data": {
      "text/html": [
       "(37.864)  S yl via Gau ci of \" V ib ew ire \"<span style=\"background-color: grey;\"> caught</span> their gig in August 2002 at The T ote in Coll ing wood ; she felt they \" played a wide selection of both more traditional , folk - inspired tunes along with the fast punk and v iv acious violin playing ."
      ],
      "text/plain": [
       "<IPython.core.display.HTML object>"
      ]
     },
     "metadata": {},
     "output_type": "display_data"
    },
    {
     "data": {
      "text/html": [
       "(47.571)  Br ink man recovered Brett 's bat , having<span style=\"background-color: grey;\"> caught</span> a bat boy attempting to hide it in the Royals ' clubhouse ."
      ],
      "text/plain": [
       "<IPython.core.display.HTML object>"
      ]
     },
     "metadata": {},
     "output_type": "display_data"
    },
    {
     "data": {
      "text/html": [
       "(50.921)  F amous in this respect is the statement by Joh an Cru y ff on Ja ap van Pra ag , stating that he was never able to<span style=\"background-color: grey;\"> catch</span> him in a truth ."
      ],
      "text/plain": [
       "<IPython.core.display.HTML object>"
      ]
     },
     "metadata": {},
     "output_type": "display_data"
    },
    {
     "data": {
      "text/html": [
       "(50.979)  The hero succeeds in<span style=\"background-color: grey;\"> catching</span> the ot ter , and brings it back to his home ."
      ],
      "text/plain": [
       "<IPython.core.display.HTML object>"
      ]
     },
     "metadata": {},
     "output_type": "display_data"
    },
    {
     "data": {
      "text/html": [
       "(51.642)  Batman<span style=\"background-color: grey;\"> catches</span> him off - guard and knocks him unconscious , thus saving Alfred 's life and sending Z s as z back to Arkham ."
      ],
      "text/plain": [
       "<IPython.core.display.HTML object>"
      ]
     },
     "metadata": {},
     "output_type": "display_data"
    },
    {
     "data": {
      "text/html": [
       "(54.453)  Chest nut , man ning a metal detector , was<span style=\"background-color: grey;\"> caught</span> unaware when Weston shot him in the back of the head at point - blank range , killing him instantly ."
      ],
      "text/plain": [
       "<IPython.core.display.HTML object>"
      ]
     },
     "metadata": {},
     "output_type": "display_data"
    },
    {
     "data": {
      "text/html": [
       "(55.001)  En igmatic young American he i ress Mel ina ( Lou ise S ore l ) has fallen in with a group of Chelsea beat ni ks ,<span style=\"background-color: grey;\"> catching</span> the attention of the gang 's defiant leader Mo ise ( Ol iver Reed ) but inviting scorn and jealousy from the group 's other members , including Mo ise 's lover Lib by ( Ann Lynn )."
      ],
      "text/plain": [
       "<IPython.core.display.HTML object>"
      ]
     },
     "metadata": {},
     "output_type": "display_data"
    },
    {
     "data": {
      "text/html": [
       "(55.306)  B ears are seen frequently at Brooks Falls ,<span style=\"background-color: grey;\"> catching</span> salmon there ; they are the main attraction to the lake and Brooks Falls and Camp ."
      ],
      "text/plain": [
       "<IPython.core.display.HTML object>"
      ]
     },
     "metadata": {},
     "output_type": "display_data"
    },
    {
     "data": {
      "text/html": [
       "(60.923)  Scene transitions<span style=\"background-color: grey;\"> caught</span> people 's attention and the CGI of the helicopter was very phot oreal istic bas ing on the fact that Lou k man is a creative motion graphics designer and sketch artist ."
      ],
      "text/plain": [
       "<IPython.core.display.HTML object>"
      ]
     },
     "metadata": {},
     "output_type": "display_data"
    },
    {
     "data": {
      "text/html": [
       "(61.651)  After three days , P wy ll , himself , rides out to meet her and when he cannot<span style=\"background-color: grey;\"> catch</span> her , he calls out to her in desperation ."
      ],
      "text/plain": [
       "<IPython.core.display.HTML object>"
      ]
     },
     "metadata": {},
     "output_type": "display_data"
    },
    {
     "data": {
      "text/html": [
       "(61.804)  W ang then started the study of Classical Chinese , believing that \" in order to<span style=\"background-color: grey;\"> catch</span> up with the world 's advanced study in the science of language , one has to perform historical analysis on the linguistic phenomena and its development patterns .\""
      ],
      "text/plain": [
       "<IPython.core.display.HTML object>"
      ]
     },
     "metadata": {},
     "output_type": "display_data"
    },
    {
     "data": {
      "text/html": [
       "(66.095)  Real izing that unless he took drastic measures his ship would be<span style=\"background-color: grey;\"> caught</span> , Captain Daniel Wood r iff turned Cal cut ta back towards Mag nan ime , hoping to disable her before the next ship in line , the fr igate Th ét is , could join the battle ."
      ],
      "text/plain": [
       "<IPython.core.display.HTML object>"
      ]
     },
     "metadata": {},
     "output_type": "display_data"
    },
    {
     "data": {
      "text/html": [
       "(67.862)  H ester returned to play in the Bears season finale against the Detroit Lions ,<span style=\"background-color: lightblue;\"> catching</span> three passes for 75 yards ."
      ],
      "text/plain": [
       "<IPython.core.display.HTML object>"
      ]
     },
     "metadata": {},
     "output_type": "display_data"
    },
    {
     "data": {
      "text/html": [
       "(67.898)  He was a pupil of Hay dn , and is celebrated mainly for his g lee compositions and<span style=\"background-color: grey;\"> catches</span> ."
      ],
      "text/plain": [
       "<IPython.core.display.HTML object>"
      ]
     },
     "metadata": {},
     "output_type": "display_data"
    },
    {
     "data": {
      "text/html": [
       "(69.416)  Over the next 41 years , he<span style=\"background-color: grey;\"> captured</span> photos of young Muhammad Ali , D izzy Gillespie , Stev ie Wonder , Ha ile Sel ass ie , J omo Ken y atta , former Ambassador Andrew Young in blue leather jacket and jeans in his office at the United Nations , Ghana 's Kw ame N k rum ah , Liberia 's William Tub man and Bill ie Holiday ."
      ],
      "text/plain": [
       "<IPython.core.display.HTML object>"
      ]
     },
     "metadata": {},
     "output_type": "display_data"
    },
    {
     "data": {
      "text/html": [
       "(174.535)  Later that day ,<span style=\"background-color: limegreen;\"> he</span> caught her eye ."
      ],
      "text/plain": [
       "<IPython.core.display.HTML object>"
      ]
     },
     "metadata": {},
     "output_type": "display_data"
    },
    {
     "data": {
      "text/html": [
       "(175.612)  Later that day , he caught<span style=\"background-color: limegreen;\"> her</span> eye ."
      ],
      "text/plain": [
       "<IPython.core.display.HTML object>"
      ]
     },
     "metadata": {},
     "output_type": "display_data"
    },
    {
     "data": {
      "text/html": [
       "(183.169)  Later that day , he caught her<span style=\"background-color: limegreen;\"> eye</span> ."
      ],
      "text/plain": [
       "<IPython.core.display.HTML object>"
      ]
     },
     "metadata": {},
     "output_type": "display_data"
    },
    {
     "data": {
      "text/html": [
       "(192.054)  Later that<span style=\"background-color: limegreen;\"> day</span> , he caught her eye ."
      ],
      "text/plain": [
       "<IPython.core.display.HTML object>"
      ]
     },
     "metadata": {},
     "output_type": "display_data"
    },
    {
     "name": "stdout",
     "output_type": "stream",
     "text": [
      ".\n",
      ".\n",
      ".\n"
     ]
    },
    {
     "data": {
      "text/html": [
       "Layer arr_7"
      ],
      "text/plain": [
       "<IPython.core.display.HTML object>"
      ]
     },
     "metadata": {},
     "output_type": "display_data"
    },
    {
     "data": {
      "text/html": [
       "<span style=\"background-color: rgba(59,0,247,1); font-size: 10pt;\"> Later </span><span style=\"background-color: rgba(136,215,5,1); font-size: 10pt;\"> that </span><span style=\"background-color: rgba(221,125,4,1); font-size: 10pt;\"> day </span><span style=\"background-color: rgba(234,0,100,1); font-size: 10pt;\"> , </span><span style=\"background-color: rgba(123,196,105,1); font-size: 10pt;\"> he </span><span style=\"background-color: rgba(217,0,132,1); font-size: 10pt;\"> caught </span><span style=\"background-color: rgba(81,103,218,1); font-size: 10pt;\"> her </span><span style=\"background-color: rgba(56,175,175,1); font-size: 10pt;\"> eye </span><span style=\"background-color: rgba(219,128,11,1); font-size: 10pt;\"> . </span>"
      ],
      "text/plain": [
       "<IPython.core.display.HTML object>"
      ]
     },
     "metadata": {},
     "output_type": "display_data"
    },
    {
     "data": {
      "text/html": [
       " Later that day , he<span style=\"background-color: lightpink;\"> caught</span> her eye ."
      ],
      "text/plain": [
       "<IPython.core.display.HTML object>"
      ]
     },
     "metadata": {},
     "output_type": "display_data"
    },
    {
     "data": {
      "text/html": [
       "(25.117)  He<span style=\"background-color: grey;\"> caught</span> his first pass against Nebraska for 4 yards ."
      ],
      "text/plain": [
       "<IPython.core.display.HTML object>"
      ]
     },
     "metadata": {},
     "output_type": "display_data"
    },
    {
     "data": {
      "text/html": [
       "(27.010)  Fran z had shot down two B - 17 s earlier that day and he soon<span style=\"background-color: grey;\"> caught</span> up to a wounded B - 17 flown by Charles Brown ."
      ],
      "text/plain": [
       "<IPython.core.display.HTML object>"
      ]
     },
     "metadata": {},
     "output_type": "display_data"
    },
    {
     "data": {
      "text/html": [
       "(34.419)  The band recorded with British producer Tr istan Long worth who<span style=\"background-color: grey;\"> caught</span> their attention with his work for Jon Allen ."
      ],
      "text/plain": [
       "<IPython.core.display.HTML object>"
      ]
     },
     "metadata": {},
     "output_type": "display_data"
    },
    {
     "data": {
      "text/html": [
       "(41.253)  S yl via Gau ci of \" V ib ew ire \"<span style=\"background-color: grey;\"> caught</span> their gig in August 2002 at The T ote in Coll ing wood ; she felt they \" played a wide selection of both more traditional , folk - inspired tunes along with the fast punk and v iv acious violin playing ."
      ],
      "text/plain": [
       "<IPython.core.display.HTML object>"
      ]
     },
     "metadata": {},
     "output_type": "display_data"
    },
    {
     "data": {
      "text/html": [
       "(42.214)  In his rookie season with the Predators , Rubin<span style=\"background-color: grey;\"> caught</span> 46 passes for 5 88 yards and ten touchdowns in 2006 , while also making 17 . 5 tackles and one sack ."
      ],
      "text/plain": [
       "<IPython.core.display.HTML object>"
      ]
     },
     "metadata": {},
     "output_type": "display_data"
    },
    {
     "data": {
      "text/html": [
       "(42.736)  W alsh and his 200 - strong force began following the conspir ators after they entered Wor ces ters hire and<span style=\"background-color: grey;\"> caught</span> up with them at Hol bec he House in Stafford shire on 8 November ."
      ],
      "text/plain": [
       "<IPython.core.display.HTML object>"
      ]
     },
     "metadata": {},
     "output_type": "display_data"
    },
    {
     "data": {
      "text/html": [
       "(51.266)  Batman<span style=\"background-color: grey;\"> catches</span> him off - guard and knocks him unconscious , thus saving Alfred 's life and sending Z s as z back to Arkham ."
      ],
      "text/plain": [
       "<IPython.core.display.HTML object>"
      ]
     },
     "metadata": {},
     "output_type": "display_data"
    },
    {
     "data": {
      "text/html": [
       "(51.400)  The hero succeeds in<span style=\"background-color: grey;\"> catching</span> the ot ter , and brings it back to his home ."
      ],
      "text/plain": [
       "<IPython.core.display.HTML object>"
      ]
     },
     "metadata": {},
     "output_type": "display_data"
    },
    {
     "data": {
      "text/html": [
       "(52.367)  Br ink man recovered Brett 's bat , having<span style=\"background-color: grey;\"> caught</span> a bat boy attempting to hide it in the Royals ' clubhouse ."
      ],
      "text/plain": [
       "<IPython.core.display.HTML object>"
      ]
     },
     "metadata": {},
     "output_type": "display_data"
    },
    {
     "data": {
      "text/html": [
       "(53.096)  En igmatic young American he i ress Mel ina ( Lou ise S ore l ) has fallen in with a group of Chelsea beat ni ks ,<span style=\"background-color: grey;\"> catching</span> the attention of the gang 's defiant leader Mo ise ( Ol iver Reed ) but inviting scorn and jealousy from the group 's other members , including Mo ise 's lover Lib by ( Ann Lynn )."
      ],
      "text/plain": [
       "<IPython.core.display.HTML object>"
      ]
     },
     "metadata": {},
     "output_type": "display_data"
    },
    {
     "data": {
      "text/html": [
       "(55.240)  F amous in this respect is the statement by Joh an Cru y ff on Ja ap van Pra ag , stating that he was never able to<span style=\"background-color: grey;\"> catch</span> him in a truth ."
      ],
      "text/plain": [
       "<IPython.core.display.HTML object>"
      ]
     },
     "metadata": {},
     "output_type": "display_data"
    },
    {
     "data": {
      "text/html": [
       "(60.463)  B ears are seen frequently at Brooks Falls ,<span style=\"background-color: grey;\"> catching</span> salmon there ; they are the main attraction to the lake and Brooks Falls and Camp ."
      ],
      "text/plain": [
       "<IPython.core.display.HTML object>"
      ]
     },
     "metadata": {},
     "output_type": "display_data"
    },
    {
     "data": {
      "text/html": [
       "(62.172)  Chest nut , man ning a metal detector , was<span style=\"background-color: grey;\"> caught</span> unaware when Weston shot him in the back of the head at point - blank range , killing him instantly ."
      ],
      "text/plain": [
       "<IPython.core.display.HTML object>"
      ]
     },
     "metadata": {},
     "output_type": "display_data"
    },
    {
     "data": {
      "text/html": [
       "(64.189)  After three days , P wy ll , himself , rides out to meet her and when he cannot<span style=\"background-color: grey;\"> catch</span> her , he calls out to her in desperation ."
      ],
      "text/plain": [
       "<IPython.core.display.HTML object>"
      ]
     },
     "metadata": {},
     "output_type": "display_data"
    },
    {
     "data": {
      "text/html": [
       "(65.840)  W ang then started the study of Classical Chinese , believing that \" in order to<span style=\"background-color: grey;\"> catch</span> up with the world 's advanced study in the science of language , one has to perform historical analysis on the linguistic phenomena and its development patterns .\""
      ],
      "text/plain": [
       "<IPython.core.display.HTML object>"
      ]
     },
     "metadata": {},
     "output_type": "display_data"
    },
    {
     "data": {
      "text/html": [
       "(67.896)  Scene transitions<span style=\"background-color: grey;\"> caught</span> people 's attention and the CGI of the helicopter was very phot oreal istic bas ing on the fact that Lou k man is a creative motion graphics designer and sketch artist ."
      ],
      "text/plain": [
       "<IPython.core.display.HTML object>"
      ]
     },
     "metadata": {},
     "output_type": "display_data"
    },
    {
     "data": {
      "text/html": [
       "(72.818)  H ester returned to play in the Bears season finale against the Detroit Lions ,<span style=\"background-color: grey;\"> catching</span> three passes for 75 yards ."
      ],
      "text/plain": [
       "<IPython.core.display.HTML object>"
      ]
     },
     "metadata": {},
     "output_type": "display_data"
    },
    {
     "data": {
      "text/html": [
       "(75.078)  He was a pupil of Hay dn , and is celebrated mainly for his g lee compositions and<span style=\"background-color: grey;\"> catches</span> ."
      ],
      "text/plain": [
       "<IPython.core.display.HTML object>"
      ]
     },
     "metadata": {},
     "output_type": "display_data"
    },
    {
     "data": {
      "text/html": [
       "(76.266)  on the river , or<span style=\"background-color: grey;\"> catch</span> smaller specimens – 50 – 100 kg ."
      ],
      "text/plain": [
       "<IPython.core.display.HTML object>"
      ]
     },
     "metadata": {},
     "output_type": "display_data"
    },
    {
     "data": {
      "text/html": [
       "(79.376)  Over the next 41 years , he<span style=\"background-color: grey;\"> captured</span> photos of young Muhammad Ali , D izzy Gillespie , Stev ie Wonder , Ha ile Sel ass ie , J omo Ken y atta , former Ambassador Andrew Young in blue leather jacket and jeans in his office at the United Nations , Ghana 's Kw ame N k rum ah , Liberia 's William Tub man and Bill ie Holiday ."
      ],
      "text/plain": [
       "<IPython.core.display.HTML object>"
      ]
     },
     "metadata": {},
     "output_type": "display_data"
    },
    {
     "data": {
      "text/html": [
       "(178.244)  Later that day , he caught<span style=\"background-color: limegreen;\"> her</span> eye ."
      ],
      "text/plain": [
       "<IPython.core.display.HTML object>"
      ]
     },
     "metadata": {},
     "output_type": "display_data"
    },
    {
     "data": {
      "text/html": [
       "(178.913)  Later that day , he caught her<span style=\"background-color: limegreen;\"> eye</span> ."
      ],
      "text/plain": [
       "<IPython.core.display.HTML object>"
      ]
     },
     "metadata": {},
     "output_type": "display_data"
    },
    {
     "data": {
      "text/html": [
       "(180.304)  Later that day ,<span style=\"background-color: limegreen;\"> he</span> caught her eye ."
      ],
      "text/plain": [
       "<IPython.core.display.HTML object>"
      ]
     },
     "metadata": {},
     "output_type": "display_data"
    },
    {
     "data": {
      "text/html": [
       "(193.182)  Later that<span style=\"background-color: limegreen;\"> day</span> , he caught her eye ."
      ],
      "text/plain": [
       "<IPython.core.display.HTML object>"
      ]
     },
     "metadata": {},
     "output_type": "display_data"
    },
    {
     "name": "stdout",
     "output_type": "stream",
     "text": [
      ".\n",
      ".\n",
      ".\n"
     ]
    },
    {
     "data": {
      "text/html": [
       "Layer arr_8"
      ],
      "text/plain": [
       "<IPython.core.display.HTML object>"
      ]
     },
     "metadata": {},
     "output_type": "display_data"
    },
    {
     "data": {
      "text/html": [
       "<span style=\"background-color: rgba(254,0,0,1); font-size: 10pt;\"> Later </span><span style=\"background-color: rgba(176,77,167,1); font-size: 10pt;\"> that </span><span style=\"background-color: rgba(168,190,0,1); font-size: 10pt;\"> day </span><span style=\"background-color: rgba(178,149,104,1); font-size: 10pt;\"> , </span><span style=\"background-color: rgba(54,248,20,1); font-size: 10pt;\"> he </span><span style=\"background-color: rgba(0,117,226,1); font-size: 10pt;\"> caught </span><span style=\"background-color: rgba(85,161,177,1); font-size: 10pt;\"> her </span><span style=\"background-color: rgba(197,160,0,1); font-size: 10pt;\"> eye </span><span style=\"background-color: rgba(15,198,158,1); font-size: 10pt;\"> . </span>"
      ],
      "text/plain": [
       "<IPython.core.display.HTML object>"
      ]
     },
     "metadata": {},
     "output_type": "display_data"
    },
    {
     "data": {
      "text/html": [
       " Later that day , he<span style=\"background-color: lightpink;\"> caught</span> her eye ."
      ],
      "text/plain": [
       "<IPython.core.display.HTML object>"
      ]
     },
     "metadata": {},
     "output_type": "display_data"
    },
    {
     "data": {
      "text/html": [
       "(26.837)  He<span style=\"background-color: grey;\"> caught</span> his first pass against Nebraska for 4 yards ."
      ],
      "text/plain": [
       "<IPython.core.display.HTML object>"
      ]
     },
     "metadata": {},
     "output_type": "display_data"
    },
    {
     "data": {
      "text/html": [
       "(27.795)  Fran z had shot down two B - 17 s earlier that day and he soon<span style=\"background-color: grey;\"> caught</span> up to a wounded B - 17 flown by Charles Brown ."
      ],
      "text/plain": [
       "<IPython.core.display.HTML object>"
      ]
     },
     "metadata": {},
     "output_type": "display_data"
    },
    {
     "data": {
      "text/html": [
       "(40.862)  S yl via Gau ci of \" V ib ew ire \"<span style=\"background-color: grey;\"> caught</span> their gig in August 2002 at The T ote in Coll ing wood ; she felt they \" played a wide selection of both more traditional , folk - inspired tunes along with the fast punk and v iv acious violin playing ."
      ],
      "text/plain": [
       "<IPython.core.display.HTML object>"
      ]
     },
     "metadata": {},
     "output_type": "display_data"
    },
    {
     "data": {
      "text/html": [
       "(40.931)  The band recorded with British producer Tr istan Long worth who<span style=\"background-color: grey;\"> caught</span> their attention with his work for Jon Allen ."
      ],
      "text/plain": [
       "<IPython.core.display.HTML object>"
      ]
     },
     "metadata": {},
     "output_type": "display_data"
    },
    {
     "data": {
      "text/html": [
       "(45.498)  W alsh and his 200 - strong force began following the conspir ators after they entered Wor ces ters hire and<span style=\"background-color: grey;\"> caught</span> up with them at Hol bec he House in Stafford shire on 8 November ."
      ],
      "text/plain": [
       "<IPython.core.display.HTML object>"
      ]
     },
     "metadata": {},
     "output_type": "display_data"
    },
    {
     "data": {
      "text/html": [
       "(49.198)  Batman<span style=\"background-color: grey;\"> catches</span> him off - guard and knocks him unconscious , thus saving Alfred 's life and sending Z s as z back to Arkham ."
      ],
      "text/plain": [
       "<IPython.core.display.HTML object>"
      ]
     },
     "metadata": {},
     "output_type": "display_data"
    },
    {
     "data": {
      "text/html": [
       "(54.616)  En igmatic young American he i ress Mel ina ( Lou ise S ore l ) has fallen in with a group of Chelsea beat ni ks ,<span style=\"background-color: grey;\"> catching</span> the attention of the gang 's defiant leader Mo ise ( Ol iver Reed ) but inviting scorn and jealousy from the group 's other members , including Mo ise 's lover Lib by ( Ann Lynn )."
      ],
      "text/plain": [
       "<IPython.core.display.HTML object>"
      ]
     },
     "metadata": {},
     "output_type": "display_data"
    },
    {
     "data": {
      "text/html": [
       "(55.898)  In his rookie season with the Predators , Rubin<span style=\"background-color: grey;\"> caught</span> 46 passes for 5 88 yards and ten touchdowns in 2006 , while also making 17 . 5 tackles and one sack ."
      ],
      "text/plain": [
       "<IPython.core.display.HTML object>"
      ]
     },
     "metadata": {},
     "output_type": "display_data"
    },
    {
     "data": {
      "text/html": [
       "(56.183)  Br ink man recovered Brett 's bat , having<span style=\"background-color: grey;\"> caught</span> a bat boy attempting to hide it in the Royals ' clubhouse ."
      ],
      "text/plain": [
       "<IPython.core.display.HTML object>"
      ]
     },
     "metadata": {},
     "output_type": "display_data"
    },
    {
     "data": {
      "text/html": [
       "(56.581)  The hero succeeds in<span style=\"background-color: grey;\"> catching</span> the ot ter , and brings it back to his home ."
      ],
      "text/plain": [
       "<IPython.core.display.HTML object>"
      ]
     },
     "metadata": {},
     "output_type": "display_data"
    },
    {
     "data": {
      "text/html": [
       "(57.943)  F amous in this respect is the statement by Joh an Cru y ff on Ja ap van Pra ag , stating that he was never able to<span style=\"background-color: grey;\"> catch</span> him in a truth ."
      ],
      "text/plain": [
       "<IPython.core.display.HTML object>"
      ]
     },
     "metadata": {},
     "output_type": "display_data"
    },
    {
     "data": {
      "text/html": [
       "(63.337)  B ears are seen frequently at Brooks Falls ,<span style=\"background-color: grey;\"> catching</span> salmon there ; they are the main attraction to the lake and Brooks Falls and Camp ."
      ],
      "text/plain": [
       "<IPython.core.display.HTML object>"
      ]
     },
     "metadata": {},
     "output_type": "display_data"
    },
    {
     "data": {
      "text/html": [
       "(70.323)  W ang then started the study of Classical Chinese , believing that \" in order to<span style=\"background-color: grey;\"> catch</span> up with the world 's advanced study in the science of language , one has to perform historical analysis on the linguistic phenomena and its development patterns .\""
      ],
      "text/plain": [
       "<IPython.core.display.HTML object>"
      ]
     },
     "metadata": {},
     "output_type": "display_data"
    },
    {
     "data": {
      "text/html": [
       "(72.012)  After three days , P wy ll , himself , rides out to meet her and when he cannot<span style=\"background-color: grey;\"> catch</span> her , he calls out to her in desperation ."
      ],
      "text/plain": [
       "<IPython.core.display.HTML object>"
      ]
     },
     "metadata": {},
     "output_type": "display_data"
    },
    {
     "data": {
      "text/html": [
       "(74.484)  Chest nut , man ning a metal detector , was<span style=\"background-color: grey;\"> caught</span> unaware when Weston shot him in the back of the head at point - blank range , killing him instantly ."
      ],
      "text/plain": [
       "<IPython.core.display.HTML object>"
      ]
     },
     "metadata": {},
     "output_type": "display_data"
    },
    {
     "data": {
      "text/html": [
       "(75.460)  Scene transitions<span style=\"background-color: grey;\"> caught</span> people 's attention and the CGI of the helicopter was very phot oreal istic bas ing on the fact that Lou k man is a creative motion graphics designer and sketch artist ."
      ],
      "text/plain": [
       "<IPython.core.display.HTML object>"
      ]
     },
     "metadata": {},
     "output_type": "display_data"
    },
    {
     "data": {
      "text/html": [
       "(78.733)  on the river , or<span style=\"background-color: grey;\"> catch</span> smaller specimens – 50 – 100 kg ."
      ],
      "text/plain": [
       "<IPython.core.display.HTML object>"
      ]
     },
     "metadata": {},
     "output_type": "display_data"
    },
    {
     "data": {
      "text/html": [
       "(80.385)  H ester returned to play in the Bears season finale against the Detroit Lions ,<span style=\"background-color: grey;\"> catching</span> three passes for 75 yards ."
      ],
      "text/plain": [
       "<IPython.core.display.HTML object>"
      ]
     },
     "metadata": {},
     "output_type": "display_data"
    },
    {
     "data": {
      "text/html": [
       "(89.423)  He was a pupil of Hay dn , and is celebrated mainly for his g lee compositions and<span style=\"background-color: grey;\"> catches</span> ."
      ],
      "text/plain": [
       "<IPython.core.display.HTML object>"
      ]
     },
     "metadata": {},
     "output_type": "display_data"
    },
    {
     "data": {
      "text/html": [
       "(91.392)  Those in the outer wh or l are long and slender and armed with c n id ocytes ( st inging cells ) and are used for<span style=\"background-color: lightblue;\"> catching</span> prey ."
      ],
      "text/plain": [
       "<IPython.core.display.HTML object>"
      ]
     },
     "metadata": {},
     "output_type": "display_data"
    },
    {
     "data": {
      "text/html": [
       "(177.351)  Later that day , he caught<span style=\"background-color: limegreen;\"> her</span> eye ."
      ],
      "text/plain": [
       "<IPython.core.display.HTML object>"
      ]
     },
     "metadata": {},
     "output_type": "display_data"
    },
    {
     "data": {
      "text/html": [
       "(178.296)  Later that day , he caught her<span style=\"background-color: limegreen;\"> eye</span> ."
      ],
      "text/plain": [
       "<IPython.core.display.HTML object>"
      ]
     },
     "metadata": {},
     "output_type": "display_data"
    },
    {
     "data": {
      "text/html": [
       "(179.010)  Later that day ,<span style=\"background-color: limegreen;\"> he</span> caught her eye ."
      ],
      "text/plain": [
       "<IPython.core.display.HTML object>"
      ]
     },
     "metadata": {},
     "output_type": "display_data"
    },
    {
     "data": {
      "text/html": [
       "(192.118)  Later that<span style=\"background-color: limegreen;\"> day</span> , he caught her eye ."
      ],
      "text/plain": [
       "<IPython.core.display.HTML object>"
      ]
     },
     "metadata": {},
     "output_type": "display_data"
    },
    {
     "name": "stdout",
     "output_type": "stream",
     "text": [
      ".\n",
      ".\n",
      ".\n"
     ]
    },
    {
     "data": {
      "text/html": [
       "Layer arr_9"
      ],
      "text/plain": [
       "<IPython.core.display.HTML object>"
      ]
     },
     "metadata": {},
     "output_type": "display_data"
    },
    {
     "data": {
      "text/html": [
       "<span style=\"background-color: rgba(59,0,247,1); font-size: 10pt;\"> Later </span><span style=\"background-color: rgba(197,160,2,1); font-size: 10pt;\"> that </span><span style=\"background-color: rgba(231,105,2,1); font-size: 10pt;\"> day </span><span style=\"background-color: rgba(64,220,110,1); font-size: 10pt;\"> , </span><span style=\"background-color: rgba(200,0,157,1); font-size: 10pt;\"> he </span><span style=\"background-color: rgba(24,179,179,1); font-size: 10pt;\"> caught </span><span style=\"background-color: rgba(214,137,0,1); font-size: 10pt;\"> her </span><span style=\"background-color: rgba(48,111,223,1); font-size: 10pt;\"> eye </span><span style=\"background-color: rgba(238,0,90,1); font-size: 10pt;\"> . </span>"
      ],
      "text/plain": [
       "<IPython.core.display.HTML object>"
      ]
     },
     "metadata": {},
     "output_type": "display_data"
    },
    {
     "data": {
      "text/html": [
       " Later that day , he<span style=\"background-color: lightpink;\"> caught</span> her eye ."
      ],
      "text/plain": [
       "<IPython.core.display.HTML object>"
      ]
     },
     "metadata": {},
     "output_type": "display_data"
    },
    {
     "data": {
      "text/html": [
       "(27.721)  He<span style=\"background-color: grey;\"> caught</span> his first pass against Nebraska for 4 yards ."
      ],
      "text/plain": [
       "<IPython.core.display.HTML object>"
      ]
     },
     "metadata": {},
     "output_type": "display_data"
    },
    {
     "data": {
      "text/html": [
       "(32.687)  Fran z had shot down two B - 17 s earlier that day and he soon<span style=\"background-color: grey;\"> caught</span> up to a wounded B - 17 flown by Charles Brown ."
      ],
      "text/plain": [
       "<IPython.core.display.HTML object>"
      ]
     },
     "metadata": {},
     "output_type": "display_data"
    },
    {
     "data": {
      "text/html": [
       "(38.888)  S yl via Gau ci of \" V ib ew ire \"<span style=\"background-color: grey;\"> caught</span> their gig in August 2002 at The T ote in Coll ing wood ; she felt they \" played a wide selection of both more traditional , folk - inspired tunes along with the fast punk and v iv acious violin playing ."
      ],
      "text/plain": [
       "<IPython.core.display.HTML object>"
      ]
     },
     "metadata": {},
     "output_type": "display_data"
    },
    {
     "data": {
      "text/html": [
       "(46.326)  Batman<span style=\"background-color: grey;\"> catches</span> him off - guard and knocks him unconscious , thus saving Alfred 's life and sending Z s as z back to Arkham ."
      ],
      "text/plain": [
       "<IPython.core.display.HTML object>"
      ]
     },
     "metadata": {},
     "output_type": "display_data"
    },
    {
     "data": {
      "text/html": [
       "(49.219)  The band recorded with British producer Tr istan Long worth who<span style=\"background-color: grey;\"> caught</span> their attention with his work for Jon Allen ."
      ],
      "text/plain": [
       "<IPython.core.display.HTML object>"
      ]
     },
     "metadata": {},
     "output_type": "display_data"
    },
    {
     "data": {
      "text/html": [
       "(53.775)  W alsh and his 200 - strong force began following the conspir ators after they entered Wor ces ters hire and<span style=\"background-color: grey;\"> caught</span> up with them at Hol bec he House in Stafford shire on 8 November ."
      ],
      "text/plain": [
       "<IPython.core.display.HTML object>"
      ]
     },
     "metadata": {},
     "output_type": "display_data"
    },
    {
     "data": {
      "text/html": [
       "(56.548)  En igmatic young American he i ress Mel ina ( Lou ise S ore l ) has fallen in with a group of Chelsea beat ni ks ,<span style=\"background-color: grey;\"> catching</span> the attention of the gang 's defiant leader Mo ise ( Ol iver Reed ) but inviting scorn and jealousy from the group 's other members , including Mo ise 's lover Lib by ( Ann Lynn )."
      ],
      "text/plain": [
       "<IPython.core.display.HTML object>"
      ]
     },
     "metadata": {},
     "output_type": "display_data"
    },
    {
     "data": {
      "text/html": [
       "(58.872)  The hero succeeds in<span style=\"background-color: grey;\"> catching</span> the ot ter , and brings it back to his home ."
      ],
      "text/plain": [
       "<IPython.core.display.HTML object>"
      ]
     },
     "metadata": {},
     "output_type": "display_data"
    },
    {
     "data": {
      "text/html": [
       "(62.106)  F amous in this respect is the statement by Joh an Cru y ff on Ja ap van Pra ag , stating that he was never able to<span style=\"background-color: grey;\"> catch</span> him in a truth ."
      ],
      "text/plain": [
       "<IPython.core.display.HTML object>"
      ]
     },
     "metadata": {},
     "output_type": "display_data"
    },
    {
     "data": {
      "text/html": [
       "(64.859)  B ears are seen frequently at Brooks Falls ,<span style=\"background-color: grey;\"> catching</span> salmon there ; they are the main attraction to the lake and Brooks Falls and Camp ."
      ],
      "text/plain": [
       "<IPython.core.display.HTML object>"
      ]
     },
     "metadata": {},
     "output_type": "display_data"
    },
    {
     "data": {
      "text/html": [
       "(65.110)  Br ink man recovered Brett 's bat , having<span style=\"background-color: grey;\"> caught</span> a bat boy attempting to hide it in the Royals ' clubhouse ."
      ],
      "text/plain": [
       "<IPython.core.display.HTML object>"
      ]
     },
     "metadata": {},
     "output_type": "display_data"
    },
    {
     "data": {
      "text/html": [
       "(71.394)  In his rookie season with the Predators , Rubin<span style=\"background-color: grey;\"> caught</span> 46 passes for 5 88 yards and ten touchdowns in 2006 , while also making 17 . 5 tackles and one sack ."
      ],
      "text/plain": [
       "<IPython.core.display.HTML object>"
      ]
     },
     "metadata": {},
     "output_type": "display_data"
    },
    {
     "data": {
      "text/html": [
       "(74.049)  After three days , P wy ll , himself , rides out to meet her and when he cannot<span style=\"background-color: grey;\"> catch</span> her , he calls out to her in desperation ."
      ],
      "text/plain": [
       "<IPython.core.display.HTML object>"
      ]
     },
     "metadata": {},
     "output_type": "display_data"
    },
    {
     "data": {
      "text/html": [
       "(80.302)  W ang then started the study of Classical Chinese , believing that \" in order to<span style=\"background-color: grey;\"> catch</span> up with the world 's advanced study in the science of language , one has to perform historical analysis on the linguistic phenomena and its development patterns .\""
      ],
      "text/plain": [
       "<IPython.core.display.HTML object>"
      ]
     },
     "metadata": {},
     "output_type": "display_data"
    },
    {
     "data": {
      "text/html": [
       "(82.169)  on the river , or<span style=\"background-color: grey;\"> catch</span> smaller specimens – 50 – 100 kg ."
      ],
      "text/plain": [
       "<IPython.core.display.HTML object>"
      ]
     },
     "metadata": {},
     "output_type": "display_data"
    },
    {
     "data": {
      "text/html": [
       "(83.361)  Scene transitions<span style=\"background-color: grey;\"> caught</span> people 's attention and the CGI of the helicopter was very phot oreal istic bas ing on the fact that Lou k man is a creative motion graphics designer and sketch artist ."
      ],
      "text/plain": [
       "<IPython.core.display.HTML object>"
      ]
     },
     "metadata": {},
     "output_type": "display_data"
    },
    {
     "data": {
      "text/html": [
       "(91.470)  Chest nut , man ning a metal detector , was<span style=\"background-color: grey;\"> caught</span> unaware when Weston shot him in the back of the head at point - blank range , killing him instantly ."
      ],
      "text/plain": [
       "<IPython.core.display.HTML object>"
      ]
     },
     "metadata": {},
     "output_type": "display_data"
    },
    {
     "data": {
      "text/html": [
       "(92.926)  H ester returned to play in the Bears season finale against the Detroit Lions ,<span style=\"background-color: grey;\"> catching</span> three passes for 75 yards ."
      ],
      "text/plain": [
       "<IPython.core.display.HTML object>"
      ]
     },
     "metadata": {},
     "output_type": "display_data"
    },
    {
     "data": {
      "text/html": [
       "(96.163)  He was a pupil of Hay dn , and is celebrated mainly for his g lee compositions and<span style=\"background-color: grey;\"> catches</span> ."
      ],
      "text/plain": [
       "<IPython.core.display.HTML object>"
      ]
     },
     "metadata": {},
     "output_type": "display_data"
    },
    {
     "data": {
      "text/html": [
       "(96.657)  On 18 March 18 14 \" D oris \"<span style=\"background-color: lightblue;\"> captured</span> the American merchant ship \" Hunter \" off Mac au ."
      ],
      "text/plain": [
       "<IPython.core.display.HTML object>"
      ]
     },
     "metadata": {},
     "output_type": "display_data"
    },
    {
     "data": {
      "text/html": [
       "(164.234)  Later that day , he caught<span style=\"background-color: limegreen;\"> her</span> eye ."
      ],
      "text/plain": [
       "<IPython.core.display.HTML object>"
      ]
     },
     "metadata": {},
     "output_type": "display_data"
    },
    {
     "data": {
      "text/html": [
       "(172.459)  Later that day , he caught her<span style=\"background-color: limegreen;\"> eye</span> ."
      ],
      "text/plain": [
       "<IPython.core.display.HTML object>"
      ]
     },
     "metadata": {},
     "output_type": "display_data"
    },
    {
     "data": {
      "text/html": [
       "(173.049)  Later that day ,<span style=\"background-color: limegreen;\"> he</span> caught her eye ."
      ],
      "text/plain": [
       "<IPython.core.display.HTML object>"
      ]
     },
     "metadata": {},
     "output_type": "display_data"
    },
    {
     "data": {
      "text/html": [
       "(186.622)  Later that<span style=\"background-color: limegreen;\"> day</span> , he caught her eye ."
      ],
      "text/plain": [
       "<IPython.core.display.HTML object>"
      ]
     },
     "metadata": {},
     "output_type": "display_data"
    },
    {
     "name": "stdout",
     "output_type": "stream",
     "text": [
      ".\n",
      ".\n",
      ".\n"
     ]
    },
    {
     "data": {
      "text/html": [
       "Layer arr_10"
      ],
      "text/plain": [
       "<IPython.core.display.HTML object>"
      ]
     },
     "metadata": {},
     "output_type": "display_data"
    },
    {
     "data": {
      "text/html": [
       "<span style=\"background-color: rgba(204,0,152,1); font-size: 10pt;\"> Later </span><span style=\"background-color: rgba(196,0,162,1); font-size: 10pt;\"> that </span><span style=\"background-color: rgba(140,212,4,1); font-size: 10pt;\"> day </span><span style=\"background-color: rgba(220,123,29,1); font-size: 10pt;\"> , </span><span style=\"background-color: rgba(26,112,227,1); font-size: 10pt;\"> he </span><span style=\"background-color: rgba(99,160,171,1); font-size: 10pt;\"> caught </span><span style=\"background-color: rgba(109,0,230,1); font-size: 10pt;\"> her </span><span style=\"background-color: rgba(230,108,13,1); font-size: 10pt;\"> eye </span><span style=\"background-color: rgba(157,172,101,1); font-size: 10pt;\"> . </span>"
      ],
      "text/plain": [
       "<IPython.core.display.HTML object>"
      ]
     },
     "metadata": {},
     "output_type": "display_data"
    },
    {
     "data": {
      "text/html": [
       " Later that day , he<span style=\"background-color: lightpink;\"> caught</span> her eye ."
      ],
      "text/plain": [
       "<IPython.core.display.HTML object>"
      ]
     },
     "metadata": {},
     "output_type": "display_data"
    },
    {
     "data": {
      "text/html": [
       "(20.126)  He<span style=\"background-color: grey;\"> caught</span> his first pass against Nebraska for 4 yards ."
      ],
      "text/plain": [
       "<IPython.core.display.HTML object>"
      ]
     },
     "metadata": {},
     "output_type": "display_data"
    },
    {
     "data": {
      "text/html": [
       "(27.681)  Fran z had shot down two B - 17 s earlier that day and he soon<span style=\"background-color: grey;\"> caught</span> up to a wounded B - 17 flown by Charles Brown ."
      ],
      "text/plain": [
       "<IPython.core.display.HTML object>"
      ]
     },
     "metadata": {},
     "output_type": "display_data"
    },
    {
     "data": {
      "text/html": [
       "(31.128)  Batman<span style=\"background-color: grey;\"> catches</span> him off - guard and knocks him unconscious , thus saving Alfred 's life and sending Z s as z back to Arkham ."
      ],
      "text/plain": [
       "<IPython.core.display.HTML object>"
      ]
     },
     "metadata": {},
     "output_type": "display_data"
    },
    {
     "data": {
      "text/html": [
       "(32.281)  S yl via Gau ci of \" V ib ew ire \"<span style=\"background-color: grey;\"> caught</span> their gig in August 2002 at The T ote in Coll ing wood ; she felt they \" played a wide selection of both more traditional , folk - inspired tunes along with the fast punk and v iv acious violin playing ."
      ],
      "text/plain": [
       "<IPython.core.display.HTML object>"
      ]
     },
     "metadata": {},
     "output_type": "display_data"
    },
    {
     "data": {
      "text/html": [
       "(44.788)  En igmatic young American he i ress Mel ina ( Lou ise S ore l ) has fallen in with a group of Chelsea beat ni ks ,<span style=\"background-color: grey;\"> catching</span> the attention of the gang 's defiant leader Mo ise ( Ol iver Reed ) but inviting scorn and jealousy from the group 's other members , including Mo ise 's lover Lib by ( Ann Lynn )."
      ],
      "text/plain": [
       "<IPython.core.display.HTML object>"
      ]
     },
     "metadata": {},
     "output_type": "display_data"
    },
    {
     "data": {
      "text/html": [
       "(45.349)  The band recorded with British producer Tr istan Long worth who<span style=\"background-color: grey;\"> caught</span> their attention with his work for Jon Allen ."
      ],
      "text/plain": [
       "<IPython.core.display.HTML object>"
      ]
     },
     "metadata": {},
     "output_type": "display_data"
    },
    {
     "data": {
      "text/html": [
       "(45.726)  W alsh and his 200 - strong force began following the conspir ators after they entered Wor ces ters hire and<span style=\"background-color: grey;\"> caught</span> up with them at Hol bec he House in Stafford shire on 8 November ."
      ],
      "text/plain": [
       "<IPython.core.display.HTML object>"
      ]
     },
     "metadata": {},
     "output_type": "display_data"
    },
    {
     "data": {
      "text/html": [
       "(45.996)  The hero succeeds in<span style=\"background-color: grey;\"> catching</span> the ot ter , and brings it back to his home ."
      ],
      "text/plain": [
       "<IPython.core.display.HTML object>"
      ]
     },
     "metadata": {},
     "output_type": "display_data"
    },
    {
     "data": {
      "text/html": [
       "(51.214)  F amous in this respect is the statement by Joh an Cru y ff on Ja ap van Pra ag , stating that he was never able to<span style=\"background-color: grey;\"> catch</span> him in a truth ."
      ],
      "text/plain": [
       "<IPython.core.display.HTML object>"
      ]
     },
     "metadata": {},
     "output_type": "display_data"
    },
    {
     "data": {
      "text/html": [
       "(53.250)  B ears are seen frequently at Brooks Falls ,<span style=\"background-color: grey;\"> catching</span> salmon there ; they are the main attraction to the lake and Brooks Falls and Camp ."
      ],
      "text/plain": [
       "<IPython.core.display.HTML object>"
      ]
     },
     "metadata": {},
     "output_type": "display_data"
    },
    {
     "data": {
      "text/html": [
       "(55.458)  After three days , P wy ll , himself , rides out to meet her and when he cannot<span style=\"background-color: grey;\"> catch</span> her , he calls out to her in desperation ."
      ],
      "text/plain": [
       "<IPython.core.display.HTML object>"
      ]
     },
     "metadata": {},
     "output_type": "display_data"
    },
    {
     "data": {
      "text/html": [
       "(68.005)  on the river , or<span style=\"background-color: grey;\"> catch</span> smaller specimens – 50 – 100 kg ."
      ],
      "text/plain": [
       "<IPython.core.display.HTML object>"
      ]
     },
     "metadata": {},
     "output_type": "display_data"
    },
    {
     "data": {
      "text/html": [
       "(68.778)  Br ink man recovered Brett 's bat , having<span style=\"background-color: grey;\"> caught</span> a bat boy attempting to hide it in the Royals ' clubhouse ."
      ],
      "text/plain": [
       "<IPython.core.display.HTML object>"
      ]
     },
     "metadata": {},
     "output_type": "display_data"
    },
    {
     "data": {
      "text/html": [
       "(69.017)  W ang then started the study of Classical Chinese , believing that \" in order to<span style=\"background-color: grey;\"> catch</span> up with the world 's advanced study in the science of language , one has to perform historical analysis on the linguistic phenomena and its development patterns .\""
      ],
      "text/plain": [
       "<IPython.core.display.HTML object>"
      ]
     },
     "metadata": {},
     "output_type": "display_data"
    },
    {
     "data": {
      "text/html": [
       "(72.987)  When he<span style=\"background-color: lightblue;\"> spotted</span> clinic doctor John Britt on and his body guard , retired USAF Lieutenant Colonel James H . Barrett ."
      ],
      "text/plain": [
       "<IPython.core.display.HTML object>"
      ]
     },
     "metadata": {},
     "output_type": "display_data"
    },
    {
     "data": {
      "text/html": [
       "(73.916)  Scene transitions<span style=\"background-color: grey;\"> caught</span> people 's attention and the CGI of the helicopter was very phot oreal istic bas ing on the fact that Lou k man is a creative motion graphics designer and sketch artist ."
      ],
      "text/plain": [
       "<IPython.core.display.HTML object>"
      ]
     },
     "metadata": {},
     "output_type": "display_data"
    },
    {
     "data": {
      "text/html": [
       "(79.440)  Next , Black will<span style=\"background-color: lightblue;\"> capture</span> White 's side pawn ( 7 ."
      ],
      "text/plain": [
       "<IPython.core.display.HTML object>"
      ]
     },
     "metadata": {},
     "output_type": "display_data"
    },
    {
     "data": {
      "text/html": [
       "(80.486)  On 18 March 18 14 \" D oris \"<span style=\"background-color: grey;\"> captured</span> the American merchant ship \" Hunter \" off Mac au ."
      ],
      "text/plain": [
       "<IPython.core.display.HTML object>"
      ]
     },
     "metadata": {},
     "output_type": "display_data"
    },
    {
     "data": {
      "text/html": [
       "(81.310)  C<span style=\"background-color: lightblue;\"> aught</span> in a Mexican stand - off , Ab ed insists that all seven of them should work together ."
      ],
      "text/plain": [
       "<IPython.core.display.HTML object>"
      ]
     },
     "metadata": {},
     "output_type": "display_data"
    },
    {
     "data": {
      "text/html": [
       "(81.310)  C<span style=\"background-color: lightblue;\"> aught</span> one day by her husband , while carrying bread in her a pron , the food was turned into roses ."
      ],
      "text/plain": [
       "<IPython.core.display.HTML object>"
      ]
     },
     "metadata": {},
     "output_type": "display_data"
    },
    {
     "data": {
      "text/html": [
       "(148.190)  Later that day , he caught<span style=\"background-color: limegreen;\"> her</span> eye ."
      ],
      "text/plain": [
       "<IPython.core.display.HTML object>"
      ]
     },
     "metadata": {},
     "output_type": "display_data"
    },
    {
     "data": {
      "text/html": [
       "(153.539)  Later that day ,<span style=\"background-color: limegreen;\"> he</span> caught her eye ."
      ],
      "text/plain": [
       "<IPython.core.display.HTML object>"
      ]
     },
     "metadata": {},
     "output_type": "display_data"
    },
    {
     "data": {
      "text/html": [
       "(164.245)  Later that day , he caught her<span style=\"background-color: limegreen;\"> eye</span> ."
      ],
      "text/plain": [
       "<IPython.core.display.HTML object>"
      ]
     },
     "metadata": {},
     "output_type": "display_data"
    },
    {
     "data": {
      "text/html": [
       "(166.665)  Later that<span style=\"background-color: limegreen;\"> day</span> , he caught her eye ."
      ],
      "text/plain": [
       "<IPython.core.display.HTML object>"
      ]
     },
     "metadata": {},
     "output_type": "display_data"
    },
    {
     "name": "stdout",
     "output_type": "stream",
     "text": [
      ".\n",
      ".\n",
      ".\n"
     ]
    },
    {
     "data": {
      "text/html": [
       "Layer arr_11"
      ],
      "text/plain": [
       "<IPython.core.display.HTML object>"
      ]
     },
     "metadata": {},
     "output_type": "display_data"
    },
    {
     "data": {
      "text/html": [
       "<span style=\"background-color: rgba(59,0,247,1); font-size: 10pt;\"> Later </span><span style=\"background-color: rgba(93,167,167,1); font-size: 10pt;\"> that </span><span style=\"background-color: rgba(182,177,0,1); font-size: 10pt;\"> day </span><span style=\"background-color: rgba(107,103,206,1); font-size: 10pt;\"> , </span><span style=\"background-color: rgba(229,111,2,1); font-size: 10pt;\"> he </span><span style=\"background-color: rgba(66,219,111,1); font-size: 10pt;\"> caught </span><span style=\"background-color: rgba(240,0,84,1); font-size: 10pt;\"> her </span><span style=\"background-color: rgba(214,0,138,1); font-size: 10pt;\"> eye </span><span style=\"background-color: rgba(223,122,4,1); font-size: 10pt;\"> . </span>"
      ],
      "text/plain": [
       "<IPython.core.display.HTML object>"
      ]
     },
     "metadata": {},
     "output_type": "display_data"
    },
    {
     "data": {
      "text/html": [
       " Later that day , he<span style=\"background-color: lightpink;\"> caught</span> her eye ."
      ],
      "text/plain": [
       "<IPython.core.display.HTML object>"
      ]
     },
     "metadata": {},
     "output_type": "display_data"
    },
    {
     "data": {
      "text/html": [
       "(12.382)  He<span style=\"background-color: grey;\"> caught</span> his first pass against Nebraska for 4 yards ."
      ],
      "text/plain": [
       "<IPython.core.display.HTML object>"
      ]
     },
     "metadata": {},
     "output_type": "display_data"
    },
    {
     "data": {
      "text/html": [
       "(17.116)  Fran z had shot down two B - 17 s earlier that day and he soon<span style=\"background-color: grey;\"> caught</span> up to a wounded B - 17 flown by Charles Brown ."
      ],
      "text/plain": [
       "<IPython.core.display.HTML object>"
      ]
     },
     "metadata": {},
     "output_type": "display_data"
    },
    {
     "data": {
      "text/html": [
       "(17.698)  Batman<span style=\"background-color: grey;\"> catches</span> him off - guard and knocks him unconscious , thus saving Alfred 's life and sending Z s as z back to Arkham ."
      ],
      "text/plain": [
       "<IPython.core.display.HTML object>"
      ]
     },
     "metadata": {},
     "output_type": "display_data"
    },
    {
     "data": {
      "text/html": [
       "(20.169)  S yl via Gau ci of \" V ib ew ire \"<span style=\"background-color: grey;\"> caught</span> their gig in August 2002 at The T ote in Coll ing wood ; she felt they \" played a wide selection of both more traditional , folk - inspired tunes along with the fast punk and v iv acious violin playing ."
      ],
      "text/plain": [
       "<IPython.core.display.HTML object>"
      ]
     },
     "metadata": {},
     "output_type": "display_data"
    },
    {
     "data": {
      "text/html": [
       "(27.466)  The hero succeeds in<span style=\"background-color: grey;\"> catching</span> the ot ter , and brings it back to his home ."
      ],
      "text/plain": [
       "<IPython.core.display.HTML object>"
      ]
     },
     "metadata": {},
     "output_type": "display_data"
    },
    {
     "data": {
      "text/html": [
       "(29.068)  W alsh and his 200 - strong force began following the conspir ators after they entered Wor ces ters hire and<span style=\"background-color: grey;\"> caught</span> up with them at Hol bec he House in Stafford shire on 8 November ."
      ],
      "text/plain": [
       "<IPython.core.display.HTML object>"
      ]
     },
     "metadata": {},
     "output_type": "display_data"
    },
    {
     "data": {
      "text/html": [
       "(30.079)  En igmatic young American he i ress Mel ina ( Lou ise S ore l ) has fallen in with a group of Chelsea beat ni ks ,<span style=\"background-color: grey;\"> catching</span> the attention of the gang 's defiant leader Mo ise ( Ol iver Reed ) but inviting scorn and jealousy from the group 's other members , including Mo ise 's lover Lib by ( Ann Lynn )."
      ],
      "text/plain": [
       "<IPython.core.display.HTML object>"
      ]
     },
     "metadata": {},
     "output_type": "display_data"
    },
    {
     "data": {
      "text/html": [
       "(31.211)  The band recorded with British producer Tr istan Long worth who<span style=\"background-color: grey;\"> caught</span> their attention with his work for Jon Allen ."
      ],
      "text/plain": [
       "<IPython.core.display.HTML object>"
      ]
     },
     "metadata": {},
     "output_type": "display_data"
    },
    {
     "data": {
      "text/html": [
       "(34.086)  B ears are seen frequently at Brooks Falls ,<span style=\"background-color: grey;\"> catching</span> salmon there ; they are the main attraction to the lake and Brooks Falls and Camp ."
      ],
      "text/plain": [
       "<IPython.core.display.HTML object>"
      ]
     },
     "metadata": {},
     "output_type": "display_data"
    },
    {
     "data": {
      "text/html": [
       "(34.435)  F amous in this respect is the statement by Joh an Cru y ff on Ja ap van Pra ag , stating that he was never able to<span style=\"background-color: grey;\"> catch</span> him in a truth ."
      ],
      "text/plain": [
       "<IPython.core.display.HTML object>"
      ]
     },
     "metadata": {},
     "output_type": "display_data"
    },
    {
     "data": {
      "text/html": [
       "(38.079)  After three days , P wy ll , himself , rides out to meet her and when he cannot<span style=\"background-color: grey;\"> catch</span> her , he calls out to her in desperation ."
      ],
      "text/plain": [
       "<IPython.core.display.HTML object>"
      ]
     },
     "metadata": {},
     "output_type": "display_data"
    },
    {
     "data": {
      "text/html": [
       "(39.503)  When he<span style=\"background-color: grey;\"> spotted</span> clinic doctor John Britt on and his body guard , retired USAF Lieutenant Colonel James H . Barrett ."
      ],
      "text/plain": [
       "<IPython.core.display.HTML object>"
      ]
     },
     "metadata": {},
     "output_type": "display_data"
    },
    {
     "data": {
      "text/html": [
       "(42.399)  W ang then started the study of Classical Chinese , believing that \" in order to<span style=\"background-color: grey;\"> catch</span> up with the world 's advanced study in the science of language , one has to perform historical analysis on the linguistic phenomena and its development patterns .\""
      ],
      "text/plain": [
       "<IPython.core.display.HTML object>"
      ]
     },
     "metadata": {},
     "output_type": "display_data"
    },
    {
     "data": {
      "text/html": [
       "(44.470)  Next , Black will<span style=\"background-color: grey;\"> capture</span> White 's side pawn ( 7 ."
      ],
      "text/plain": [
       "<IPython.core.display.HTML object>"
      ]
     },
     "metadata": {},
     "output_type": "display_data"
    },
    {
     "data": {
      "text/html": [
       "(44.537)  on the river , or<span style=\"background-color: grey;\"> catch</span> smaller specimens – 50 – 100 kg ."
      ],
      "text/plain": [
       "<IPython.core.display.HTML object>"
      ]
     },
     "metadata": {},
     "output_type": "display_data"
    },
    {
     "data": {
      "text/html": [
       "(45.361)  Scene transitions<span style=\"background-color: grey;\"> caught</span> people 's attention and the CGI of the helicopter was very phot oreal istic bas ing on the fact that Lou k man is a creative motion graphics designer and sketch artist ."
      ],
      "text/plain": [
       "<IPython.core.display.HTML object>"
      ]
     },
     "metadata": {},
     "output_type": "display_data"
    },
    {
     "data": {
      "text/html": [
       "(46.842)  Strange hopes to<span style=\"background-color: lightblue;\"> capture</span> P . O . P . S ."
      ],
      "text/plain": [
       "<IPython.core.display.HTML object>"
      ]
     },
     "metadata": {},
     "output_type": "display_data"
    },
    {
     "data": {
      "text/html": [
       "(46.879)  C aught one day<span style=\"background-color: lightblue;\"> by</span> her husband , while carrying bread in her a pron , the food was turned into roses ."
      ],
      "text/plain": [
       "<IPython.core.display.HTML object>"
      ]
     },
     "metadata": {},
     "output_type": "display_data"
    },
    {
     "data": {
      "text/html": [
       "(46.920)  He<span style=\"background-color: lightblue;\"> seized</span> on an ambiguous passage which might have meant that their marriage was ch aste , perhaps to give the idea that Ed ith 's child lessness was not her fault , to claim that Edward had been cel ib ate ."
      ],
      "text/plain": [
       "<IPython.core.display.HTML object>"
      ]
     },
     "metadata": {},
     "output_type": "display_data"
    },
    {
     "data": {
      "text/html": [
       "(47.989)  On the bus ride to Texas , Rusty<span style=\"background-color: lightblue;\"> sees</span> a sign that reads \" Dallas 36 2 \", the title of the film ."
      ],
      "text/plain": [
       "<IPython.core.display.HTML object>"
      ]
     },
     "metadata": {},
     "output_type": "display_data"
    },
    {
     "data": {
      "text/html": [
       "(118.431)  Later that day , he caught<span style=\"background-color: limegreen;\"> her</span> eye ."
      ],
      "text/plain": [
       "<IPython.core.display.HTML object>"
      ]
     },
     "metadata": {},
     "output_type": "display_data"
    },
    {
     "data": {
      "text/html": [
       "(119.686)  Later that<span style=\"background-color: limegreen;\"> day</span> , he caught her eye ."
      ],
      "text/plain": [
       "<IPython.core.display.HTML object>"
      ]
     },
     "metadata": {},
     "output_type": "display_data"
    },
    {
     "data": {
      "text/html": [
       "(123.962)  Later that day ,<span style=\"background-color: limegreen;\"> he</span> caught her eye ."
      ],
      "text/plain": [
       "<IPython.core.display.HTML object>"
      ]
     },
     "metadata": {},
     "output_type": "display_data"
    },
    {
     "data": {
      "text/html": [
       "(129.450)  Later that day , he caught her<span style=\"background-color: limegreen;\"> eye</span> ."
      ],
      "text/plain": [
       "<IPython.core.display.HTML object>"
      ]
     },
     "metadata": {},
     "output_type": "display_data"
    },
    {
     "name": "stdout",
     "output_type": "stream",
     "text": [
      ".\n",
      ".\n",
      ".\n"
     ]
    },
    {
     "data": {
      "text/html": [
       "Layer arr_12"
      ],
      "text/plain": [
       "<IPython.core.display.HTML object>"
      ]
     },
     "metadata": {},
     "output_type": "display_data"
    },
    {
     "data": {
      "text/html": [
       "<span style=\"background-color: rgba(122,174,139,1); font-size: 10pt;\"> Later </span><span style=\"background-color: rgba(227,110,32,1); font-size: 10pt;\"> that </span><span style=\"background-color: rgba(82,159,181,1); font-size: 10pt;\"> day </span><span style=\"background-color: rgba(112,54,222,1); font-size: 10pt;\"> , </span><span style=\"background-color: rgba(254,10,9,1); font-size: 10pt;\"> he </span><span style=\"background-color: rgba(100,5,234,1); font-size: 10pt;\"> caught </span><span style=\"background-color: rgba(199,157,16,1); font-size: 10pt;\"> her </span><span style=\"background-color: rgba(150,119,167,1); font-size: 10pt;\"> eye </span><span style=\"background-color: rgba(240,74,38,1); font-size: 10pt;\"> . </span>"
      ],
      "text/plain": [
       "<IPython.core.display.HTML object>"
      ]
     },
     "metadata": {},
     "output_type": "display_data"
    },
    {
     "data": {
      "text/html": [
       " Later that day , he<span style=\"background-color: lightpink;\"> caught</span> her eye ."
      ],
      "text/plain": [
       "<IPython.core.display.HTML object>"
      ]
     },
     "metadata": {},
     "output_type": "display_data"
    },
    {
     "data": {
      "text/html": [
       "(0.731)  On the bus ride to Texas , Rusty<span style=\"background-color: grey;\"> sees</span> a sign that reads \" Dallas 36 2 \", the title of the film ."
      ],
      "text/plain": [
       "<IPython.core.display.HTML object>"
      ]
     },
     "metadata": {},
     "output_type": "display_data"
    },
    {
     "data": {
      "text/html": [
       "(0.796)  \" L ion \" had been<span style=\"background-color: lightblue;\"> carrying</span> a cargo from Mad ras and Col umbo to England when she had put into Del ago a Bay in distress ."
      ],
      "text/plain": [
       "<IPython.core.display.HTML object>"
      ]
     },
     "metadata": {},
     "output_type": "display_data"
    },
    {
     "data": {
      "text/html": [
       "(0.858)  Additionally she could carry and<span style=\"background-color: lightblue;\"> support</span> one SH - 3 Sea King helicopter ( or similar size aircraft ) from her flight deck and hangar and did so during her years as 6 th Fleet Flags hip in Ga eta , Italy ."
      ],
      "text/plain": [
       "<IPython.core.display.HTML object>"
      ]
     },
     "metadata": {},
     "output_type": "display_data"
    },
    {
     "data": {
      "text/html": [
       "(0.860)  In the spot , a group of Caucasian men in a hum ve e are seen<span style=\"background-color: lightblue;\"> tracking</span> down a bare foot Kenyan runner , sed ating him with drug - l aced water , and forcing Nike shoes on his feet while he was unconscious ."
      ],
      "text/plain": [
       "<IPython.core.display.HTML object>"
      ]
     },
     "metadata": {},
     "output_type": "display_data"
    },
    {
     "data": {
      "text/html": [
       "(0.871)  Batman<span style=\"background-color: grey;\"> catches</span> him off - guard and knocks him unconscious , thus saving Alfred 's life and sending Z s as z back to Arkham ."
      ],
      "text/plain": [
       "<IPython.core.display.HTML object>"
      ]
     },
     "metadata": {},
     "output_type": "display_data"
    },
    {
     "data": {
      "text/html": [
       "(0.875)  W alt thinks about suff<span style=\"background-color: lightblue;\"> ocating</span> K razy - 8 but is unable to go through with the act ."
      ],
      "text/plain": [
       "<IPython.core.display.HTML object>"
      ]
     },
     "metadata": {},
     "output_type": "display_data"
    },
    {
     "data": {
      "text/html": [
       "(0.901)  The hero succeeds in<span style=\"background-color: grey;\"> catching</span> the ot ter , and brings it back to his home ."
      ],
      "text/plain": [
       "<IPython.core.display.HTML object>"
      ]
     },
     "metadata": {},
     "output_type": "display_data"
    },
    {
     "data": {
      "text/html": [
       "(0.904)  During early hours , late evenings and on Sundays<span style=\"background-color: lightblue;\"> ,</span> frequencies are reduced to 2 trains per hour on all branches ."
      ],
      "text/plain": [
       "<IPython.core.display.HTML object>"
      ]
     },
     "metadata": {},
     "output_type": "display_data"
    },
    {
     "data": {
      "text/html": [
       "(0.905)  East wood was credited with<span style=\"background-color: lightblue;\"> saving</span> the Academy 's type plant collection after the 1906 San Francisco earthquake ."
      ],
      "text/plain": [
       "<IPython.core.display.HTML object>"
      ]
     },
     "metadata": {},
     "output_type": "display_data"
    },
    {
     "data": {
      "text/html": [
       "(0.917)  On test day<span style=\"background-color: lightblue;\"> ,</span> student walk through the Rams both am portal and finds themselves alone on a strange planet but reasonably close to the pickup point ."
      ],
      "text/plain": [
       "<IPython.core.display.HTML object>"
      ]
     },
     "metadata": {},
     "output_type": "display_data"
    },
    {
     "data": {
      "text/html": [
       "(0.919)  The film shows Green field - Sanders as he shoots portraits<span style=\"background-color: lightblue;\"> of</span> thirty porn stars both clothed and naked for the book as well as presenting conversations and interviews with the performers along with authors , artists and filmmakers outside of the pornography industry ."
      ],
      "text/plain": [
       "<IPython.core.display.HTML object>"
      ]
     },
     "metadata": {},
     "output_type": "display_data"
    },
    {
     "data": {
      "text/html": [
       "(0.937)  A month later , B urt is waiting<span style=\"background-color: lightblue;\"> for</span> the still - l one ly M illy at her home and the two celebrate his new job at a department store ."
      ],
      "text/plain": [
       "<IPython.core.display.HTML object>"
      ]
     },
     "metadata": {},
     "output_type": "display_data"
    },
    {
     "data": {
      "text/html": [
       "(0.940)  Jan ( Charles Bus ch ), an itiner ant male nurse from Denmark ,<span style=\"background-color: lightblue;\"> takes</span> a new job with Mrs . A ( P olly Ber gen ), a termin ally ill Manhattan woman raising her parent less thirteen - year - old grandson , Gil ( P J Ver ho est )."
      ],
      "text/plain": [
       "<IPython.core.display.HTML object>"
      ]
     },
     "metadata": {},
     "output_type": "display_data"
    },
    {
     "data": {
      "text/html": [
       "(0.941)  One evening , Pam<span style=\"background-color: lightblue;\"> finds</span> Jim dead in the bath tub of their apartment ."
      ],
      "text/plain": [
       "<IPython.core.display.HTML object>"
      ]
     },
     "metadata": {},
     "output_type": "display_data"
    },
    {
     "data": {
      "text/html": [
       "(0.944)  Around the plaza<span style=\"background-color: lightblue;\"> ,</span> which was designed by architect Oscar Ni em ey er ( in cooperation with Israeli architects who planned for the existing residential buildings ), there is a circular street , He Be ' I y ar Street ( Israeli Independence Day Street ), connecting with two major streets : the north – south We iz mann Street , and the east – west Jab ot insky Street , as well as a number of small streets ."
      ],
      "text/plain": [
       "<IPython.core.display.HTML object>"
      ]
     },
     "metadata": {},
     "output_type": "display_data"
    },
    {
     "data": {
      "text/html": [
       "(0.957)  He<span style=\"background-color: grey;\"> caught</span> his first pass against Nebraska for 4 yards ."
      ],
      "text/plain": [
       "<IPython.core.display.HTML object>"
      ]
     },
     "metadata": {},
     "output_type": "display_data"
    },
    {
     "data": {
      "text/html": [
       "(0.974)  He wanted to create an open space and safe park land<span style=\"background-color: lightblue;\"> for</span> local families ."
      ],
      "text/plain": [
       "<IPython.core.display.HTML object>"
      ]
     },
     "metadata": {},
     "output_type": "display_data"
    },
    {
     "data": {
      "text/html": [
       "(0.978)  He must<span style=\"background-color: lightblue;\"> treat</span> them to figure out his own life ."
      ],
      "text/plain": [
       "<IPython.core.display.HTML object>"
      ]
     },
     "metadata": {},
     "output_type": "display_data"
    },
    {
     "data": {
      "text/html": [
       "(0.981)  All are happy until a visitor arrives at the hospital to<span style=\"background-color: lightblue;\"> see</span> her husband ."
      ],
      "text/plain": [
       "<IPython.core.display.HTML object>"
      ]
     },
     "metadata": {},
     "output_type": "display_data"
    },
    {
     "data": {
      "text/html": [
       "(0.984)  Even so<span style=\"background-color: lightblue;\"> ,</span> he op ined that the album still retained the \" th r ash y \" sound characteristic for the band during this period ."
      ],
      "text/plain": [
       "<IPython.core.display.HTML object>"
      ]
     },
     "metadata": {},
     "output_type": "display_data"
    },
    {
     "data": {
      "text/html": [
       "(22.567)  Later that day , he caught<span style=\"background-color: limegreen;\"> her</span> eye ."
      ],
      "text/plain": [
       "<IPython.core.display.HTML object>"
      ]
     },
     "metadata": {},
     "output_type": "display_data"
    },
    {
     "data": {
      "text/html": [
       "(30.650)  Later that day ,<span style=\"background-color: limegreen;\"> he</span> caught her eye ."
      ],
      "text/plain": [
       "<IPython.core.display.HTML object>"
      ]
     },
     "metadata": {},
     "output_type": "display_data"
    },
    {
     "data": {
      "text/html": [
       "(47.604)  Later that<span style=\"background-color: limegreen;\"> day</span> , he caught her eye ."
      ],
      "text/plain": [
       "<IPython.core.display.HTML object>"
      ]
     },
     "metadata": {},
     "output_type": "display_data"
    },
    {
     "data": {
      "text/html": [
       "(48.495)  Later that day , he caught her<span style=\"background-color: limegreen;\"> eye</span> ."
      ],
      "text/plain": [
       "<IPython.core.display.HTML object>"
      ]
     },
     "metadata": {},
     "output_type": "display_data"
    },
    {
     "name": "stdout",
     "output_type": "stream",
     "text": [
      ".\n",
      ".\n",
      ".\n"
     ]
    }
   ],
   "source": [
    "# VISUALIZE\n",
    "\n",
    "override_params = False  # useful for quick iteration on visualization\n",
    "if override_params:\n",
    "    vis_color = False\n",
    "    vis_size = False\n",
    "    vis_masked_KNNs = False\n",
    "    vis_corpus_KNNs = True\n",
    "    vis_custom_contexts = False\n",
    "    together = True\n",
    "    pruning=True  \n",
    "    save_to_html = False\n",
    "# other vis params\n",
    "max_font_size = 10\n",
    "# params if visualizing neighbors\n",
    "if vis_corpus_KNNs or vis_masked_KNNs or vis_custom_contexts:\n",
    "    n_neighbors_to_vis = 50\n",
    "    token_styler = lambda t: t\n",
    "    # token_styler = lambda t: style(font_size(fix_size(t),7), 'line-height:0px;')  # another pretty styling option\n",
    "\n",
    "# setup\n",
    "bluer = highlighter('lightblue')\n",
    "greener = highlighter('limegreen')\n",
    "greyer = highlighter('grey')\n",
    "masker = highlighter('black')\n",
    "if save_to_html: html_doc = ''\n",
    "if vis_masked_KNNs or vis_corpus_KNNs or vis_custom_contexts: selected_tok_html = context_html(doc, selected_tok_idx)\n",
    "\n",
    "# start visualizing\n",
    "# vis legend\n",
    "if vis_color:\n",
    "    pure_rgbs = vis_util.channels_to_rgbs(np.eye(dim))\n",
    "    html = ''\n",
    "    for i, rgb in enumerate(pure_rgbs):\n",
    "        html += html_util.style(f' {i} ', css=f'background-color: {html_util.rgb_to_color(*rgb)}')\n",
    "    print('Legend')\n",
    "    display(HTML(html))\n",
    "    if save_to_html: html_doc += html + '<br>'\n",
    "    print() \n",
    "    rgbs = {layer:vis_util.channels_to_rgbs(doc_reduced_acts[layer]) for layer in layers}  # prepare coloring\n",
    "\n",
    "corpus_neighs_so_far = []  \n",
    "for layer in layers:\n",
    "    html = f'Layer {layer}'\n",
    "    display(HTML(html))\n",
    "    if save_to_html: html_doc += html\n",
    "    \n",
    "    # vis sample\n",
    "    if vis_size:\n",
    "        _sizes = doc_acts_sizes[layer]\n",
    "        _sizes = (_sizes - np.min(_sizes)) / (np.max(_sizes) - np.min(_sizes))    \n",
    "    if vis_color:\n",
    "        _rgbs = rgbs[layer]\n",
    "        color_html = ''\n",
    "        for pos, tok in enumerate(doc):\n",
    "            if vis_size:\n",
    "                css = f'background-color: {html_util.rgb_to_color(*_rgbs[pos])}; font-size: {_sizes[pos]*max_font_size}pt;'\n",
    "            else:\n",
    "                css = f'background-color: {html_util.rgb_to_color(*_rgbs[pos])}; font-size: {max_font_size}pt;'\n",
    "            color_html += html_util.style(f' {tok} ', css=css)\n",
    "        display(HTML(color_html))\n",
    "        if save_to_html: html_doc += color_html + '<br>'\n",
    "    \n",
    "    # vis knns\n",
    "    if vis_masked_KNNs or vis_corpus_KNNs or vis_custom_contexts:\n",
    "        # Show the doc\n",
    "        display(HTML(selected_tok_html))\n",
    "        if save_to_html: html_doc += selected_tok_html + '<br>'\n",
    "        \n",
    "        if together:\n",
    "            neighbors = []\n",
    "            if vis_masked_KNNs:\n",
    "                neighbors.extend([(context, dist, 'masked') for context, dist in masked_neighbors[layer]])\n",
    "            if vis_corpus_KNNs:\n",
    "                neighbors.extend([(context, dist, 'corpus') for context_id, context, dist in corpus_neighbors[layer]])\n",
    "            if vis_custom_contexts:\n",
    "                neighbors.extend([(context, dist, 'custom') for context, dist in custom_neighbors[layer]])\n",
    "            neighbors.sort(key=lambda t: t[1])  # sort all by dist\n",
    "            \n",
    "            for neigh_context, neigh_dist, neigh_source in neighbors[:n_neighbors_to_vis]:\n",
    "                html = f'({200*neigh_dist:.3f}) '\n",
    "                if neigh_source == 'masked':\n",
    "                    html += context_html(*neigh_context, masker=masker, token_styler=token_styler)\n",
    "                elif neigh_source == 'corpus':\n",
    "                    marker = bluer if not neigh_context in corpus_neighs_so_far else greyer\n",
    "                    html += context_html(*neigh_context, marker=marker, masker=masker, token_styler=token_styler)\n",
    "                    corpus_neighs_so_far.append(neigh_context)\n",
    "                elif neigh_source == 'custom':\n",
    "                    html += context_html(*neigh_context, marker=greener, masker=masker, token_styler=token_styler)\n",
    "                display(HTML(html))\n",
    "                if save_to_html: html_doc += html + '<br>'\n",
    "        else:\n",
    "            if vis_masked_KNNs:\n",
    "                _masked_neighbors = masked_neighbors[layer]\n",
    "                if pruning:\n",
    "                    for mask_len_to_search in range(len(doc)-2):\n",
    "                        for neigh_context, neigh_dist in _masked_neighbors:\n",
    "                            neigh_toks, neigh_pos = neigh_context\n",
    "                            mask_len = len([tok for tok in neigh_toks if tok == '[MASK]'])\n",
    "                            if mask_len == mask_len_to_search:\n",
    "                                html = token_styler(f'({200*neigh_dist:.3f}) ') +  context_html(*neigh_context, token_styler=token_styler)\n",
    "                                display(HTML(html))\n",
    "                                if save_to_html: html_doc += html + '<br>'\n",
    "                                break\n",
    "                else:\n",
    "                    for neigh_context, neigh_dist in _masked_neighbors[:n_neighbors_to_vis]:\n",
    "                        html = token_styler(f'({200*neigh_dist:.3f}) ') + context_html(*neigh_context, token_styler=lambda t: token_styler(fix_size(t)))\n",
    "                        display(HTML(html))\n",
    "                        if save_to_html: html_doc += html + '<br>'\n",
    "            if vis_corpus_KNNs:\n",
    "                _corpus_neighs = corpus_neighbors[layer][:n_neighbors_to_vis]\n",
    "                for neigh_id, neigh_context, neigh_dist in _corpus_neighs:\n",
    "                    marker = bluer if not neigh_context in corpus_neighs_so_far else greyer\n",
    "                    html = token_styler(f'({200*neigh_dist:.3f})') + context_html(*neigh_context, marker=marker, token_styler=token_styler)\n",
    "                    display(HTML(html))\n",
    "                    if save_to_html: html_doc += html + '<br>'\n",
    "                    corpus_neighs_so_far.append(neigh_context)\n",
    "            if vis_custom_contexts:\n",
    "                _custom_neighbors = custom_neighbors[layer]\n",
    "                for context, dist in _custom_neighbors:\n",
    "                    marker = greener\n",
    "                    html = token_styler(f'({200*dist:.3f})') + context_html(*context, marker=marker, token_styler=token_styler)\n",
    "                    display(HTML(html))\n",
    "                    if save_to_html: html_doc += html + '<br>'\n",
    "    print('.')\n",
    "    print('.')\n",
    "    print('.')\n",
    "\n",
    "if save_to_html: open(html_path, 'w').write(html_doc)"
   ]
  },
  {
   "cell_type": "code",
   "execution_count": null,
   "metadata": {},
   "outputs": [],
   "source": []
  }
 ],
 "metadata": {
  "kernelspec": {
   "display_name": "Python 3",
   "language": "python",
   "name": "python3"
  },
  "language_info": {
   "codemirror_mode": {
    "name": "ipython",
    "version": 3
   },
   "file_extension": ".py",
   "mimetype": "text/x-python",
   "name": "python",
   "nbconvert_exporter": "python",
   "pygments_lexer": "ipython3",
   "version": "3.7.11"
  }
 },
 "nbformat": 4,
 "nbformat_minor": 4
}
