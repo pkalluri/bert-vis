{
 "cells": [
  {
   "cell_type": "markdown",
   "metadata": {},
   "source": [
    "# Understand a context through its clusters, its neighbors, and custom possible neighbors\n",
    "Examine, at each layer, the given context's KNNs - both KNNs in the corpus and the KNNs out of its own masked variants - as well as any custom contexts you're curious about."
   ]
  },
  {
   "cell_type": "markdown",
   "metadata": {
    "tags": []
   },
   "source": [
    "## Imports"
   ]
  },
  {
   "cell_type": "code",
   "execution_count": 1,
   "metadata": {},
   "outputs": [],
   "source": [
    "%load_ext autoreload\n",
    "%autoreload 2\n",
    "\n",
    "import pickle\n",
    "import numpy as np\n",
    "# from sklearn.neighbors import NearestNeighbors  # for now, switching to FasterNearestNeighbors\n",
    "from IPython.core.display import display, HTML\n",
    "import time\n",
    "\n",
    "import os\n",
    "import sys\n",
    "sys.path.insert(0, os.path.abspath('../..'))\n",
    "from utils.acts_util import spherize, fit_components, reduce_acts\n",
    "from utils.bert_util import get_masked_variants\n",
    "from utils.context_util import context_html, context_str\n",
    "from utils.html_util import highlighter, fix_size, font_size, style\n",
    "from utils import vis_util, html_util\n",
    "from utils import references as refs\n",
    "from utils.SimpleBert import SimpleBert\n",
    "from utils.FastNearestNeighbors import FastNearestNeighbors"
   ]
  },
  {
   "cell_type": "code",
   "execution_count": 2,
   "metadata": {},
   "outputs": [
    {
     "name": "stderr",
     "output_type": "stream",
     "text": [
      "Some weights of the model checkpoint at bert-base-cased were not used when initializing BertModel: ['cls.seq_relationship.bias', 'cls.seq_relationship.weight', 'cls.predictions.transform.dense.bias', 'cls.predictions.transform.LayerNorm.weight', 'cls.predictions.bias', 'cls.predictions.transform.LayerNorm.bias', 'cls.predictions.transform.dense.weight', 'cls.predictions.decoder.weight']\n",
      "- This IS expected if you are initializing BertModel from the checkpoint of a model trained on another task or with another architecture (e.g. initializing a BertForSequenceClassification model from a BertForPreTraining model).\n",
      "- This IS NOT expected if you are initializing BertModel from the checkpoint of a model that you expect to be exactly identical (initializing a BertForSequenceClassification model from a BertForSequenceClassification model).\n"
     ]
    }
   ],
   "source": [
    "bert = SimpleBert()"
   ]
  },
  {
   "cell_type": "markdown",
   "metadata": {
    "tags": []
   },
   "source": [
    "## Parameters"
   ]
  },
  {
   "cell_type": "code",
   "execution_count": 3,
   "metadata": {},
   "outputs": [],
   "source": [
    "sphere = True  # Spherize the activations? This is equivalent to switching from standard Euclidean distance to cosine distance.\n",
    "n_layers = 13  # Only visualizes n layers, selected evenly from the available layers. \n",
    "              # E.g. if n_layers=5 and 12 layers are avaiilable, will visualize layers 0,3,6,9,1 (n_layers = 2 is good for debugging)\n",
    "vis_color = False \n",
    "reduction, dim = 'NMF', 3  # Reduction with which to color the doc\n",
    "vis_size = False  # If visualizing color, can also visualize size\n",
    "\n",
    "vis_masked_KNNs = False\n",
    "pruning = True  \n",
    "# pruning is only checked if visualizing masked KNNs.     \n",
    "# if pruning is true, in the masked neighbors vis, first the closest 1-token-long mask is presented, \n",
    "# then jumps to the closest 2-token-long mask, etc - forming a kind of slow pruning to capture the essence of the context.\n",
    "vis_corpus_KNNs = True\n",
    "corpus_dir = '/atlas/u/pkalluri/bert-vis/big-data/wiki-large'  # only checked if visualizing corpus KNNs\n",
    "vis_custom_contexts = True\n",
    "together = True  # Instead of visualizing all masked KNNs, then all corpus KNNs, etc, do you want to visit them all together, sorted by distance?\n",
    "save_to_html = False\n",
    "html_path = '../../../building-blocks.html'  # only checked if saving to html\n",
    "\n",
    "doc_txt = \"Later that day, it caught her eye.\"\n",
    "selected_tok = 'caught'"
   ]
  },
  {
   "cell_type": "markdown",
   "metadata": {
    "tags": []
   },
   "source": [
    "## Get tokens and activations"
   ]
  },
  {
   "cell_type": "code",
   "execution_count": 4,
   "metadata": {},
   "outputs": [
    {
     "name": "stdout",
     "output_type": "stream",
     "text": [
      "\n",
      "Document:\n",
      "[CLS] Later that day , it caught her eye . [SEP]\n",
      "\n",
      "Layers: arr_0, arr_1, arr_2, arr_3, arr_4, arr_5, arr_6, arr_7, arr_8, arr_9, arr_10, arr_11, arr_12\n"
     ]
    }
   ],
   "source": [
    "doc, doc_acts = bert.get_toks_and_acts(doc_txt)\n",
    "layers = list(doc_acts)\n",
    "n = int((len(layers)-1)/(n_layers-1)) # will visualize every nth layer\n",
    "layers = layers[::n]\n",
    "if sphere: doc_acts = {layer: spherize(doc_acts[layer]) for layer in layers}\n",
    "\n",
    "print('\\nDocument:')\n",
    "print(' '.join(doc))\n",
    "print(f'\\nLayers: {\", \".join(layers)}')"
   ]
  },
  {
   "cell_type": "markdown",
   "metadata": {
    "tags": []
   },
   "source": [
    "## Reduce sample"
   ]
  },
  {
   "cell_type": "code",
   "execution_count": 5,
   "metadata": {},
   "outputs": [],
   "source": [
    "if vis_color:\n",
    "    doc_components = {}\n",
    "    doc_reduced_acts = {}\n",
    "    for layer in layers:\n",
    "        _components, _reduced_acts = fit_components(doc_acts[layer], reduction, dim)\n",
    "        doc_components[layer] = _components\n",
    "        doc_reduced_acts[layer] = _reduced_acts\n",
    "    if vis_size:\n",
    "        doc_acts_sizes = {layer: np.linalg.norm(doc_acts[layer], axis=1) for layer in layers}"
   ]
  },
  {
   "cell_type": "markdown",
   "metadata": {
    "tags": []
   },
   "source": [
    "## Get neighbors"
   ]
  },
  {
   "cell_type": "code",
   "execution_count": 6,
   "metadata": {},
   "outputs": [],
   "source": [
    "selected_tok_idx = doc.index(selected_tok)"
   ]
  },
  {
   "cell_type": "markdown",
   "metadata": {
    "tags": []
   },
   "source": [
    "### Get corpus neighbors"
   ]
  },
  {
   "cell_type": "code",
   "execution_count": 7,
   "metadata": {},
   "outputs": [
    {
     "name": "stdout",
     "output_type": "stream",
     "text": [
      "Layer arr_0\n",
      "Fitting nearest neighbors model.\n",
      "Finding neighbors.\n",
      "Layer arr_1\n",
      "Fitting nearest neighbors model.\n",
      "Finding neighbors.\n",
      "Layer arr_2\n",
      "Fitting nearest neighbors model.\n",
      "Finding neighbors.\n",
      "Layer arr_3\n",
      "Fitting nearest neighbors model.\n",
      "Finding neighbors.\n",
      "Layer arr_4\n",
      "Fitting nearest neighbors model.\n",
      "Finding neighbors.\n",
      "Layer arr_5\n",
      "Fitting nearest neighbors model.\n",
      "Finding neighbors.\n",
      "Layer arr_6\n",
      "Fitting nearest neighbors model.\n",
      "Finding neighbors.\n",
      "Layer arr_7\n",
      "Fitting nearest neighbors model.\n",
      "Finding neighbors.\n",
      "Layer arr_8\n",
      "Fitting nearest neighbors model.\n",
      "Finding neighbors.\n",
      "Layer arr_9\n",
      "Fitting nearest neighbors model.\n",
      "Finding neighbors.\n",
      "Layer arr_10\n",
      "Fitting nearest neighbors model.\n",
      "Finding neighbors.\n",
      "Layer arr_11\n",
      "Fitting nearest neighbors model.\n",
      "Finding neighbors.\n",
      "Layer arr_12\n",
      "Fitting nearest neighbors model.\n",
      "Finding neighbors.\n"
     ]
    }
   ],
   "source": [
    "if vis_corpus_KNNs:\n",
    "    # io\n",
    "    corpus_dir = os.path.abspath(corpus_dir)\n",
    "    corpus_contexts = pickle.load(open(os.path.join(corpus_dir, refs.contexts_fn),'rb'))\n",
    "    corpus_acts = np.load(os.path.join(corpus_dir, refs.acts_fn))\n",
    "    n_neighbors = 20\n",
    "\n",
    "    # get KNNs\n",
    "    corpus_neighbors = {}\n",
    "    for layer in layers:\n",
    "        print(f'Layer {layer}')\n",
    "        _acts = spherize(corpus_acts[layer]) if sphere else corpus_acts[layer]\n",
    "        print('Fitting nearest neighbors model.')\n",
    "        knn_model = FastNearestNeighbors().fit(_acts)\n",
    "        del _acts\n",
    "        print('Finding neighbors.')\n",
    "        _doc_acts = doc_acts[layer]\n",
    "        neighs_dists, neighs_ids = knn_model.kneighbors([_doc_acts[selected_tok_idx]], n_neighbors=n_neighbors, return_distance=True)\n",
    "        del knn_model\n",
    "        neighs = [(neigh_id, corpus_contexts[neigh_id], neigh_dist) for neigh_id, neigh_dist in zip(neighs_ids[0], neighs_dists[0])]  # a neighbor is an id, the corresponding context, and the distance away\n",
    "        corpus_neighbors[layer] = neighs"
   ]
  },
  {
   "cell_type": "markdown",
   "metadata": {
    "tags": []
   },
   "source": [
    "### Get masked neighbors"
   ]
  },
  {
   "cell_type": "code",
   "execution_count": 8,
   "metadata": {},
   "outputs": [],
   "source": [
    "if vis_masked_KNNs:\n",
    "    mask_lengths = range(max(len(doc)-3, 1),len(doc)-2)  # a parameter used for what mask_lengths to consider. currently hard-coded.\n",
    "    print('Getting variants.')\n",
    "    variants = get_masked_variants(doc, mask_lengths)\n",
    "    print('Getting activations.')\n",
    "    variants_contexts, variants_acts = bert.get_contexts_and_acts(variants, tokenized=True)\n",
    "    n_neighbors = 50\n",
    "\n",
    "    masked_neighbors = {}\n",
    "    for layer in layers:\n",
    "        print(f'Layer {layer}')\n",
    "        _acts = spherize(variants_acts[layer]) if sphere else variants_acts[layer]\n",
    "        print('Fitting nearest neighbors model.')\n",
    "        knn_model = FastNearestNeighbors().fit(_acts)\n",
    "        del _acts\n",
    "        print('Finding neighbors')\n",
    "        _doc_acts = doc_acts[layer]\n",
    "        neighs_dists, neighs_ids = knn_model.kneighbors([_doc_acts[selected_tok_idx]], n_neighbors=n_neighbors, return_distance=True)\n",
    "        neighs = [(variants_contexts[neigh_id], neigh_dist) for neigh_id, neigh_dist in zip(neighs_ids[0], neighs_dists[0])]  # a neighbor is a context, and the distance away\n",
    "        masked_neighbors[layer] = neighs\n",
    "        del knn_model"
   ]
  },
  {
   "cell_type": "markdown",
   "metadata": {
    "tags": []
   },
   "source": [
    "### Check similarity of custom sentences"
   ]
  },
  {
   "cell_type": "code",
   "execution_count": 9,
   "metadata": {},
   "outputs": [],
   "source": [
    "if vis_custom_contexts:\n",
    "    custom_contexts_unprocessed = [\n",
    "#         ('A young Muslim woman created the artwork.', '[CLS]'),\n",
    "#         ('A young Christian woman created the artwork.', '[CLS]'),\n",
    "#         ('A young Muslim woman created the violence.', '[CLS]'),\n",
    "#         ('A young Christian woman created the violence.', '[CLS]'),\n",
    "#         ('A young Muslim woman created the object.', '[CLS]'),\n",
    "#         ('A young Christian woman created the object.', '[CLS]'),\n",
    "#         ('A Chinese woman walked in.', 'Chinese'),\n",
    "#         ('A Chinese woman walked in.', 'woman'),\n",
    "#         ('A Chinese man walked in.', '[CLS]'),\n",
    "#         ('A Chinese woman walked in.', '[CLS]'),\n",
    "#         ('A Indian man walked in.', '[CLS]'),\n",
    "#         ('A Indian woman walked in.', '[CLS]'),\n",
    "        ('It caught it.', 'caught'),\n",
    "        ('It caught her eye.', 'caught'),\n",
    "        ('The rabbit caught the fox\\'s eye.', 'caught'),\n",
    "        ('The rabbit caught the fox\\'s attention.', 'caught'),\n",
    "        ('0 1 2 3 4 caught 6 7 8.', 'caught'),\n",
    "        ('It [MASK] it.', '[MASK]'),\n",
    "        ('It [MASK] her eye.', '[MASK]'),\n",
    "        ('The rabbit [MASK] the fox\\'s eye.', '[MASK]'),\n",
    "        ('The rabbit [MASK] the fox\\'s attention.', '[MASK]'),\n",
    "        ('0 1 2 3 4 [MASK] 6 7 8.', '[MASK]'),\n",
    "        ('The rabbit caught the carrot.', 'caught')\n",
    "                                  ]\n",
    "    custom_neighbors = {layer: [] for layer in layers}\n",
    "    for custom_txt, custom_tok in custom_contexts_unprocessed:\n",
    "        custom_doc, custom_doc_acts = bert.get_toks_and_acts(custom_txt)\n",
    "        custom_pos = custom_doc.index(custom_tok)\n",
    "        custom_context = (custom_doc, custom_pos)\n",
    "        for layer in layers:\n",
    "            _act = doc_acts[layer][selected_tok_idx]\n",
    "            _custom_act = custom_doc_acts[layer][custom_pos]\n",
    "            if sphere: \n",
    "                _act = spherize([_act])[0]\n",
    "                _custom_act = spherize([_custom_act])[0]\n",
    "            dist = np.linalg.norm(_custom_act - _act)\n",
    "            custom_neighbors[layer].append((custom_context, dist))\n",
    "    "
   ]
  },
  {
   "cell_type": "markdown",
   "metadata": {
    "tags": []
   },
   "source": [
    "## Vis"
   ]
  },
  {
   "cell_type": "code",
   "execution_count": 10,
   "metadata": {
    "tags": []
   },
   "outputs": [
    {
     "data": {
      "text/html": [
       "Layer arr_0"
      ],
      "text/plain": [
       "<IPython.core.display.HTML object>"
      ]
     },
     "metadata": {},
     "output_type": "display_data"
    },
    {
     "data": {
      "text/html": [
       " [CLS] Later that day , it<span style=\"background-color: lightpink;\"> caught</span> her eye . [SEP]"
      ],
      "text/plain": [
       "<IPython.core.display.HTML object>"
      ]
     },
     "metadata": {},
     "output_type": "display_data"
    },
    {
     "data": {
      "text/html": [
       "(0.000)  [CLS] 0 1 2 3 4<span style=\"background-color: limegreen;\"> caught</span> 6 7 8 . [SEP]"
      ],
      "text/plain": [
       "<IPython.core.display.HTML object>"
      ]
     },
     "metadata": {},
     "output_type": "display_data"
    },
    {
     "data": {
      "text/html": [
       "(0.054)  [CLS] They would have been<span style=\"background-color: lightblue;\"> caught</span> in a cross/fire between the fort and the block/house . [SEP]"
      ],
      "text/plain": [
       "<IPython.core.display.HTML object>"
      ]
     },
     "metadata": {},
     "output_type": "display_data"
    },
    {
     "data": {
      "text/html": [
       "(0.069)  [CLS] It was the latter of these that<span style=\"background-color: lightblue;\"> caught</span> the eye of McDonald herself . [SEP]"
      ],
      "text/plain": [
       "<IPython.core.display.HTML object>"
      ]
     },
     "metadata": {},
     "output_type": "display_data"
    },
    {
     "data": {
      "text/html": [
       "(0.069)  [CLS] Cats/har/ks in this species are occasionally<span style=\"background-color: lightblue;\"> caught</span> by dem/ers/al fisheries . [SEP]"
      ],
      "text/plain": [
       "<IPython.core.display.HTML object>"
      ]
     },
     "metadata": {},
     "output_type": "display_data"
    },
    {
     "data": {
      "text/html": [
       "(0.074)  [CLS] The Germans were<span style=\"background-color: lightblue;\"> caught</span> entirely by surprise and the \" T/ir/pit/z \" s smoke/screen was only just beginning to form . [SEP]"
      ],
      "text/plain": [
       "<IPython.core.display.HTML object>"
      ]
     },
     "metadata": {},
     "output_type": "display_data"
    },
    {
     "data": {
      "text/html": [
       "(0.075)  [CLS] He<span style=\"background-color: lightblue;\"> caught</span> his first pass against Nebraska for 4 yards . [SEP]"
      ],
      "text/plain": [
       "<IPython.core.display.HTML object>"
      ]
     },
     "metadata": {},
     "output_type": "display_data"
    },
    {
     "data": {
      "text/html": [
       "(0.099)  [CLS] The band recorded with British producer Tristan Long/worth who<span style=\"background-color: lightblue;\"> caught</span> their attention with his work for Jon Allen . [SEP]"
      ],
      "text/plain": [
       "<IPython.core.display.HTML object>"
      ]
     },
     "metadata": {},
     "output_type": "display_data"
    },
    {
     "data": {
      "text/html": [
       "(0.140)  [CLS] When other For/nos customers asked for \" one like P/ep/ito ' s \" , the name<span style=\"background-color: lightblue;\"> caught</span> . [SEP]"
      ],
      "text/plain": [
       "<IPython.core.display.HTML object>"
      ]
     },
     "metadata": {},
     "output_type": "display_data"
    },
    {
     "data": {
      "text/html": [
       "(0.152)  [CLS] The q/ua/ke occurred at about noon local time Friday , so residents were awake and not<span style=\"background-color: lightblue;\"> caught</span> in their beds . [SEP]"
      ],
      "text/plain": [
       "<IPython.core.display.HTML object>"
      ]
     },
     "metadata": {},
     "output_type": "display_data"
    },
    {
     "data": {
      "text/html": [
       "(0.165)  [CLS] Franz had shot down two B - 17/s earlier that day and he soon<span style=\"background-color: lightblue;\"> caught</span> up to a wounded B - 17 flown by Charles Brown . [SEP]"
      ],
      "text/plain": [
       "<IPython.core.display.HTML object>"
      ]
     },
     "metadata": {},
     "output_type": "display_data"
    },
    {
     "data": {
      "text/html": [
       "(0.274)  [CLS] It<span style=\"background-color: limegreen;\"> caught</span> it . [SEP]"
      ],
      "text/plain": [
       "<IPython.core.display.HTML object>"
      ]
     },
     "metadata": {},
     "output_type": "display_data"
    },
    {
     "data": {
      "text/html": [
       "(0.274)  [CLS] It<span style=\"background-color: limegreen;\"> caught</span> her eye . [SEP]"
      ],
      "text/plain": [
       "<IPython.core.display.HTML object>"
      ]
     },
     "metadata": {},
     "output_type": "display_data"
    },
    {
     "data": {
      "text/html": [
       "(0.283)  [CLS] The rabbit<span style=\"background-color: limegreen;\"> caught</span> the fox ' s eye . [SEP]"
      ],
      "text/plain": [
       "<IPython.core.display.HTML object>"
      ]
     },
     "metadata": {},
     "output_type": "display_data"
    },
    {
     "data": {
      "text/html": [
       "(0.283)  [CLS] The rabbit<span style=\"background-color: limegreen;\"> caught</span> the fox ' s attention . [SEP]"
      ],
      "text/plain": [
       "<IPython.core.display.HTML object>"
      ]
     },
     "metadata": {},
     "output_type": "display_data"
    },
    {
     "data": {
      "text/html": [
       "(0.283)  [CLS] The rabbit<span style=\"background-color: limegreen;\"> caught</span> the car/rot . [SEP]"
      ],
      "text/plain": [
       "<IPython.core.display.HTML object>"
      ]
     },
     "metadata": {},
     "output_type": "display_data"
    },
    {
     "data": {
      "text/html": [
       "(0.647)  [CLS] on the river , or<span style=\"background-color: lightblue;\"> catch</span> smaller specimens – 50 – 100 kg . [SEP]"
      ],
      "text/plain": [
       "<IPython.core.display.HTML object>"
      ]
     },
     "metadata": {},
     "output_type": "display_data"
    },
    {
     "data": {
      "text/html": [
       "(0.654)  [CLS] Cruz put up 47<span style=\"background-color: lightblue;\"> catches</span> for 88/3 yards and eight touchdowns in his single season at B/rid/gt/on Academy . [SEP]"
      ],
      "text/plain": [
       "<IPython.core.display.HTML object>"
      ]
     },
     "metadata": {},
     "output_type": "display_data"
    },
    {
     "data": {
      "text/html": [
       "(0.665)  [CLS] The hero succeeds in<span style=\"background-color: lightblue;\"> catching</span> the o/tter , and brings it back to his home . [SEP]"
      ],
      "text/plain": [
       "<IPython.core.display.HTML object>"
      ]
     },
     "metadata": {},
     "output_type": "display_data"
    },
    {
     "data": {
      "text/html": [
       "(0.670)  [CLS] Batman<span style=\"background-color: lightblue;\"> catches</span> him off - guard and knocks him unconscious , thus saving Alfred ' s life and sending Z/sa/sz back to Ark/ham . [SEP]"
      ],
      "text/plain": [
       "<IPython.core.display.HTML object>"
      ]
     },
     "metadata": {},
     "output_type": "display_data"
    },
    {
     "data": {
      "text/html": [
       "(0.677)  [CLS] Bears are seen frequently at Brooks Falls ,<span style=\"background-color: lightblue;\"> catching</span> salmon there ; they are the main attraction to the lake and Brooks Falls and Camp . [SEP]"
      ],
      "text/plain": [
       "<IPython.core.display.HTML object>"
      ]
     },
     "metadata": {},
     "output_type": "display_data"
    },
    {
     "data": {
      "text/html": [
       "(0.700)  [CLS] Sc/yt/od/idae<span style=\"background-color: lightblue;\"> catch</span> their prey by spit/ting a fluid that con/ge/als on contact into a venom/ous and sticky mass . [SEP]"
      ],
      "text/plain": [
       "<IPython.core.display.HTML object>"
      ]
     },
     "metadata": {},
     "output_type": "display_data"
    },
    {
     "data": {
      "text/html": [
       "(0.700)  [CLS] The songs are very<span style=\"background-color: lightblue;\"> catch</span>/y with powerful lyrics and strong chorus/es . \" [SEP]"
      ],
      "text/plain": [
       "<IPython.core.display.HTML object>"
      ]
     },
     "metadata": {},
     "output_type": "display_data"
    },
    {
     "data": {
      "text/html": [
       "(0.727)  [CLS] R/ut/ledge , known more for his blocking than his pass<span style=\"background-color: lightblue;\"> catching</span> , was a key member of the 2001 Super Bowl winning Patriots . [SEP]"
      ],
      "text/plain": [
       "<IPython.core.display.HTML object>"
      ]
     },
     "metadata": {},
     "output_type": "display_data"
    },
    {
     "data": {
      "text/html": [
       "(0.739)  [CLS] He was a pupil of Hay/dn , and is celebrated mainly for his g/lee compositions and<span style=\"background-color: lightblue;\"> catches</span> . [SEP]"
      ],
      "text/plain": [
       "<IPython.core.display.HTML object>"
      ]
     },
     "metadata": {},
     "output_type": "display_data"
    },
    {
     "data": {
      "text/html": [
       "(0.751)  [CLS] The guide rope will be made of low friction materials to keep it from<span style=\"background-color: lightblue;\"> catching</span> or tan/gling on ground features . [SEP]"
      ],
      "text/plain": [
       "<IPython.core.display.HTML object>"
      ]
     },
     "metadata": {},
     "output_type": "display_data"
    },
    {
     "data": {
      "text/html": [
       "(0.768)  [CLS] He/ster returned to play in the Bears season finale against the Detroit Lions ,<span style=\"background-color: lightblue;\"> catching</span> three passes for 75 yards . [SEP]"
      ],
      "text/plain": [
       "<IPython.core.display.HTML object>"
      ]
     },
     "metadata": {},
     "output_type": "display_data"
    },
    {
     "data": {
      "text/html": [
       "(1.303)  [CLS] 0 1 2 3 4<span style=\"background-color: limegreen;\"> [MASK]</span> 6 7 8 . [SEP]"
      ],
      "text/plain": [
       "<IPython.core.display.HTML object>"
      ]
     },
     "metadata": {},
     "output_type": "display_data"
    },
    {
     "data": {
      "text/html": [
       "(1.338)  [CLS] It<span style=\"background-color: limegreen;\"> [MASK]</span> it . [SEP]"
      ],
      "text/plain": [
       "<IPython.core.display.HTML object>"
      ]
     },
     "metadata": {},
     "output_type": "display_data"
    },
    {
     "data": {
      "text/html": [
       "(1.338)  [CLS] It<span style=\"background-color: limegreen;\"> [MASK]</span> her eye . [SEP]"
      ],
      "text/plain": [
       "<IPython.core.display.HTML object>"
      ]
     },
     "metadata": {},
     "output_type": "display_data"
    },
    {
     "data": {
      "text/html": [
       "(1.348)  [CLS] The rabbit<span style=\"background-color: limegreen;\"> [MASK]</span> the fox ' s eye . [SEP]"
      ],
      "text/plain": [
       "<IPython.core.display.HTML object>"
      ]
     },
     "metadata": {},
     "output_type": "display_data"
    },
    {
     "data": {
      "text/html": [
       "(1.348)  [CLS] The rabbit<span style=\"background-color: limegreen;\"> [MASK]</span> the fox ' s attention . [SEP]"
      ],
      "text/plain": [
       "<IPython.core.display.HTML object>"
      ]
     },
     "metadata": {},
     "output_type": "display_data"
    },
    {
     "name": "stdout",
     "output_type": "stream",
     "text": [
      ".\n",
      ".\n",
      ".\n"
     ]
    },
    {
     "data": {
      "text/html": [
       "Layer arr_1"
      ],
      "text/plain": [
       "<IPython.core.display.HTML object>"
      ]
     },
     "metadata": {},
     "output_type": "display_data"
    },
    {
     "data": {
      "text/html": [
       " [CLS] Later that day , it<span style=\"background-color: lightpink;\"> caught</span> her eye . [SEP]"
      ],
      "text/plain": [
       "<IPython.core.display.HTML object>"
      ]
     },
     "metadata": {},
     "output_type": "display_data"
    },
    {
     "data": {
      "text/html": [
       "(0.076)  [CLS] It was the latter of these that<span style=\"background-color: grey;\"> caught</span> the eye of McDonald herself . [SEP]"
      ],
      "text/plain": [
       "<IPython.core.display.HTML object>"
      ]
     },
     "metadata": {},
     "output_type": "display_data"
    },
    {
     "data": {
      "text/html": [
       "(0.171)  [CLS] The Germans were<span style=\"background-color: grey;\"> caught</span> entirely by surprise and the \" T/ir/pit/z \" s smoke/screen was only just beginning to form . [SEP]"
      ],
      "text/plain": [
       "<IPython.core.display.HTML object>"
      ]
     },
     "metadata": {},
     "output_type": "display_data"
    },
    {
     "data": {
      "text/html": [
       "(0.178)  [CLS] They would have been<span style=\"background-color: grey;\"> caught</span> in a cross/fire between the fort and the block/house . [SEP]"
      ],
      "text/plain": [
       "<IPython.core.display.HTML object>"
      ]
     },
     "metadata": {},
     "output_type": "display_data"
    },
    {
     "data": {
      "text/html": [
       "(0.185)  [CLS] The band recorded with British producer Tristan Long/worth who<span style=\"background-color: grey;\"> caught</span> their attention with his work for Jon Allen . [SEP]"
      ],
      "text/plain": [
       "<IPython.core.display.HTML object>"
      ]
     },
     "metadata": {},
     "output_type": "display_data"
    },
    {
     "data": {
      "text/html": [
       "(0.196)  [CLS] He<span style=\"background-color: grey;\"> caught</span> his first pass against Nebraska for 4 yards . [SEP]"
      ],
      "text/plain": [
       "<IPython.core.display.HTML object>"
      ]
     },
     "metadata": {},
     "output_type": "display_data"
    },
    {
     "data": {
      "text/html": [
       "(0.222)  [CLS] When other For/nos customers asked for \" one like P/ep/ito ' s \" , the name<span style=\"background-color: grey;\"> caught</span> . [SEP]"
      ],
      "text/plain": [
       "<IPython.core.display.HTML object>"
      ]
     },
     "metadata": {},
     "output_type": "display_data"
    },
    {
     "data": {
      "text/html": [
       "(0.227)  [CLS] The q/ua/ke occurred at about noon local time Friday , so residents were awake and not<span style=\"background-color: grey;\"> caught</span> in their beds . [SEP]"
      ],
      "text/plain": [
       "<IPython.core.display.HTML object>"
      ]
     },
     "metadata": {},
     "output_type": "display_data"
    },
    {
     "data": {
      "text/html": [
       "(0.238)  [CLS] Franz had shot down two B - 17/s earlier that day and he soon<span style=\"background-color: grey;\"> caught</span> up to a wounded B - 17 flown by Charles Brown . [SEP]"
      ],
      "text/plain": [
       "<IPython.core.display.HTML object>"
      ]
     },
     "metadata": {},
     "output_type": "display_data"
    },
    {
     "data": {
      "text/html": [
       "(0.258)  [CLS] Cats/har/ks in this species are occasionally<span style=\"background-color: grey;\"> caught</span> by dem/ers/al fisheries . [SEP]"
      ],
      "text/plain": [
       "<IPython.core.display.HTML object>"
      ]
     },
     "metadata": {},
     "output_type": "display_data"
    },
    {
     "data": {
      "text/html": [
       "(0.291)  [CLS] It<span style=\"background-color: limegreen;\"> caught</span> her eye . [SEP]"
      ],
      "text/plain": [
       "<IPython.core.display.HTML object>"
      ]
     },
     "metadata": {},
     "output_type": "display_data"
    },
    {
     "data": {
      "text/html": [
       "(0.345)  [CLS] The rabbit<span style=\"background-color: limegreen;\"> caught</span> the fox ' s eye . [SEP]"
      ],
      "text/plain": [
       "<IPython.core.display.HTML object>"
      ]
     },
     "metadata": {},
     "output_type": "display_data"
    },
    {
     "data": {
      "text/html": [
       "(0.364)  [CLS] The rabbit<span style=\"background-color: limegreen;\"> caught</span> the fox ' s attention . [SEP]"
      ],
      "text/plain": [
       "<IPython.core.display.HTML object>"
      ]
     },
     "metadata": {},
     "output_type": "display_data"
    },
    {
     "data": {
      "text/html": [
       "(0.406)  [CLS] It<span style=\"background-color: limegreen;\"> caught</span> it . [SEP]"
      ],
      "text/plain": [
       "<IPython.core.display.HTML object>"
      ]
     },
     "metadata": {},
     "output_type": "display_data"
    },
    {
     "data": {
      "text/html": [
       "(0.412)  [CLS] The rabbit<span style=\"background-color: limegreen;\"> caught</span> the car/rot . [SEP]"
      ],
      "text/plain": [
       "<IPython.core.display.HTML object>"
      ]
     },
     "metadata": {},
     "output_type": "display_data"
    },
    {
     "data": {
      "text/html": [
       "(0.548)  [CLS] The hero succeeds in<span style=\"background-color: grey;\"> catching</span> the o/tter , and brings it back to his home . [SEP]"
      ],
      "text/plain": [
       "<IPython.core.display.HTML object>"
      ]
     },
     "metadata": {},
     "output_type": "display_data"
    },
    {
     "data": {
      "text/html": [
       "(0.562)  [CLS] Batman<span style=\"background-color: grey;\"> catches</span> him off - guard and knocks him unconscious , thus saving Alfred ' s life and sending Z/sa/sz back to Ark/ham . [SEP]"
      ],
      "text/plain": [
       "<IPython.core.display.HTML object>"
      ]
     },
     "metadata": {},
     "output_type": "display_data"
    },
    {
     "data": {
      "text/html": [
       "(0.575)  [CLS] 0 1 2 3 4<span style=\"background-color: limegreen;\"> caught</span> 6 7 8 . [SEP]"
      ],
      "text/plain": [
       "<IPython.core.display.HTML object>"
      ]
     },
     "metadata": {},
     "output_type": "display_data"
    },
    {
     "data": {
      "text/html": [
       "(0.593)  [CLS] Sc/yt/od/idae<span style=\"background-color: grey;\"> catch</span> their prey by spit/ting a fluid that con/ge/als on contact into a venom/ous and sticky mass . [SEP]"
      ],
      "text/plain": [
       "<IPython.core.display.HTML object>"
      ]
     },
     "metadata": {},
     "output_type": "display_data"
    },
    {
     "data": {
      "text/html": [
       "(0.631)  [CLS] The songs are very<span style=\"background-color: grey;\"> catch</span>/y with powerful lyrics and strong chorus/es . \" [SEP]"
      ],
      "text/plain": [
       "<IPython.core.display.HTML object>"
      ]
     },
     "metadata": {},
     "output_type": "display_data"
    },
    {
     "data": {
      "text/html": [
       "(0.635)  [CLS] Bears are seen frequently at Brooks Falls ,<span style=\"background-color: grey;\"> catching</span> salmon there ; they are the main attraction to the lake and Brooks Falls and Camp . [SEP]"
      ],
      "text/plain": [
       "<IPython.core.display.HTML object>"
      ]
     },
     "metadata": {},
     "output_type": "display_data"
    },
    {
     "data": {
      "text/html": [
       "(0.649)  [CLS] Meanwhile , Allison doesn ' t realize that the serial killer she is trying to<span style=\"background-color: lightblue;\"> catch</span> has another help/er and he gets out of jail . [SEP]"
      ],
      "text/plain": [
       "<IPython.core.display.HTML object>"
      ]
     },
     "metadata": {},
     "output_type": "display_data"
    },
    {
     "data": {
      "text/html": [
       "(0.649)  [CLS] He was a pupil of Hay/dn , and is celebrated mainly for his g/lee compositions and<span style=\"background-color: grey;\"> catches</span> . [SEP]"
      ],
      "text/plain": [
       "<IPython.core.display.HTML object>"
      ]
     },
     "metadata": {},
     "output_type": "display_data"
    },
    {
     "data": {
      "text/html": [
       "(0.652)  [CLS] on the river , or<span style=\"background-color: grey;\"> catch</span> smaller specimens – 50 – 100 kg . [SEP]"
      ],
      "text/plain": [
       "<IPython.core.display.HTML object>"
      ]
     },
     "metadata": {},
     "output_type": "display_data"
    },
    {
     "data": {
      "text/html": [
       "(0.661)  [CLS] Cruz put up 47<span style=\"background-color: grey;\"> catches</span> for 88/3 yards and eight touchdowns in his single season at B/rid/gt/on Academy . [SEP]"
      ],
      "text/plain": [
       "<IPython.core.display.HTML object>"
      ]
     },
     "metadata": {},
     "output_type": "display_data"
    },
    {
     "data": {
      "text/html": [
       "(0.663)  [CLS] R/ut/ledge , known more for his blocking than his pass<span style=\"background-color: grey;\"> catching</span> , was a key member of the 2001 Super Bowl winning Patriots . [SEP]"
      ],
      "text/plain": [
       "<IPython.core.display.HTML object>"
      ]
     },
     "metadata": {},
     "output_type": "display_data"
    },
    {
     "data": {
      "text/html": [
       "(0.668)  [CLS] The guide rope will be made of low friction materials to keep it from<span style=\"background-color: grey;\"> catching</span> or tan/gling on ground features . [SEP]"
      ],
      "text/plain": [
       "<IPython.core.display.HTML object>"
      ]
     },
     "metadata": {},
     "output_type": "display_data"
    },
    {
     "data": {
      "text/html": [
       "(1.225)  [CLS] 0 1 2 3 4<span style=\"background-color: limegreen;\"> [MASK]</span> 6 7 8 . [SEP]"
      ],
      "text/plain": [
       "<IPython.core.display.HTML object>"
      ]
     },
     "metadata": {},
     "output_type": "display_data"
    },
    {
     "data": {
      "text/html": [
       "(1.232)  [CLS] It<span style=\"background-color: limegreen;\"> [MASK]</span> her eye . [SEP]"
      ],
      "text/plain": [
       "<IPython.core.display.HTML object>"
      ]
     },
     "metadata": {},
     "output_type": "display_data"
    },
    {
     "data": {
      "text/html": [
       "(1.237)  [CLS] The rabbit<span style=\"background-color: limegreen;\"> [MASK]</span> the fox ' s attention . [SEP]"
      ],
      "text/plain": [
       "<IPython.core.display.HTML object>"
      ]
     },
     "metadata": {},
     "output_type": "display_data"
    },
    {
     "data": {
      "text/html": [
       "(1.237)  [CLS] The rabbit<span style=\"background-color: limegreen;\"> [MASK]</span> the fox ' s eye . [SEP]"
      ],
      "text/plain": [
       "<IPython.core.display.HTML object>"
      ]
     },
     "metadata": {},
     "output_type": "display_data"
    },
    {
     "data": {
      "text/html": [
       "(1.242)  [CLS] It<span style=\"background-color: limegreen;\"> [MASK]</span> it . [SEP]"
      ],
      "text/plain": [
       "<IPython.core.display.HTML object>"
      ]
     },
     "metadata": {},
     "output_type": "display_data"
    },
    {
     "name": "stdout",
     "output_type": "stream",
     "text": [
      ".\n",
      ".\n",
      ".\n"
     ]
    },
    {
     "data": {
      "text/html": [
       "Layer arr_2"
      ],
      "text/plain": [
       "<IPython.core.display.HTML object>"
      ]
     },
     "metadata": {},
     "output_type": "display_data"
    },
    {
     "data": {
      "text/html": [
       " [CLS] Later that day , it<span style=\"background-color: lightpink;\"> caught</span> her eye . [SEP]"
      ],
      "text/plain": [
       "<IPython.core.display.HTML object>"
      ]
     },
     "metadata": {},
     "output_type": "display_data"
    },
    {
     "data": {
      "text/html": [
       "(0.082)  [CLS] It was the latter of these that<span style=\"background-color: grey;\"> caught</span> the eye of McDonald herself . [SEP]"
      ],
      "text/plain": [
       "<IPython.core.display.HTML object>"
      ]
     },
     "metadata": {},
     "output_type": "display_data"
    },
    {
     "data": {
      "text/html": [
       "(0.295)  [CLS] The band recorded with British producer Tristan Long/worth who<span style=\"background-color: grey;\"> caught</span> their attention with his work for Jon Allen . [SEP]"
      ],
      "text/plain": [
       "<IPython.core.display.HTML object>"
      ]
     },
     "metadata": {},
     "output_type": "display_data"
    },
    {
     "data": {
      "text/html": [
       "(0.298)  [CLS] It<span style=\"background-color: limegreen;\"> caught</span> her eye . [SEP]"
      ],
      "text/plain": [
       "<IPython.core.display.HTML object>"
      ]
     },
     "metadata": {},
     "output_type": "display_data"
    },
    {
     "data": {
      "text/html": [
       "(0.326)  [CLS] The Germans were<span style=\"background-color: grey;\"> caught</span> entirely by surprise and the \" T/ir/pit/z \" s smoke/screen was only just beginning to form . [SEP]"
      ],
      "text/plain": [
       "<IPython.core.display.HTML object>"
      ]
     },
     "metadata": {},
     "output_type": "display_data"
    },
    {
     "data": {
      "text/html": [
       "(0.360)  [CLS] He<span style=\"background-color: grey;\"> caught</span> his first pass against Nebraska for 4 yards . [SEP]"
      ],
      "text/plain": [
       "<IPython.core.display.HTML object>"
      ]
     },
     "metadata": {},
     "output_type": "display_data"
    },
    {
     "data": {
      "text/html": [
       "(0.370)  [CLS] When other For/nos customers asked for \" one like P/ep/ito ' s \" , the name<span style=\"background-color: grey;\"> caught</span> . [SEP]"
      ],
      "text/plain": [
       "<IPython.core.display.HTML object>"
      ]
     },
     "metadata": {},
     "output_type": "display_data"
    },
    {
     "data": {
      "text/html": [
       "(0.371)  [CLS] The q/ua/ke occurred at about noon local time Friday , so residents were awake and not<span style=\"background-color: grey;\"> caught</span> in their beds . [SEP]"
      ],
      "text/plain": [
       "<IPython.core.display.HTML object>"
      ]
     },
     "metadata": {},
     "output_type": "display_data"
    },
    {
     "data": {
      "text/html": [
       "(0.384)  [CLS] They would have been<span style=\"background-color: grey;\"> caught</span> in a cross/fire between the fort and the block/house . [SEP]"
      ],
      "text/plain": [
       "<IPython.core.display.HTML object>"
      ]
     },
     "metadata": {},
     "output_type": "display_data"
    },
    {
     "data": {
      "text/html": [
       "(0.389)  [CLS] The rabbit<span style=\"background-color: limegreen;\"> caught</span> the fox ' s eye . [SEP]"
      ],
      "text/plain": [
       "<IPython.core.display.HTML object>"
      ]
     },
     "metadata": {},
     "output_type": "display_data"
    },
    {
     "data": {
      "text/html": [
       "(0.445)  [CLS] The rabbit<span style=\"background-color: limegreen;\"> caught</span> the fox ' s attention . [SEP]"
      ],
      "text/plain": [
       "<IPython.core.display.HTML object>"
      ]
     },
     "metadata": {},
     "output_type": "display_data"
    },
    {
     "data": {
      "text/html": [
       "(0.473)  [CLS] Franz had shot down two B - 17/s earlier that day and he soon<span style=\"background-color: grey;\"> caught</span> up to a wounded B - 17 flown by Charles Brown . [SEP]"
      ],
      "text/plain": [
       "<IPython.core.display.HTML object>"
      ]
     },
     "metadata": {},
     "output_type": "display_data"
    },
    {
     "data": {
      "text/html": [
       "(0.528)  [CLS] It<span style=\"background-color: limegreen;\"> caught</span> it . [SEP]"
      ],
      "text/plain": [
       "<IPython.core.display.HTML object>"
      ]
     },
     "metadata": {},
     "output_type": "display_data"
    },
    {
     "data": {
      "text/html": [
       "(0.530)  [CLS] The rabbit<span style=\"background-color: limegreen;\"> caught</span> the car/rot . [SEP]"
      ],
      "text/plain": [
       "<IPython.core.display.HTML object>"
      ]
     },
     "metadata": {},
     "output_type": "display_data"
    },
    {
     "data": {
      "text/html": [
       "(0.581)  [CLS] Cats/har/ks in this species are occasionally<span style=\"background-color: grey;\"> caught</span> by dem/ers/al fisheries . [SEP]"
      ],
      "text/plain": [
       "<IPython.core.display.HTML object>"
      ]
     },
     "metadata": {},
     "output_type": "display_data"
    },
    {
     "data": {
      "text/html": [
       "(0.591)  [CLS] Sc/yt/od/idae<span style=\"background-color: grey;\"> catch</span> their prey by spit/ting a fluid that con/ge/als on contact into a venom/ous and sticky mass . [SEP]"
      ],
      "text/plain": [
       "<IPython.core.display.HTML object>"
      ]
     },
     "metadata": {},
     "output_type": "display_data"
    },
    {
     "data": {
      "text/html": [
       "(0.598)  [CLS] The hero succeeds in<span style=\"background-color: grey;\"> catching</span> the o/tter , and brings it back to his home . [SEP]"
      ],
      "text/plain": [
       "<IPython.core.display.HTML object>"
      ]
     },
     "metadata": {},
     "output_type": "display_data"
    },
    {
     "data": {
      "text/html": [
       "(0.633)  [CLS] Batman<span style=\"background-color: grey;\"> catches</span> him off - guard and knocks him unconscious , thus saving Alfred ' s life and sending Z/sa/sz back to Ark/ham . [SEP]"
      ],
      "text/plain": [
       "<IPython.core.display.HTML object>"
      ]
     },
     "metadata": {},
     "output_type": "display_data"
    },
    {
     "data": {
      "text/html": [
       "(0.675)  [CLS] Meanwhile , Allison doesn ' t realize that the serial killer she is trying to<span style=\"background-color: grey;\"> catch</span> has another help/er and he gets out of jail . [SEP]"
      ],
      "text/plain": [
       "<IPython.core.display.HTML object>"
      ]
     },
     "metadata": {},
     "output_type": "display_data"
    },
    {
     "data": {
      "text/html": [
       "(0.741)  [CLS] Bears are seen frequently at Brooks Falls ,<span style=\"background-color: grey;\"> catching</span> salmon there ; they are the main attraction to the lake and Brooks Falls and Camp . [SEP]"
      ],
      "text/plain": [
       "<IPython.core.display.HTML object>"
      ]
     },
     "metadata": {},
     "output_type": "display_data"
    },
    {
     "data": {
      "text/html": [
       "(0.750)  [CLS] The guide rope will be made of low friction materials to keep it from<span style=\"background-color: grey;\"> catching</span> or tan/gling on ground features . [SEP]"
      ],
      "text/plain": [
       "<IPython.core.display.HTML object>"
      ]
     },
     "metadata": {},
     "output_type": "display_data"
    },
    {
     "data": {
      "text/html": [
       "(0.752)  [CLS] on the river , or<span style=\"background-color: grey;\"> catch</span> smaller specimens – 50 – 100 kg . [SEP]"
      ],
      "text/plain": [
       "<IPython.core.display.HTML object>"
      ]
     },
     "metadata": {},
     "output_type": "display_data"
    },
    {
     "data": {
      "text/html": [
       "(0.788)  [CLS] 0 1 2 3 4<span style=\"background-color: limegreen;\"> caught</span> 6 7 8 . [SEP]"
      ],
      "text/plain": [
       "<IPython.core.display.HTML object>"
      ]
     },
     "metadata": {},
     "output_type": "display_data"
    },
    {
     "data": {
      "text/html": [
       "(0.803)  [CLS] During the watch Gunner was not required to bat , but he did take a single<span style=\"background-color: lightblue;\"> catch</span> . [SEP]"
      ],
      "text/plain": [
       "<IPython.core.display.HTML object>"
      ]
     },
     "metadata": {},
     "output_type": "display_data"
    },
    {
     "data": {
      "text/html": [
       "(0.816)  [CLS] The songs are very<span style=\"background-color: grey;\"> catch</span>/y with powerful lyrics and strong chorus/es . \" [SEP]"
      ],
      "text/plain": [
       "<IPython.core.display.HTML object>"
      ]
     },
     "metadata": {},
     "output_type": "display_data"
    },
    {
     "data": {
      "text/html": [
       "(0.830)  [CLS] R/ut/ledge , known more for his blocking than his pass<span style=\"background-color: grey;\"> catching</span> , was a key member of the 2001 Super Bowl winning Patriots . [SEP]"
      ],
      "text/plain": [
       "<IPython.core.display.HTML object>"
      ]
     },
     "metadata": {},
     "output_type": "display_data"
    },
    {
     "data": {
      "text/html": [
       "(0.842)  [CLS] He was a pupil of Hay/dn , and is celebrated mainly for his g/lee compositions and<span style=\"background-color: grey;\"> catches</span> . [SEP]"
      ],
      "text/plain": [
       "<IPython.core.display.HTML object>"
      ]
     },
     "metadata": {},
     "output_type": "display_data"
    },
    {
     "data": {
      "text/html": [
       "(1.131)  [CLS] It<span style=\"background-color: limegreen;\"> [MASK]</span> her eye . [SEP]"
      ],
      "text/plain": [
       "<IPython.core.display.HTML object>"
      ]
     },
     "metadata": {},
     "output_type": "display_data"
    },
    {
     "data": {
      "text/html": [
       "(1.141)  [CLS] The rabbit<span style=\"background-color: limegreen;\"> [MASK]</span> the fox ' s attention . [SEP]"
      ],
      "text/plain": [
       "<IPython.core.display.HTML object>"
      ]
     },
     "metadata": {},
     "output_type": "display_data"
    },
    {
     "data": {
      "text/html": [
       "(1.142)  [CLS] The rabbit<span style=\"background-color: limegreen;\"> [MASK]</span> the fox ' s eye . [SEP]"
      ],
      "text/plain": [
       "<IPython.core.display.HTML object>"
      ]
     },
     "metadata": {},
     "output_type": "display_data"
    },
    {
     "data": {
      "text/html": [
       "(1.150)  [CLS] It<span style=\"background-color: limegreen;\"> [MASK]</span> it . [SEP]"
      ],
      "text/plain": [
       "<IPython.core.display.HTML object>"
      ]
     },
     "metadata": {},
     "output_type": "display_data"
    },
    {
     "data": {
      "text/html": [
       "(1.178)  [CLS] 0 1 2 3 4<span style=\"background-color: limegreen;\"> [MASK]</span> 6 7 8 . [SEP]"
      ],
      "text/plain": [
       "<IPython.core.display.HTML object>"
      ]
     },
     "metadata": {},
     "output_type": "display_data"
    },
    {
     "name": "stdout",
     "output_type": "stream",
     "text": [
      ".\n",
      ".\n",
      ".\n"
     ]
    },
    {
     "data": {
      "text/html": [
       "Layer arr_3"
      ],
      "text/plain": [
       "<IPython.core.display.HTML object>"
      ]
     },
     "metadata": {},
     "output_type": "display_data"
    },
    {
     "data": {
      "text/html": [
       " [CLS] Later that day , it<span style=\"background-color: lightpink;\"> caught</span> her eye . [SEP]"
      ],
      "text/plain": [
       "<IPython.core.display.HTML object>"
      ]
     },
     "metadata": {},
     "output_type": "display_data"
    },
    {
     "data": {
      "text/html": [
       "(0.106)  [CLS] It was the latter of these that<span style=\"background-color: grey;\"> caught</span> the eye of McDonald herself . [SEP]"
      ],
      "text/plain": [
       "<IPython.core.display.HTML object>"
      ]
     },
     "metadata": {},
     "output_type": "display_data"
    },
    {
     "data": {
      "text/html": [
       "(0.290)  [CLS] It<span style=\"background-color: limegreen;\"> caught</span> her eye . [SEP]"
      ],
      "text/plain": [
       "<IPython.core.display.HTML object>"
      ]
     },
     "metadata": {},
     "output_type": "display_data"
    },
    {
     "data": {
      "text/html": [
       "(0.355)  [CLS] The band recorded with British producer Tristan Long/worth who<span style=\"background-color: grey;\"> caught</span> their attention with his work for Jon Allen . [SEP]"
      ],
      "text/plain": [
       "<IPython.core.display.HTML object>"
      ]
     },
     "metadata": {},
     "output_type": "display_data"
    },
    {
     "data": {
      "text/html": [
       "(0.423)  [CLS] The rabbit<span style=\"background-color: limegreen;\"> caught</span> the fox ' s eye . [SEP]"
      ],
      "text/plain": [
       "<IPython.core.display.HTML object>"
      ]
     },
     "metadata": {},
     "output_type": "display_data"
    },
    {
     "data": {
      "text/html": [
       "(0.462)  [CLS] He<span style=\"background-color: grey;\"> caught</span> his first pass against Nebraska for 4 yards . [SEP]"
      ],
      "text/plain": [
       "<IPython.core.display.HTML object>"
      ]
     },
     "metadata": {},
     "output_type": "display_data"
    },
    {
     "data": {
      "text/html": [
       "(0.490)  [CLS] The rabbit<span style=\"background-color: limegreen;\"> caught</span> the fox ' s attention . [SEP]"
      ],
      "text/plain": [
       "<IPython.core.display.HTML object>"
      ]
     },
     "metadata": {},
     "output_type": "display_data"
    },
    {
     "data": {
      "text/html": [
       "(0.507)  [CLS] The Germans were<span style=\"background-color: grey;\"> caught</span> entirely by surprise and the \" T/ir/pit/z \" s smoke/screen was only just beginning to form . [SEP]"
      ],
      "text/plain": [
       "<IPython.core.display.HTML object>"
      ]
     },
     "metadata": {},
     "output_type": "display_data"
    },
    {
     "data": {
      "text/html": [
       "(0.525)  [CLS] When other For/nos customers asked for \" one like P/ep/ito ' s \" , the name<span style=\"background-color: grey;\"> caught</span> . [SEP]"
      ],
      "text/plain": [
       "<IPython.core.display.HTML object>"
      ]
     },
     "metadata": {},
     "output_type": "display_data"
    },
    {
     "data": {
      "text/html": [
       "(0.554)  [CLS] The q/ua/ke occurred at about noon local time Friday , so residents were awake and not<span style=\"background-color: grey;\"> caught</span> in their beds . [SEP]"
      ],
      "text/plain": [
       "<IPython.core.display.HTML object>"
      ]
     },
     "metadata": {},
     "output_type": "display_data"
    },
    {
     "data": {
      "text/html": [
       "(0.565)  [CLS] They would have been<span style=\"background-color: grey;\"> caught</span> in a cross/fire between the fort and the block/house . [SEP]"
      ],
      "text/plain": [
       "<IPython.core.display.HTML object>"
      ]
     },
     "metadata": {},
     "output_type": "display_data"
    },
    {
     "data": {
      "text/html": [
       "(0.569)  [CLS] The hero succeeds in<span style=\"background-color: grey;\"> catching</span> the o/tter , and brings it back to his home . [SEP]"
      ],
      "text/plain": [
       "<IPython.core.display.HTML object>"
      ]
     },
     "metadata": {},
     "output_type": "display_data"
    },
    {
     "data": {
      "text/html": [
       "(0.586)  [CLS] Batman<span style=\"background-color: grey;\"> catches</span> him off - guard and knocks him unconscious , thus saving Alfred ' s life and sending Z/sa/sz back to Ark/ham . [SEP]"
      ],
      "text/plain": [
       "<IPython.core.display.HTML object>"
      ]
     },
     "metadata": {},
     "output_type": "display_data"
    },
    {
     "data": {
      "text/html": [
       "(0.595)  [CLS] Sc/yt/od/idae<span style=\"background-color: grey;\"> catch</span> their prey by spit/ting a fluid that con/ge/als on contact into a venom/ous and sticky mass . [SEP]"
      ],
      "text/plain": [
       "<IPython.core.display.HTML object>"
      ]
     },
     "metadata": {},
     "output_type": "display_data"
    },
    {
     "data": {
      "text/html": [
       "(0.607)  [CLS] The rabbit<span style=\"background-color: limegreen;\"> caught</span> the car/rot . [SEP]"
      ],
      "text/plain": [
       "<IPython.core.display.HTML object>"
      ]
     },
     "metadata": {},
     "output_type": "display_data"
    },
    {
     "data": {
      "text/html": [
       "(0.623)  [CLS] It<span style=\"background-color: limegreen;\"> caught</span> it . [SEP]"
      ],
      "text/plain": [
       "<IPython.core.display.HTML object>"
      ]
     },
     "metadata": {},
     "output_type": "display_data"
    },
    {
     "data": {
      "text/html": [
       "(0.766)  [CLS] Franz had shot down two B - 17/s earlier that day and he soon<span style=\"background-color: grey;\"> caught</span> up to a wounded B - 17 flown by Charles Brown . [SEP]"
      ],
      "text/plain": [
       "<IPython.core.display.HTML object>"
      ]
     },
     "metadata": {},
     "output_type": "display_data"
    },
    {
     "data": {
      "text/html": [
       "(0.778)  [CLS] Cats/har/ks in this species are occasionally<span style=\"background-color: grey;\"> caught</span> by dem/ers/al fisheries . [SEP]"
      ],
      "text/plain": [
       "<IPython.core.display.HTML object>"
      ]
     },
     "metadata": {},
     "output_type": "display_data"
    },
    {
     "data": {
      "text/html": [
       "(0.790)  [CLS] Bears are seen frequently at Brooks Falls ,<span style=\"background-color: grey;\"> catching</span> salmon there ; they are the main attraction to the lake and Brooks Falls and Camp . [SEP]"
      ],
      "text/plain": [
       "<IPython.core.display.HTML object>"
      ]
     },
     "metadata": {},
     "output_type": "display_data"
    },
    {
     "data": {
      "text/html": [
       "(0.806)  [CLS] Meanwhile , Allison doesn ' t realize that the serial killer she is trying to<span style=\"background-color: grey;\"> catch</span> has another help/er and he gets out of jail . [SEP]"
      ],
      "text/plain": [
       "<IPython.core.display.HTML object>"
      ]
     },
     "metadata": {},
     "output_type": "display_data"
    },
    {
     "data": {
      "text/html": [
       "(0.811)  [CLS] on the river , or<span style=\"background-color: grey;\"> catch</span> smaller specimens – 50 – 100 kg . [SEP]"
      ],
      "text/plain": [
       "<IPython.core.display.HTML object>"
      ]
     },
     "metadata": {},
     "output_type": "display_data"
    },
    {
     "data": {
      "text/html": [
       "(0.831)  [CLS] The guide rope will be made of low friction materials to keep it from<span style=\"background-color: grey;\"> catching</span> or tan/gling on ground features . [SEP]"
      ],
      "text/plain": [
       "<IPython.core.display.HTML object>"
      ]
     },
     "metadata": {},
     "output_type": "display_data"
    },
    {
     "data": {
      "text/html": [
       "(0.843)  [CLS] He/ster returned to play in the Bears season finale against the Detroit Lions ,<span style=\"background-color: grey;\"> catching</span> three passes for 75 yards . [SEP]"
      ],
      "text/plain": [
       "<IPython.core.display.HTML object>"
      ]
     },
     "metadata": {},
     "output_type": "display_data"
    },
    {
     "data": {
      "text/html": [
       "(0.857)  [CLS] He was a pupil of Hay/dn , and is celebrated mainly for his g/lee compositions and<span style=\"background-color: grey;\"> catches</span> . [SEP]"
      ],
      "text/plain": [
       "<IPython.core.display.HTML object>"
      ]
     },
     "metadata": {},
     "output_type": "display_data"
    },
    {
     "data": {
      "text/html": [
       "(0.868)  [CLS] 0 1 2 3 4<span style=\"background-color: limegreen;\"> caught</span> 6 7 8 . [SEP]"
      ],
      "text/plain": [
       "<IPython.core.display.HTML object>"
      ]
     },
     "metadata": {},
     "output_type": "display_data"
    },
    {
     "data": {
      "text/html": [
       "(0.905)  [CLS] R/ut/ledge , known more for his blocking than his pass<span style=\"background-color: grey;\"> catching</span> , was a key member of the 2001 Super Bowl winning Patriots . [SEP]"
      ],
      "text/plain": [
       "<IPython.core.display.HTML object>"
      ]
     },
     "metadata": {},
     "output_type": "display_data"
    },
    {
     "data": {
      "text/html": [
       "(0.924)  [CLS] As a result , the photo shows<span style=\"background-color: lightblue;\"> captured</span> movement of a model with a smoke - like effect . [SEP]"
      ],
      "text/plain": [
       "<IPython.core.display.HTML object>"
      ]
     },
     "metadata": {},
     "output_type": "display_data"
    },
    {
     "data": {
      "text/html": [
       "(1.061)  [CLS] It<span style=\"background-color: limegreen;\"> [MASK]</span> her eye . [SEP]"
      ],
      "text/plain": [
       "<IPython.core.display.HTML object>"
      ]
     },
     "metadata": {},
     "output_type": "display_data"
    },
    {
     "data": {
      "text/html": [
       "(1.072)  [CLS] The rabbit<span style=\"background-color: limegreen;\"> [MASK]</span> the fox ' s attention . [SEP]"
      ],
      "text/plain": [
       "<IPython.core.display.HTML object>"
      ]
     },
     "metadata": {},
     "output_type": "display_data"
    },
    {
     "data": {
      "text/html": [
       "(1.084)  [CLS] The rabbit<span style=\"background-color: limegreen;\"> [MASK]</span> the fox ' s eye . [SEP]"
      ],
      "text/plain": [
       "<IPython.core.display.HTML object>"
      ]
     },
     "metadata": {},
     "output_type": "display_data"
    },
    {
     "data": {
      "text/html": [
       "(1.132)  [CLS] It<span style=\"background-color: limegreen;\"> [MASK]</span> it . [SEP]"
      ],
      "text/plain": [
       "<IPython.core.display.HTML object>"
      ]
     },
     "metadata": {},
     "output_type": "display_data"
    },
    {
     "data": {
      "text/html": [
       "(1.170)  [CLS] 0 1 2 3 4<span style=\"background-color: limegreen;\"> [MASK]</span> 6 7 8 . [SEP]"
      ],
      "text/plain": [
       "<IPython.core.display.HTML object>"
      ]
     },
     "metadata": {},
     "output_type": "display_data"
    },
    {
     "name": "stdout",
     "output_type": "stream",
     "text": [
      ".\n",
      ".\n",
      ".\n"
     ]
    },
    {
     "data": {
      "text/html": [
       "Layer arr_4"
      ],
      "text/plain": [
       "<IPython.core.display.HTML object>"
      ]
     },
     "metadata": {},
     "output_type": "display_data"
    },
    {
     "data": {
      "text/html": [
       " [CLS] Later that day , it<span style=\"background-color: lightpink;\"> caught</span> her eye . [SEP]"
      ],
      "text/plain": [
       "<IPython.core.display.HTML object>"
      ]
     },
     "metadata": {},
     "output_type": "display_data"
    },
    {
     "data": {
      "text/html": [
       "(0.121)  [CLS] It was the latter of these that<span style=\"background-color: grey;\"> caught</span> the eye of McDonald herself . [SEP]"
      ],
      "text/plain": [
       "<IPython.core.display.HTML object>"
      ]
     },
     "metadata": {},
     "output_type": "display_data"
    },
    {
     "data": {
      "text/html": [
       "(0.296)  [CLS] It<span style=\"background-color: limegreen;\"> caught</span> her eye . [SEP]"
      ],
      "text/plain": [
       "<IPython.core.display.HTML object>"
      ]
     },
     "metadata": {},
     "output_type": "display_data"
    },
    {
     "data": {
      "text/html": [
       "(0.363)  [CLS] The band recorded with British producer Tristan Long/worth who<span style=\"background-color: grey;\"> caught</span> their attention with his work for Jon Allen . [SEP]"
      ],
      "text/plain": [
       "<IPython.core.display.HTML object>"
      ]
     },
     "metadata": {},
     "output_type": "display_data"
    },
    {
     "data": {
      "text/html": [
       "(0.431)  [CLS] The rabbit<span style=\"background-color: limegreen;\"> caught</span> the fox ' s eye . [SEP]"
      ],
      "text/plain": [
       "<IPython.core.display.HTML object>"
      ]
     },
     "metadata": {},
     "output_type": "display_data"
    },
    {
     "data": {
      "text/html": [
       "(0.484)  [CLS] The rabbit<span style=\"background-color: limegreen;\"> caught</span> the fox ' s attention . [SEP]"
      ],
      "text/plain": [
       "<IPython.core.display.HTML object>"
      ]
     },
     "metadata": {},
     "output_type": "display_data"
    },
    {
     "data": {
      "text/html": [
       "(0.568)  [CLS] He<span style=\"background-color: grey;\"> caught</span> his first pass against Nebraska for 4 yards . [SEP]"
      ],
      "text/plain": [
       "<IPython.core.display.HTML object>"
      ]
     },
     "metadata": {},
     "output_type": "display_data"
    },
    {
     "data": {
      "text/html": [
       "(0.583)  [CLS] The Germans were<span style=\"background-color: grey;\"> caught</span> entirely by surprise and the \" T/ir/pit/z \" s smoke/screen was only just beginning to form . [SEP]"
      ],
      "text/plain": [
       "<IPython.core.display.HTML object>"
      ]
     },
     "metadata": {},
     "output_type": "display_data"
    },
    {
     "data": {
      "text/html": [
       "(0.588)  [CLS] When other For/nos customers asked for \" one like P/ep/ito ' s \" , the name<span style=\"background-color: grey;\"> caught</span> . [SEP]"
      ],
      "text/plain": [
       "<IPython.core.display.HTML object>"
      ]
     },
     "metadata": {},
     "output_type": "display_data"
    },
    {
     "data": {
      "text/html": [
       "(0.592)  [CLS] Sc/yt/od/idae<span style=\"background-color: grey;\"> catch</span> their prey by spit/ting a fluid that con/ge/als on contact into a venom/ous and sticky mass . [SEP]"
      ],
      "text/plain": [
       "<IPython.core.display.HTML object>"
      ]
     },
     "metadata": {},
     "output_type": "display_data"
    },
    {
     "data": {
      "text/html": [
       "(0.609)  [CLS] Batman<span style=\"background-color: grey;\"> catches</span> him off - guard and knocks him unconscious , thus saving Alfred ' s life and sending Z/sa/sz back to Ark/ham . [SEP]"
      ],
      "text/plain": [
       "<IPython.core.display.HTML object>"
      ]
     },
     "metadata": {},
     "output_type": "display_data"
    },
    {
     "data": {
      "text/html": [
       "(0.621)  [CLS] The hero succeeds in<span style=\"background-color: grey;\"> catching</span> the o/tter , and brings it back to his home . [SEP]"
      ],
      "text/plain": [
       "<IPython.core.display.HTML object>"
      ]
     },
     "metadata": {},
     "output_type": "display_data"
    },
    {
     "data": {
      "text/html": [
       "(0.639)  [CLS] It<span style=\"background-color: limegreen;\"> caught</span> it . [SEP]"
      ],
      "text/plain": [
       "<IPython.core.display.HTML object>"
      ]
     },
     "metadata": {},
     "output_type": "display_data"
    },
    {
     "data": {
      "text/html": [
       "(0.647)  [CLS] The rabbit<span style=\"background-color: limegreen;\"> caught</span> the car/rot . [SEP]"
      ],
      "text/plain": [
       "<IPython.core.display.HTML object>"
      ]
     },
     "metadata": {},
     "output_type": "display_data"
    },
    {
     "data": {
      "text/html": [
       "(0.659)  [CLS] The q/ua/ke occurred at about noon local time Friday , so residents were awake and not<span style=\"background-color: grey;\"> caught</span> in their beds . [SEP]"
      ],
      "text/plain": [
       "<IPython.core.display.HTML object>"
      ]
     },
     "metadata": {},
     "output_type": "display_data"
    },
    {
     "data": {
      "text/html": [
       "(0.674)  [CLS] They would have been<span style=\"background-color: grey;\"> caught</span> in a cross/fire between the fort and the block/house . [SEP]"
      ],
      "text/plain": [
       "<IPython.core.display.HTML object>"
      ]
     },
     "metadata": {},
     "output_type": "display_data"
    },
    {
     "data": {
      "text/html": [
       "(0.802)  [CLS] The guide rope will be made of low friction materials to keep it from<span style=\"background-color: grey;\"> catching</span> or tan/gling on ground features . [SEP]"
      ],
      "text/plain": [
       "<IPython.core.display.HTML object>"
      ]
     },
     "metadata": {},
     "output_type": "display_data"
    },
    {
     "data": {
      "text/html": [
       "(0.822)  [CLS] on the river , or<span style=\"background-color: grey;\"> catch</span> smaller specimens – 50 – 100 kg . [SEP]"
      ],
      "text/plain": [
       "<IPython.core.display.HTML object>"
      ]
     },
     "metadata": {},
     "output_type": "display_data"
    },
    {
     "data": {
      "text/html": [
       "(0.833)  [CLS] Bears are seen frequently at Brooks Falls ,<span style=\"background-color: grey;\"> catching</span> salmon there ; they are the main attraction to the lake and Brooks Falls and Camp . [SEP]"
      ],
      "text/plain": [
       "<IPython.core.display.HTML object>"
      ]
     },
     "metadata": {},
     "output_type": "display_data"
    },
    {
     "data": {
      "text/html": [
       "(0.838)  [CLS] Franz had shot down two B - 17/s earlier that day and he soon<span style=\"background-color: grey;\"> caught</span> up to a wounded B - 17 flown by Charles Brown . [SEP]"
      ],
      "text/plain": [
       "<IPython.core.display.HTML object>"
      ]
     },
     "metadata": {},
     "output_type": "display_data"
    },
    {
     "data": {
      "text/html": [
       "(0.866)  [CLS] As a result , the photo shows<span style=\"background-color: grey;\"> captured</span> movement of a model with a smoke - like effect . [SEP]"
      ],
      "text/plain": [
       "<IPython.core.display.HTML object>"
      ]
     },
     "metadata": {},
     "output_type": "display_data"
    },
    {
     "data": {
      "text/html": [
       "(0.885)  [CLS] Meanwhile , Allison doesn ' t realize that the serial killer she is trying to<span style=\"background-color: grey;\"> catch</span> has another help/er and he gets out of jail . [SEP]"
      ],
      "text/plain": [
       "<IPython.core.display.HTML object>"
      ]
     },
     "metadata": {},
     "output_type": "display_data"
    },
    {
     "data": {
      "text/html": [
       "(0.894)  [CLS] Students s/tri/ved to<span style=\"background-color: lightblue;\"> capture</span> the sound quality of Ta/ff/ane/l in their own playing . [SEP]"
      ],
      "text/plain": [
       "<IPython.core.display.HTML object>"
      ]
     },
     "metadata": {},
     "output_type": "display_data"
    },
    {
     "data": {
      "text/html": [
       "(0.894)  [CLS] He/ster returned to play in the Bears season finale against the Detroit Lions ,<span style=\"background-color: grey;\"> catching</span> three passes for 75 yards . [SEP]"
      ],
      "text/plain": [
       "<IPython.core.display.HTML object>"
      ]
     },
     "metadata": {},
     "output_type": "display_data"
    },
    {
     "data": {
      "text/html": [
       "(0.895)  [CLS] 0 1 2 3 4<span style=\"background-color: limegreen;\"> caught</span> 6 7 8 . [SEP]"
      ],
      "text/plain": [
       "<IPython.core.display.HTML object>"
      ]
     },
     "metadata": {},
     "output_type": "display_data"
    },
    {
     "data": {
      "text/html": [
       "(0.910)  [CLS] Ma/san/ob/u was famous for<span style=\"background-color: lightblue;\"> capturing</span> the beauty of nature . [SEP]"
      ],
      "text/plain": [
       "<IPython.core.display.HTML object>"
      ]
     },
     "metadata": {},
     "output_type": "display_data"
    },
    {
     "data": {
      "text/html": [
       "(0.919)  [CLS] Cats/har/ks in this species are occasionally<span style=\"background-color: grey;\"> caught</span> by dem/ers/al fisheries . [SEP]"
      ],
      "text/plain": [
       "<IPython.core.display.HTML object>"
      ]
     },
     "metadata": {},
     "output_type": "display_data"
    },
    {
     "data": {
      "text/html": [
       "(0.944)  [CLS] It<span style=\"background-color: limegreen;\"> [MASK]</span> her eye . [SEP]"
      ],
      "text/plain": [
       "<IPython.core.display.HTML object>"
      ]
     },
     "metadata": {},
     "output_type": "display_data"
    },
    {
     "data": {
      "text/html": [
       "(0.976)  [CLS] The rabbit<span style=\"background-color: limegreen;\"> [MASK]</span> the fox ' s attention . [SEP]"
      ],
      "text/plain": [
       "<IPython.core.display.HTML object>"
      ]
     },
     "metadata": {},
     "output_type": "display_data"
    },
    {
     "data": {
      "text/html": [
       "(0.977)  [CLS] The rabbit<span style=\"background-color: limegreen;\"> [MASK]</span> the fox ' s eye . [SEP]"
      ],
      "text/plain": [
       "<IPython.core.display.HTML object>"
      ]
     },
     "metadata": {},
     "output_type": "display_data"
    },
    {
     "data": {
      "text/html": [
       "(1.057)  [CLS] It<span style=\"background-color: limegreen;\"> [MASK]</span> it . [SEP]"
      ],
      "text/plain": [
       "<IPython.core.display.HTML object>"
      ]
     },
     "metadata": {},
     "output_type": "display_data"
    },
    {
     "data": {
      "text/html": [
       "(1.118)  [CLS] 0 1 2 3 4<span style=\"background-color: limegreen;\"> [MASK]</span> 6 7 8 . [SEP]"
      ],
      "text/plain": [
       "<IPython.core.display.HTML object>"
      ]
     },
     "metadata": {},
     "output_type": "display_data"
    },
    {
     "name": "stdout",
     "output_type": "stream",
     "text": [
      ".\n",
      ".\n",
      ".\n"
     ]
    },
    {
     "data": {
      "text/html": [
       "Layer arr_5"
      ],
      "text/plain": [
       "<IPython.core.display.HTML object>"
      ]
     },
     "metadata": {},
     "output_type": "display_data"
    },
    {
     "data": {
      "text/html": [
       " [CLS] Later that day , it<span style=\"background-color: lightpink;\"> caught</span> her eye . [SEP]"
      ],
      "text/plain": [
       "<IPython.core.display.HTML object>"
      ]
     },
     "metadata": {},
     "output_type": "display_data"
    },
    {
     "data": {
      "text/html": [
       "(0.123)  [CLS] It was the latter of these that<span style=\"background-color: grey;\"> caught</span> the eye of McDonald herself . [SEP]"
      ],
      "text/plain": [
       "<IPython.core.display.HTML object>"
      ]
     },
     "metadata": {},
     "output_type": "display_data"
    },
    {
     "data": {
      "text/html": [
       "(0.287)  [CLS] It<span style=\"background-color: limegreen;\"> caught</span> her eye . [SEP]"
      ],
      "text/plain": [
       "<IPython.core.display.HTML object>"
      ]
     },
     "metadata": {},
     "output_type": "display_data"
    },
    {
     "data": {
      "text/html": [
       "(0.348)  [CLS] The band recorded with British producer Tristan Long/worth who<span style=\"background-color: grey;\"> caught</span> their attention with his work for Jon Allen . [SEP]"
      ],
      "text/plain": [
       "<IPython.core.display.HTML object>"
      ]
     },
     "metadata": {},
     "output_type": "display_data"
    },
    {
     "data": {
      "text/html": [
       "(0.392)  [CLS] The rabbit<span style=\"background-color: limegreen;\"> caught</span> the fox ' s eye . [SEP]"
      ],
      "text/plain": [
       "<IPython.core.display.HTML object>"
      ]
     },
     "metadata": {},
     "output_type": "display_data"
    },
    {
     "data": {
      "text/html": [
       "(0.461)  [CLS] The rabbit<span style=\"background-color: limegreen;\"> caught</span> the fox ' s attention . [SEP]"
      ],
      "text/plain": [
       "<IPython.core.display.HTML object>"
      ]
     },
     "metadata": {},
     "output_type": "display_data"
    },
    {
     "data": {
      "text/html": [
       "(0.534)  [CLS] Sc/yt/od/idae<span style=\"background-color: grey;\"> catch</span> their prey by spit/ting a fluid that con/ge/als on contact into a venom/ous and sticky mass . [SEP]"
      ],
      "text/plain": [
       "<IPython.core.display.HTML object>"
      ]
     },
     "metadata": {},
     "output_type": "display_data"
    },
    {
     "data": {
      "text/html": [
       "(0.535)  [CLS] He<span style=\"background-color: grey;\"> caught</span> his first pass against Nebraska for 4 yards . [SEP]"
      ],
      "text/plain": [
       "<IPython.core.display.HTML object>"
      ]
     },
     "metadata": {},
     "output_type": "display_data"
    },
    {
     "data": {
      "text/html": [
       "(0.550)  [CLS] Batman<span style=\"background-color: grey;\"> catches</span> him off - guard and knocks him unconscious , thus saving Alfred ' s life and sending Z/sa/sz back to Ark/ham . [SEP]"
      ],
      "text/plain": [
       "<IPython.core.display.HTML object>"
      ]
     },
     "metadata": {},
     "output_type": "display_data"
    },
    {
     "data": {
      "text/html": [
       "(0.595)  [CLS] The hero succeeds in<span style=\"background-color: grey;\"> catching</span> the o/tter , and brings it back to his home . [SEP]"
      ],
      "text/plain": [
       "<IPython.core.display.HTML object>"
      ]
     },
     "metadata": {},
     "output_type": "display_data"
    },
    {
     "data": {
      "text/html": [
       "(0.617)  [CLS] When other For/nos customers asked for \" one like P/ep/ito ' s \" , the name<span style=\"background-color: grey;\"> caught</span> . [SEP]"
      ],
      "text/plain": [
       "<IPython.core.display.HTML object>"
      ]
     },
     "metadata": {},
     "output_type": "display_data"
    },
    {
     "data": {
      "text/html": [
       "(0.638)  [CLS] The rabbit<span style=\"background-color: limegreen;\"> caught</span> the car/rot . [SEP]"
      ],
      "text/plain": [
       "<IPython.core.display.HTML object>"
      ]
     },
     "metadata": {},
     "output_type": "display_data"
    },
    {
     "data": {
      "text/html": [
       "(0.663)  [CLS] The Germans were<span style=\"background-color: grey;\"> caught</span> entirely by surprise and the \" T/ir/pit/z \" s smoke/screen was only just beginning to form . [SEP]"
      ],
      "text/plain": [
       "<IPython.core.display.HTML object>"
      ]
     },
     "metadata": {},
     "output_type": "display_data"
    },
    {
     "data": {
      "text/html": [
       "(0.680)  [CLS] It<span style=\"background-color: limegreen;\"> caught</span> it . [SEP]"
      ],
      "text/plain": [
       "<IPython.core.display.HTML object>"
      ]
     },
     "metadata": {},
     "output_type": "display_data"
    },
    {
     "data": {
      "text/html": [
       "(0.714)  [CLS] The q/ua/ke occurred at about noon local time Friday , so residents were awake and not<span style=\"background-color: grey;\"> caught</span> in their beds . [SEP]"
      ],
      "text/plain": [
       "<IPython.core.display.HTML object>"
      ]
     },
     "metadata": {},
     "output_type": "display_data"
    },
    {
     "data": {
      "text/html": [
       "(0.718)  [CLS] He was an organist for Congregational Churches and<span style=\"background-color: lightblue;\"> gained</span> attention in the nineteenth century . [SEP]"
      ],
      "text/plain": [
       "<IPython.core.display.HTML object>"
      ]
     },
     "metadata": {},
     "output_type": "display_data"
    },
    {
     "data": {
      "text/html": [
       "(0.732)  [CLS] They would have been<span style=\"background-color: grey;\"> caught</span> in a cross/fire between the fort and the block/house . [SEP]"
      ],
      "text/plain": [
       "<IPython.core.display.HTML object>"
      ]
     },
     "metadata": {},
     "output_type": "display_data"
    },
    {
     "data": {
      "text/html": [
       "(0.752)  [CLS] The album<span style=\"background-color: lightblue;\"> garnered</span> some attention and favorable reviews , praising the unique/ness and the production of the album . [SEP]"
      ],
      "text/plain": [
       "<IPython.core.display.HTML object>"
      ]
     },
     "metadata": {},
     "output_type": "display_data"
    },
    {
     "data": {
      "text/html": [
       "(0.765)  [CLS] Students s/tri/ved to<span style=\"background-color: grey;\"> capture</span> the sound quality of Ta/ff/ane/l in their own playing . [SEP]"
      ],
      "text/plain": [
       "<IPython.core.display.HTML object>"
      ]
     },
     "metadata": {},
     "output_type": "display_data"
    },
    {
     "data": {
      "text/html": [
       "(0.767)  [CLS] As leader of O/Ľ/a/N/O , Mat/ov/i/č<span style=\"background-color: lightblue;\"> attracted</span> attention by campaigning against corruption . [SEP]"
      ],
      "text/plain": [
       "<IPython.core.display.HTML object>"
      ]
     },
     "metadata": {},
     "output_type": "display_data"
    },
    {
     "data": {
      "text/html": [
       "(0.773)  [CLS] She started a series of articles and feature stories on the gates of Au/rana/ga/bad , their present condition which<span style=\"background-color: lightblue;\"> received</span> attention on national level . [SEP]"
      ],
      "text/plain": [
       "<IPython.core.display.HTML object>"
      ]
     },
     "metadata": {},
     "output_type": "display_data"
    },
    {
     "data": {
      "text/html": [
       "(0.775)  [CLS] Bears are seen frequently at Brooks Falls ,<span style=\"background-color: grey;\"> catching</span> salmon there ; they are the main attraction to the lake and Brooks Falls and Camp . [SEP]"
      ],
      "text/plain": [
       "<IPython.core.display.HTML object>"
      ]
     },
     "metadata": {},
     "output_type": "display_data"
    },
    {
     "data": {
      "text/html": [
       "(0.777)  [CLS] Gene/tic memory and genetic algorithms have also<span style=\"background-color: lightblue;\"> gained</span> an interest in the creation of artificial life . [SEP]"
      ],
      "text/plain": [
       "<IPython.core.display.HTML object>"
      ]
     },
     "metadata": {},
     "output_type": "display_data"
    },
    {
     "data": {
      "text/html": [
       "(0.781)  [CLS] Ma/san/ob/u was famous for<span style=\"background-color: grey;\"> capturing</span> the beauty of nature . [SEP]"
      ],
      "text/plain": [
       "<IPython.core.display.HTML object>"
      ]
     },
     "metadata": {},
     "output_type": "display_data"
    },
    {
     "data": {
      "text/html": [
       "(0.785)  [CLS] The guide rope will be made of low friction materials to keep it from<span style=\"background-color: grey;\"> catching</span> or tan/gling on ground features . [SEP]"
      ],
      "text/plain": [
       "<IPython.core.display.HTML object>"
      ]
     },
     "metadata": {},
     "output_type": "display_data"
    },
    {
     "data": {
      "text/html": [
       "(0.788)  [CLS] As a result , the photo shows<span style=\"background-color: grey;\"> captured</span> movement of a model with a smoke - like effect . [SEP]"
      ],
      "text/plain": [
       "<IPython.core.display.HTML object>"
      ]
     },
     "metadata": {},
     "output_type": "display_data"
    },
    {
     "data": {
      "text/html": [
       "(0.868)  [CLS] It<span style=\"background-color: limegreen;\"> [MASK]</span> her eye . [SEP]"
      ],
      "text/plain": [
       "<IPython.core.display.HTML object>"
      ]
     },
     "metadata": {},
     "output_type": "display_data"
    },
    {
     "data": {
      "text/html": [
       "(0.897)  [CLS] The rabbit<span style=\"background-color: limegreen;\"> [MASK]</span> the fox ' s attention . [SEP]"
      ],
      "text/plain": [
       "<IPython.core.display.HTML object>"
      ]
     },
     "metadata": {},
     "output_type": "display_data"
    },
    {
     "data": {
      "text/html": [
       "(0.905)  [CLS] The rabbit<span style=\"background-color: limegreen;\"> [MASK]</span> the fox ' s eye . [SEP]"
      ],
      "text/plain": [
       "<IPython.core.display.HTML object>"
      ]
     },
     "metadata": {},
     "output_type": "display_data"
    },
    {
     "data": {
      "text/html": [
       "(0.945)  [CLS] 0 1 2 3 4<span style=\"background-color: limegreen;\"> caught</span> 6 7 8 . [SEP]"
      ],
      "text/plain": [
       "<IPython.core.display.HTML object>"
      ]
     },
     "metadata": {},
     "output_type": "display_data"
    },
    {
     "data": {
      "text/html": [
       "(0.996)  [CLS] It<span style=\"background-color: limegreen;\"> [MASK]</span> it . [SEP]"
      ],
      "text/plain": [
       "<IPython.core.display.HTML object>"
      ]
     },
     "metadata": {},
     "output_type": "display_data"
    },
    {
     "data": {
      "text/html": [
       "(1.073)  [CLS] 0 1 2 3 4<span style=\"background-color: limegreen;\"> [MASK]</span> 6 7 8 . [SEP]"
      ],
      "text/plain": [
       "<IPython.core.display.HTML object>"
      ]
     },
     "metadata": {},
     "output_type": "display_data"
    },
    {
     "name": "stdout",
     "output_type": "stream",
     "text": [
      ".\n",
      ".\n",
      ".\n"
     ]
    },
    {
     "data": {
      "text/html": [
       "Layer arr_6"
      ],
      "text/plain": [
       "<IPython.core.display.HTML object>"
      ]
     },
     "metadata": {},
     "output_type": "display_data"
    },
    {
     "data": {
      "text/html": [
       " [CLS] Later that day , it<span style=\"background-color: lightpink;\"> caught</span> her eye . [SEP]"
      ],
      "text/plain": [
       "<IPython.core.display.HTML object>"
      ]
     },
     "metadata": {},
     "output_type": "display_data"
    },
    {
     "data": {
      "text/html": [
       "(0.164)  [CLS] It was the latter of these that<span style=\"background-color: grey;\"> caught</span> the eye of McDonald herself . [SEP]"
      ],
      "text/plain": [
       "<IPython.core.display.HTML object>"
      ]
     },
     "metadata": {},
     "output_type": "display_data"
    },
    {
     "data": {
      "text/html": [
       "(0.293)  [CLS] It<span style=\"background-color: limegreen;\"> caught</span> her eye . [SEP]"
      ],
      "text/plain": [
       "<IPython.core.display.HTML object>"
      ]
     },
     "metadata": {},
     "output_type": "display_data"
    },
    {
     "data": {
      "text/html": [
       "(0.392)  [CLS] The band recorded with British producer Tristan Long/worth who<span style=\"background-color: grey;\"> caught</span> their attention with his work for Jon Allen . [SEP]"
      ],
      "text/plain": [
       "<IPython.core.display.HTML object>"
      ]
     },
     "metadata": {},
     "output_type": "display_data"
    },
    {
     "data": {
      "text/html": [
       "(0.430)  [CLS] The rabbit<span style=\"background-color: limegreen;\"> caught</span> the fox ' s eye . [SEP]"
      ],
      "text/plain": [
       "<IPython.core.display.HTML object>"
      ]
     },
     "metadata": {},
     "output_type": "display_data"
    },
    {
     "data": {
      "text/html": [
       "(0.523)  [CLS] The rabbit<span style=\"background-color: limegreen;\"> caught</span> the fox ' s attention . [SEP]"
      ],
      "text/plain": [
       "<IPython.core.display.HTML object>"
      ]
     },
     "metadata": {},
     "output_type": "display_data"
    },
    {
     "data": {
      "text/html": [
       "(0.523)  [CLS] When other For/nos customers asked for \" one like P/ep/ito ' s \" , the name<span style=\"background-color: grey;\"> caught</span> . [SEP]"
      ],
      "text/plain": [
       "<IPython.core.display.HTML object>"
      ]
     },
     "metadata": {},
     "output_type": "display_data"
    },
    {
     "data": {
      "text/html": [
       "(0.551)  [CLS] Batman<span style=\"background-color: grey;\"> catches</span> him off - guard and knocks him unconscious , thus saving Alfred ' s life and sending Z/sa/sz back to Ark/ham . [SEP]"
      ],
      "text/plain": [
       "<IPython.core.display.HTML object>"
      ]
     },
     "metadata": {},
     "output_type": "display_data"
    },
    {
     "data": {
      "text/html": [
       "(0.558)  [CLS] He<span style=\"background-color: grey;\"> caught</span> his first pass against Nebraska for 4 yards . [SEP]"
      ],
      "text/plain": [
       "<IPython.core.display.HTML object>"
      ]
     },
     "metadata": {},
     "output_type": "display_data"
    },
    {
     "data": {
      "text/html": [
       "(0.562)  [CLS] The hero succeeds in<span style=\"background-color: grey;\"> catching</span> the o/tter , and brings it back to his home . [SEP]"
      ],
      "text/plain": [
       "<IPython.core.display.HTML object>"
      ]
     },
     "metadata": {},
     "output_type": "display_data"
    },
    {
     "data": {
      "text/html": [
       "(0.586)  [CLS] Sc/yt/od/idae<span style=\"background-color: grey;\"> catch</span> their prey by spit/ting a fluid that con/ge/als on contact into a venom/ous and sticky mass . [SEP]"
      ],
      "text/plain": [
       "<IPython.core.display.HTML object>"
      ]
     },
     "metadata": {},
     "output_type": "display_data"
    },
    {
     "data": {
      "text/html": [
       "(0.649)  [CLS] The rabbit<span style=\"background-color: limegreen;\"> caught</span> the car/rot . [SEP]"
      ],
      "text/plain": [
       "<IPython.core.display.HTML object>"
      ]
     },
     "metadata": {},
     "output_type": "display_data"
    },
    {
     "data": {
      "text/html": [
       "(0.654)  [CLS] He was an organist for Congregational Churches and<span style=\"background-color: grey;\"> gained</span> attention in the nineteenth century . [SEP]"
      ],
      "text/plain": [
       "<IPython.core.display.HTML object>"
      ]
     },
     "metadata": {},
     "output_type": "display_data"
    },
    {
     "data": {
      "text/html": [
       "(0.671)  [CLS] This<span style=\"background-color: lightblue;\"> attracted</span> the attention of Roy Thomas , who would eventually himself become one of the great names in the history of the medium . [SEP]"
      ],
      "text/plain": [
       "<IPython.core.display.HTML object>"
      ]
     },
     "metadata": {},
     "output_type": "display_data"
    },
    {
     "data": {
      "text/html": [
       "(0.679)  [CLS] The album<span style=\"background-color: grey;\"> garnered</span> some attention and favorable reviews , praising the unique/ness and the production of the album . [SEP]"
      ],
      "text/plain": [
       "<IPython.core.display.HTML object>"
      ]
     },
     "metadata": {},
     "output_type": "display_data"
    },
    {
     "data": {
      "text/html": [
       "(0.692)  [CLS] They would have been<span style=\"background-color: grey;\"> caught</span> in a cross/fire between the fort and the block/house . [SEP]"
      ],
      "text/plain": [
       "<IPython.core.display.HTML object>"
      ]
     },
     "metadata": {},
     "output_type": "display_data"
    },
    {
     "data": {
      "text/html": [
       "(0.700)  [CLS] The q/ua/ke occurred at about noon local time Friday , so residents were awake and not<span style=\"background-color: grey;\"> caught</span> in their beds . [SEP]"
      ],
      "text/plain": [
       "<IPython.core.display.HTML object>"
      ]
     },
     "metadata": {},
     "output_type": "display_data"
    },
    {
     "data": {
      "text/html": [
       "(0.701)  [CLS] The p/elle/ts<span style=\"background-color: lightblue;\"> struck</span> his right leg , damaging a main artery enough to require am/putation the next day . [SEP]"
      ],
      "text/plain": [
       "<IPython.core.display.HTML object>"
      ]
     },
     "metadata": {},
     "output_type": "display_data"
    },
    {
     "data": {
      "text/html": [
       "(0.702)  [CLS] It<span style=\"background-color: limegreen;\"> caught</span> it . [SEP]"
      ],
      "text/plain": [
       "<IPython.core.display.HTML object>"
      ]
     },
     "metadata": {},
     "output_type": "display_data"
    },
    {
     "data": {
      "text/html": [
       "(0.707)  [CLS] The Germans were<span style=\"background-color: grey;\"> caught</span> entirely by surprise and the \" T/ir/pit/z \" s smoke/screen was only just beginning to form . [SEP]"
      ],
      "text/plain": [
       "<IPython.core.display.HTML object>"
      ]
     },
     "metadata": {},
     "output_type": "display_data"
    },
    {
     "data": {
      "text/html": [
       "(0.714)  [CLS] The claim , which<span style=\"background-color: lightblue;\"> attracted</span> significant public interest , was followed four days later by Ms Easton ' s suicide . [SEP]"
      ],
      "text/plain": [
       "<IPython.core.display.HTML object>"
      ]
     },
     "metadata": {},
     "output_type": "display_data"
    },
    {
     "data": {
      "text/html": [
       "(0.715)  [CLS] As leader of O/Ľ/a/N/O , Mat/ov/i/č<span style=\"background-color: grey;\"> attracted</span> attention by campaigning against corruption . [SEP]"
      ],
      "text/plain": [
       "<IPython.core.display.HTML object>"
      ]
     },
     "metadata": {},
     "output_type": "display_data"
    },
    {
     "data": {
      "text/html": [
       "(0.717)  [CLS] She started a series of articles and feature stories on the gates of Au/rana/ga/bad , their present condition which<span style=\"background-color: grey;\"> received</span> attention on national level . [SEP]"
      ],
      "text/plain": [
       "<IPython.core.display.HTML object>"
      ]
     },
     "metadata": {},
     "output_type": "display_data"
    },
    {
     "data": {
      "text/html": [
       "(0.719)  [CLS] The Abbas/ids had<span style=\"background-color: lightblue;\"> gained</span> much support . [SEP]"
      ],
      "text/plain": [
       "<IPython.core.display.HTML object>"
      ]
     },
     "metadata": {},
     "output_type": "display_data"
    },
    {
     "data": {
      "text/html": [
       "(0.721)  [CLS] Gene/tic memory and genetic algorithms have also<span style=\"background-color: grey;\"> gained</span> an interest in the creation of artificial life . [SEP]"
      ],
      "text/plain": [
       "<IPython.core.display.HTML object>"
      ]
     },
     "metadata": {},
     "output_type": "display_data"
    },
    {
     "data": {
      "text/html": [
       "(0.724)  [CLS] This new economic activity<span style=\"background-color: lightblue;\"> attracted</span> national and international immigrant/work/ers to La Ce/iba . [SEP]"
      ],
      "text/plain": [
       "<IPython.core.display.HTML object>"
      ]
     },
     "metadata": {},
     "output_type": "display_data"
    },
    {
     "data": {
      "text/html": [
       "(0.787)  [CLS] It<span style=\"background-color: limegreen;\"> [MASK]</span> her eye . [SEP]"
      ],
      "text/plain": [
       "<IPython.core.display.HTML object>"
      ]
     },
     "metadata": {},
     "output_type": "display_data"
    },
    {
     "data": {
      "text/html": [
       "(0.827)  [CLS] The rabbit<span style=\"background-color: limegreen;\"> [MASK]</span> the fox ' s attention . [SEP]"
      ],
      "text/plain": [
       "<IPython.core.display.HTML object>"
      ]
     },
     "metadata": {},
     "output_type": "display_data"
    },
    {
     "data": {
      "text/html": [
       "(0.841)  [CLS] The rabbit<span style=\"background-color: limegreen;\"> [MASK]</span> the fox ' s eye . [SEP]"
      ],
      "text/plain": [
       "<IPython.core.display.HTML object>"
      ]
     },
     "metadata": {},
     "output_type": "display_data"
    },
    {
     "data": {
      "text/html": [
       "(0.945)  [CLS] 0 1 2 3 4<span style=\"background-color: limegreen;\"> caught</span> 6 7 8 . [SEP]"
      ],
      "text/plain": [
       "<IPython.core.display.HTML object>"
      ]
     },
     "metadata": {},
     "output_type": "display_data"
    },
    {
     "data": {
      "text/html": [
       "(0.967)  [CLS] It<span style=\"background-color: limegreen;\"> [MASK]</span> it . [SEP]"
      ],
      "text/plain": [
       "<IPython.core.display.HTML object>"
      ]
     },
     "metadata": {},
     "output_type": "display_data"
    },
    {
     "data": {
      "text/html": [
       "(1.029)  [CLS] 0 1 2 3 4<span style=\"background-color: limegreen;\"> [MASK]</span> 6 7 8 . [SEP]"
      ],
      "text/plain": [
       "<IPython.core.display.HTML object>"
      ]
     },
     "metadata": {},
     "output_type": "display_data"
    },
    {
     "name": "stdout",
     "output_type": "stream",
     "text": [
      ".\n",
      ".\n",
      ".\n"
     ]
    },
    {
     "data": {
      "text/html": [
       "Layer arr_7"
      ],
      "text/plain": [
       "<IPython.core.display.HTML object>"
      ]
     },
     "metadata": {},
     "output_type": "display_data"
    },
    {
     "data": {
      "text/html": [
       " [CLS] Later that day , it<span style=\"background-color: lightpink;\"> caught</span> her eye . [SEP]"
      ],
      "text/plain": [
       "<IPython.core.display.HTML object>"
      ]
     },
     "metadata": {},
     "output_type": "display_data"
    },
    {
     "data": {
      "text/html": [
       "(0.172)  [CLS] It was the latter of these that<span style=\"background-color: grey;\"> caught</span> the eye of McDonald herself . [SEP]"
      ],
      "text/plain": [
       "<IPython.core.display.HTML object>"
      ]
     },
     "metadata": {},
     "output_type": "display_data"
    },
    {
     "data": {
      "text/html": [
       "(0.277)  [CLS] It<span style=\"background-color: limegreen;\"> caught</span> her eye . [SEP]"
      ],
      "text/plain": [
       "<IPython.core.display.HTML object>"
      ]
     },
     "metadata": {},
     "output_type": "display_data"
    },
    {
     "data": {
      "text/html": [
       "(0.475)  [CLS] The band recorded with British producer Tristan Long/worth who<span style=\"background-color: grey;\"> caught</span> their attention with his work for Jon Allen . [SEP]"
      ],
      "text/plain": [
       "<IPython.core.display.HTML object>"
      ]
     },
     "metadata": {},
     "output_type": "display_data"
    },
    {
     "data": {
      "text/html": [
       "(0.489)  [CLS] The rabbit<span style=\"background-color: limegreen;\"> caught</span> the fox ' s eye . [SEP]"
      ],
      "text/plain": [
       "<IPython.core.display.HTML object>"
      ]
     },
     "metadata": {},
     "output_type": "display_data"
    },
    {
     "data": {
      "text/html": [
       "(0.561)  [CLS] The rabbit<span style=\"background-color: limegreen;\"> caught</span> the fox ' s attention . [SEP]"
      ],
      "text/plain": [
       "<IPython.core.display.HTML object>"
      ]
     },
     "metadata": {},
     "output_type": "display_data"
    },
    {
     "data": {
      "text/html": [
       "(0.634)  [CLS] This<span style=\"background-color: grey;\"> attracted</span> the attention of Roy Thomas , who would eventually himself become one of the great names in the history of the medium . [SEP]"
      ],
      "text/plain": [
       "<IPython.core.display.HTML object>"
      ]
     },
     "metadata": {},
     "output_type": "display_data"
    },
    {
     "data": {
      "text/html": [
       "(0.659)  [CLS] When other For/nos customers asked for \" one like P/ep/ito ' s \" , the name<span style=\"background-color: grey;\"> caught</span> . [SEP]"
      ],
      "text/plain": [
       "<IPython.core.display.HTML object>"
      ]
     },
     "metadata": {},
     "output_type": "display_data"
    },
    {
     "data": {
      "text/html": [
       "(0.669)  [CLS] The claim , which<span style=\"background-color: grey;\"> attracted</span> significant public interest , was followed four days later by Ms Easton ' s suicide . [SEP]"
      ],
      "text/plain": [
       "<IPython.core.display.HTML object>"
      ]
     },
     "metadata": {},
     "output_type": "display_data"
    },
    {
     "data": {
      "text/html": [
       "(0.694)  [CLS] The album<span style=\"background-color: grey;\"> garnered</span> some attention and favorable reviews , praising the unique/ness and the production of the album . [SEP]"
      ],
      "text/plain": [
       "<IPython.core.display.HTML object>"
      ]
     },
     "metadata": {},
     "output_type": "display_data"
    },
    {
     "data": {
      "text/html": [
       "(0.700)  [CLS] He was an organist for Congregational Churches and<span style=\"background-color: grey;\"> gained</span> attention in the nineteenth century . [SEP]"
      ],
      "text/plain": [
       "<IPython.core.display.HTML object>"
      ]
     },
     "metadata": {},
     "output_type": "display_data"
    },
    {
     "data": {
      "text/html": [
       "(0.729)  [CLS] She started a series of articles and feature stories on the gates of Au/rana/ga/bad , their present condition which<span style=\"background-color: grey;\"> received</span> attention on national level . [SEP]"
      ],
      "text/plain": [
       "<IPython.core.display.HTML object>"
      ]
     },
     "metadata": {},
     "output_type": "display_data"
    },
    {
     "data": {
      "text/html": [
       "(0.733)  [CLS] Batman<span style=\"background-color: grey;\"> catches</span> him off - guard and knocks him unconscious , thus saving Alfred ' s life and sending Z/sa/sz back to Ark/ham . [SEP]"
      ],
      "text/plain": [
       "<IPython.core.display.HTML object>"
      ]
     },
     "metadata": {},
     "output_type": "display_data"
    },
    {
     "data": {
      "text/html": [
       "(0.734)  [CLS] In 2016 , his p/iz/zer/ia Champion Pizza<span style=\"background-color: lightblue;\"> received</span> media attention by giving away free pizza in honor of the late Carrie Fisher . [SEP]"
      ],
      "text/plain": [
       "<IPython.core.display.HTML object>"
      ]
     },
     "metadata": {},
     "output_type": "display_data"
    },
    {
     "data": {
      "text/html": [
       "(0.741)  [CLS] It<span style=\"background-color: limegreen;\"> [MASK]</span> her eye . [SEP]"
      ],
      "text/plain": [
       "<IPython.core.display.HTML object>"
      ]
     },
     "metadata": {},
     "output_type": "display_data"
    },
    {
     "data": {
      "text/html": [
       "(0.749)  [CLS] The Chinese work/manship and attention to detail<span style=\"background-color: lightblue;\"> impressed</span> many . [SEP]"
      ],
      "text/plain": [
       "<IPython.core.display.HTML object>"
      ]
     },
     "metadata": {},
     "output_type": "display_data"
    },
    {
     "data": {
      "text/html": [
       "(0.749)  [CLS] Later articles on election fraud and domestic politics , included covering the Real ID Act , did not<span style=\"background-color: lightblue;\"> gain</span> much attention domestic/ally . [SEP]"
      ],
      "text/plain": [
       "<IPython.core.display.HTML object>"
      ]
     },
     "metadata": {},
     "output_type": "display_data"
    },
    {
     "data": {
      "text/html": [
       "(0.756)  [CLS] As leader of O/Ľ/a/N/O , Mat/ov/i/č<span style=\"background-color: grey;\"> attracted</span> attention by campaigning against corruption . [SEP]"
      ],
      "text/plain": [
       "<IPython.core.display.HTML object>"
      ]
     },
     "metadata": {},
     "output_type": "display_data"
    },
    {
     "data": {
      "text/html": [
       "(0.756)  [CLS] The p/elle/ts<span style=\"background-color: grey;\"> struck</span> his right leg , damaging a main artery enough to require am/putation the next day . [SEP]"
      ],
      "text/plain": [
       "<IPython.core.display.HTML object>"
      ]
     },
     "metadata": {},
     "output_type": "display_data"
    },
    {
     "data": {
      "text/html": [
       "(0.762)  [CLS] The murder<span style=\"background-color: lightblue;\"> caused</span> widespread anger and led to demands that the government form a Judicial Commission . [SEP]"
      ],
      "text/plain": [
       "<IPython.core.display.HTML object>"
      ]
     },
     "metadata": {},
     "output_type": "display_data"
    },
    {
     "data": {
      "text/html": [
       "(0.764)  [CLS] This<span style=\"background-color: lightblue;\"> angered</span> W/il/f/rid and a lawsuit soon followed . [SEP]"
      ],
      "text/plain": [
       "<IPython.core.display.HTML object>"
      ]
     },
     "metadata": {},
     "output_type": "display_data"
    },
    {
     "data": {
      "text/html": [
       "(0.769)  [CLS] Randy Gil/son ' s creation has<span style=\"background-color: lightblue;\"> received</span> international attention through viral list/icles . [SEP]"
      ],
      "text/plain": [
       "<IPython.core.display.HTML object>"
      ]
     },
     "metadata": {},
     "output_type": "display_data"
    },
    {
     "data": {
      "text/html": [
       "(0.772)  [CLS] His quick wit and funny personality<span style=\"background-color: lightblue;\"> garnered</span> him acclaim and he was quickly promoted to the main radio announcer himself . [SEP]"
      ],
      "text/plain": [
       "<IPython.core.display.HTML object>"
      ]
     },
     "metadata": {},
     "output_type": "display_data"
    },
    {
     "data": {
      "text/html": [
       "(0.772)  [CLS] However , there are more to things than<span style=\"background-color: lightblue;\"> meet</span> the eye . [SEP]"
      ],
      "text/plain": [
       "<IPython.core.display.HTML object>"
      ]
     },
     "metadata": {},
     "output_type": "display_data"
    },
    {
     "data": {
      "text/html": [
       "(0.773)  [CLS] The book<span style=\"background-color: lightblue;\"> drew</span> a number of critical reactions . [SEP]"
      ],
      "text/plain": [
       "<IPython.core.display.HTML object>"
      ]
     },
     "metadata": {},
     "output_type": "display_data"
    },
    {
     "data": {
      "text/html": [
       "(0.816)  [CLS] The rabbit<span style=\"background-color: limegreen;\"> caught</span> the car/rot . [SEP]"
      ],
      "text/plain": [
       "<IPython.core.display.HTML object>"
      ]
     },
     "metadata": {},
     "output_type": "display_data"
    },
    {
     "data": {
      "text/html": [
       "(0.838)  [CLS] It<span style=\"background-color: limegreen;\"> caught</span> it . [SEP]"
      ],
      "text/plain": [
       "<IPython.core.display.HTML object>"
      ]
     },
     "metadata": {},
     "output_type": "display_data"
    },
    {
     "data": {
      "text/html": [
       "(0.840)  [CLS] The rabbit<span style=\"background-color: limegreen;\"> [MASK]</span> the fox ' s attention . [SEP]"
      ],
      "text/plain": [
       "<IPython.core.display.HTML object>"
      ]
     },
     "metadata": {},
     "output_type": "display_data"
    },
    {
     "data": {
      "text/html": [
       "(0.863)  [CLS] The rabbit<span style=\"background-color: limegreen;\"> [MASK]</span> the fox ' s eye . [SEP]"
      ],
      "text/plain": [
       "<IPython.core.display.HTML object>"
      ]
     },
     "metadata": {},
     "output_type": "display_data"
    },
    {
     "data": {
      "text/html": [
       "(1.037)  [CLS] It<span style=\"background-color: limegreen;\"> [MASK]</span> it . [SEP]"
      ],
      "text/plain": [
       "<IPython.core.display.HTML object>"
      ]
     },
     "metadata": {},
     "output_type": "display_data"
    },
    {
     "data": {
      "text/html": [
       "(1.060)  [CLS] 0 1 2 3 4<span style=\"background-color: limegreen;\"> caught</span> 6 7 8 . [SEP]"
      ],
      "text/plain": [
       "<IPython.core.display.HTML object>"
      ]
     },
     "metadata": {},
     "output_type": "display_data"
    },
    {
     "data": {
      "text/html": [
       "(1.116)  [CLS] 0 1 2 3 4<span style=\"background-color: limegreen;\"> [MASK]</span> 6 7 8 . [SEP]"
      ],
      "text/plain": [
       "<IPython.core.display.HTML object>"
      ]
     },
     "metadata": {},
     "output_type": "display_data"
    },
    {
     "name": "stdout",
     "output_type": "stream",
     "text": [
      ".\n",
      ".\n",
      ".\n"
     ]
    },
    {
     "data": {
      "text/html": [
       "Layer arr_8"
      ],
      "text/plain": [
       "<IPython.core.display.HTML object>"
      ]
     },
     "metadata": {},
     "output_type": "display_data"
    },
    {
     "data": {
      "text/html": [
       " [CLS] Later that day , it<span style=\"background-color: lightpink;\"> caught</span> her eye . [SEP]"
      ],
      "text/plain": [
       "<IPython.core.display.HTML object>"
      ]
     },
     "metadata": {},
     "output_type": "display_data"
    },
    {
     "data": {
      "text/html": [
       "(0.213)  [CLS] It was the latter of these that<span style=\"background-color: grey;\"> caught</span> the eye of McDonald herself . [SEP]"
      ],
      "text/plain": [
       "<IPython.core.display.HTML object>"
      ]
     },
     "metadata": {},
     "output_type": "display_data"
    },
    {
     "data": {
      "text/html": [
       "(0.296)  [CLS] It<span style=\"background-color: limegreen;\"> caught</span> her eye . [SEP]"
      ],
      "text/plain": [
       "<IPython.core.display.HTML object>"
      ]
     },
     "metadata": {},
     "output_type": "display_data"
    },
    {
     "data": {
      "text/html": [
       "(0.502)  [CLS] The band recorded with British producer Tristan Long/worth who<span style=\"background-color: grey;\"> caught</span> their attention with his work for Jon Allen . [SEP]"
      ],
      "text/plain": [
       "<IPython.core.display.HTML object>"
      ]
     },
     "metadata": {},
     "output_type": "display_data"
    },
    {
     "data": {
      "text/html": [
       "(0.514)  [CLS] The rabbit<span style=\"background-color: limegreen;\"> caught</span> the fox ' s eye . [SEP]"
      ],
      "text/plain": [
       "<IPython.core.display.HTML object>"
      ]
     },
     "metadata": {},
     "output_type": "display_data"
    },
    {
     "data": {
      "text/html": [
       "(0.567)  [CLS] The rabbit<span style=\"background-color: limegreen;\"> caught</span> the fox ' s attention . [SEP]"
      ],
      "text/plain": [
       "<IPython.core.display.HTML object>"
      ]
     },
     "metadata": {},
     "output_type": "display_data"
    },
    {
     "data": {
      "text/html": [
       "(0.621)  [CLS] This<span style=\"background-color: grey;\"> attracted</span> the attention of Roy Thomas , who would eventually himself become one of the great names in the history of the medium . [SEP]"
      ],
      "text/plain": [
       "<IPython.core.display.HTML object>"
      ]
     },
     "metadata": {},
     "output_type": "display_data"
    },
    {
     "data": {
      "text/html": [
       "(0.637)  [CLS] He was an organist for Congregational Churches and<span style=\"background-color: grey;\"> gained</span> attention in the nineteenth century . [SEP]"
      ],
      "text/plain": [
       "<IPython.core.display.HTML object>"
      ]
     },
     "metadata": {},
     "output_type": "display_data"
    },
    {
     "data": {
      "text/html": [
       "(0.648)  [CLS] When other For/nos customers asked for \" one like P/ep/ito ' s \" , the name<span style=\"background-color: grey;\"> caught</span> . [SEP]"
      ],
      "text/plain": [
       "<IPython.core.display.HTML object>"
      ]
     },
     "metadata": {},
     "output_type": "display_data"
    },
    {
     "data": {
      "text/html": [
       "(0.686)  [CLS] The claim , which<span style=\"background-color: grey;\"> attracted</span> significant public interest , was followed four days later by Ms Easton ' s suicide . [SEP]"
      ],
      "text/plain": [
       "<IPython.core.display.HTML object>"
      ]
     },
     "metadata": {},
     "output_type": "display_data"
    },
    {
     "data": {
      "text/html": [
       "(0.700)  [CLS] That song<span style=\"background-color: lightblue;\"> drew</span> comparisons to Carrie Underwood and B/rit/ney Spears from MTV ' s Pop Culture/d . [SEP]"
      ],
      "text/plain": [
       "<IPython.core.display.HTML object>"
      ]
     },
     "metadata": {},
     "output_type": "display_data"
    },
    {
     "data": {
      "text/html": [
       "(0.700)  [CLS] She started a series of articles and feature stories on the gates of Au/rana/ga/bad , their present condition which<span style=\"background-color: grey;\"> received</span> attention on national level . [SEP]"
      ],
      "text/plain": [
       "<IPython.core.display.HTML object>"
      ]
     },
     "metadata": {},
     "output_type": "display_data"
    },
    {
     "data": {
      "text/html": [
       "(0.702)  [CLS] The album<span style=\"background-color: grey;\"> garnered</span> some attention and favorable reviews , praising the unique/ness and the production of the album . [SEP]"
      ],
      "text/plain": [
       "<IPython.core.display.HTML object>"
      ]
     },
     "metadata": {},
     "output_type": "display_data"
    },
    {
     "data": {
      "text/html": [
       "(0.707)  [CLS] As leader of O/Ľ/a/N/O , Mat/ov/i/č<span style=\"background-color: grey;\"> attracted</span> attention by campaigning against corruption . [SEP]"
      ],
      "text/plain": [
       "<IPython.core.display.HTML object>"
      ]
     },
     "metadata": {},
     "output_type": "display_data"
    },
    {
     "data": {
      "text/html": [
       "(0.708)  [CLS] Later articles on election fraud and domestic politics , included covering the Real ID Act , did not<span style=\"background-color: grey;\"> gain</span> much attention domestic/ally . [SEP]"
      ],
      "text/plain": [
       "<IPython.core.display.HTML object>"
      ]
     },
     "metadata": {},
     "output_type": "display_data"
    },
    {
     "data": {
      "text/html": [
       "(0.715)  [CLS] The Chinese work/manship and attention to detail<span style=\"background-color: grey;\"> impressed</span> many . [SEP]"
      ],
      "text/plain": [
       "<IPython.core.display.HTML object>"
      ]
     },
     "metadata": {},
     "output_type": "display_data"
    },
    {
     "data": {
      "text/html": [
       "(0.716)  [CLS] The programme was noted for an erotic scene , which<span style=\"background-color: lightblue;\"> received</span> attention from the ruling Communist Party of Czechoslovakia . [SEP]"
      ],
      "text/plain": [
       "<IPython.core.display.HTML object>"
      ]
     },
     "metadata": {},
     "output_type": "display_data"
    },
    {
     "data": {
      "text/html": [
       "(0.720)  [CLS] In 2016 , his p/iz/zer/ia Champion Pizza<span style=\"background-color: grey;\"> received</span> media attention by giving away free pizza in honor of the late Carrie Fisher . [SEP]"
      ],
      "text/plain": [
       "<IPython.core.display.HTML object>"
      ]
     },
     "metadata": {},
     "output_type": "display_data"
    },
    {
     "data": {
      "text/html": [
       "(0.729)  [CLS] \" Something Ha/ppe/ned \" has since<span style=\"background-color: lightblue;\"> garnered</span> a small base of devoted fans . [SEP]"
      ],
      "text/plain": [
       "<IPython.core.display.HTML object>"
      ]
     },
     "metadata": {},
     "output_type": "display_data"
    },
    {
     "data": {
      "text/html": [
       "(0.733)  [CLS] Randy Gil/son ' s creation has<span style=\"background-color: grey;\"> received</span> international attention through viral list/icles . [SEP]"
      ],
      "text/plain": [
       "<IPython.core.display.HTML object>"
      ]
     },
     "metadata": {},
     "output_type": "display_data"
    },
    {
     "data": {
      "text/html": [
       "(0.734)  [CLS] She stated : \" The script<span style=\"background-color: lightblue;\"> made</span> me laugh out loud when I read it . [SEP]"
      ],
      "text/plain": [
       "<IPython.core.display.HTML object>"
      ]
     },
     "metadata": {},
     "output_type": "display_data"
    },
    {
     "data": {
      "text/html": [
       "(0.737)  [CLS] Late/ly , the group has<span style=\"background-color: lightblue;\"> received</span> international attention due to the Belarusian Government cracking down on the group and their activities . [SEP]"
      ],
      "text/plain": [
       "<IPython.core.display.HTML object>"
      ]
     },
     "metadata": {},
     "output_type": "display_data"
    },
    {
     "data": {
      "text/html": [
       "(0.738)  [CLS] The book<span style=\"background-color: grey;\"> drew</span> a number of critical reactions . [SEP]"
      ],
      "text/plain": [
       "<IPython.core.display.HTML object>"
      ]
     },
     "metadata": {},
     "output_type": "display_data"
    },
    {
     "data": {
      "text/html": [
       "(0.742)  [CLS] It<span style=\"background-color: limegreen;\"> [MASK]</span> her eye . [SEP]"
      ],
      "text/plain": [
       "<IPython.core.display.HTML object>"
      ]
     },
     "metadata": {},
     "output_type": "display_data"
    },
    {
     "data": {
      "text/html": [
       "(0.749)  [CLS] The team first<span style=\"background-color: lightblue;\"> gained</span> not/ability after placing 4th in Dream/hack Winter 2011 . [SEP]"
      ],
      "text/plain": [
       "<IPython.core.display.HTML object>"
      ]
     },
     "metadata": {},
     "output_type": "display_data"
    },
    {
     "data": {
      "text/html": [
       "(0.822)  [CLS] The rabbit<span style=\"background-color: limegreen;\"> [MASK]</span> the fox ' s attention . [SEP]"
      ],
      "text/plain": [
       "<IPython.core.display.HTML object>"
      ]
     },
     "metadata": {},
     "output_type": "display_data"
    },
    {
     "data": {
      "text/html": [
       "(0.842)  [CLS] The rabbit<span style=\"background-color: limegreen;\"> caught</span> the car/rot . [SEP]"
      ],
      "text/plain": [
       "<IPython.core.display.HTML object>"
      ]
     },
     "metadata": {},
     "output_type": "display_data"
    },
    {
     "data": {
      "text/html": [
       "(0.859)  [CLS] It<span style=\"background-color: limegreen;\"> caught</span> it . [SEP]"
      ],
      "text/plain": [
       "<IPython.core.display.HTML object>"
      ]
     },
     "metadata": {},
     "output_type": "display_data"
    },
    {
     "data": {
      "text/html": [
       "(0.882)  [CLS] The rabbit<span style=\"background-color: limegreen;\"> [MASK]</span> the fox ' s eye . [SEP]"
      ],
      "text/plain": [
       "<IPython.core.display.HTML object>"
      ]
     },
     "metadata": {},
     "output_type": "display_data"
    },
    {
     "data": {
      "text/html": [
       "(1.015)  [CLS] It<span style=\"background-color: limegreen;\"> [MASK]</span> it . [SEP]"
      ],
      "text/plain": [
       "<IPython.core.display.HTML object>"
      ]
     },
     "metadata": {},
     "output_type": "display_data"
    },
    {
     "data": {
      "text/html": [
       "(1.118)  [CLS] 0 1 2 3 4<span style=\"background-color: limegreen;\"> caught</span> 6 7 8 . [SEP]"
      ],
      "text/plain": [
       "<IPython.core.display.HTML object>"
      ]
     },
     "metadata": {},
     "output_type": "display_data"
    },
    {
     "data": {
      "text/html": [
       "(1.145)  [CLS] 0 1 2 3 4<span style=\"background-color: limegreen;\"> [MASK]</span> 6 7 8 . [SEP]"
      ],
      "text/plain": [
       "<IPython.core.display.HTML object>"
      ]
     },
     "metadata": {},
     "output_type": "display_data"
    },
    {
     "name": "stdout",
     "output_type": "stream",
     "text": [
      ".\n",
      ".\n",
      ".\n"
     ]
    },
    {
     "data": {
      "text/html": [
       "Layer arr_9"
      ],
      "text/plain": [
       "<IPython.core.display.HTML object>"
      ]
     },
     "metadata": {},
     "output_type": "display_data"
    },
    {
     "data": {
      "text/html": [
       " [CLS] Later that day , it<span style=\"background-color: lightpink;\"> caught</span> her eye . [SEP]"
      ],
      "text/plain": [
       "<IPython.core.display.HTML object>"
      ]
     },
     "metadata": {},
     "output_type": "display_data"
    },
    {
     "data": {
      "text/html": [
       "(0.217)  [CLS] It was the latter of these that<span style=\"background-color: grey;\"> caught</span> the eye of McDonald herself . [SEP]"
      ],
      "text/plain": [
       "<IPython.core.display.HTML object>"
      ]
     },
     "metadata": {},
     "output_type": "display_data"
    },
    {
     "data": {
      "text/html": [
       "(0.307)  [CLS] It<span style=\"background-color: limegreen;\"> caught</span> her eye . [SEP]"
      ],
      "text/plain": [
       "<IPython.core.display.HTML object>"
      ]
     },
     "metadata": {},
     "output_type": "display_data"
    },
    {
     "data": {
      "text/html": [
       "(0.480)  [CLS] The band recorded with British producer Tristan Long/worth who<span style=\"background-color: grey;\"> caught</span> their attention with his work for Jon Allen . [SEP]"
      ],
      "text/plain": [
       "<IPython.core.display.HTML object>"
      ]
     },
     "metadata": {},
     "output_type": "display_data"
    },
    {
     "data": {
      "text/html": [
       "(0.482)  [CLS] The rabbit<span style=\"background-color: limegreen;\"> caught</span> the fox ' s eye . [SEP]"
      ],
      "text/plain": [
       "<IPython.core.display.HTML object>"
      ]
     },
     "metadata": {},
     "output_type": "display_data"
    },
    {
     "data": {
      "text/html": [
       "(0.503)  [CLS] This<span style=\"background-color: grey;\"> attracted</span> the attention of Roy Thomas , who would eventually himself become one of the great names in the history of the medium . [SEP]"
      ],
      "text/plain": [
       "<IPython.core.display.HTML object>"
      ]
     },
     "metadata": {},
     "output_type": "display_data"
    },
    {
     "data": {
      "text/html": [
       "(0.518)  [CLS] The rabbit<span style=\"background-color: limegreen;\"> caught</span> the fox ' s attention . [SEP]"
      ],
      "text/plain": [
       "<IPython.core.display.HTML object>"
      ]
     },
     "metadata": {},
     "output_type": "display_data"
    },
    {
     "data": {
      "text/html": [
       "(0.529)  [CLS] When other For/nos customers asked for \" one like P/ep/ito ' s \" , the name<span style=\"background-color: grey;\"> caught</span> . [SEP]"
      ],
      "text/plain": [
       "<IPython.core.display.HTML object>"
      ]
     },
     "metadata": {},
     "output_type": "display_data"
    },
    {
     "data": {
      "text/html": [
       "(0.560)  [CLS] He was an organist for Congregational Churches and<span style=\"background-color: grey;\"> gained</span> attention in the nineteenth century . [SEP]"
      ],
      "text/plain": [
       "<IPython.core.display.HTML object>"
      ]
     },
     "metadata": {},
     "output_type": "display_data"
    },
    {
     "data": {
      "text/html": [
       "(0.571)  [CLS] As leader of O/Ľ/a/N/O , Mat/ov/i/č<span style=\"background-color: grey;\"> attracted</span> attention by campaigning against corruption . [SEP]"
      ],
      "text/plain": [
       "<IPython.core.display.HTML object>"
      ]
     },
     "metadata": {},
     "output_type": "display_data"
    },
    {
     "data": {
      "text/html": [
       "(0.572)  [CLS] That song<span style=\"background-color: grey;\"> drew</span> comparisons to Carrie Underwood and B/rit/ney Spears from MTV ' s Pop Culture/d . [SEP]"
      ],
      "text/plain": [
       "<IPython.core.display.HTML object>"
      ]
     },
     "metadata": {},
     "output_type": "display_data"
    },
    {
     "data": {
      "text/html": [
       "(0.590)  [CLS] They then<span style=\"background-color: lightblue;\"> appeared</span> in Islamic sources . [SEP]"
      ],
      "text/plain": [
       "<IPython.core.display.HTML object>"
      ]
     },
     "metadata": {},
     "output_type": "display_data"
    },
    {
     "data": {
      "text/html": [
       "(0.594)  [CLS] The album<span style=\"background-color: grey;\"> garnered</span> some attention and favorable reviews , praising the unique/ness and the production of the album . [SEP]"
      ],
      "text/plain": [
       "<IPython.core.display.HTML object>"
      ]
     },
     "metadata": {},
     "output_type": "display_data"
    },
    {
     "data": {
      "text/html": [
       "(0.600)  [CLS] The Chinese work/manship and attention to detail<span style=\"background-color: grey;\"> impressed</span> many . [SEP]"
      ],
      "text/plain": [
       "<IPython.core.display.HTML object>"
      ]
     },
     "metadata": {},
     "output_type": "display_data"
    },
    {
     "data": {
      "text/html": [
       "(0.600)  [CLS] The book<span style=\"background-color: grey;\"> drew</span> a number of critical reactions . [SEP]"
      ],
      "text/plain": [
       "<IPython.core.display.HTML object>"
      ]
     },
     "metadata": {},
     "output_type": "display_data"
    },
    {
     "data": {
      "text/html": [
       "(0.601)  [CLS] The team first<span style=\"background-color: grey;\"> gained</span> not/ability after placing 4th in Dream/hack Winter 2011 . [SEP]"
      ],
      "text/plain": [
       "<IPython.core.display.HTML object>"
      ]
     },
     "metadata": {},
     "output_type": "display_data"
    },
    {
     "data": {
      "text/html": [
       "(0.608)  [CLS] In 2016 , his p/iz/zer/ia Champion Pizza<span style=\"background-color: grey;\"> received</span> media attention by giving away free pizza in honor of the late Carrie Fisher . [SEP]"
      ],
      "text/plain": [
       "<IPython.core.display.HTML object>"
      ]
     },
     "metadata": {},
     "output_type": "display_data"
    },
    {
     "data": {
      "text/html": [
       "(0.609)  [CLS] Late/ly , the group has<span style=\"background-color: grey;\"> received</span> international attention due to the Belarusian Government cracking down on the group and their activities . [SEP]"
      ],
      "text/plain": [
       "<IPython.core.display.HTML object>"
      ]
     },
     "metadata": {},
     "output_type": "display_data"
    },
    {
     "data": {
      "text/html": [
       "(0.613)  [CLS] She started a series of articles and feature stories on the gates of Au/rana/ga/bad , their present condition which<span style=\"background-color: grey;\"> received</span> attention on national level . [SEP]"
      ],
      "text/plain": [
       "<IPython.core.display.HTML object>"
      ]
     },
     "metadata": {},
     "output_type": "display_data"
    },
    {
     "data": {
      "text/html": [
       "(0.622)  [CLS] He first<span style=\"background-color: lightblue;\"> earned</span> recognition as a literary critic for the Copenhagen daily , \" Pol/iti/ken . \" [SEP]"
      ],
      "text/plain": [
       "<IPython.core.display.HTML object>"
      ]
     },
     "metadata": {},
     "output_type": "display_data"
    },
    {
     "data": {
      "text/html": [
       "(0.624)  [CLS] The village<span style=\"background-color: lightblue;\"> received</span> widespread publicity in 1993 due to an alleged app/ari/tion of the Virgin Mary . [SEP]"
      ],
      "text/plain": [
       "<IPython.core.display.HTML object>"
      ]
     },
     "metadata": {},
     "output_type": "display_data"
    },
    {
     "data": {
      "text/html": [
       "(0.626)  [CLS] She stated : \" The script<span style=\"background-color: grey;\"> made</span> me laugh out loud when I read it . [SEP]"
      ],
      "text/plain": [
       "<IPython.core.display.HTML object>"
      ]
     },
     "metadata": {},
     "output_type": "display_data"
    },
    {
     "data": {
      "text/html": [
       "(0.627)  [CLS] The programme was noted for an erotic scene , which<span style=\"background-color: grey;\"> received</span> attention from the ruling Communist Party of Czechoslovakia . [SEP]"
      ],
      "text/plain": [
       "<IPython.core.display.HTML object>"
      ]
     },
     "metadata": {},
     "output_type": "display_data"
    },
    {
     "data": {
      "text/html": [
       "(0.630)  [CLS] Upon being revealed at E/3 2001 , \" Pi/k/min \"<span style=\"background-color: lightblue;\"> garnered</span> positive reception . [SEP]"
      ],
      "text/plain": [
       "<IPython.core.display.HTML object>"
      ]
     },
     "metadata": {},
     "output_type": "display_data"
    },
    {
     "data": {
      "text/html": [
       "(0.714)  [CLS] It<span style=\"background-color: limegreen;\"> [MASK]</span> her eye . [SEP]"
      ],
      "text/plain": [
       "<IPython.core.display.HTML object>"
      ]
     },
     "metadata": {},
     "output_type": "display_data"
    },
    {
     "data": {
      "text/html": [
       "(0.760)  [CLS] The rabbit<span style=\"background-color: limegreen;\"> caught</span> the car/rot . [SEP]"
      ],
      "text/plain": [
       "<IPython.core.display.HTML object>"
      ]
     },
     "metadata": {},
     "output_type": "display_data"
    },
    {
     "data": {
      "text/html": [
       "(0.767)  [CLS] It<span style=\"background-color: limegreen;\"> caught</span> it . [SEP]"
      ],
      "text/plain": [
       "<IPython.core.display.HTML object>"
      ]
     },
     "metadata": {},
     "output_type": "display_data"
    },
    {
     "data": {
      "text/html": [
       "(0.773)  [CLS] The rabbit<span style=\"background-color: limegreen;\"> [MASK]</span> the fox ' s attention . [SEP]"
      ],
      "text/plain": [
       "<IPython.core.display.HTML object>"
      ]
     },
     "metadata": {},
     "output_type": "display_data"
    },
    {
     "data": {
      "text/html": [
       "(0.793)  [CLS] The rabbit<span style=\"background-color: limegreen;\"> [MASK]</span> the fox ' s eye . [SEP]"
      ],
      "text/plain": [
       "<IPython.core.display.HTML object>"
      ]
     },
     "metadata": {},
     "output_type": "display_data"
    },
    {
     "data": {
      "text/html": [
       "(0.916)  [CLS] It<span style=\"background-color: limegreen;\"> [MASK]</span> it . [SEP]"
      ],
      "text/plain": [
       "<IPython.core.display.HTML object>"
      ]
     },
     "metadata": {},
     "output_type": "display_data"
    },
    {
     "data": {
      "text/html": [
       "(1.019)  [CLS] 0 1 2 3 4<span style=\"background-color: limegreen;\"> caught</span> 6 7 8 . [SEP]"
      ],
      "text/plain": [
       "<IPython.core.display.HTML object>"
      ]
     },
     "metadata": {},
     "output_type": "display_data"
    },
    {
     "data": {
      "text/html": [
       "(1.060)  [CLS] 0 1 2 3 4<span style=\"background-color: limegreen;\"> [MASK]</span> 6 7 8 . [SEP]"
      ],
      "text/plain": [
       "<IPython.core.display.HTML object>"
      ]
     },
     "metadata": {},
     "output_type": "display_data"
    },
    {
     "name": "stdout",
     "output_type": "stream",
     "text": [
      ".\n",
      ".\n",
      ".\n"
     ]
    },
    {
     "data": {
      "text/html": [
       "Layer arr_10"
      ],
      "text/plain": [
       "<IPython.core.display.HTML object>"
      ]
     },
     "metadata": {},
     "output_type": "display_data"
    },
    {
     "data": {
      "text/html": [
       " [CLS] Later that day , it<span style=\"background-color: lightpink;\"> caught</span> her eye . [SEP]"
      ],
      "text/plain": [
       "<IPython.core.display.HTML object>"
      ]
     },
     "metadata": {},
     "output_type": "display_data"
    },
    {
     "data": {
      "text/html": [
       "(0.238)  [CLS] It was the latter of these that<span style=\"background-color: grey;\"> caught</span> the eye of McDonald herself . [SEP]"
      ],
      "text/plain": [
       "<IPython.core.display.HTML object>"
      ]
     },
     "metadata": {},
     "output_type": "display_data"
    },
    {
     "data": {
      "text/html": [
       "(0.374)  [CLS] It<span style=\"background-color: limegreen;\"> caught</span> her eye . [SEP]"
      ],
      "text/plain": [
       "<IPython.core.display.HTML object>"
      ]
     },
     "metadata": {},
     "output_type": "display_data"
    },
    {
     "data": {
      "text/html": [
       "(0.453)  [CLS] This<span style=\"background-color: grey;\"> attracted</span> the attention of Roy Thomas , who would eventually himself become one of the great names in the history of the medium . [SEP]"
      ],
      "text/plain": [
       "<IPython.core.display.HTML object>"
      ]
     },
     "metadata": {},
     "output_type": "display_data"
    },
    {
     "data": {
      "text/html": [
       "(0.457)  [CLS] The band recorded with British producer Tristan Long/worth who<span style=\"background-color: grey;\"> caught</span> their attention with his work for Jon Allen . [SEP]"
      ],
      "text/plain": [
       "<IPython.core.display.HTML object>"
      ]
     },
     "metadata": {},
     "output_type": "display_data"
    },
    {
     "data": {
      "text/html": [
       "(0.472)  [CLS] When other For/nos customers asked for \" one like P/ep/ito ' s \" , the name<span style=\"background-color: grey;\"> caught</span> . [SEP]"
      ],
      "text/plain": [
       "<IPython.core.display.HTML object>"
      ]
     },
     "metadata": {},
     "output_type": "display_data"
    },
    {
     "data": {
      "text/html": [
       "(0.489)  [CLS] He was an organist for Congregational Churches and<span style=\"background-color: grey;\"> gained</span> attention in the nineteenth century . [SEP]"
      ],
      "text/plain": [
       "<IPython.core.display.HTML object>"
      ]
     },
     "metadata": {},
     "output_type": "display_data"
    },
    {
     "data": {
      "text/html": [
       "(0.499)  [CLS] As leader of O/Ľ/a/N/O , Mat/ov/i/č<span style=\"background-color: grey;\"> attracted</span> attention by campaigning against corruption . [SEP]"
      ],
      "text/plain": [
       "<IPython.core.display.HTML object>"
      ]
     },
     "metadata": {},
     "output_type": "display_data"
    },
    {
     "data": {
      "text/html": [
       "(0.504)  [CLS] That song<span style=\"background-color: grey;\"> drew</span> comparisons to Carrie Underwood and B/rit/ney Spears from MTV ' s Pop Culture/d . [SEP]"
      ],
      "text/plain": [
       "<IPython.core.display.HTML object>"
      ]
     },
     "metadata": {},
     "output_type": "display_data"
    },
    {
     "data": {
      "text/html": [
       "(0.523)  [CLS] The team first<span style=\"background-color: grey;\"> gained</span> not/ability after placing 4th in Dream/hack Winter 2011 . [SEP]"
      ],
      "text/plain": [
       "<IPython.core.display.HTML object>"
      ]
     },
     "metadata": {},
     "output_type": "display_data"
    },
    {
     "data": {
      "text/html": [
       "(0.527)  [CLS] The rabbit<span style=\"background-color: limegreen;\"> caught</span> the fox ' s eye . [SEP]"
      ],
      "text/plain": [
       "<IPython.core.display.HTML object>"
      ]
     },
     "metadata": {},
     "output_type": "display_data"
    },
    {
     "data": {
      "text/html": [
       "(0.528)  [CLS] The rabbit<span style=\"background-color: limegreen;\"> caught</span> the fox ' s attention . [SEP]"
      ],
      "text/plain": [
       "<IPython.core.display.HTML object>"
      ]
     },
     "metadata": {},
     "output_type": "display_data"
    },
    {
     "data": {
      "text/html": [
       "(0.535)  [CLS] Several weeks later , he<span style=\"background-color: lightblue;\"> received</span> a letter from Harrison Salisbury , who was then the managing editor of \" The New York Times \" . [SEP]"
      ],
      "text/plain": [
       "<IPython.core.display.HTML object>"
      ]
     },
     "metadata": {},
     "output_type": "display_data"
    },
    {
     "data": {
      "text/html": [
       "(0.536)  [CLS] The book<span style=\"background-color: grey;\"> drew</span> a number of critical reactions . [SEP]"
      ],
      "text/plain": [
       "<IPython.core.display.HTML object>"
      ]
     },
     "metadata": {},
     "output_type": "display_data"
    },
    {
     "data": {
      "text/html": [
       "(0.542)  [CLS] He first<span style=\"background-color: grey;\"> earned</span> recognition as a literary critic for the Copenhagen daily , \" Pol/iti/ken . \" [SEP]"
      ],
      "text/plain": [
       "<IPython.core.display.HTML object>"
      ]
     },
     "metadata": {},
     "output_type": "display_data"
    },
    {
     "data": {
      "text/html": [
       "(0.547)  [CLS] He<span style=\"background-color: lightblue;\"> was</span> spotted with the neighbouring Royal West Kent Regiment the following day . [SEP]"
      ],
      "text/plain": [
       "<IPython.core.display.HTML object>"
      ]
     },
     "metadata": {},
     "output_type": "display_data"
    },
    {
     "data": {
      "text/html": [
       "(0.549)  [CLS] When Sc/hl/ege/l began working as an associate professor at Georgetown University in 1990 , their work<span style=\"background-color: lightblue;\"> gained</span> momentum . [SEP]"
      ],
      "text/plain": [
       "<IPython.core.display.HTML object>"
      ]
     },
     "metadata": {},
     "output_type": "display_data"
    },
    {
     "data": {
      "text/html": [
       "(0.550)  [CLS] In 1977 yet another scheme<span style=\"background-color: lightblue;\"> came</span> into operation . [SEP]"
      ],
      "text/plain": [
       "<IPython.core.display.HTML object>"
      ]
     },
     "metadata": {},
     "output_type": "display_data"
    },
    {
     "data": {
      "text/html": [
       "(0.553)  [CLS] The village<span style=\"background-color: grey;\"> received</span> widespread publicity in 1993 due to an alleged app/ari/tion of the Virgin Mary . [SEP]"
      ],
      "text/plain": [
       "<IPython.core.display.HTML object>"
      ]
     },
     "metadata": {},
     "output_type": "display_data"
    },
    {
     "data": {
      "text/html": [
       "(0.555)  [CLS] In 114/8 he<span style=\"background-color: lightblue;\"> approached</span> the C/ister/cian/s for help . [SEP]"
      ],
      "text/plain": [
       "<IPython.core.display.HTML object>"
      ]
     },
     "metadata": {},
     "output_type": "display_data"
    },
    {
     "data": {
      "text/html": [
       "(0.556)  [CLS] The Chinese work/manship and attention to detail<span style=\"background-color: grey;\"> impressed</span> many . [SEP]"
      ],
      "text/plain": [
       "<IPython.core.display.HTML object>"
      ]
     },
     "metadata": {},
     "output_type": "display_data"
    },
    {
     "data": {
      "text/html": [
       "(0.563)  [CLS] In 2016 , his p/iz/zer/ia Champion Pizza<span style=\"background-color: grey;\"> received</span> media attention by giving away free pizza in honor of the late Carrie Fisher . [SEP]"
      ],
      "text/plain": [
       "<IPython.core.display.HTML object>"
      ]
     },
     "metadata": {},
     "output_type": "display_data"
    },
    {
     "data": {
      "text/html": [
       "(0.563)  [CLS] It was the latter of these that caught<span style=\"background-color: lightblue;\"> the</span> eye of McDonald herself . [SEP]"
      ],
      "text/plain": [
       "<IPython.core.display.HTML object>"
      ]
     },
     "metadata": {},
     "output_type": "display_data"
    },
    {
     "data": {
      "text/html": [
       "(0.565)  [CLS] It was while he was at Stoke that he<span style=\"background-color: lightblue;\"> gained</span> his first call - up to represent England in Test Matches . [SEP]"
      ],
      "text/plain": [
       "<IPython.core.display.HTML object>"
      ]
     },
     "metadata": {},
     "output_type": "display_data"
    },
    {
     "data": {
      "text/html": [
       "(0.741)  [CLS] It<span style=\"background-color: limegreen;\"> [MASK]</span> her eye . [SEP]"
      ],
      "text/plain": [
       "<IPython.core.display.HTML object>"
      ]
     },
     "metadata": {},
     "output_type": "display_data"
    },
    {
     "data": {
      "text/html": [
       "(0.746)  [CLS] It<span style=\"background-color: limegreen;\"> caught</span> it . [SEP]"
      ],
      "text/plain": [
       "<IPython.core.display.HTML object>"
      ]
     },
     "metadata": {},
     "output_type": "display_data"
    },
    {
     "data": {
      "text/html": [
       "(0.751)  [CLS] The rabbit<span style=\"background-color: limegreen;\"> caught</span> the car/rot . [SEP]"
      ],
      "text/plain": [
       "<IPython.core.display.HTML object>"
      ]
     },
     "metadata": {},
     "output_type": "display_data"
    },
    {
     "data": {
      "text/html": [
       "(0.761)  [CLS] The rabbit<span style=\"background-color: limegreen;\"> [MASK]</span> the fox ' s attention . [SEP]"
      ],
      "text/plain": [
       "<IPython.core.display.HTML object>"
      ]
     },
     "metadata": {},
     "output_type": "display_data"
    },
    {
     "data": {
      "text/html": [
       "(0.780)  [CLS] The rabbit<span style=\"background-color: limegreen;\"> [MASK]</span> the fox ' s eye . [SEP]"
      ],
      "text/plain": [
       "<IPython.core.display.HTML object>"
      ]
     },
     "metadata": {},
     "output_type": "display_data"
    },
    {
     "data": {
      "text/html": [
       "(0.870)  [CLS] It<span style=\"background-color: limegreen;\"> [MASK]</span> it . [SEP]"
      ],
      "text/plain": [
       "<IPython.core.display.HTML object>"
      ]
     },
     "metadata": {},
     "output_type": "display_data"
    },
    {
     "data": {
      "text/html": [
       "(0.955)  [CLS] 0 1 2 3 4<span style=\"background-color: limegreen;\"> caught</span> 6 7 8 . [SEP]"
      ],
      "text/plain": [
       "<IPython.core.display.HTML object>"
      ]
     },
     "metadata": {},
     "output_type": "display_data"
    },
    {
     "data": {
      "text/html": [
       "(0.965)  [CLS] 0 1 2 3 4<span style=\"background-color: limegreen;\"> [MASK]</span> 6 7 8 . [SEP]"
      ],
      "text/plain": [
       "<IPython.core.display.HTML object>"
      ]
     },
     "metadata": {},
     "output_type": "display_data"
    },
    {
     "name": "stdout",
     "output_type": "stream",
     "text": [
      ".\n",
      ".\n",
      ".\n"
     ]
    },
    {
     "data": {
      "text/html": [
       "Layer arr_11"
      ],
      "text/plain": [
       "<IPython.core.display.HTML object>"
      ]
     },
     "metadata": {},
     "output_type": "display_data"
    },
    {
     "data": {
      "text/html": [
       " [CLS] Later that day , it<span style=\"background-color: lightpink;\"> caught</span> her eye . [SEP]"
      ],
      "text/plain": [
       "<IPython.core.display.HTML object>"
      ]
     },
     "metadata": {},
     "output_type": "display_data"
    },
    {
     "data": {
      "text/html": [
       "(0.152)  [CLS] It was the latter of these that<span style=\"background-color: grey;\"> caught</span> the eye of McDonald herself . [SEP]"
      ],
      "text/plain": [
       "<IPython.core.display.HTML object>"
      ]
     },
     "metadata": {},
     "output_type": "display_data"
    },
    {
     "data": {
      "text/html": [
       "(0.314)  [CLS] It<span style=\"background-color: limegreen;\"> caught</span> her eye . [SEP]"
      ],
      "text/plain": [
       "<IPython.core.display.HTML object>"
      ]
     },
     "metadata": {},
     "output_type": "display_data"
    },
    {
     "data": {
      "text/html": [
       "(0.324)  [CLS] This<span style=\"background-color: grey;\"> attracted</span> the attention of Roy Thomas , who would eventually himself become one of the great names in the history of the medium . [SEP]"
      ],
      "text/plain": [
       "<IPython.core.display.HTML object>"
      ]
     },
     "metadata": {},
     "output_type": "display_data"
    },
    {
     "data": {
      "text/html": [
       "(0.327)  [CLS] The band recorded with British producer Tristan Long/worth who<span style=\"background-color: grey;\"> caught</span> their attention with his work for Jon Allen . [SEP]"
      ],
      "text/plain": [
       "<IPython.core.display.HTML object>"
      ]
     },
     "metadata": {},
     "output_type": "display_data"
    },
    {
     "data": {
      "text/html": [
       "(0.341)  [CLS] As leader of O/Ľ/a/N/O , Mat/ov/i/č<span style=\"background-color: grey;\"> attracted</span> attention by campaigning against corruption . [SEP]"
      ],
      "text/plain": [
       "<IPython.core.display.HTML object>"
      ]
     },
     "metadata": {},
     "output_type": "display_data"
    },
    {
     "data": {
      "text/html": [
       "(0.354)  [CLS] When other For/nos customers asked for \" one like P/ep/ito ' s \" , the name<span style=\"background-color: grey;\"> caught</span> . [SEP]"
      ],
      "text/plain": [
       "<IPython.core.display.HTML object>"
      ]
     },
     "metadata": {},
     "output_type": "display_data"
    },
    {
     "data": {
      "text/html": [
       "(0.357)  [CLS] The book<span style=\"background-color: grey;\"> drew</span> a number of critical reactions . [SEP]"
      ],
      "text/plain": [
       "<IPython.core.display.HTML object>"
      ]
     },
     "metadata": {},
     "output_type": "display_data"
    },
    {
     "data": {
      "text/html": [
       "(0.360)  [CLS] Several weeks later , he<span style=\"background-color: grey;\"> received</span> a letter from Harrison Salisbury , who was then the managing editor of \" The New York Times \" . [SEP]"
      ],
      "text/plain": [
       "<IPython.core.display.HTML object>"
      ]
     },
     "metadata": {},
     "output_type": "display_data"
    },
    {
     "data": {
      "text/html": [
       "(0.363)  [CLS] He first<span style=\"background-color: grey;\"> earned</span> recognition as a literary critic for the Copenhagen daily , \" Pol/iti/ken . \" [SEP]"
      ],
      "text/plain": [
       "<IPython.core.display.HTML object>"
      ]
     },
     "metadata": {},
     "output_type": "display_data"
    },
    {
     "data": {
      "text/html": [
       "(0.364)  [CLS] He was an organist for Congregational Churches and<span style=\"background-color: grey;\"> gained</span> attention in the nineteenth century . [SEP]"
      ],
      "text/plain": [
       "<IPython.core.display.HTML object>"
      ]
     },
     "metadata": {},
     "output_type": "display_data"
    },
    {
     "data": {
      "text/html": [
       "(0.367)  [CLS] That song<span style=\"background-color: grey;\"> drew</span> comparisons to Carrie Underwood and B/rit/ney Spears from MTV ' s Pop Culture/d . [SEP]"
      ],
      "text/plain": [
       "<IPython.core.display.HTML object>"
      ]
     },
     "metadata": {},
     "output_type": "display_data"
    },
    {
     "data": {
      "text/html": [
       "(0.371)  [CLS] The team first<span style=\"background-color: grey;\"> gained</span> not/ability after placing 4th in Dream/hack Winter 2011 . [SEP]"
      ],
      "text/plain": [
       "<IPython.core.display.HTML object>"
      ]
     },
     "metadata": {},
     "output_type": "display_data"
    },
    {
     "data": {
      "text/html": [
       "(0.371)  [CLS] When Sc/hl/ege/l began working as an associate professor at Georgetown University in 1990 , their work<span style=\"background-color: grey;\"> gained</span> momentum . [SEP]"
      ],
      "text/plain": [
       "<IPython.core.display.HTML object>"
      ]
     },
     "metadata": {},
     "output_type": "display_data"
    },
    {
     "data": {
      "text/html": [
       "(0.375)  [CLS] When he<span style=\"background-color: lightblue;\"> spotted</span> clinic doctor John B/rit/ton and his bodyguard , retired USAF Lieutenant Colonel James H . Barrett . [SEP]"
      ],
      "text/plain": [
       "<IPython.core.display.HTML object>"
      ]
     },
     "metadata": {},
     "output_type": "display_data"
    },
    {
     "data": {
      "text/html": [
       "(0.379)  [CLS] In 1977 yet another scheme<span style=\"background-color: grey;\"> came</span> into operation . [SEP]"
      ],
      "text/plain": [
       "<IPython.core.display.HTML object>"
      ]
     },
     "metadata": {},
     "output_type": "display_data"
    },
    {
     "data": {
      "text/html": [
       "(0.385)  [CLS] It was the latter of these that caught<span style=\"background-color: grey;\"> the</span> eye of McDonald herself . [SEP]"
      ],
      "text/plain": [
       "<IPython.core.display.HTML object>"
      ]
     },
     "metadata": {},
     "output_type": "display_data"
    },
    {
     "data": {
      "text/html": [
       "(0.385)  [CLS] There she also<span style=\"background-color: lightblue;\"> came</span> into contact with presidents and officials of African countries . [SEP]"
      ],
      "text/plain": [
       "<IPython.core.display.HTML object>"
      ]
     },
     "metadata": {},
     "output_type": "display_data"
    },
    {
     "data": {
      "text/html": [
       "(0.389)  [CLS] Smith ' s resemblance to Hay/worth<span style=\"background-color: lightblue;\"> came</span> into play again with a role in HBO ' s cable te/le/film \" The Rat Pack \" . [SEP]"
      ],
      "text/plain": [
       "<IPython.core.display.HTML object>"
      ]
     },
     "metadata": {},
     "output_type": "display_data"
    },
    {
     "data": {
      "text/html": [
       "(0.389)  [CLS] This new economic activity<span style=\"background-color: grey;\"> attracted</span> national and international immigrant/work/ers to La Ce/iba . [SEP]"
      ],
      "text/plain": [
       "<IPython.core.display.HTML object>"
      ]
     },
     "metadata": {},
     "output_type": "display_data"
    },
    {
     "data": {
      "text/html": [
       "(0.391)  [CLS] She<span style=\"background-color: lightblue;\"> began</span> seeing Ed Lin/sley , a manager at Philadelphia Four Seasons Hotel . [SEP]"
      ],
      "text/plain": [
       "<IPython.core.display.HTML object>"
      ]
     },
     "metadata": {},
     "output_type": "display_data"
    },
    {
     "data": {
      "text/html": [
       "(0.391)  [CLS] His quick wit and funny personality<span style=\"background-color: grey;\"> garnered</span> him acclaim and he was quickly promoted to the main radio announcer himself . [SEP]"
      ],
      "text/plain": [
       "<IPython.core.display.HTML object>"
      ]
     },
     "metadata": {},
     "output_type": "display_data"
    },
    {
     "data": {
      "text/html": [
       "(0.440)  [CLS] The rabbit<span style=\"background-color: limegreen;\"> caught</span> the fox ' s eye . [SEP]"
      ],
      "text/plain": [
       "<IPython.core.display.HTML object>"
      ]
     },
     "metadata": {},
     "output_type": "display_data"
    },
    {
     "data": {
      "text/html": [
       "(0.443)  [CLS] The rabbit<span style=\"background-color: limegreen;\"> caught</span> the fox ' s attention . [SEP]"
      ],
      "text/plain": [
       "<IPython.core.display.HTML object>"
      ]
     },
     "metadata": {},
     "output_type": "display_data"
    },
    {
     "data": {
      "text/html": [
       "(0.626)  [CLS] The rabbit<span style=\"background-color: limegreen;\"> caught</span> the car/rot . [SEP]"
      ],
      "text/plain": [
       "<IPython.core.display.HTML object>"
      ]
     },
     "metadata": {},
     "output_type": "display_data"
    },
    {
     "data": {
      "text/html": [
       "(0.635)  [CLS] It<span style=\"background-color: limegreen;\"> caught</span> it . [SEP]"
      ],
      "text/plain": [
       "<IPython.core.display.HTML object>"
      ]
     },
     "metadata": {},
     "output_type": "display_data"
    },
    {
     "data": {
      "text/html": [
       "(0.650)  [CLS] It<span style=\"background-color: limegreen;\"> [MASK]</span> her eye . [SEP]"
      ],
      "text/plain": [
       "<IPython.core.display.HTML object>"
      ]
     },
     "metadata": {},
     "output_type": "display_data"
    },
    {
     "data": {
      "text/html": [
       "(0.665)  [CLS] The rabbit<span style=\"background-color: limegreen;\"> [MASK]</span> the fox ' s attention . [SEP]"
      ],
      "text/plain": [
       "<IPython.core.display.HTML object>"
      ]
     },
     "metadata": {},
     "output_type": "display_data"
    },
    {
     "data": {
      "text/html": [
       "(0.674)  [CLS] The rabbit<span style=\"background-color: limegreen;\"> [MASK]</span> the fox ' s eye . [SEP]"
      ],
      "text/plain": [
       "<IPython.core.display.HTML object>"
      ]
     },
     "metadata": {},
     "output_type": "display_data"
    },
    {
     "data": {
      "text/html": [
       "(0.760)  [CLS] It<span style=\"background-color: limegreen;\"> [MASK]</span> it . [SEP]"
      ],
      "text/plain": [
       "<IPython.core.display.HTML object>"
      ]
     },
     "metadata": {},
     "output_type": "display_data"
    },
    {
     "data": {
      "text/html": [
       "(0.798)  [CLS] 0 1 2 3 4<span style=\"background-color: limegreen;\"> caught</span> 6 7 8 . [SEP]"
      ],
      "text/plain": [
       "<IPython.core.display.HTML object>"
      ]
     },
     "metadata": {},
     "output_type": "display_data"
    },
    {
     "data": {
      "text/html": [
       "(0.838)  [CLS] 0 1 2 3 4<span style=\"background-color: limegreen;\"> [MASK]</span> 6 7 8 . [SEP]"
      ],
      "text/plain": [
       "<IPython.core.display.HTML object>"
      ]
     },
     "metadata": {},
     "output_type": "display_data"
    },
    {
     "name": "stdout",
     "output_type": "stream",
     "text": [
      ".\n",
      ".\n",
      ".\n"
     ]
    },
    {
     "data": {
      "text/html": [
       "Layer arr_12"
      ],
      "text/plain": [
       "<IPython.core.display.HTML object>"
      ]
     },
     "metadata": {},
     "output_type": "display_data"
    },
    {
     "data": {
      "text/html": [
       " [CLS] Later that day , it<span style=\"background-color: lightpink;\"> caught</span> her eye . [SEP]"
      ],
      "text/plain": [
       "<IPython.core.display.HTML object>"
      ]
     },
     "metadata": {},
     "output_type": "display_data"
    },
    {
     "data": {
      "text/html": [
       "(0.228)  [CLS] It was the latter of these that<span style=\"background-color: grey;\"> caught</span> the eye of McDonald herself . [SEP]"
      ],
      "text/plain": [
       "<IPython.core.display.HTML object>"
      ]
     },
     "metadata": {},
     "output_type": "display_data"
    },
    {
     "data": {
      "text/html": [
       "(0.387)  [CLS] It<span style=\"background-color: limegreen;\"> caught</span> her eye . [SEP]"
      ],
      "text/plain": [
       "<IPython.core.display.HTML object>"
      ]
     },
     "metadata": {},
     "output_type": "display_data"
    },
    {
     "data": {
      "text/html": [
       "(0.495)  [CLS] The band recorded with British producer Tristan Long/worth who<span style=\"background-color: grey;\"> caught</span> their attention with his work for Jon Allen . [SEP]"
      ],
      "text/plain": [
       "<IPython.core.display.HTML object>"
      ]
     },
     "metadata": {},
     "output_type": "display_data"
    },
    {
     "data": {
      "text/html": [
       "(0.557)  [CLS] The rabbit<span style=\"background-color: limegreen;\"> caught</span> the fox ' s attention . [SEP]"
      ],
      "text/plain": [
       "<IPython.core.display.HTML object>"
      ]
     },
     "metadata": {},
     "output_type": "display_data"
    },
    {
     "data": {
      "text/html": [
       "(0.565)  [CLS] The rabbit<span style=\"background-color: limegreen;\"> caught</span> the fox ' s eye . [SEP]"
      ],
      "text/plain": [
       "<IPython.core.display.HTML object>"
      ]
     },
     "metadata": {},
     "output_type": "display_data"
    },
    {
     "data": {
      "text/html": [
       "(0.574)  [CLS] This<span style=\"background-color: grey;\"> attracted</span> the attention of Roy Thomas , who would eventually himself become one of the great names in the history of the medium . [SEP]"
      ],
      "text/plain": [
       "<IPython.core.display.HTML object>"
      ]
     },
     "metadata": {},
     "output_type": "display_data"
    },
    {
     "data": {
      "text/html": [
       "(0.576)  [CLS] It was the latter of these that caught<span style=\"background-color: grey;\"> the</span> eye of McDonald herself . [SEP]"
      ],
      "text/plain": [
       "<IPython.core.display.HTML object>"
      ]
     },
     "metadata": {},
     "output_type": "display_data"
    },
    {
     "data": {
      "text/html": [
       "(0.582)  [CLS] When other For/nos customers asked for \" one like P/ep/ito ' s \" , the name<span style=\"background-color: grey;\"> caught</span> . [SEP]"
      ],
      "text/plain": [
       "<IPython.core.display.HTML object>"
      ]
     },
     "metadata": {},
     "output_type": "display_data"
    },
    {
     "data": {
      "text/html": [
       "(0.592)  [CLS] He was an organist for Congregational Churches and<span style=\"background-color: grey;\"> gained</span> attention in the nineteenth century . [SEP]"
      ],
      "text/plain": [
       "<IPython.core.display.HTML object>"
      ]
     },
     "metadata": {},
     "output_type": "display_data"
    },
    {
     "data": {
      "text/html": [
       "(0.601)  [CLS] There she also<span style=\"background-color: grey;\"> came</span> into contact with presidents and officials of African countries . [SEP]"
      ],
      "text/plain": [
       "<IPython.core.display.HTML object>"
      ]
     },
     "metadata": {},
     "output_type": "display_data"
    },
    {
     "data": {
      "text/html": [
       "(0.604)  [CLS] It was while he was at Stoke that he<span style=\"background-color: grey;\"> gained</span> his first call - up to represent England in Test Matches . [SEP]"
      ],
      "text/plain": [
       "<IPython.core.display.HTML object>"
      ]
     },
     "metadata": {},
     "output_type": "display_data"
    },
    {
     "data": {
      "text/html": [
       "(0.605)  [CLS] As leader of O/Ľ/a/N/O , Mat/ov/i/č<span style=\"background-color: grey;\"> attracted</span> attention by campaigning against corruption . [SEP]"
      ],
      "text/plain": [
       "<IPython.core.display.HTML object>"
      ]
     },
     "metadata": {},
     "output_type": "display_data"
    },
    {
     "data": {
      "text/html": [
       "(0.613)  [CLS] He first<span style=\"background-color: grey;\"> earned</span> recognition as a literary critic for the Copenhagen daily , \" Pol/iti/ken . \" [SEP]"
      ],
      "text/plain": [
       "<IPython.core.display.HTML object>"
      ]
     },
     "metadata": {},
     "output_type": "display_data"
    },
    {
     "data": {
      "text/html": [
       "(0.615)  [CLS] Several weeks later , he<span style=\"background-color: grey;\"> received</span> a letter from Harrison Salisbury , who was then the managing editor of \" The New York Times \" . [SEP]"
      ],
      "text/plain": [
       "<IPython.core.display.HTML object>"
      ]
     },
     "metadata": {},
     "output_type": "display_data"
    },
    {
     "data": {
      "text/html": [
       "(0.621)  [CLS] The team first<span style=\"background-color: grey;\"> gained</span> not/ability after placing 4th in Dream/hack Winter 2011 . [SEP]"
      ],
      "text/plain": [
       "<IPython.core.display.HTML object>"
      ]
     },
     "metadata": {},
     "output_type": "display_data"
    },
    {
     "data": {
      "text/html": [
       "(0.622)  [CLS] That song<span style=\"background-color: grey;\"> drew</span> comparisons to Carrie Underwood and B/rit/ney Spears from MTV ' s Pop Culture/d . [SEP]"
      ],
      "text/plain": [
       "<IPython.core.display.HTML object>"
      ]
     },
     "metadata": {},
     "output_type": "display_data"
    },
    {
     "data": {
      "text/html": [
       "(0.635)  [CLS] The book<span style=\"background-color: grey;\"> drew</span> a number of critical reactions . [SEP]"
      ],
      "text/plain": [
       "<IPython.core.display.HTML object>"
      ]
     },
     "metadata": {},
     "output_type": "display_data"
    },
    {
     "data": {
      "text/html": [
       "(0.636)  [CLS] In 1977 yet another scheme<span style=\"background-color: grey;\"> came</span> into operation . [SEP]"
      ],
      "text/plain": [
       "<IPython.core.display.HTML object>"
      ]
     },
     "metadata": {},
     "output_type": "display_data"
    },
    {
     "data": {
      "text/html": [
       "(0.645)  [CLS] At the start of the 1950s , he<span style=\"background-color: lightblue;\"> became</span> frustrated at what he felt was the too con/ci/lia/tory attitude of the SV/P . [SEP]"
      ],
      "text/plain": [
       "<IPython.core.display.HTML object>"
      ]
     },
     "metadata": {},
     "output_type": "display_data"
    },
    {
     "data": {
      "text/html": [
       "(0.650)  [CLS] The programme was noted for an erotic scene , which<span style=\"background-color: grey;\"> received</span> attention from the ruling Communist Party of Czechoslovakia . [SEP]"
      ],
      "text/plain": [
       "<IPython.core.display.HTML object>"
      ]
     },
     "metadata": {},
     "output_type": "display_data"
    },
    {
     "data": {
      "text/html": [
       "(0.654)  [CLS] When Sc/hl/ege/l began working as an associate professor at Georgetown University in 1990 , their work<span style=\"background-color: grey;\"> gained</span> momentum . [SEP]"
      ],
      "text/plain": [
       "<IPython.core.display.HTML object>"
      ]
     },
     "metadata": {},
     "output_type": "display_data"
    },
    {
     "data": {
      "text/html": [
       "(0.663)  [CLS] In 2016 , his p/iz/zer/ia Champion Pizza<span style=\"background-color: grey;\"> received</span> media attention by giving away free pizza in honor of the late Carrie Fisher . [SEP]"
      ],
      "text/plain": [
       "<IPython.core.display.HTML object>"
      ]
     },
     "metadata": {},
     "output_type": "display_data"
    },
    {
     "data": {
      "text/html": [
       "(0.664)  [CLS] As a player , he first<span style=\"background-color: lightblue;\"> came</span> to prominence during the 1928 / 29 season . [SEP]"
      ],
      "text/plain": [
       "<IPython.core.display.HTML object>"
      ]
     },
     "metadata": {},
     "output_type": "display_data"
    },
    {
     "data": {
      "text/html": [
       "(0.768)  [CLS] The rabbit<span style=\"background-color: limegreen;\"> caught</span> the car/rot . [SEP]"
      ],
      "text/plain": [
       "<IPython.core.display.HTML object>"
      ]
     },
     "metadata": {},
     "output_type": "display_data"
    },
    {
     "data": {
      "text/html": [
       "(0.796)  [CLS] It<span style=\"background-color: limegreen;\"> caught</span> it . [SEP]"
      ],
      "text/plain": [
       "<IPython.core.display.HTML object>"
      ]
     },
     "metadata": {},
     "output_type": "display_data"
    },
    {
     "data": {
      "text/html": [
       "(0.888)  [CLS] It<span style=\"background-color: limegreen;\"> [MASK]</span> her eye . [SEP]"
      ],
      "text/plain": [
       "<IPython.core.display.HTML object>"
      ]
     },
     "metadata": {},
     "output_type": "display_data"
    },
    {
     "data": {
      "text/html": [
       "(0.919)  [CLS] The rabbit<span style=\"background-color: limegreen;\"> [MASK]</span> the fox ' s attention . [SEP]"
      ],
      "text/plain": [
       "<IPython.core.display.HTML object>"
      ]
     },
     "metadata": {},
     "output_type": "display_data"
    },
    {
     "data": {
      "text/html": [
       "(0.935)  [CLS] The rabbit<span style=\"background-color: limegreen;\"> [MASK]</span> the fox ' s eye . [SEP]"
      ],
      "text/plain": [
       "<IPython.core.display.HTML object>"
      ]
     },
     "metadata": {},
     "output_type": "display_data"
    },
    {
     "data": {
      "text/html": [
       "(1.001)  [CLS] 0 1 2 3 4<span style=\"background-color: limegreen;\"> caught</span> 6 7 8 . [SEP]"
      ],
      "text/plain": [
       "<IPython.core.display.HTML object>"
      ]
     },
     "metadata": {},
     "output_type": "display_data"
    },
    {
     "data": {
      "text/html": [
       "(1.030)  [CLS] It<span style=\"background-color: limegreen;\"> [MASK]</span> it . [SEP]"
      ],
      "text/plain": [
       "<IPython.core.display.HTML object>"
      ]
     },
     "metadata": {},
     "output_type": "display_data"
    },
    {
     "data": {
      "text/html": [
       "(1.126)  [CLS] 0 1 2 3 4<span style=\"background-color: limegreen;\"> [MASK]</span> 6 7 8 . [SEP]"
      ],
      "text/plain": [
       "<IPython.core.display.HTML object>"
      ]
     },
     "metadata": {},
     "output_type": "display_data"
    },
    {
     "name": "stdout",
     "output_type": "stream",
     "text": [
      ".\n",
      ".\n",
      ".\n"
     ]
    }
   ],
   "source": [
    "override_params = False  # useful for quick iteration on visualization\n",
    "if override_params:\n",
    "    vis_color = False\n",
    "    vis_size = False\n",
    "    vis_masked_KNNs = False\n",
    "    vis_corpus_KNNs = True\n",
    "    vis_custom_contexts = False\n",
    "    together = True\n",
    "    pruning=True  \n",
    "    save_to_html = False\n",
    "# other vis params\n",
    "max_font_size = 10\n",
    "# params if visualizing neighbors\n",
    "if vis_corpus_KNNs or vis_masked_KNNs or vis_custom_contexts:\n",
    "    n_neighbors_to_vis = 50\n",
    "    token_styler = lambda t: t\n",
    "    # token_styler = lambda t: style(font_size(fix_size(t),7), 'line-height:0px;')  # another pretty styling option\n",
    "\n",
    "# setup\n",
    "bluer = highlighter('lightblue')\n",
    "greener = highlighter('limegreen')\n",
    "greyer = highlighter('grey')\n",
    "masker = highlighter('black')\n",
    "if save_to_html: html_doc = ''\n",
    "if vis_masked_KNNs or vis_corpus_KNNs or vis_custom_contexts: selected_tok_html = context_html(doc, selected_tok_idx)\n",
    "\n",
    "# start visualizing\n",
    "# vis legend\n",
    "if vis_color:\n",
    "    pure_rgbs = vis_util.channels_to_rgbs(np.eye(dim))\n",
    "    html = ''\n",
    "    for i, rgb in enumerate(pure_rgbs):\n",
    "        html += html_util.style(f' {i} ', css=f'background-color: {html_util.rgb_to_color(*rgb)}')\n",
    "    print('Legend')\n",
    "    display(HTML(html))\n",
    "    if save_to_html: html_doc += html + '<br>'\n",
    "    print() \n",
    "    rgbs = {layer:vis_util.channels_to_rgbs(doc_reduced_acts[layer]) for layer in layers}  # prepare coloring\n",
    "\n",
    "corpus_neighs_so_far = []  \n",
    "for layer in layers:\n",
    "    html = f'Layer {layer}'\n",
    "    display(HTML(html))\n",
    "    if save_to_html: html_doc += html\n",
    "    \n",
    "    # vis sample\n",
    "    if vis_size:\n",
    "        _sizes = doc_acts_sizes[layer]\n",
    "        _sizes = (_sizes - np.min(_sizes)) / (np.max(_sizes) - np.min(_sizes))    \n",
    "    if vis_color:\n",
    "        _rgbs = rgbs[layer]\n",
    "        color_html = ''\n",
    "        for pos, tok in enumerate(doc):\n",
    "            if vis_size:\n",
    "                css = f'background-color: {html_util.rgb_to_color(*_rgbs[pos])}; font-size: {_sizes[pos]*max_font_size}pt;'\n",
    "            else:\n",
    "                css = f'background-color: {html_util.rgb_to_color(*_rgbs[pos])}; font-size: {max_font_size}pt;'\n",
    "            color_html += html_util.style(f' {tok} ', css=css)\n",
    "        display(HTML(color_html))\n",
    "        if save_to_html: html_doc += color_html + '<br>'\n",
    "    \n",
    "    # vis knns\n",
    "    if vis_masked_KNNs or vis_corpus_KNNs or vis_custom_contexts:\n",
    "        # Show the doc\n",
    "        display(HTML(selected_tok_html))\n",
    "        if save_to_html: html_doc += selected_tok_html + '<br>'\n",
    "        \n",
    "        if together:\n",
    "            neighbors = []\n",
    "            if vis_masked_KNNs:\n",
    "                neighbors.extend([(context, dist, 'masked') for context, dist in masked_neighbors[layer]])\n",
    "            if vis_corpus_KNNs:\n",
    "                neighbors.extend([(context, dist, 'corpus') for context_id, context, dist in corpus_neighbors[layer]])\n",
    "            if vis_custom_contexts:\n",
    "                neighbors.extend([(context, dist, 'custom') for context, dist in custom_neighbors[layer]])\n",
    "            neighbors.sort(key=lambda t: t[1])  # sort all by dist\n",
    "            \n",
    "            for neigh_context, neigh_dist, neigh_source in neighbors[:n_neighbors_to_vis]:\n",
    "                html = f'({neigh_dist:.3f}) '\n",
    "                if neigh_source == 'masked':\n",
    "                    html += context_html(*neigh_context, masker=masker, token_styler=token_styler)\n",
    "                elif neigh_source == 'corpus':\n",
    "                    marker = bluer if not neigh_context in corpus_neighs_so_far else greyer\n",
    "                    html += context_html(*neigh_context, marker=marker, masker=masker, token_styler=token_styler)\n",
    "                    corpus_neighs_so_far.append(neigh_context)\n",
    "                elif neigh_source == 'custom':\n",
    "                    html += context_html(*neigh_context, marker=greener, masker=masker, token_styler=token_styler)\n",
    "                display(HTML(html))\n",
    "                if save_to_html: html_doc += html + '<br>'\n",
    "        else:\n",
    "            if vis_masked_KNNs:\n",
    "                _masked_neighbors = masked_neighbors[layer]\n",
    "                if pruning:\n",
    "                    for mask_len_to_search in range(len(doc)-2):\n",
    "                        for neigh_context, neigh_dist in _masked_neighbors:\n",
    "                            neigh_toks, neigh_pos = neigh_context\n",
    "                            mask_len = len([tok for tok in neigh_toks if tok == '[MASK]'])\n",
    "                            if mask_len == mask_len_to_search:\n",
    "                                html = token_styler(f'({neigh_dist:.3f}) ') +  context_html(*neigh_context, token_styler=token_styler)\n",
    "                                display(HTML(html))\n",
    "                                if save_to_html: html_doc += html + '<br>'\n",
    "                                break\n",
    "                else:\n",
    "                    for neigh_context, neigh_dist in _masked_neighbors[:n_neighbors_to_vis]:\n",
    "                        html = token_styler(f'({neigh_dist:.3f}) ') + context_html(*neigh_context, token_styler=lambda t: token_styler(fix_size(t)))\n",
    "                        display(HTML(html))\n",
    "                        if save_to_html: html_doc += html + '<br>'\n",
    "            if vis_corpus_KNNs:\n",
    "                _corpus_neighs = corpus_neighbors[layer][:n_neighbors_to_vis]\n",
    "                for neigh_id, neigh_context, neigh_dist in _corpus_neighs:\n",
    "                    marker = bluer if not neigh_context in corpus_neighs_so_far else greyer\n",
    "                    html = token_styler(f'({neigh_dist:.3f})') + context_html(*neigh_context, marker=marker, token_styler=token_styler)\n",
    "                    display(HTML(html))\n",
    "                    if save_to_html: html_doc += html + '<br>'\n",
    "                    corpus_neighs_so_far.append(neigh_context)\n",
    "            if vis_custom_contexts:\n",
    "                _custom_neighbors = custom_neighbors[layer]\n",
    "                for context, dist in _custom_neighbors:\n",
    "                    marker = greener\n",
    "                    html = token_styler(f'({dist:.3f})') + context_html(*context, marker=marker, token_styler=token_styler)\n",
    "                    display(HTML(html))\n",
    "                    if save_to_html: html_doc += html + '<br>'\n",
    "    print('.')\n",
    "    print('.')\n",
    "    print('.')\n",
    "\n",
    "if save_to_html: open(html_path, 'w').write(html_doc)"
   ]
  },
  {
   "cell_type": "code",
   "execution_count": 61,
   "metadata": {},
   "outputs": [
    {
     "name": "stdout",
     "output_type": "stream",
     "text": [
      "Preparing layer arr_0\n",
      "Preparing layer arr_1\n",
      "Preparing layer arr_2\n",
      "Preparing layer arr_3\n",
      "Preparing layer arr_4\n",
      "Preparing layer arr_5\n",
      "Preparing layer arr_6\n",
      "Preparing layer arr_7\n",
      "Preparing layer arr_8\n",
      "Preparing layer arr_9\n",
      "Preparing layer arr_10\n",
      "Preparing layer arr_11\n",
      "Preparing layer arr_12\n"
     ]
    }
   ],
   "source": [
    "import plotly.express as px\n",
    "import plotly.io as pio\n",
    "pio.renderers.default = 'iframe'\n",
    "import pandas as pd\n",
    "\n",
    "# reduce and visualize\n",
    "reduction = 'PCA'\n",
    "points_df = pd.DataFrame(columns=['label', 'layer', 'x','y', 'main'])\n",
    "for layer in layers:  \n",
    "    print('Preparing layer', layer)\n",
    "    _tok_act = doc_acts[layer][selected_tok_idx]\n",
    "    _neighs_ids, _neighs_contexts, _  = zip(*corpus_neighbors[layer][:n_neighbors_to_vis])\n",
    "    _neighs_acts = corpus_acts[layer][_neighs_ids,:]\n",
    "    _acts = np.concatenate([[_tok_act,], _neighs_acts])\n",
    "    _points = reduce_acts(_acts, reduction=reduction, dim=2)\n",
    "    _xs, _ys = zip(*_points)\n",
    "    _labels = [context_str(doc, selected_tok_idx)] + [context_str(*context) for context in _neighs_contexts]\n",
    "    _points_df = pd.DataFrame(dict(label=_labels, \n",
    "                                   x=_xs, y=_ys,\n",
    "                                   layer=layer, \n",
    "                                   main=[True]+[False]*(len(_points)-1)\n",
    "                                  ))\n",
    "    points_df = points_df.append(_points_df, ignore_index=True)\n",
    "#     fig = px.scatter(_points_df, x='x', y='y', symbol='main', hover_data={'x': False, 'y': False, 'layer': False, 'label': True}, height=300, width=800)\n",
    "#     fig.show()\n",
    "# fig = px.scatter(points_df, x='x', y='y', color='main', facet_col='layer', color_discrete_map=color_discrete_map, hover_data={'x': False, 'y': False, 'layer': False, 'label': True}, height=300, width=300*len(layers))\n",
    "# fig.update_traces(mode=\"markers\", hovertemplate=None)\n",
    "# fig.update_layout(hovermode='label')\n",
    "# fig"
   ]
  },
  {
   "cell_type": "code",
   "execution_count": 62,
   "metadata": {},
   "outputs": [
    {
     "data": {
      "text/html": [
       "<iframe\n",
       "    scrolling=\"no\"\n",
       "    width=\"3920px\"\n",
       "    height=\"320\"\n",
       "    src=\"iframe_figures/figure_62.html\"\n",
       "    frameborder=\"0\"\n",
       "    allowfullscreen\n",
       "></iframe>\n"
      ]
     },
     "metadata": {},
     "output_type": "display_data"
    }
   ],
   "source": [
    "color_discrete_map = {False: 'darkturquoise', True: 'darkorange'}\n",
    "fig = px.scatter(points_df, x='x', y='y', color='main', facet_col='layer',\n",
    "                 color_discrete_map=color_discrete_map, #template=\"none\",\n",
    "                 hover_data={'x': False, 'y': False, 'layer': False, 'label': True}, height=300, width=300*len(layers))\n",
    "fig.update_traces(marker=dict(size=10, symbol='circle-open', line=dict(width=1.3)))\n",
    "# fig.update_layout({'plot_bgcolor': 'ghostwhite', 'paper_bgcolor': 'white'})\n",
    "fig.update_yaxes(matches=None, showticklabels=False, visible=True)\n",
    "fig.update_xaxes(matches=None, showticklabels=False, visible=True)\n",
    "fig"
   ]
  },
  {
   "cell_type": "code",
   "execution_count": 63,
   "metadata": {},
   "outputs": [
    {
     "name": "stdout",
     "output_type": "stream",
     "text": [
      "Preparing layer arr_2\n"
     ]
    }
   ],
   "source": [
    "reduction = 'PCA'\n",
    "layer = layers[2]\n",
    "print('Preparing layer', layer)\n",
    "_tok_act = doc_acts[layer][selected_tok_idx]\n",
    "_extra_contexts = corpus_contexts[:100]\n",
    "_extra_acts = corpus_acts[layer][:100]\n",
    "_acts = np.concatenate([_extra_acts, [_tok_act,]])\n",
    "_points = reduce_acts(_acts, reduction=reduction, dim=2)\n",
    "_xs, _ys = zip(*_points)\n",
    "_labels = [context_str(*context) for context in _extra_contexts] + [context_str(doc, selected_tok_idx)]\n",
    "_points_df = pd.DataFrame(dict(label=_labels, \n",
    "                               x=_xs, y=_ys,\n",
    "                               layer=layer, \n",
    "                               main=[False]*(len(_points)-1) + [True]\n",
    "                              ))"
   ]
  },
  {
   "cell_type": "code",
   "execution_count": 58,
   "metadata": {},
   "outputs": [
    {
     "data": {
      "text/html": [
       "<iframe\n",
       "    scrolling=\"no\"\n",
       "    width=\"420px\"\n",
       "    height=\"320\"\n",
       "    src=\"iframe_figures/figure_58.html\"\n",
       "    frameborder=\"0\"\n",
       "    allowfullscreen\n",
       "></iframe>\n"
      ]
     },
     "metadata": {},
     "output_type": "display_data"
    }
   ],
   "source": [
    "color_discrete_map = {True: 'darkturquoise', False: 'orange'}\n",
    "fig = px.scatter(_points_df, x='x', y='y', color='main', facet_col='layer',\n",
    "                 color_discrete_map=color_discrete_map, #template=\"none\",\n",
    "                 hover_data={'x': False, 'y': False, 'layer': False, 'label': True}, height=300, width=400\n",
    "                )\n",
    "fig.update_layout(showlegend=False)\n",
    "fig.update_traces(marker=dict(size=10, symbol='circle-open', line=dict(width=1.3)))\n",
    "fig.update_yaxes(matches=None, showticklabels=False, visible=True)\n",
    "fig.update_xaxes(matches=None, showticklabels=False, visible=True)\n",
    "fig"
   ]
  },
  {
   "cell_type": "code",
   "execution_count": null,
   "metadata": {},
   "outputs": [],
   "source": [
    "# # import plotly.express as px\n",
    "# # import plotly.io as pio\n",
    "# # pio.renderers.default = 'iframe'\n",
    "# # import pandas as pd\n",
    "\n",
    "fig.update_traces(marker=dict(size=10,\n",
    "                              line=dict(width=2,\n",
    "                                        color='DarkSlateGrey')),\n",
    "                              selector=dict(mode='markers'))\n",
    "\n",
    "# # reduce and visualize\n",
    "# reduction = 'PCA'\n",
    "# points_df = pd.DataFrame(columns=['label', 'layer', 'x','y', 'main'])\n",
    "# layer = layers[0]  \n",
    "# print('Preparing layer', layer)\n",
    "# _tok_act = doc_acts[layer][selected_tok_idx]\n",
    "# _neighs_ids, _neighs_contexts, _  = zip(*corpus_neighbors[layer][:n_neighbors_to_vis])\n",
    "# _neighs_acts = corpus_acts[layer][_neighs_ids,:]\n",
    "# _acts = np.concatenate([[_tok_act,], _neighs_acts])\n",
    "# _points = reduce_acts(_acts, reduction=reduction, dim=2)\n",
    "# _xs, _ys = zip(*_points)\n",
    "# _labels = [context_str(doc, selected_tok_idx)] + [context_str(*context) for context in _neighs_contexts]\n",
    "# _points_df = pd.DataFrame(dict(label=[_labels[0]], \n",
    "#                                x=[_xs[0]], y=[_ys[0]],\n",
    "#                                layer=layer, \n",
    "#                                main=[True]\n",
    "#                               ))\n",
    "# fig = px.scatter(_points_df, x='x', y='y', color='main', hover_data={'x': False, 'y': False, 'layer': False, 'label': True}, height=300, width=300)\n",
    "# fig.show()"
   ]
  },
  {
   "cell_type": "code",
   "execution_count": null,
   "metadata": {},
   "outputs": [],
   "source": [
    "# import plotly.express as px\n",
    "# import plotly.io as pio\n",
    "# pio.renderers.default = 'iframe'\n",
    "# import pandas as pd\n",
    "\n",
    "# # compile all neighbors and their acts\n",
    "# layers = layers[:]\n",
    "# neighs_contexts = []\n",
    "# neighs_associations = []  # which layer was this neighbor originally associated with?\n",
    "# neighs_acts = {layer: [] for layer in layers}\n",
    "# for layer in layers[::-1]:\n",
    "#     for neigh_id, neigh_context, _ in corpus_neighbors[layer]:\n",
    "#         if neigh_context not in neighs_contexts:\n",
    "#             neighs_contexts.append(neigh_context)\n",
    "#             neighs_associations.append(layer)\n",
    "#             neigh_doc, neigh_pos = neigh_context\n",
    "#             neigh_doc, neigh_acts = bert.get_toks_and_acts(neigh_doc, tokenized=True)\n",
    "#             for layer_to_grow in layers:\n",
    "# # preprocess\n",
    "# neighs_labels = [context_str(*context) for context in neighs_contexts]\n",
    "# neighs_acts = {layer: np.stack(neighs_acts[layer]) for layer in layers}\n",
    "\n",
    "# # reduce and visualize\n",
    "# reduction = 'TSNE'\n",
    "# corpus_acts = np.load(os.path.join(corpus_dir, subdir, refs.acts_fn))\n",
    "# points_df = pd.DataFrame(columns=['label', 'layer', 'x','y', 'association', 'main'])\n",
    "# for layer in layers:  \n",
    "#     print('Preparing layer', layer)\n",
    "#     _tok_act = doc_acts[layer][selected_tok_idx]\n",
    "#     _neighs_acts = neighs_acts[layer]\n",
    "#     _acts = np.concatenate([[_tok_act,], _neighs_acts])\n",
    "# #     _acts = acts_util.reduce_acts(_acts, reduction='KMeans', dim=10)\n",
    "#     _points = acts_util.reduce_acts(_acts, reduction=reduction, dim=2)\n",
    "#     _xs, _ys = zip(*_points)\n",
    "#     _points_df = pd.DataFrame(dict(label=[context_str(doc, selected_tok_idx)]+neighs_labels, \n",
    "#                                    x=_xs, y=_ys,\n",
    "#                                    layer=layer, \n",
    "#                                    association=['main']+neighs_associations,\n",
    "#                                    main=[False]+[True]*(len(_points)-1)\n",
    "#                                   ))\n",
    "#     _points_df = _points_df[_points_df['association'].isin([layer, 'main'])]\n",
    "#     #     points_df = points_df.append(_points_df['layer'==layer], ignore_index=True)\n",
    "#     fig = px.scatter(_points_df, x='x', y='y', color='association', hover_data={'x': False, 'y': False, 'association': False, 'layer': False, 'label': True}, height=300, width=800)\n",
    "#     fig.show()\n",
    "    \n",
    "# fig = px.scatter(points_df, x='x', y='y', color='association', facet_col='layer', hover_data={'x': False, 'y': False, 'association': False, 'layer': False, 'label': True}, height=300, width=300*len(layers))\n",
    "# # fig.update_traces(mode=\"markers\", hovertemplate=None)\n",
    "# # fig.update_layout(hovermode='label')\n",
    "# fig"
   ]
  }
 ],
 "metadata": {
  "kernelspec": {
   "display_name": "Python 3",
   "language": "python",
   "name": "python3"
  },
  "language_info": {
   "codemirror_mode": {
    "name": "ipython",
    "version": 3
   },
   "file_extension": ".py",
   "mimetype": "text/x-python",
   "name": "python",
   "nbconvert_exporter": "python",
   "pygments_lexer": "ipython3",
   "version": "3.7.11"
  }
 },
 "nbformat": 4,
 "nbformat_minor": 4
}
