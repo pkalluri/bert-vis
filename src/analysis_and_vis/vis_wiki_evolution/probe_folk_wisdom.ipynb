{
 "cells": [
  {
   "cell_type": "markdown",
   "id": "432d1ccb-c958-439b-a023-8e0845a73079",
   "metadata": {},
   "source": [
    "# Probing folk wisdom"
   ]
  },
  {
   "cell_type": "markdown",
   "id": "847ebd8b-a3ac-4767-8cf2-f26b5e378760",
   "metadata": {
    "tags": []
   },
   "source": [
    "## Setup"
   ]
  },
  {
   "cell_type": "code",
   "execution_count": 1,
   "id": "b03f3f5c-36e0-4fd5-bc22-d197b1d20083",
   "metadata": {},
   "outputs": [],
   "source": [
    "# !jupyter nbconvert --to script probe-folk.ipynb"
   ]
  },
  {
   "cell_type": "code",
   "execution_count": 4,
   "id": "c0a6c3f8-4af7-43c7-a22a-07fb4b787107",
   "metadata": {},
   "outputs": [
    {
     "data": {
      "text/plain": [
       "'Notebooks is ready.'"
      ]
     },
     "execution_count": 4,
     "metadata": {},
     "output_type": "execute_result"
    }
   ],
   "source": [
    "'Notebooks is ready.'"
   ]
  },
  {
   "cell_type": "code",
   "execution_count": 5,
   "id": "f624b054-c53f-49c3-90e3-7e361af0aac0",
   "metadata": {},
   "outputs": [
    {
     "name": "stdout",
     "output_type": "stream",
     "text": [
      "The autoreload extension is already loaded. To reload it, use:\n",
      "  %reload_ext autoreload\n"
     ]
    }
   ],
   "source": [
    "%load_ext autoreload\n",
    "%autoreload 2\n",
    "import os\n",
    "import pickle\n",
    "import numpy as np\n",
    "np.set_printoptions(precision=3, suppress=True)\n",
    "import sys\n",
    "sys.path.insert(0, os.path.abspath('../..'))\n",
    "import plotly.express as px\n",
    "from sklearn.linear_model import LogisticRegression\n",
    "from sklearn import metrics\n",
    "import collections\n",
    "import pandas as pd\n",
    "import random\n",
    "import nltk\n",
    "import plotly.graph_objects as go\n",
    "from plotly.subplots import make_subplots\n",
    "from sklearn.preprocessing import StandardScaler\n",
    "import warnings\n",
    "warnings.filterwarnings('ignore')  # temporary, not recommended\n",
    "import kaleido\n",
    "\n",
    "import utils.references as refs\n",
    "from utils.acts_util import normalize, spherize\n",
    "from utils.context_util import abbreviated_context as context_txt"
   ]
  },
  {
   "cell_type": "code",
   "execution_count": null,
   "id": "634c16c6-6b78-44d7-b36a-e4fcf218817f",
   "metadata": {},
   "outputs": [],
   "source": []
  },
  {
   "cell_type": "code",
   "execution_count": 6,
   "id": "f56ecdd4-c06f-464c-b54f-fdaa8d556212",
   "metadata": {},
   "outputs": [],
   "source": [
    "# load corpus and acts\n",
    "corpus_dir = '/atlas/u/pkalluri/bert-vis/big-data/wiki-large/'\n",
    "corpus_dir = os.path.abspath(corpus_dir)\n",
    "corpus_contexts = pickle.load(open(os.path.join(corpus_dir, refs.contexts_fn),'rb'))\n",
    "corpus_acts = np.load(os.path.join(corpus_dir, refs.acts_fn))\n",
    "layers = list(corpus_acts.files)"
   ]
  },
  {
   "cell_type": "code",
   "execution_count": 7,
   "id": "5a449314-4255-4760-8539-6d28a9954940",
   "metadata": {},
   "outputs": [],
   "source": [
    "# get all tokens\n",
    "corpus_toks = np.array([doc[pos] for doc, pos in corpus_contexts])\n",
    "vocab = list(set(corpus_toks))\n",
    "# corpus_txts = np.array([context_txt(doc,pos) for doc, pos in corpus_contexts])"
   ]
  },
  {
   "cell_type": "markdown",
   "id": "f8f30e75-a18f-4e97-ad01-5490771734ba",
   "metadata": {
    "tags": []
   },
   "source": [
    "## Check context learning"
   ]
  },
  {
   "cell_type": "code",
   "execution_count": 16,
   "id": "f996c601-60e7-45d9-a3ea-8e5832067ba0",
   "metadata": {
    "tags": []
   },
   "outputs": [],
   "source": [
    "def probe_identity(corpus_acts, corpus_contexts, corpus_filter, filter_name='',\n",
    "                   gaps=range(-3,4), layers=None, train_frac=.8, predict_from_tok=False, verbose=False):\n",
    "    layers = layers or list(corpus_acts.keys())\n",
    "    \n",
    "    # calculate data filters\n",
    "    acts_filters = {}\n",
    "    contexts_filters = {}\n",
    "    for gap in gaps:\n",
    "        contexts_filter = []\n",
    "        acts_filter = []\n",
    "        for idx in corpus_filter:\n",
    "            doc, pos = corpus_contexts[idx]\n",
    "            if pos+gap in range(0, len(doc)):\n",
    "                if predict_from_tok:\n",
    "                    acts_filter.append(idx) # from tok\n",
    "                    contexts_filter.append(idx+gap) # to my neighbors\n",
    "                else:\n",
    "                    acts_filter.append(idx+gap) # from neighbors\n",
    "                    contexts_filter.append(idx)  # to tok\n",
    "        acts_filters[gap] = acts_filter\n",
    "        contexts_filters[gap] = contexts_filter\n",
    "    for gap in gaps:\n",
    "        if len(acts_filters[gap]) == 0:  # no contexts found\n",
    "            del acts_filters[gap]\n",
    "            del contexts_filters[gap]\n",
    "    gaps = acts_filters.keys()\n",
    "    \n",
    "    # get target data\n",
    "    corpus_toks = np.array([doc[pos] for doc, pos in corpus_contexts])\n",
    "    target_toks = {gap: corpus_toks[contexts_filter] for gap, contexts_filter in contexts_filters.items()}\n",
    "        \n",
    "    model = LogisticRegression(max_iter=200, solver='saga', n_jobs=4)\n",
    "    scaler = StandardScaler()\n",
    "    scores = []\n",
    "    for layer in layers[:len(layers)]:\n",
    "        print(layer,'...', end=' ', flush=True)\n",
    "        _acts = corpus_acts[layer]\n",
    "        for gap in gaps:\n",
    "            print(gap,'...', end=' ', flush=True)\n",
    "            _input_acts = _acts[acts_filters[gap]]\n",
    "            _input_acts = scaler.fit_transform(_input_acts)  # Standarize features\n",
    "            _target_toks = target_toks[gap]\n",
    "            n_train = int(train_frac * len(_input_acts))\n",
    "            if verbose: print('fitting model...')\n",
    "            model.fit(_input_acts[:n_train], _target_toks[:n_train])\n",
    "            if verbose: print('calculating accuracy...')\n",
    "            score = model.score(_input_acts[n_train:], _target_toks[n_train:])\n",
    "            scores.append([layer,gap,score])\n",
    "            if verbose: print(f'{layer}:{score}', flush=True)\n",
    "        print()\n",
    "    scores = pd.DataFrame(scores, columns=['layer','gap','score'])\n",
    "    scores['predicting'] = filter_name\n",
    "    return scores"
   ]
  },
  {
   "cell_type": "markdown",
   "id": "7f4e4137-93c6-481b-8c39-ce5eca0afdd6",
   "metadata": {
    "jp-MarkdownHeadingCollapsed": true,
    "tags": []
   },
   "source": [
    "### Various filters"
   ]
  },
  {
   "cell_type": "code",
   "execution_count": 6,
   "id": "62bb4b59-a352-4cb5-9026-aad65eaebe26",
   "metadata": {},
   "outputs": [],
   "source": [
    "all_scores = pd.DataFrame()"
   ]
  },
  {
   "cell_type": "code",
   "execution_count": 7,
   "id": "1578f569-2f63-469e-8010-e3f4aad04846",
   "metadata": {},
   "outputs": [],
   "source": [
    "filters = {}"
   ]
  },
  {
   "cell_type": "code",
   "execution_count": 8,
   "id": "ad58ebda-9066-40a5-92e4-6cdffd770db1",
   "metadata": {},
   "outputs": [],
   "source": [
    "n_classes = 10\n",
    "n_points = 1000"
   ]
  },
  {
   "cell_type": "code",
   "execution_count": 17,
   "id": "d309fb4d-5e42-41a5-8c4b-0282c59a600a",
   "metadata": {
    "tags": []
   },
   "outputs": [
    {
     "name": "stdout",
     "output_type": "stream",
     "text": [
      "arr_0 ...-3 ...-2 ...-1 ...0 ...1 ...2 ...3 ...\n",
      "arr_1 ...-3 ...-2 ...-1 ...0 ...1 ...2 ...3 ...\n",
      "arr_2 ...-3 ...-2 ...-1 ...0 ...1 ...2 ...3 ...\n",
      "arr_3 ...-3 ...-2 ...-1 ...0 ...1 ...2 ...3 ...\n",
      "arr_4 ...-3 ...-2 ...-1 ...0 ...1 ...2 ...3 ...\n",
      "arr_5 ...-3 ...-2 ...-1 ...0 ...1 ...2 ...3 ...\n",
      "arr_6 ...-3 ...-2 ...-1 ...0 ...1 ...2 ...3 ...\n",
      "arr_7 ...-3 ...-2 ...-1 ...0 ...1 ...2 ...3 ...\n",
      "arr_8 ...-3 ...-2 ...-1 ...0 ...1 ...2 ...3 ...\n",
      "arr_9 ...-3 ...-2 ...-1 ...0 ...1 ...2 ...3 ...\n",
      "arr_10 ...-3 ...-2 ...-1 ...0 ...1 ...2 ...3 ...\n",
      "arr_11 ...-3 ...-2 ...-1 ...0 ...1 ...2 ...3 ...\n",
      "arr_12 ...-3 ...-2 ...-1 ...0 ...1 ...2 ...3 ...\n",
      "first and last layers ...0 ...\n"
     ]
    }
   ],
   "source": [
    "filter_name = '10 top toks'\n",
    "selected_toks = list(zip(*collections.Counter(corpus_toks).most_common(10)))[0]\n",
    "filters[filter_name] = [i for i, tok in enumerate(corpus_toks) if tok in selected_toks][:n_points]\n",
    "all_scores = all_scores.append(probe_identity(corpus_acts, corpus_contexts, filters[filter_name], filter_name=filter_name))\n",
    "all_scores = all_scores.append(probe_identity({'first and last layers': np.hstack([corpus_acts[layers[0]], corpus_acts[layers[-1]]])}, \n",
    "                                              corpus_contexts, filters[filter_name], filter_name=filter_name, gaps=[0]))"
   ]
  },
  {
   "cell_type": "code",
   "execution_count": null,
   "id": "5b0e479a-612b-4913-b50a-3962da6aec04",
   "metadata": {},
   "outputs": [
    {
     "name": "stdout",
     "output_type": "stream",
     "text": [
      "arr_0 ...-3 ...-2 ...-1 ...0 ...1 ...2 ...3 ...\n",
      "arr_1 ...-3 ...-2 ...-1 ...0 ...1 ...2 ...3 ...\n",
      "arr_2 ...-3 ...-2 ...-1 ...0 ...1 ...2 ...3 ...\n",
      "arr_3 ...-3 ...-2 ...-1 ...0 ...1 ...2 ...3 ...\n",
      "arr_4 ...-3 ..."
     ]
    }
   ],
   "source": [
    "filter_name = '100 top toks'\n",
    "selected_toks = list(zip(*collections.Counter(corpus_toks).most_common(100)))[0]\n",
    "filters[filter_name] = [i for i, tok in enumerate(corpus_toks) if tok in selected_toks][:n_points]\n",
    "all_scores = all_scores.append(probe_identity(corpus_acts, corpus_contexts, filters[filter_name], filter_name=filter_name, n_layers=None))\n",
    "all_scores = all_scores.append(probe_identity({'first and last layers': np.hstack([corpus_acts[layers[0]], corpus_acts[layers[-1]]])}, \n",
    "                                              corpus_contexts, filters[filter_name], filter_name=filter_name, gaps=[0]))"
   ]
  },
  {
   "cell_type": "code",
   "execution_count": null,
   "id": "72eb899b-bc39-4117-b1fe-603a5d7807ec",
   "metadata": {
    "tags": []
   },
   "outputs": [],
   "source": [
    "filter_name = '## toks'\n",
    "selected_toks = [tok for tok in vocab if tok.startswith('##')][:n_classes]\n",
    "filters[filter_name] = [i for i, tok in enumerate(corpus_toks) if tok in selected_toks][:n_points]\n",
    "all_scores = all_scores.append(probe_identity(corpus_acts, corpus_contexts, filters[filter_name], filter_name=filter_name, n_layers=None))\n",
    "all_scores = all_scores.append(probe_identity({'first and last layers': np.hstack([corpus_acts[layers[0]], corpus_acts[layers[-1]]])}, \n",
    "                                              corpus_contexts, filters[filter_name], filter_name=filter_name, gaps=[0]))"
   ]
  },
  {
   "cell_type": "code",
   "execution_count": null,
   "id": "b9afaf65-5f95-4ca1-8610-ce597168e08e",
   "metadata": {
    "tags": []
   },
   "outputs": [],
   "source": [
    "filter_name = 'random toks'\n",
    "selected_toks = random.sample(list(zip(*collections.Counter(corpus_toks).most_common(10000)))[0], n_classes)\n",
    "filters[filter_name] = [i for i, tok in enumerate(corpus_toks) if tok in selected_toks][:n_points]\n",
    "all_scores = all_scores.append(probe_identity(corpus_acts, corpus_contexts, filters[filter_name], filter_name=filter_name, n_layers=None))\n",
    "all_scores = all_scores.append(probe_identity({'first and last layers': np.hstack([corpus_acts[layers[0]], corpus_acts[layers[-1]]])}, \n",
    "                                              corpus_contexts, filters[filter_name], filter_name=filter_name, gaps=[0]))"
   ]
  },
  {
   "cell_type": "code",
   "execution_count": 149,
   "id": "ae86866c-e58a-4b8d-b0e4-707a0d661eee",
   "metadata": {},
   "outputs": [],
   "source": [
    "# THIS ONE DOESN\"T MAKE SENSE; WE NEED TO THINK MORE ABOUT HOW TO TEST FOR THIS\n",
    "# filter_name = '\\\"car\\\"'\n",
    "# selected_toks = ['car']\n",
    "# filters[filter_name] = [i for i, tok in enumerate(corpus_toks) if tok in selected_toks][:1000]\n",
    "# all_scores = all_scores.append(probe_identity(corpus_acts, corpus_contexts, filters[filter_name], filter_name=filter_name, n_layers=None))"
   ]
  },
  {
   "cell_type": "code",
   "execution_count": 26,
   "id": "42bd3fb0-8160-4ec8-b5eb-a95b37fd9a27",
   "metadata": {},
   "outputs": [],
   "source": [
    "def POS_tag(doc, pos): return nltk.pos_tag(doc)[pos][1]\n",
    "corpus_POS_tags = [POS_tag(*context) for context in corpus_contexts]"
   ]
  },
  {
   "cell_type": "code",
   "execution_count": 27,
   "id": "cc588ed9-6c9b-45f3-b5bb-93473d29ade7",
   "metadata": {},
   "outputs": [],
   "source": [
    "filter_name = 'verbs'\n",
    "filters[filter_name] = [i for i, tag in enumerate(corpus_POS_tags) if tag=='VB'][:n_points]\n",
    "all_scores = all_scores.append(probe_identity(corpus_acts, corpus_contexts, filters[filter_name], filter_name=filter_name, n_layers=None))"
   ]
  },
  {
   "cell_type": "code",
   "execution_count": null,
   "id": "814a5478-b881-490f-833c-7dabe272af0d",
   "metadata": {},
   "outputs": [],
   "source": [
    "filter_name = 'nouns'\n",
    "filters[filter_name] = [i for i, context in enumerate(corpus_contexts) if POS_tag(*context)=='NN'][:n_points]\n",
    "all_scores = all_scores.append(probe_identity(corpus_acts, corpus_contexts, filters[filter_name], filter_name=filter_name, n_layers=None))"
   ]
  },
  {
   "cell_type": "code",
   "execution_count": null,
   "id": "9feb94d3-85f9-422c-9814-7bd4a92cd702",
   "metadata": {},
   "outputs": [],
   "source": [
    "filter_name = 'adjectives'\n",
    "filters[filter_name] = [i for i, context in enumerate(corpus_contexts) if POS_tag(*context)=='JJ'][:n_points]\n",
    "all_scores = all_scores.append(probe_identity(corpus_acts, corpus_contexts, filters[filter_name], filter_name=filter_name, n_layers=None))"
   ]
  },
  {
   "cell_type": "markdown",
   "id": "8fd14442-45d5-4a25-a4e0-16eea928ce6a",
   "metadata": {},
   "source": [
    "## Add concatenated layer"
   ]
  },
  {
   "cell_type": "code",
   "execution_count": 8,
   "id": "2ca18aeb-fe86-4871-803f-4d46f67bdc7c",
   "metadata": {},
   "outputs": [],
   "source": [
    "from analysis_and_vis.vis_wiki_evolution.probe_folk_wisdom import _probe_identity"
   ]
  },
  {
   "cell_type": "code",
   "execution_count": null,
   "id": "5e9188f8-3ea8-4d60-89e6-cc4925a73c85",
   "metadata": {},
   "outputs": [],
   "source": [
    "_probe_identity({}, corpus_contexts, )"
   ]
  },
  {
   "cell_type": "markdown",
   "id": "0763b864-583d-4e76-9718-093900546d43",
   "metadata": {},
   "source": [
    "## Visualize context learning"
   ]
  },
  {
   "cell_type": "code",
   "execution_count": 5,
   "id": "49cfcfa0-c824-4faf-8130-3314a22a3965",
   "metadata": {},
   "outputs": [],
   "source": [
    "def show_heatmaps(all_scores):\n",
    "    fig = px.scatter(data_frame=all_scores, x='gap', y='layer', size='score', color='score', size_max=10,\n",
    "                color_continuous_scale=px.colors.sequential.Rainbow, title=f'Predicting token from neighbors',\n",
    "                facet_row='predicting')\n",
    "    n_plots = len(all_scores['predicting'].unique())\n",
    "    fig.update_layout(xaxis_dtick=1, xaxis_title='Relative position', yaxis_title='', autosize=False, height=500, width=n_plots*200+100)\n",
    "    fig.for_each_annotation(lambda a: a.update(text=a.text.split(\"=\")[-1]))     \n",
    "    # hide subplot y-axis titles\n",
    "    for axis in fig.layout:\n",
    "        if type(fig.layout[axis]) == go.layout.YAxis:\n",
    "            fig.layout[axis].title.text = ''\n",
    "    return fig"
   ]
  },
  {
   "cell_type": "code",
   "execution_count": 24,
   "id": "40999775-a716-431a-9924-05daaa0c5d08",
   "metadata": {},
   "outputs": [],
   "source": [
    "show_heatmaps(all_scores)"
   ]
  },
  {
   "cell_type": "markdown",
   "id": "f19b65f2-bb0a-4328-9aef-feb7210aa1af",
   "metadata": {
    "tags": []
   },
   "source": [
    "## Show scale of acts\n",
    "TODO: switch facet rows to independent subplots with independent color scales"
   ]
  },
  {
   "cell_type": "code",
   "execution_count": 16,
   "id": "77193833-4da7-4919-bdf4-5fbeb48fb7c8",
   "metadata": {},
   "outputs": [],
   "source": [
    "def var(acts):\n",
    "    acts = spherize(acts)\n",
    "    mean = np.mean(acts)\n",
    "    return sum([(np.linalg.norm(act-mean))**2 for act in acts])/(len(acts)-1)"
   ]
  },
  {
   "cell_type": "code",
   "execution_count": 17,
   "id": "93d3691f-450c-48cd-b2a0-ceaf5678281b",
   "metadata": {},
   "outputs": [],
   "source": [
    "def avg_dist(acts):\n",
    "    return np.mean([np.linalg.norm(act1-act2) for act1 in acts for act2 in acts])"
   ]
  },
  {
   "cell_type": "code",
   "execution_count": 18,
   "id": "c0996910-0989-4a6a-8e07-97a19bd05d27",
   "metadata": {},
   "outputs": [],
   "source": [
    "area = avg_dist\n",
    "n_points = 1000"
   ]
  },
  {
   "cell_type": "code",
   "execution_count": 15,
   "id": "49204e5b-b0a2-42ce-846d-af2cdb28b585",
   "metadata": {},
   "outputs": [],
   "source": [
    "def get_corpus_filter(corpus_toks, selected_toks, n_points=1000):\n",
    "    return [i for i, tok in enumerate(corpus_toks) if tok in selected_toks]"
   ]
  },
  {
   "cell_type": "code",
   "execution_count": 13,
   "id": "3a6ec119-d437-4a09-a8bf-e58c558ff1f8",
   "metadata": {},
   "outputs": [],
   "source": [
    "sizes = pd.DataFrame()"
   ]
  },
  {
   "cell_type": "code",
   "execution_count": 25,
   "id": "04d01da4-cbb4-495e-bb16-182611ffc10c",
   "metadata": {},
   "outputs": [
    {
     "name": "stdout",
     "output_type": "stream",
     "text": [
      "filtered\n"
     ]
    }
   ],
   "source": [
    "selected_tok = 'car'\n",
    "corpus_filter = get_corpus_filter(corpus_toks, [selected_tok])\n",
    "sizes = sizes.append(pd.DataFrame(columns=['space', 'layer','area'], data=[[f'\\\"{selected_tok}\\\"', layer, area(corpus_acts[layer][corpus_filter])] for layer in layers]))"
   ]
  },
  {
   "cell_type": "code",
   "execution_count": 37,
   "id": "47446ba2-57e7-4149-8683-333c0c6a40a0",
   "metadata": {},
   "outputs": [],
   "source": [
    "selected_tok = 'the'\n",
    "corpus_filter = get_corpus_filter(corpus_toks, [selected_tok])\n",
    "sizes = sizes.append(pd.DataFrame(columns=['space', 'layer','area'], data=[[f'\\\"{selected_tok}\\\"', layer, area(corpus_acts[layer][corpus_filter])] for layer in layers]))"
   ]
  },
  {
   "cell_type": "code",
   "execution_count": null,
   "id": "c43902a3-6903-4cd8-ad0f-73f37df558fa",
   "metadata": {},
   "outputs": [],
   "source": [
    "selected_tok = 'table'\n",
    "corpus_filter = get_corpus_filter(corpus_toks, [selected_tok])\n",
    "sizes = sizes.append(pd.DataFrame(columns=['space', 'layer','area'], data=[[f'\\\"{selected_tok}\\\"', layer, area(corpus_acts[layer][corpus_filter])] for layer in layers]))"
   ]
  },
  {
   "cell_type": "code",
   "execution_count": 25,
   "id": "5200dcee-d067-4eba-b700-16520f8428f6",
   "metadata": {},
   "outputs": [
    {
     "ename": "NameError",
     "evalue": "name 'get_corpus_filter' is not defined",
     "output_type": "error",
     "traceback": [
      "\u001b[0;31m---------------------------------------------------------------------------\u001b[0m",
      "\u001b[0;31mNameError\u001b[0m                                 Traceback (most recent call last)",
      "\u001b[0;32m<ipython-input-25-c2ccce9b8b6c>\u001b[0m in \u001b[0;36m<module>\u001b[0;34m\u001b[0m\n\u001b[1;32m      1\u001b[0m \u001b[0mselected_tok\u001b[0m \u001b[0;34m=\u001b[0m \u001b[0;34m'##s'\u001b[0m\u001b[0;34m\u001b[0m\u001b[0;34m\u001b[0m\u001b[0m\n\u001b[0;32m----> 2\u001b[0;31m \u001b[0mcorpus_filter\u001b[0m \u001b[0;34m=\u001b[0m \u001b[0mget_corpus_filter\u001b[0m\u001b[0;34m(\u001b[0m\u001b[0mcorpus_toks\u001b[0m\u001b[0;34m,\u001b[0m \u001b[0;34m[\u001b[0m\u001b[0mselected_tok\u001b[0m\u001b[0;34m]\u001b[0m\u001b[0;34m)\u001b[0m\u001b[0;34m\u001b[0m\u001b[0;34m\u001b[0m\u001b[0m\n\u001b[0m\u001b[1;32m      3\u001b[0m \u001b[0msizes\u001b[0m \u001b[0;34m=\u001b[0m \u001b[0msizes\u001b[0m\u001b[0;34m.\u001b[0m\u001b[0mappend\u001b[0m\u001b[0;34m(\u001b[0m\u001b[0mpd\u001b[0m\u001b[0;34m.\u001b[0m\u001b[0mDataFrame\u001b[0m\u001b[0;34m(\u001b[0m\u001b[0mcolumns\u001b[0m\u001b[0;34m=\u001b[0m\u001b[0;34m[\u001b[0m\u001b[0;34m'space'\u001b[0m\u001b[0;34m,\u001b[0m \u001b[0;34m'layer'\u001b[0m\u001b[0;34m,\u001b[0m\u001b[0;34m'area'\u001b[0m\u001b[0;34m]\u001b[0m\u001b[0;34m,\u001b[0m \u001b[0mdata\u001b[0m\u001b[0;34m=\u001b[0m\u001b[0;34m[\u001b[0m\u001b[0;34m[\u001b[0m\u001b[0;34mf'\\\"{selected_tok}\\\"'\u001b[0m\u001b[0;34m,\u001b[0m \u001b[0mlayer\u001b[0m\u001b[0;34m,\u001b[0m \u001b[0marea\u001b[0m\u001b[0;34m(\u001b[0m\u001b[0mcorpus_acts\u001b[0m\u001b[0;34m[\u001b[0m\u001b[0mlayer\u001b[0m\u001b[0;34m]\u001b[0m\u001b[0;34m[\u001b[0m\u001b[0mcorpus_filter\u001b[0m\u001b[0;34m]\u001b[0m\u001b[0;34m)\u001b[0m\u001b[0;34m]\u001b[0m \u001b[0;32mfor\u001b[0m \u001b[0mlayer\u001b[0m \u001b[0;32min\u001b[0m \u001b[0mlayers\u001b[0m\u001b[0;34m]\u001b[0m\u001b[0;34m)\u001b[0m\u001b[0;34m)\u001b[0m\u001b[0;34m\u001b[0m\u001b[0;34m\u001b[0m\u001b[0m\n",
      "\u001b[0;31mNameError\u001b[0m: name 'get_corpus_filter' is not defined"
     ]
    }
   ],
   "source": [
    "selected_tok = '##s'\n",
    "corpus_filter = get_corpus_filter(corpus_toks, [selected_tok])\n",
    "sizes = sizes.append(pd.DataFrame(columns=['space', 'layer','area'], data=[[f'\\\"{selected_tok}\\\"', layer, area(corpus_acts[layer][corpus_filter])] for layer in layers]))"
   ]
  },
  {
   "cell_type": "code",
   "execution_count": 28,
   "id": "0d75dc73-4c04-40bd-bedb-0d63a1e1d1ee",
   "metadata": {},
   "outputs": [],
   "source": [
    "# for filter_name, corpus_filter in filters.items():\n",
    "#     print(filter_name)\n",
    "#     all_sizes = all_sizes.append(pd.DataFrame(columns=['predicting', 'layer','area'], data=[[filter_name, layer, avg_dist(corpus_acts[layer][corpus_filter])] for layer in layers]))"
   ]
  },
  {
   "cell_type": "code",
   "execution_count": 44,
   "id": "56a8ef30-c82e-40fd-a0c5-5f64e1447e34",
   "metadata": {
    "tags": []
   },
   "outputs": [
    {
     "data": {
      "application/vnd.plotly.v1+json": {
       "config": {
        "plotlyServerURL": "https://plot.ly"
       },
       "data": [
        {
         "hovertemplate": "space=%{x}<br>layer=%{y}<br>area=%{marker.color}<extra></extra>",
         "legendgroup": "",
         "marker": {
          "color": [
           2.744574785232544,
           21.071022033691406,
           24.403587341308594,
           32.02556610107422,
           40.83172607421875,
           47.92790222167969,
           56.55691146850586,
           65.41043853759766,
           78.25617980957031,
           90.64806365966797,
           108.34886932373047,
           136.29742431640625,
           74.3751449584961
          ],
          "coloraxis": "coloraxis",
          "size": [
           2.744574785232544,
           21.071022033691406,
           24.403587341308594,
           32.02556610107422,
           40.83172607421875,
           47.92790222167969,
           56.55691146850586,
           65.41043853759766,
           78.25617980957031,
           90.64806365966797,
           108.34886932373047,
           136.29742431640625,
           74.3751449584961
          ],
          "sizemode": "area",
          "sizeref": 0.15144158257378473,
          "symbol": "circle"
         },
         "mode": "markers",
         "name": "",
         "orientation": "v",
         "showlegend": false,
         "type": "scatter",
         "x": [
          "\"car\"",
          "\"car\"",
          "\"car\"",
          "\"car\"",
          "\"car\"",
          "\"car\"",
          "\"car\"",
          "\"car\"",
          "\"car\"",
          "\"car\"",
          "\"car\"",
          "\"car\"",
          "\"car\""
         ],
         "xaxis": "x",
         "y": [
          "arr_0",
          "arr_1",
          "arr_2",
          "arr_3",
          "arr_4",
          "arr_5",
          "arr_6",
          "arr_7",
          "arr_8",
          "arr_9",
          "arr_10",
          "arr_11",
          "arr_12"
         ],
         "yaxis": "y"
        },
        {
         "hovertemplate": "space=%{x}<br>layer=%{y}<br>area=%{marker.color}<extra></extra>",
         "legendgroup": "",
         "marker": {
          "color": [
           1.9629617929458618,
           13.800762176513672,
           14.617047309875488,
           21.353912353515625,
           30.189346313476562,
           38.248252868652344,
           47.785221099853516,
           56.70896530151367,
           69.48698425292969,
           89.65045166015625,
           117.52928924560547,
           151.95358276367188,
           42.30388641357422
          ],
          "coloraxis": "coloraxis",
          "size": [
           1.9629617929458618,
           13.800762176513672,
           14.617047309875488,
           21.353912353515625,
           30.189346313476562,
           38.248252868652344,
           47.785221099853516,
           56.70896530151367,
           69.48698425292969,
           89.65045166015625,
           117.52928924560547,
           151.95358276367188,
           42.30388641357422
          ],
          "sizemode": "area",
          "sizeref": 0.16883731418185763,
          "symbol": "circle"
         },
         "mode": "markers",
         "name": "",
         "orientation": "v",
         "showlegend": false,
         "type": "scatter",
         "x": [
          "\"the\"",
          "\"the\"",
          "\"the\"",
          "\"the\"",
          "\"the\"",
          "\"the\"",
          "\"the\"",
          "\"the\"",
          "\"the\"",
          "\"the\"",
          "\"the\"",
          "\"the\"",
          "\"the\""
         ],
         "xaxis": "x2",
         "y": [
          "arr_0",
          "arr_1",
          "arr_2",
          "arr_3",
          "arr_4",
          "arr_5",
          "arr_6",
          "arr_7",
          "arr_8",
          "arr_9",
          "arr_10",
          "arr_11",
          "arr_12"
         ],
         "yaxis": "y2"
        }
       ],
       "layout": {
        "autosize": false,
        "height": 600,
        "template": {
         "data": {
          "bar": [
           {
            "error_x": {
             "color": "#2a3f5f"
            },
            "error_y": {
             "color": "#2a3f5f"
            },
            "marker": {
             "line": {
              "color": "#E5ECF6",
              "width": 0.5
             },
             "pattern": {
              "fillmode": "overlay",
              "size": 10,
              "solidity": 0.2
             }
            },
            "type": "bar"
           }
          ],
          "barpolar": [
           {
            "marker": {
             "line": {
              "color": "#E5ECF6",
              "width": 0.5
             },
             "pattern": {
              "fillmode": "overlay",
              "size": 10,
              "solidity": 0.2
             }
            },
            "type": "barpolar"
           }
          ],
          "carpet": [
           {
            "aaxis": {
             "endlinecolor": "#2a3f5f",
             "gridcolor": "white",
             "linecolor": "white",
             "minorgridcolor": "white",
             "startlinecolor": "#2a3f5f"
            },
            "baxis": {
             "endlinecolor": "#2a3f5f",
             "gridcolor": "white",
             "linecolor": "white",
             "minorgridcolor": "white",
             "startlinecolor": "#2a3f5f"
            },
            "type": "carpet"
           }
          ],
          "choropleth": [
           {
            "colorbar": {
             "outlinewidth": 0,
             "ticks": ""
            },
            "type": "choropleth"
           }
          ],
          "contour": [
           {
            "colorbar": {
             "outlinewidth": 0,
             "ticks": ""
            },
            "colorscale": [
             [
              0,
              "#0d0887"
             ],
             [
              0.1111111111111111,
              "#46039f"
             ],
             [
              0.2222222222222222,
              "#7201a8"
             ],
             [
              0.3333333333333333,
              "#9c179e"
             ],
             [
              0.4444444444444444,
              "#bd3786"
             ],
             [
              0.5555555555555556,
              "#d8576b"
             ],
             [
              0.6666666666666666,
              "#ed7953"
             ],
             [
              0.7777777777777778,
              "#fb9f3a"
             ],
             [
              0.8888888888888888,
              "#fdca26"
             ],
             [
              1,
              "#f0f921"
             ]
            ],
            "type": "contour"
           }
          ],
          "contourcarpet": [
           {
            "colorbar": {
             "outlinewidth": 0,
             "ticks": ""
            },
            "type": "contourcarpet"
           }
          ],
          "heatmap": [
           {
            "colorbar": {
             "outlinewidth": 0,
             "ticks": ""
            },
            "colorscale": [
             [
              0,
              "#0d0887"
             ],
             [
              0.1111111111111111,
              "#46039f"
             ],
             [
              0.2222222222222222,
              "#7201a8"
             ],
             [
              0.3333333333333333,
              "#9c179e"
             ],
             [
              0.4444444444444444,
              "#bd3786"
             ],
             [
              0.5555555555555556,
              "#d8576b"
             ],
             [
              0.6666666666666666,
              "#ed7953"
             ],
             [
              0.7777777777777778,
              "#fb9f3a"
             ],
             [
              0.8888888888888888,
              "#fdca26"
             ],
             [
              1,
              "#f0f921"
             ]
            ],
            "type": "heatmap"
           }
          ],
          "heatmapgl": [
           {
            "colorbar": {
             "outlinewidth": 0,
             "ticks": ""
            },
            "colorscale": [
             [
              0,
              "#0d0887"
             ],
             [
              0.1111111111111111,
              "#46039f"
             ],
             [
              0.2222222222222222,
              "#7201a8"
             ],
             [
              0.3333333333333333,
              "#9c179e"
             ],
             [
              0.4444444444444444,
              "#bd3786"
             ],
             [
              0.5555555555555556,
              "#d8576b"
             ],
             [
              0.6666666666666666,
              "#ed7953"
             ],
             [
              0.7777777777777778,
              "#fb9f3a"
             ],
             [
              0.8888888888888888,
              "#fdca26"
             ],
             [
              1,
              "#f0f921"
             ]
            ],
            "type": "heatmapgl"
           }
          ],
          "histogram": [
           {
            "marker": {
             "pattern": {
              "fillmode": "overlay",
              "size": 10,
              "solidity": 0.2
             }
            },
            "type": "histogram"
           }
          ],
          "histogram2d": [
           {
            "colorbar": {
             "outlinewidth": 0,
             "ticks": ""
            },
            "colorscale": [
             [
              0,
              "#0d0887"
             ],
             [
              0.1111111111111111,
              "#46039f"
             ],
             [
              0.2222222222222222,
              "#7201a8"
             ],
             [
              0.3333333333333333,
              "#9c179e"
             ],
             [
              0.4444444444444444,
              "#bd3786"
             ],
             [
              0.5555555555555556,
              "#d8576b"
             ],
             [
              0.6666666666666666,
              "#ed7953"
             ],
             [
              0.7777777777777778,
              "#fb9f3a"
             ],
             [
              0.8888888888888888,
              "#fdca26"
             ],
             [
              1,
              "#f0f921"
             ]
            ],
            "type": "histogram2d"
           }
          ],
          "histogram2dcontour": [
           {
            "colorbar": {
             "outlinewidth": 0,
             "ticks": ""
            },
            "colorscale": [
             [
              0,
              "#0d0887"
             ],
             [
              0.1111111111111111,
              "#46039f"
             ],
             [
              0.2222222222222222,
              "#7201a8"
             ],
             [
              0.3333333333333333,
              "#9c179e"
             ],
             [
              0.4444444444444444,
              "#bd3786"
             ],
             [
              0.5555555555555556,
              "#d8576b"
             ],
             [
              0.6666666666666666,
              "#ed7953"
             ],
             [
              0.7777777777777778,
              "#fb9f3a"
             ],
             [
              0.8888888888888888,
              "#fdca26"
             ],
             [
              1,
              "#f0f921"
             ]
            ],
            "type": "histogram2dcontour"
           }
          ],
          "mesh3d": [
           {
            "colorbar": {
             "outlinewidth": 0,
             "ticks": ""
            },
            "type": "mesh3d"
           }
          ],
          "parcoords": [
           {
            "line": {
             "colorbar": {
              "outlinewidth": 0,
              "ticks": ""
             }
            },
            "type": "parcoords"
           }
          ],
          "pie": [
           {
            "automargin": true,
            "type": "pie"
           }
          ],
          "scatter": [
           {
            "marker": {
             "colorbar": {
              "outlinewidth": 0,
              "ticks": ""
             }
            },
            "type": "scatter"
           }
          ],
          "scatter3d": [
           {
            "line": {
             "colorbar": {
              "outlinewidth": 0,
              "ticks": ""
             }
            },
            "marker": {
             "colorbar": {
              "outlinewidth": 0,
              "ticks": ""
             }
            },
            "type": "scatter3d"
           }
          ],
          "scattercarpet": [
           {
            "marker": {
             "colorbar": {
              "outlinewidth": 0,
              "ticks": ""
             }
            },
            "type": "scattercarpet"
           }
          ],
          "scattergeo": [
           {
            "marker": {
             "colorbar": {
              "outlinewidth": 0,
              "ticks": ""
             }
            },
            "type": "scattergeo"
           }
          ],
          "scattergl": [
           {
            "marker": {
             "colorbar": {
              "outlinewidth": 0,
              "ticks": ""
             }
            },
            "type": "scattergl"
           }
          ],
          "scattermapbox": [
           {
            "marker": {
             "colorbar": {
              "outlinewidth": 0,
              "ticks": ""
             }
            },
            "type": "scattermapbox"
           }
          ],
          "scatterpolar": [
           {
            "marker": {
             "colorbar": {
              "outlinewidth": 0,
              "ticks": ""
             }
            },
            "type": "scatterpolar"
           }
          ],
          "scatterpolargl": [
           {
            "marker": {
             "colorbar": {
              "outlinewidth": 0,
              "ticks": ""
             }
            },
            "type": "scatterpolargl"
           }
          ],
          "scatterternary": [
           {
            "marker": {
             "colorbar": {
              "outlinewidth": 0,
              "ticks": ""
             }
            },
            "type": "scatterternary"
           }
          ],
          "surface": [
           {
            "colorbar": {
             "outlinewidth": 0,
             "ticks": ""
            },
            "colorscale": [
             [
              0,
              "#0d0887"
             ],
             [
              0.1111111111111111,
              "#46039f"
             ],
             [
              0.2222222222222222,
              "#7201a8"
             ],
             [
              0.3333333333333333,
              "#9c179e"
             ],
             [
              0.4444444444444444,
              "#bd3786"
             ],
             [
              0.5555555555555556,
              "#d8576b"
             ],
             [
              0.6666666666666666,
              "#ed7953"
             ],
             [
              0.7777777777777778,
              "#fb9f3a"
             ],
             [
              0.8888888888888888,
              "#fdca26"
             ],
             [
              1,
              "#f0f921"
             ]
            ],
            "type": "surface"
           }
          ],
          "table": [
           {
            "cells": {
             "fill": {
              "color": "#EBF0F8"
             },
             "line": {
              "color": "white"
             }
            },
            "header": {
             "fill": {
              "color": "#C8D4E3"
             },
             "line": {
              "color": "white"
             }
            },
            "type": "table"
           }
          ]
         },
         "layout": {
          "annotationdefaults": {
           "arrowcolor": "#2a3f5f",
           "arrowhead": 0,
           "arrowwidth": 1
          },
          "autotypenumbers": "strict",
          "coloraxis": {
           "colorbar": {
            "outlinewidth": 0,
            "ticks": ""
           }
          },
          "colorscale": {
           "diverging": [
            [
             0,
             "#8e0152"
            ],
            [
             0.1,
             "#c51b7d"
            ],
            [
             0.2,
             "#de77ae"
            ],
            [
             0.3,
             "#f1b6da"
            ],
            [
             0.4,
             "#fde0ef"
            ],
            [
             0.5,
             "#f7f7f7"
            ],
            [
             0.6,
             "#e6f5d0"
            ],
            [
             0.7,
             "#b8e186"
            ],
            [
             0.8,
             "#7fbc41"
            ],
            [
             0.9,
             "#4d9221"
            ],
            [
             1,
             "#276419"
            ]
           ],
           "sequential": [
            [
             0,
             "#0d0887"
            ],
            [
             0.1111111111111111,
             "#46039f"
            ],
            [
             0.2222222222222222,
             "#7201a8"
            ],
            [
             0.3333333333333333,
             "#9c179e"
            ],
            [
             0.4444444444444444,
             "#bd3786"
            ],
            [
             0.5555555555555556,
             "#d8576b"
            ],
            [
             0.6666666666666666,
             "#ed7953"
            ],
            [
             0.7777777777777778,
             "#fb9f3a"
            ],
            [
             0.8888888888888888,
             "#fdca26"
            ],
            [
             1,
             "#f0f921"
            ]
           ],
           "sequentialminus": [
            [
             0,
             "#0d0887"
            ],
            [
             0.1111111111111111,
             "#46039f"
            ],
            [
             0.2222222222222222,
             "#7201a8"
            ],
            [
             0.3333333333333333,
             "#9c179e"
            ],
            [
             0.4444444444444444,
             "#bd3786"
            ],
            [
             0.5555555555555556,
             "#d8576b"
            ],
            [
             0.6666666666666666,
             "#ed7953"
            ],
            [
             0.7777777777777778,
             "#fb9f3a"
            ],
            [
             0.8888888888888888,
             "#fdca26"
            ],
            [
             1,
             "#f0f921"
            ]
           ]
          },
          "colorway": [
           "#636efa",
           "#EF553B",
           "#00cc96",
           "#ab63fa",
           "#FFA15A",
           "#19d3f3",
           "#FF6692",
           "#B6E880",
           "#FF97FF",
           "#FECB52"
          ],
          "font": {
           "color": "#2a3f5f"
          },
          "geo": {
           "bgcolor": "white",
           "lakecolor": "white",
           "landcolor": "#E5ECF6",
           "showlakes": true,
           "showland": true,
           "subunitcolor": "white"
          },
          "hoverlabel": {
           "align": "left"
          },
          "hovermode": "closest",
          "mapbox": {
           "style": "light"
          },
          "paper_bgcolor": "white",
          "plot_bgcolor": "#E5ECF6",
          "polar": {
           "angularaxis": {
            "gridcolor": "white",
            "linecolor": "white",
            "ticks": ""
           },
           "bgcolor": "#E5ECF6",
           "radialaxis": {
            "gridcolor": "white",
            "linecolor": "white",
            "ticks": ""
           }
          },
          "scene": {
           "xaxis": {
            "backgroundcolor": "#E5ECF6",
            "gridcolor": "white",
            "gridwidth": 2,
            "linecolor": "white",
            "showbackground": true,
            "ticks": "",
            "zerolinecolor": "white"
           },
           "yaxis": {
            "backgroundcolor": "#E5ECF6",
            "gridcolor": "white",
            "gridwidth": 2,
            "linecolor": "white",
            "showbackground": true,
            "ticks": "",
            "zerolinecolor": "white"
           },
           "zaxis": {
            "backgroundcolor": "#E5ECF6",
            "gridcolor": "white",
            "gridwidth": 2,
            "linecolor": "white",
            "showbackground": true,
            "ticks": "",
            "zerolinecolor": "white"
           }
          },
          "shapedefaults": {
           "line": {
            "color": "#2a3f5f"
           }
          },
          "ternary": {
           "aaxis": {
            "gridcolor": "white",
            "linecolor": "white",
            "ticks": ""
           },
           "baxis": {
            "gridcolor": "white",
            "linecolor": "white",
            "ticks": ""
           },
           "bgcolor": "#E5ECF6",
           "caxis": {
            "gridcolor": "white",
            "linecolor": "white",
            "ticks": ""
           }
          },
          "title": {
           "x": 0.05
          },
          "xaxis": {
           "automargin": true,
           "gridcolor": "white",
           "linecolor": "white",
           "ticks": "",
           "title": {
            "standoff": 15
           },
           "zerolinecolor": "white",
           "zerolinewidth": 2
          },
          "yaxis": {
           "automargin": true,
           "gridcolor": "white",
           "linecolor": "white",
           "ticks": "",
           "title": {
            "standoff": 15
           },
           "zerolinecolor": "white",
           "zerolinewidth": 2
          }
         }
        },
        "width": 600,
        "xaxis": {
         "anchor": "y",
         "autorange": true,
         "domain": [
          0,
          0.45
         ],
         "range": [
          -1,
          1
         ],
         "title": {},
         "type": "category"
        },
        "xaxis2": {
         "anchor": "y2",
         "autorange": true,
         "domain": [
          0.55,
          1
         ],
         "range": [
          -1,
          1
         ],
         "type": "category"
        },
        "yaxis": {
         "anchor": "x",
         "autorange": true,
         "domain": [
          0,
          1
         ],
         "range": [
          -0.8187470502095417,
          13.294370794124717
         ],
         "type": "category"
        },
        "yaxis2": {
         "anchor": "x2",
         "autorange": true,
         "domain": [
          0,
          1
         ],
         "range": [
          -0.7945134290216181,
          13.109471578856699
         ],
         "type": "category"
        }
       }
      },
      "image/png": "[encoded data removed]",
      "text/html": [
       "<div>                            <div id=\"917b343f-68f9-4a97-b2e1-23cb2d0094cc\" class=\"plotly-graph-div\" style=\"height:600px; width:600px;\"></div>            <script type=\"text/javascript\">                require([\"plotly\"], function(Plotly) {                    window.PLOTLYENV=window.PLOTLYENV || {};                                    if (document.getElementById(\"917b343f-68f9-4a97-b2e1-23cb2d0094cc\")) {                    Plotly.newPlot(                        \"917b343f-68f9-4a97-b2e1-23cb2d0094cc\",                        [{\"hovertemplate\":\"space=%{x}<br>layer=%{y}<br>area=%{marker.color}<extra></extra>\",\"legendgroup\":\"\",\"marker\":{\"color\":[2.744574785232544,21.071022033691406,24.403587341308594,32.02556610107422,40.83172607421875,47.92790222167969,56.55691146850586,65.41043853759766,78.25617980957031,90.64806365966797,108.34886932373047,136.29742431640625,74.3751449584961],\"coloraxis\":\"coloraxis\",\"size\":[2.744574785232544,21.071022033691406,24.403587341308594,32.02556610107422,40.83172607421875,47.92790222167969,56.55691146850586,65.41043853759766,78.25617980957031,90.64806365966797,108.34886932373047,136.29742431640625,74.3751449584961],\"sizemode\":\"area\",\"sizeref\":0.15144158257378473,\"symbol\":\"circle\"},\"mode\":\"markers\",\"name\":\"\",\"orientation\":\"v\",\"showlegend\":false,\"type\":\"scatter\",\"x\":[\"\\\"car\\\"\",\"\\\"car\\\"\",\"\\\"car\\\"\",\"\\\"car\\\"\",\"\\\"car\\\"\",\"\\\"car\\\"\",\"\\\"car\\\"\",\"\\\"car\\\"\",\"\\\"car\\\"\",\"\\\"car\\\"\",\"\\\"car\\\"\",\"\\\"car\\\"\",\"\\\"car\\\"\"],\"xaxis\":\"x\",\"y\":[\"arr_0\",\"arr_1\",\"arr_2\",\"arr_3\",\"arr_4\",\"arr_5\",\"arr_6\",\"arr_7\",\"arr_8\",\"arr_9\",\"arr_10\",\"arr_11\",\"arr_12\"],\"yaxis\":\"y\"},{\"hovertemplate\":\"space=%{x}<br>layer=%{y}<br>area=%{marker.color}<extra></extra>\",\"legendgroup\":\"\",\"marker\":{\"color\":[1.9629617929458618,13.800762176513672,14.617047309875488,21.353912353515625,30.189346313476562,38.248252868652344,47.785221099853516,56.70896530151367,69.48698425292969,89.65045166015625,117.52928924560547,151.95358276367188,42.30388641357422],\"coloraxis\":\"coloraxis\",\"size\":[1.9629617929458618,13.800762176513672,14.617047309875488,21.353912353515625,30.189346313476562,38.248252868652344,47.785221099853516,56.70896530151367,69.48698425292969,89.65045166015625,117.52928924560547,151.95358276367188,42.30388641357422],\"sizemode\":\"area\",\"sizeref\":0.16883731418185763,\"symbol\":\"circle\"},\"mode\":\"markers\",\"name\":\"\",\"orientation\":\"v\",\"showlegend\":false,\"type\":\"scatter\",\"x\":[\"\\\"the\\\"\",\"\\\"the\\\"\",\"\\\"the\\\"\",\"\\\"the\\\"\",\"\\\"the\\\"\",\"\\\"the\\\"\",\"\\\"the\\\"\",\"\\\"the\\\"\",\"\\\"the\\\"\",\"\\\"the\\\"\",\"\\\"the\\\"\",\"\\\"the\\\"\",\"\\\"the\\\"\"],\"xaxis\":\"x2\",\"y\":[\"arr_0\",\"arr_1\",\"arr_2\",\"arr_3\",\"arr_4\",\"arr_5\",\"arr_6\",\"arr_7\",\"arr_8\",\"arr_9\",\"arr_10\",\"arr_11\",\"arr_12\"],\"yaxis\":\"y2\"}],                        {\"autosize\":false,\"height\":600,\"template\":{\"data\":{\"bar\":[{\"error_x\":{\"color\":\"#2a3f5f\"},\"error_y\":{\"color\":\"#2a3f5f\"},\"marker\":{\"line\":{\"color\":\"#E5ECF6\",\"width\":0.5},\"pattern\":{\"fillmode\":\"overlay\",\"size\":10,\"solidity\":0.2}},\"type\":\"bar\"}],\"barpolar\":[{\"marker\":{\"line\":{\"color\":\"#E5ECF6\",\"width\":0.5},\"pattern\":{\"fillmode\":\"overlay\",\"size\":10,\"solidity\":0.2}},\"type\":\"barpolar\"}],\"carpet\":[{\"aaxis\":{\"endlinecolor\":\"#2a3f5f\",\"gridcolor\":\"white\",\"linecolor\":\"white\",\"minorgridcolor\":\"white\",\"startlinecolor\":\"#2a3f5f\"},\"baxis\":{\"endlinecolor\":\"#2a3f5f\",\"gridcolor\":\"white\",\"linecolor\":\"white\",\"minorgridcolor\":\"white\",\"startlinecolor\":\"#2a3f5f\"},\"type\":\"carpet\"}],\"choropleth\":[{\"colorbar\":{\"outlinewidth\":0,\"ticks\":\"\"},\"type\":\"choropleth\"}],\"contour\":[{\"colorbar\":{\"outlinewidth\":0,\"ticks\":\"\"},\"colorscale\":[[0.0,\"#0d0887\"],[0.1111111111111111,\"#46039f\"],[0.2222222222222222,\"#7201a8\"],[0.3333333333333333,\"#9c179e\"],[0.4444444444444444,\"#bd3786\"],[0.5555555555555556,\"#d8576b\"],[0.6666666666666666,\"#ed7953\"],[0.7777777777777778,\"#fb9f3a\"],[0.8888888888888888,\"#fdca26\"],[1.0,\"#f0f921\"]],\"type\":\"contour\"}],\"contourcarpet\":[{\"colorbar\":{\"outlinewidth\":0,\"ticks\":\"\"},\"type\":\"contourcarpet\"}],\"heatmap\":[{\"colorbar\":{\"outlinewidth\":0,\"ticks\":\"\"},\"colorscale\":[[0.0,\"#0d0887\"],[0.1111111111111111,\"#46039f\"],[0.2222222222222222,\"#7201a8\"],[0.3333333333333333,\"#9c179e\"],[0.4444444444444444,\"#bd3786\"],[0.5555555555555556,\"#d8576b\"],[0.6666666666666666,\"#ed7953\"],[0.7777777777777778,\"#fb9f3a\"],[0.8888888888888888,\"#fdca26\"],[1.0,\"#f0f921\"]],\"type\":\"heatmap\"}],\"heatmapgl\":[{\"colorbar\":{\"outlinewidth\":0,\"ticks\":\"\"},\"colorscale\":[[0.0,\"#0d0887\"],[0.1111111111111111,\"#46039f\"],[0.2222222222222222,\"#7201a8\"],[0.3333333333333333,\"#9c179e\"],[0.4444444444444444,\"#bd3786\"],[0.5555555555555556,\"#d8576b\"],[0.6666666666666666,\"#ed7953\"],[0.7777777777777778,\"#fb9f3a\"],[0.8888888888888888,\"#fdca26\"],[1.0,\"#f0f921\"]],\"type\":\"heatmapgl\"}],\"histogram\":[{\"marker\":{\"pattern\":{\"fillmode\":\"overlay\",\"size\":10,\"solidity\":0.2}},\"type\":\"histogram\"}],\"histogram2d\":[{\"colorbar\":{\"outlinewidth\":0,\"ticks\":\"\"},\"colorscale\":[[0.0,\"#0d0887\"],[0.1111111111111111,\"#46039f\"],[0.2222222222222222,\"#7201a8\"],[0.3333333333333333,\"#9c179e\"],[0.4444444444444444,\"#bd3786\"],[0.5555555555555556,\"#d8576b\"],[0.6666666666666666,\"#ed7953\"],[0.7777777777777778,\"#fb9f3a\"],[0.8888888888888888,\"#fdca26\"],[1.0,\"#f0f921\"]],\"type\":\"histogram2d\"}],\"histogram2dcontour\":[{\"colorbar\":{\"outlinewidth\":0,\"ticks\":\"\"},\"colorscale\":[[0.0,\"#0d0887\"],[0.1111111111111111,\"#46039f\"],[0.2222222222222222,\"#7201a8\"],[0.3333333333333333,\"#9c179e\"],[0.4444444444444444,\"#bd3786\"],[0.5555555555555556,\"#d8576b\"],[0.6666666666666666,\"#ed7953\"],[0.7777777777777778,\"#fb9f3a\"],[0.8888888888888888,\"#fdca26\"],[1.0,\"#f0f921\"]],\"type\":\"histogram2dcontour\"}],\"mesh3d\":[{\"colorbar\":{\"outlinewidth\":0,\"ticks\":\"\"},\"type\":\"mesh3d\"}],\"parcoords\":[{\"line\":{\"colorbar\":{\"outlinewidth\":0,\"ticks\":\"\"}},\"type\":\"parcoords\"}],\"pie\":[{\"automargin\":true,\"type\":\"pie\"}],\"scatter\":[{\"marker\":{\"colorbar\":{\"outlinewidth\":0,\"ticks\":\"\"}},\"type\":\"scatter\"}],\"scatter3d\":[{\"line\":{\"colorbar\":{\"outlinewidth\":0,\"ticks\":\"\"}},\"marker\":{\"colorbar\":{\"outlinewidth\":0,\"ticks\":\"\"}},\"type\":\"scatter3d\"}],\"scattercarpet\":[{\"marker\":{\"colorbar\":{\"outlinewidth\":0,\"ticks\":\"\"}},\"type\":\"scattercarpet\"}],\"scattergeo\":[{\"marker\":{\"colorbar\":{\"outlinewidth\":0,\"ticks\":\"\"}},\"type\":\"scattergeo\"}],\"scattergl\":[{\"marker\":{\"colorbar\":{\"outlinewidth\":0,\"ticks\":\"\"}},\"type\":\"scattergl\"}],\"scattermapbox\":[{\"marker\":{\"colorbar\":{\"outlinewidth\":0,\"ticks\":\"\"}},\"type\":\"scattermapbox\"}],\"scatterpolar\":[{\"marker\":{\"colorbar\":{\"outlinewidth\":0,\"ticks\":\"\"}},\"type\":\"scatterpolar\"}],\"scatterpolargl\":[{\"marker\":{\"colorbar\":{\"outlinewidth\":0,\"ticks\":\"\"}},\"type\":\"scatterpolargl\"}],\"scatterternary\":[{\"marker\":{\"colorbar\":{\"outlinewidth\":0,\"ticks\":\"\"}},\"type\":\"scatterternary\"}],\"surface\":[{\"colorbar\":{\"outlinewidth\":0,\"ticks\":\"\"},\"colorscale\":[[0.0,\"#0d0887\"],[0.1111111111111111,\"#46039f\"],[0.2222222222222222,\"#7201a8\"],[0.3333333333333333,\"#9c179e\"],[0.4444444444444444,\"#bd3786\"],[0.5555555555555556,\"#d8576b\"],[0.6666666666666666,\"#ed7953\"],[0.7777777777777778,\"#fb9f3a\"],[0.8888888888888888,\"#fdca26\"],[1.0,\"#f0f921\"]],\"type\":\"surface\"}],\"table\":[{\"cells\":{\"fill\":{\"color\":\"#EBF0F8\"},\"line\":{\"color\":\"white\"}},\"header\":{\"fill\":{\"color\":\"#C8D4E3\"},\"line\":{\"color\":\"white\"}},\"type\":\"table\"}]},\"layout\":{\"annotationdefaults\":{\"arrowcolor\":\"#2a3f5f\",\"arrowhead\":0,\"arrowwidth\":1},\"autotypenumbers\":\"strict\",\"coloraxis\":{\"colorbar\":{\"outlinewidth\":0,\"ticks\":\"\"}},\"colorscale\":{\"diverging\":[[0,\"#8e0152\"],[0.1,\"#c51b7d\"],[0.2,\"#de77ae\"],[0.3,\"#f1b6da\"],[0.4,\"#fde0ef\"],[0.5,\"#f7f7f7\"],[0.6,\"#e6f5d0\"],[0.7,\"#b8e186\"],[0.8,\"#7fbc41\"],[0.9,\"#4d9221\"],[1,\"#276419\"]],\"sequential\":[[0.0,\"#0d0887\"],[0.1111111111111111,\"#46039f\"],[0.2222222222222222,\"#7201a8\"],[0.3333333333333333,\"#9c179e\"],[0.4444444444444444,\"#bd3786\"],[0.5555555555555556,\"#d8576b\"],[0.6666666666666666,\"#ed7953\"],[0.7777777777777778,\"#fb9f3a\"],[0.8888888888888888,\"#fdca26\"],[1.0,\"#f0f921\"]],\"sequentialminus\":[[0.0,\"#0d0887\"],[0.1111111111111111,\"#46039f\"],[0.2222222222222222,\"#7201a8\"],[0.3333333333333333,\"#9c179e\"],[0.4444444444444444,\"#bd3786\"],[0.5555555555555556,\"#d8576b\"],[0.6666666666666666,\"#ed7953\"],[0.7777777777777778,\"#fb9f3a\"],[0.8888888888888888,\"#fdca26\"],[1.0,\"#f0f921\"]]},\"colorway\":[\"#636efa\",\"#EF553B\",\"#00cc96\",\"#ab63fa\",\"#FFA15A\",\"#19d3f3\",\"#FF6692\",\"#B6E880\",\"#FF97FF\",\"#FECB52\"],\"font\":{\"color\":\"#2a3f5f\"},\"geo\":{\"bgcolor\":\"white\",\"lakecolor\":\"white\",\"landcolor\":\"#E5ECF6\",\"showlakes\":true,\"showland\":true,\"subunitcolor\":\"white\"},\"hoverlabel\":{\"align\":\"left\"},\"hovermode\":\"closest\",\"mapbox\":{\"style\":\"light\"},\"paper_bgcolor\":\"white\",\"plot_bgcolor\":\"#E5ECF6\",\"polar\":{\"angularaxis\":{\"gridcolor\":\"white\",\"linecolor\":\"white\",\"ticks\":\"\"},\"bgcolor\":\"#E5ECF6\",\"radialaxis\":{\"gridcolor\":\"white\",\"linecolor\":\"white\",\"ticks\":\"\"}},\"scene\":{\"xaxis\":{\"backgroundcolor\":\"#E5ECF6\",\"gridcolor\":\"white\",\"gridwidth\":2,\"linecolor\":\"white\",\"showbackground\":true,\"ticks\":\"\",\"zerolinecolor\":\"white\"},\"yaxis\":{\"backgroundcolor\":\"#E5ECF6\",\"gridcolor\":\"white\",\"gridwidth\":2,\"linecolor\":\"white\",\"showbackground\":true,\"ticks\":\"\",\"zerolinecolor\":\"white\"},\"zaxis\":{\"backgroundcolor\":\"#E5ECF6\",\"gridcolor\":\"white\",\"gridwidth\":2,\"linecolor\":\"white\",\"showbackground\":true,\"ticks\":\"\",\"zerolinecolor\":\"white\"}},\"shapedefaults\":{\"line\":{\"color\":\"#2a3f5f\"}},\"ternary\":{\"aaxis\":{\"gridcolor\":\"white\",\"linecolor\":\"white\",\"ticks\":\"\"},\"baxis\":{\"gridcolor\":\"white\",\"linecolor\":\"white\",\"ticks\":\"\"},\"bgcolor\":\"#E5ECF6\",\"caxis\":{\"gridcolor\":\"white\",\"linecolor\":\"white\",\"ticks\":\"\"}},\"title\":{\"x\":0.05},\"xaxis\":{\"automargin\":true,\"gridcolor\":\"white\",\"linecolor\":\"white\",\"ticks\":\"\",\"title\":{\"standoff\":15},\"zerolinecolor\":\"white\",\"zerolinewidth\":2},\"yaxis\":{\"automargin\":true,\"gridcolor\":\"white\",\"linecolor\":\"white\",\"ticks\":\"\",\"title\":{\"standoff\":15},\"zerolinecolor\":\"white\",\"zerolinewidth\":2}}},\"width\":600,\"xaxis\":{\"anchor\":\"y\",\"domain\":[0.0,0.45],\"title\":{}},\"xaxis2\":{\"anchor\":\"y2\",\"domain\":[0.55,1.0]},\"yaxis\":{\"anchor\":\"x\",\"domain\":[0.0,1.0]},\"yaxis2\":{\"anchor\":\"x2\",\"domain\":[0.0,1.0]}},                        {\"responsive\": true}                    ).then(function(){\n",
       "                            \n",
       "var gd = document.getElementById('917b343f-68f9-4a97-b2e1-23cb2d0094cc');\n",
       "var x = new MutationObserver(function (mutations, observer) {{\n",
       "        var display = window.getComputedStyle(gd).display;\n",
       "        if (!display || display === 'none') {{\n",
       "            console.log([gd, 'removed!']);\n",
       "            Plotly.purge(gd);\n",
       "            observer.disconnect();\n",
       "        }}\n",
       "}});\n",
       "\n",
       "// Listen for the removal of the full notebook cells\n",
       "var notebookContainer = gd.closest('#notebook-container');\n",
       "if (notebookContainer) {{\n",
       "    x.observe(notebookContainer, {childList: true});\n",
       "}}\n",
       "\n",
       "// Listen for the clearing of the current output cell\n",
       "var outputEl = gd.closest('.output');\n",
       "if (outputEl) {{\n",
       "    x.observe(outputEl, {childList: true});\n",
       "}}\n",
       "\n",
       "                        })                };                });            </script>        </div>"
      ]
     },
     "metadata": {},
     "output_type": "display_data"
    }
   ],
   "source": [
    "# vis\n",
    "\n",
    "# names = ['car','the',]\n",
    "# fig = make_subplots(rows=1, cols=len(names))\n",
    "# for i, name in enumerate(names):\n",
    "#     fig.append_trace(px.scatter(data_frame=sizes[sizes['space']==f'\\\"{name}\\\"'], x='space', y='layer', size='area', color='area', size_max=30,\n",
    "#                            color_continuous_scale=px.colors.sequential.Rainbow)['data'][0], row=1, col=i+1)\n",
    "\n",
    "px.scatter(data_frame=sizes[sizes['space']==f'\\\"{name}\\\"'], x='space', y='layer', size='area', color='area', size_max=30,\n",
    "                           color_continuous_scale=px.colors.sequential.Rainbow, facet)\n",
    "fig.update_layout(autosize=False, height=600, width=300*len(names), xaxis_title=None)"
   ]
  },
  {
   "cell_type": "code",
   "execution_count": null,
   "id": "cdc877e3-eac2-4630-a69b-a0923e0db8a2",
   "metadata": {},
   "outputs": [],
   "source": [
    "# vis\n",
    "fig = make_subplots(rows=1, cols=2)\n",
    "\n",
    "fig.add_trace(px.scatter(data_frame=sizes[sizes['space']=='\\\"car\\\"'], x='space', y='layer', size='area', color='area', size_max=10), row=1, col=1)\n",
    "fig.add_trace(px.scatter(data_frame=sizes[sizes['space']=='\\\"car\\\"'], x='space', y='layer', size='area', color='area', size_max=10,\n",
    "            color_continuous_scale=px.colors.sequential.Rainbow, title=f'Area'), row=1, col=2)\n",
    "\n",
    "fig.update_layout(autosize=False, height=500, width=300, xaxis_title=None)"
   ]
  },
  {
   "cell_type": "markdown",
   "id": "12f7e172-c81f-46b4-b264-3862b7007987",
   "metadata": {
    "tags": []
   },
   "source": [
    "## Does layer 0 help with identity? "
   ]
  },
  {
   "cell_type": "code",
   "execution_count": 212,
   "id": "78af5358-338d-4a76-ad06-b19d933532b6",
   "metadata": {},
   "outputs": [
    {
     "data": {
      "text/html": [
       "<div>\n",
       "<style scoped>\n",
       "    .dataframe tbody tr th:only-of-type {\n",
       "        vertical-align: middle;\n",
       "    }\n",
       "\n",
       "    .dataframe tbody tr th {\n",
       "        vertical-align: top;\n",
       "    }\n",
       "\n",
       "    .dataframe thead th {\n",
       "        text-align: right;\n",
       "    }\n",
       "</style>\n",
       "<table border=\"1\" class=\"dataframe\">\n",
       "  <thead>\n",
       "    <tr style=\"text-align: right;\">\n",
       "      <th></th>\n",
       "      <th>layer</th>\n",
       "      <th>gap</th>\n",
       "      <th>score</th>\n",
       "      <th>predicting</th>\n",
       "    </tr>\n",
       "  </thead>\n",
       "  <tbody>\n",
       "    <tr>\n",
       "      <th>3</th>\n",
       "      <td>arr_0</td>\n",
       "      <td>0</td>\n",
       "      <td>0.918033</td>\n",
       "      <td>## toks</td>\n",
       "    </tr>\n",
       "    <tr>\n",
       "      <th>10</th>\n",
       "      <td>arr_1</td>\n",
       "      <td>0</td>\n",
       "      <td>0.918033</td>\n",
       "      <td>## toks</td>\n",
       "    </tr>\n",
       "    <tr>\n",
       "      <th>17</th>\n",
       "      <td>arr_2</td>\n",
       "      <td>0</td>\n",
       "      <td>0.918033</td>\n",
       "      <td>## toks</td>\n",
       "    </tr>\n",
       "    <tr>\n",
       "      <th>24</th>\n",
       "      <td>arr_3</td>\n",
       "      <td>0</td>\n",
       "      <td>0.918033</td>\n",
       "      <td>## toks</td>\n",
       "    </tr>\n",
       "    <tr>\n",
       "      <th>31</th>\n",
       "      <td>arr_4</td>\n",
       "      <td>0</td>\n",
       "      <td>0.918033</td>\n",
       "      <td>## toks</td>\n",
       "    </tr>\n",
       "    <tr>\n",
       "      <th>38</th>\n",
       "      <td>arr_5</td>\n",
       "      <td>0</td>\n",
       "      <td>0.918033</td>\n",
       "      <td>## toks</td>\n",
       "    </tr>\n",
       "    <tr>\n",
       "      <th>45</th>\n",
       "      <td>arr_6</td>\n",
       "      <td>0</td>\n",
       "      <td>0.918033</td>\n",
       "      <td>## toks</td>\n",
       "    </tr>\n",
       "    <tr>\n",
       "      <th>52</th>\n",
       "      <td>arr_7</td>\n",
       "      <td>0</td>\n",
       "      <td>0.918033</td>\n",
       "      <td>## toks</td>\n",
       "    </tr>\n",
       "    <tr>\n",
       "      <th>59</th>\n",
       "      <td>arr_8</td>\n",
       "      <td>0</td>\n",
       "      <td>0.918033</td>\n",
       "      <td>## toks</td>\n",
       "    </tr>\n",
       "    <tr>\n",
       "      <th>66</th>\n",
       "      <td>arr_9</td>\n",
       "      <td>0</td>\n",
       "      <td>0.918033</td>\n",
       "      <td>## toks</td>\n",
       "    </tr>\n",
       "    <tr>\n",
       "      <th>73</th>\n",
       "      <td>arr_10</td>\n",
       "      <td>0</td>\n",
       "      <td>0.918033</td>\n",
       "      <td>## toks</td>\n",
       "    </tr>\n",
       "    <tr>\n",
       "      <th>80</th>\n",
       "      <td>arr_11</td>\n",
       "      <td>0</td>\n",
       "      <td>0.901639</td>\n",
       "      <td>## toks</td>\n",
       "    </tr>\n",
       "    <tr>\n",
       "      <th>87</th>\n",
       "      <td>arr_12</td>\n",
       "      <td>0</td>\n",
       "      <td>0.918033</td>\n",
       "      <td>## toks</td>\n",
       "    </tr>\n",
       "  </tbody>\n",
       "</table>\n",
       "</div>"
      ],
      "text/plain": [
       "     layer  gap     score predicting\n",
       "3    arr_0    0  0.918033    ## toks\n",
       "10   arr_1    0  0.918033    ## toks\n",
       "17   arr_2    0  0.918033    ## toks\n",
       "24   arr_3    0  0.918033    ## toks\n",
       "31   arr_4    0  0.918033    ## toks\n",
       "38   arr_5    0  0.918033    ## toks\n",
       "45   arr_6    0  0.918033    ## toks\n",
       "52   arr_7    0  0.918033    ## toks\n",
       "59   arr_8    0  0.918033    ## toks\n",
       "66   arr_9    0  0.918033    ## toks\n",
       "73  arr_10    0  0.918033    ## toks\n",
       "80  arr_11    0  0.901639    ## toks\n",
       "87  arr_12    0  0.918033    ## toks"
      ]
     },
     "execution_count": 212,
     "metadata": {},
     "output_type": "execute_result"
    }
   ],
   "source": [
    "filter_name = '## toks'\n",
    "all_scores[(all_scores['predicting']==filter_name) & (all_scores['gap']==0)]"
   ]
  },
  {
   "cell_type": "code",
   "execution_count": 34,
   "id": "df89c44d-cd3a-4350-b2e5-492c86ac644d",
   "metadata": {},
   "outputs": [
    {
     "name": "stdout",
     "output_type": "stream",
     "text": [
      "arr_0 ...0 ...\n"
     ]
    },
    {
     "data": {
      "text/html": [
       "<div>\n",
       "<style scoped>\n",
       "    .dataframe tbody tr th:only-of-type {\n",
       "        vertical-align: middle;\n",
       "    }\n",
       "\n",
       "    .dataframe tbody tr th {\n",
       "        vertical-align: top;\n",
       "    }\n",
       "\n",
       "    .dataframe thead th {\n",
       "        text-align: right;\n",
       "    }\n",
       "</style>\n",
       "<table border=\"1\" class=\"dataframe\">\n",
       "  <thead>\n",
       "    <tr style=\"text-align: right;\">\n",
       "      <th></th>\n",
       "      <th>layer</th>\n",
       "      <th>gap</th>\n",
       "      <th>score</th>\n",
       "      <th>predicting</th>\n",
       "    </tr>\n",
       "  </thead>\n",
       "  <tbody>\n",
       "    <tr>\n",
       "      <th>0</th>\n",
       "      <td>arr_0</td>\n",
       "      <td>0</td>\n",
       "      <td>0.976959</td>\n",
       "      <td>## toks</td>\n",
       "    </tr>\n",
       "  </tbody>\n",
       "</table>\n",
       "</div>"
      ],
      "text/plain": [
       "   layer  gap     score predicting\n",
       "0  arr_0    0  0.976959    ## toks"
      ]
     },
     "execution_count": 34,
     "metadata": {},
     "output_type": "execute_result"
    }
   ],
   "source": [
    "all_scores = all_scores.append(probe_identity({'first and last layers': np.hstack([corpus_acts[layers[0]], corpus_acts[layers[-1]]])}, \n",
    "                                              corpus_contexts, filters[filter_name], filter_name=filter_name, gaps=[0]))"
   ]
  },
  {
   "cell_type": "code",
   "execution_count": null,
   "id": "f16c1b8b-db56-4ce6-8eba-bb12eb8e9553",
   "metadata": {},
   "outputs": [],
   "source": []
  }
 ],
 "metadata": {
  "kernelspec": {
   "display_name": "Python 3",
   "language": "python",
   "name": "python3"
  },
  "language_info": {
   "codemirror_mode": {
    "name": "ipython",
    "version": 3
   },
   "file_extension": ".py",
   "mimetype": "text/x-python",
   "name": "python",
   "nbconvert_exporter": "python",
   "pygments_lexer": "ipython3",
   "version": "3.7.11"
  }
 },
 "nbformat": 4,
 "nbformat_minor": 5
}
