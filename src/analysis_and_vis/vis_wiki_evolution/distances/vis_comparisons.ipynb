{
 "cells": [
  {
   "cell_type": "markdown",
   "id": "42f1c8bf-0f05-43d7-b484-40f307df9aba",
   "metadata": {},
   "source": [
    "# Visualize comparison between type and context"
   ]
  },
  {
   "cell_type": "code",
   "execution_count": null,
   "id": "3d1c36d8-d99b-44f1-a189-5a6a28d66135",
   "metadata": {},
   "outputs": [],
   "source": [
    "print('Notebook is working.')\n",
    "%load_ext autoreload\n",
    "%autoreload 2\n",
    "import os\n",
    "import sys\n",
    "sys.path.insert(0, os.path.abspath('../../..'))  # distances --> vis-wiki --> analysis-and-vis --> src\n",
    "# This form of import is a good research practice because many directories may want to use the same utils,\n",
    "# but note that this is a bad practice for publishing packages because directories should be modular, with all utils inside them.\n",
    "# Consider changing before publishing.\n",
    "# load\n",
    "import pandas as pd\n",
    "# vis\n",
    "import plotly.express as px\n",
    "from plotly import graph_objects as go\n",
    "from utils.plotly_util import get_error_bands, combine_figs"
   ]
  },
  {
   "cell_type": "markdown",
   "id": "dad253c2-4723-4e9c-86ff-bef43b02eafe",
   "metadata": {},
   "source": [
    "## Select data"
   ]
  },
  {
   "cell_type": "code",
   "execution_count": null,
   "id": "a0bfe9c7-77b7-4ac9-9b7d-8dcdc389e806",
   "metadata": {},
   "outputs": [],
   "source": [
    "# Params\n",
    "data_path = '/atlas/u/pkalluri/bert-vis/big-data/bert/bert-base-cased/distances/types_vs_contexts_5tokens_to_5neighbors_across_13layers.csv'\n",
    "model_name = 'bert'\n",
    "title = ''"
   ]
  },
  {
   "cell_type": "code",
   "execution_count": null,
   "id": "028164c4-bd0b-46d2-8ca0-18c5841c0411",
   "metadata": {},
   "outputs": [],
   "source": [
    "# Load\n",
    "distances = pd.read_csv(data_path)\n",
    "keys = distances['key'].unique()\n",
    "keys"
   ]
  },
  {
   "cell_type": "code",
   "execution_count": null,
   "id": "682c8d0b-2ee8-4ad6-a2ee-97d7d62b9968",
   "metadata": {},
   "outputs": [],
   "source": [
    "# Choose keys of interest\n",
    "of_interest = lambda key: (\n",
    "    (key.startswith('Same type') and not key.endswith('random contexts'))\n",
    "    or (key.startswith('Same successor') and not key.endswith('random contexts'))\n",
    "    or (key.startswith('Random types'))\n",
    "    or (key.startswith('Partner'))\n",
    "    or (key.startswith('Same bigram') and not key.endswith('random contexts'))\n",
    ")\n",
    "keys = list(filter(of_interest, keys))\n",
    "print(keys)"
   ]
  },
  {
   "cell_type": "markdown",
   "id": "0eff1bfb-3959-483f-b4b9-711ef0065046",
   "metadata": {},
   "source": [
    "## Prepare data"
   ]
  },
  {
   "cell_type": "code",
   "execution_count": null,
   "id": "04778533-2a25-4cfc-b691-a373faac6ea4",
   "metadata": {},
   "outputs": [],
   "source": [
    "layers = distances['layer'].unique().tolist()\n",
    "for layer in layers:\n",
    "    median_rand = distances[(distances.key=='Random tokens') & (distances.layer==layer)]['distance'].median()\n",
    "    distances.loc[distances.layer==layer, 'normalized distance'] = distances[distances.layer==layer]['distance']/median_rand\n",
    "median = pd.concat([pd.DataFrame(dict(layer=layers)), \n",
    "                   pd.DataFrame({key: [distances[(distances.layer==layer) & (distances.key==key)]['normalized distance'].quantile(.5) for layer in layers] for key in keys})],\n",
    "                   axis=1)\n",
    "q1 = pd.concat([pd.DataFrame(dict(layer=layers)), \n",
    "                   pd.DataFrame({key: [distances[(distances.layer==layer) & (distances.key==key)]['normalized distance'].quantile(.25) for layer in layers] for key in keys})],\n",
    "                   axis=1)\n",
    "q3 = pd.concat([pd.DataFrame(dict(layer=layers)), \n",
    "                   pd.DataFrame({key: [distances[(distances.layer==layer) & (distances.key==key)]['normalized distance'].quantile(.75) for layer in layers] for key in keys})],\n",
    "                   axis=1)"
   ]
  },
  {
   "cell_type": "markdown",
   "id": "3e515eea-7188-405d-8f92-0bb04ed5f805",
   "metadata": {},
   "source": [
    "## Vis"
   ]
  },
  {
   "cell_type": "code",
   "execution_count": null,
   "id": "7a076ee4-d953-407b-9f64-6226392da256",
   "metadata": {},
   "outputs": [],
   "source": [
    "# Params\n",
    "include_bands = True  # Add quartile bands around the lines\n",
    "include_lines = True\n",
    "# Simple line plots\n",
    "parts = []\n",
    "upper_bound = px.line(x=layers, y=[1,]*len(layers), color_discrete_sequence=['white',], width=900, height=500)\n",
    "parts.append(upper_bound)\n",
    "if include_lines:\n",
    "    lines = px.line(median, x='layer', y=keys, width=900, height=500, labels={\"variable\": \"\"}, title=title).update_traces(line=dict(width=3))\n",
    "    parts.append(lines)\n",
    "if include_bands:\n",
    "    bands = get_error_bands(keys, q1,q3, layers)\n",
    "    parts.append(bands)\n",
    "# Tweaks\n",
    "fig = combine_figs(parts)\n",
    "fig.update_yaxes(title='Distance', range=[0, 1.1], showticklabels=False, showgrid=False, nticks=2)\n",
    "fig.update_xaxes(title=f'Layers in {model_name.upper()}', showticklabels=True, tickvals=layers)\n",
    "fig.update_layout(title_x=0.1, title_y=.85)\n",
    "fig"
   ]
  },
  {
   "cell_type": "code",
   "execution_count": null,
   "id": "de148a7e-33d3-4502-a96e-a1239f7d9ac1",
   "metadata": {},
   "outputs": [],
   "source": [
    "# Detailed plots\n",
    "split=False\n",
    "n_rows = len(distances['main token'].unique()) if split else 1\n",
    "facet_rows = 'main token' if split else None\n",
    "fig2 = px.box(distances[(distances.key.isin(keys))].sample(8000, replace=True), x='layer', y='normalized distance', color='key', \n",
    "               title=title, hover_name='other token text', hover_data={col: False for col in ['layer', 'key', 'normalized distance']}, \n",
    "               width=700, height=n_rows*500,\n",
    "               facet_row=facet_rows,\n",
    "               #stripmode='overlay',\n",
    "               #notched=False,\n",
    "               #points=False,\n",
    "               category_orders=dict(key=['Same type, in naturally occurring contexts',\n",
    "                                         'Same type, dropped into random contexts',\n",
    "                                          'Random types, dropped into same context']))\n",
    "upper_bound = px.line(x=layers, y=[1,]*len(layers), color_discrete_sequence=['white',])\n",
    "fig2 = combine_figs([fig2, upper_bound])\n",
    "fig2.update_yaxes(title='Distance', range=[0,1.1], showticklabels=False, showgrid=False, nticks=2)\n",
    "fig2.update_xaxes(title=f'Layers in {model_name.upper()}', showticklabels=True, tickvals=layers)\n",
    "fig2.update_layout(title_x=0.1, title_y=.85)\n",
    "fig2"
   ]
  },
  {
   "cell_type": "code",
   "execution_count": null,
   "id": "d4cd956e-eb60-4864-b859-803fb7456304",
   "metadata": {},
   "outputs": [],
   "source": [
    "# Combo\n",
    "combine_figs([fig2, fig])"
   ]
  }
 ],
 "metadata": {
  "kernelspec": {
   "display_name": "Python 3",
   "language": "python",
   "name": "python3"
  },
  "language_info": {
   "codemirror_mode": {
    "name": "ipython",
    "version": 3
   },
   "file_extension": ".py",
   "mimetype": "text/x-python",
   "name": "python",
   "nbconvert_exporter": "python",
   "pygments_lexer": "ipython3",
   "version": "3.7.11"
  }
 },
 "nbformat": 4,
 "nbformat_minor": 5
}
