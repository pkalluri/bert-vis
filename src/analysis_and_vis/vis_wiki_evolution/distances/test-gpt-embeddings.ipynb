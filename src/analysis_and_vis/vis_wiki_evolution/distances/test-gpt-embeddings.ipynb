{
 "cells": [
  {
   "cell_type": "markdown",
   "id": "09902bc2-2c4b-40f9-aeec-cf6ce39fff8a",
   "metadata": {
    "tags": []
   },
   "source": [
    "# Analyze distances from tokens to regions of interest"
   ]
  },
  {
   "cell_type": "code",
   "execution_count": 97,
   "id": "4a9f8be8-1390-410b-8afa-16c3729360bc",
   "metadata": {
    "tags": []
   },
   "outputs": [
    {
     "name": "stdout",
     "output_type": "stream",
     "text": [
      "Notebook is working.\n",
      "The autoreload extension is already loaded. To reload it, use:\n",
      "  %reload_ext autoreload\n"
     ]
    }
   ],
   "source": [
    "print('Notebook is working.')\n",
    "%load_ext autoreload\n",
    "%autoreload 2\n",
    "import os\n",
    "os.environ['TRANSFORMERS_CACHE'] = '/atlas/u/pkalluri/.cache'\n",
    "import sys\n",
    "sys.path.insert(0, os.path.abspath('../../..'))  # distances --> vis-wiki --> analysis-and-vis --> src\n",
    "# This form of import is reasonable research practice because many directories may want to use the same utils,\n",
    "# but note that this is a bad practice for publishing packages because directories should be modular, with all utils inside them.\n",
    "# Consider changing before publicly publishing code.\n",
    "# load\n",
    "from utils import references as refs\n",
    "import pickle\n",
    "import numpy as np\n",
    "from utils.Token import Token\n",
    "from utils.misc_util import select_layers\n",
    "from collections import Counter\n",
    "# process\n",
    "import random\n",
    "from utils.ModelType import ModelType, get_generic, berts, gpts\n",
    "from utils.MyModel import MyModel\n",
    "# calculate distances\n",
    "from utils.acts_util import get_angles, get_euclidean_distances\n",
    "import pandas as pd\n",
    "# vis\n",
    "import plotly.express as px\n",
    "from utils.plotly_util import get_error_bands, combine_figs"
   ]
  },
  {
   "cell_type": "markdown",
   "id": "746b5556-e723-4004-9df4-14e14d5c7278",
   "metadata": {},
   "source": [
    "## Params"
   ]
  },
  {
   "cell_type": "code",
   "execution_count": 98,
   "id": "6ebb5105-3d0c-42a9-9132-00ed6e882be0",
   "metadata": {},
   "outputs": [],
   "source": [
    "# Model and data params\n",
    "model_type = ModelType.gpt2\n",
    "dataset_dir = f\"/atlas/u/pkalluri/bert-vis/big-data/{get_generic(model_type)}/{model_type.value}/\"\n",
    "n_layers = None  # None results in analyzing all layers"
   ]
  },
  {
   "cell_type": "code",
   "execution_count": 99,
   "id": "427f699a-436f-4535-bce7-9418953e2173",
   "metadata": {},
   "outputs": [],
   "source": [
    "model = MyModel(model_type=model_type)\n",
    "dataset_dir = os.path.abspath(dataset_dir)\n",
    "dataset_toks = [Token(doc,pos,model_type) for doc,pos in pickle.load(open(os.path.join(dataset_dir, refs.toks_fn),'rb'))]\n",
    "types_counts = Counter([tok.type for tok in dataset_toks])\n",
    "dataset_acts = np.load(os.path.join(dataset_dir, refs.acts_fn))\n",
    "layers = select_layers(list(dataset_acts), n_layers)"
   ]
  },
  {
   "cell_type": "markdown",
   "id": "10e37f52-369f-4e84-a6b4-4b07ddde4666",
   "metadata": {},
   "source": [
    "## Minimal investigation"
   ]
  },
  {
   "cell_type": "code",
   "execution_count": 87,
   "id": "135b026d-da34-4f0b-8d1e-7cb2bc3fd14f",
   "metadata": {
    "collapsed": true,
    "jupyter": {
     "outputs_hidden": true
    },
    "tags": []
   },
   "outputs": [
    {
     "data": {
      "text/plain": [
       "[(1799, '[[August]] 1'),\n",
       " (1800, 'August[[ 1]]'),\n",
       " (2137, '[[<]]br>'),\n",
       " (2138, '<[[br]]>'),\n",
       " (2139, '<br[[>]]'),\n",
       " (8936, '[[<]]br>'),\n",
       " (8937, '<[[br]]>'),\n",
       " (8938, '<br[[>]]'),\n",
       " (11905, '[[There]] is 1 street.'),\n",
       " (11906, 'There[[ is]] 1 street.'),\n",
       " (11907, 'There is[[ 1]] street.'),\n",
       " (11908, 'There is 1[[ street]].'),\n",
       " (11909, 'There is 1 street[[.]]'),\n",
       " (13048, '[[R]]. Cohen)'),\n",
       " (13049, 'R[[.]] Cohen)'),\n",
       " (13050, 'R.[[ Cohen]])'),\n",
       " (13051, 'R. Cohen[[)]]'),\n",
       " (13263, '[[19]]44 in comics'),\n",
       " (13264, '19[[44]] in comics'),\n",
       " (13265, '1944[[ in]] comics'),\n",
       " (13266, '1944 in[[ comics]]'),\n",
       " (13311, '[[Ac]]ademy.'),\n",
       " (13312, 'Ac[[ad]]emy.'),\n",
       " (13313, 'Acad[[emy]].'),\n",
       " (13314, 'Academy[[.]]'),\n",
       " (14800, '[[e]].g.'),\n",
       " (14801, 'e[[.]]g.'),\n",
       " (14802, 'e.[[g]].'),\n",
       " (14803, 'e.g[[.]]'),\n",
       " (15236, '[[<]]br>'),\n",
       " (15237, '<[[br]]>'),\n",
       " (15238, '<br[[>]]'),\n",
       " (16386, '[[The]] six ships were:'),\n",
       " (16387, 'The[[ six]] ships were:'),\n",
       " (16388, 'The six[[ ships]] were:'),\n",
       " (16389, 'The six ships[[ were]]:'),\n",
       " (16390, 'The six ships were[[:]]'),\n",
       " (18457, '[[Mont]]adet'),\n",
       " (18458, 'Mont[[ad]]et'),\n",
       " (18459, 'Montad[[et]]'),\n",
       " (19505, '[[463]] persons are employed.'),\n",
       " (19506, '463[[ persons]] are employed.'),\n",
       " (19507, '463 persons[[ are]] employed.'),\n",
       " (19508, '463 persons are[[ employed]].'),\n",
       " (19509, '463 persons are employed[[.]]'),\n",
       " (19510, '[[There]] are 7 streets.'),\n",
       " (19511, 'There[[ are]] 7 streets.'),\n",
       " (19512, 'There are[[ 7]] streets.'),\n",
       " (19513, 'There are 7[[ streets]].'),\n",
       " (19514, 'There are 7 streets[[.]]'),\n",
       " (19563, '[[No]]!'),\n",
       " (19564, 'No[[!]]'),\n",
       " (25767, '[[Meet]] their demands!\"'),\n",
       " (25768, 'Meet[[ their]] demands!\"'),\n",
       " (25769, 'Meet their[[ demands]]!\"'),\n",
       " (25770, 'Meet their demands[[!\"]]'),\n",
       " (26867, '[[Mich]]iko Kihara'),\n",
       " (26868, 'Mich[[iko]] Kihara'),\n",
       " (26869, 'Michiko[[ K]]ihara'),\n",
       " (26870, 'Michiko K[[ihara]]'),\n",
       " (31292, \"[[What]]'s the Meaning?\"),\n",
       " (31293, \"What[['s]] the Meaning?\"),\n",
       " (31294, \"What's[[ the]] Meaning?\"),\n",
       " (31295, \"What's the[[ Meaning]]?\"),\n",
       " (31296, \"What's the Meaning[[?]]\"),\n",
       " (32082, '[[The]] overall length is.'),\n",
       " (32083, 'The[[ overall]] length is.'),\n",
       " (32084, 'The overall[[ length]] is.'),\n",
       " (32085, 'The overall length[[ is]].'),\n",
       " (32086, 'The overall length is[[.]]'),\n",
       " (33096, '[[<]]br>'),\n",
       " (33097, '<[[br]]>'),\n",
       " (33098, '<br[[>]]'),\n",
       " (34659, '[[K]]awamura Art Museum'),\n",
       " (34660, 'K[[aw]]amura Art Museum'),\n",
       " (34661, 'Kaw[[amura]] Art Museum'),\n",
       " (34662, 'Kawamura[[ Art]] Museum'),\n",
       " (34663, 'Kawamura Art[[ Museum]]'),\n",
       " (34742, '[[K]]ōshō'),\n",
       " (34743, 'K[[ō]]shō'),\n",
       " (34744, 'Kō[[sh]]ō'),\n",
       " (34745, 'Kōsh[[ō]]'),\n",
       " (37551, '[[<]]br>'),\n",
       " (37552, '<[[br]]>'),\n",
       " (37553, '<br[[>]]'),\n",
       " (37596, '[[San]] Pelayo.'),\n",
       " (37597, 'San[[ Pel]]ayo.'),\n",
       " (37598, 'San Pel[[ay]]o.'),\n",
       " (37599, 'San Pelay[[o]].'),\n",
       " (37600, 'San Pelayo[[.]]'),\n",
       " (42803, '[[He]] is Jewish.'),\n",
       " (42804, 'He[[ is]] Jewish.'),\n",
       " (42805, 'He is[[ Jewish]].'),\n",
       " (42806, 'He is Jewish[[.]]'),\n",
       " (45557, '[[<]]br>'),\n",
       " (45558, '<[[br]]>'),\n",
       " (45559, '<br[[>]]'),\n",
       " (45998, '[[Table]] headers'),\n",
       " (45999, 'Table[[ headers]]'),\n",
       " (46498, '[[Sh]]ota Koseki'),\n",
       " (46499, 'Sh[[ota]] Koseki'),\n",
       " (46500, 'Shota[[ K]]oseki'),\n",
       " (46501, 'Shota K[[ose]]ki'),\n",
       " (46502, 'Shota Kose[[ki]]'),\n",
       " (47448, '[[\"]]bella\".'),\n",
       " (47449, '\"[[bell]]a\".'),\n",
       " (47450, '\"bell[[a]]\".'),\n",
       " (47451, '\"bella[[\".]]'),\n",
       " (47653, '[[June]] 10'),\n",
       " (47654, 'June[[ 10]]'),\n",
       " (49521, '[[0]].'),\n",
       " (49522, '0[[.]]'),\n",
       " (51635, '[[The]] remaining Mill No.'),\n",
       " (51636, 'The[[ remaining]] Mill No.'),\n",
       " (51637, 'The remaining[[ Mill]] No.'),\n",
       " (51638, 'The remaining Mill[[ No]].'),\n",
       " (51639, 'The remaining Mill No[[.]]'),\n",
       " (53331, '[[Br]]anches include:'),\n",
       " (53332, 'Br[[anches]] include:'),\n",
       " (53333, 'Branches[[ include]]:'),\n",
       " (53334, 'Branches include[[:]]'),\n",
       " (54368, '[[K]]agawa Junior College'),\n",
       " (54369, 'K[[ag]]awa Junior College'),\n",
       " (54370, 'Kag[[awa]] Junior College'),\n",
       " (54371, 'Kagawa[[ Junior]] College'),\n",
       " (54372, 'Kagawa Junior[[ College]]'),\n",
       " (56598, '[[There]] are 6 streets.'),\n",
       " (56599, 'There[[ are]] 6 streets.'),\n",
       " (56600, 'There are[[ 6]] streets.'),\n",
       " (56601, 'There are 6[[ streets]].'),\n",
       " (56602, 'There are 6 streets[[.]]'),\n",
       " (57240, '[[It]] will upset her.'),\n",
       " (57241, 'It[[ will]] upset her.'),\n",
       " (57242, 'It will[[ upset]] her.'),\n",
       " (57243, 'It will upset[[ her]].'),\n",
       " (57244, 'It will upset her[[.]]'),\n",
       " (58453, '[[D]]ra.'),\n",
       " (58454, 'D[[ra]].'),\n",
       " (58455, 'Dra[[.]]'),\n",
       " (61564, '[[K]]an Tokumaru'),\n",
       " (61565, 'K[[an]] Tokumaru'),\n",
       " (61566, 'Kan[[ Tok]]umaru'),\n",
       " (61567, 'Kan Tok[[um]]aru'),\n",
       " (61568, 'Kan Tokum[[aru]]'),\n",
       " (61829, '[[It]] may refer to:'),\n",
       " (61830, 'It[[ may]] refer to:'),\n",
       " (61831, 'It may[[ refer]] to:'),\n",
       " (61832, 'It may refer[[ to]]:'),\n",
       " (61833, 'It may refer to[[:]]'),\n",
       " (61995, '[[January]] 26'),\n",
       " (61996, 'January[[ 26]]'),\n",
       " (62269, '[[Victoria]] Nneji'),\n",
       " (62270, 'Victoria[[ N]]neji'),\n",
       " (62271, 'Victoria N[[ne]]ji'),\n",
       " (62272, 'Victoria Nne[[ji]]'),\n",
       " (66257, '[[4]] Group RAF.'),\n",
       " (66258, '4[[ Group]] RAF.'),\n",
       " (66259, '4 Group[[ RAF]].'),\n",
       " (66260, '4 Group RAF[[.]]'),\n",
       " (66539, '[[at]].'),\n",
       " (66540, 'at[[.]]'),\n",
       " (71918, '[[They]] disbanded in 2008.'),\n",
       " (71919, 'They[[ disbanded]] in 2008.'),\n",
       " (71920, 'They disbanded[[ in]] 2008.'),\n",
       " (71921, 'They disbanded in[[ 2008]].'),\n",
       " (71922, 'They disbanded in 2008[[.]]'),\n",
       " (72391, '[[In]] particular the algorithms are'),\n",
       " (72392, 'In[[ particular]] the algorithms are'),\n",
       " (72393, 'In particular[[ the]] algorithms are'),\n",
       " (72394, 'In particular the[[ algorithms]] are'),\n",
       " (72395, 'In particular the algorithms[[ are]]'),\n",
       " (73525, '[[French]] Guiana'),\n",
       " (73526, 'French[[ Gu]]iana'),\n",
       " (73527, 'French Gu[[iana]]'),\n",
       " (74009, '[[See]]:'),\n",
       " (74010, 'See[[:]]'),\n",
       " (74011, '[[Mount]] Horohoro'),\n",
       " (74012, 'Mount[[ Hor]]ohoro'),\n",
       " (74013, 'Mount Hor[[oh]]oro'),\n",
       " (74014, 'Mount Horoh[[oro]]'),\n",
       " (74048, '[[1]] 1963–1972\".'),\n",
       " (74049, '1[[ 1963]]–1972\".'),\n",
       " (74050, '1 1963[[–]]1972\".'),\n",
       " (74051, '1 1963–[[1972]]\".'),\n",
       " (74052, '1 1963–1972[[\".]]'),\n",
       " (74263, '[[Vol]]unteers.'),\n",
       " (74264, 'Vol[[unte]]ers.'),\n",
       " (74265, 'Volunte[[ers]].'),\n",
       " (74266, 'Volunteers[[.]]'),\n",
       " (76787, '[[Luc]]as Gatti'),\n",
       " (76788, 'Luc[[as]] Gatti'),\n",
       " (76789, 'Lucas[[ G]]atti'),\n",
       " (76790, 'Lucas G[[atti]]'),\n",
       " (76813, '[[Rev]].'),\n",
       " (76814, 'Rev[[.]]'),\n",
       " (77713, '[[There]] are 7 streets.'),\n",
       " (77714, 'There[[ are]] 7 streets.'),\n",
       " (77715, 'There are[[ 7]] streets.'),\n",
       " (77716, 'There are 7[[ streets]].'),\n",
       " (77717, 'There are 7 streets[[.]]'),\n",
       " (78787, '[[She]] married Rtd.'),\n",
       " (78788, 'She[[ married]] Rtd.'),\n",
       " (78789, 'She married[[ R]]td.'),\n",
       " (78790, 'She married R[[td]].'),\n",
       " (78791, 'She married Rtd[[.]]'),\n",
       " (79872, '[[April]] 20'),\n",
       " (79873, 'April[[ 20]]'),\n",
       " (80911, '[[He]] was ranked No.'),\n",
       " (80912, 'He[[ was]] ranked No.'),\n",
       " (80913, 'He was[[ ranked]] No.'),\n",
       " (80914, 'He was ranked[[ No]].'),\n",
       " (80915, 'He was ranked No[[.]]'),\n",
       " (83314, '[[1]]\".'),\n",
       " (83315, '1[[\".]]'),\n",
       " (84104, '[[K]]unihiko Tanaka'),\n",
       " (84105, 'K[[un]]ihiko Tanaka'),\n",
       " (84106, 'Kun[[ih]]iko Tanaka'),\n",
       " (84107, 'Kunih[[iko]] Tanaka'),\n",
       " (84108, 'Kunihiko[[ Tanaka]]'),\n",
       " (88090, '[[January]] 3'),\n",
       " (88091, 'January[[ 3]]'),\n",
       " (91156, \"[[Sn]]ook's Arm\"),\n",
       " (91157, \"Sn[[ook]]'s Arm\"),\n",
       " (91158, \"Snook[['s]] Arm\"),\n",
       " (91159, \"Snook's[[ Arm]]\"),\n",
       " (91602, '[[The]] population density was.'),\n",
       " (91603, 'The[[ population]] density was.'),\n",
       " (91604, 'The population[[ density]] was.'),\n",
       " (91605, 'The population density[[ was]].'),\n",
       " (91606, 'The population density was[[.]]'),\n",
       " (92092, '[[R]]. McCartney.'),\n",
       " (92093, 'R[[.]] McCartney.'),\n",
       " (92094, 'R.[[ McCartney]].'),\n",
       " (92095, 'R. McCartney[[.]]'),\n",
       " (95010, '[[season]]'),\n",
       " (95984, '[[<]]br>'),\n",
       " (95985, '<[[br]]>'),\n",
       " (95986, '<br[[>]]'),\n",
       " (96193, '[[Who]]?'),\n",
       " (96194, 'Who[[?]]'),\n",
       " (96993, '[[Ch]]ōtoku'),\n",
       " (96994, 'Ch[[ō]]toku'),\n",
       " (96995, 'Chō[[t]]oku'),\n",
       " (96996, 'Chōt[[oku]]'),\n",
       " (100415, '[[No]].'),\n",
       " (100416, 'No[[.]]'),\n",
       " (100568, '[[Fran]]z Wessel'),\n",
       " (100569, 'Fran[[z]] Wessel'),\n",
       " (100570, 'Franz[[ W]]essel'),\n",
       " (100571, 'Franz W[[essel]]'),\n",
       " (101138, '[[See]]'),\n",
       " (102220, '[[Source]]:'),\n",
       " (102221, 'Source[[:]]'),\n",
       " (102865, '[[The]] association aims to'),\n",
       " (102866, 'The[[ association]] aims to'),\n",
       " (102867, 'The association[[ aims]] to'),\n",
       " (102868, 'The association aims[[ to]]'),\n",
       " (104114, '[[S]]aki Fujita'),\n",
       " (104115, 'S[[aki]] Fujita'),\n",
       " (104116, 'Saki[[ Fuj]]ita'),\n",
       " (104117, 'Saki Fuj[[ita]]'),\n",
       " (104732, '[[X]].'),\n",
       " (104733, 'X[[.]]'),\n",
       " (105595, '[[M]]ika Oguma'),\n",
       " (105596, 'M[[ika]] Oguma'),\n",
       " (105597, 'Mika[[ Og]]uma'),\n",
       " (105598, 'Mika Og[[uma]]'),\n",
       " (107233, '[[November]] 19'),\n",
       " (107234, 'November[[ 19]]'),\n",
       " (107843, '[[Example]] 1.'),\n",
       " (107844, 'Example[[ 1]].'),\n",
       " (107845, 'Example 1[[.]]'),\n",
       " (108947, '[[517]]–560).'),\n",
       " (108948, '517[[–]]560).'),\n",
       " (108949, '517–[[560]]).'),\n",
       " (108950, '517–560[[).]]'),\n",
       " (111331, '[[AT]]C code M04'),\n",
       " (111332, 'AT[[C]] code M04'),\n",
       " (111333, 'ATC[[ code]] M04'),\n",
       " (111334, 'ATC code[[ M]]04'),\n",
       " (111335, 'ATC code M[[04]]'),\n",
       " (113415, '[[Mother]] tongue:'),\n",
       " (113416, 'Mother[[ tongue]]:'),\n",
       " (113417, 'Mother tongue[[:]]'),\n",
       " (120282, '[[Mas]]ahito Onoda'),\n",
       " (120283, 'Mas[[ah]]ito Onoda'),\n",
       " (120284, 'Masah[[ito]] Onoda'),\n",
       " (120285, 'Masahito[[ On]]oda'),\n",
       " (120286, 'Masahito On[[oda]]'),\n",
       " (121526, '[[G]]anchi'),\n",
       " (121527, 'G[[anch]]i'),\n",
       " (121528, 'Ganch[[i]]'),\n",
       " (121934, '[[Quick]] Wit Battle!!'),\n",
       " (121935, 'Quick[[ Wit]] Battle!!'),\n",
       " (121936, 'Quick Wit[[ Battle]]!!'),\n",
       " (121937, 'Quick Wit Battle[[!!]]'),\n",
       " (122394, '[[S]]aiyuki'),\n",
       " (122395, 'S[[ai]]yuki'),\n",
       " (122396, 'Sai[[y]]uki'),\n",
       " (122397, 'Saiy[[uki]]'),\n",
       " (126040, '[[H]]iro Shimono'),\n",
       " (126041, 'H[[iro]] Shimono'),\n",
       " (126042, 'Hiro[[ Sh]]imono'),\n",
       " (126043, 'Hiro Sh[[imon]]o'),\n",
       " (126044, 'Hiro Shimon[[o]]'),\n",
       " (131873, '[[Bl]]osville'),\n",
       " (131874, 'Bl[[os]]ville'),\n",
       " (131875, 'Blos[[ville]]'),\n",
       " (133381, '[[<]]br>'),\n",
       " (133382, '<[[br]]>'),\n",
       " (133383, '<br[[>]]'),\n",
       " (133475, '[[2]].'),\n",
       " (133476, '2[[.]]'),\n",
       " (134069, '[[Ak]]itsune Imamura'),\n",
       " (134070, 'Ak[[its]]une Imamura'),\n",
       " (134071, 'Akits[[une]] Imamura'),\n",
       " (134072, 'Akitsune[[ Im]]amura'),\n",
       " (134073, 'Akitsune Im[[amura]]'),\n",
       " (134074, '[[Notes]]\\n\\nReferences'),\n",
       " (134075, 'Notes[[\\n]]\\nReferences'),\n",
       " (134076, 'Notes\\n[[\\n]]References'),\n",
       " (134077, 'Notes\\n\\n[[References]]'),\n",
       " (145652, '[[1]] freemen\".'),\n",
       " (145653, '1[[ fre]]emen\".'),\n",
       " (145654, '1 fre[[emen]]\".'),\n",
       " (145655, '1 freemen[[\".]]'),\n",
       " (146729, '[[Sh]]ozo Shimamoto'),\n",
       " (146730, 'Sh[[ozo]] Shimamoto'),\n",
       " (146731, 'Shozo[[ Shim]]amoto'),\n",
       " (146732, 'Shozo Shim[[amoto]]'),\n",
       " (150866, '[[16]]29.'),\n",
       " (150867, '16[[29]].'),\n",
       " (150868, '1629[[.]]'),\n",
       " (155126, '[[F]]ictional characters:'),\n",
       " (155127, 'F[[ictional]] characters:'),\n",
       " (155128, 'Fictional[[ characters]]:'),\n",
       " (155129, 'Fictional characters[[:]]'),\n",
       " (155632, '[[There]] is 1 street.'),\n",
       " (155633, 'There[[ is]] 1 street.'),\n",
       " (155634, 'There is[[ 1]] street.'),\n",
       " (155635, 'There is 1[[ street]].'),\n",
       " (155636, 'There is 1 street[[.]]'),\n",
       " (157102, '[[There]] are 3 streets.'),\n",
       " (157103, 'There[[ are]] 3 streets.'),\n",
       " (157104, 'There are[[ 3]] streets.'),\n",
       " (157105, 'There are 3[[ streets]].'),\n",
       " (157106, 'There are 3 streets[[.]]'),\n",
       " (159035, '[[What]]?'),\n",
       " (159036, 'What[[?]]'),\n",
       " (160537, '[[Iss]]anlas'),\n",
       " (160538, 'Iss[[an]]las'),\n",
       " (160539, 'Issan[[las]]'),\n",
       " (161309, '[[3]].'),\n",
       " (161310, '3[[.]]'),\n",
       " (162622, '[[<]]br>'),\n",
       " (162623, '<[[br]]>'),\n",
       " (162624, '<br[[>]]'),\n",
       " (165039, '[[St]]o.'),\n",
       " (165040, 'St[[o]].'),\n",
       " (165041, 'Sto[[.]]'),\n",
       " (165229, '[[It]] may refer to:'),\n",
       " (165230, 'It[[ may]] refer to:'),\n",
       " (165231, 'It may[[ refer]] to:'),\n",
       " (165232, 'It may refer[[ to]]:'),\n",
       " (165233, 'It may refer to[[:]]'),\n",
       " (166701, '[[55]].'),\n",
       " (166702, '55[[.]]'),\n",
       " (168460, '[[T]]ondela.'),\n",
       " (168461, 'T[[ond]]ela.'),\n",
       " (168462, 'Tond[[ela]].'),\n",
       " (168463, 'Tondela[[.]]'),\n",
       " (169662, '[[20]]28'),\n",
       " (169663, '20[[28]]'),\n",
       " (170762, '[[Data]] through May 2020.'),\n",
       " (170763, 'Data[[ through]] May 2020.'),\n",
       " (170764, 'Data through[[ May]] 2020.'),\n",
       " (170765, 'Data through May[[ 2020]].'),\n",
       " (170766, 'Data through May 2020[[.]]'),\n",
       " (171085, '[[It]] can refer to:'),\n",
       " (171086, 'It[[ can]] refer to:'),\n",
       " (171087, 'It can[[ refer]] to:'),\n",
       " (171088, 'It can refer[[ to]]:'),\n",
       " (171089, 'It can refer to[[:]]'),\n",
       " (171720, '[[William]] Brookfield presided.'),\n",
       " (171721, 'William[[ Brook]]field presided.'),\n",
       " (171722, 'William Brook[[field]] presided.'),\n",
       " (171723, 'William Brookfield[[ presided]].'),\n",
       " (171724, 'William Brookfield presided[[.]]'),\n",
       " (173428, '[[310]].'),\n",
       " (173429, '310[[.]]'),\n",
       " (173588, '[[1993]] in archaeology'),\n",
       " (173589, '1993[[ in]] archaeology'),\n",
       " (173590, '1993 in[[ archae]]ology'),\n",
       " (173591, '1993 in archae[[ology]]'),\n",
       " (176468, '[[).]]'),\n",
       " (176658, '[[<]]br>'),\n",
       " (176659, '<[[br]]>'),\n",
       " (176660, '<br[[>]]'),\n",
       " (176927, '[[Sh]]ibutani'),\n",
       " (176928, 'Sh[[ib]]utani'),\n",
       " (176929, 'Shib[[ut]]ani'),\n",
       " (176930, 'Shibut[[ani]]'),\n",
       " (177716, '[[Rock]] Bay, British Columbia'),\n",
       " (177717, 'Rock[[ Bay]], British Columbia'),\n",
       " (177718, 'Rock Bay[[,]] British Columbia'),\n",
       " (177719, 'Rock Bay,[[ British]] Columbia'),\n",
       " (177720, 'Rock Bay, British[[ Columbia]]'),\n",
       " (178526, '[[K]]ōji Gotō'),\n",
       " (178527, 'K[[ō]]ji Gotō'),\n",
       " (178528, 'Kō[[ji]] Gotō'),\n",
       " (178529, 'Kōji[[ Got]]ō'),\n",
       " (178530, 'Kōji Got[[ō]]'),\n",
       " (181202, '[[November]] 24'),\n",
       " (181203, 'November[[ 24]]'),\n",
       " (181557, '[[May]] 14'),\n",
       " (181558, 'May[[ 14]]'),\n",
       " (181855, '[[D]]inamo Minsk'),\n",
       " (181856, 'D[[in]]amo Minsk'),\n",
       " (181857, 'Din[[amo]] Minsk'),\n",
       " (181858, 'Dinamo[[ M]]insk'),\n",
       " (181859, 'Dinamo M[[insk]]'),\n",
       " (184634, '[[\"]]See also.\"'),\n",
       " (184635, '\"[[See]] also.\"'),\n",
       " (184636, '\"See[[ also]].\"'),\n",
       " (184637, '\"See also[[.\"]]'),\n",
       " (185837, '[[<]]br>'),\n",
       " (185838, '<[[br]]>'),\n",
       " (185839, '<br[[>]]'),\n",
       " (187967, '[[H]]arrison Lake covers.'),\n",
       " (187968, 'H[[arrison]] Lake covers.'),\n",
       " (187969, 'Harrison[[ Lake]] covers.'),\n",
       " (187970, 'Harrison Lake[[ covers]].'),\n",
       " (187971, 'Harrison Lake covers[[.]]'),\n",
       " (190526, '[[It]] may refer to:'),\n",
       " (190527, 'It[[ may]] refer to:'),\n",
       " (190528, 'It may[[ refer]] to:'),\n",
       " (190529, 'It may refer[[ to]]:'),\n",
       " (190530, 'It may refer to[[:]]'),\n",
       " (195662, '[[18]]76 in rail transport'),\n",
       " (195663, '18[[76]] in rail transport'),\n",
       " (195664, '1876[[ in]] rail transport'),\n",
       " (195665, '1876 in[[ rail]] transport'),\n",
       " (195666, '1876 in rail[[ transport]]'),\n",
       " (204290, '[[111]]-330.'),\n",
       " (204291, '111[[-]]330.'),\n",
       " (204292, '111-[[330]].'),\n",
       " (204293, '111-330[[.]]'),\n",
       " (207433, '[[Ok]]aba Station'),\n",
       " (207434, 'Ok[[aba]] Station'),\n",
       " (207435, 'Okaba[[ Station]]'),\n",
       " (209076, '[[3]].'),\n",
       " (209077, '3[[.]]'),\n",
       " (212125, '[[<]]br>'),\n",
       " (212126, '<[[br]]>'),\n",
       " (212127, '<br[[>]]'),\n",
       " (212415, '[[He]].'),\n",
       " (212416, 'He[[.]]'),\n",
       " (213060, '[[Nor]]wegian CD Single'),\n",
       " (213061, 'Nor[[wegian]] CD Single'),\n",
       " (213062, 'Norwegian[[ CD]] Single'),\n",
       " (213063, 'Norwegian CD[[ Single]]'),\n",
       " (214723, '[[<]]br>'),\n",
       " (214724, '<[[br]]>'),\n",
       " (214725, '<br[[>]]'),\n",
       " (215189, '[[April]] 24'),\n",
       " (215190, 'April[[ 24]]'),\n",
       " (216109, '[[Produ]]cer:'),\n",
       " (216110, 'Produ[[cer]]:'),\n",
       " (216111, 'Producer[[:]]'),\n",
       " (220297, '[[Peter]] Fister'),\n",
       " (220298, 'Peter[[ F]]ister'),\n",
       " (220299, 'Peter F[[ister]]'),\n",
       " (221984, '[[This]] band never recorded.'),\n",
       " (221985, 'This[[ band]] never recorded.'),\n",
       " (221986, 'This band[[ never]] recorded.'),\n",
       " (221987, 'This band never[[ recorded]].'),\n",
       " (221988, 'This band never recorded[[.]]'),\n",
       " (226306, '[[<]]br>'),\n",
       " (226307, '<[[br]]>'),\n",
       " (226308, '<br[[>]]'),\n",
       " (230093, '[[Mich]]io Kubota'),\n",
       " (230094, 'Mich[[io]] Kubota'),\n",
       " (230095, 'Michio[[ Kub]]ota'),\n",
       " (230096, 'Michio Kub[[ota]]'),\n",
       " (231441, '[[October]] 10'),\n",
       " (231442, 'October[[ 10]]'),\n",
       " (232570, '[[5]] and ii.'),\n",
       " (232571, '5[[ and]] ii.'),\n",
       " (232572, '5 and[[ ii]].'),\n",
       " (232573, '5 and ii[[.]]'),\n",
       " (233126, '[[Air]].'),\n",
       " (233127, 'Air[[.]]'),\n",
       " (233498, '[[R]]aido'),\n",
       " (233499, 'R[[aido]]'),\n",
       " (233913, '[[A]] Wireless Set No.'),\n",
       " (233914, 'A[[ Wireless]] Set No.'),\n",
       " (233915, 'A Wireless[[ Set]] No.'),\n",
       " (233916, 'A Wireless Set[[ No]].'),\n",
       " (233917, 'A Wireless Set No[[.]]'),\n",
       " (237707, '[[C]]itations\\n\\nSources'),\n",
       " (237708, 'C[[itations]]\\n\\nSources'),\n",
       " (237709, 'Citations[[\\n]]\\nSources'),\n",
       " (237710, 'Citations\\n[[\\n]]Sources'),\n",
       " (237711, 'Citations\\n\\n[[Sources]]'),\n",
       " (238534, '[[Nob]]uyuki Takagi'),\n",
       " (238535, 'Nob[[uy]]uki Takagi'),\n",
       " (238536, 'Nobuy[[uki]] Takagi'),\n",
       " (238537, 'Nobuyuki[[ Tak]]agi'),\n",
       " (238538, 'Nobuyuki Tak[[agi]]'),\n",
       " (238539, '[[Spe]]cies include:'),\n",
       " (238540, 'Spe[[cies]] include:'),\n",
       " (238541, 'Species[[ include]]:'),\n",
       " (238542, 'Species include[[:]]'),\n",
       " (238947, '[[References]]'),\n",
       " (241992, '[[Pal]]ucho'),\n",
       " (241993, 'Pal[[uch]]o'),\n",
       " (241994, 'Paluch[[o]]'),\n",
       " (243465, '[[<]]br>'),\n",
       " (243466, '<[[br]]>'),\n",
       " (243467, '<br[[>]]'),\n",
       " (243699, '[[<]]br>'),\n",
       " (243700, '<[[br]]>'),\n",
       " (243701, '<br[[>]]'),\n",
       " (247195, '[[<]]br>'),\n",
       " (247196, '<[[br]]>'),\n",
       " (247197, '<br[[>]]'),\n",
       " (248203, '[[M]]asaki Suzuki'),\n",
       " (248204, 'M[[asaki]] Suzuki'),\n",
       " (248205, 'Masaki[[ Suzuki]]'),\n",
       " (249453, '[[\"-]]series albums, including'),\n",
       " (249454, '\"-[[series]] albums, including'),\n",
       " (249455, '\"-series[[ albums]], including'),\n",
       " (249456, '\"-series albums[[,]] including'),\n",
       " (249457, '\"-series albums,[[ including]]'),\n",
       " (251050, '[[Examples]] include:'),\n",
       " (251051, 'Examples[[ include]]:'),\n",
       " (251052, 'Examples include[[:]]'),\n",
       " (252393, '[[L]]oes Ypma'),\n",
       " (252394, 'L[[oes]] Ypma'),\n",
       " (252395, 'Loes[[ Y]]pma'),\n",
       " (252396, 'Loes Y[[p]]ma'),\n",
       " (252397, 'Loes Yp[[ma]]'),\n",
       " (252832, '[[The]] court wrote,'),\n",
       " (252833, 'The[[ court]] wrote,'),\n",
       " (252834, 'The court[[ wrote]],'),\n",
       " (252835, 'The court wrote[[,]]'),\n",
       " (260572, '[[Their]] children included:'),\n",
       " (260573, 'Their[[ children]] included:'),\n",
       " (260574, 'Their children[[ included]]:'),\n",
       " (260575, 'Their children included[[:]]'),\n",
       " (263570, '[[C]]itations\\n\\nSources'),\n",
       " (263571, 'C[[itations]]\\n\\nSources'),\n",
       " (263572, 'Citations[[\\n]]\\nSources'),\n",
       " (263573, 'Citations\\n[[\\n]]Sources'),\n",
       " (263574, 'Citations\\n\\n[[Sources]]'),\n",
       " (268158, '[[12]]64 in poetry'),\n",
       " (268159, '12[[64]] in poetry'),\n",
       " (268160, '1264[[ in]] poetry'),\n",
       " (268161, '1264 in[[ poetry]]'),\n",
       " (269089, '[[Diff]]usions are stagnant.'),\n",
       " (269090, 'Diff[[usions]] are stagnant.'),\n",
       " (269091, 'Diffusions[[ are]] stagnant.'),\n",
       " (269092, 'Diffusions are[[ stagnant]].'),\n",
       " (269093, 'Diffusions are stagnant[[.]]'),\n",
       " (270187, '[[Individual]]'),\n",
       " (272726, '[[March]] 26'),\n",
       " (272727, 'March[[ 26]]'),\n",
       " (274379, '[[K]]abangbag'),\n",
       " (274380, 'K[[ab]]angbag'),\n",
       " (274381, 'Kab[[ang]]bag'),\n",
       " (274382, 'Kabang[[bag]]'),\n",
       " (276212, '[[Fort]] William finished bottom.'),\n",
       " (276213, 'Fort[[ William]] finished bottom.'),\n",
       " (276214, 'Fort William[[ finished]] bottom.'),\n",
       " (276215, 'Fort William finished[[ bottom]].'),\n",
       " (276216, 'Fort William finished bottom[[.]]'),\n",
       " (276493, '[[10]].3 ha.'),\n",
       " (276494, '10[[.]]3 ha.'),\n",
       " (276495, '10.[[3]] ha.'),\n",
       " (276496, '10.3[[ ha]].'),\n",
       " (276497, '10.3 ha[[.]]'),\n",
       " (276766, '[[Official]] website'),\n",
       " (276767, 'Official[[ website]]'),\n",
       " (277484, '[[R]]ana Okada'),\n",
       " (277485, 'R[[ana]] Okada'),\n",
       " (277486, 'Rana[[ Ok]]ada'),\n",
       " (277487, 'Rana Ok[[ada]]'),\n",
       " (278054, '[[<]]br>'),\n",
       " (278055, '<[[br]]>'),\n",
       " (278056, '<br[[>]]'),\n",
       " (278354, '[[<]]br>'),\n",
       " (278355, '<[[br]]>'),\n",
       " (278356, '<br[[>]]'),\n",
       " (281495, '[[I]]chi'),\n",
       " (281496, 'I[[chi]]'),\n",
       " (281952, '[[.]]'),\n",
       " (282617, '[[As]] at 11 March 2020'),\n",
       " (282618, 'As[[ at]] 11 March 2020'),\n",
       " (282619, 'As at[[ 11]] March 2020'),\n",
       " (282620, 'As at 11[[ March]] 2020'),\n",
       " (282621, 'As at 11 March[[ 2020]]'),\n",
       " (285317, '[[A]] Larva to Love'),\n",
       " (285318, 'A[[ Lar]]va to Love'),\n",
       " (285319, 'A Lar[[va]] to Love'),\n",
       " (285320, 'A Larva[[ to]] Love'),\n",
       " (285321, 'A Larva to[[ Love]]'),\n",
       " (287098, '[[She]] still teaches bridge.'),\n",
       " (287099, 'She[[ still]] teaches bridge.'),\n",
       " (287100, 'She still[[ teaches]] bridge.'),\n",
       " (287101, 'She still teaches[[ bridge]].'),\n",
       " (287102, 'She still teaches bridge[[.]]'),\n",
       " (290012, \"[[Dead]] Man's Float\"),\n",
       " (290013, \"Dead[[ Man]]'s Float\"),\n",
       " (290014, \"Dead Man[['s]] Float\"),\n",
       " (290015, \"Dead Man's[[ Float]]\"),\n",
       " (290315, '[[<]]onlyinclude>'),\n",
       " (290316, '<[[only]]include>'),\n",
       " (290317, '<only[[include]]>'),\n",
       " (290318, '<onlyinclude[[>]]'),\n",
       " (294827, '[[3]].'),\n",
       " (294828, '3[[.]]'),\n",
       " (295470, '[[Source]]:'),\n",
       " (295471, 'Source[[:]]'),\n",
       " (298802, '[[The]] population density was.'),\n",
       " (298803, 'The[[ population]] density was.'),\n",
       " (298804, 'The population[[ density]] was.'),\n",
       " (298805, 'The population density[[ was]].'),\n",
       " (298806, 'The population density was[[.]]'),\n",
       " (300945, '[[In]] Concert!'),\n",
       " (300946, 'In[[ Concert]]!'),\n",
       " (300947, 'In Concert[[!]]'),\n",
       " (304781, '[[C]]aisnes'),\n",
       " (304782, 'C[[ais]]nes'),\n",
       " (304783, 'Cais[[nes]]'),\n",
       " (306304, '[[Specific]] types include:'),\n",
       " (306305, 'Specific[[ types]] include:'),\n",
       " (306306, 'Specific types[[ include]]:'),\n",
       " (306307, 'Specific types include[[:]]'),\n",
       " (309205, '[[Tank]]aro Ga'),\n",
       " (309206, 'Tank[[aro]] Ga'),\n",
       " (309207, 'Tankaro[[ Ga]]'),\n",
       " (311042, '[[Production]]'),\n",
       " (316408, '[[St]]aller'),\n",
       " (316409, 'St[[all]]er'),\n",
       " (316410, 'Stall[[er]]'),\n",
       " (317499, '[[Greek]] Sources\\nRussian Sources'),\n",
       " (317500, 'Greek[[ Sources]]\\nRussian Sources'),\n",
       " (317501, 'Greek Sources[[\\n]]Russian Sources'),\n",
       " (317502, 'Greek Sources\\n[[Russian]] Sources'),\n",
       " (317503, 'Greek Sources\\nRussian[[ Sources]]'),\n",
       " (331042, '[[<]]br>'),\n",
       " (331043, '<[[br]]>'),\n",
       " (331044, '<br[[>]]'),\n",
       " (331259, '[[Port]] Kennedy, Western Australia'),\n",
       " (331260, 'Port[[ Kennedy]], Western Australia'),\n",
       " (331261, 'Port Kennedy[[,]] Western Australia'),\n",
       " (331262, 'Port Kennedy,[[ Western]] Australia'),\n",
       " (331263, 'Port Kennedy, Western[[ Australia]]'),\n",
       " (331702, '[[The]] population density was.'),\n",
       " (331703, 'The[[ population]] density was.'),\n",
       " (331704, 'The population[[ density]] was.'),\n",
       " (331705, 'The population density[[ was]].'),\n",
       " (331706, 'The population density was[[.]]'),\n",
       " (332788, '[[<]]br>'),\n",
       " (332789, '<[[br]]>'),\n",
       " (332790, '<br[[>]]'),\n",
       " (333002, '[[<]]br>'),\n",
       " (333003, '<[[br]]>'),\n",
       " (333004, '<br[[>]]'),\n",
       " (333292, '[[It]] may refer to'),\n",
       " (333293, 'It[[ may]] refer to'),\n",
       " (333294, 'It may[[ refer]] to'),\n",
       " (333295, 'It may refer[[ to]]'),\n",
       " (335964, '[[Men]]'),\n",
       " (336232, '[[11]] in the UK.'),\n",
       " (336233, '11[[ in]] the UK.'),\n",
       " (336234, '11 in[[ the]] UK.'),\n",
       " (336235, '11 in the[[ UK]].'),\n",
       " (336236, '11 in the UK[[.]]'),\n",
       " (339816, '[[&]] O.'),\n",
       " (339817, '&[[ O]].'),\n",
       " (339818, '& O[[.]]'),\n",
       " (342157, '[[<]]br>'),\n",
       " (342158, '<[[br]]>'),\n",
       " (342159, '<br[[>]]'),\n",
       " (342708, '[[P]]ompignac'),\n",
       " (342709, 'P[[omp]]ignac'),\n",
       " (342710, 'Pomp[[ign]]ac'),\n",
       " (342711, 'Pompign[[ac]]'),\n",
       " (344741, '[[Att]]ribution'),\n",
       " (344742, 'Att[[ribution]]'),\n",
       " (345441, '[[Month]]arville'),\n",
       " (345442, 'Month[[ar]]ville'),\n",
       " (345443, 'Monthar[[ville]]'),\n",
       " (347356, '[[AT]]C code B01'),\n",
       " (347357, 'AT[[C]] code B01'),\n",
       " (347358, 'ATC[[ code]] B01'),\n",
       " (347359, 'ATC code[[ B]]01'),\n",
       " (347360, 'ATC code B[[01]]'),\n",
       " (353106, '[[France]] qualified.'),\n",
       " (353107, 'France[[ qualified]].'),\n",
       " (353108, 'France qualified[[.]]'),\n",
       " (355695, '[[Body]] dull blackish.'),\n",
       " (355696, 'Body[[ dull]] blackish.'),\n",
       " (355697, 'Body dull[[ black]]ish.'),\n",
       " (355698, 'Body dull black[[ish]].'),\n",
       " (355699, 'Body dull blackish[[.]]'),\n",
       " (356724, '[[4]].0\\n!'),\n",
       " (356725, '4[[.]]0\\n!'),\n",
       " (356726, '4.[[0]]\\n!'),\n",
       " (356727, '4.0[[\\n]]!'),\n",
       " (356728, '4.0\\n[[!]]'),\n",
       " (360847, '[[Ter]]minusDB'),\n",
       " (360848, 'Ter[[minus]]DB'),\n",
       " (360849, 'Terminus[[DB]]'),\n",
       " (361428, '[[Host]] nation'),\n",
       " (361429, 'Host[[ nation]]'),\n",
       " (363054, '[[The]] services include:'),\n",
       " (363055, 'The[[ services]] include:'),\n",
       " (363056, 'The services[[ include]]:'),\n",
       " (363057, 'The services include[[:]]'),\n",
       " (364947, '[[A]]uxiliary aid'),\n",
       " (364948, 'A[[ux]]iliary aid'),\n",
       " (364949, 'Aux[[iliary]] aid'),\n",
       " (364950, 'Auxiliary[[ aid]]'),\n",
       " (366513, '[[N]]erve center'),\n",
       " (366514, 'N[[erve]] center'),\n",
       " (366515, 'Nerve[[ center]]'),\n",
       " (368737, '[[<]]br>'),\n",
       " (368738, '<[[br]]>'),\n",
       " (368739, '<br[[>]]'),\n",
       " (373847, '[[O]]pa!'),\n",
       " (373848, 'O[[pa]]!'),\n",
       " (373849, 'Opa[[!]]'),\n",
       " (374035, '[[Club]].'),\n",
       " (374036, 'Club[[.]]'),\n",
       " (378184, '[[<]]br>'),\n",
       " (378185, '<[[br]]>'),\n",
       " (378186, '<br[[>]]'),\n",
       " (381951, '[[Population]]:'),\n",
       " (381952, 'Population[[:]]'),\n",
       " (382302, '[[<]]br>'),\n",
       " (382303, '<[[br]]>'),\n",
       " (382304, '<br[[>]]'),\n",
       " (382499, '[[1]].'),\n",
       " (382500, '1[[.]]'),\n",
       " (383714, '[[.]]'),\n",
       " (383978, '[[It]] might refer to:'),\n",
       " (383979, 'It[[ might]] refer to:'),\n",
       " (383980, 'It might[[ refer]] to:'),\n",
       " (383981, 'It might refer[[ to]]:'),\n",
       " (383982, 'It might refer to[[:]]'),\n",
       " (387815, '[[..]]'),\n",
       " (389416, '[[Japan]] National Route 117'),\n",
       " (389417, 'Japan[[ National]] Route 117'),\n",
       " (389418, 'Japan National[[ Route]] 117'),\n",
       " (389419, 'Japan National Route[[ 117]]'),\n",
       " (389501, '[[Tim]]eline of railway history'),\n",
       " (389502, 'Tim[[eline]] of railway history'),\n",
       " (389503, 'Timeline[[ of]] railway history'),\n",
       " (389504, 'Timeline of[[ railway]] history'),\n",
       " (389505, 'Timeline of railway[[ history]]'),\n",
       " (391697, '[[Ev]]ildoers Beware!'),\n",
       " (391698, 'Ev[[ildo]]ers Beware!'),\n",
       " (391699, 'Evildo[[ers]] Beware!'),\n",
       " (391700, 'Evildoers[[ Beware]]!'),\n",
       " (391701, 'Evildoers Beware[[!]]'),\n",
       " (392492, '[[There]] are 2 streets.'),\n",
       " (392493, 'There[[ are]] 2 streets.'),\n",
       " (392494, 'There are[[ 2]] streets.'),\n",
       " (392495, 'There are 2[[ streets]].'),\n",
       " (392496, 'There are 2 streets[[.]]'),\n",
       " (392504, '[[I]] cried.'),\n",
       " (392505, 'I[[ cried]].'),\n",
       " (392506, 'I cried[[.]]'),\n",
       " (395019, '[[<]]br>'),\n",
       " (395020, '<[[br]]>'),\n",
       " (395021, '<br[[>]]'),\n",
       " (396404, '[[the]] world].'),\n",
       " (396405, 'the[[ world]]].'),\n",
       " (396406, 'the world[[].]]'),\n",
       " (396470, '[[He]] resides in Stockholm.'),\n",
       " (396471, 'He[[ resides]] in Stockholm.'),\n",
       " (396472, 'He resides[[ in]] Stockholm.'),\n",
       " (396473, 'He resides in[[ Stockholm]].'),\n",
       " (396474, 'He resides in Stockholm[[.]]'),\n",
       " (398928, '[[There]] were no injuries.'),\n",
       " (398929, 'There[[ were]] no injuries.'),\n",
       " (398930, 'There were[[ no]] injuries.'),\n",
       " (398931, 'There were no[[ injuries]].'),\n",
       " (398932, 'There were no injuries[[.]]'),\n",
       " (400224, '[[None]] are preserved.'),\n",
       " (400225, 'None[[ are]] preserved.'),\n",
       " (400226, 'None are[[ preserved]].'),\n",
       " (400227, 'None are preserved[[.]]'),\n",
       " (400495, '[[There]] are 6 streets.'),\n",
       " (400496, 'There[[ are]] 6 streets.'),\n",
       " (400497, 'There are[[ 6]] streets.'),\n",
       " (400498, 'There are 6[[ streets]].'),\n",
       " (400499, 'There are 6 streets[[.]]'),\n",
       " (403647, '[[ft]].'),\n",
       " (403648, 'ft[[.]]'),\n",
       " (404832, '[[GC]]SE food technology'),\n",
       " (404833, 'GC[[SE]] food technology'),\n",
       " (404834, 'GCSE[[ food]] technology'),\n",
       " (404835, 'GCSE food[[ technology]]'),\n",
       " (404884, '[[M]]107'),\n",
       " (404885, 'M[[107]]'),\n",
       " (408725, '[[<]]br>'),\n",
       " (408726, '<[[br]]>'),\n",
       " (408727, '<br[[>]]'),\n",
       " (408770, '[[Location]] on the world map'),\n",
       " (408771, 'Location[[ on]] the world map'),\n",
       " (408772, 'Location on[[ the]] world map'),\n",
       " (408773, 'Location on the[[ world]] map'),\n",
       " (408774, 'Location on the world[[ map]]'),\n",
       " (409205, '[[99]]\\n!'),\n",
       " (409206, '99[[\\n]]!'),\n",
       " (409207, '99\\n[[!]]'),\n",
       " (410127, '[[B]]undesliga.'),\n",
       " (410128, 'B[[und]]esliga.'),\n",
       " (410129, 'Bund[[es]]liga.'),\n",
       " (410130, 'Bundes[[liga]].'),\n",
       " (410131, 'Bundesliga[[.]]'),\n",
       " (411549, '[[<]]br>'),\n",
       " (411550, '<[[br]]>'),\n",
       " (411551, '<br[[>]]'),\n",
       " (412869, '[[Senator]] Harry Reid.'),\n",
       " (412870, 'Senator[[ Harry]] Reid.'),\n",
       " (412871, 'Senator Harry[[ Reid]].'),\n",
       " (412872, 'Senator Harry Reid[[.]]'),\n",
       " (413572, '[[It]] was previously:'),\n",
       " (413573, 'It[[ was]] previously:'),\n",
       " (413574, 'It was[[ previously]]:'),\n",
       " (413575, 'It was previously[[:]]'),\n",
       " (414840, '[[1]]–2 July'),\n",
       " (414841, '1[[–]]2 July'),\n",
       " (414842, '1–[[2]] July'),\n",
       " (414843, '1–2[[ July]]'),\n",
       " (416081, '[[L]]efor'),\n",
       " (416082, 'L[[ef]]or'),\n",
       " (416083, 'Lef[[or]]'),\n",
       " (417474, '[[37]] candidates.'),\n",
       " (417475, '37[[ candidates]].'),\n",
       " (417476, '37 candidates[[.]]'),\n",
       " (417629, '[[The]] population density is.'),\n",
       " (417630, 'The[[ population]] density is.'),\n",
       " (417631, 'The population[[ density]] is.'),\n",
       " (417632, 'The population density[[ is]].'),\n",
       " (417633, 'The population density is[[.]]'),\n",
       " (422676, '[[E]]t.'),\n",
       " (422677, 'E[[t]].'),\n",
       " (422678, 'Et[[.]]'),\n",
       " (430718, '[[<]]br>'),\n",
       " (430719, '<[[br]]>'),\n",
       " (430720, '<br[[>]]'),\n",
       " (430798, '[[Way]]ne Hoban.'),\n",
       " (430799, 'Way[[ne]] Hoban.'),\n",
       " (430800, 'Wayne[[ Hob]]an.'),\n",
       " (430801, 'Wayne Hob[[an]].'),\n",
       " (430802, 'Wayne Hoban[[.]]'),\n",
       " (431298, '[[<]]br>'),\n",
       " (431299, '<[[br]]>'),\n",
       " (431300, '<br[[>]]'),\n",
       " (431621, '[[His]] hobby is basketball.'),\n",
       " (431622, 'His[[ hobby]] is basketball.'),\n",
       " (431623, 'His hobby[[ is]] basketball.'),\n",
       " (431624, 'His hobby is[[ basketball]].'),\n",
       " (431625, 'His hobby is basketball[[.]]'),\n",
       " (431647, '[[Federal]] Statistical Office'),\n",
       " (431648, 'Federal[[ Statistical]] Office'),\n",
       " (431649, 'Federal Statistical[[ Office]]'),\n",
       " (433987, '[[15]]30s in architecture'),\n",
       " (433988, '15[[30]]s in architecture'),\n",
       " (433989, '1530[[s]] in architecture'),\n",
       " (433990, '1530s[[ in]] architecture'),\n",
       " (433991, '1530s in[[ architecture]]'),\n",
       " (434987, '[[Pat]]rik Enblad'),\n",
       " (434988, 'Pat[[rik]] Enblad'),\n",
       " (434989, 'Patrik[[ En]]blad'),\n",
       " (434990, 'Patrik En[[bl]]ad'),\n",
       " (434991, 'Patrik Enbl[[ad]]'),\n",
       " (435110, '[[on]] 20 December 2015.'),\n",
       " (435111, 'on[[ 20]] December 2015.'),\n",
       " (435112, 'on 20[[ December]] 2015.'),\n",
       " (435113, 'on 20 December[[ 2015]].'),\n",
       " (435114, 'on 20 December 2015[[.]]'),\n",
       " (435845, '[[They]] include surgical robots.'),\n",
       " (435846, 'They[[ include]] surgical robots.'),\n",
       " (435847, 'They include[[ surgical]] robots.'),\n",
       " (435848, 'They include surgical[[ robots]].'),\n",
       " (435849, 'They include surgical robots[[.]]'),\n",
       " (437970, '[[Born]] in Oslo.'),\n",
       " (437971, 'Born[[ in]] Oslo.'),\n",
       " (437972, 'Born in[[ Oslo]].'),\n",
       " (437973, 'Born in Oslo[[.]]'),\n",
       " (439859, '[[M]]ascarene Islands'),\n",
       " (439860, 'M[[asc]]arene Islands'),\n",
       " (439861, 'Masc[[are]]ne Islands'),\n",
       " (439862, 'Mascare[[ne]] Islands'),\n",
       " (439863, 'Mascarene[[ Islands]]'),\n",
       " (440537, '[[S]]ymphony No.'),\n",
       " (440538, 'S[[ymph]]ony No.'),\n",
       " (440539, 'Symph[[ony]] No.'),\n",
       " (440540, 'Symphony[[ No]].'),\n",
       " (440541, 'Symphony No[[.]]'),\n",
       " (447244, '[[.]]'),\n",
       " (447760, '[[S]]umbawa Island'),\n",
       " (447761, 'S[[umb]]awa Island'),\n",
       " (447762, 'Sumb[[awa]] Island'),\n",
       " (447763, 'Sumbawa[[ Island]]'),\n",
       " (449230, '[[Elizabeth]] then became queen.'),\n",
       " (449231, 'Elizabeth[[ then]] became queen.'),\n",
       " (449232, 'Elizabeth then[[ became]] queen.'),\n",
       " (449233, 'Elizabeth then became[[ queen]].'),\n",
       " (449234, 'Elizabeth then became queen[[.]]'),\n",
       " (450597, '[[There]] is 1 street.'),\n",
       " (450598, 'There[[ is]] 1 street.'),\n",
       " (450599, 'There is[[ 1]] street.'),\n",
       " (450600, 'There is 1[[ street]].'),\n",
       " (450601, 'There is 1 street[[.]]'),\n",
       " (454026, '[[<]]br>'),\n",
       " (454027, '<[[br]]>'),\n",
       " (454028, '<br[[>]]'),\n",
       " (456552, '[[V]]ernon Hoium'),\n",
       " (456553, 'V[[ern]]on Hoium'),\n",
       " (456554, 'Vern[[on]] Hoium'),\n",
       " (456555, 'Vernon[[ Ho]]ium'),\n",
       " (456556, 'Vernon Ho[[ium]]'),\n",
       " (457571, '[[List]] of rivers of Spain'),\n",
       " (457572, 'List[[ of]] rivers of Spain'),\n",
       " (457573, 'List of[[ rivers]] of Spain'),\n",
       " (457574, 'List of rivers[[ of]] Spain'),\n",
       " (457575, 'List of rivers of[[ Spain]]'),\n",
       " (461811, '[[It]] may refer to:'),\n",
       " (461812, 'It[[ may]] refer to:'),\n",
       " (461813, 'It may[[ refer]] to:'),\n",
       " (461814, 'It may refer[[ to]]:'),\n",
       " (461815, 'It may refer to[[:]]'),\n",
       " (464754, '[[Hit]]omi Station'),\n",
       " (464755, 'Hit[[omi]] Station'),\n",
       " (464756, 'Hitomi[[ Station]]'),\n",
       " (470520, '[[12]]06 in poetry'),\n",
       " (470521, '12[[06]] in poetry'),\n",
       " (470522, '1206[[ in]] poetry'),\n",
       " (470523, '1206 in[[ poetry]]'),\n",
       " (471655, '[[Att]]ribution:'),\n",
       " (471656, 'Att[[ribution]]:'),\n",
       " (471657, 'Attribution[[:]]'),\n",
       " (474882, '[[Sh]]iloh School District'),\n",
       " (474883, 'Sh[[il]]oh School District'),\n",
       " (474884, 'Shil[[oh]] School District'),\n",
       " (474885, 'Shiloh[[ School]] District'),\n",
       " (474886, 'Shiloh School[[ District]]'),\n",
       " (474905, '[[16]]02 in music'),\n",
       " (474906, '16[[02]] in music'),\n",
       " (474907, '1602[[ in]] music'),\n",
       " (474908, '1602 in[[ music]]'),\n",
       " (475578, '[[W]]onkifong'),\n",
       " (475579, 'W[[on]]kifong'),\n",
       " (475580, 'Won[[k]]ifong'),\n",
       " (475581, 'Wonk[[if]]ong'),\n",
       " (475582, 'Wonkif[[ong]]'),\n",
       " (475819, '[[April]] 30'),\n",
       " (475820, 'April[[ 30]]'),\n",
       " (477616, '[[(]]2006).'),\n",
       " (477617, '([[2006]]).'),\n",
       " (477618, '(2006[[).]]'),\n",
       " (479981, '[[I]] was really sick.'),\n",
       " (479982, 'I[[ was]] really sick.'),\n",
       " (479983, 'I was[[ really]] sick.'),\n",
       " (479984, 'I was really[[ sick]].'),\n",
       " (479985, 'I was really sick[[.]]'),\n",
       " (480021, '[[and]] My Favorite Butler.'),\n",
       " (480022, 'and[[ My]] Favorite Butler.'),\n",
       " (480023, 'and My[[ Favorite]] Butler.'),\n",
       " (480024, 'and My Favorite[[ Butler]].'),\n",
       " (480025, 'and My Favorite Butler[[.]]'),\n",
       " (480508, '[[W]]ynter Gordon.'),\n",
       " (480509, 'W[[yn]]ter Gordon.'),\n",
       " (480510, 'Wyn[[ter]] Gordon.'),\n",
       " (480511, 'Wynter[[ Gordon]].'),\n",
       " (480512, 'Wynter Gordon[[.]]'),\n",
       " (483885, '[[Hit]] the Floor!'),\n",
       " (483886, 'Hit[[ the]] Floor!'),\n",
       " (483887, 'Hit the[[ Floor]]!'),\n",
       " (483888, 'Hit the Floor[[!]]'),\n",
       " (484827, '[[Turn]]er.'),\n",
       " (484828, 'Turn[[er]].'),\n",
       " (484829, 'Turner[[.]]'),\n",
       " (484979, '[[June]] 2006 in sports'),\n",
       " (484980, 'June[[ 2006]] in sports'),\n",
       " (484981, 'June 2006[[ in]] sports'),\n",
       " (484982, 'June 2006 in[[ sports]]'),\n",
       " (485194, '[[(]]Cheers.)'),\n",
       " (485195, '([[Che]]ers.)'),\n",
       " (485196, '(Che[[ers]].)'),\n",
       " (485197, '(Cheers[[.)]]'),\n",
       " (491416, '[[The]] population density is.'),\n",
       " (491417, 'The[[ population]] density is.'),\n",
       " ...]"
      ]
     },
     "execution_count": 87,
     "metadata": {},
     "output_type": "execute_result"
    }
   ],
   "source": [
    "# Nice for finding short sentences in the dataset\n",
    "[(i,tok.text) for i, tok in enumerate(dataset_toks) if tok.len < 6]"
   ]
  },
  {
   "cell_type": "code",
   "execution_count": 88,
   "id": "b69624a9-ac1e-41fa-b1af-aca25dc5212a",
   "metadata": {},
   "outputs": [
    {
     "data": {
      "text/plain": [
       "('There are 7[[ streets]].',\n",
       " array([-0.05483913, -0.01580619,  0.09264714, -0.01732198], dtype=float32))"
      ]
     },
     "execution_count": 88,
     "metadata": {},
     "output_type": "execute_result"
    }
   ],
   "source": [
    "# Choose a tok and load act\n",
    "tok_id = 19513\n",
    "layer = 'arr_0'\n",
    "tok = dataset_toks[tok_id]\n",
    "tok_act = dataset_acts[layer][tok_id]\n",
    "tok.text, tok_act[:4]"
   ]
  },
  {
   "cell_type": "code",
   "execution_count": 89,
   "id": "d3187434-7628-421e-a3fa-8dc7bf235ac8",
   "metadata": {},
   "outputs": [
    {
     "name": "stdout",
     "output_type": "stream",
     "text": [
      "There are 7 streets.\n",
      "\n",
      "Tokenized ids:  tensor([[1858,  389,  767, 6483,   13]])\n",
      "In human readable form:  ['There', 'Ġare', 'Ġ7', 'Ġstreets', '.']\n",
      "\n"
     ]
    },
    {
     "data": {
      "text/plain": [
       "('streets',\n",
       " array([-0.05483913, -0.01580619,  0.09264714, -0.01732198], dtype=float32))"
      ]
     },
     "execution_count": 89,
     "metadata": {},
     "output_type": "execute_result"
    }
   ],
   "source": [
    "# From untokenized string, calculate this act. Tokenization of middle tokens is strage but act matches!\n",
    "doc_str = ''.join(tok.doc)\n",
    "print(doc_str)\n",
    "print()\n",
    "\n",
    "tokenization = model.tokenizer(doc_str, return_tensors=\"pt\")['input_ids']\n",
    "print(\"Tokenized ids: \", tokenization)\n",
    "print(\"In human readable form: \", model.tokenizer.convert_ids_to_tokens(tokenization[0]))\n",
    "print()\n",
    "\n",
    "doc_toks, doc_acts = model.get_doc_acts(doc_str)\n",
    "_doc_acts = doc_acts[layer]\n",
    "[(doc_tok, doc_act[:4]) for doc_tok, doc_act in zip(doc_toks, _doc_acts)][3]"
   ]
  },
  {
   "cell_type": "code",
   "execution_count": 90,
   "id": "b3e552dd-07ab-4439-95e7-6951262a0fc1",
   "metadata": {},
   "outputs": [
    {
     "name": "stdout",
     "output_type": "stream",
     "text": [
      "['There', ' are', ' 7', ' streets', '.']\n",
      "\n",
      "Tokenized ids:  [1858, 50256, 50256, 50256, 13]\n",
      "In human readable form:  There\n",
      "\n"
     ]
    },
    {
     "data": {
      "text/plain": [
       "('There are 7[[ streets]].',\n",
       " array([ 0.05106865, -0.10149168,  0.15546337, -0.04156054], dtype=float32))"
      ]
     },
     "execution_count": 90,
     "metadata": {},
     "output_type": "execute_result"
    }
   ],
   "source": [
    "# From token, freshly calculate act. Tokenization of middle tokens is strange and activation is wrong!\n",
    "print(doc)\n",
    "print()\n",
    "\n",
    "tok_act = model.get_tok_acts(tok)[layer]\n",
    "tokenization = model.tokenizer.convert_tokens_to_ids(tok.doc)\n",
    "print(\"Tokenized ids: \", tokenization)\n",
    "print(\"In human readable form: \", model.tokenizer.convert_ids_to_tokens(tokenization[0]))\n",
    "print()\n",
    "\n",
    "tok.text, tok_act[:4]"
   ]
  },
  {
   "cell_type": "markdown",
   "id": "18cc3741-db9d-4855-a4f9-f6b5effd15e1",
   "metadata": {
    "tags": []
   },
   "source": [
    "## Full experiment"
   ]
  },
  {
   "cell_type": "markdown",
   "id": "f282e93b-8645-4ce3-82cc-b76a3ed34741",
   "metadata": {},
   "source": [
    "### Set up model and choose tokens"
   ]
  },
  {
   "cell_type": "code",
   "execution_count": 100,
   "id": "be04d23c-e97a-40f4-9969-40f4efa5d118",
   "metadata": {},
   "outputs": [],
   "source": [
    "# Other params\n",
    "title = ''\n",
    "\n",
    "# Number of center tokens to analyze\n",
    "n_tokens = 10\n",
    "\n",
    "# Any center tokens, or specific kinds of tokens? e.g. Do you want to know if frequent tokens get farther from their type balls?\n",
    "filt = ''  # None or 'frequent.__' or 'partial' or 'top'\n",
    "\n",
    "# How many samples would you like to compare to? i.e. How big would you like the subcorpora and custom corpora to be? \n",
    "n_samples = 10\n",
    "\n",
    "n_layers = None  # None results in analyzing all layers\n",
    "\n",
    "# Where to save the data\n",
    "output_dir = 'distances'\n",
    "\n",
    "# Tag to attach to saved data. e.g. to indicate something special about this run.\n",
    "tag = ''"
   ]
  },
  {
   "cell_type": "code",
   "execution_count": 101,
   "id": "d5198b43-84d2-4e57-a18b-7adc62198c5b",
   "metadata": {},
   "outputs": [
    {
     "name": "stdout",
     "output_type": "stream",
     "text": [
      "Types:   Southern  into \n",
      "\n",
      "  and ,  company  less  A formerly  the\n"
     ]
    }
   ],
   "source": [
    "# Restrict, constructing a smaller corpus\n",
    "if filt in ['', ' ', None]:\n",
    "    f = lambda tok: not tok.is_special\n",
    "elif filt=='partial':\n",
    "    f = lambda tok: tok.is_partial\n",
    "elif filt.startswith('frequent'): # e.g. get elements arund the 90th percentile\n",
    "    start = float(filt.split('frequent')[1]) * len(types_counts)\n",
    "    valid_types = types_counts.most_common()[::-1][start:start+n_samples]\n",
    "    f = lambda tok: tok.type in valid_types and not tok.is_special\n",
    "elif filt=='top':\n",
    "    top_n, _ = zip(*types_counts.most_common(n_tokens+2))\n",
    "    f = lambda tok: tok.type in top_n and not tok.is_special\n",
    "# Note: these tokens are all unique - however there may be duplicates of the same type\n",
    "candidate_ids = list(filter(lambda tok_id: f(dataset_toks[tok_id]), range(len(dataset_toks))))\n",
    "# print(candidate_ids)\n",
    "tok_ids = random.sample(candidate_ids, n_tokens) # Sampling from the valid corpus\n",
    "print('Types: ', ' '.join([dataset_toks[tok_id].type for tok_id in tok_ids]))"
   ]
  },
  {
   "cell_type": "markdown",
   "id": "39363b55-f9d0-44af-8299-fbf1395a728e",
   "metadata": {},
   "source": [
    "### Choose subcorpora of tokens and recipes for custom tokens (e.g. the type set and the context set)"
   ]
  },
  {
   "cell_type": "code",
   "execution_count": 102,
   "id": "a3da9eb2-d029-4395-867d-c9f20bba73e9",
   "metadata": {},
   "outputs": [],
   "source": [
    "# Define\n",
    "filters = {}\n",
    "filters['Random tokens'] = lambda main_tok, candidate_tok: not candidate_tok.is_edge\n",
    "filters[f'Same type, in naturally occurring contexts'] = lambda tok1, tok2: tok1 != tok2 and tok1.same_type(tok2)"
   ]
  },
  {
   "cell_type": "code",
   "execution_count": 103,
   "id": "f9a28575-180b-4efa-9611-4b593ee3273d",
   "metadata": {},
   "outputs": [],
   "source": [
    "# Apply each filter, constructing the subcorpora of interest\n",
    "subcorpora = {filter_:{tok_id:[] for tok_id in tok_ids}  for filter_ in filters}\n",
    "# e.g. a subcorpus is filter (\"same type\") as this token (\"...caught...\")\n",
    "for candidate_tok_id in range(len(dataset_toks)):  # scan through dataset for relevant tokens\n",
    "    candidate_tok = dataset_toks[candidate_tok_id]\n",
    "    for tok_id in tok_ids:\n",
    "        tok = dataset_toks[tok_id]\n",
    "        for filter_, f in filters.items():\n",
    "            subcorpus = subcorpora[filter_][tok_id]\n",
    "            if len(subcorpus) < n_samples and f(tok, candidate_tok):  \n",
    "                # continue gathering points relevant to this subcorpus\n",
    "                subcorpus.append(candidate_tok_id)"
   ]
  },
  {
   "cell_type": "markdown",
   "id": "e6412b1a-6ab5-461f-9141-57562b291ea6",
   "metadata": {},
   "source": [
    "## Choose subcorpora to compare to\n",
    "Choose subcorpora of entire dataset, to see how far away a token is from this subcorpus.\n",
    "\n",
    "e.g. you might interested in how far away tokens are from their type ball (tokens of same type)."
   ]
  },
  {
   "cell_type": "code",
   "execution_count": 29,
   "id": "79da3cd1-0abb-4725-a222-4f12190bf1bf",
   "metadata": {},
   "outputs": [],
   "source": [
    "# Define\n",
    "filters = {}\n",
    "filters['Random tokens'] = lambda main_tok, candidate_tok: not candidate_tok.is_edge\n",
    "filters[f'Same type, in naturally occurring contexts'] = lambda tok1, tok2: tok1 != tok2 and tok1.same_type(tok2)\n",
    "filters[f'Same successor, in naturally occurring contexts'] = (\n",
    "    lambda tok1, tok2: tok1.same_next(tok2) and not tok1.same_type(tok2) and not tok2.is_edge)\n",
    "filters[f'Same bigram, natural'] = (\n",
    "    lambda tok1, tok2: tok1.same_type(tok2) and tok1.same_next(tok2) and not tok2.is_edge)\n",
    "filters[f'Partner in bigram, natural'] = (\n",
    "    lambda tok1, tok2: tok2.prev == tok1.type and tok1.next == tok2.type and not tok2.is_edge)"
   ]
  },
  {
   "cell_type": "code",
   "execution_count": 30,
   "id": "358d0260-e35f-4ab5-9d9e-02b07ee09b2d",
   "metadata": {},
   "outputs": [],
   "source": [
    "# Apply each filter, constructing the subcorpora of interest\n",
    "subcorpora = {filter_:{tok_id:[] for tok_id in tok_ids}  for filter_ in filters}\n",
    "# e.g. a subcorpus is filter (\"same type\") as this token (\"...caught...\")\n",
    "for candidate_tok_id in range(len(dataset_toks)):  # scan through dataset for relevant tokens\n",
    "    candidate_tok = dataset_toks[candidate_tok_id]\n",
    "    for tok_id in tok_ids:\n",
    "        tok = dataset_toks[tok_id]\n",
    "        for filter_, f in filters.items():\n",
    "            subcorpus = subcorpora[filter_][tok_id]\n",
    "            if len(subcorpus) < n_samples and f(tok, candidate_tok):  \n",
    "                # continue gathering points relevant to this subcorpus\n",
    "                subcorpus.append(candidate_tok_id)"
   ]
  },
  {
   "cell_type": "markdown",
   "id": "b50c6c12-e85c-450a-9418-27834aeea101",
   "metadata": {},
   "source": [
    "## Create custom corpora to compare to \n",
    "e.g. You may be interested in comparing this token to the same type dropped into random contexts"
   ]
  },
  {
   "cell_type": "code",
   "execution_count": 104,
   "id": "6babbfd1-54c3-4db4-99c0-50f70d9bba10",
   "metadata": {},
   "outputs": [],
   "source": [
    "# Define\n",
    "recipes = {}\n",
    "random_toks = random.choices(\n",
    "    list(filter(lambda tok: not tok.is_special and not tok.is_edge, dataset_toks)), \n",
    "    k=n_samples)\n",
    "recipes[f'Same type, dropped into random contexts'] = lambda tok: tok.in_contexts(random_toks)"
   ]
  },
  {
   "cell_type": "code",
   "execution_count": 105,
   "id": "f36c24e7-d9ed-4010-b845-50e11589c2e6",
   "metadata": {},
   "outputs": [
    {
     "name": "stdout",
     "output_type": "stream",
     "text": [
      "Constructing corpora...\n",
      "Same type, dropped into random contexts\n",
      "\n",
      "Pulling activations...\n",
      "Same type, dropped into random contexts\n"
     ]
    }
   ],
   "source": [
    "# Apply recacts_utiles, to construct the custom corpora to compare to\n",
    "custom_corpora = {}\n",
    "print('Constructing corpora...')\n",
    "for recipe, f in recipes.items():\n",
    "    print(recipe)\n",
    "    custom_corpora[recipe] = {tok_id: f(dataset_toks[tok_id]) for tok_id in tok_ids}  # a custom corpus is e.g. \"tokens in doc\" of this specific doc\n",
    "print('\\nPulling activations...')\n",
    "custom_corpora_acts = {}\n",
    "for recipe in recipes:\n",
    "    print(recipe)\n",
    "    custom_corpora_acts[recipe] = {tok_id: model.get_toks_acts(custom_toks) for tok_id, custom_toks in custom_corpora[recipe].items()}        "
   ]
  },
  {
   "cell_type": "markdown",
   "id": "ad0633f4-7c44-4231-b907-8643d7bf400c",
   "metadata": {
    "tags": []
   },
   "source": [
    "### Calculating distances to tokens of interest"
   ]
  },
  {
   "cell_type": "code",
   "execution_count": 106,
   "id": "71ad93f7-2a15-4da3-9d97-528e82244517",
   "metadata": {},
   "outputs": [],
   "source": [
    "# Params\n",
    "get_distances = get_angles # metric\n",
    "n_layers=4\n",
    "layers = select_layers(list(dataset_acts), n_layers)"
   ]
  },
  {
   "cell_type": "code",
   "execution_count": 107,
   "id": "b30741ac-65d9-4ddb-859c-9de657313a4b",
   "metadata": {},
   "outputs": [
    {
     "name": "stdout",
     "output_type": "stream",
     "text": [
      "arr_0\n",
      "arr_4\n",
      "arr_8\n",
      "arr_12\n"
     ]
    }
   ],
   "source": [
    "# Calculate\n",
    "distances = pd.DataFrame()\n",
    "dim = dataset_acts[layers[0]][0].shape[0]\n",
    "for layer in layers:\n",
    "    print(layer)\n",
    "    _dataset_acts = dataset_acts[layer]\n",
    "    for tok_id in tok_ids:\n",
    "        tok = dataset_toks[tok_id]\n",
    "        _tok_act = _dataset_acts[tok_id]\n",
    "        # filters on dataset\n",
    "        for filter_ in filters:\n",
    "            subcorpus_ids = subcorpora[filter_][tok_id]\n",
    "            subcorpus_distances = {\n",
    "                'other token': [dataset_toks[id_] for id_ in subcorpus_ids],\n",
    "                'distance': get_distances(_dataset_acts[subcorpus_ids], _tok_act),\n",
    "                'layer': [layer,] * len(subcorpus_ids),\n",
    "                'key': [filter_,] * len(subcorpus_ids),\n",
    "                'main token': [tok,] * len(subcorpus_ids)}\n",
    "            distances = pd.concat([distances, pd.DataFrame(subcorpus_distances)], ignore_index=True)\n",
    "            del subcorpus_distances\n",
    "        # custom corpora\n",
    "        for recipe in recipes:\n",
    "            custom_corpus = custom_corpora[recipe][tok_id]\n",
    "            _custom_corpus_acts = custom_corpora_acts[recipe][tok_id][layer]\n",
    "            custom_corpus_distances = {\n",
    "                'other token': custom_corpus,\n",
    "                'distance': get_distances(_custom_corpus_acts, _tok_act),\n",
    "                'layer': [layer,] * len(custom_corpus),\n",
    "                'key': [recipe,] * len(custom_corpus),\n",
    "                'main token': [tok,] * len(custom_corpus)}\n",
    "            distances = pd.concat([distances, pd.DataFrame(custom_corpus_distances)], ignore_index=True)\n",
    "            del custom_corpus_distances"
   ]
  },
  {
   "cell_type": "markdown",
   "id": "adcf4e4a-c72c-4cb4-957d-a15213da52c5",
   "metadata": {
    "tags": []
   },
   "source": [
    "\n",
    "### Visualize"
   ]
  },
  {
   "cell_type": "code",
   "execution_count": 108,
   "id": "ff743476-0bb2-44bb-ae52-74fc3218df4f",
   "metadata": {},
   "outputs": [],
   "source": [
    "# Setup\n",
    "layers = distances['layer'].unique().tolist()\n",
    "# distances - pull from csv\n",
    "for layer in layers:\n",
    "    median_rand = distances[(distances.key=='Random tokens') & (distances.layer==layer)]['distance'].median()\n",
    "    distances.loc[distances.layer==layer, 'normalized distance'] = distances[distances.layer==layer]['distance']/median_rand\n",
    "median = pd.concat([pd.DataFrame(dict(layer=layers)), \n",
    "                   pd.DataFrame({key: [distances[(distances.layer==layer) & (distances.key==key)]['normalized distance'].quantile(.5) for layer in layers] for key in keys})],\n",
    "                   axis=1)\n",
    "q1 = pd.concat([pd.DataFrame(dict(layer=layers)), \n",
    "                   pd.DataFrame({key: [distances[(distances.layer==layer) & (distances.key==key)]['normalized distance'].quantile(.25) for layer in layers] for key in keys})],\n",
    "                   axis=1)\n",
    "q3 = pd.concat([pd.DataFrame(dict(layer=layers)), \n",
    "                   pd.DataFrame({key: [distances[(distances.layer==layer) & (distances.key==key)]['normalized distance'].quantile(.75) for layer in layers] for key in keys})],\n",
    "                   axis=1)"
   ]
  },
  {
   "cell_type": "code",
   "execution_count": 110,
   "id": "4f89c38a-7f00-4723-9e63-a1ff2f8539f8",
   "metadata": {},
   "outputs": [
    {
     "data": {
      "application/vnd.plotly.v1+json": {
       "config": {
        "plotlyServerURL": "https://plot.ly"
       },
       "data": [
        {
         "hovertemplate": "=Random tokens<br>layer=%{x}<br>value=%{y}<extra></extra>",
         "legendgroup": "Random tokens",
         "line": {
          "color": "#636efa",
          "dash": "solid",
          "width": 3
         },
         "marker": {
          "symbol": "circle"
         },
         "mode": "lines",
         "name": "Random tokens",
         "orientation": "v",
         "showlegend": true,
         "type": "scatter",
         "visible": true,
         "x": [
          "arr_0",
          "arr_4",
          "arr_8",
          "arr_12"
         ],
         "xaxis": "x",
         "y": [
          0.9999999701976776,
          1.0000000298023224,
          1.0000000298023224,
          0.9999999701976776
         ],
         "yaxis": "y"
        },
        {
         "hovertemplate": "=Same type, in naturally occurring contexts<br>layer=%{x}<br>value=%{y}<extra></extra>",
         "legendgroup": "Same type, in naturally occurring contexts",
         "line": {
          "color": "#EF553B",
          "dash": "solid",
          "width": 3
         },
         "marker": {
          "symbol": "circle"
         },
         "mode": "lines",
         "name": "Same type, in naturally occurring contexts",
         "orientation": "v",
         "showlegend": true,
         "type": "scatter",
         "x": [
          "arr_0",
          "arr_4",
          "arr_8",
          "arr_12"
         ],
         "xaxis": "x",
         "y": [
          0.32084034383296967,
          0.49578240513801575,
          0.6627071499824524,
          0.39749644696712494
         ],
         "yaxis": "y"
        },
        {
         "hovertemplate": "=Same type, dropped into random contexts<br>layer=%{x}<br>value=%{y}<extra></extra>",
         "legendgroup": "Same type, dropped into random contexts",
         "line": {
          "color": "#00cc96",
          "dash": "solid",
          "width": 3
         },
         "marker": {
          "symbol": "circle"
         },
         "mode": "lines",
         "name": "Same type, dropped into random contexts",
         "orientation": "v",
         "showlegend": true,
         "type": "scatter",
         "x": [
          "arr_0",
          "arr_4",
          "arr_8",
          "arr_12"
         ],
         "xaxis": "x",
         "y": [
          0.8866738677024841,
          0.9852296710014343,
          0.8105783760547638,
          1.1401163935661316
         ],
         "yaxis": "y"
        },
        {
         "fill": "toself",
         "fillcolor": "#636EFA",
         "line": {
          "color": "#636EFA"
         },
         "mode": "lines",
         "opacity": 0.2,
         "showlegend": false,
         "type": "scatter",
         "x": [
          "arr_0",
          "arr_4",
          "arr_8",
          "arr_12",
          "arr_12",
          "arr_8",
          "arr_4",
          "arr_0"
         ],
         "y": [
          0.8849078416824341,
          0.9312118738889694,
          0.9261772036552429,
          0.7512884885072708,
          1.4660253524780273,
          1.0523121058940887,
          1.0592546463012695,
          1.1218582093715668
         ]
        },
        {
         "fill": "toself",
         "fillcolor": "#EF553B",
         "line": {
          "color": "#EF553B"
         },
         "mode": "lines",
         "opacity": 0.2,
         "showlegend": false,
         "type": "scatter",
         "x": [
          "arr_0",
          "arr_4",
          "arr_8",
          "arr_12",
          "arr_12",
          "arr_8",
          "arr_4",
          "arr_0"
         ],
         "y": [
          0.12428079172968864,
          0.4211428537964821,
          0.5513200014829636,
          0.2932610511779785,
          0.4911058619618416,
          0.7509199231863022,
          0.5731510519981384,
          0.5385738164186478
         ]
        },
        {
         "fill": "toself",
         "fillcolor": "#00CC96",
         "line": {
          "color": "#00CC96"
         },
         "mode": "lines",
         "opacity": 0.2,
         "showlegend": false,
         "type": "scatter",
         "x": [
          "arr_0",
          "arr_4",
          "arr_8",
          "arr_12",
          "arr_12",
          "arr_8",
          "arr_4",
          "arr_0"
         ],
         "y": [
          0.767314612865448,
          0.9022490084171295,
          0.7760895788669586,
          0.7250609248876572,
          1.2588823735713959,
          0.899506464600563,
          1.039465457201004,
          0.9781358987092972
         ]
        },
        {
         "hovertemplate": "x=%{x}<br>y=%{y}<extra></extra>",
         "legendgroup": "",
         "line": {
          "color": "white",
          "dash": "solid"
         },
         "marker": {
          "symbol": "circle"
         },
         "mode": "lines",
         "name": "",
         "orientation": "v",
         "showlegend": false,
         "type": "scatter",
         "x": [
          "arr_0",
          "arr_4",
          "arr_8",
          "arr_12"
         ],
         "xaxis": "x",
         "y": [
          1,
          1,
          1,
          1
         ],
         "yaxis": "y"
        }
       ],
       "layout": {
        "height": 500,
        "legend": {
         "title": {
          "text": ""
         },
         "tracegroupgap": 0
        },
        "margin": {
         "t": 60
        },
        "template": {
         "data": {
          "bar": [
           {
            "error_x": {
             "color": "#2a3f5f"
            },
            "error_y": {
             "color": "#2a3f5f"
            },
            "marker": {
             "line": {
              "color": "#E5ECF6",
              "width": 0.5
             },
             "pattern": {
              "fillmode": "overlay",
              "size": 10,
              "solidity": 0.2
             }
            },
            "type": "bar"
           }
          ],
          "barpolar": [
           {
            "marker": {
             "line": {
              "color": "#E5ECF6",
              "width": 0.5
             },
             "pattern": {
              "fillmode": "overlay",
              "size": 10,
              "solidity": 0.2
             }
            },
            "type": "barpolar"
           }
          ],
          "carpet": [
           {
            "aaxis": {
             "endlinecolor": "#2a3f5f",
             "gridcolor": "white",
             "linecolor": "white",
             "minorgridcolor": "white",
             "startlinecolor": "#2a3f5f"
            },
            "baxis": {
             "endlinecolor": "#2a3f5f",
             "gridcolor": "white",
             "linecolor": "white",
             "minorgridcolor": "white",
             "startlinecolor": "#2a3f5f"
            },
            "type": "carpet"
           }
          ],
          "choropleth": [
           {
            "colorbar": {
             "outlinewidth": 0,
             "ticks": ""
            },
            "type": "choropleth"
           }
          ],
          "contour": [
           {
            "colorbar": {
             "outlinewidth": 0,
             "ticks": ""
            },
            "colorscale": [
             [
              0,
              "#0d0887"
             ],
             [
              0.1111111111111111,
              "#46039f"
             ],
             [
              0.2222222222222222,
              "#7201a8"
             ],
             [
              0.3333333333333333,
              "#9c179e"
             ],
             [
              0.4444444444444444,
              "#bd3786"
             ],
             [
              0.5555555555555556,
              "#d8576b"
             ],
             [
              0.6666666666666666,
              "#ed7953"
             ],
             [
              0.7777777777777778,
              "#fb9f3a"
             ],
             [
              0.8888888888888888,
              "#fdca26"
             ],
             [
              1,
              "#f0f921"
             ]
            ],
            "type": "contour"
           }
          ],
          "contourcarpet": [
           {
            "colorbar": {
             "outlinewidth": 0,
             "ticks": ""
            },
            "type": "contourcarpet"
           }
          ],
          "heatmap": [
           {
            "colorbar": {
             "outlinewidth": 0,
             "ticks": ""
            },
            "colorscale": [
             [
              0,
              "#0d0887"
             ],
             [
              0.1111111111111111,
              "#46039f"
             ],
             [
              0.2222222222222222,
              "#7201a8"
             ],
             [
              0.3333333333333333,
              "#9c179e"
             ],
             [
              0.4444444444444444,
              "#bd3786"
             ],
             [
              0.5555555555555556,
              "#d8576b"
             ],
             [
              0.6666666666666666,
              "#ed7953"
             ],
             [
              0.7777777777777778,
              "#fb9f3a"
             ],
             [
              0.8888888888888888,
              "#fdca26"
             ],
             [
              1,
              "#f0f921"
             ]
            ],
            "type": "heatmap"
           }
          ],
          "heatmapgl": [
           {
            "colorbar": {
             "outlinewidth": 0,
             "ticks": ""
            },
            "colorscale": [
             [
              0,
              "#0d0887"
             ],
             [
              0.1111111111111111,
              "#46039f"
             ],
             [
              0.2222222222222222,
              "#7201a8"
             ],
             [
              0.3333333333333333,
              "#9c179e"
             ],
             [
              0.4444444444444444,
              "#bd3786"
             ],
             [
              0.5555555555555556,
              "#d8576b"
             ],
             [
              0.6666666666666666,
              "#ed7953"
             ],
             [
              0.7777777777777778,
              "#fb9f3a"
             ],
             [
              0.8888888888888888,
              "#fdca26"
             ],
             [
              1,
              "#f0f921"
             ]
            ],
            "type": "heatmapgl"
           }
          ],
          "histogram": [
           {
            "marker": {
             "pattern": {
              "fillmode": "overlay",
              "size": 10,
              "solidity": 0.2
             }
            },
            "type": "histogram"
           }
          ],
          "histogram2d": [
           {
            "colorbar": {
             "outlinewidth": 0,
             "ticks": ""
            },
            "colorscale": [
             [
              0,
              "#0d0887"
             ],
             [
              0.1111111111111111,
              "#46039f"
             ],
             [
              0.2222222222222222,
              "#7201a8"
             ],
             [
              0.3333333333333333,
              "#9c179e"
             ],
             [
              0.4444444444444444,
              "#bd3786"
             ],
             [
              0.5555555555555556,
              "#d8576b"
             ],
             [
              0.6666666666666666,
              "#ed7953"
             ],
             [
              0.7777777777777778,
              "#fb9f3a"
             ],
             [
              0.8888888888888888,
              "#fdca26"
             ],
             [
              1,
              "#f0f921"
             ]
            ],
            "type": "histogram2d"
           }
          ],
          "histogram2dcontour": [
           {
            "colorbar": {
             "outlinewidth": 0,
             "ticks": ""
            },
            "colorscale": [
             [
              0,
              "#0d0887"
             ],
             [
              0.1111111111111111,
              "#46039f"
             ],
             [
              0.2222222222222222,
              "#7201a8"
             ],
             [
              0.3333333333333333,
              "#9c179e"
             ],
             [
              0.4444444444444444,
              "#bd3786"
             ],
             [
              0.5555555555555556,
              "#d8576b"
             ],
             [
              0.6666666666666666,
              "#ed7953"
             ],
             [
              0.7777777777777778,
              "#fb9f3a"
             ],
             [
              0.8888888888888888,
              "#fdca26"
             ],
             [
              1,
              "#f0f921"
             ]
            ],
            "type": "histogram2dcontour"
           }
          ],
          "mesh3d": [
           {
            "colorbar": {
             "outlinewidth": 0,
             "ticks": ""
            },
            "type": "mesh3d"
           }
          ],
          "parcoords": [
           {
            "line": {
             "colorbar": {
              "outlinewidth": 0,
              "ticks": ""
             }
            },
            "type": "parcoords"
           }
          ],
          "pie": [
           {
            "automargin": true,
            "type": "pie"
           }
          ],
          "scatter": [
           {
            "marker": {
             "colorbar": {
              "outlinewidth": 0,
              "ticks": ""
             }
            },
            "type": "scatter"
           }
          ],
          "scatter3d": [
           {
            "line": {
             "colorbar": {
              "outlinewidth": 0,
              "ticks": ""
             }
            },
            "marker": {
             "colorbar": {
              "outlinewidth": 0,
              "ticks": ""
             }
            },
            "type": "scatter3d"
           }
          ],
          "scattercarpet": [
           {
            "marker": {
             "colorbar": {
              "outlinewidth": 0,
              "ticks": ""
             }
            },
            "type": "scattercarpet"
           }
          ],
          "scattergeo": [
           {
            "marker": {
             "colorbar": {
              "outlinewidth": 0,
              "ticks": ""
             }
            },
            "type": "scattergeo"
           }
          ],
          "scattergl": [
           {
            "marker": {
             "colorbar": {
              "outlinewidth": 0,
              "ticks": ""
             }
            },
            "type": "scattergl"
           }
          ],
          "scattermapbox": [
           {
            "marker": {
             "colorbar": {
              "outlinewidth": 0,
              "ticks": ""
             }
            },
            "type": "scattermapbox"
           }
          ],
          "scatterpolar": [
           {
            "marker": {
             "colorbar": {
              "outlinewidth": 0,
              "ticks": ""
             }
            },
            "type": "scatterpolar"
           }
          ],
          "scatterpolargl": [
           {
            "marker": {
             "colorbar": {
              "outlinewidth": 0,
              "ticks": ""
             }
            },
            "type": "scatterpolargl"
           }
          ],
          "scatterternary": [
           {
            "marker": {
             "colorbar": {
              "outlinewidth": 0,
              "ticks": ""
             }
            },
            "type": "scatterternary"
           }
          ],
          "surface": [
           {
            "colorbar": {
             "outlinewidth": 0,
             "ticks": ""
            },
            "colorscale": [
             [
              0,
              "#0d0887"
             ],
             [
              0.1111111111111111,
              "#46039f"
             ],
             [
              0.2222222222222222,
              "#7201a8"
             ],
             [
              0.3333333333333333,
              "#9c179e"
             ],
             [
              0.4444444444444444,
              "#bd3786"
             ],
             [
              0.5555555555555556,
              "#d8576b"
             ],
             [
              0.6666666666666666,
              "#ed7953"
             ],
             [
              0.7777777777777778,
              "#fb9f3a"
             ],
             [
              0.8888888888888888,
              "#fdca26"
             ],
             [
              1,
              "#f0f921"
             ]
            ],
            "type": "surface"
           }
          ],
          "table": [
           {
            "cells": {
             "fill": {
              "color": "#EBF0F8"
             },
             "line": {
              "color": "white"
             }
            },
            "header": {
             "fill": {
              "color": "#C8D4E3"
             },
             "line": {
              "color": "white"
             }
            },
            "type": "table"
           }
          ]
         },
         "layout": {
          "annotationdefaults": {
           "arrowcolor": "#2a3f5f",
           "arrowhead": 0,
           "arrowwidth": 1
          },
          "autotypenumbers": "strict",
          "coloraxis": {
           "colorbar": {
            "outlinewidth": 0,
            "ticks": ""
           }
          },
          "colorscale": {
           "diverging": [
            [
             0,
             "#8e0152"
            ],
            [
             0.1,
             "#c51b7d"
            ],
            [
             0.2,
             "#de77ae"
            ],
            [
             0.3,
             "#f1b6da"
            ],
            [
             0.4,
             "#fde0ef"
            ],
            [
             0.5,
             "#f7f7f7"
            ],
            [
             0.6,
             "#e6f5d0"
            ],
            [
             0.7,
             "#b8e186"
            ],
            [
             0.8,
             "#7fbc41"
            ],
            [
             0.9,
             "#4d9221"
            ],
            [
             1,
             "#276419"
            ]
           ],
           "sequential": [
            [
             0,
             "#0d0887"
            ],
            [
             0.1111111111111111,
             "#46039f"
            ],
            [
             0.2222222222222222,
             "#7201a8"
            ],
            [
             0.3333333333333333,
             "#9c179e"
            ],
            [
             0.4444444444444444,
             "#bd3786"
            ],
            [
             0.5555555555555556,
             "#d8576b"
            ],
            [
             0.6666666666666666,
             "#ed7953"
            ],
            [
             0.7777777777777778,
             "#fb9f3a"
            ],
            [
             0.8888888888888888,
             "#fdca26"
            ],
            [
             1,
             "#f0f921"
            ]
           ],
           "sequentialminus": [
            [
             0,
             "#0d0887"
            ],
            [
             0.1111111111111111,
             "#46039f"
            ],
            [
             0.2222222222222222,
             "#7201a8"
            ],
            [
             0.3333333333333333,
             "#9c179e"
            ],
            [
             0.4444444444444444,
             "#bd3786"
            ],
            [
             0.5555555555555556,
             "#d8576b"
            ],
            [
             0.6666666666666666,
             "#ed7953"
            ],
            [
             0.7777777777777778,
             "#fb9f3a"
            ],
            [
             0.8888888888888888,
             "#fdca26"
            ],
            [
             1,
             "#f0f921"
            ]
           ]
          },
          "colorway": [
           "#636efa",
           "#EF553B",
           "#00cc96",
           "#ab63fa",
           "#FFA15A",
           "#19d3f3",
           "#FF6692",
           "#B6E880",
           "#FF97FF",
           "#FECB52"
          ],
          "font": {
           "color": "#2a3f5f"
          },
          "geo": {
           "bgcolor": "white",
           "lakecolor": "white",
           "landcolor": "#E5ECF6",
           "showlakes": true,
           "showland": true,
           "subunitcolor": "white"
          },
          "hoverlabel": {
           "align": "left"
          },
          "hovermode": "closest",
          "mapbox": {
           "style": "light"
          },
          "paper_bgcolor": "white",
          "plot_bgcolor": "#E5ECF6",
          "polar": {
           "angularaxis": {
            "gridcolor": "white",
            "linecolor": "white",
            "ticks": ""
           },
           "bgcolor": "#E5ECF6",
           "radialaxis": {
            "gridcolor": "white",
            "linecolor": "white",
            "ticks": ""
           }
          },
          "scene": {
           "xaxis": {
            "backgroundcolor": "#E5ECF6",
            "gridcolor": "white",
            "gridwidth": 2,
            "linecolor": "white",
            "showbackground": true,
            "ticks": "",
            "zerolinecolor": "white"
           },
           "yaxis": {
            "backgroundcolor": "#E5ECF6",
            "gridcolor": "white",
            "gridwidth": 2,
            "linecolor": "white",
            "showbackground": true,
            "ticks": "",
            "zerolinecolor": "white"
           },
           "zaxis": {
            "backgroundcolor": "#E5ECF6",
            "gridcolor": "white",
            "gridwidth": 2,
            "linecolor": "white",
            "showbackground": true,
            "ticks": "",
            "zerolinecolor": "white"
           }
          },
          "shapedefaults": {
           "line": {
            "color": "#2a3f5f"
           }
          },
          "ternary": {
           "aaxis": {
            "gridcolor": "white",
            "linecolor": "white",
            "ticks": ""
           },
           "baxis": {
            "gridcolor": "white",
            "linecolor": "white",
            "ticks": ""
           },
           "bgcolor": "#E5ECF6",
           "caxis": {
            "gridcolor": "white",
            "linecolor": "white",
            "ticks": ""
           }
          },
          "title": {
           "x": 0.05
          },
          "xaxis": {
           "automargin": true,
           "gridcolor": "white",
           "linecolor": "white",
           "ticks": "",
           "title": {
            "standoff": 15
           },
           "zerolinecolor": "white",
           "zerolinewidth": 2
          },
          "yaxis": {
           "automargin": true,
           "gridcolor": "white",
           "linecolor": "white",
           "ticks": "",
           "title": {
            "standoff": 15
           },
           "zerolinecolor": "white",
           "zerolinewidth": 2
          }
         }
        },
        "title": {
         "x": 0.1,
         "y": 0.85
        },
        "width": 900,
        "xaxis": {
         "anchor": "y",
         "autorange": true,
         "domain": [
          0,
          1
         ],
         "range": [
          0,
          3
         ],
         "showticklabels": true,
         "tickvals": [
          "arr_0",
          "arr_4",
          "arr_8",
          "arr_12"
         ],
         "title": {
          "text": "Layers in GPT"
         },
         "type": "category"
        },
        "yaxis": {
         "anchor": "x",
         "domain": [
          0,
          1
         ],
         "nticks": 2,
         "range": [
          0,
          1.1
         ],
         "showgrid": false,
         "showticklabels": false,
         "title": {
          "text": "Distance"
         },
         "type": "linear"
        }
       }
      },
      "image/png": "[encoded data removed]",
      "text/html": [
       "<div>                            <div id=\"d789345a-df1f-4c4a-b91e-0411de51e8d9\" class=\"plotly-graph-div\" style=\"height:500px; width:900px;\"></div>            <script type=\"text/javascript\">                require([\"plotly\"], function(Plotly) {                    window.PLOTLYENV=window.PLOTLYENV || {};                                    if (document.getElementById(\"d789345a-df1f-4c4a-b91e-0411de51e8d9\")) {                    Plotly.newPlot(                        \"d789345a-df1f-4c4a-b91e-0411de51e8d9\",                        [{\"hovertemplate\":\"=Random tokens<br>layer=%{x}<br>value=%{y}<extra></extra>\",\"legendgroup\":\"Random tokens\",\"line\":{\"color\":\"#636efa\",\"dash\":\"solid\",\"width\":3},\"marker\":{\"symbol\":\"circle\"},\"mode\":\"lines\",\"name\":\"Random tokens\",\"orientation\":\"v\",\"showlegend\":true,\"type\":\"scatter\",\"x\":[\"arr_0\",\"arr_4\",\"arr_8\",\"arr_12\"],\"xaxis\":\"x\",\"y\":[0.9999999701976776,1.0000000298023224,1.0000000298023224,0.9999999701976776],\"yaxis\":\"y\"},{\"hovertemplate\":\"=Same type, in naturally occurring contexts<br>layer=%{x}<br>value=%{y}<extra></extra>\",\"legendgroup\":\"Same type, in naturally occurring contexts\",\"line\":{\"color\":\"#EF553B\",\"dash\":\"solid\",\"width\":3},\"marker\":{\"symbol\":\"circle\"},\"mode\":\"lines\",\"name\":\"Same type, in naturally occurring contexts\",\"orientation\":\"v\",\"showlegend\":true,\"type\":\"scatter\",\"x\":[\"arr_0\",\"arr_4\",\"arr_8\",\"arr_12\"],\"xaxis\":\"x\",\"y\":[0.32084034383296967,0.49578240513801575,0.6627071499824524,0.39749644696712494],\"yaxis\":\"y\"},{\"hovertemplate\":\"=Same type, dropped into random contexts<br>layer=%{x}<br>value=%{y}<extra></extra>\",\"legendgroup\":\"Same type, dropped into random contexts\",\"line\":{\"color\":\"#00cc96\",\"dash\":\"solid\",\"width\":3},\"marker\":{\"symbol\":\"circle\"},\"mode\":\"lines\",\"name\":\"Same type, dropped into random contexts\",\"orientation\":\"v\",\"showlegend\":true,\"type\":\"scatter\",\"x\":[\"arr_0\",\"arr_4\",\"arr_8\",\"arr_12\"],\"xaxis\":\"x\",\"y\":[0.8866738677024841,0.9852296710014343,0.8105783760547638,1.1401163935661316],\"yaxis\":\"y\"},{\"fill\":\"toself\",\"fillcolor\":\"#636EFA\",\"line\":{\"color\":\"#636EFA\"},\"mode\":\"lines\",\"opacity\":0.2,\"showlegend\":false,\"type\":\"scatter\",\"x\":[\"arr_0\",\"arr_4\",\"arr_8\",\"arr_12\",\"arr_12\",\"arr_8\",\"arr_4\",\"arr_0\"],\"y\":[0.8849078416824341,0.9312118738889694,0.9261772036552429,0.7512884885072708,1.4660253524780273,1.0523121058940887,1.0592546463012695,1.1218582093715668]},{\"fill\":\"toself\",\"fillcolor\":\"#EF553B\",\"line\":{\"color\":\"#EF553B\"},\"mode\":\"lines\",\"opacity\":0.2,\"showlegend\":false,\"type\":\"scatter\",\"x\":[\"arr_0\",\"arr_4\",\"arr_8\",\"arr_12\",\"arr_12\",\"arr_8\",\"arr_4\",\"arr_0\"],\"y\":[0.12428079172968864,0.4211428537964821,0.5513200014829636,0.2932610511779785,0.4911058619618416,0.7509199231863022,0.5731510519981384,0.5385738164186478]},{\"fill\":\"toself\",\"fillcolor\":\"#00CC96\",\"line\":{\"color\":\"#00CC96\"},\"mode\":\"lines\",\"opacity\":0.2,\"showlegend\":false,\"type\":\"scatter\",\"x\":[\"arr_0\",\"arr_4\",\"arr_8\",\"arr_12\",\"arr_12\",\"arr_8\",\"arr_4\",\"arr_0\"],\"y\":[0.767314612865448,0.9022490084171295,0.7760895788669586,0.7250609248876572,1.2588823735713959,0.899506464600563,1.039465457201004,0.9781358987092972]},{\"hovertemplate\":\"x=%{x}<br>y=%{y}<extra></extra>\",\"legendgroup\":\"\",\"line\":{\"color\":\"white\",\"dash\":\"solid\"},\"marker\":{\"symbol\":\"circle\"},\"mode\":\"lines\",\"name\":\"\",\"orientation\":\"v\",\"showlegend\":false,\"type\":\"scatter\",\"x\":[\"arr_0\",\"arr_4\",\"arr_8\",\"arr_12\"],\"xaxis\":\"x\",\"y\":[1,1,1,1],\"yaxis\":\"y\"}],                        {\"height\":500,\"legend\":{\"title\":{\"text\":\"\"},\"tracegroupgap\":0},\"margin\":{\"t\":60},\"template\":{\"data\":{\"bar\":[{\"error_x\":{\"color\":\"#2a3f5f\"},\"error_y\":{\"color\":\"#2a3f5f\"},\"marker\":{\"line\":{\"color\":\"#E5ECF6\",\"width\":0.5},\"pattern\":{\"fillmode\":\"overlay\",\"size\":10,\"solidity\":0.2}},\"type\":\"bar\"}],\"barpolar\":[{\"marker\":{\"line\":{\"color\":\"#E5ECF6\",\"width\":0.5},\"pattern\":{\"fillmode\":\"overlay\",\"size\":10,\"solidity\":0.2}},\"type\":\"barpolar\"}],\"carpet\":[{\"aaxis\":{\"endlinecolor\":\"#2a3f5f\",\"gridcolor\":\"white\",\"linecolor\":\"white\",\"minorgridcolor\":\"white\",\"startlinecolor\":\"#2a3f5f\"},\"baxis\":{\"endlinecolor\":\"#2a3f5f\",\"gridcolor\":\"white\",\"linecolor\":\"white\",\"minorgridcolor\":\"white\",\"startlinecolor\":\"#2a3f5f\"},\"type\":\"carpet\"}],\"choropleth\":[{\"colorbar\":{\"outlinewidth\":0,\"ticks\":\"\"},\"type\":\"choropleth\"}],\"contour\":[{\"colorbar\":{\"outlinewidth\":0,\"ticks\":\"\"},\"colorscale\":[[0.0,\"#0d0887\"],[0.1111111111111111,\"#46039f\"],[0.2222222222222222,\"#7201a8\"],[0.3333333333333333,\"#9c179e\"],[0.4444444444444444,\"#bd3786\"],[0.5555555555555556,\"#d8576b\"],[0.6666666666666666,\"#ed7953\"],[0.7777777777777778,\"#fb9f3a\"],[0.8888888888888888,\"#fdca26\"],[1.0,\"#f0f921\"]],\"type\":\"contour\"}],\"contourcarpet\":[{\"colorbar\":{\"outlinewidth\":0,\"ticks\":\"\"},\"type\":\"contourcarpet\"}],\"heatmap\":[{\"colorbar\":{\"outlinewidth\":0,\"ticks\":\"\"},\"colorscale\":[[0.0,\"#0d0887\"],[0.1111111111111111,\"#46039f\"],[0.2222222222222222,\"#7201a8\"],[0.3333333333333333,\"#9c179e\"],[0.4444444444444444,\"#bd3786\"],[0.5555555555555556,\"#d8576b\"],[0.6666666666666666,\"#ed7953\"],[0.7777777777777778,\"#fb9f3a\"],[0.8888888888888888,\"#fdca26\"],[1.0,\"#f0f921\"]],\"type\":\"heatmap\"}],\"heatmapgl\":[{\"colorbar\":{\"outlinewidth\":0,\"ticks\":\"\"},\"colorscale\":[[0.0,\"#0d0887\"],[0.1111111111111111,\"#46039f\"],[0.2222222222222222,\"#7201a8\"],[0.3333333333333333,\"#9c179e\"],[0.4444444444444444,\"#bd3786\"],[0.5555555555555556,\"#d8576b\"],[0.6666666666666666,\"#ed7953\"],[0.7777777777777778,\"#fb9f3a\"],[0.8888888888888888,\"#fdca26\"],[1.0,\"#f0f921\"]],\"type\":\"heatmapgl\"}],\"histogram\":[{\"marker\":{\"pattern\":{\"fillmode\":\"overlay\",\"size\":10,\"solidity\":0.2}},\"type\":\"histogram\"}],\"histogram2d\":[{\"colorbar\":{\"outlinewidth\":0,\"ticks\":\"\"},\"colorscale\":[[0.0,\"#0d0887\"],[0.1111111111111111,\"#46039f\"],[0.2222222222222222,\"#7201a8\"],[0.3333333333333333,\"#9c179e\"],[0.4444444444444444,\"#bd3786\"],[0.5555555555555556,\"#d8576b\"],[0.6666666666666666,\"#ed7953\"],[0.7777777777777778,\"#fb9f3a\"],[0.8888888888888888,\"#fdca26\"],[1.0,\"#f0f921\"]],\"type\":\"histogram2d\"}],\"histogram2dcontour\":[{\"colorbar\":{\"outlinewidth\":0,\"ticks\":\"\"},\"colorscale\":[[0.0,\"#0d0887\"],[0.1111111111111111,\"#46039f\"],[0.2222222222222222,\"#7201a8\"],[0.3333333333333333,\"#9c179e\"],[0.4444444444444444,\"#bd3786\"],[0.5555555555555556,\"#d8576b\"],[0.6666666666666666,\"#ed7953\"],[0.7777777777777778,\"#fb9f3a\"],[0.8888888888888888,\"#fdca26\"],[1.0,\"#f0f921\"]],\"type\":\"histogram2dcontour\"}],\"mesh3d\":[{\"colorbar\":{\"outlinewidth\":0,\"ticks\":\"\"},\"type\":\"mesh3d\"}],\"parcoords\":[{\"line\":{\"colorbar\":{\"outlinewidth\":0,\"ticks\":\"\"}},\"type\":\"parcoords\"}],\"pie\":[{\"automargin\":true,\"type\":\"pie\"}],\"scatter\":[{\"marker\":{\"colorbar\":{\"outlinewidth\":0,\"ticks\":\"\"}},\"type\":\"scatter\"}],\"scatter3d\":[{\"line\":{\"colorbar\":{\"outlinewidth\":0,\"ticks\":\"\"}},\"marker\":{\"colorbar\":{\"outlinewidth\":0,\"ticks\":\"\"}},\"type\":\"scatter3d\"}],\"scattercarpet\":[{\"marker\":{\"colorbar\":{\"outlinewidth\":0,\"ticks\":\"\"}},\"type\":\"scattercarpet\"}],\"scattergeo\":[{\"marker\":{\"colorbar\":{\"outlinewidth\":0,\"ticks\":\"\"}},\"type\":\"scattergeo\"}],\"scattergl\":[{\"marker\":{\"colorbar\":{\"outlinewidth\":0,\"ticks\":\"\"}},\"type\":\"scattergl\"}],\"scattermapbox\":[{\"marker\":{\"colorbar\":{\"outlinewidth\":0,\"ticks\":\"\"}},\"type\":\"scattermapbox\"}],\"scatterpolar\":[{\"marker\":{\"colorbar\":{\"outlinewidth\":0,\"ticks\":\"\"}},\"type\":\"scatterpolar\"}],\"scatterpolargl\":[{\"marker\":{\"colorbar\":{\"outlinewidth\":0,\"ticks\":\"\"}},\"type\":\"scatterpolargl\"}],\"scatterternary\":[{\"marker\":{\"colorbar\":{\"outlinewidth\":0,\"ticks\":\"\"}},\"type\":\"scatterternary\"}],\"surface\":[{\"colorbar\":{\"outlinewidth\":0,\"ticks\":\"\"},\"colorscale\":[[0.0,\"#0d0887\"],[0.1111111111111111,\"#46039f\"],[0.2222222222222222,\"#7201a8\"],[0.3333333333333333,\"#9c179e\"],[0.4444444444444444,\"#bd3786\"],[0.5555555555555556,\"#d8576b\"],[0.6666666666666666,\"#ed7953\"],[0.7777777777777778,\"#fb9f3a\"],[0.8888888888888888,\"#fdca26\"],[1.0,\"#f0f921\"]],\"type\":\"surface\"}],\"table\":[{\"cells\":{\"fill\":{\"color\":\"#EBF0F8\"},\"line\":{\"color\":\"white\"}},\"header\":{\"fill\":{\"color\":\"#C8D4E3\"},\"line\":{\"color\":\"white\"}},\"type\":\"table\"}]},\"layout\":{\"annotationdefaults\":{\"arrowcolor\":\"#2a3f5f\",\"arrowhead\":0,\"arrowwidth\":1},\"autotypenumbers\":\"strict\",\"coloraxis\":{\"colorbar\":{\"outlinewidth\":0,\"ticks\":\"\"}},\"colorscale\":{\"diverging\":[[0,\"#8e0152\"],[0.1,\"#c51b7d\"],[0.2,\"#de77ae\"],[0.3,\"#f1b6da\"],[0.4,\"#fde0ef\"],[0.5,\"#f7f7f7\"],[0.6,\"#e6f5d0\"],[0.7,\"#b8e186\"],[0.8,\"#7fbc41\"],[0.9,\"#4d9221\"],[1,\"#276419\"]],\"sequential\":[[0.0,\"#0d0887\"],[0.1111111111111111,\"#46039f\"],[0.2222222222222222,\"#7201a8\"],[0.3333333333333333,\"#9c179e\"],[0.4444444444444444,\"#bd3786\"],[0.5555555555555556,\"#d8576b\"],[0.6666666666666666,\"#ed7953\"],[0.7777777777777778,\"#fb9f3a\"],[0.8888888888888888,\"#fdca26\"],[1.0,\"#f0f921\"]],\"sequentialminus\":[[0.0,\"#0d0887\"],[0.1111111111111111,\"#46039f\"],[0.2222222222222222,\"#7201a8\"],[0.3333333333333333,\"#9c179e\"],[0.4444444444444444,\"#bd3786\"],[0.5555555555555556,\"#d8576b\"],[0.6666666666666666,\"#ed7953\"],[0.7777777777777778,\"#fb9f3a\"],[0.8888888888888888,\"#fdca26\"],[1.0,\"#f0f921\"]]},\"colorway\":[\"#636efa\",\"#EF553B\",\"#00cc96\",\"#ab63fa\",\"#FFA15A\",\"#19d3f3\",\"#FF6692\",\"#B6E880\",\"#FF97FF\",\"#FECB52\"],\"font\":{\"color\":\"#2a3f5f\"},\"geo\":{\"bgcolor\":\"white\",\"lakecolor\":\"white\",\"landcolor\":\"#E5ECF6\",\"showlakes\":true,\"showland\":true,\"subunitcolor\":\"white\"},\"hoverlabel\":{\"align\":\"left\"},\"hovermode\":\"closest\",\"mapbox\":{\"style\":\"light\"},\"paper_bgcolor\":\"white\",\"plot_bgcolor\":\"#E5ECF6\",\"polar\":{\"angularaxis\":{\"gridcolor\":\"white\",\"linecolor\":\"white\",\"ticks\":\"\"},\"bgcolor\":\"#E5ECF6\",\"radialaxis\":{\"gridcolor\":\"white\",\"linecolor\":\"white\",\"ticks\":\"\"}},\"scene\":{\"xaxis\":{\"backgroundcolor\":\"#E5ECF6\",\"gridcolor\":\"white\",\"gridwidth\":2,\"linecolor\":\"white\",\"showbackground\":true,\"ticks\":\"\",\"zerolinecolor\":\"white\"},\"yaxis\":{\"backgroundcolor\":\"#E5ECF6\",\"gridcolor\":\"white\",\"gridwidth\":2,\"linecolor\":\"white\",\"showbackground\":true,\"ticks\":\"\",\"zerolinecolor\":\"white\"},\"zaxis\":{\"backgroundcolor\":\"#E5ECF6\",\"gridcolor\":\"white\",\"gridwidth\":2,\"linecolor\":\"white\",\"showbackground\":true,\"ticks\":\"\",\"zerolinecolor\":\"white\"}},\"shapedefaults\":{\"line\":{\"color\":\"#2a3f5f\"}},\"ternary\":{\"aaxis\":{\"gridcolor\":\"white\",\"linecolor\":\"white\",\"ticks\":\"\"},\"baxis\":{\"gridcolor\":\"white\",\"linecolor\":\"white\",\"ticks\":\"\"},\"bgcolor\":\"#E5ECF6\",\"caxis\":{\"gridcolor\":\"white\",\"linecolor\":\"white\",\"ticks\":\"\"}},\"title\":{\"x\":0.05},\"xaxis\":{\"automargin\":true,\"gridcolor\":\"white\",\"linecolor\":\"white\",\"ticks\":\"\",\"title\":{\"standoff\":15},\"zerolinecolor\":\"white\",\"zerolinewidth\":2},\"yaxis\":{\"automargin\":true,\"gridcolor\":\"white\",\"linecolor\":\"white\",\"ticks\":\"\",\"title\":{\"standoff\":15},\"zerolinecolor\":\"white\",\"zerolinewidth\":2}}},\"title\":{\"x\":0.1,\"y\":0.85},\"width\":900,\"xaxis\":{\"anchor\":\"y\",\"domain\":[0.0,1.0],\"showticklabels\":true,\"tickvals\":[\"arr_0\",\"arr_4\",\"arr_8\",\"arr_12\"],\"title\":{\"text\":\"Layers in GPT\"}},\"yaxis\":{\"anchor\":\"x\",\"domain\":[0.0,1.0],\"nticks\":2,\"range\":[0,1.1],\"showgrid\":false,\"showticklabels\":false,\"title\":{\"text\":\"Distance\"}}},                        {\"responsive\": true}                    ).then(function(){\n",
       "                            \n",
       "var gd = document.getElementById('d789345a-df1f-4c4a-b91e-0411de51e8d9');\n",
       "var x = new MutationObserver(function (mutations, observer) {{\n",
       "        var display = window.getComputedStyle(gd).display;\n",
       "        if (!display || display === 'none') {{\n",
       "            console.log([gd, 'removed!']);\n",
       "            Plotly.purge(gd);\n",
       "            observer.disconnect();\n",
       "        }}\n",
       "}});\n",
       "\n",
       "// Listen for the removal of the full notebook cells\n",
       "var notebookContainer = gd.closest('#notebook-container');\n",
       "if (notebookContainer) {{\n",
       "    x.observe(notebookContainer, {childList: true});\n",
       "}}\n",
       "\n",
       "// Listen for the clearing of the current output cell\n",
       "var outputEl = gd.closest('.output');\n",
       "if (outputEl) {{\n",
       "    x.observe(outputEl, {childList: true});\n",
       "}}\n",
       "\n",
       "                        })                };                });            </script>        </div>"
      ]
     },
     "metadata": {},
     "output_type": "display_data"
    }
   ],
   "source": [
    "title = ''\n",
    "lines = px.line(median, x='layer', y=keys, width=900, height=500, labels={\"variable\": \"\"}, title=title).update_traces(line=dict(width=3))\n",
    "bands = get_error_bands(keys, q1,q3, layers)\n",
    "\n",
    "# Tweaks\n",
    "upper_bound = px.line(x=layers, y=[1,]*len(layers), color_discrete_sequence=['white',])\n",
    "fig = combine_figs([lines, bands, upper_bound])\n",
    "fig.update_yaxes(title='Distance', range=[0, 1.1], showticklabels=False, showgrid=False, nticks=2)\n",
    "fig.update_xaxes(title=f'Layers in {get_generic(model_type).upper()}', showticklabels=True, tickvals=layers)\n",
    "fig.update_layout(title_x=0.1, title_y=.85)\n",
    "fig"
   ]
  }
 ],
 "metadata": {
  "kernelspec": {
   "display_name": "Python 3",
   "language": "python",
   "name": "python3"
  },
  "language_info": {
   "codemirror_mode": {
    "name": "ipython",
    "version": 3
   },
   "file_extension": ".py",
   "mimetype": "text/x-python",
   "name": "python",
   "nbconvert_exporter": "python",
   "pygments_lexer": "ipython3",
   "version": "3.7.11"
  }
 },
 "nbformat": 4,
 "nbformat_minor": 5
}
