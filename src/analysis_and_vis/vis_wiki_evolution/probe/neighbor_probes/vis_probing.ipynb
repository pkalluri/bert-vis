{
 "cells": [
  {
   "cell_type": "markdown",
   "id": "432d1ccb-c958-439b-a023-8e0845a73079",
   "metadata": {},
   "source": [
    "# Visualizing probing accuracy"
   ]
  },
  {
   "cell_type": "markdown",
   "id": "2cfb016d-7a39-46fa-b75d-02c3faff4cd0",
   "metadata": {
    "tags": []
   },
   "source": [
    "## Vis helpers"
   ]
  },
  {
   "cell_type": "code",
   "execution_count": null,
   "id": "f624b054-c53f-49c3-90e3-7e361af0aac0",
   "metadata": {},
   "outputs": [],
   "source": [
    "print('Notebooks is working.')\n",
    "%load_ext autoreload\n",
    "%autoreload 2\n",
    "import os\n",
    "import sys\n",
    "sys.path.insert(0, os.path.abspath('../../..'))\n",
    "import pickle\n",
    "import numpy as np\n",
    "np.set_printoptions(precision=3, suppress=True)\n",
    "import plotly.express as px\n",
    "from sklearn.linear_model import LogisticRegression\n",
    "from sklearn import metrics\n",
    "import collections\n",
    "import pandas as pd\n",
    "import random\n",
    "import nltk\n",
    "import plotly.graph_objects as go\n",
    "from plotly.subplots import make_subplots\n",
    "from sklearn.preprocessing import StandardScaler\n",
    "import warnings\n",
    "import kaleido\n",
    "\n",
    "import utils.references as refs\n",
    "from utils.acts_util import normalize, spherize\n",
    "from utils.context_util import abbreviated_context as context_txt\n",
    "from quick_vis import identity_heatmaps"
   ]
  },
  {
   "cell_type": "code",
   "execution_count": null,
   "id": "2d25ecfa-c5ee-48a4-bb6c-ef4c2e367452",
   "metadata": {
    "tags": []
   },
   "outputs": [],
   "source": [
    "def vis(scores, model, required_note, metric='target_probs', save=False):\n",
    "    # Filter\n",
    "    scores = scores[(scores['note'] == required_note)]\n",
    "    #if model == 'GPT': \n",
    "    scores = scores[(scores['neighbor']>=0)]\n",
    "    # Prepare data table\n",
    "    scores['neighbor'] = scores['neighbor'].apply(lambda s: str(s))\n",
    "    scores['size'] = scores[metric] - min(scores[metric])\n",
    "    # Visualize\n",
    "    n_plots = len(scores['filter'].unique())\n",
    "    #width = 200 * n_plots if model=='BERT' else \n",
    "    width = 165 * n_plots\n",
    "    fig = px.scatter(scores, x='neighbor', y='layer', size='size', \n",
    "                     color=metric, hover_name=metric, size_max=12, range_color=[.1,1],\n",
    "                     #color_continuous_scale=px.colors.sequential.Rainbow[::],\n",
    "                     color_continuous_scale=px.colors.sequential.Hot,\n",
    "                     facet_col = 'filter',\n",
    "                     category_orders=dict(filter=['random', 'top']),\n",
    "                     template='plotly_dark', opacity=.8, \n",
    "                     labels={'score': 'Accuracy', 'neighbor': '', 'target_probs': 'Accuracy', 'score': 'Accuracy'}\n",
    "                    )\n",
    "    # Polish\n",
    "    fig.update_layout(width=width, height=300,\n",
    "                      title_x=0.5, title_y=.85,\n",
    "                      yaxis_title=f'Layers of {model}', \n",
    "                      showlegend=False, coloraxis_showscale=True,\n",
    "                      margin=dict(l=20, r=20, t=50, b=10))\n",
    "    fig.update_yaxes(nticks=13, showgrid=False, showticklabels=False)\n",
    "    fig.update_xaxes(nticks=1, showgrid=False, showticklabels=False)\n",
    "    fig.show()\n",
    "    if save: fig.write_image(f'figs/{model}_{required_note}.png')"
   ]
  },
  {
   "cell_type": "markdown",
   "id": "0607a88d-183b-4374-9984-1a45023a8ed3",
   "metadata": {},
   "source": [
    "## Vis"
   ]
  },
  {
   "cell_type": "code",
   "execution_count": null,
   "id": "76a620fc-4a24-4970-a336-08eef7a49b7a",
   "metadata": {},
   "outputs": [],
   "source": [
    "model = 'BERT'\n",
    "fp = '/atlas/u/pkalluri/bert-vis/big-data/bert/bert-base-cased/probes/probe_identity.csv'\n",
    "required_note = 'n_types=10'\n",
    "vis(pd.read_csv(fp), model, required_note, save=False)"
   ]
  },
  {
   "cell_type": "code",
   "execution_count": null,
   "id": "772d000c-37be-42d8-a245-2713dad37419",
   "metadata": {},
   "outputs": [],
   "source": [
    "model = 'GPT'\n",
    "fp = '/atlas/u/pkalluri/bert-vis/big-data/gpt/gpt2/probes/probe_identity.csv'\n",
    "required_note = 'n_types=10'\n",
    "vis(pd.read_csv(fp), model, required_note, save=False)"
   ]
  },
  {
   "cell_type": "code",
   "execution_count": null,
   "id": "ddadd2b9-a0d3-4d8f-9cb2-570bb1413f69",
   "metadata": {},
   "outputs": [],
   "source": [
    "# Linear plot showing the two phases\n",
    "scores = pd.read_csv(fp).sort_values(by='layer')\n",
    "scores = scores[(scores['note'] == required_note) & (scores['filter']=='top')]\n",
    "px.line(scores, x='layer', y='target_probs', color='neighbor', facet_col='filter', \n",
    "        width=400, height=400)"
   ]
  },
  {
   "cell_type": "code",
   "execution_count": null,
   "id": "edd5f6cf-5459-45ca-8d2b-d6c2e09e105d",
   "metadata": {},
   "outputs": [],
   "source": [
    "# Line plot showing the probe identity probe\n",
    "model = 'BERT'\n",
    "fp = '/atlas/u/pkalluri/bert-vis/big-data/bert/bert-base-cased/probes/probe_identity.csv'\n",
    "required_note = 'n_types=10'\n",
    "scores = pd.read_csv(fp).sort_values(by='layer')\n",
    "scores = scores[(scores['note'] == required_note) & \n",
    "                (scores['filter']=='top') & \n",
    "                (scores['neighbor']==0)]\n",
    "px.line(scores, x='layer', y='target_probs', color='neighbor', facet_col='filter', \n",
    "        width=400, height=400)"
   ]
  }
 ],
 "metadata": {
  "kernelspec": {
   "display_name": "Python 3",
   "language": "python",
   "name": "python3"
  },
  "language_info": {
   "codemirror_mode": {
    "name": "ipython",
    "version": 3
   },
   "file_extension": ".py",
   "mimetype": "text/x-python",
   "name": "python",
   "nbconvert_exporter": "python",
   "pygments_lexer": "ipython3",
   "version": "3.7.11"
  }
 },
 "nbformat": 4,
 "nbformat_minor": 5
}
