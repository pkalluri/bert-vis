{
 "cells": [
  {
   "cell_type": "code",
   "execution_count": 52,
   "id": "indian-summit",
   "metadata": {},
   "outputs": [],
   "source": [
    "import os\n",
    "import json\n",
    "from random import seed\n",
    "from random import randint"
   ]
  },
  {
   "cell_type": "code",
   "execution_count": 53,
   "id": "moving-defensive",
   "metadata": {},
   "outputs": [],
   "source": [
    "seed(1)\n",
    "num_samples = 1000\n",
    "rand_range = 269"
   ]
  },
  {
   "cell_type": "code",
   "execution_count": 54,
   "id": "automatic-queue",
   "metadata": {},
   "outputs": [],
   "source": [
    "for i in range(num_samples):\n",
    "    wiki_idx = randint(0, rand_range)\n",
    "    alpha_idx = 'AC'\n",
    "    if wiki_idx < 100:\n",
    "        alpha_idx = 'AA'\n",
    "    elif wiki_idx < 200:\n",
    "        alpha_idx = 'AB'\n",
    "    \n",
    "    num_idx = str(wiki_idx % 100)\n",
    "    num_idx = '0' + num_idx if len(num_idx) == 1 else num_idx\n",
    "\n",
    "    dataset_path = f'/u/scr/nlp/wikipedia/wikiextractor/text/{alpha_idx}/'\n",
    "    save_path = f'/sailhome/baom/bert-vis/data/wikipedia/{alpha_idx}/'\n",
    "\n",
    "    wiki_file = f'{dataset_path}/wiki_{num_idx}'\n",
    "    f = open(wiki_file, \"r\")\n",
    "    f_lines = f.readlines()\n",
    "    \n",
    "    line_idx = randint(0, len(f_lines) - 1)\n",
    "    \n",
    "    wiki_path = f'{save_path}/wiki_{num_idx}'\n",
    "    if not os.path.exists(wiki_path):\n",
    "        os.makedirs(wiki_path)\n",
    "\n",
    "    article = json.loads(f_lines[line_idx])\n",
    "    title = (article[\"title\"]).replace(\" \", \"_\").replace(\"/\", \"_\")\n",
    "    text = article[\"text\"]\n",
    "\n",
    "    topic_path = f'{wiki_path}/{title}_{line_idx}'\n",
    "    \n",
    "    if not os.path.exists(topic_path):\n",
    "        os.makedirs(topic_path)\n",
    "\n",
    "    with open(f'{topic_path}/doc.txt', 'w') as f:\n",
    "        f.write(text)"
   ]
  },
  {
   "cell_type": "code",
   "execution_count": null,
   "id": "fitting-mambo",
   "metadata": {},
   "outputs": [],
   "source": []
  }
 ],
 "metadata": {
  "kernelspec": {
   "display_name": "Python 3",
   "language": "python",
   "name": "python3"
  },
  "language_info": {
   "codemirror_mode": {
    "name": "ipython",
    "version": 3
   },
   "file_extension": ".py",
   "mimetype": "text/x-python",
   "name": "python",
   "nbconvert_exporter": "python",
   "pygments_lexer": "ipython3",
   "version": "3.7.10"
  }
 },
 "nbformat": 4,
 "nbformat_minor": 5
}
